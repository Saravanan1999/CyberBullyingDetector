{
 "cells": [
  {
   "cell_type": "markdown",
   "metadata": {},
   "source": [
    "# Logistic Regression"
   ]
  },
  {
   "cell_type": "code",
   "execution_count": null,
   "metadata": {},
   "outputs": [
    {
     "name": "stdout",
     "output_type": "stream",
     "text": [
      "Defaulting to user installation because normal site-packages is not writeable\n",
      "Collecting tensorflow_hub\n",
      "  Downloading tensorflow_hub-0.16.1-py2.py3-none-any.whl.metadata (1.3 kB)\n",
      "Requirement already satisfied: numpy>=1.12.0 in /Users/stygianphantom/Library/Python/3.9/lib/python/site-packages (from tensorflow_hub) (1.26.4)\n",
      "Requirement already satisfied: protobuf>=3.19.6 in /Users/stygianphantom/Library/Python/3.9/lib/python/site-packages (from tensorflow_hub) (4.25.6)\n",
      "Requirement already satisfied: tf-keras>=2.14.1 in /Users/stygianphantom/Library/Python/3.9/lib/python/site-packages (from tensorflow_hub) (2.19.0)\n",
      "Requirement already satisfied: tensorflow<2.20,>=2.19 in /Users/stygianphantom/Library/Python/3.9/lib/python/site-packages (from tf-keras>=2.14.1->tensorflow_hub) (2.19.0)\n",
      "Requirement already satisfied: absl-py>=1.0.0 in /Users/stygianphantom/Library/Python/3.9/lib/python/site-packages (from tensorflow<2.20,>=2.19->tf-keras>=2.14.1->tensorflow_hub) (2.1.0)\n",
      "Requirement already satisfied: astunparse>=1.6.0 in /Users/stygianphantom/Library/Python/3.9/lib/python/site-packages (from tensorflow<2.20,>=2.19->tf-keras>=2.14.1->tensorflow_hub) (1.6.3)\n",
      "Requirement already satisfied: flatbuffers>=24.3.25 in /Users/stygianphantom/Library/Python/3.9/lib/python/site-packages (from tensorflow<2.20,>=2.19->tf-keras>=2.14.1->tensorflow_hub) (24.3.25)\n",
      "Requirement already satisfied: gast!=0.5.0,!=0.5.1,!=0.5.2,>=0.2.1 in /Users/stygianphantom/Library/Python/3.9/lib/python/site-packages (from tensorflow<2.20,>=2.19->tf-keras>=2.14.1->tensorflow_hub) (0.4.0)\n",
      "Requirement already satisfied: google-pasta>=0.1.1 in /Users/stygianphantom/Library/Python/3.9/lib/python/site-packages (from tensorflow<2.20,>=2.19->tf-keras>=2.14.1->tensorflow_hub) (0.2.0)\n",
      "Requirement already satisfied: libclang>=13.0.0 in /Users/stygianphantom/Library/Python/3.9/lib/python/site-packages (from tensorflow<2.20,>=2.19->tf-keras>=2.14.1->tensorflow_hub) (18.1.1)\n",
      "Requirement already satisfied: opt-einsum>=2.3.2 in /Users/stygianphantom/Library/Python/3.9/lib/python/site-packages (from tensorflow<2.20,>=2.19->tf-keras>=2.14.1->tensorflow_hub) (3.4.0)\n",
      "Requirement already satisfied: packaging in /Users/stygianphantom/Library/Python/3.9/lib/python/site-packages (from tensorflow<2.20,>=2.19->tf-keras>=2.14.1->tensorflow_hub) (24.1)\n",
      "Requirement already satisfied: requests<3,>=2.21.0 in /Users/stygianphantom/Library/Python/3.9/lib/python/site-packages (from tensorflow<2.20,>=2.19->tf-keras>=2.14.1->tensorflow_hub) (2.32.3)\n",
      "Requirement already satisfied: setuptools in /Library/Developer/CommandLineTools/Library/Frameworks/Python3.framework/Versions/3.9/lib/python3.9/site-packages (from tensorflow<2.20,>=2.19->tf-keras>=2.14.1->tensorflow_hub) (58.0.4)\n",
      "Requirement already satisfied: six>=1.12.0 in /Library/Developer/CommandLineTools/Library/Frameworks/Python3.framework/Versions/3.9/lib/python3.9/site-packages (from tensorflow<2.20,>=2.19->tf-keras>=2.14.1->tensorflow_hub) (1.15.0)\n",
      "Requirement already satisfied: termcolor>=1.1.0 in /Users/stygianphantom/Library/Python/3.9/lib/python/site-packages (from tensorflow<2.20,>=2.19->tf-keras>=2.14.1->tensorflow_hub) (2.5.0)\n",
      "Requirement already satisfied: typing-extensions>=3.6.6 in /Users/stygianphantom/Library/Python/3.9/lib/python/site-packages (from tensorflow<2.20,>=2.19->tf-keras>=2.14.1->tensorflow_hub) (4.12.2)\n",
      "Requirement already satisfied: wrapt>=1.11.0 in /Users/stygianphantom/Library/Python/3.9/lib/python/site-packages (from tensorflow<2.20,>=2.19->tf-keras>=2.14.1->tensorflow_hub) (1.16.0)\n",
      "Requirement already satisfied: grpcio<2.0,>=1.24.3 in /Users/stygianphantom/Library/Python/3.9/lib/python/site-packages (from tensorflow<2.20,>=2.19->tf-keras>=2.14.1->tensorflow_hub) (1.67.1)\n",
      "Requirement already satisfied: tensorboard~=2.19.0 in /Users/stygianphantom/Library/Python/3.9/lib/python/site-packages (from tensorflow<2.20,>=2.19->tf-keras>=2.14.1->tensorflow_hub) (2.19.0)\n",
      "Requirement already satisfied: keras>=3.5.0 in /Users/stygianphantom/Library/Python/3.9/lib/python/site-packages (from tensorflow<2.20,>=2.19->tf-keras>=2.14.1->tensorflow_hub) (3.9.0)\n",
      "Requirement already satisfied: h5py>=3.11.0 in /Users/stygianphantom/Library/Python/3.9/lib/python/site-packages (from tensorflow<2.20,>=2.19->tf-keras>=2.14.1->tensorflow_hub) (3.12.1)\n",
      "Requirement already satisfied: ml-dtypes<1.0.0,>=0.5.1 in /Users/stygianphantom/Library/Python/3.9/lib/python/site-packages (from tensorflow<2.20,>=2.19->tf-keras>=2.14.1->tensorflow_hub) (0.5.1)\n",
      "Requirement already satisfied: tensorflow-io-gcs-filesystem>=0.23.1 in /Users/stygianphantom/Library/Python/3.9/lib/python/site-packages (from tensorflow<2.20,>=2.19->tf-keras>=2.14.1->tensorflow_hub) (0.37.1)\n",
      "Requirement already satisfied: wheel<1.0,>=0.23.0 in /Library/Developer/CommandLineTools/Library/Frameworks/Python3.framework/Versions/3.9/lib/python3.9/site-packages (from astunparse>=1.6.0->tensorflow<2.20,>=2.19->tf-keras>=2.14.1->tensorflow_hub) (0.37.0)\n",
      "Requirement already satisfied: rich in /Users/stygianphantom/Library/Python/3.9/lib/python/site-packages (from keras>=3.5.0->tensorflow<2.20,>=2.19->tf-keras>=2.14.1->tensorflow_hub) (13.9.4)\n",
      "Requirement already satisfied: namex in /Users/stygianphantom/Library/Python/3.9/lib/python/site-packages (from keras>=3.5.0->tensorflow<2.20,>=2.19->tf-keras>=2.14.1->tensorflow_hub) (0.0.8)\n",
      "Requirement already satisfied: optree in /Users/stygianphantom/Library/Python/3.9/lib/python/site-packages (from keras>=3.5.0->tensorflow<2.20,>=2.19->tf-keras>=2.14.1->tensorflow_hub) (0.13.1)\n",
      "Requirement already satisfied: charset-normalizer<4,>=2 in /Users/stygianphantom/Library/Python/3.9/lib/python/site-packages (from requests<3,>=2.21.0->tensorflow<2.20,>=2.19->tf-keras>=2.14.1->tensorflow_hub) (3.4.0)\n",
      "Requirement already satisfied: idna<4,>=2.5 in /Users/stygianphantom/Library/Python/3.9/lib/python/site-packages (from requests<3,>=2.21.0->tensorflow<2.20,>=2.19->tf-keras>=2.14.1->tensorflow_hub) (3.10)\n",
      "Requirement already satisfied: urllib3<3,>=1.21.1 in /Users/stygianphantom/Library/Python/3.9/lib/python/site-packages (from requests<3,>=2.21.0->tensorflow<2.20,>=2.19->tf-keras>=2.14.1->tensorflow_hub) (2.2.3)\n",
      "Requirement already satisfied: certifi>=2017.4.17 in /Users/stygianphantom/Library/Python/3.9/lib/python/site-packages (from requests<3,>=2.21.0->tensorflow<2.20,>=2.19->tf-keras>=2.14.1->tensorflow_hub) (2024.8.30)\n",
      "Requirement already satisfied: markdown>=2.6.8 in /Users/stygianphantom/Library/Python/3.9/lib/python/site-packages (from tensorboard~=2.19.0->tensorflow<2.20,>=2.19->tf-keras>=2.14.1->tensorflow_hub) (3.7)\n",
      "Requirement already satisfied: tensorboard-data-server<0.8.0,>=0.7.0 in /Users/stygianphantom/Library/Python/3.9/lib/python/site-packages (from tensorboard~=2.19.0->tensorflow<2.20,>=2.19->tf-keras>=2.14.1->tensorflow_hub) (0.7.2)\n",
      "Requirement already satisfied: werkzeug>=1.0.1 in /Users/stygianphantom/Library/Python/3.9/lib/python/site-packages (from tensorboard~=2.19.0->tensorflow<2.20,>=2.19->tf-keras>=2.14.1->tensorflow_hub) (3.1.3)\n",
      "Requirement already satisfied: importlib-metadata>=4.4 in /Users/stygianphantom/Library/Python/3.9/lib/python/site-packages (from markdown>=2.6.8->tensorboard~=2.19.0->tensorflow<2.20,>=2.19->tf-keras>=2.14.1->tensorflow_hub) (8.5.0)\n",
      "Requirement already satisfied: MarkupSafe>=2.1.1 in /Users/stygianphantom/Library/Python/3.9/lib/python/site-packages (from werkzeug>=1.0.1->tensorboard~=2.19.0->tensorflow<2.20,>=2.19->tf-keras>=2.14.1->tensorflow_hub) (3.0.2)\n",
      "Requirement already satisfied: markdown-it-py>=2.2.0 in /Users/stygianphantom/Library/Python/3.9/lib/python/site-packages (from rich->keras>=3.5.0->tensorflow<2.20,>=2.19->tf-keras>=2.14.1->tensorflow_hub) (3.0.0)\n",
      "Requirement already satisfied: pygments<3.0.0,>=2.13.0 in /Users/stygianphantom/Library/Python/3.9/lib/python/site-packages (from rich->keras>=3.5.0->tensorflow<2.20,>=2.19->tf-keras>=2.14.1->tensorflow_hub) (2.18.0)\n",
      "Requirement already satisfied: zipp>=3.20 in /Users/stygianphantom/Library/Python/3.9/lib/python/site-packages (from importlib-metadata>=4.4->markdown>=2.6.8->tensorboard~=2.19.0->tensorflow<2.20,>=2.19->tf-keras>=2.14.1->tensorflow_hub) (3.20.2)\n",
      "Requirement already satisfied: mdurl~=0.1 in /Users/stygianphantom/Library/Python/3.9/lib/python/site-packages (from markdown-it-py>=2.2.0->rich->keras>=3.5.0->tensorflow<2.20,>=2.19->tf-keras>=2.14.1->tensorflow_hub) (0.1.2)\n",
      "Downloading tensorflow_hub-0.16.1-py2.py3-none-any.whl (30 kB)\n",
      "Installing collected packages: tensorflow_hub\n",
      "Successfully installed tensorflow_hub-0.16.1\n",
      "\n",
      "\u001b[1m[\u001b[0m\u001b[34;49mnotice\u001b[0m\u001b[1;39;49m]\u001b[0m\u001b[39;49m A new release of pip is available: \u001b[0m\u001b[31;49m24.3.1\u001b[0m\u001b[39;49m -> \u001b[0m\u001b[32;49m25.0.1\u001b[0m\n",
      "\u001b[1m[\u001b[0m\u001b[34;49mnotice\u001b[0m\u001b[1;39;49m]\u001b[0m\u001b[39;49m To update, run: \u001b[0m\u001b[32;49m/Library/Developer/CommandLineTools/usr/bin/python3 -m pip install --upgrade pip\u001b[0m\n"
     ]
    }
   ],
   "source": [
    "# !pip install --upgrade gensim\n",
    "# !pip install tensorflow_hub\n",
    "import pandas as pd\n",
    "import numpy as np\n",
    "import re\n",
    "from sklearn.model_selection import train_test_split\n",
    "from sklearn.linear_model import LogisticRegression\n",
    "from sklearn.metrics import classification_report, accuracy_score\n",
    "from sklearn.feature_extraction.text import TfidfVectorizer\n",
    "import gensim\n",
    "from gensim.models import Word2Vec\n",
    "from gensim.utils import simple_preprocess\n",
    "import tensorflow as tf\n",
    "import tensorflow_hub as hub\n"
   ]
  },
  {
   "cell_type": "code",
   "execution_count": 9,
   "metadata": {},
   "outputs": [],
   "source": [
    "df = pd.read_csv(\"en_hf_112024.csv\")\n",
    "\n",
    "def basic_preprocessing(text):\n",
    "    text = text.lower()\n",
    "    text = re.sub(r\"http\\S+|www\\S+|https\\S+\", '', text, flags=re.MULTILINE)\n",
    "    text = re.sub(r\"@\\w+\", '', text)\n",
    "    text = re.sub(r\"[^\\w\\s]\", '', text)\n",
    "    text = text.strip()\n",
    "    return text\n",
    "\n",
    "df['clean_text'] = df['text'].astype(str).apply(basic_preprocessing)\n",
    "\n",
    "X = df['clean_text'].values\n",
    "y = df['labels'].values\n",
    "\n",
    "X_train, X_test, y_train, y_test = train_test_split(\n",
    "    X, y, \n",
    "    test_size=0.2,\n",
    "    random_state=42,\n",
    "    stratify=y\n",
    ")"
   ]
  },
  {
   "cell_type": "code",
   "execution_count": 17,
   "metadata": {},
   "outputs": [
    {
     "name": "stderr",
     "output_type": "stream",
     "text": [
      "/Users/stygianphantom/Library/Python/3.9/lib/python/site-packages/sklearn/linear_model/_logistic.py:1271: UserWarning: 'n_jobs' > 1 does not have any effect when 'solver' is set to 'liblinear'. Got 'n_jobs' = 11.\n",
      "  warnings.warn(\n"
     ]
    },
    {
     "name": "stdout",
     "output_type": "stream",
     "text": [
      "=== TF-IDF (Optimized for Precision & Recall) ===\n",
      "Accuracy: 0.7763075770815129\n",
      "Recall: 0.703169881001231\n",
      "Precision: 0.57002079002079\n",
      "              precision    recall  f1-score   support\n",
      "\n",
      "         0.0       0.88      0.80      0.84     52603\n",
      "         1.0       0.57      0.70      0.63     19496\n",
      "\n",
      "    accuracy                           0.78     72099\n",
      "   macro avg       0.72      0.75      0.73     72099\n",
      "weighted avg       0.80      0.78      0.78     72099\n",
      "\n"
     ]
    }
   ],
   "source": [
    "from sklearn.metrics import classification_report, accuracy_score, precision_recall_fscore_support\n",
    "from imblearn.under_sampling import RandomUnderSampler\n",
    "\n",
    "tfidf_vectorizer = TfidfVectorizer(\n",
    "    min_df=3, \n",
    "    max_df=0.9, \n",
    "    ngram_range=(1,2),  \n",
    "    max_features=10000,  # Reduced vocabulary size for better precision\n",
    "    analyzer='word',  \n",
    "    stop_words='english'  \n",
    ")\n",
    "\n",
    "X_train_tfidf = tfidf_vectorizer.fit_transform(X_train)\n",
    "X_test_tfidf = tfidf_vectorizer.transform(X_test)\n",
    "\n",
    "# Apply undersampling instead of SMOTE\n",
    "rus = RandomUnderSampler(sampling_strategy=0.6, random_state=42)\n",
    "X_train_tfidf_resampled, y_train_resampled = rus.fit_resample(X_train_tfidf, y_train)\n",
    "\n",
    "##########################\n",
    "# 2) Logistic Regression (Optimized for Balanced Recall & Precision)\n",
    "##########################\n",
    "lr_tfidf = LogisticRegression(\n",
    "    max_iter=1000, \n",
    "    C=0.2,  # More regularization to improve generalization\n",
    "    class_weight=\"balanced\",\n",
    "    solver=\"liblinear\",  \n",
    "    n_jobs=-1  \n",
    ")\n",
    "\n",
    "lr_tfidf.fit(X_train_tfidf_resampled, y_train_resampled)\n",
    "\n",
    "# Get probabilities for threshold adjustment\n",
    "y_proba_tfidf = lr_tfidf.predict_proba(X_test_tfidf)[:, 1]\n",
    "\n",
    "# Adjust threshold to improve precision\n",
    "threshold = 0.5  # Increased threshold to reduce false positives\n",
    "y_pred_tfidf = (y_proba_tfidf >= threshold).astype(int)\n",
    "\n",
    "print(\"=== TF-IDF (Optimized for Precision & Recall) ===\")\n",
    "print(\"Accuracy:\", accuracy_score(y_test, y_pred_tfidf))\n",
    "print(\"Recall:\", precision_recall_fscore_support(y_test, y_pred_tfidf, average='binary')[1])\n",
    "print(\"Precision:\", precision_recall_fscore_support(y_test, y_pred_tfidf, average='binary')[0])\n",
    "print(classification_report(y_test, y_pred_tfidf))"
   ]
  },
  {
   "cell_type": "markdown",
   "metadata": {},
   "source": [
    "# Word2Vec"
   ]
  },
  {
   "cell_type": "code",
   "execution_count": null,
   "metadata": {},
   "outputs": [
    {
     "name": "stdout",
     "output_type": "stream",
     "text": [
      "=== Threshold Tuning (Word2Vec + Logistic Regression) ===\n",
      "Threshold: 0.40 | Precision: 0.401 | Recall: 0.851 | F1: 0.545\n",
      "Threshold: 0.45 | Precision: 0.434 | Recall: 0.774 | F1: 0.556\n",
      "Threshold: 0.48 | Precision: 0.458 | Recall: 0.719 | F1: 0.560\n",
      "Threshold: 0.50 | Precision: 0.474 | Recall: 0.684 | F1: 0.560\n",
      "Threshold: 0.52 | Precision: 0.490 | Recall: 0.648 | F1: 0.558\n",
      "Threshold: 0.55 | Precision: 0.514 | Recall: 0.591 | F1: 0.550\n",
      "\n",
      "=== Final Evaluation at Best Threshold ===\n",
      "Best Threshold: 0.50\n",
      "Accuracy: 0.7091083094078975\n",
      "Recall: 0.6844480919162905\n",
      "Precision: 0.47377951358068526\n",
      "              precision    recall  f1-score   support\n",
      "\n",
      "         0.0       0.86      0.72      0.78     52603\n",
      "         1.0       0.47      0.68      0.56     19496\n",
      "\n",
      "    accuracy                           0.71     72099\n",
      "   macro avg       0.67      0.70      0.67     72099\n",
      "weighted avg       0.76      0.71      0.72     72099\n",
      "\n"
     ]
    }
   ],
   "source": [
    "import pandas as pd\n",
    "import numpy as np\n",
    "import re\n",
    "from sklearn.model_selection import train_test_split\n",
    "from sklearn.linear_model import LogisticRegression\n",
    "from sklearn.metrics import (\n",
    "    classification_report,\n",
    "    accuracy_score,\n",
    "    precision_recall_fscore_support\n",
    ")\n",
    "from gensim.models import Word2Vec\n",
    "from gensim.utils import simple_preprocess\n",
    "from imblearn.under_sampling import RandomUnderSampler\n",
    "import warnings\n",
    "warnings.filterwarnings('ignore')\n",
    "\n",
    "# 1. Load and Preprocess Dataset\n",
    "df = pd.read_csv(\"en_hf_112024.csv\")\n",
    "\n",
    "def basic_preprocessing(text):\n",
    "    text = text.lower()\n",
    "    text = re.sub(r\"http\\S+|www\\S+|https\\S+\", '', text)\n",
    "    text = re.sub(r\"@\\w+\", '', text)\n",
    "    text = re.sub(r\"[^\\w\\s]\", '', text)\n",
    "    text = text.strip()\n",
    "    return text\n",
    "\n",
    "df['clean_text'] = df['text'].astype(str).apply(basic_preprocessing)\n",
    "\n",
    "X = df['clean_text'].values\n",
    "y = df['labels'].values\n",
    "\n",
    "X_train, X_test, y_train, y_test = train_test_split(\n",
    "    X, y,\n",
    "    test_size=0.2,\n",
    "    random_state=42,\n",
    "    stratify=y\n",
    ")\n",
    "\n",
    "# 2. Train Word2Vec Model on Training Data\n",
    "train_tokens = [simple_preprocess(doc) for doc in X_train]\n",
    "\n",
    "w2v_model = Word2Vec(\n",
    "    sentences=train_tokens,\n",
    "    vector_size=100,\n",
    "    window=5,\n",
    "    min_count=2,\n",
    "    workers=4,\n",
    "    sg=1,  # skip-gram\n",
    "    epochs=10\n",
    ")\n",
    "\n",
    "# 3. Convert Sentences to Average Word2Vec Vectors\n",
    "def get_average_vector(tokens, model, vector_size=100):\n",
    "    valid_tokens = [t for t in tokens if t in model.wv.key_to_index]\n",
    "    if not valid_tokens:\n",
    "        return np.zeros(vector_size)\n",
    "    return np.mean([model.wv[t] for t in valid_tokens], axis=0)\n",
    "\n",
    "X_train_w2v = np.array([\n",
    "    get_average_vector(simple_preprocess(doc), w2v_model)\n",
    "    for doc in X_train\n",
    "])\n",
    "\n",
    "X_test_w2v = np.array([\n",
    "    get_average_vector(simple_preprocess(doc), w2v_model)\n",
    "    for doc in X_test\n",
    "])\n",
    "\n",
    "# 4. Apply Random UnderSampling to handle class imbalance\n",
    "rus = RandomUnderSampler(sampling_strategy=0.6, random_state=42)\n",
    "X_train_w2v_resampled, y_train_resampled = rus.fit_resample(X_train_w2v, y_train)\n",
    "\n",
    "# 5. Train Logistic Regression\n",
    "lr_w2v = LogisticRegression(\n",
    "    max_iter=1000,\n",
    "    C=0.2,\n",
    "    class_weight='balanced',\n",
    "    solver='liblinear',\n",
    "    n_jobs=-1\n",
    ")\n",
    "\n",
    "lr_w2v.fit(X_train_w2v_resampled, y_train_resampled)\n",
    "\n",
    "# 6. Get Probabilities for Threshold Tuning\n",
    "y_proba_w2v = lr_w2v.predict_proba(X_test_w2v)[:, 1]\n",
    "\n",
    "# 7. Threshold Tuning Loop\n",
    "print(\"=== Threshold Tuning (Word2Vec + Logistic Regression) ===\")\n",
    "best_f1 = 0\n",
    "best_threshold = 0.5\n",
    "\n",
    "for threshold in [0.4, 0.45, 0.48, 0.5, 0.52, 0.55]:\n",
    "    y_pred_thresh = (y_proba_w2v >= threshold).astype(int)\n",
    "    precision, recall, f1, _ = precision_recall_fscore_support(\n",
    "        y_test, y_pred_thresh, average='binary', zero_division=0\n",
    "    )\n",
    "    print(f\"Threshold: {threshold:.2f} | Precision: {precision:.3f} | Recall: {recall:.3f} | F1: {f1:.3f}\")\n",
    "    if f1 > best_f1:\n",
    "        best_f1 = f1\n",
    "        best_threshold = threshold\n",
    "\n",
    "# 8. Final Evaluation Using Best Threshold\n",
    "print(\"\\n=== Final Evaluation at Best Threshold ===\")\n",
    "y_pred_final = (y_proba_w2v >= best_threshold).astype(int)\n",
    "print(f\"Best Threshold: {best_threshold:.2f}\")\n",
    "print(\"Accuracy:\", accuracy_score(y_test, y_pred_final))\n",
    "print(\"Recall:\", precision_recall_fscore_support(y_test, y_pred_final, average='binary')[1])\n",
    "print(\"Precision:\", precision_recall_fscore_support(y_test, y_pred_final, average='binary')[0])\n",
    "print(classification_report(y_test, y_pred_final))\n"
   ]
  },
  {
   "cell_type": "code",
   "execution_count": null,
   "metadata": {},
   "outputs": [],
   "source": []
  },
  {
   "cell_type": "markdown",
   "metadata": {},
   "source": [
    "# XGBoost"
   ]
  },
  {
   "cell_type": "code",
   "execution_count": 19,
   "metadata": {},
   "outputs": [
    {
     "name": "stdout",
     "output_type": "stream",
     "text": [
      "TF-IDF shape: (288394, 30000)\n"
     ]
    }
   ],
   "source": [
    "import pandas as pd\n",
    "import numpy as np\n",
    "import re\n",
    "from sklearn.model_selection import train_test_split, RandomizedSearchCV, GridSearchCV\n",
    "from sklearn.feature_extraction.text import TfidfVectorizer\n",
    "from sklearn.metrics import classification_report, make_scorer, precision_recall_fscore_support\n",
    "from xgboost import XGBClassifier\n",
    "import warnings\n",
    "\n",
    "warnings.filterwarnings('ignore', category=UserWarning)\n",
    "\n",
    "# 1.1 Load dataset\n",
    "df = pd.read_csv(\"en_hf_112024.csv\")\n",
    "\n",
    "# 1.2 Basic text cleaning\n",
    "def basic_preprocessing(text):\n",
    "    text = text.lower()\n",
    "    text = re.sub(r\"http\\S+|www\\S+|https\\S+\", '', text)\n",
    "    text = re.sub(r\"@\\w+\", '', text)\n",
    "    text = re.sub(r\"[^\\w\\s]\", '', text)\n",
    "    text = text.strip()\n",
    "    return text\n",
    "\n",
    "df[\"clean_text\"] = df[\"text\"].astype(str).apply(basic_preprocessing)\n",
    "\n",
    "# 1.3 Separate features & labels\n",
    "X = df[\"clean_text\"].values\n",
    "y = df[\"labels\"].values\n",
    "\n",
    "# 1.4 Train-test split\n",
    "X_train, X_test, y_train, y_test = train_test_split(\n",
    "    X, y, \n",
    "    test_size=0.2,\n",
    "    random_state=42,\n",
    "    stratify=y\n",
    ")\n",
    "\n",
    "# 1.5 Vectorize with TF-IDF\n",
    "tfidf = TfidfVectorizer(\n",
    "    min_df=2,\n",
    "    max_df=0.95,\n",
    "    ngram_range=(1,2),\n",
    "    max_features=30000,     # Adjust based on memory/performance\n",
    "    stop_words=\"english\"    # Common practice to remove English stopwords\n",
    ")\n",
    "\n",
    "X_train_tfidf = tfidf.fit_transform(X_train)\n",
    "X_test_tfidf  = tfidf.transform(X_test)\n",
    "\n",
    "print(\"TF-IDF shape:\", X_train_tfidf.shape)\n"
   ]
  },
  {
   "cell_type": "code",
   "execution_count": null,
   "metadata": {},
   "outputs": [
    {
     "name": "stdout",
     "output_type": "stream",
     "text": [
      "Fitting 3 folds for each of 20 candidates, totalling 60 fits\n",
      "[CV] END colsample_bytree=0.8, learning_rate=0.05, max_depth=5, n_estimators=500, scale_pos_weight=2, subsample=0.8; total time=10.6min\n",
      "[CV] END colsample_bytree=0.8, learning_rate=0.05, max_depth=5, n_estimators=500, scale_pos_weight=2, subsample=0.8; total time=10.9min\n",
      "[CV] END colsample_bytree=0.8, learning_rate=0.05, max_depth=5, n_estimators=500, scale_pos_weight=2, subsample=0.8; total time=10.9min\n",
      "[CV] END colsample_bytree=0.6, learning_rate=0.2, max_depth=7, n_estimators=300, scale_pos_weight=2, subsample=1.0; total time=12.9min\n",
      "[CV] END colsample_bytree=0.6, learning_rate=0.2, max_depth=7, n_estimators=300, scale_pos_weight=2, subsample=1.0; total time=13.2min\n",
      "[CV] END colsample_bytree=0.6, learning_rate=0.2, max_depth=7, n_estimators=300, scale_pos_weight=2, subsample=1.0; total time=13.4min\n",
      "[CV] END colsample_bytree=1.0, learning_rate=0.05, max_depth=3, n_estimators=100, scale_pos_weight=4, subsample=0.6; total time=  24.1s\n",
      "[CV] END colsample_bytree=1.0, learning_rate=0.05, max_depth=3, n_estimators=100, scale_pos_weight=4, subsample=0.6; total time=  24.0s\n",
      "[CV] END colsample_bytree=1.0, learning_rate=0.05, max_depth=3, n_estimators=100, scale_pos_weight=4, subsample=0.6; total time=  22.2s\n",
      "[CV] END colsample_bytree=0.8, learning_rate=0.01, max_depth=7, n_estimators=300, scale_pos_weight=1, subsample=0.6; total time=25.6min\n",
      "[CV] END colsample_bytree=0.8, learning_rate=0.01, max_depth=7, n_estimators=300, scale_pos_weight=1, subsample=0.6; total time=27.4min\n",
      "[CV] END colsample_bytree=0.8, learning_rate=0.05, max_depth=3, n_estimators=500, scale_pos_weight=3, subsample=1.0; total time= 1.7min\n",
      "[CV] END colsample_bytree=0.8, learning_rate=0.05, max_depth=3, n_estimators=500, scale_pos_weight=3, subsample=1.0; total time= 1.5min\n",
      "[CV] END colsample_bytree=0.8, learning_rate=0.05, max_depth=3, n_estimators=500, scale_pos_weight=3, subsample=1.0; total time= 1.5min\n",
      "[CV] END colsample_bytree=0.8, learning_rate=0.01, max_depth=7, n_estimators=300, scale_pos_weight=1, subsample=0.6; total time=29.4min\n",
      "[CV] END colsample_bytree=0.6, learning_rate=0.05, max_depth=5, n_estimators=500, scale_pos_weight=1, subsample=0.6; total time=11.3min\n",
      "[CV] END colsample_bytree=0.8, learning_rate=0.1, max_depth=9, n_estimators=300, scale_pos_weight=2, subsample=0.6; total time=36.9min\n",
      "[CV] END colsample_bytree=0.8, learning_rate=0.1, max_depth=9, n_estimators=300, scale_pos_weight=2, subsample=0.6; total time=37.5min\n",
      "[CV] END colsample_bytree=0.8, learning_rate=0.1, max_depth=3, n_estimators=500, scale_pos_weight=5, subsample=0.6; total time= 1.8min\n",
      "[CV] END colsample_bytree=0.8, learning_rate=0.1, max_depth=9, n_estimators=300, scale_pos_weight=2, subsample=0.6; total time=37.3min\n",
      "[CV] END colsample_bytree=0.8, learning_rate=0.1, max_depth=3, n_estimators=500, scale_pos_weight=5, subsample=0.6; total time= 1.9min\n",
      "[CV] END colsample_bytree=0.6, learning_rate=0.05, max_depth=5, n_estimators=500, scale_pos_weight=1, subsample=0.6; total time=10.8min\n",
      "[CV] END colsample_bytree=0.8, learning_rate=0.1, max_depth=3, n_estimators=500, scale_pos_weight=5, subsample=0.6; total time= 1.8min\n",
      "[CV] END colsample_bytree=0.6, learning_rate=0.05, max_depth=5, n_estimators=500, scale_pos_weight=1, subsample=0.6; total time=10.5min\n",
      "[CV] END colsample_bytree=0.6, learning_rate=0.01, max_depth=7, n_estimators=100, scale_pos_weight=4, subsample=0.8; total time=12.7min\n",
      "[CV] END colsample_bytree=0.8, learning_rate=0.01, max_depth=7, n_estimators=700, scale_pos_weight=2, subsample=1.0; total time=67.0min\n",
      "[CV] END colsample_bytree=0.6, learning_rate=0.01, max_depth=7, n_estimators=100, scale_pos_weight=4, subsample=0.8; total time=13.5min\n",
      "[CV] END colsample_bytree=0.8, learning_rate=0.2, max_depth=3, n_estimators=100, scale_pos_weight=2, subsample=1.0; total time=  21.6s\n",
      "[CV] END colsample_bytree=0.8, learning_rate=0.2, max_depth=3, n_estimators=100, scale_pos_weight=2, subsample=1.0; total time=  34.2s\n",
      "[CV] END colsample_bytree=0.8, learning_rate=0.2, max_depth=3, n_estimators=100, scale_pos_weight=2, subsample=1.0; total time=  38.6s\n",
      "[CV] END colsample_bytree=0.8, learning_rate=0.01, max_depth=7, n_estimators=700, scale_pos_weight=2, subsample=1.0; total time=82.9min\n",
      "[CV] END colsample_bytree=0.8, learning_rate=0.01, max_depth=7, n_estimators=700, scale_pos_weight=2, subsample=1.0; total time=83.0min\n",
      "[CV] END colsample_bytree=0.6, learning_rate=0.2, max_depth=3, n_estimators=700, scale_pos_weight=2, subsample=0.8; total time=17.3min\n",
      "[CV] END colsample_bytree=0.6, learning_rate=0.2, max_depth=3, n_estimators=700, scale_pos_weight=2, subsample=0.8; total time=17.3min\n",
      "[CV] END colsample_bytree=0.6, learning_rate=0.2, max_depth=3, n_estimators=700, scale_pos_weight=2, subsample=0.8; total time=10.3min\n",
      "[CV] END colsample_bytree=0.6, learning_rate=0.01, max_depth=7, n_estimators=100, scale_pos_weight=4, subsample=0.8; total time=36.3min\n",
      "[CV] END colsample_bytree=0.8, learning_rate=0.1, max_depth=5, n_estimators=300, scale_pos_weight=1, subsample=0.6; total time= 9.0min\n",
      "[CV] END colsample_bytree=0.8, learning_rate=0.1, max_depth=5, n_estimators=300, scale_pos_weight=1, subsample=0.6; total time= 6.7min\n",
      "[CV] END colsample_bytree=0.8, learning_rate=0.1, max_depth=5, n_estimators=300, scale_pos_weight=1, subsample=0.6; total time= 6.8min\n",
      "[CV] END colsample_bytree=0.6, learning_rate=0.05, max_depth=9, n_estimators=700, scale_pos_weight=1, subsample=0.8; total time=97.3min\n",
      "[CV] END colsample_bytree=0.6, learning_rate=0.05, max_depth=9, n_estimators=700, scale_pos_weight=1, subsample=0.8; total time=99.4min\n",
      "[CV] END colsample_bytree=1.0, learning_rate=0.1, max_depth=3, n_estimators=500, scale_pos_weight=2, subsample=0.6; total time= 1.7min\n",
      "[CV] END colsample_bytree=1.0, learning_rate=0.1, max_depth=3, n_estimators=500, scale_pos_weight=2, subsample=0.6; total time= 2.2min\n",
      "[CV] END colsample_bytree=1.0, learning_rate=0.1, max_depth=3, n_estimators=500, scale_pos_weight=2, subsample=0.6; total time= 1.9min\n",
      "[CV] END colsample_bytree=0.8, learning_rate=0.05, max_depth=3, n_estimators=300, scale_pos_weight=1, subsample=0.6; total time=  56.3s\n",
      "[CV] END colsample_bytree=0.8, learning_rate=0.05, max_depth=3, n_estimators=300, scale_pos_weight=1, subsample=0.6; total time=  54.6s\n",
      "[CV] END colsample_bytree=0.8, learning_rate=0.05, max_depth=3, n_estimators=300, scale_pos_weight=1, subsample=0.6; total time= 1.1min\n",
      "[CV] END colsample_bytree=0.6, learning_rate=0.05, max_depth=9, n_estimators=700, scale_pos_weight=1, subsample=0.8; total time=99.2min\n",
      "[CV] END colsample_bytree=1.0, learning_rate=0.2, max_depth=9, n_estimators=500, scale_pos_weight=2, subsample=0.6; total time=42.4min\n",
      "[CV] END colsample_bytree=1.0, learning_rate=0.2, max_depth=9, n_estimators=500, scale_pos_weight=2, subsample=0.6; total time=42.5min\n",
      "[CV] END colsample_bytree=1.0, learning_rate=0.2, max_depth=9, n_estimators=500, scale_pos_weight=2, subsample=0.6; total time=41.1min\n",
      "[CV] END colsample_bytree=0.6, learning_rate=0.2, max_depth=9, n_estimators=700, scale_pos_weight=4, subsample=0.8; total time=47.1min\n",
      "[CV] END colsample_bytree=0.6, learning_rate=0.2, max_depth=9, n_estimators=700, scale_pos_weight=4, subsample=0.8; total time=45.5min\n",
      "[CV] END colsample_bytree=1.0, learning_rate=0.05, max_depth=9, n_estimators=700, scale_pos_weight=3, subsample=0.6; total time=87.7min\n",
      "[CV] END colsample_bytree=1.0, learning_rate=0.05, max_depth=9, n_estimators=700, scale_pos_weight=3, subsample=0.6; total time=85.8min\n",
      "[CV] END colsample_bytree=1.0, learning_rate=0.05, max_depth=9, n_estimators=700, scale_pos_weight=3, subsample=0.6; total time=85.9min\n",
      "[CV] END colsample_bytree=1.0, learning_rate=0.01, max_depth=9, n_estimators=500, scale_pos_weight=2, subsample=1.0; total time=122.2min\n",
      "[CV] END colsample_bytree=1.0, learning_rate=0.01, max_depth=9, n_estimators=500, scale_pos_weight=2, subsample=1.0; total time=123.0min\n",
      "[CV] END colsample_bytree=1.0, learning_rate=0.01, max_depth=9, n_estimators=500, scale_pos_weight=2, subsample=1.0; total time=123.1min\n",
      "[CV] END colsample_bytree=0.6, learning_rate=0.2, max_depth=9, n_estimators=700, scale_pos_weight=4, subsample=0.8; total time=24.7min\n",
      "\n",
      "=== Random Search Results ===\n",
      "Best Params: {'subsample': 0.8, 'scale_pos_weight': 4, 'n_estimators': 100, 'max_depth': 7, 'learning_rate': 0.01, 'colsample_bytree': 0.6}\n",
      "Best Recall Score: 0.9764429749234504\n",
      "Fitting 3 folds for each of 81 candidates, totalling 243 fits\n"
     ]
    },
    {
     "name": "stderr",
     "output_type": "stream",
     "text": [
      "/Users/stygianphantom/Library/Python/3.9/lib/python/site-packages/xgboost/core.py:158: UserWarning: [23:21:54] WARNING: /Users/runner/work/xgboost/xgboost/src/learner.cc:740: \n",
      "Parameters: { \"use_label_encoder\" } are not used.\n",
      "\n",
      "  warnings.warn(smsg, UserWarning)\n",
      "/Users/stygianphantom/Library/Python/3.9/lib/python/site-packages/xgboost/core.py:158: UserWarning: [23:21:54] WARNING: /Users/runner/work/xgboost/xgboost/src/learner.cc:740: \n",
      "Parameters: { \"use_label_encoder\" } are not used.\n",
      "\n",
      "  warnings.warn(smsg, UserWarning)\n",
      "/Users/stygianphantom/Library/Python/3.9/lib/python/site-packages/xgboost/core.py:158: UserWarning: [23:21:54] WARNING: /Users/runner/work/xgboost/xgboost/src/learner.cc:740: \n",
      "Parameters: { \"use_label_encoder\" } are not used.\n",
      "\n",
      "  warnings.warn(smsg, UserWarning)\n",
      "/Users/stygianphantom/Library/Python/3.9/lib/python/site-packages/xgboost/core.py:158: UserWarning: [23:21:54] WARNING: /Users/runner/work/xgboost/xgboost/src/learner.cc:740: \n",
      "Parameters: { \"use_label_encoder\" } are not used.\n",
      "\n",
      "  warnings.warn(smsg, UserWarning)\n",
      "/Users/stygianphantom/Library/Python/3.9/lib/python/site-packages/xgboost/core.py:158: UserWarning: [23:21:54] WARNING: /Users/runner/work/xgboost/xgboost/src/learner.cc:740: \n",
      "Parameters: { \"use_label_encoder\" } are not used.\n",
      "\n",
      "  warnings.warn(smsg, UserWarning)\n",
      "/Users/stygianphantom/Library/Python/3.9/lib/python/site-packages/xgboost/core.py:158: UserWarning: [23:21:54] WARNING: /Users/runner/work/xgboost/xgboost/src/learner.cc:740: \n",
      "Parameters: { \"use_label_encoder\" } are not used.\n",
      "\n",
      "  warnings.warn(smsg, UserWarning)\n",
      "/Users/stygianphantom/Library/Python/3.9/lib/python/site-packages/xgboost/core.py:158: UserWarning: [23:21:54] WARNING: /Users/runner/work/xgboost/xgboost/src/learner.cc:740: \n",
      "Parameters: { \"use_label_encoder\" } are not used.\n",
      "\n",
      "  warnings.warn(smsg, UserWarning)\n",
      "/Users/stygianphantom/Library/Python/3.9/lib/python/site-packages/xgboost/core.py:158: UserWarning: [23:21:54] WARNING: /Users/runner/work/xgboost/xgboost/src/learner.cc:740: \n",
      "Parameters: { \"use_label_encoder\" } are not used.\n",
      "\n",
      "  warnings.warn(smsg, UserWarning)\n"
     ]
    },
    {
     "name": "stdout",
     "output_type": "stream",
     "text": [
      "[CV] END learning_rate=0.005, max_depth=6, n_estimators=0, scale_pos_weight=3; total time=   1.1s\n",
      "[CV] END learning_rate=0.005, max_depth=6, n_estimators=0, scale_pos_weight=4; total time=   1.1s\n",
      "[CV] END learning_rate=0.005, max_depth=6, n_estimators=0, scale_pos_weight=4; total time=   1.1s\n",
      "[CV] END learning_rate=0.005, max_depth=6, n_estimators=0, scale_pos_weight=3; total time=   1.1s\n",
      "[CV] END learning_rate=0.005, max_depth=6, n_estimators=0, scale_pos_weight=4; total time=   1.1s\n",
      "[CV] END learning_rate=0.005, max_depth=6, n_estimators=0, scale_pos_weight=5; total time=   1.1s\n",
      "[CV] END learning_rate=0.005, max_depth=6, n_estimators=0, scale_pos_weight=3; total time=   1.1s\n",
      "[CV] END learning_rate=0.005, max_depth=6, n_estimators=0, scale_pos_weight=5; total time=   1.1s\n"
     ]
    },
    {
     "name": "stderr",
     "output_type": "stream",
     "text": [
      "/Users/stygianphantom/Library/Python/3.9/lib/python/site-packages/xgboost/core.py:158: UserWarning: [23:21:55] WARNING: /Users/runner/work/xgboost/xgboost/src/learner.cc:740: \n",
      "Parameters: { \"use_label_encoder\" } are not used.\n",
      "\n",
      "  warnings.warn(smsg, UserWarning)\n",
      "/Users/stygianphantom/Library/Python/3.9/lib/python/site-packages/xgboost/core.py:158: UserWarning: [23:21:55] WARNING: /Users/runner/work/xgboost/xgboost/src/learner.cc:740: \n",
      "Parameters: { \"use_label_encoder\" } are not used.\n",
      "\n",
      "  warnings.warn(smsg, UserWarning)\n",
      "/Users/stygianphantom/Library/Python/3.9/lib/python/site-packages/xgboost/core.py:158: UserWarning: [23:21:56] WARNING: /Users/runner/work/xgboost/xgboost/src/learner.cc:740: \n",
      "Parameters: { \"use_label_encoder\" } are not used.\n",
      "\n",
      "  warnings.warn(smsg, UserWarning)\n",
      "/Users/stygianphantom/Library/Python/3.9/lib/python/site-packages/xgboost/core.py:158: UserWarning: [23:21:56] WARNING: /Users/runner/work/xgboost/xgboost/src/learner.cc:740: \n",
      "Parameters: { \"use_label_encoder\" } are not used.\n",
      "\n",
      "  warnings.warn(smsg, UserWarning)\n",
      "/Users/stygianphantom/Library/Python/3.9/lib/python/site-packages/xgboost/core.py:158: UserWarning: [23:21:56] WARNING: /Users/runner/work/xgboost/xgboost/src/learner.cc:740: \n",
      "Parameters: { \"use_label_encoder\" } are not used.\n",
      "\n",
      "  warnings.warn(smsg, UserWarning)\n",
      "/Users/stygianphantom/Library/Python/3.9/lib/python/site-packages/xgboost/core.py:158: UserWarning: [23:21:56] WARNING: /Users/runner/work/xgboost/xgboost/src/learner.cc:740: \n",
      "Parameters: { \"use_label_encoder\" } are not used.\n",
      "\n",
      "  warnings.warn(smsg, UserWarning)\n",
      "/Users/stygianphantom/Library/Python/3.9/lib/python/site-packages/xgboost/core.py:158: UserWarning: [23:21:56] WARNING: /Users/runner/work/xgboost/xgboost/src/learner.cc:740: \n",
      "Parameters: { \"use_label_encoder\" } are not used.\n",
      "\n",
      "  warnings.warn(smsg, UserWarning)\n",
      "/Users/stygianphantom/Library/Python/3.9/lib/python/site-packages/xgboost/core.py:158: UserWarning: [23:21:56] WARNING: /Users/runner/work/xgboost/xgboost/src/learner.cc:740: \n",
      "Parameters: { \"use_label_encoder\" } are not used.\n",
      "\n",
      "  warnings.warn(smsg, UserWarning)\n"
     ]
    },
    {
     "name": "stdout",
     "output_type": "stream",
     "text": [
      "[CV] END learning_rate=0.005, max_depth=6, n_estimators=0, scale_pos_weight=5; total time=   1.0s\n"
     ]
    },
    {
     "name": "stderr",
     "output_type": "stream",
     "text": [
      "/Users/stygianphantom/Library/Python/3.9/lib/python/site-packages/xgboost/core.py:158: UserWarning: [23:21:57] WARNING: /Users/runner/work/xgboost/xgboost/src/learner.cc:740: \n",
      "Parameters: { \"use_label_encoder\" } are not used.\n",
      "\n",
      "  warnings.warn(smsg, UserWarning)\n",
      "/Users/stygianphantom/Library/Python/3.9/lib/python/site-packages/xgboost/core.py:158: UserWarning: [23:21:58] WARNING: /Users/runner/work/xgboost/xgboost/src/learner.cc:740: \n",
      "Parameters: { \"use_label_encoder\" } are not used.\n",
      "\n",
      "  warnings.warn(smsg, UserWarning)\n",
      "/Users/stygianphantom/Library/Python/3.9/lib/python/site-packages/xgboost/core.py:158: UserWarning: [23:21:58] WARNING: /Users/runner/work/xgboost/xgboost/src/learner.cc:740: \n",
      "Parameters: { \"use_label_encoder\" } are not used.\n",
      "\n",
      "  warnings.warn(smsg, UserWarning)\n",
      "/Users/stygianphantom/Library/Python/3.9/lib/python/site-packages/xgboost/core.py:158: UserWarning: [23:21:58] WARNING: /Users/runner/work/xgboost/xgboost/src/learner.cc:740: \n",
      "Parameters: { \"use_label_encoder\" } are not used.\n",
      "\n",
      "  warnings.warn(smsg, UserWarning)\n"
     ]
    },
    {
     "name": "stdout",
     "output_type": "stream",
     "text": [
      "[CV] END learning_rate=0.005, max_depth=6, n_estimators=100, scale_pos_weight=3; total time= 6.3min\n"
     ]
    },
    {
     "name": "stderr",
     "output_type": "stream",
     "text": [
      "/Users/stygianphantom/Library/Python/3.9/lib/python/site-packages/xgboost/core.py:158: UserWarning: [23:28:13] WARNING: /Users/runner/work/xgboost/xgboost/src/learner.cc:740: \n",
      "Parameters: { \"use_label_encoder\" } are not used.\n",
      "\n",
      "  warnings.warn(smsg, UserWarning)\n"
     ]
    },
    {
     "name": "stdout",
     "output_type": "stream",
     "text": [
      "[CV] END learning_rate=0.005, max_depth=6, n_estimators=100, scale_pos_weight=4; total time= 6.6min\n"
     ]
    },
    {
     "name": "stderr",
     "output_type": "stream",
     "text": [
      "/Users/stygianphantom/Library/Python/3.9/lib/python/site-packages/xgboost/core.py:158: UserWarning: [23:28:34] WARNING: /Users/runner/work/xgboost/xgboost/src/learner.cc:740: \n",
      "Parameters: { \"use_label_encoder\" } are not used.\n",
      "\n",
      "  warnings.warn(smsg, UserWarning)\n"
     ]
    },
    {
     "name": "stdout",
     "output_type": "stream",
     "text": [
      "[CV] END learning_rate=0.005, max_depth=6, n_estimators=100, scale_pos_weight=3; total time= 6.7min\n",
      "[CV] END learning_rate=0.005, max_depth=6, n_estimators=100, scale_pos_weight=4; total time= 6.7min\n"
     ]
    },
    {
     "name": "stderr",
     "output_type": "stream",
     "text": [
      "/Users/stygianphantom/Library/Python/3.9/lib/python/site-packages/xgboost/core.py:158: UserWarning: [23:28:40] WARNING: /Users/runner/work/xgboost/xgboost/src/learner.cc:740: \n",
      "Parameters: { \"use_label_encoder\" } are not used.\n",
      "\n",
      "  warnings.warn(smsg, UserWarning)\n",
      "/Users/stygianphantom/Library/Python/3.9/lib/python/site-packages/xgboost/core.py:158: UserWarning: [23:28:40] WARNING: /Users/runner/work/xgboost/xgboost/src/learner.cc:740: \n",
      "Parameters: { \"use_label_encoder\" } are not used.\n",
      "\n",
      "  warnings.warn(smsg, UserWarning)\n"
     ]
    },
    {
     "name": "stdout",
     "output_type": "stream",
     "text": [
      "[CV] END learning_rate=0.005, max_depth=6, n_estimators=100, scale_pos_weight=5; total time= 6.8min\n",
      "[CV] END learning_rate=0.005, max_depth=6, n_estimators=100, scale_pos_weight=3; total time= 6.8min\n"
     ]
    },
    {
     "name": "stderr",
     "output_type": "stream",
     "text": [
      "/Users/stygianphantom/Library/Python/3.9/lib/python/site-packages/xgboost/core.py:158: UserWarning: [23:28:41] WARNING: /Users/runner/work/xgboost/xgboost/src/learner.cc:740: \n",
      "Parameters: { \"use_label_encoder\" } are not used.\n",
      "\n",
      "  warnings.warn(smsg, UserWarning)\n"
     ]
    },
    {
     "name": "stdout",
     "output_type": "stream",
     "text": [
      "[CV] END learning_rate=0.005, max_depth=6, n_estimators=100, scale_pos_weight=5; total time= 6.7min\n"
     ]
    },
    {
     "name": "stderr",
     "output_type": "stream",
     "text": [
      "/Users/stygianphantom/Library/Python/3.9/lib/python/site-packages/xgboost/core.py:158: UserWarning: [23:28:42] WARNING: /Users/runner/work/xgboost/xgboost/src/learner.cc:740: \n",
      "Parameters: { \"use_label_encoder\" } are not used.\n",
      "\n",
      "  warnings.warn(smsg, UserWarning)\n",
      "/Users/stygianphantom/Library/Python/3.9/lib/python/site-packages/xgboost/core.py:158: UserWarning: [23:28:43] WARNING: /Users/runner/work/xgboost/xgboost/src/learner.cc:740: \n",
      "Parameters: { \"use_label_encoder\" } are not used.\n",
      "\n",
      "  warnings.warn(smsg, UserWarning)\n"
     ]
    },
    {
     "name": "stdout",
     "output_type": "stream",
     "text": [
      "[CV] END learning_rate=0.005, max_depth=6, n_estimators=100, scale_pos_weight=4; total time= 6.9min\n"
     ]
    },
    {
     "name": "stderr",
     "output_type": "stream",
     "text": [
      "/Users/stygianphantom/Library/Python/3.9/lib/python/site-packages/xgboost/core.py:158: UserWarning: [23:28:50] WARNING: /Users/runner/work/xgboost/xgboost/src/learner.cc:740: \n",
      "Parameters: { \"use_label_encoder\" } are not used.\n",
      "\n",
      "  warnings.warn(smsg, UserWarning)\n"
     ]
    },
    {
     "name": "stdout",
     "output_type": "stream",
     "text": [
      "[CV] END learning_rate=0.005, max_depth=7, n_estimators=0, scale_pos_weight=3; total time=   1.2s\n"
     ]
    },
    {
     "name": "stderr",
     "output_type": "stream",
     "text": [
      "/Users/stygianphantom/Library/Python/3.9/lib/python/site-packages/xgboost/core.py:158: UserWarning: [23:28:52] WARNING: /Users/runner/work/xgboost/xgboost/src/learner.cc:740: \n",
      "Parameters: { \"use_label_encoder\" } are not used.\n",
      "\n",
      "  warnings.warn(smsg, UserWarning)\n"
     ]
    },
    {
     "name": "stdout",
     "output_type": "stream",
     "text": [
      "[CV] END learning_rate=0.005, max_depth=7, n_estimators=0, scale_pos_weight=3; total time=   1.6s\n"
     ]
    },
    {
     "name": "stderr",
     "output_type": "stream",
     "text": [
      "/Users/stygianphantom/Library/Python/3.9/lib/python/site-packages/xgboost/core.py:158: UserWarning: [23:28:53] WARNING: /Users/runner/work/xgboost/xgboost/src/learner.cc:740: \n",
      "Parameters: { \"use_label_encoder\" } are not used.\n",
      "\n",
      "  warnings.warn(smsg, UserWarning)\n"
     ]
    },
    {
     "name": "stdout",
     "output_type": "stream",
     "text": [
      "[CV] END learning_rate=0.005, max_depth=7, n_estimators=0, scale_pos_weight=3; total time=   1.4s\n"
     ]
    },
    {
     "name": "stderr",
     "output_type": "stream",
     "text": [
      "/Users/stygianphantom/Library/Python/3.9/lib/python/site-packages/xgboost/core.py:158: UserWarning: [23:28:55] WARNING: /Users/runner/work/xgboost/xgboost/src/learner.cc:740: \n",
      "Parameters: { \"use_label_encoder\" } are not used.\n",
      "\n",
      "  warnings.warn(smsg, UserWarning)\n"
     ]
    },
    {
     "name": "stdout",
     "output_type": "stream",
     "text": [
      "[CV] END learning_rate=0.005, max_depth=7, n_estimators=0, scale_pos_weight=4; total time=   1.4s\n",
      "[CV] END learning_rate=0.005, max_depth=6, n_estimators=100, scale_pos_weight=5; total time= 7.0min\n"
     ]
    },
    {
     "name": "stderr",
     "output_type": "stream",
     "text": [
      "/Users/stygianphantom/Library/Python/3.9/lib/python/site-packages/xgboost/core.py:158: UserWarning: [23:28:56] WARNING: /Users/runner/work/xgboost/xgboost/src/learner.cc:740: \n",
      "Parameters: { \"use_label_encoder\" } are not used.\n",
      "\n",
      "  warnings.warn(smsg, UserWarning)\n"
     ]
    },
    {
     "name": "stdout",
     "output_type": "stream",
     "text": [
      "[CV] END learning_rate=0.005, max_depth=7, n_estimators=0, scale_pos_weight=4; total time=   1.3s\n"
     ]
    },
    {
     "name": "stderr",
     "output_type": "stream",
     "text": [
      "/Users/stygianphantom/Library/Python/3.9/lib/python/site-packages/xgboost/core.py:158: UserWarning: [23:28:57] WARNING: /Users/runner/work/xgboost/xgboost/src/learner.cc:740: \n",
      "Parameters: { \"use_label_encoder\" } are not used.\n",
      "\n",
      "  warnings.warn(smsg, UserWarning)\n"
     ]
    },
    {
     "name": "stdout",
     "output_type": "stream",
     "text": [
      "[CV] END learning_rate=0.005, max_depth=7, n_estimators=0, scale_pos_weight=4; total time=   1.2s\n"
     ]
    },
    {
     "name": "stderr",
     "output_type": "stream",
     "text": [
      "/Users/stygianphantom/Library/Python/3.9/lib/python/site-packages/xgboost/core.py:158: UserWarning: [23:28:57] WARNING: /Users/runner/work/xgboost/xgboost/src/learner.cc:740: \n",
      "Parameters: { \"use_label_encoder\" } are not used.\n",
      "\n",
      "  warnings.warn(smsg, UserWarning)\n"
     ]
    },
    {
     "name": "stdout",
     "output_type": "stream",
     "text": [
      "[CV] END learning_rate=0.005, max_depth=7, n_estimators=0, scale_pos_weight=5; total time=   1.3s\n"
     ]
    },
    {
     "name": "stderr",
     "output_type": "stream",
     "text": [
      "/Users/stygianphantom/Library/Python/3.9/lib/python/site-packages/xgboost/core.py:158: UserWarning: [23:28:58] WARNING: /Users/runner/work/xgboost/xgboost/src/learner.cc:740: \n",
      "Parameters: { \"use_label_encoder\" } are not used.\n",
      "\n",
      "  warnings.warn(smsg, UserWarning)\n"
     ]
    },
    {
     "name": "stdout",
     "output_type": "stream",
     "text": [
      "[CV] END learning_rate=0.005, max_depth=7, n_estimators=0, scale_pos_weight=5; total time=   1.3s\n"
     ]
    },
    {
     "name": "stderr",
     "output_type": "stream",
     "text": [
      "/Users/stygianphantom/Library/Python/3.9/lib/python/site-packages/xgboost/core.py:158: UserWarning: [23:28:59] WARNING: /Users/runner/work/xgboost/xgboost/src/learner.cc:740: \n",
      "Parameters: { \"use_label_encoder\" } are not used.\n",
      "\n",
      "  warnings.warn(smsg, UserWarning)\n"
     ]
    },
    {
     "name": "stdout",
     "output_type": "stream",
     "text": [
      "[CV] END learning_rate=0.005, max_depth=7, n_estimators=0, scale_pos_weight=5; total time=   1.5s\n"
     ]
    },
    {
     "name": "stderr",
     "output_type": "stream",
     "text": [
      "/Users/stygianphantom/Library/Python/3.9/lib/python/site-packages/xgboost/core.py:158: UserWarning: [23:28:59] WARNING: /Users/runner/work/xgboost/xgboost/src/learner.cc:740: \n",
      "Parameters: { \"use_label_encoder\" } are not used.\n",
      "\n",
      "  warnings.warn(smsg, UserWarning)\n",
      "/Users/stygianphantom/Library/Python/3.9/lib/python/site-packages/xgboost/core.py:158: UserWarning: [23:29:00] WARNING: /Users/runner/work/xgboost/xgboost/src/learner.cc:740: \n",
      "Parameters: { \"use_label_encoder\" } are not used.\n",
      "\n",
      "  warnings.warn(smsg, UserWarning)\n"
     ]
    },
    {
     "name": "stdout",
     "output_type": "stream",
     "text": [
      "[CV] END learning_rate=0.005, max_depth=6, n_estimators=200, scale_pos_weight=3; total time=13.5min\n"
     ]
    },
    {
     "name": "stderr",
     "output_type": "stream",
     "text": [
      "/Users/stygianphantom/Library/Python/3.9/lib/python/site-packages/xgboost/core.py:158: UserWarning: [23:35:26] WARNING: /Users/runner/work/xgboost/xgboost/src/learner.cc:740: \n",
      "Parameters: { \"use_label_encoder\" } are not used.\n",
      "\n",
      "  warnings.warn(smsg, UserWarning)\n"
     ]
    },
    {
     "name": "stdout",
     "output_type": "stream",
     "text": [
      "[CV] END learning_rate=0.005, max_depth=6, n_estimators=200, scale_pos_weight=3; total time=13.9min\n"
     ]
    },
    {
     "name": "stderr",
     "output_type": "stream",
     "text": [
      "/Users/stygianphantom/Library/Python/3.9/lib/python/site-packages/xgboost/core.py:158: UserWarning: [23:35:51] WARNING: /Users/runner/work/xgboost/xgboost/src/learner.cc:740: \n",
      "Parameters: { \"use_label_encoder\" } are not used.\n",
      "\n",
      "  warnings.warn(smsg, UserWarning)\n"
     ]
    },
    {
     "name": "stdout",
     "output_type": "stream",
     "text": [
      "[CV] END learning_rate=0.005, max_depth=7, n_estimators=100, scale_pos_weight=3; total time=11.1min\n"
     ]
    },
    {
     "name": "stderr",
     "output_type": "stream",
     "text": [
      "/Users/stygianphantom/Library/Python/3.9/lib/python/site-packages/xgboost/core.py:158: UserWarning: [23:40:04] WARNING: /Users/runner/work/xgboost/xgboost/src/learner.cc:740: \n",
      "Parameters: { \"use_label_encoder\" } are not used.\n",
      "\n",
      "  warnings.warn(smsg, UserWarning)\n"
     ]
    },
    {
     "name": "stdout",
     "output_type": "stream",
     "text": [
      "[CV] END learning_rate=0.005, max_depth=7, n_estimators=100, scale_pos_weight=3; total time=11.2min\n"
     ]
    },
    {
     "name": "stderr",
     "output_type": "stream",
     "text": [
      "/Users/stygianphantom/Library/Python/3.9/lib/python/site-packages/xgboost/core.py:158: UserWarning: [23:40:13] WARNING: /Users/runner/work/xgboost/xgboost/src/learner.cc:740: \n",
      "Parameters: { \"use_label_encoder\" } are not used.\n",
      "\n",
      "  warnings.warn(smsg, UserWarning)\n"
     ]
    },
    {
     "name": "stdout",
     "output_type": "stream",
     "text": [
      "[CV] END learning_rate=0.005, max_depth=6, n_estimators=200, scale_pos_weight=3; total time=14.4min\n"
     ]
    },
    {
     "name": "stderr",
     "output_type": "stream",
     "text": [
      "/Users/stygianphantom/Library/Python/3.9/lib/python/site-packages/xgboost/core.py:158: UserWarning: [23:42:35] WARNING: /Users/runner/work/xgboost/xgboost/src/learner.cc:740: \n",
      "Parameters: { \"use_label_encoder\" } are not used.\n",
      "\n",
      "  warnings.warn(smsg, UserWarning)\n"
     ]
    },
    {
     "name": "stdout",
     "output_type": "stream",
     "text": [
      "[CV] END learning_rate=0.005, max_depth=6, n_estimators=200, scale_pos_weight=4; total time=14.3min\n"
     ]
    },
    {
     "name": "stderr",
     "output_type": "stream",
     "text": [
      "/Users/stygianphantom/Library/Python/3.9/lib/python/site-packages/xgboost/core.py:158: UserWarning: [23:42:50] WARNING: /Users/runner/work/xgboost/xgboost/src/learner.cc:740: \n",
      "Parameters: { \"use_label_encoder\" } are not used.\n",
      "\n",
      "  warnings.warn(smsg, UserWarning)\n"
     ]
    },
    {
     "name": "stdout",
     "output_type": "stream",
     "text": [
      "[CV] END learning_rate=0.005, max_depth=6, n_estimators=200, scale_pos_weight=5; total time=14.2min\n"
     ]
    },
    {
     "name": "stderr",
     "output_type": "stream",
     "text": [
      "/Users/stygianphantom/Library/Python/3.9/lib/python/site-packages/xgboost/core.py:158: UserWarning: [23:42:55] WARNING: /Users/runner/work/xgboost/xgboost/src/learner.cc:740: \n",
      "Parameters: { \"use_label_encoder\" } are not used.\n",
      "\n",
      "  warnings.warn(smsg, UserWarning)\n"
     ]
    },
    {
     "name": "stdout",
     "output_type": "stream",
     "text": [
      "[CV] END learning_rate=0.005, max_depth=6, n_estimators=200, scale_pos_weight=4; total time=14.5min\n"
     ]
    },
    {
     "name": "stderr",
     "output_type": "stream",
     "text": [
      "/Users/stygianphantom/Library/Python/3.9/lib/python/site-packages/xgboost/core.py:158: UserWarning: [23:43:09] WARNING: /Users/runner/work/xgboost/xgboost/src/learner.cc:740: \n",
      "Parameters: { \"use_label_encoder\" } are not used.\n",
      "\n",
      "  warnings.warn(smsg, UserWarning)\n"
     ]
    },
    {
     "name": "stdout",
     "output_type": "stream",
     "text": [
      "[CV] END learning_rate=0.005, max_depth=6, n_estimators=200, scale_pos_weight=5; total time=14.5min\n",
      "[CV] END learning_rate=0.005, max_depth=6, n_estimators=200, scale_pos_weight=4; total time=14.5min\n"
     ]
    },
    {
     "name": "stderr",
     "output_type": "stream",
     "text": [
      "/Users/stygianphantom/Library/Python/3.9/lib/python/site-packages/xgboost/core.py:158: UserWarning: [23:43:10] WARNING: /Users/runner/work/xgboost/xgboost/src/learner.cc:740: \n",
      "Parameters: { \"use_label_encoder\" } are not used.\n",
      "\n",
      "  warnings.warn(smsg, UserWarning)\n",
      "/Users/stygianphantom/Library/Python/3.9/lib/python/site-packages/xgboost/core.py:158: UserWarning: [23:43:11] WARNING: /Users/runner/work/xgboost/xgboost/src/learner.cc:740: \n",
      "Parameters: { \"use_label_encoder\" } are not used.\n",
      "\n",
      "  warnings.warn(smsg, UserWarning)\n"
     ]
    },
    {
     "name": "stdout",
     "output_type": "stream",
     "text": [
      "[CV] END learning_rate=0.005, max_depth=6, n_estimators=200, scale_pos_weight=5; total time=14.6min\n"
     ]
    },
    {
     "name": "stderr",
     "output_type": "stream",
     "text": [
      "/Users/stygianphantom/Library/Python/3.9/lib/python/site-packages/xgboost/core.py:158: UserWarning: [23:43:18] WARNING: /Users/runner/work/xgboost/xgboost/src/learner.cc:740: \n",
      "Parameters: { \"use_label_encoder\" } are not used.\n",
      "\n",
      "  warnings.warn(smsg, UserWarning)\n"
     ]
    },
    {
     "name": "stdout",
     "output_type": "stream",
     "text": [
      "[CV] END learning_rate=0.005, max_depth=7, n_estimators=100, scale_pos_weight=3; total time=11.1min\n"
     ]
    },
    {
     "name": "stderr",
     "output_type": "stream",
     "text": [
      "/Users/stygianphantom/Library/Python/3.9/lib/python/site-packages/xgboost/core.py:158: UserWarning: [23:46:36] WARNING: /Users/runner/work/xgboost/xgboost/src/learner.cc:740: \n",
      "Parameters: { \"use_label_encoder\" } are not used.\n",
      "\n",
      "  warnings.warn(smsg, UserWarning)\n"
     ]
    },
    {
     "name": "stdout",
     "output_type": "stream",
     "text": [
      "[CV] END learning_rate=0.005, max_depth=7, n_estimators=100, scale_pos_weight=4; total time=12.2min\n"
     ]
    },
    {
     "name": "stderr",
     "output_type": "stream",
     "text": [
      "/Users/stygianphantom/Library/Python/3.9/lib/python/site-packages/xgboost/core.py:158: UserWarning: [23:48:01] WARNING: /Users/runner/work/xgboost/xgboost/src/learner.cc:740: \n",
      "Parameters: { \"use_label_encoder\" } are not used.\n",
      "\n",
      "  warnings.warn(smsg, UserWarning)\n"
     ]
    },
    {
     "name": "stdout",
     "output_type": "stream",
     "text": [
      "[CV] END learning_rate=0.005, max_depth=7, n_estimators=100, scale_pos_weight=4; total time=12.6min\n"
     ]
    },
    {
     "name": "stderr",
     "output_type": "stream",
     "text": [
      "/Users/stygianphantom/Library/Python/3.9/lib/python/site-packages/xgboost/core.py:158: UserWarning: [23:52:49] WARNING: /Users/runner/work/xgboost/xgboost/src/learner.cc:740: \n",
      "Parameters: { \"use_label_encoder\" } are not used.\n",
      "\n",
      "  warnings.warn(smsg, UserWarning)\n"
     ]
    },
    {
     "name": "stdout",
     "output_type": "stream",
     "text": [
      "[CV] END learning_rate=0.005, max_depth=7, n_estimators=100, scale_pos_weight=4; total time=13.1min\n"
     ]
    },
    {
     "name": "stderr",
     "output_type": "stream",
     "text": [
      "/Users/stygianphantom/Library/Python/3.9/lib/python/site-packages/xgboost/core.py:158: UserWarning: [23:53:09] WARNING: /Users/runner/work/xgboost/xgboost/src/learner.cc:740: \n",
      "Parameters: { \"use_label_encoder\" } are not used.\n",
      "\n",
      "  warnings.warn(smsg, UserWarning)\n"
     ]
    },
    {
     "name": "stdout",
     "output_type": "stream",
     "text": [
      "[CV] END learning_rate=0.005, max_depth=7, n_estimators=100, scale_pos_weight=5; total time=12.8min\n"
     ]
    },
    {
     "name": "stderr",
     "output_type": "stream",
     "text": [
      "/Users/stygianphantom/Library/Python/3.9/lib/python/site-packages/xgboost/core.py:158: UserWarning: [23:55:22] WARNING: /Users/runner/work/xgboost/xgboost/src/learner.cc:740: \n",
      "Parameters: { \"use_label_encoder\" } are not used.\n",
      "\n",
      "  warnings.warn(smsg, UserWarning)\n"
     ]
    },
    {
     "name": "stdout",
     "output_type": "stream",
     "text": [
      "[CV] END learning_rate=0.005, max_depth=7, n_estimators=100, scale_pos_weight=5; total time=12.8min\n"
     ]
    },
    {
     "name": "stderr",
     "output_type": "stream",
     "text": [
      "/Users/stygianphantom/Library/Python/3.9/lib/python/site-packages/xgboost/core.py:158: UserWarning: [23:55:41] WARNING: /Users/runner/work/xgboost/xgboost/src/learner.cc:740: \n",
      "Parameters: { \"use_label_encoder\" } are not used.\n",
      "\n",
      "  warnings.warn(smsg, UserWarning)\n"
     ]
    },
    {
     "name": "stdout",
     "output_type": "stream",
     "text": [
      "[CV] END learning_rate=0.005, max_depth=8, n_estimators=0, scale_pos_weight=3; total time=   1.7s\n"
     ]
    },
    {
     "name": "stderr",
     "output_type": "stream",
     "text": [
      "/Users/stygianphantom/Library/Python/3.9/lib/python/site-packages/xgboost/core.py:158: UserWarning: [23:55:43] WARNING: /Users/runner/work/xgboost/xgboost/src/learner.cc:740: \n",
      "Parameters: { \"use_label_encoder\" } are not used.\n",
      "\n",
      "  warnings.warn(smsg, UserWarning)\n"
     ]
    },
    {
     "name": "stdout",
     "output_type": "stream",
     "text": [
      "[CV] END learning_rate=0.005, max_depth=8, n_estimators=0, scale_pos_weight=3; total time=   1.8s\n"
     ]
    },
    {
     "name": "stderr",
     "output_type": "stream",
     "text": [
      "/Users/stygianphantom/Library/Python/3.9/lib/python/site-packages/xgboost/core.py:158: UserWarning: [23:55:45] WARNING: /Users/runner/work/xgboost/xgboost/src/learner.cc:740: \n",
      "Parameters: { \"use_label_encoder\" } are not used.\n",
      "\n",
      "  warnings.warn(smsg, UserWarning)\n"
     ]
    },
    {
     "name": "stdout",
     "output_type": "stream",
     "text": [
      "[CV] END learning_rate=0.005, max_depth=8, n_estimators=0, scale_pos_weight=3; total time=   1.9s\n"
     ]
    },
    {
     "name": "stderr",
     "output_type": "stream",
     "text": [
      "/Users/stygianphantom/Library/Python/3.9/lib/python/site-packages/xgboost/core.py:158: UserWarning: [23:55:47] WARNING: /Users/runner/work/xgboost/xgboost/src/learner.cc:740: \n",
      "Parameters: { \"use_label_encoder\" } are not used.\n",
      "\n",
      "  warnings.warn(smsg, UserWarning)\n"
     ]
    },
    {
     "name": "stdout",
     "output_type": "stream",
     "text": [
      "[CV] END learning_rate=0.005, max_depth=8, n_estimators=0, scale_pos_weight=4; total time=   2.1s\n"
     ]
    },
    {
     "name": "stderr",
     "output_type": "stream",
     "text": [
      "/Users/stygianphantom/Library/Python/3.9/lib/python/site-packages/xgboost/core.py:158: UserWarning: [23:55:48] WARNING: /Users/runner/work/xgboost/xgboost/src/learner.cc:740: \n",
      "Parameters: { \"use_label_encoder\" } are not used.\n",
      "\n",
      "  warnings.warn(smsg, UserWarning)\n"
     ]
    },
    {
     "name": "stdout",
     "output_type": "stream",
     "text": [
      "[CV] END learning_rate=0.005, max_depth=8, n_estimators=0, scale_pos_weight=4; total time=   1.6s\n"
     ]
    },
    {
     "name": "stderr",
     "output_type": "stream",
     "text": [
      "/Users/stygianphantom/Library/Python/3.9/lib/python/site-packages/xgboost/core.py:158: UserWarning: [23:55:50] WARNING: /Users/runner/work/xgboost/xgboost/src/learner.cc:740: \n",
      "Parameters: { \"use_label_encoder\" } are not used.\n",
      "\n",
      "  warnings.warn(smsg, UserWarning)\n"
     ]
    },
    {
     "name": "stdout",
     "output_type": "stream",
     "text": [
      "[CV] END learning_rate=0.005, max_depth=8, n_estimators=0, scale_pos_weight=4; total time=   1.9s\n"
     ]
    },
    {
     "name": "stderr",
     "output_type": "stream",
     "text": [
      "/Users/stygianphantom/Library/Python/3.9/lib/python/site-packages/xgboost/core.py:158: UserWarning: [23:55:52] WARNING: /Users/runner/work/xgboost/xgboost/src/learner.cc:740: \n",
      "Parameters: { \"use_label_encoder\" } are not used.\n",
      "\n",
      "  warnings.warn(smsg, UserWarning)\n"
     ]
    },
    {
     "name": "stdout",
     "output_type": "stream",
     "text": [
      "[CV] END learning_rate=0.005, max_depth=8, n_estimators=0, scale_pos_weight=5; total time=   2.1s\n"
     ]
    },
    {
     "name": "stderr",
     "output_type": "stream",
     "text": [
      "/Users/stygianphantom/Library/Python/3.9/lib/python/site-packages/xgboost/core.py:158: UserWarning: [23:55:54] WARNING: /Users/runner/work/xgboost/xgboost/src/learner.cc:740: \n",
      "Parameters: { \"use_label_encoder\" } are not used.\n",
      "\n",
      "  warnings.warn(smsg, UserWarning)\n"
     ]
    },
    {
     "name": "stdout",
     "output_type": "stream",
     "text": [
      "[CV] END learning_rate=0.005, max_depth=8, n_estimators=0, scale_pos_weight=5; total time=   1.7s\n"
     ]
    },
    {
     "name": "stderr",
     "output_type": "stream",
     "text": [
      "/Users/stygianphantom/Library/Python/3.9/lib/python/site-packages/xgboost/core.py:158: UserWarning: [23:55:56] WARNING: /Users/runner/work/xgboost/xgboost/src/learner.cc:740: \n",
      "Parameters: { \"use_label_encoder\" } are not used.\n",
      "\n",
      "  warnings.warn(smsg, UserWarning)\n"
     ]
    },
    {
     "name": "stdout",
     "output_type": "stream",
     "text": [
      "[CV] END learning_rate=0.005, max_depth=8, n_estimators=0, scale_pos_weight=5; total time=   2.0s\n"
     ]
    },
    {
     "name": "stderr",
     "output_type": "stream",
     "text": [
      "/Users/stygianphantom/Library/Python/3.9/lib/python/site-packages/xgboost/core.py:158: UserWarning: [23:55:58] WARNING: /Users/runner/work/xgboost/xgboost/src/learner.cc:740: \n",
      "Parameters: { \"use_label_encoder\" } are not used.\n",
      "\n",
      "  warnings.warn(smsg, UserWarning)\n"
     ]
    },
    {
     "name": "stdout",
     "output_type": "stream",
     "text": [
      "[CV] END learning_rate=0.005, max_depth=7, n_estimators=100, scale_pos_weight=5; total time=14.1min\n"
     ]
    },
    {
     "name": "stderr",
     "output_type": "stream",
     "text": [
      "/Users/stygianphantom/Library/Python/3.9/lib/python/site-packages/xgboost/core.py:158: UserWarning: [23:56:55] WARNING: /Users/runner/work/xgboost/xgboost/src/learner.cc:740: \n",
      "Parameters: { \"use_label_encoder\" } are not used.\n",
      "\n",
      "  warnings.warn(smsg, UserWarning)\n"
     ]
    },
    {
     "name": "stdout",
     "output_type": "stream",
     "text": [
      "[CV] END learning_rate=0.005, max_depth=7, n_estimators=200, scale_pos_weight=3; total time=25.7min\n"
     ]
    },
    {
     "name": "stderr",
     "output_type": "stream",
     "text": [
      "/Users/stygianphantom/Library/Python/3.9/lib/python/site-packages/xgboost/core.py:158: UserWarning: [00:08:51] WARNING: /Users/runner/work/xgboost/xgboost/src/learner.cc:740: \n",
      "Parameters: { \"use_label_encoder\" } are not used.\n",
      "\n",
      "  warnings.warn(smsg, UserWarning)\n"
     ]
    },
    {
     "name": "stdout",
     "output_type": "stream",
     "text": [
      "[CV] END learning_rate=0.005, max_depth=7, n_estimators=200, scale_pos_weight=3; total time=26.3min\n"
     ]
    },
    {
     "name": "stderr",
     "output_type": "stream",
     "text": [
      "/Users/stygianphantom/Library/Python/3.9/lib/python/site-packages/xgboost/core.py:158: UserWarning: [00:09:29] WARNING: /Users/runner/work/xgboost/xgboost/src/learner.cc:740: \n",
      "Parameters: { \"use_label_encoder\" } are not used.\n",
      "\n",
      "  warnings.warn(smsg, UserWarning)\n"
     ]
    },
    {
     "name": "stdout",
     "output_type": "stream",
     "text": [
      "[CV] END learning_rate=0.005, max_depth=7, n_estimators=200, scale_pos_weight=3; total time=26.8min\n"
     ]
    },
    {
     "name": "stderr",
     "output_type": "stream",
     "text": [
      "/Users/stygianphantom/Library/Python/3.9/lib/python/site-packages/xgboost/core.py:158: UserWarning: [00:09:55] WARNING: /Users/runner/work/xgboost/xgboost/src/learner.cc:740: \n",
      "Parameters: { \"use_label_encoder\" } are not used.\n",
      "\n",
      "  warnings.warn(smsg, UserWarning)\n"
     ]
    },
    {
     "name": "stdout",
     "output_type": "stream",
     "text": [
      "[CV] END learning_rate=0.005, max_depth=7, n_estimators=200, scale_pos_weight=4; total time=27.2min\n"
     ]
    },
    {
     "name": "stderr",
     "output_type": "stream",
     "text": [
      "/Users/stygianphantom/Library/Python/3.9/lib/python/site-packages/xgboost/core.py:158: UserWarning: [00:10:30] WARNING: /Users/runner/work/xgboost/xgboost/src/learner.cc:740: \n",
      "Parameters: { \"use_label_encoder\" } are not used.\n",
      "\n",
      "  warnings.warn(smsg, UserWarning)\n"
     ]
    },
    {
     "name": "stdout",
     "output_type": "stream",
     "text": [
      "[CV] END learning_rate=0.005, max_depth=7, n_estimators=200, scale_pos_weight=4; total time=27.1min\n"
     ]
    },
    {
     "name": "stderr",
     "output_type": "stream",
     "text": [
      "/Users/stygianphantom/Library/Python/3.9/lib/python/site-packages/xgboost/core.py:158: UserWarning: [00:13:42] WARNING: /Users/runner/work/xgboost/xgboost/src/learner.cc:740: \n",
      "Parameters: { \"use_label_encoder\" } are not used.\n",
      "\n",
      "  warnings.warn(smsg, UserWarning)\n"
     ]
    },
    {
     "name": "stdout",
     "output_type": "stream",
     "text": [
      "[CV] END learning_rate=0.005, max_depth=7, n_estimators=200, scale_pos_weight=4; total time=25.9min\n",
      "[CV] END learning_rate=0.005, max_depth=8, n_estimators=100, scale_pos_weight=3; total time=18.0min\n"
     ]
    },
    {
     "name": "stderr",
     "output_type": "stream",
     "text": [
      "/Users/stygianphantom/Library/Python/3.9/lib/python/site-packages/xgboost/core.py:158: UserWarning: [00:13:57] WARNING: /Users/runner/work/xgboost/xgboost/src/learner.cc:740: \n",
      "Parameters: { \"use_label_encoder\" } are not used.\n",
      "\n",
      "  warnings.warn(smsg, UserWarning)\n",
      "/Users/stygianphantom/Library/Python/3.9/lib/python/site-packages/xgboost/core.py:158: UserWarning: [00:13:58] WARNING: /Users/runner/work/xgboost/xgboost/src/learner.cc:740: \n",
      "Parameters: { \"use_label_encoder\" } are not used.\n",
      "\n",
      "  warnings.warn(smsg, UserWarning)\n"
     ]
    },
    {
     "name": "stdout",
     "output_type": "stream",
     "text": [
      "[CV] END learning_rate=0.005, max_depth=8, n_estimators=100, scale_pos_weight=3; total time=17.7min\n"
     ]
    },
    {
     "name": "stderr",
     "output_type": "stream",
     "text": [
      "/Users/stygianphantom/Library/Python/3.9/lib/python/site-packages/xgboost/core.py:158: UserWarning: [00:14:38] WARNING: /Users/runner/work/xgboost/xgboost/src/learner.cc:740: \n",
      "Parameters: { \"use_label_encoder\" } are not used.\n",
      "\n",
      "  warnings.warn(smsg, UserWarning)\n"
     ]
    },
    {
     "name": "stdout",
     "output_type": "stream",
     "text": [
      "[CV] END learning_rate=0.005, max_depth=7, n_estimators=200, scale_pos_weight=5; total time=25.9min\n"
     ]
    },
    {
     "name": "stderr",
     "output_type": "stream",
     "text": [
      "/Users/stygianphantom/Library/Python/3.9/lib/python/site-packages/xgboost/core.py:158: UserWarning: [00:18:44] WARNING: /Users/runner/work/xgboost/xgboost/src/learner.cc:740: \n",
      "Parameters: { \"use_label_encoder\" } are not used.\n",
      "\n",
      "  warnings.warn(smsg, UserWarning)\n"
     ]
    },
    {
     "name": "stdout",
     "output_type": "stream",
     "text": [
      "[CV] END learning_rate=0.005, max_depth=7, n_estimators=200, scale_pos_weight=5; total time=26.4min\n"
     ]
    },
    {
     "name": "stderr",
     "output_type": "stream",
     "text": [
      "/Users/stygianphantom/Library/Python/3.9/lib/python/site-packages/xgboost/core.py:158: UserWarning: [00:19:33] WARNING: /Users/runner/work/xgboost/xgboost/src/learner.cc:740: \n",
      "Parameters: { \"use_label_encoder\" } are not used.\n",
      "\n",
      "  warnings.warn(smsg, UserWarning)\n"
     ]
    },
    {
     "name": "stdout",
     "output_type": "stream",
     "text": [
      "[CV] END learning_rate=0.005, max_depth=7, n_estimators=200, scale_pos_weight=5; total time=25.4min\n"
     ]
    },
    {
     "name": "stderr",
     "output_type": "stream",
     "text": [
      "/Users/stygianphantom/Library/Python/3.9/lib/python/site-packages/xgboost/core.py:158: UserWarning: [00:20:43] WARNING: /Users/runner/work/xgboost/xgboost/src/learner.cc:740: \n",
      "Parameters: { \"use_label_encoder\" } are not used.\n",
      "\n",
      "  warnings.warn(smsg, UserWarning)\n"
     ]
    },
    {
     "name": "stdout",
     "output_type": "stream",
     "text": [
      "[CV] END learning_rate=0.005, max_depth=8, n_estimators=100, scale_pos_weight=3; total time=17.1min\n"
     ]
    },
    {
     "name": "stderr",
     "output_type": "stream",
     "text": [
      "/Users/stygianphantom/Library/Python/3.9/lib/python/site-packages/xgboost/core.py:158: UserWarning: [00:25:58] WARNING: /Users/runner/work/xgboost/xgboost/src/learner.cc:740: \n",
      "Parameters: { \"use_label_encoder\" } are not used.\n",
      "\n",
      "  warnings.warn(smsg, UserWarning)\n"
     ]
    },
    {
     "name": "stdout",
     "output_type": "stream",
     "text": [
      "[CV] END learning_rate=0.005, max_depth=8, n_estimators=100, scale_pos_weight=4; total time=18.1min\n"
     ]
    },
    {
     "name": "stderr",
     "output_type": "stream",
     "text": [
      "/Users/stygianphantom/Library/Python/3.9/lib/python/site-packages/xgboost/core.py:158: UserWarning: [00:27:32] WARNING: /Users/runner/work/xgboost/xgboost/src/learner.cc:740: \n",
      "Parameters: { \"use_label_encoder\" } are not used.\n",
      "\n",
      "  warnings.warn(smsg, UserWarning)\n"
     ]
    },
    {
     "name": "stdout",
     "output_type": "stream",
     "text": [
      "[CV] END learning_rate=0.005, max_depth=8, n_estimators=100, scale_pos_weight=4; total time=18.1min\n"
     ]
    },
    {
     "name": "stderr",
     "output_type": "stream",
     "text": [
      "/Users/stygianphantom/Library/Python/3.9/lib/python/site-packages/xgboost/core.py:158: UserWarning: [00:28:34] WARNING: /Users/runner/work/xgboost/xgboost/src/learner.cc:740: \n",
      "Parameters: { \"use_label_encoder\" } are not used.\n",
      "\n",
      "  warnings.warn(smsg, UserWarning)\n"
     ]
    },
    {
     "name": "stdout",
     "output_type": "stream",
     "text": [
      "[CV] END learning_rate=0.005, max_depth=8, n_estimators=100, scale_pos_weight=4; total time=18.8min\n"
     ]
    },
    {
     "name": "stderr",
     "output_type": "stream",
     "text": [
      "/Users/stygianphantom/Library/Python/3.9/lib/python/site-packages/xgboost/core.py:158: UserWarning: [00:28:43] WARNING: /Users/runner/work/xgboost/xgboost/src/learner.cc:740: \n",
      "Parameters: { \"use_label_encoder\" } are not used.\n",
      "\n",
      "  warnings.warn(smsg, UserWarning)\n"
     ]
    },
    {
     "name": "stdout",
     "output_type": "stream",
     "text": [
      "[CV] END learning_rate=0.005, max_depth=8, n_estimators=100, scale_pos_weight=5; total time=17.9min\n"
     ]
    },
    {
     "name": "stderr",
     "output_type": "stream",
     "text": [
      "/Users/stygianphantom/Library/Python/3.9/lib/python/site-packages/xgboost/core.py:158: UserWarning: [00:31:35] WARNING: /Users/runner/work/xgboost/xgboost/src/learner.cc:740: \n",
      "Parameters: { \"use_label_encoder\" } are not used.\n",
      "\n",
      "  warnings.warn(smsg, UserWarning)\n"
     ]
    },
    {
     "name": "stdout",
     "output_type": "stream",
     "text": [
      "[CV] END learning_rate=0.005, max_depth=8, n_estimators=100, scale_pos_weight=5; total time=17.8min\n"
     ]
    },
    {
     "name": "stderr",
     "output_type": "stream",
     "text": [
      "/Users/stygianphantom/Library/Python/3.9/lib/python/site-packages/xgboost/core.py:158: UserWarning: [00:31:43] WARNING: /Users/runner/work/xgboost/xgboost/src/learner.cc:740: \n",
      "Parameters: { \"use_label_encoder\" } are not used.\n",
      "\n",
      "  warnings.warn(smsg, UserWarning)\n"
     ]
    },
    {
     "name": "stdout",
     "output_type": "stream",
     "text": [
      "[CV] END learning_rate=0.01, max_depth=6, n_estimators=0, scale_pos_weight=3; total time=   1.3s\n"
     ]
    },
    {
     "name": "stderr",
     "output_type": "stream",
     "text": [
      "/Users/stygianphantom/Library/Python/3.9/lib/python/site-packages/xgboost/core.py:158: UserWarning: [00:31:45] WARNING: /Users/runner/work/xgboost/xgboost/src/learner.cc:740: \n",
      "Parameters: { \"use_label_encoder\" } are not used.\n",
      "\n",
      "  warnings.warn(smsg, UserWarning)\n"
     ]
    },
    {
     "name": "stdout",
     "output_type": "stream",
     "text": [
      "[CV] END learning_rate=0.01, max_depth=6, n_estimators=0, scale_pos_weight=3; total time=   1.4s\n"
     ]
    },
    {
     "name": "stderr",
     "output_type": "stream",
     "text": [
      "/Users/stygianphantom/Library/Python/3.9/lib/python/site-packages/xgboost/core.py:158: UserWarning: [00:31:46] WARNING: /Users/runner/work/xgboost/xgboost/src/learner.cc:740: \n",
      "Parameters: { \"use_label_encoder\" } are not used.\n",
      "\n",
      "  warnings.warn(smsg, UserWarning)\n"
     ]
    },
    {
     "name": "stdout",
     "output_type": "stream",
     "text": [
      "[CV] END learning_rate=0.01, max_depth=6, n_estimators=0, scale_pos_weight=3; total time=   1.1s\n"
     ]
    },
    {
     "name": "stderr",
     "output_type": "stream",
     "text": [
      "/Users/stygianphantom/Library/Python/3.9/lib/python/site-packages/xgboost/core.py:158: UserWarning: [00:31:47] WARNING: /Users/runner/work/xgboost/xgboost/src/learner.cc:740: \n",
      "Parameters: { \"use_label_encoder\" } are not used.\n",
      "\n",
      "  warnings.warn(smsg, UserWarning)\n"
     ]
    },
    {
     "name": "stdout",
     "output_type": "stream",
     "text": [
      "[CV] END learning_rate=0.01, max_depth=6, n_estimators=0, scale_pos_weight=4; total time=   1.2s\n"
     ]
    },
    {
     "name": "stderr",
     "output_type": "stream",
     "text": [
      "/Users/stygianphantom/Library/Python/3.9/lib/python/site-packages/xgboost/core.py:158: UserWarning: [00:31:48] WARNING: /Users/runner/work/xgboost/xgboost/src/learner.cc:740: \n",
      "Parameters: { \"use_label_encoder\" } are not used.\n",
      "\n",
      "  warnings.warn(smsg, UserWarning)\n"
     ]
    },
    {
     "name": "stdout",
     "output_type": "stream",
     "text": [
      "[CV] END learning_rate=0.01, max_depth=6, n_estimators=0, scale_pos_weight=4; total time=   1.3s\n"
     ]
    },
    {
     "name": "stderr",
     "output_type": "stream",
     "text": [
      "/Users/stygianphantom/Library/Python/3.9/lib/python/site-packages/xgboost/core.py:158: UserWarning: [00:31:50] WARNING: /Users/runner/work/xgboost/xgboost/src/learner.cc:740: \n",
      "Parameters: { \"use_label_encoder\" } are not used.\n",
      "\n",
      "  warnings.warn(smsg, UserWarning)\n"
     ]
    },
    {
     "name": "stdout",
     "output_type": "stream",
     "text": [
      "[CV] END learning_rate=0.01, max_depth=6, n_estimators=0, scale_pos_weight=4; total time=   1.4s\n"
     ]
    },
    {
     "name": "stderr",
     "output_type": "stream",
     "text": [
      "/Users/stygianphantom/Library/Python/3.9/lib/python/site-packages/xgboost/core.py:158: UserWarning: [00:31:51] WARNING: /Users/runner/work/xgboost/xgboost/src/learner.cc:740: \n",
      "Parameters: { \"use_label_encoder\" } are not used.\n",
      "\n",
      "  warnings.warn(smsg, UserWarning)\n"
     ]
    },
    {
     "name": "stdout",
     "output_type": "stream",
     "text": [
      "[CV] END learning_rate=0.01, max_depth=6, n_estimators=0, scale_pos_weight=5; total time=   1.3s\n"
     ]
    },
    {
     "name": "stderr",
     "output_type": "stream",
     "text": [
      "/Users/stygianphantom/Library/Python/3.9/lib/python/site-packages/xgboost/core.py:158: UserWarning: [00:31:53] WARNING: /Users/runner/work/xgboost/xgboost/src/learner.cc:740: \n",
      "Parameters: { \"use_label_encoder\" } are not used.\n",
      "\n",
      "  warnings.warn(smsg, UserWarning)\n"
     ]
    },
    {
     "name": "stdout",
     "output_type": "stream",
     "text": [
      "[CV] END learning_rate=0.01, max_depth=6, n_estimators=0, scale_pos_weight=5; total time=   1.3s\n"
     ]
    },
    {
     "name": "stderr",
     "output_type": "stream",
     "text": [
      "/Users/stygianphantom/Library/Python/3.9/lib/python/site-packages/xgboost/core.py:158: UserWarning: [00:31:54] WARNING: /Users/runner/work/xgboost/xgboost/src/learner.cc:740: \n",
      "Parameters: { \"use_label_encoder\" } are not used.\n",
      "\n",
      "  warnings.warn(smsg, UserWarning)\n"
     ]
    },
    {
     "name": "stdout",
     "output_type": "stream",
     "text": [
      "[CV] END learning_rate=0.01, max_depth=6, n_estimators=0, scale_pos_weight=5; total time=   1.2s\n"
     ]
    },
    {
     "name": "stderr",
     "output_type": "stream",
     "text": [
      "/Users/stygianphantom/Library/Python/3.9/lib/python/site-packages/xgboost/core.py:158: UserWarning: [00:31:55] WARNING: /Users/runner/work/xgboost/xgboost/src/learner.cc:740: \n",
      "Parameters: { \"use_label_encoder\" } are not used.\n",
      "\n",
      "  warnings.warn(smsg, UserWarning)\n"
     ]
    },
    {
     "name": "stdout",
     "output_type": "stream",
     "text": [
      "[CV] END learning_rate=0.005, max_depth=8, n_estimators=100, scale_pos_weight=5; total time=19.8min\n"
     ]
    },
    {
     "name": "stderr",
     "output_type": "stream",
     "text": [
      "/Users/stygianphantom/Library/Python/3.9/lib/python/site-packages/xgboost/core.py:158: UserWarning: [00:33:45] WARNING: /Users/runner/work/xgboost/xgboost/src/learner.cc:740: \n",
      "Parameters: { \"use_label_encoder\" } are not used.\n",
      "\n",
      "  warnings.warn(smsg, UserWarning)\n"
     ]
    },
    {
     "name": "stdout",
     "output_type": "stream",
     "text": [
      "[CV] END learning_rate=0.01, max_depth=6, n_estimators=100, scale_pos_weight=3; total time= 6.9min\n"
     ]
    },
    {
     "name": "stderr",
     "output_type": "stream",
     "text": [
      "/Users/stygianphantom/Library/Python/3.9/lib/python/site-packages/xgboost/core.py:158: UserWarning: [00:38:52] WARNING: /Users/runner/work/xgboost/xgboost/src/learner.cc:740: \n",
      "Parameters: { \"use_label_encoder\" } are not used.\n",
      "\n",
      "  warnings.warn(smsg, UserWarning)\n"
     ]
    },
    {
     "name": "stdout",
     "output_type": "stream",
     "text": [
      "[CV] END learning_rate=0.01, max_depth=6, n_estimators=100, scale_pos_weight=3; total time= 7.2min\n"
     ]
    },
    {
     "name": "stderr",
     "output_type": "stream",
     "text": [
      "/Users/stygianphantom/Library/Python/3.9/lib/python/site-packages/xgboost/core.py:158: UserWarning: [00:40:58] WARNING: /Users/runner/work/xgboost/xgboost/src/learner.cc:740: \n",
      "Parameters: { \"use_label_encoder\" } are not used.\n",
      "\n",
      "  warnings.warn(smsg, UserWarning)\n"
     ]
    },
    {
     "name": "stdout",
     "output_type": "stream",
     "text": [
      "[CV] END learning_rate=0.01, max_depth=6, n_estimators=100, scale_pos_weight=3; total time= 7.3min\n"
     ]
    },
    {
     "name": "stderr",
     "output_type": "stream",
     "text": [
      "/Users/stygianphantom/Library/Python/3.9/lib/python/site-packages/xgboost/core.py:158: UserWarning: [00:46:12] WARNING: /Users/runner/work/xgboost/xgboost/src/learner.cc:740: \n",
      "Parameters: { \"use_label_encoder\" } are not used.\n",
      "\n",
      "  warnings.warn(smsg, UserWarning)\n"
     ]
    },
    {
     "name": "stdout",
     "output_type": "stream",
     "text": [
      "[CV] END learning_rate=0.01, max_depth=6, n_estimators=100, scale_pos_weight=4; total time= 7.2min\n"
     ]
    },
    {
     "name": "stderr",
     "output_type": "stream",
     "text": [
      "/Users/stygianphantom/Library/Python/3.9/lib/python/site-packages/xgboost/core.py:158: UserWarning: [00:48:11] WARNING: /Users/runner/work/xgboost/xgboost/src/learner.cc:740: \n",
      "Parameters: { \"use_label_encoder\" } are not used.\n",
      "\n",
      "  warnings.warn(smsg, UserWarning)\n"
     ]
    },
    {
     "name": "stdout",
     "output_type": "stream",
     "text": [
      "[CV] END learning_rate=0.005, max_depth=8, n_estimators=200, scale_pos_weight=3; total time=38.6min\n"
     ]
    },
    {
     "name": "stderr",
     "output_type": "stream",
     "text": [
      "/Users/stygianphantom/Library/Python/3.9/lib/python/site-packages/xgboost/core.py:158: UserWarning: [00:53:11] WARNING: /Users/runner/work/xgboost/xgboost/src/learner.cc:740: \n",
      "Parameters: { \"use_label_encoder\" } are not used.\n",
      "\n",
      "  warnings.warn(smsg, UserWarning)\n"
     ]
    },
    {
     "name": "stdout",
     "output_type": "stream",
     "text": [
      "[CV] END learning_rate=0.01, max_depth=6, n_estimators=100, scale_pos_weight=4; total time= 7.4min\n"
     ]
    },
    {
     "name": "stderr",
     "output_type": "stream",
     "text": [
      "/Users/stygianphantom/Library/Python/3.9/lib/python/site-packages/xgboost/core.py:158: UserWarning: [00:53:35] WARNING: /Users/runner/work/xgboost/xgboost/src/learner.cc:740: \n",
      "Parameters: { \"use_label_encoder\" } are not used.\n",
      "\n",
      "  warnings.warn(smsg, UserWarning)\n"
     ]
    },
    {
     "name": "stdout",
     "output_type": "stream",
     "text": [
      "[CV] END learning_rate=0.01, max_depth=6, n_estimators=100, scale_pos_weight=4; total time= 7.4min\n"
     ]
    },
    {
     "name": "stderr",
     "output_type": "stream",
     "text": [
      "/Users/stygianphantom/Library/Python/3.9/lib/python/site-packages/xgboost/core.py:158: UserWarning: [00:55:32] WARNING: /Users/runner/work/xgboost/xgboost/src/learner.cc:740: \n",
      "Parameters: { \"use_label_encoder\" } are not used.\n",
      "\n",
      "  warnings.warn(smsg, UserWarning)\n"
     ]
    },
    {
     "name": "stdout",
     "output_type": "stream",
     "text": [
      "[CV] END learning_rate=0.005, max_depth=8, n_estimators=200, scale_pos_weight=3; total time=36.2min\n"
     ]
    },
    {
     "name": "stderr",
     "output_type": "stream",
     "text": [
      "/Users/stygianphantom/Library/Python/3.9/lib/python/site-packages/xgboost/core.py:158: UserWarning: [00:55:46] WARNING: /Users/runner/work/xgboost/xgboost/src/learner.cc:740: \n",
      "Parameters: { \"use_label_encoder\" } are not used.\n",
      "\n",
      "  warnings.warn(smsg, UserWarning)\n"
     ]
    },
    {
     "name": "stdout",
     "output_type": "stream",
     "text": [
      "[CV] END learning_rate=0.005, max_depth=8, n_estimators=200, scale_pos_weight=3; total time=38.3min\n"
     ]
    },
    {
     "name": "stderr",
     "output_type": "stream",
     "text": [
      "/Users/stygianphantom/Library/Python/3.9/lib/python/site-packages/xgboost/core.py:158: UserWarning: [00:57:01] WARNING: /Users/runner/work/xgboost/xgboost/src/learner.cc:740: \n",
      "Parameters: { \"use_label_encoder\" } are not used.\n",
      "\n",
      "  warnings.warn(smsg, UserWarning)\n"
     ]
    },
    {
     "name": "stdout",
     "output_type": "stream",
     "text": [
      "[CV] END learning_rate=0.005, max_depth=8, n_estimators=200, scale_pos_weight=4; total time=38.5min\n"
     ]
    },
    {
     "name": "stderr",
     "output_type": "stream",
     "text": [
      "/Users/stygianphantom/Library/Python/3.9/lib/python/site-packages/xgboost/core.py:158: UserWarning: [00:59:13] WARNING: /Users/runner/work/xgboost/xgboost/src/learner.cc:740: \n",
      "Parameters: { \"use_label_encoder\" } are not used.\n",
      "\n",
      "  warnings.warn(smsg, UserWarning)\n"
     ]
    },
    {
     "name": "stdout",
     "output_type": "stream",
     "text": [
      "[CV] END learning_rate=0.01, max_depth=6, n_estimators=100, scale_pos_weight=5; total time= 7.0min\n"
     ]
    },
    {
     "name": "stderr",
     "output_type": "stream",
     "text": [
      "/Users/stygianphantom/Library/Python/3.9/lib/python/site-packages/xgboost/core.py:158: UserWarning: [01:00:14] WARNING: /Users/runner/work/xgboost/xgboost/src/learner.cc:740: \n",
      "Parameters: { \"use_label_encoder\" } are not used.\n",
      "\n",
      "  warnings.warn(smsg, UserWarning)\n"
     ]
    },
    {
     "name": "stdout",
     "output_type": "stream",
     "text": [
      "[CV] END learning_rate=0.01, max_depth=6, n_estimators=100, scale_pos_weight=5; total time= 7.0min\n"
     ]
    },
    {
     "name": "stderr",
     "output_type": "stream",
     "text": [
      "/Users/stygianphantom/Library/Python/3.9/lib/python/site-packages/xgboost/core.py:158: UserWarning: [01:00:37] WARNING: /Users/runner/work/xgboost/xgboost/src/learner.cc:740: \n",
      "Parameters: { \"use_label_encoder\" } are not used.\n",
      "\n",
      "  warnings.warn(smsg, UserWarning)\n"
     ]
    },
    {
     "name": "stdout",
     "output_type": "stream",
     "text": [
      "[CV] END learning_rate=0.01, max_depth=6, n_estimators=100, scale_pos_weight=5; total time= 7.2min\n"
     ]
    },
    {
     "name": "stderr",
     "output_type": "stream",
     "text": [
      "/Users/stygianphantom/Library/Python/3.9/lib/python/site-packages/xgboost/core.py:158: UserWarning: [01:02:47] WARNING: /Users/runner/work/xgboost/xgboost/src/learner.cc:740: \n",
      "Parameters: { \"use_label_encoder\" } are not used.\n",
      "\n",
      "  warnings.warn(smsg, UserWarning)\n"
     ]
    },
    {
     "name": "stdout",
     "output_type": "stream",
     "text": [
      "[CV] END learning_rate=0.005, max_depth=8, n_estimators=200, scale_pos_weight=4; total time=37.0min\n"
     ]
    },
    {
     "name": "stderr",
     "output_type": "stream",
     "text": [
      "/Users/stygianphantom/Library/Python/3.9/lib/python/site-packages/xgboost/core.py:158: UserWarning: [01:04:33] WARNING: /Users/runner/work/xgboost/xgboost/src/learner.cc:740: \n",
      "Parameters: { \"use_label_encoder\" } are not used.\n",
      "\n",
      "  warnings.warn(smsg, UserWarning)\n"
     ]
    },
    {
     "name": "stdout",
     "output_type": "stream",
     "text": [
      "[CV] END learning_rate=0.005, max_depth=8, n_estimators=200, scale_pos_weight=4; total time=39.1min\n"
     ]
    },
    {
     "name": "stderr",
     "output_type": "stream",
     "text": [
      "/Users/stygianphantom/Library/Python/3.9/lib/python/site-packages/xgboost/core.py:158: UserWarning: [01:05:06] WARNING: /Users/runner/work/xgboost/xgboost/src/learner.cc:740: \n",
      "Parameters: { \"use_label_encoder\" } are not used.\n",
      "\n",
      "  warnings.warn(smsg, UserWarning)\n"
     ]
    },
    {
     "name": "stdout",
     "output_type": "stream",
     "text": [
      "[CV] END learning_rate=0.005, max_depth=8, n_estimators=200, scale_pos_weight=5; total time=37.6min\n"
     ]
    },
    {
     "name": "stderr",
     "output_type": "stream",
     "text": [
      "/Users/stygianphantom/Library/Python/3.9/lib/python/site-packages/xgboost/core.py:158: UserWarning: [01:06:10] WARNING: /Users/runner/work/xgboost/xgboost/src/learner.cc:740: \n",
      "Parameters: { \"use_label_encoder\" } are not used.\n",
      "\n",
      "  warnings.warn(smsg, UserWarning)\n"
     ]
    },
    {
     "name": "stdout",
     "output_type": "stream",
     "text": [
      "[CV] END learning_rate=0.005, max_depth=8, n_estimators=200, scale_pos_weight=5; total time=38.8min\n"
     ]
    },
    {
     "name": "stderr",
     "output_type": "stream",
     "text": [
      "/Users/stygianphantom/Library/Python/3.9/lib/python/site-packages/xgboost/core.py:158: UserWarning: [01:07:31] WARNING: /Users/runner/work/xgboost/xgboost/src/learner.cc:740: \n",
      "Parameters: { \"use_label_encoder\" } are not used.\n",
      "\n",
      "  warnings.warn(smsg, UserWarning)\n"
     ]
    },
    {
     "name": "stdout",
     "output_type": "stream",
     "text": [
      "[CV] END learning_rate=0.01, max_depth=7, n_estimators=0, scale_pos_weight=3; total time=   1.5s\n"
     ]
    },
    {
     "name": "stderr",
     "output_type": "stream",
     "text": [
      "/Users/stygianphantom/Library/Python/3.9/lib/python/site-packages/xgboost/core.py:158: UserWarning: [01:07:32] WARNING: /Users/runner/work/xgboost/xgboost/src/learner.cc:740: \n",
      "Parameters: { \"use_label_encoder\" } are not used.\n",
      "\n",
      "  warnings.warn(smsg, UserWarning)\n"
     ]
    },
    {
     "name": "stdout",
     "output_type": "stream",
     "text": [
      "[CV] END learning_rate=0.01, max_depth=7, n_estimators=0, scale_pos_weight=3; total time=   1.5s\n"
     ]
    },
    {
     "name": "stderr",
     "output_type": "stream",
     "text": [
      "/Users/stygianphantom/Library/Python/3.9/lib/python/site-packages/xgboost/core.py:158: UserWarning: [01:07:34] WARNING: /Users/runner/work/xgboost/xgboost/src/learner.cc:740: \n",
      "Parameters: { \"use_label_encoder\" } are not used.\n",
      "\n",
      "  warnings.warn(smsg, UserWarning)\n"
     ]
    },
    {
     "name": "stdout",
     "output_type": "stream",
     "text": [
      "[CV] END learning_rate=0.01, max_depth=7, n_estimators=0, scale_pos_weight=3; total time=   1.5s\n"
     ]
    },
    {
     "name": "stderr",
     "output_type": "stream",
     "text": [
      "/Users/stygianphantom/Library/Python/3.9/lib/python/site-packages/xgboost/core.py:158: UserWarning: [01:07:35] WARNING: /Users/runner/work/xgboost/xgboost/src/learner.cc:740: \n",
      "Parameters: { \"use_label_encoder\" } are not used.\n",
      "\n",
      "  warnings.warn(smsg, UserWarning)\n"
     ]
    },
    {
     "name": "stdout",
     "output_type": "stream",
     "text": [
      "[CV] END learning_rate=0.01, max_depth=7, n_estimators=0, scale_pos_weight=4; total time=   1.3s\n"
     ]
    },
    {
     "name": "stderr",
     "output_type": "stream",
     "text": [
      "/Users/stygianphantom/Library/Python/3.9/lib/python/site-packages/xgboost/core.py:158: UserWarning: [01:07:37] WARNING: /Users/runner/work/xgboost/xgboost/src/learner.cc:740: \n",
      "Parameters: { \"use_label_encoder\" } are not used.\n",
      "\n",
      "  warnings.warn(smsg, UserWarning)\n"
     ]
    },
    {
     "name": "stdout",
     "output_type": "stream",
     "text": [
      "[CV] END learning_rate=0.01, max_depth=7, n_estimators=0, scale_pos_weight=4; total time=   1.6s\n"
     ]
    },
    {
     "name": "stderr",
     "output_type": "stream",
     "text": [
      "/Users/stygianphantom/Library/Python/3.9/lib/python/site-packages/xgboost/core.py:158: UserWarning: [01:07:38] WARNING: /Users/runner/work/xgboost/xgboost/src/learner.cc:740: \n",
      "Parameters: { \"use_label_encoder\" } are not used.\n",
      "\n",
      "  warnings.warn(smsg, UserWarning)\n"
     ]
    },
    {
     "name": "stdout",
     "output_type": "stream",
     "text": [
      "[CV] END learning_rate=0.01, max_depth=7, n_estimators=0, scale_pos_weight=4; total time=   1.5s\n"
     ]
    },
    {
     "name": "stderr",
     "output_type": "stream",
     "text": [
      "/Users/stygianphantom/Library/Python/3.9/lib/python/site-packages/xgboost/core.py:158: UserWarning: [01:07:40] WARNING: /Users/runner/work/xgboost/xgboost/src/learner.cc:740: \n",
      "Parameters: { \"use_label_encoder\" } are not used.\n",
      "\n",
      "  warnings.warn(smsg, UserWarning)\n"
     ]
    },
    {
     "name": "stdout",
     "output_type": "stream",
     "text": [
      "[CV] END learning_rate=0.01, max_depth=7, n_estimators=0, scale_pos_weight=5; total time=   1.4s\n"
     ]
    },
    {
     "name": "stderr",
     "output_type": "stream",
     "text": [
      "/Users/stygianphantom/Library/Python/3.9/lib/python/site-packages/xgboost/core.py:158: UserWarning: [01:07:41] WARNING: /Users/runner/work/xgboost/xgboost/src/learner.cc:740: \n",
      "Parameters: { \"use_label_encoder\" } are not used.\n",
      "\n",
      "  warnings.warn(smsg, UserWarning)\n"
     ]
    },
    {
     "name": "stdout",
     "output_type": "stream",
     "text": [
      "[CV] END learning_rate=0.01, max_depth=7, n_estimators=0, scale_pos_weight=5; total time=   1.4s\n"
     ]
    },
    {
     "name": "stderr",
     "output_type": "stream",
     "text": [
      "/Users/stygianphantom/Library/Python/3.9/lib/python/site-packages/xgboost/core.py:158: UserWarning: [01:07:43] WARNING: /Users/runner/work/xgboost/xgboost/src/learner.cc:740: \n",
      "Parameters: { \"use_label_encoder\" } are not used.\n",
      "\n",
      "  warnings.warn(smsg, UserWarning)\n"
     ]
    },
    {
     "name": "stdout",
     "output_type": "stream",
     "text": [
      "[CV] END learning_rate=0.01, max_depth=7, n_estimators=0, scale_pos_weight=5; total time=   1.5s\n"
     ]
    },
    {
     "name": "stderr",
     "output_type": "stream",
     "text": [
      "/Users/stygianphantom/Library/Python/3.9/lib/python/site-packages/xgboost/core.py:158: UserWarning: [01:07:44] WARNING: /Users/runner/work/xgboost/xgboost/src/learner.cc:740: \n",
      "Parameters: { \"use_label_encoder\" } are not used.\n",
      "\n",
      "  warnings.warn(smsg, UserWarning)\n"
     ]
    },
    {
     "name": "stdout",
     "output_type": "stream",
     "text": [
      "[CV] END learning_rate=0.01, max_depth=6, n_estimators=200, scale_pos_weight=3; total time=12.1min\n"
     ]
    },
    {
     "name": "stderr",
     "output_type": "stream",
     "text": [
      "/Users/stygianphantom/Library/Python/3.9/lib/python/site-packages/xgboost/core.py:158: UserWarning: [01:07:50] WARNING: /Users/runner/work/xgboost/xgboost/src/learner.cc:740: \n",
      "Parameters: { \"use_label_encoder\" } are not used.\n",
      "\n",
      "  warnings.warn(smsg, UserWarning)\n"
     ]
    },
    {
     "name": "stdout",
     "output_type": "stream",
     "text": [
      "[CV] END learning_rate=0.005, max_depth=8, n_estimators=200, scale_pos_weight=5; total time=36.4min\n"
     ]
    },
    {
     "name": "stderr",
     "output_type": "stream",
     "text": [
      "/Users/stygianphantom/Library/Python/3.9/lib/python/site-packages/xgboost/core.py:158: UserWarning: [01:08:01] WARNING: /Users/runner/work/xgboost/xgboost/src/learner.cc:740: \n",
      "Parameters: { \"use_label_encoder\" } are not used.\n",
      "\n",
      "  warnings.warn(smsg, UserWarning)\n"
     ]
    },
    {
     "name": "stdout",
     "output_type": "stream",
     "text": [
      "[CV] END learning_rate=0.01, max_depth=6, n_estimators=200, scale_pos_weight=3; total time=12.9min\n"
     ]
    },
    {
     "name": "stderr",
     "output_type": "stream",
     "text": [
      "/Users/stygianphantom/Library/Python/3.9/lib/python/site-packages/xgboost/core.py:158: UserWarning: [01:09:56] WARNING: /Users/runner/work/xgboost/xgboost/src/learner.cc:740: \n",
      "Parameters: { \"use_label_encoder\" } are not used.\n",
      "\n",
      "  warnings.warn(smsg, UserWarning)\n"
     ]
    },
    {
     "name": "stdout",
     "output_type": "stream",
     "text": [
      "[CV] END learning_rate=0.01, max_depth=6, n_estimators=200, scale_pos_weight=3; total time=12.7min\n"
     ]
    },
    {
     "name": "stderr",
     "output_type": "stream",
     "text": [
      "/Users/stygianphantom/Library/Python/3.9/lib/python/site-packages/xgboost/core.py:158: UserWarning: [01:11:56] WARNING: /Users/runner/work/xgboost/xgboost/src/learner.cc:740: \n",
      "Parameters: { \"use_label_encoder\" } are not used.\n",
      "\n",
      "  warnings.warn(smsg, UserWarning)\n"
     ]
    },
    {
     "name": "stdout",
     "output_type": "stream",
     "text": [
      "[CV] END learning_rate=0.01, max_depth=6, n_estimators=200, scale_pos_weight=4; total time=12.3min\n"
     ]
    },
    {
     "name": "stderr",
     "output_type": "stream",
     "text": [
      "/Users/stygianphantom/Library/Python/3.9/lib/python/site-packages/xgboost/core.py:158: UserWarning: [01:12:33] WARNING: /Users/runner/work/xgboost/xgboost/src/learner.cc:740: \n",
      "Parameters: { \"use_label_encoder\" } are not used.\n",
      "\n",
      "  warnings.warn(smsg, UserWarning)\n"
     ]
    },
    {
     "name": "stdout",
     "output_type": "stream",
     "text": [
      "[CV] END learning_rate=0.01, max_depth=6, n_estimators=200, scale_pos_weight=4; total time=12.6min\n"
     ]
    },
    {
     "name": "stderr",
     "output_type": "stream",
     "text": [
      "/Users/stygianphantom/Library/Python/3.9/lib/python/site-packages/xgboost/core.py:158: UserWarning: [01:13:15] WARNING: /Users/runner/work/xgboost/xgboost/src/learner.cc:740: \n",
      "Parameters: { \"use_label_encoder\" } are not used.\n",
      "\n",
      "  warnings.warn(smsg, UserWarning)\n"
     ]
    },
    {
     "name": "stdout",
     "output_type": "stream",
     "text": [
      "[CV] END learning_rate=0.01, max_depth=6, n_estimators=200, scale_pos_weight=4; total time=12.6min\n"
     ]
    },
    {
     "name": "stderr",
     "output_type": "stream",
     "text": [
      "/Users/stygianphantom/Library/Python/3.9/lib/python/site-packages/xgboost/core.py:158: UserWarning: [01:15:22] WARNING: /Users/runner/work/xgboost/xgboost/src/learner.cc:740: \n",
      "Parameters: { \"use_label_encoder\" } are not used.\n",
      "\n",
      "  warnings.warn(smsg, UserWarning)\n"
     ]
    },
    {
     "name": "stdout",
     "output_type": "stream",
     "text": [
      "[CV] END learning_rate=0.01, max_depth=6, n_estimators=200, scale_pos_weight=5; total time=12.8min\n"
     ]
    },
    {
     "name": "stderr",
     "output_type": "stream",
     "text": [
      "/Users/stygianphantom/Library/Python/3.9/lib/python/site-packages/xgboost/core.py:158: UserWarning: [01:17:20] WARNING: /Users/runner/work/xgboost/xgboost/src/learner.cc:740: \n",
      "Parameters: { \"use_label_encoder\" } are not used.\n",
      "\n",
      "  warnings.warn(smsg, UserWarning)\n"
     ]
    },
    {
     "name": "stdout",
     "output_type": "stream",
     "text": [
      "[CV] END learning_rate=0.01, max_depth=6, n_estimators=200, scale_pos_weight=5; total time=12.5min\n"
     ]
    },
    {
     "name": "stderr",
     "output_type": "stream",
     "text": [
      "/Users/stygianphantom/Library/Python/3.9/lib/python/site-packages/xgboost/core.py:158: UserWarning: [01:17:35] WARNING: /Users/runner/work/xgboost/xgboost/src/learner.cc:740: \n",
      "Parameters: { \"use_label_encoder\" } are not used.\n",
      "\n",
      "  warnings.warn(smsg, UserWarning)\n"
     ]
    },
    {
     "name": "stdout",
     "output_type": "stream",
     "text": [
      "[CV] END learning_rate=0.01, max_depth=6, n_estimators=200, scale_pos_weight=5; total time=12.9min\n"
     ]
    },
    {
     "name": "stderr",
     "output_type": "stream",
     "text": [
      "/Users/stygianphantom/Library/Python/3.9/lib/python/site-packages/xgboost/core.py:158: UserWarning: [01:19:06] WARNING: /Users/runner/work/xgboost/xgboost/src/learner.cc:740: \n",
      "Parameters: { \"use_label_encoder\" } are not used.\n",
      "\n",
      "  warnings.warn(smsg, UserWarning)\n"
     ]
    },
    {
     "name": "stdout",
     "output_type": "stream",
     "text": [
      "[CV] END learning_rate=0.01, max_depth=7, n_estimators=100, scale_pos_weight=3; total time=11.6min\n"
     ]
    },
    {
     "name": "stderr",
     "output_type": "stream",
     "text": [
      "/Users/stygianphantom/Library/Python/3.9/lib/python/site-packages/xgboost/core.py:158: UserWarning: [01:19:38] WARNING: /Users/runner/work/xgboost/xgboost/src/learner.cc:740: \n",
      "Parameters: { \"use_label_encoder\" } are not used.\n",
      "\n",
      "  warnings.warn(smsg, UserWarning)\n"
     ]
    },
    {
     "name": "stdout",
     "output_type": "stream",
     "text": [
      "[CV] END learning_rate=0.01, max_depth=7, n_estimators=100, scale_pos_weight=3; total time=12.2min\n"
     ]
    },
    {
     "name": "stderr",
     "output_type": "stream",
     "text": [
      "/Users/stygianphantom/Library/Python/3.9/lib/python/site-packages/xgboost/core.py:158: UserWarning: [01:19:54] WARNING: /Users/runner/work/xgboost/xgboost/src/learner.cc:740: \n",
      "Parameters: { \"use_label_encoder\" } are not used.\n",
      "\n",
      "  warnings.warn(smsg, UserWarning)\n"
     ]
    },
    {
     "name": "stdout",
     "output_type": "stream",
     "text": [
      "[CV] END learning_rate=0.01, max_depth=7, n_estimators=100, scale_pos_weight=3; total time=12.1min\n"
     ]
    },
    {
     "name": "stderr",
     "output_type": "stream",
     "text": [
      "/Users/stygianphantom/Library/Python/3.9/lib/python/site-packages/xgboost/core.py:158: UserWarning: [01:19:57] WARNING: /Users/runner/work/xgboost/xgboost/src/learner.cc:740: \n",
      "Parameters: { \"use_label_encoder\" } are not used.\n",
      "\n",
      "  warnings.warn(smsg, UserWarning)\n"
     ]
    },
    {
     "name": "stdout",
     "output_type": "stream",
     "text": [
      "[CV] END learning_rate=0.01, max_depth=7, n_estimators=100, scale_pos_weight=4; total time=12.6min\n"
     ]
    },
    {
     "name": "stderr",
     "output_type": "stream",
     "text": [
      "/Users/stygianphantom/Library/Python/3.9/lib/python/site-packages/xgboost/core.py:158: UserWarning: [01:22:33] WARNING: /Users/runner/work/xgboost/xgboost/src/learner.cc:740: \n",
      "Parameters: { \"use_label_encoder\" } are not used.\n",
      "\n",
      "  warnings.warn(smsg, UserWarning)\n"
     ]
    },
    {
     "name": "stdout",
     "output_type": "stream",
     "text": [
      "[CV] END learning_rate=0.01, max_depth=7, n_estimators=100, scale_pos_weight=4; total time=12.6min\n"
     ]
    },
    {
     "name": "stderr",
     "output_type": "stream",
     "text": [
      "/Users/stygianphantom/Library/Python/3.9/lib/python/site-packages/xgboost/core.py:158: UserWarning: [01:24:30] WARNING: /Users/runner/work/xgboost/xgboost/src/learner.cc:740: \n",
      "Parameters: { \"use_label_encoder\" } are not used.\n",
      "\n",
      "  warnings.warn(smsg, UserWarning)\n"
     ]
    },
    {
     "name": "stdout",
     "output_type": "stream",
     "text": [
      "[CV] END learning_rate=0.01, max_depth=7, n_estimators=100, scale_pos_weight=4; total time=12.1min\n"
     ]
    },
    {
     "name": "stderr",
     "output_type": "stream",
     "text": [
      "/Users/stygianphantom/Library/Python/3.9/lib/python/site-packages/xgboost/core.py:158: UserWarning: [01:24:41] WARNING: /Users/runner/work/xgboost/xgboost/src/learner.cc:740: \n",
      "Parameters: { \"use_label_encoder\" } are not used.\n",
      "\n",
      "  warnings.warn(smsg, UserWarning)\n"
     ]
    },
    {
     "name": "stdout",
     "output_type": "stream",
     "text": [
      "[CV] END learning_rate=0.01, max_depth=7, n_estimators=100, scale_pos_weight=5; total time=12.4min\n"
     ]
    },
    {
     "name": "stderr",
     "output_type": "stream",
     "text": [
      "/Users/stygianphantom/Library/Python/3.9/lib/python/site-packages/xgboost/core.py:158: UserWarning: [01:25:37] WARNING: /Users/runner/work/xgboost/xgboost/src/learner.cc:740: \n",
      "Parameters: { \"use_label_encoder\" } are not used.\n",
      "\n",
      "  warnings.warn(smsg, UserWarning)\n"
     ]
    },
    {
     "name": "stdout",
     "output_type": "stream",
     "text": [
      "[CV] END learning_rate=0.01, max_depth=7, n_estimators=100, scale_pos_weight=5; total time=12.6min\n"
     ]
    },
    {
     "name": "stderr",
     "output_type": "stream",
     "text": [
      "/Users/stygianphantom/Library/Python/3.9/lib/python/site-packages/xgboost/core.py:158: UserWarning: [01:28:00] WARNING: /Users/runner/work/xgboost/xgboost/src/learner.cc:740: \n",
      "Parameters: { \"use_label_encoder\" } are not used.\n",
      "\n",
      "  warnings.warn(smsg, UserWarning)\n"
     ]
    },
    {
     "name": "stdout",
     "output_type": "stream",
     "text": [
      "[CV] END learning_rate=0.01, max_depth=8, n_estimators=0, scale_pos_weight=3; total time=   1.5s\n"
     ]
    },
    {
     "name": "stderr",
     "output_type": "stream",
     "text": [
      "/Users/stygianphantom/Library/Python/3.9/lib/python/site-packages/xgboost/core.py:158: UserWarning: [01:28:01] WARNING: /Users/runner/work/xgboost/xgboost/src/learner.cc:740: \n",
      "Parameters: { \"use_label_encoder\" } are not used.\n",
      "\n",
      "  warnings.warn(smsg, UserWarning)\n"
     ]
    },
    {
     "name": "stdout",
     "output_type": "stream",
     "text": [
      "[CV] END learning_rate=0.01, max_depth=8, n_estimators=0, scale_pos_weight=3; total time=   1.7s\n"
     ]
    },
    {
     "name": "stderr",
     "output_type": "stream",
     "text": [
      "/Users/stygianphantom/Library/Python/3.9/lib/python/site-packages/xgboost/core.py:158: UserWarning: [01:28:03] WARNING: /Users/runner/work/xgboost/xgboost/src/learner.cc:740: \n",
      "Parameters: { \"use_label_encoder\" } are not used.\n",
      "\n",
      "  warnings.warn(smsg, UserWarning)\n"
     ]
    },
    {
     "name": "stdout",
     "output_type": "stream",
     "text": [
      "[CV] END learning_rate=0.01, max_depth=8, n_estimators=0, scale_pos_weight=3; total time=   1.4s\n"
     ]
    },
    {
     "name": "stderr",
     "output_type": "stream",
     "text": [
      "/Users/stygianphantom/Library/Python/3.9/lib/python/site-packages/xgboost/core.py:158: UserWarning: [01:28:04] WARNING: /Users/runner/work/xgboost/xgboost/src/learner.cc:740: \n",
      "Parameters: { \"use_label_encoder\" } are not used.\n",
      "\n",
      "  warnings.warn(smsg, UserWarning)\n"
     ]
    },
    {
     "name": "stdout",
     "output_type": "stream",
     "text": [
      "[CV] END learning_rate=0.01, max_depth=8, n_estimators=0, scale_pos_weight=4; total time=   1.4s\n"
     ]
    },
    {
     "name": "stderr",
     "output_type": "stream",
     "text": [
      "/Users/stygianphantom/Library/Python/3.9/lib/python/site-packages/xgboost/core.py:158: UserWarning: [01:28:06] WARNING: /Users/runner/work/xgboost/xgboost/src/learner.cc:740: \n",
      "Parameters: { \"use_label_encoder\" } are not used.\n",
      "\n",
      "  warnings.warn(smsg, UserWarning)\n"
     ]
    },
    {
     "name": "stdout",
     "output_type": "stream",
     "text": [
      "[CV] END learning_rate=0.01, max_depth=8, n_estimators=0, scale_pos_weight=4; total time=   1.7s\n"
     ]
    },
    {
     "name": "stderr",
     "output_type": "stream",
     "text": [
      "/Users/stygianphantom/Library/Python/3.9/lib/python/site-packages/xgboost/core.py:158: UserWarning: [01:28:08] WARNING: /Users/runner/work/xgboost/xgboost/src/learner.cc:740: \n",
      "Parameters: { \"use_label_encoder\" } are not used.\n",
      "\n",
      "  warnings.warn(smsg, UserWarning)\n"
     ]
    },
    {
     "name": "stdout",
     "output_type": "stream",
     "text": [
      "[CV] END learning_rate=0.01, max_depth=8, n_estimators=0, scale_pos_weight=4; total time=   1.6s\n"
     ]
    },
    {
     "name": "stderr",
     "output_type": "stream",
     "text": [
      "/Users/stygianphantom/Library/Python/3.9/lib/python/site-packages/xgboost/core.py:158: UserWarning: [01:28:09] WARNING: /Users/runner/work/xgboost/xgboost/src/learner.cc:740: \n",
      "Parameters: { \"use_label_encoder\" } are not used.\n",
      "\n",
      "  warnings.warn(smsg, UserWarning)\n"
     ]
    },
    {
     "name": "stdout",
     "output_type": "stream",
     "text": [
      "[CV] END learning_rate=0.01, max_depth=8, n_estimators=0, scale_pos_weight=5; total time=   1.6s\n"
     ]
    },
    {
     "name": "stderr",
     "output_type": "stream",
     "text": [
      "/Users/stygianphantom/Library/Python/3.9/lib/python/site-packages/xgboost/core.py:158: UserWarning: [01:28:11] WARNING: /Users/runner/work/xgboost/xgboost/src/learner.cc:740: \n",
      "Parameters: { \"use_label_encoder\" } are not used.\n",
      "\n",
      "  warnings.warn(smsg, UserWarning)\n"
     ]
    },
    {
     "name": "stdout",
     "output_type": "stream",
     "text": [
      "[CV] END learning_rate=0.01, max_depth=8, n_estimators=0, scale_pos_weight=5; total time=   1.6s\n"
     ]
    },
    {
     "name": "stderr",
     "output_type": "stream",
     "text": [
      "/Users/stygianphantom/Library/Python/3.9/lib/python/site-packages/xgboost/core.py:158: UserWarning: [01:28:12] WARNING: /Users/runner/work/xgboost/xgboost/src/learner.cc:740: \n",
      "Parameters: { \"use_label_encoder\" } are not used.\n",
      "\n",
      "  warnings.warn(smsg, UserWarning)\n"
     ]
    },
    {
     "name": "stdout",
     "output_type": "stream",
     "text": [
      "[CV] END learning_rate=0.01, max_depth=8, n_estimators=0, scale_pos_weight=5; total time=   1.5s\n"
     ]
    },
    {
     "name": "stderr",
     "output_type": "stream",
     "text": [
      "/Users/stygianphantom/Library/Python/3.9/lib/python/site-packages/xgboost/core.py:158: UserWarning: [01:28:14] WARNING: /Users/runner/work/xgboost/xgboost/src/learner.cc:740: \n",
      "Parameters: { \"use_label_encoder\" } are not used.\n",
      "\n",
      "  warnings.warn(smsg, UserWarning)\n"
     ]
    },
    {
     "name": "stdout",
     "output_type": "stream",
     "text": [
      "[CV] END learning_rate=0.01, max_depth=7, n_estimators=100, scale_pos_weight=5; total time=12.2min\n"
     ]
    },
    {
     "name": "stderr",
     "output_type": "stream",
     "text": [
      "/Users/stygianphantom/Library/Python/3.9/lib/python/site-packages/xgboost/core.py:158: UserWarning: [01:29:29] WARNING: /Users/runner/work/xgboost/xgboost/src/learner.cc:740: \n",
      "Parameters: { \"use_label_encoder\" } are not used.\n",
      "\n",
      "  warnings.warn(smsg, UserWarning)\n"
     ]
    },
    {
     "name": "stdout",
     "output_type": "stream",
     "text": [
      "[CV] END learning_rate=0.01, max_depth=7, n_estimators=200, scale_pos_weight=3; total time=22.2min\n"
     ]
    },
    {
     "name": "stderr",
     "output_type": "stream",
     "text": [
      "/Users/stygianphantom/Library/Python/3.9/lib/python/site-packages/xgboost/core.py:158: UserWarning: [01:39:45] WARNING: /Users/runner/work/xgboost/xgboost/src/learner.cc:740: \n",
      "Parameters: { \"use_label_encoder\" } are not used.\n",
      "\n",
      "  warnings.warn(smsg, UserWarning)\n"
     ]
    },
    {
     "name": "stdout",
     "output_type": "stream",
     "text": [
      "[CV] END learning_rate=0.01, max_depth=7, n_estimators=200, scale_pos_weight=3; total time=21.9min\n"
     ]
    },
    {
     "name": "stderr",
     "output_type": "stream",
     "text": [
      "/Users/stygianphantom/Library/Python/3.9/lib/python/site-packages/xgboost/core.py:158: UserWarning: [01:41:30] WARNING: /Users/runner/work/xgboost/xgboost/src/learner.cc:740: \n",
      "Parameters: { \"use_label_encoder\" } are not used.\n",
      "\n",
      "  warnings.warn(smsg, UserWarning)\n"
     ]
    },
    {
     "name": "stdout",
     "output_type": "stream",
     "text": [
      "[CV] END learning_rate=0.01, max_depth=7, n_estimators=200, scale_pos_weight=3; total time=22.9min\n"
     ]
    },
    {
     "name": "stderr",
     "output_type": "stream",
     "text": [
      "/Users/stygianphantom/Library/Python/3.9/lib/python/site-packages/xgboost/core.py:158: UserWarning: [01:42:02] WARNING: /Users/runner/work/xgboost/xgboost/src/learner.cc:740: \n",
      "Parameters: { \"use_label_encoder\" } are not used.\n",
      "\n",
      "  warnings.warn(smsg, UserWarning)\n"
     ]
    },
    {
     "name": "stdout",
     "output_type": "stream",
     "text": [
      "[CV] END learning_rate=0.01, max_depth=7, n_estimators=200, scale_pos_weight=4; total time=22.7min\n"
     ]
    },
    {
     "name": "stderr",
     "output_type": "stream",
     "text": [
      "/Users/stygianphantom/Library/Python/3.9/lib/python/site-packages/xgboost/core.py:158: UserWarning: [01:42:39] WARNING: /Users/runner/work/xgboost/xgboost/src/learner.cc:740: \n",
      "Parameters: { \"use_label_encoder\" } are not used.\n",
      "\n",
      "  warnings.warn(smsg, UserWarning)\n"
     ]
    },
    {
     "name": "stdout",
     "output_type": "stream",
     "text": [
      "[CV] END learning_rate=0.01, max_depth=7, n_estimators=200, scale_pos_weight=4; total time=23.3min\n"
     ]
    },
    {
     "name": "stderr",
     "output_type": "stream",
     "text": [
      "/Users/stygianphantom/Library/Python/3.9/lib/python/site-packages/xgboost/core.py:158: UserWarning: [01:43:14] WARNING: /Users/runner/work/xgboost/xgboost/src/learner.cc:740: \n",
      "Parameters: { \"use_label_encoder\" } are not used.\n",
      "\n",
      "  warnings.warn(smsg, UserWarning)\n"
     ]
    },
    {
     "name": "stdout",
     "output_type": "stream",
     "text": [
      "[CV] END learning_rate=0.01, max_depth=7, n_estimators=200, scale_pos_weight=4; total time=22.1min\n"
     ]
    },
    {
     "name": "stderr",
     "output_type": "stream",
     "text": [
      "/Users/stygianphantom/Library/Python/3.9/lib/python/site-packages/xgboost/core.py:158: UserWarning: [01:44:42] WARNING: /Users/runner/work/xgboost/xgboost/src/learner.cc:740: \n",
      "Parameters: { \"use_label_encoder\" } are not used.\n",
      "\n",
      "  warnings.warn(smsg, UserWarning)\n"
     ]
    },
    {
     "name": "stdout",
     "output_type": "stream",
     "text": [
      "[CV] END learning_rate=0.01, max_depth=7, n_estimators=200, scale_pos_weight=5; total time=22.9min\n"
     ]
    },
    {
     "name": "stderr",
     "output_type": "stream",
     "text": [
      "/Users/stygianphantom/Library/Python/3.9/lib/python/site-packages/xgboost/core.py:158: UserWarning: [01:47:27] WARNING: /Users/runner/work/xgboost/xgboost/src/learner.cc:740: \n",
      "Parameters: { \"use_label_encoder\" } are not used.\n",
      "\n",
      "  warnings.warn(smsg, UserWarning)\n"
     ]
    },
    {
     "name": "stdout",
     "output_type": "stream",
     "text": [
      "[CV] END learning_rate=0.01, max_depth=8, n_estimators=100, scale_pos_weight=3; total time=19.3min\n"
     ]
    },
    {
     "name": "stderr",
     "output_type": "stream",
     "text": [
      "/Users/stygianphantom/Library/Python/3.9/lib/python/site-packages/xgboost/core.py:158: UserWarning: [01:47:34] WARNING: /Users/runner/work/xgboost/xgboost/src/learner.cc:740: \n",
      "Parameters: { \"use_label_encoder\" } are not used.\n",
      "\n",
      "  warnings.warn(smsg, UserWarning)\n"
     ]
    },
    {
     "name": "stdout",
     "output_type": "stream",
     "text": [
      "[CV] END learning_rate=0.01, max_depth=7, n_estimators=200, scale_pos_weight=5; total time=23.5min\n"
     ]
    },
    {
     "name": "stderr",
     "output_type": "stream",
     "text": [
      "/Users/stygianphantom/Library/Python/3.9/lib/python/site-packages/xgboost/core.py:158: UserWarning: [01:48:09] WARNING: /Users/runner/work/xgboost/xgboost/src/learner.cc:740: \n",
      "Parameters: { \"use_label_encoder\" } are not used.\n",
      "\n",
      "  warnings.warn(smsg, UserWarning)\n"
     ]
    },
    {
     "name": "stdout",
     "output_type": "stream",
     "text": [
      "[CV] END learning_rate=0.01, max_depth=7, n_estimators=200, scale_pos_weight=5; total time=22.7min\n"
     ]
    },
    {
     "name": "stderr",
     "output_type": "stream",
     "text": [
      "/Users/stygianphantom/Library/Python/3.9/lib/python/site-packages/xgboost/core.py:158: UserWarning: [01:48:16] WARNING: /Users/runner/work/xgboost/xgboost/src/learner.cc:740: \n",
      "Parameters: { \"use_label_encoder\" } are not used.\n",
      "\n",
      "  warnings.warn(smsg, UserWarning)\n"
     ]
    },
    {
     "name": "stdout",
     "output_type": "stream",
     "text": [
      "[CV] END learning_rate=0.01, max_depth=8, n_estimators=100, scale_pos_weight=3; total time=19.3min\n"
     ]
    },
    {
     "name": "stderr",
     "output_type": "stream",
     "text": [
      "/Users/stygianphantom/Library/Python/3.9/lib/python/site-packages/xgboost/core.py:158: UserWarning: [01:48:48] WARNING: /Users/runner/work/xgboost/xgboost/src/learner.cc:740: \n",
      "Parameters: { \"use_label_encoder\" } are not used.\n",
      "\n",
      "  warnings.warn(smsg, UserWarning)\n"
     ]
    },
    {
     "name": "stdout",
     "output_type": "stream",
     "text": [
      "[CV] END learning_rate=0.01, max_depth=8, n_estimators=100, scale_pos_weight=3; total time=18.4min\n"
     ]
    },
    {
     "name": "stderr",
     "output_type": "stream",
     "text": [
      "/Users/stygianphantom/Library/Python/3.9/lib/python/site-packages/xgboost/core.py:158: UserWarning: [01:58:10] WARNING: /Users/runner/work/xgboost/xgboost/src/learner.cc:740: \n",
      "Parameters: { \"use_label_encoder\" } are not used.\n",
      "\n",
      "  warnings.warn(smsg, UserWarning)\n"
     ]
    },
    {
     "name": "stdout",
     "output_type": "stream",
     "text": [
      "[CV] END learning_rate=0.01, max_depth=8, n_estimators=100, scale_pos_weight=4; total time=19.7min\n"
     ]
    },
    {
     "name": "stderr",
     "output_type": "stream",
     "text": [
      "/Users/stygianphantom/Library/Python/3.9/lib/python/site-packages/xgboost/core.py:158: UserWarning: [02:01:11] WARNING: /Users/runner/work/xgboost/xgboost/src/learner.cc:740: \n",
      "Parameters: { \"use_label_encoder\" } are not used.\n",
      "\n",
      "  warnings.warn(smsg, UserWarning)\n"
     ]
    },
    {
     "name": "stdout",
     "output_type": "stream",
     "text": [
      "[CV] END learning_rate=0.01, max_depth=8, n_estimators=100, scale_pos_weight=4; total time=19.1min\n"
     ]
    },
    {
     "name": "stderr",
     "output_type": "stream",
     "text": [
      "/Users/stygianphantom/Library/Python/3.9/lib/python/site-packages/xgboost/core.py:158: UserWarning: [02:01:43] WARNING: /Users/runner/work/xgboost/xgboost/src/learner.cc:740: \n",
      "Parameters: { \"use_label_encoder\" } are not used.\n",
      "\n",
      "  warnings.warn(smsg, UserWarning)\n"
     ]
    },
    {
     "name": "stdout",
     "output_type": "stream",
     "text": [
      "[CV] END learning_rate=0.01, max_depth=8, n_estimators=100, scale_pos_weight=4; total time=20.2min\n"
     ]
    },
    {
     "name": "stderr",
     "output_type": "stream",
     "text": [
      "/Users/stygianphantom/Library/Python/3.9/lib/python/site-packages/xgboost/core.py:158: UserWarning: [02:02:15] WARNING: /Users/runner/work/xgboost/xgboost/src/learner.cc:740: \n",
      "Parameters: { \"use_label_encoder\" } are not used.\n",
      "\n",
      "  warnings.warn(smsg, UserWarning)\n"
     ]
    },
    {
     "name": "stdout",
     "output_type": "stream",
     "text": [
      "[CV] END learning_rate=0.01, max_depth=8, n_estimators=100, scale_pos_weight=5; total time=19.8min\n"
     ]
    },
    {
     "name": "stderr",
     "output_type": "stream",
     "text": [
      "/Users/stygianphantom/Library/Python/3.9/lib/python/site-packages/xgboost/core.py:158: UserWarning: [02:03:03] WARNING: /Users/runner/work/xgboost/xgboost/src/learner.cc:740: \n",
      "Parameters: { \"use_label_encoder\" } are not used.\n",
      "\n",
      "  warnings.warn(smsg, UserWarning)\n"
     ]
    },
    {
     "name": "stdout",
     "output_type": "stream",
     "text": [
      "[CV] END learning_rate=0.01, max_depth=8, n_estimators=100, scale_pos_weight=5; total time=20.4min\n"
     ]
    },
    {
     "name": "stderr",
     "output_type": "stream",
     "text": [
      "/Users/stygianphantom/Library/Python/3.9/lib/python/site-packages/xgboost/core.py:158: UserWarning: [02:05:08] WARNING: /Users/runner/work/xgboost/xgboost/src/learner.cc:740: \n",
      "Parameters: { \"use_label_encoder\" } are not used.\n",
      "\n",
      "  warnings.warn(smsg, UserWarning)\n"
     ]
    },
    {
     "name": "stdout",
     "output_type": "stream",
     "text": [
      "[CV] END learning_rate=0.015, max_depth=6, n_estimators=0, scale_pos_weight=3; total time=   1.7s\n"
     ]
    },
    {
     "name": "stderr",
     "output_type": "stream",
     "text": [
      "/Users/stygianphantom/Library/Python/3.9/lib/python/site-packages/xgboost/core.py:158: UserWarning: [02:05:10] WARNING: /Users/runner/work/xgboost/xgboost/src/learner.cc:740: \n",
      "Parameters: { \"use_label_encoder\" } are not used.\n",
      "\n",
      "  warnings.warn(smsg, UserWarning)\n"
     ]
    },
    {
     "name": "stdout",
     "output_type": "stream",
     "text": [
      "[CV] END learning_rate=0.015, max_depth=6, n_estimators=0, scale_pos_weight=3; total time=   1.6s\n"
     ]
    },
    {
     "name": "stderr",
     "output_type": "stream",
     "text": [
      "/Users/stygianphantom/Library/Python/3.9/lib/python/site-packages/xgboost/core.py:158: UserWarning: [02:05:11] WARNING: /Users/runner/work/xgboost/xgboost/src/learner.cc:740: \n",
      "Parameters: { \"use_label_encoder\" } are not used.\n",
      "\n",
      "  warnings.warn(smsg, UserWarning)\n"
     ]
    },
    {
     "name": "stdout",
     "output_type": "stream",
     "text": [
      "[CV] END learning_rate=0.015, max_depth=6, n_estimators=0, scale_pos_weight=3; total time=   1.4s\n"
     ]
    },
    {
     "name": "stderr",
     "output_type": "stream",
     "text": [
      "/Users/stygianphantom/Library/Python/3.9/lib/python/site-packages/xgboost/core.py:158: UserWarning: [02:05:13] WARNING: /Users/runner/work/xgboost/xgboost/src/learner.cc:740: \n",
      "Parameters: { \"use_label_encoder\" } are not used.\n",
      "\n",
      "  warnings.warn(smsg, UserWarning)\n"
     ]
    },
    {
     "name": "stdout",
     "output_type": "stream",
     "text": [
      "[CV] END learning_rate=0.015, max_depth=6, n_estimators=0, scale_pos_weight=4; total time=   1.6s\n"
     ]
    },
    {
     "name": "stderr",
     "output_type": "stream",
     "text": [
      "/Users/stygianphantom/Library/Python/3.9/lib/python/site-packages/xgboost/core.py:158: UserWarning: [02:05:14] WARNING: /Users/runner/work/xgboost/xgboost/src/learner.cc:740: \n",
      "Parameters: { \"use_label_encoder\" } are not used.\n",
      "\n",
      "  warnings.warn(smsg, UserWarning)\n"
     ]
    },
    {
     "name": "stdout",
     "output_type": "stream",
     "text": [
      "[CV] END learning_rate=0.015, max_depth=6, n_estimators=0, scale_pos_weight=4; total time=   1.4s\n"
     ]
    },
    {
     "name": "stderr",
     "output_type": "stream",
     "text": [
      "/Users/stygianphantom/Library/Python/3.9/lib/python/site-packages/xgboost/core.py:158: UserWarning: [02:05:16] WARNING: /Users/runner/work/xgboost/xgboost/src/learner.cc:740: \n",
      "Parameters: { \"use_label_encoder\" } are not used.\n",
      "\n",
      "  warnings.warn(smsg, UserWarning)\n"
     ]
    },
    {
     "name": "stdout",
     "output_type": "stream",
     "text": [
      "[CV] END learning_rate=0.015, max_depth=6, n_estimators=0, scale_pos_weight=4; total time=   1.5s\n"
     ]
    },
    {
     "name": "stderr",
     "output_type": "stream",
     "text": [
      "/Users/stygianphantom/Library/Python/3.9/lib/python/site-packages/xgboost/core.py:158: UserWarning: [02:05:18] WARNING: /Users/runner/work/xgboost/xgboost/src/learner.cc:740: \n",
      "Parameters: { \"use_label_encoder\" } are not used.\n",
      "\n",
      "  warnings.warn(smsg, UserWarning)\n"
     ]
    },
    {
     "name": "stdout",
     "output_type": "stream",
     "text": [
      "[CV] END learning_rate=0.015, max_depth=6, n_estimators=0, scale_pos_weight=5; total time=   1.6s\n"
     ]
    },
    {
     "name": "stderr",
     "output_type": "stream",
     "text": [
      "/Users/stygianphantom/Library/Python/3.9/lib/python/site-packages/xgboost/core.py:158: UserWarning: [02:05:19] WARNING: /Users/runner/work/xgboost/xgboost/src/learner.cc:740: \n",
      "Parameters: { \"use_label_encoder\" } are not used.\n",
      "\n",
      "  warnings.warn(smsg, UserWarning)\n"
     ]
    },
    {
     "name": "stdout",
     "output_type": "stream",
     "text": [
      "[CV] END learning_rate=0.015, max_depth=6, n_estimators=0, scale_pos_weight=5; total time=   1.8s\n"
     ]
    },
    {
     "name": "stderr",
     "output_type": "stream",
     "text": [
      "/Users/stygianphantom/Library/Python/3.9/lib/python/site-packages/xgboost/core.py:158: UserWarning: [02:05:21] WARNING: /Users/runner/work/xgboost/xgboost/src/learner.cc:740: \n",
      "Parameters: { \"use_label_encoder\" } are not used.\n",
      "\n",
      "  warnings.warn(smsg, UserWarning)\n"
     ]
    },
    {
     "name": "stdout",
     "output_type": "stream",
     "text": [
      "[CV] END learning_rate=0.015, max_depth=6, n_estimators=0, scale_pos_weight=5; total time=   2.0s\n"
     ]
    },
    {
     "name": "stderr",
     "output_type": "stream",
     "text": [
      "/Users/stygianphantom/Library/Python/3.9/lib/python/site-packages/xgboost/core.py:158: UserWarning: [02:05:23] WARNING: /Users/runner/work/xgboost/xgboost/src/learner.cc:740: \n",
      "Parameters: { \"use_label_encoder\" } are not used.\n",
      "\n",
      "  warnings.warn(smsg, UserWarning)\n"
     ]
    },
    {
     "name": "stdout",
     "output_type": "stream",
     "text": [
      "[CV] END learning_rate=0.01, max_depth=8, n_estimators=100, scale_pos_weight=5; total time=19.1min\n"
     ]
    },
    {
     "name": "stderr",
     "output_type": "stream",
     "text": [
      "/Users/stygianphantom/Library/Python/3.9/lib/python/site-packages/xgboost/core.py:158: UserWarning: [02:06:36] WARNING: /Users/runner/work/xgboost/xgboost/src/learner.cc:740: \n",
      "Parameters: { \"use_label_encoder\" } are not used.\n",
      "\n",
      "  warnings.warn(smsg, UserWarning)\n"
     ]
    },
    {
     "name": "stdout",
     "output_type": "stream",
     "text": [
      "[CV] END learning_rate=0.015, max_depth=6, n_estimators=100, scale_pos_weight=3; total time= 6.9min\n"
     ]
    },
    {
     "name": "stderr",
     "output_type": "stream",
     "text": [
      "/Users/stygianphantom/Library/Python/3.9/lib/python/site-packages/xgboost/core.py:158: UserWarning: [02:12:15] WARNING: /Users/runner/work/xgboost/xgboost/src/learner.cc:740: \n",
      "Parameters: { \"use_label_encoder\" } are not used.\n",
      "\n",
      "  warnings.warn(smsg, UserWarning)\n"
     ]
    },
    {
     "name": "stdout",
     "output_type": "stream",
     "text": [
      "[CV] END learning_rate=0.015, max_depth=6, n_estimators=100, scale_pos_weight=3; total time= 7.3min\n"
     ]
    },
    {
     "name": "stderr",
     "output_type": "stream",
     "text": [
      "/Users/stygianphantom/Library/Python/3.9/lib/python/site-packages/xgboost/core.py:158: UserWarning: [02:13:56] WARNING: /Users/runner/work/xgboost/xgboost/src/learner.cc:740: \n",
      "Parameters: { \"use_label_encoder\" } are not used.\n",
      "\n",
      "  warnings.warn(smsg, UserWarning)\n"
     ]
    },
    {
     "name": "stdout",
     "output_type": "stream",
     "text": [
      "[CV] END learning_rate=0.015, max_depth=6, n_estimators=100, scale_pos_weight=3; total time= 7.2min\n"
     ]
    },
    {
     "name": "stderr",
     "output_type": "stream",
     "text": [
      "/Users/stygianphantom/Library/Python/3.9/lib/python/site-packages/xgboost/core.py:158: UserWarning: [02:19:27] WARNING: /Users/runner/work/xgboost/xgboost/src/learner.cc:740: \n",
      "Parameters: { \"use_label_encoder\" } are not used.\n",
      "\n",
      "  warnings.warn(smsg, UserWarning)\n"
     ]
    },
    {
     "name": "stdout",
     "output_type": "stream",
     "text": [
      "[CV] END learning_rate=0.015, max_depth=6, n_estimators=100, scale_pos_weight=4; total time= 7.3min\n"
     ]
    },
    {
     "name": "stderr",
     "output_type": "stream",
     "text": [
      "/Users/stygianphantom/Library/Python/3.9/lib/python/site-packages/xgboost/core.py:158: UserWarning: [02:21:15] WARNING: /Users/runner/work/xgboost/xgboost/src/learner.cc:740: \n",
      "Parameters: { \"use_label_encoder\" } are not used.\n",
      "\n",
      "  warnings.warn(smsg, UserWarning)\n"
     ]
    },
    {
     "name": "stdout",
     "output_type": "stream",
     "text": [
      "[CV] END learning_rate=0.01, max_depth=8, n_estimators=200, scale_pos_weight=3; total time=35.1min\n"
     ]
    },
    {
     "name": "stderr",
     "output_type": "stream",
     "text": [
      "/Users/stygianphantom/Library/Python/3.9/lib/python/site-packages/xgboost/core.py:158: UserWarning: [02:23:20] WARNING: /Users/runner/work/xgboost/xgboost/src/learner.cc:740: \n",
      "Parameters: { \"use_label_encoder\" } are not used.\n",
      "\n",
      "  warnings.warn(smsg, UserWarning)\n"
     ]
    },
    {
     "name": "stdout",
     "output_type": "stream",
     "text": [
      "[CV] END learning_rate=0.01, max_depth=8, n_estimators=200, scale_pos_weight=3; total time=36.3min\n"
     ]
    },
    {
     "name": "stderr",
     "output_type": "stream",
     "text": [
      "/Users/stygianphantom/Library/Python/3.9/lib/python/site-packages/xgboost/core.py:158: UserWarning: [02:23:51] WARNING: /Users/runner/work/xgboost/xgboost/src/learner.cc:740: \n",
      "Parameters: { \"use_label_encoder\" } are not used.\n",
      "\n",
      "  warnings.warn(smsg, UserWarning)\n"
     ]
    },
    {
     "name": "stdout",
     "output_type": "stream",
     "text": [
      "[CV] END learning_rate=0.01, max_depth=8, n_estimators=200, scale_pos_weight=4; total time=36.3min\n"
     ]
    },
    {
     "name": "stderr",
     "output_type": "stream",
     "text": [
      "/Users/stygianphantom/Library/Python/3.9/lib/python/site-packages/xgboost/core.py:158: UserWarning: [02:25:04] WARNING: /Users/runner/work/xgboost/xgboost/src/learner.cc:740: \n",
      "Parameters: { \"use_label_encoder\" } are not used.\n",
      "\n",
      "  warnings.warn(smsg, UserWarning)\n"
     ]
    },
    {
     "name": "stdout",
     "output_type": "stream",
     "text": [
      "[CV] END learning_rate=0.01, max_depth=8, n_estimators=200, scale_pos_weight=3; total time=37.5min\n"
     ]
    },
    {
     "name": "stderr",
     "output_type": "stream",
     "text": [
      "/Users/stygianphantom/Library/Python/3.9/lib/python/site-packages/xgboost/core.py:158: UserWarning: [02:25:40] WARNING: /Users/runner/work/xgboost/xgboost/src/learner.cc:740: \n",
      "Parameters: { \"use_label_encoder\" } are not used.\n",
      "\n",
      "  warnings.warn(smsg, UserWarning)\n"
     ]
    },
    {
     "name": "stdout",
     "output_type": "stream",
     "text": [
      "[CV] END learning_rate=0.015, max_depth=6, n_estimators=100, scale_pos_weight=4; total time= 7.2min\n"
     ]
    },
    {
     "name": "stderr",
     "output_type": "stream",
     "text": [
      "/Users/stygianphantom/Library/Python/3.9/lib/python/site-packages/xgboost/core.py:158: UserWarning: [02:26:36] WARNING: /Users/runner/work/xgboost/xgboost/src/learner.cc:740: \n",
      "Parameters: { \"use_label_encoder\" } are not used.\n",
      "\n",
      "  warnings.warn(smsg, UserWarning)\n"
     ]
    },
    {
     "name": "stdout",
     "output_type": "stream",
     "text": [
      "[CV] END learning_rate=0.015, max_depth=6, n_estimators=100, scale_pos_weight=4; total time= 6.9min\n"
     ]
    },
    {
     "name": "stderr",
     "output_type": "stream",
     "text": [
      "/Users/stygianphantom/Library/Python/3.9/lib/python/site-packages/xgboost/core.py:158: UserWarning: [02:28:11] WARNING: /Users/runner/work/xgboost/xgboost/src/learner.cc:740: \n",
      "Parameters: { \"use_label_encoder\" } are not used.\n",
      "\n",
      "  warnings.warn(smsg, UserWarning)\n"
     ]
    },
    {
     "name": "stdout",
     "output_type": "stream",
     "text": [
      "[CV] END learning_rate=0.015, max_depth=6, n_estimators=100, scale_pos_weight=5; total time= 6.8min\n"
     ]
    },
    {
     "name": "stderr",
     "output_type": "stream",
     "text": [
      "/Users/stygianphantom/Library/Python/3.9/lib/python/site-packages/xgboost/core.py:158: UserWarning: [02:30:08] WARNING: /Users/runner/work/xgboost/xgboost/src/learner.cc:740: \n",
      "Parameters: { \"use_label_encoder\" } are not used.\n",
      "\n",
      "  warnings.warn(smsg, UserWarning)\n"
     ]
    },
    {
     "name": "stdout",
     "output_type": "stream",
     "text": [
      "[CV] END learning_rate=0.015, max_depth=6, n_estimators=100, scale_pos_weight=5; total time= 6.9min\n"
     ]
    },
    {
     "name": "stderr",
     "output_type": "stream",
     "text": [
      "/Users/stygianphantom/Library/Python/3.9/lib/python/site-packages/xgboost/core.py:158: UserWarning: [02:30:42] WARNING: /Users/runner/work/xgboost/xgboost/src/learner.cc:740: \n",
      "Parameters: { \"use_label_encoder\" } are not used.\n",
      "\n",
      "  warnings.warn(smsg, UserWarning)\n"
     ]
    },
    {
     "name": "stdout",
     "output_type": "stream",
     "text": [
      "[CV] END learning_rate=0.015, max_depth=6, n_estimators=100, scale_pos_weight=5; total time= 6.8min\n"
     ]
    },
    {
     "name": "stderr",
     "output_type": "stream",
     "text": [
      "/Users/stygianphantom/Library/Python/3.9/lib/python/site-packages/xgboost/core.py:158: UserWarning: [02:31:53] WARNING: /Users/runner/work/xgboost/xgboost/src/learner.cc:740: \n",
      "Parameters: { \"use_label_encoder\" } are not used.\n",
      "\n",
      "  warnings.warn(smsg, UserWarning)\n"
     ]
    },
    {
     "name": "stdout",
     "output_type": "stream",
     "text": [
      "[CV] END learning_rate=0.01, max_depth=8, n_estimators=200, scale_pos_weight=4; total time=37.5min\n"
     ]
    },
    {
     "name": "stderr",
     "output_type": "stream",
     "text": [
      "/Users/stygianphantom/Library/Python/3.9/lib/python/site-packages/xgboost/core.py:158: UserWarning: [02:35:40] WARNING: /Users/runner/work/xgboost/xgboost/src/learner.cc:740: \n",
      "Parameters: { \"use_label_encoder\" } are not used.\n",
      "\n",
      "  warnings.warn(smsg, UserWarning)\n"
     ]
    },
    {
     "name": "stdout",
     "output_type": "stream",
     "text": [
      "[CV] END learning_rate=0.01, max_depth=8, n_estimators=200, scale_pos_weight=4; total time=34.8min\n"
     ]
    },
    {
     "name": "stderr",
     "output_type": "stream",
     "text": [
      "/Users/stygianphantom/Library/Python/3.9/lib/python/site-packages/xgboost/core.py:158: UserWarning: [02:35:58] WARNING: /Users/runner/work/xgboost/xgboost/src/learner.cc:740: \n",
      "Parameters: { \"use_label_encoder\" } are not used.\n",
      "\n",
      "  warnings.warn(smsg, UserWarning)\n"
     ]
    },
    {
     "name": "stdout",
     "output_type": "stream",
     "text": [
      "[CV] END learning_rate=0.015, max_depth=6, n_estimators=200, scale_pos_weight=3; total time=11.1min\n"
     ]
    },
    {
     "name": "stderr",
     "output_type": "stream",
     "text": [
      "/Users/stygianphantom/Library/Python/3.9/lib/python/site-packages/xgboost/core.py:158: UserWarning: [02:36:47] WARNING: /Users/runner/work/xgboost/xgboost/src/learner.cc:740: \n",
      "Parameters: { \"use_label_encoder\" } are not used.\n",
      "\n",
      "  warnings.warn(smsg, UserWarning)\n"
     ]
    },
    {
     "name": "stdout",
     "output_type": "stream",
     "text": [
      "[CV] END learning_rate=0.01, max_depth=8, n_estimators=200, scale_pos_weight=5; total time=35.9min\n"
     ]
    },
    {
     "name": "stderr",
     "output_type": "stream",
     "text": [
      "/Users/stygianphantom/Library/Python/3.9/lib/python/site-packages/xgboost/core.py:158: UserWarning: [02:37:40] WARNING: /Users/runner/work/xgboost/xgboost/src/learner.cc:740: \n",
      "Parameters: { \"use_label_encoder\" } are not used.\n",
      "\n",
      "  warnings.warn(smsg, UserWarning)\n"
     ]
    },
    {
     "name": "stdout",
     "output_type": "stream",
     "text": [
      "[CV] END learning_rate=0.015, max_depth=7, n_estimators=0, scale_pos_weight=3; total time=   1.6s\n"
     ]
    },
    {
     "name": "stderr",
     "output_type": "stream",
     "text": [
      "/Users/stygianphantom/Library/Python/3.9/lib/python/site-packages/xgboost/core.py:158: UserWarning: [02:37:41] WARNING: /Users/runner/work/xgboost/xgboost/src/learner.cc:740: \n",
      "Parameters: { \"use_label_encoder\" } are not used.\n",
      "\n",
      "  warnings.warn(smsg, UserWarning)\n"
     ]
    },
    {
     "name": "stdout",
     "output_type": "stream",
     "text": [
      "[CV] END learning_rate=0.015, max_depth=7, n_estimators=0, scale_pos_weight=3; total time=   1.5s\n"
     ]
    },
    {
     "name": "stderr",
     "output_type": "stream",
     "text": [
      "/Users/stygianphantom/Library/Python/3.9/lib/python/site-packages/xgboost/core.py:158: UserWarning: [02:37:43] WARNING: /Users/runner/work/xgboost/xgboost/src/learner.cc:740: \n",
      "Parameters: { \"use_label_encoder\" } are not used.\n",
      "\n",
      "  warnings.warn(smsg, UserWarning)\n"
     ]
    },
    {
     "name": "stdout",
     "output_type": "stream",
     "text": [
      "[CV] END learning_rate=0.015, max_depth=7, n_estimators=0, scale_pos_weight=3; total time=   1.4s\n"
     ]
    },
    {
     "name": "stderr",
     "output_type": "stream",
     "text": [
      "/Users/stygianphantom/Library/Python/3.9/lib/python/site-packages/xgboost/core.py:158: UserWarning: [02:37:44] WARNING: /Users/runner/work/xgboost/xgboost/src/learner.cc:740: \n",
      "Parameters: { \"use_label_encoder\" } are not used.\n",
      "\n",
      "  warnings.warn(smsg, UserWarning)\n"
     ]
    },
    {
     "name": "stdout",
     "output_type": "stream",
     "text": [
      "[CV] END learning_rate=0.015, max_depth=7, n_estimators=0, scale_pos_weight=4; total time=   1.1s\n"
     ]
    },
    {
     "name": "stderr",
     "output_type": "stream",
     "text": [
      "/Users/stygianphantom/Library/Python/3.9/lib/python/site-packages/xgboost/core.py:158: UserWarning: [02:37:45] WARNING: /Users/runner/work/xgboost/xgboost/src/learner.cc:740: \n",
      "Parameters: { \"use_label_encoder\" } are not used.\n",
      "\n",
      "  warnings.warn(smsg, UserWarning)\n"
     ]
    },
    {
     "name": "stdout",
     "output_type": "stream",
     "text": [
      "[CV] END learning_rate=0.015, max_depth=7, n_estimators=0, scale_pos_weight=4; total time=   1.4s\n"
     ]
    },
    {
     "name": "stderr",
     "output_type": "stream",
     "text": [
      "/Users/stygianphantom/Library/Python/3.9/lib/python/site-packages/xgboost/core.py:158: UserWarning: [02:37:47] WARNING: /Users/runner/work/xgboost/xgboost/src/learner.cc:740: \n",
      "Parameters: { \"use_label_encoder\" } are not used.\n",
      "\n",
      "  warnings.warn(smsg, UserWarning)\n"
     ]
    },
    {
     "name": "stdout",
     "output_type": "stream",
     "text": [
      "[CV] END learning_rate=0.015, max_depth=7, n_estimators=0, scale_pos_weight=4; total time=   1.6s\n"
     ]
    },
    {
     "name": "stderr",
     "output_type": "stream",
     "text": [
      "/Users/stygianphantom/Library/Python/3.9/lib/python/site-packages/xgboost/core.py:158: UserWarning: [02:37:49] WARNING: /Users/runner/work/xgboost/xgboost/src/learner.cc:740: \n",
      "Parameters: { \"use_label_encoder\" } are not used.\n",
      "\n",
      "  warnings.warn(smsg, UserWarning)\n"
     ]
    },
    {
     "name": "stdout",
     "output_type": "stream",
     "text": [
      "[CV] END learning_rate=0.015, max_depth=7, n_estimators=0, scale_pos_weight=5; total time=   1.6s\n"
     ]
    },
    {
     "name": "stderr",
     "output_type": "stream",
     "text": [
      "/Users/stygianphantom/Library/Python/3.9/lib/python/site-packages/xgboost/core.py:158: UserWarning: [02:37:50] WARNING: /Users/runner/work/xgboost/xgboost/src/learner.cc:740: \n",
      "Parameters: { \"use_label_encoder\" } are not used.\n",
      "\n",
      "  warnings.warn(smsg, UserWarning)\n"
     ]
    },
    {
     "name": "stdout",
     "output_type": "stream",
     "text": [
      "[CV] END learning_rate=0.015, max_depth=7, n_estimators=0, scale_pos_weight=5; total time=   1.6s\n"
     ]
    },
    {
     "name": "stderr",
     "output_type": "stream",
     "text": [
      "/Users/stygianphantom/Library/Python/3.9/lib/python/site-packages/xgboost/core.py:158: UserWarning: [02:37:52] WARNING: /Users/runner/work/xgboost/xgboost/src/learner.cc:740: \n",
      "Parameters: { \"use_label_encoder\" } are not used.\n",
      "\n",
      "  warnings.warn(smsg, UserWarning)\n"
     ]
    },
    {
     "name": "stdout",
     "output_type": "stream",
     "text": [
      "[CV] END learning_rate=0.015, max_depth=7, n_estimators=0, scale_pos_weight=5; total time=   1.6s\n"
     ]
    },
    {
     "name": "stderr",
     "output_type": "stream",
     "text": [
      "/Users/stygianphantom/Library/Python/3.9/lib/python/site-packages/xgboost/core.py:158: UserWarning: [02:37:53] WARNING: /Users/runner/work/xgboost/xgboost/src/learner.cc:740: \n",
      "Parameters: { \"use_label_encoder\" } are not used.\n",
      "\n",
      "  warnings.warn(smsg, UserWarning)\n"
     ]
    },
    {
     "name": "stdout",
     "output_type": "stream",
     "text": [
      "[CV] END learning_rate=0.01, max_depth=8, n_estimators=200, scale_pos_weight=5; total time=35.0min\n"
     ]
    },
    {
     "name": "stderr",
     "output_type": "stream",
     "text": [
      "/Users/stygianphantom/Library/Python/3.9/lib/python/site-packages/xgboost/core.py:158: UserWarning: [02:38:01] WARNING: /Users/runner/work/xgboost/xgboost/src/learner.cc:740: \n",
      "Parameters: { \"use_label_encoder\" } are not used.\n",
      "\n",
      "  warnings.warn(smsg, UserWarning)\n"
     ]
    },
    {
     "name": "stdout",
     "output_type": "stream",
     "text": [
      "[CV] END learning_rate=0.015, max_depth=6, n_estimators=200, scale_pos_weight=3; total time=11.9min\n"
     ]
    },
    {
     "name": "stderr",
     "output_type": "stream",
     "text": [
      "/Users/stygianphantom/Library/Python/3.9/lib/python/site-packages/xgboost/core.py:158: UserWarning: [02:38:29] WARNING: /Users/runner/work/xgboost/xgboost/src/learner.cc:740: \n",
      "Parameters: { \"use_label_encoder\" } are not used.\n",
      "\n",
      "  warnings.warn(smsg, UserWarning)\n"
     ]
    },
    {
     "name": "stdout",
     "output_type": "stream",
     "text": [
      "[CV] END learning_rate=0.01, max_depth=8, n_estimators=200, scale_pos_weight=5; total time=37.2min\n"
     ]
    },
    {
     "name": "stderr",
     "output_type": "stream",
     "text": [
      "/Users/stygianphantom/Library/Python/3.9/lib/python/site-packages/xgboost/core.py:158: UserWarning: [02:39:28] WARNING: /Users/runner/work/xgboost/xgboost/src/learner.cc:740: \n",
      "Parameters: { \"use_label_encoder\" } are not used.\n",
      "\n",
      "  warnings.warn(smsg, UserWarning)\n"
     ]
    },
    {
     "name": "stdout",
     "output_type": "stream",
     "text": [
      "[CV] END learning_rate=0.015, max_depth=6, n_estimators=200, scale_pos_weight=3; total time=12.0min\n"
     ]
    },
    {
     "name": "stderr",
     "output_type": "stream",
     "text": [
      "/Users/stygianphantom/Library/Python/3.9/lib/python/site-packages/xgboost/core.py:158: UserWarning: [02:40:10] WARNING: /Users/runner/work/xgboost/xgboost/src/learner.cc:740: \n",
      "Parameters: { \"use_label_encoder\" } are not used.\n",
      "\n",
      "  warnings.warn(smsg, UserWarning)\n"
     ]
    },
    {
     "name": "stdout",
     "output_type": "stream",
     "text": [
      "[CV] END learning_rate=0.015, max_depth=6, n_estimators=200, scale_pos_weight=4; total time=11.8min\n"
     ]
    },
    {
     "name": "stderr",
     "output_type": "stream",
     "text": [
      "/Users/stygianphantom/Library/Python/3.9/lib/python/site-packages/xgboost/core.py:158: UserWarning: [02:41:57] WARNING: /Users/runner/work/xgboost/xgboost/src/learner.cc:740: \n",
      "Parameters: { \"use_label_encoder\" } are not used.\n",
      "\n",
      "  warnings.warn(smsg, UserWarning)\n"
     ]
    },
    {
     "name": "stdout",
     "output_type": "stream",
     "text": [
      "[CV] END learning_rate=0.015, max_depth=6, n_estimators=200, scale_pos_weight=4; total time=11.6min\n"
     ]
    },
    {
     "name": "stderr",
     "output_type": "stream",
     "text": [
      "/Users/stygianphantom/Library/Python/3.9/lib/python/site-packages/xgboost/core.py:158: UserWarning: [02:42:21] WARNING: /Users/runner/work/xgboost/xgboost/src/learner.cc:740: \n",
      "Parameters: { \"use_label_encoder\" } are not used.\n",
      "\n",
      "  warnings.warn(smsg, UserWarning)\n"
     ]
    },
    {
     "name": "stdout",
     "output_type": "stream",
     "text": [
      "[CV] END learning_rate=0.015, max_depth=6, n_estimators=200, scale_pos_weight=4; total time=11.8min\n"
     ]
    },
    {
     "name": "stderr",
     "output_type": "stream",
     "text": [
      "/Users/stygianphantom/Library/Python/3.9/lib/python/site-packages/xgboost/core.py:158: UserWarning: [02:43:42] WARNING: /Users/runner/work/xgboost/xgboost/src/learner.cc:740: \n",
      "Parameters: { \"use_label_encoder\" } are not used.\n",
      "\n",
      "  warnings.warn(smsg, UserWarning)\n"
     ]
    },
    {
     "name": "stdout",
     "output_type": "stream",
     "text": [
      "[CV] END learning_rate=0.015, max_depth=6, n_estimators=200, scale_pos_weight=5; total time=11.7min\n"
     ]
    },
    {
     "name": "stderr",
     "output_type": "stream",
     "text": [
      "/Users/stygianphantom/Library/Python/3.9/lib/python/site-packages/xgboost/core.py:158: UserWarning: [02:47:25] WARNING: /Users/runner/work/xgboost/xgboost/src/learner.cc:740: \n",
      "Parameters: { \"use_label_encoder\" } are not used.\n",
      "\n",
      "  warnings.warn(smsg, UserWarning)\n"
     ]
    },
    {
     "name": "stdout",
     "output_type": "stream",
     "text": [
      "[CV] END learning_rate=0.015, max_depth=6, n_estimators=200, scale_pos_weight=5; total time=11.7min\n"
     ]
    },
    {
     "name": "stderr",
     "output_type": "stream",
     "text": [
      "/Users/stygianphantom/Library/Python/3.9/lib/python/site-packages/xgboost/core.py:158: UserWarning: [02:47:43] WARNING: /Users/runner/work/xgboost/xgboost/src/learner.cc:740: \n",
      "Parameters: { \"use_label_encoder\" } are not used.\n",
      "\n",
      "  warnings.warn(smsg, UserWarning)\n"
     ]
    },
    {
     "name": "stdout",
     "output_type": "stream",
     "text": [
      "[CV] END learning_rate=0.015, max_depth=6, n_estimators=200, scale_pos_weight=5; total time=12.1min\n"
     ]
    },
    {
     "name": "stderr",
     "output_type": "stream",
     "text": [
      "/Users/stygianphantom/Library/Python/3.9/lib/python/site-packages/xgboost/core.py:158: UserWarning: [02:48:54] WARNING: /Users/runner/work/xgboost/xgboost/src/learner.cc:740: \n",
      "Parameters: { \"use_label_encoder\" } are not used.\n",
      "\n",
      "  warnings.warn(smsg, UserWarning)\n"
     ]
    },
    {
     "name": "stdout",
     "output_type": "stream",
     "text": [
      "[CV] END learning_rate=0.015, max_depth=7, n_estimators=100, scale_pos_weight=3; total time=11.7min\n"
     ]
    },
    {
     "name": "stderr",
     "output_type": "stream",
     "text": [
      "/Users/stygianphantom/Library/Python/3.9/lib/python/site-packages/xgboost/core.py:158: UserWarning: [02:49:37] WARNING: /Users/runner/work/xgboost/xgboost/src/learner.cc:740: \n",
      "Parameters: { \"use_label_encoder\" } are not used.\n",
      "\n",
      "  warnings.warn(smsg, UserWarning)\n"
     ]
    },
    {
     "name": "stdout",
     "output_type": "stream",
     "text": [
      "[CV] END learning_rate=0.015, max_depth=7, n_estimators=100, scale_pos_weight=3; total time=11.8min\n"
     ]
    },
    {
     "name": "stderr",
     "output_type": "stream",
     "text": [
      "/Users/stygianphantom/Library/Python/3.9/lib/python/site-packages/xgboost/core.py:158: UserWarning: [02:49:49] WARNING: /Users/runner/work/xgboost/xgboost/src/learner.cc:740: \n",
      "Parameters: { \"use_label_encoder\" } are not used.\n",
      "\n",
      "  warnings.warn(smsg, UserWarning)\n"
     ]
    },
    {
     "name": "stdout",
     "output_type": "stream",
     "text": [
      "[CV] END learning_rate=0.015, max_depth=7, n_estimators=100, scale_pos_weight=3; total time=11.4min\n"
     ]
    },
    {
     "name": "stderr",
     "output_type": "stream",
     "text": [
      "/Users/stygianphantom/Library/Python/3.9/lib/python/site-packages/xgboost/core.py:158: UserWarning: [02:49:53] WARNING: /Users/runner/work/xgboost/xgboost/src/learner.cc:740: \n",
      "Parameters: { \"use_label_encoder\" } are not used.\n",
      "\n",
      "  warnings.warn(smsg, UserWarning)\n"
     ]
    },
    {
     "name": "stdout",
     "output_type": "stream",
     "text": [
      "[CV] END learning_rate=0.015, max_depth=7, n_estimators=100, scale_pos_weight=4; total time=11.9min\n"
     ]
    },
    {
     "name": "stderr",
     "output_type": "stream",
     "text": [
      "/Users/stygianphantom/Library/Python/3.9/lib/python/site-packages/xgboost/core.py:158: UserWarning: [02:51:22] WARNING: /Users/runner/work/xgboost/xgboost/src/learner.cc:740: \n",
      "Parameters: { \"use_label_encoder\" } are not used.\n",
      "\n",
      "  warnings.warn(smsg, UserWarning)\n"
     ]
    },
    {
     "name": "stdout",
     "output_type": "stream",
     "text": [
      "[CV] END learning_rate=0.015, max_depth=7, n_estimators=100, scale_pos_weight=4; total time=12.3min\n"
     ]
    },
    {
     "name": "stderr",
     "output_type": "stream",
     "text": [
      "/Users/stygianphantom/Library/Python/3.9/lib/python/site-packages/xgboost/core.py:158: UserWarning: [02:52:29] WARNING: /Users/runner/work/xgboost/xgboost/src/learner.cc:740: \n",
      "Parameters: { \"use_label_encoder\" } are not used.\n",
      "\n",
      "  warnings.warn(smsg, UserWarning)\n"
     ]
    },
    {
     "name": "stdout",
     "output_type": "stream",
     "text": [
      "[CV] END learning_rate=0.015, max_depth=7, n_estimators=100, scale_pos_weight=4; total time=11.7min\n"
     ]
    },
    {
     "name": "stderr",
     "output_type": "stream",
     "text": [
      "/Users/stygianphantom/Library/Python/3.9/lib/python/site-packages/xgboost/core.py:158: UserWarning: [02:53:41] WARNING: /Users/runner/work/xgboost/xgboost/src/learner.cc:740: \n",
      "Parameters: { \"use_label_encoder\" } are not used.\n",
      "\n",
      "  warnings.warn(smsg, UserWarning)\n"
     ]
    },
    {
     "name": "stdout",
     "output_type": "stream",
     "text": [
      "[CV] END learning_rate=0.015, max_depth=7, n_estimators=100, scale_pos_weight=5; total time=11.9min\n"
     ]
    },
    {
     "name": "stderr",
     "output_type": "stream",
     "text": [
      "/Users/stygianphantom/Library/Python/3.9/lib/python/site-packages/xgboost/core.py:158: UserWarning: [02:54:13] WARNING: /Users/runner/work/xgboost/xgboost/src/learner.cc:740: \n",
      "Parameters: { \"use_label_encoder\" } are not used.\n",
      "\n",
      "  warnings.warn(smsg, UserWarning)\n"
     ]
    },
    {
     "name": "stdout",
     "output_type": "stream",
     "text": [
      "[CV] END learning_rate=0.015, max_depth=7, n_estimators=100, scale_pos_weight=5; total time=12.3min\n"
     ]
    },
    {
     "name": "stderr",
     "output_type": "stream",
     "text": [
      "/Users/stygianphantom/Library/Python/3.9/lib/python/site-packages/xgboost/core.py:158: UserWarning: [02:56:02] WARNING: /Users/runner/work/xgboost/xgboost/src/learner.cc:740: \n",
      "Parameters: { \"use_label_encoder\" } are not used.\n",
      "\n",
      "  warnings.warn(smsg, UserWarning)\n"
     ]
    },
    {
     "name": "stdout",
     "output_type": "stream",
     "text": [
      "[CV] END learning_rate=0.015, max_depth=8, n_estimators=0, scale_pos_weight=3; total time=   1.4s\n"
     ]
    },
    {
     "name": "stderr",
     "output_type": "stream",
     "text": [
      "/Users/stygianphantom/Library/Python/3.9/lib/python/site-packages/xgboost/core.py:158: UserWarning: [02:56:04] WARNING: /Users/runner/work/xgboost/xgboost/src/learner.cc:740: \n",
      "Parameters: { \"use_label_encoder\" } are not used.\n",
      "\n",
      "  warnings.warn(smsg, UserWarning)\n"
     ]
    },
    {
     "name": "stdout",
     "output_type": "stream",
     "text": [
      "[CV] END learning_rate=0.015, max_depth=8, n_estimators=0, scale_pos_weight=3; total time=   1.4s\n"
     ]
    },
    {
     "name": "stderr",
     "output_type": "stream",
     "text": [
      "/Users/stygianphantom/Library/Python/3.9/lib/python/site-packages/xgboost/core.py:158: UserWarning: [02:56:05] WARNING: /Users/runner/work/xgboost/xgboost/src/learner.cc:740: \n",
      "Parameters: { \"use_label_encoder\" } are not used.\n",
      "\n",
      "  warnings.warn(smsg, UserWarning)\n"
     ]
    },
    {
     "name": "stdout",
     "output_type": "stream",
     "text": [
      "[CV] END learning_rate=0.015, max_depth=8, n_estimators=0, scale_pos_weight=3; total time=   1.4s\n"
     ]
    },
    {
     "name": "stderr",
     "output_type": "stream",
     "text": [
      "/Users/stygianphantom/Library/Python/3.9/lib/python/site-packages/xgboost/core.py:158: UserWarning: [02:56:07] WARNING: /Users/runner/work/xgboost/xgboost/src/learner.cc:740: \n",
      "Parameters: { \"use_label_encoder\" } are not used.\n",
      "\n",
      "  warnings.warn(smsg, UserWarning)\n"
     ]
    },
    {
     "name": "stdout",
     "output_type": "stream",
     "text": [
      "[CV] END learning_rate=0.015, max_depth=8, n_estimators=0, scale_pos_weight=4; total time=   1.5s\n"
     ]
    },
    {
     "name": "stderr",
     "output_type": "stream",
     "text": [
      "/Users/stygianphantom/Library/Python/3.9/lib/python/site-packages/xgboost/core.py:158: UserWarning: [02:56:08] WARNING: /Users/runner/work/xgboost/xgboost/src/learner.cc:740: \n",
      "Parameters: { \"use_label_encoder\" } are not used.\n",
      "\n",
      "  warnings.warn(smsg, UserWarning)\n"
     ]
    },
    {
     "name": "stdout",
     "output_type": "stream",
     "text": [
      "[CV] END learning_rate=0.015, max_depth=8, n_estimators=0, scale_pos_weight=4; total time=   1.5s\n"
     ]
    },
    {
     "name": "stderr",
     "output_type": "stream",
     "text": [
      "/Users/stygianphantom/Library/Python/3.9/lib/python/site-packages/xgboost/core.py:158: UserWarning: [02:56:10] WARNING: /Users/runner/work/xgboost/xgboost/src/learner.cc:740: \n",
      "Parameters: { \"use_label_encoder\" } are not used.\n",
      "\n",
      "  warnings.warn(smsg, UserWarning)\n"
     ]
    },
    {
     "name": "stdout",
     "output_type": "stream",
     "text": [
      "[CV] END learning_rate=0.015, max_depth=8, n_estimators=0, scale_pos_weight=4; total time=   1.4s\n"
     ]
    },
    {
     "name": "stderr",
     "output_type": "stream",
     "text": [
      "/Users/stygianphantom/Library/Python/3.9/lib/python/site-packages/xgboost/core.py:158: UserWarning: [02:56:11] WARNING: /Users/runner/work/xgboost/xgboost/src/learner.cc:740: \n",
      "Parameters: { \"use_label_encoder\" } are not used.\n",
      "\n",
      "  warnings.warn(smsg, UserWarning)\n"
     ]
    },
    {
     "name": "stdout",
     "output_type": "stream",
     "text": [
      "[CV] END learning_rate=0.015, max_depth=8, n_estimators=0, scale_pos_weight=5; total time=   1.4s\n"
     ]
    },
    {
     "name": "stderr",
     "output_type": "stream",
     "text": [
      "/Users/stygianphantom/Library/Python/3.9/lib/python/site-packages/xgboost/core.py:158: UserWarning: [02:56:13] WARNING: /Users/runner/work/xgboost/xgboost/src/learner.cc:740: \n",
      "Parameters: { \"use_label_encoder\" } are not used.\n",
      "\n",
      "  warnings.warn(smsg, UserWarning)\n"
     ]
    },
    {
     "name": "stdout",
     "output_type": "stream",
     "text": [
      "[CV] END learning_rate=0.015, max_depth=8, n_estimators=0, scale_pos_weight=5; total time=   1.6s\n"
     ]
    },
    {
     "name": "stderr",
     "output_type": "stream",
     "text": [
      "/Users/stygianphantom/Library/Python/3.9/lib/python/site-packages/xgboost/core.py:158: UserWarning: [02:56:14] WARNING: /Users/runner/work/xgboost/xgboost/src/learner.cc:740: \n",
      "Parameters: { \"use_label_encoder\" } are not used.\n",
      "\n",
      "  warnings.warn(smsg, UserWarning)\n"
     ]
    },
    {
     "name": "stdout",
     "output_type": "stream",
     "text": [
      "[CV] END learning_rate=0.015, max_depth=8, n_estimators=0, scale_pos_weight=5; total time=   1.5s\n"
     ]
    },
    {
     "name": "stderr",
     "output_type": "stream",
     "text": [
      "/Users/stygianphantom/Library/Python/3.9/lib/python/site-packages/xgboost/core.py:158: UserWarning: [02:56:16] WARNING: /Users/runner/work/xgboost/xgboost/src/learner.cc:740: \n",
      "Parameters: { \"use_label_encoder\" } are not used.\n",
      "\n",
      "  warnings.warn(smsg, UserWarning)\n"
     ]
    },
    {
     "name": "stdout",
     "output_type": "stream",
     "text": [
      "[CV] END learning_rate=0.015, max_depth=7, n_estimators=100, scale_pos_weight=5; total time=11.5min\n"
     ]
    },
    {
     "name": "stderr",
     "output_type": "stream",
     "text": [
      "/Users/stygianphantom/Library/Python/3.9/lib/python/site-packages/xgboost/core.py:158: UserWarning: [02:58:58] WARNING: /Users/runner/work/xgboost/xgboost/src/learner.cc:740: \n",
      "Parameters: { \"use_label_encoder\" } are not used.\n",
      "\n",
      "  warnings.warn(smsg, UserWarning)\n"
     ]
    },
    {
     "name": "stdout",
     "output_type": "stream",
     "text": [
      "[CV] END learning_rate=0.015, max_depth=7, n_estimators=200, scale_pos_weight=3; total time=20.4min\n"
     ]
    },
    {
     "name": "stderr",
     "output_type": "stream",
     "text": [
      "/Users/stygianphantom/Library/Python/3.9/lib/python/site-packages/xgboost/core.py:158: UserWarning: [03:08:07] WARNING: /Users/runner/work/xgboost/xgboost/src/learner.cc:740: \n",
      "Parameters: { \"use_label_encoder\" } are not used.\n",
      "\n",
      "  warnings.warn(smsg, UserWarning)\n"
     ]
    },
    {
     "name": "stdout",
     "output_type": "stream",
     "text": [
      "[CV] END learning_rate=0.015, max_depth=7, n_estimators=200, scale_pos_weight=3; total time=20.8min\n"
     ]
    },
    {
     "name": "stderr",
     "output_type": "stream",
     "text": [
      "/Users/stygianphantom/Library/Python/3.9/lib/python/site-packages/xgboost/core.py:158: UserWarning: [03:09:42] WARNING: /Users/runner/work/xgboost/xgboost/src/learner.cc:740: \n",
      "Parameters: { \"use_label_encoder\" } are not used.\n",
      "\n",
      "  warnings.warn(smsg, UserWarning)\n"
     ]
    },
    {
     "name": "stdout",
     "output_type": "stream",
     "text": [
      "[CV] END learning_rate=0.015, max_depth=7, n_estimators=200, scale_pos_weight=3; total time=20.2min\n"
     ]
    },
    {
     "name": "stderr",
     "output_type": "stream",
     "text": [
      "/Users/stygianphantom/Library/Python/3.9/lib/python/site-packages/xgboost/core.py:158: UserWarning: [03:09:48] WARNING: /Users/runner/work/xgboost/xgboost/src/learner.cc:740: \n",
      "Parameters: { \"use_label_encoder\" } are not used.\n",
      "\n",
      "  warnings.warn(smsg, UserWarning)\n"
     ]
    },
    {
     "name": "stdout",
     "output_type": "stream",
     "text": [
      "[CV] END learning_rate=0.015, max_depth=7, n_estimators=200, scale_pos_weight=4; total time=20.9min\n"
     ]
    },
    {
     "name": "stderr",
     "output_type": "stream",
     "text": [
      "/Users/stygianphantom/Library/Python/3.9/lib/python/site-packages/xgboost/core.py:158: UserWarning: [03:10:44] WARNING: /Users/runner/work/xgboost/xgboost/src/learner.cc:740: \n",
      "Parameters: { \"use_label_encoder\" } are not used.\n",
      "\n",
      "  warnings.warn(smsg, UserWarning)\n"
     ]
    },
    {
     "name": "stdout",
     "output_type": "stream",
     "text": [
      "[CV] END learning_rate=0.015, max_depth=7, n_estimators=200, scale_pos_weight=4; total time=21.3min\n"
     ]
    },
    {
     "name": "stderr",
     "output_type": "stream",
     "text": [
      "/Users/stygianphantom/Library/Python/3.9/lib/python/site-packages/xgboost/core.py:158: UserWarning: [03:11:09] WARNING: /Users/runner/work/xgboost/xgboost/src/learner.cc:740: \n",
      "Parameters: { \"use_label_encoder\" } are not used.\n",
      "\n",
      "  warnings.warn(smsg, UserWarning)\n"
     ]
    },
    {
     "name": "stdout",
     "output_type": "stream",
     "text": [
      "[CV] END learning_rate=0.015, max_depth=7, n_estimators=200, scale_pos_weight=4; total time=20.7min\n"
     ]
    },
    {
     "name": "stderr",
     "output_type": "stream",
     "text": [
      "/Users/stygianphantom/Library/Python/3.9/lib/python/site-packages/xgboost/core.py:158: UserWarning: [03:12:01] WARNING: /Users/runner/work/xgboost/xgboost/src/learner.cc:740: \n",
      "Parameters: { \"use_label_encoder\" } are not used.\n",
      "\n",
      "  warnings.warn(smsg, UserWarning)\n"
     ]
    },
    {
     "name": "stdout",
     "output_type": "stream",
     "text": [
      "[CV] END learning_rate=0.015, max_depth=7, n_estimators=200, scale_pos_weight=5; total time=20.7min\n"
     ]
    },
    {
     "name": "stderr",
     "output_type": "stream",
     "text": [
      "/Users/stygianphantom/Library/Python/3.9/lib/python/site-packages/xgboost/core.py:158: UserWarning: [03:13:10] WARNING: /Users/runner/work/xgboost/xgboost/src/learner.cc:740: \n",
      "Parameters: { \"use_label_encoder\" } are not used.\n",
      "\n",
      "  warnings.warn(smsg, UserWarning)\n"
     ]
    },
    {
     "name": "stdout",
     "output_type": "stream",
     "text": [
      "[CV] END learning_rate=0.015, max_depth=7, n_estimators=200, scale_pos_weight=5; total time=20.6min\n"
     ]
    },
    {
     "name": "stderr",
     "output_type": "stream",
     "text": [
      "/Users/stygianphantom/Library/Python/3.9/lib/python/site-packages/xgboost/core.py:158: UserWarning: [03:14:48] WARNING: /Users/runner/work/xgboost/xgboost/src/learner.cc:740: \n",
      "Parameters: { \"use_label_encoder\" } are not used.\n",
      "\n",
      "  warnings.warn(smsg, UserWarning)\n"
     ]
    },
    {
     "name": "stdout",
     "output_type": "stream",
     "text": [
      "[CV] END learning_rate=0.015, max_depth=7, n_estimators=200, scale_pos_weight=5; total time=21.8min\n"
     ]
    },
    {
     "name": "stderr",
     "output_type": "stream",
     "text": [
      "/Users/stygianphantom/Library/Python/3.9/lib/python/site-packages/xgboost/core.py:158: UserWarning: [03:15:28] WARNING: /Users/runner/work/xgboost/xgboost/src/learner.cc:740: \n",
      "Parameters: { \"use_label_encoder\" } are not used.\n",
      "\n",
      "  warnings.warn(smsg, UserWarning)\n"
     ]
    },
    {
     "name": "stdout",
     "output_type": "stream",
     "text": [
      "[CV] END learning_rate=0.015, max_depth=8, n_estimators=100, scale_pos_weight=3; total time=19.3min\n"
     ]
    },
    {
     "name": "stderr",
     "output_type": "stream",
     "text": [
      "/Users/stygianphantom/Library/Python/3.9/lib/python/site-packages/xgboost/core.py:158: UserWarning: [03:15:35] WARNING: /Users/runner/work/xgboost/xgboost/src/learner.cc:740: \n",
      "Parameters: { \"use_label_encoder\" } are not used.\n",
      "\n",
      "  warnings.warn(smsg, UserWarning)\n"
     ]
    },
    {
     "name": "stdout",
     "output_type": "stream",
     "text": [
      "[CV] END learning_rate=0.015, max_depth=8, n_estimators=100, scale_pos_weight=3; total time=19.7min\n"
     ]
    },
    {
     "name": "stderr",
     "output_type": "stream",
     "text": [
      "/Users/stygianphantom/Library/Python/3.9/lib/python/site-packages/xgboost/core.py:158: UserWarning: [03:18:39] WARNING: /Users/runner/work/xgboost/xgboost/src/learner.cc:740: \n",
      "Parameters: { \"use_label_encoder\" } are not used.\n",
      "\n",
      "  warnings.warn(smsg, UserWarning)\n"
     ]
    },
    {
     "name": "stdout",
     "output_type": "stream",
     "text": [
      "[CV] END learning_rate=0.015, max_depth=8, n_estimators=100, scale_pos_weight=3; total time=18.5min\n"
     ]
    },
    {
     "name": "stderr",
     "output_type": "stream",
     "text": [
      "/Users/stygianphantom/Library/Python/3.9/lib/python/site-packages/xgboost/core.py:158: UserWarning: [03:26:36] WARNING: /Users/runner/work/xgboost/xgboost/src/learner.cc:740: \n",
      "Parameters: { \"use_label_encoder\" } are not used.\n",
      "\n",
      "  warnings.warn(smsg, UserWarning)\n"
     ]
    },
    {
     "name": "stdout",
     "output_type": "stream",
     "text": [
      "[CV] END learning_rate=0.015, max_depth=8, n_estimators=100, scale_pos_weight=4; total time=19.6min\n"
     ]
    },
    {
     "name": "stderr",
     "output_type": "stream",
     "text": [
      "/Users/stygianphantom/Library/Python/3.9/lib/python/site-packages/xgboost/core.py:158: UserWarning: [03:29:17] WARNING: /Users/runner/work/xgboost/xgboost/src/learner.cc:740: \n",
      "Parameters: { \"use_label_encoder\" } are not used.\n",
      "\n",
      "  warnings.warn(smsg, UserWarning)\n"
     ]
    },
    {
     "name": "stdout",
     "output_type": "stream",
     "text": [
      "[CV] END learning_rate=0.015, max_depth=8, n_estimators=100, scale_pos_weight=4; total time=18.9min\n"
     ]
    },
    {
     "name": "stderr",
     "output_type": "stream",
     "text": [
      "/Users/stygianphantom/Library/Python/3.9/lib/python/site-packages/xgboost/core.py:158: UserWarning: [03:29:36] WARNING: /Users/runner/work/xgboost/xgboost/src/learner.cc:740: \n",
      "Parameters: { \"use_label_encoder\" } are not used.\n",
      "\n",
      "  warnings.warn(smsg, UserWarning)\n"
     ]
    },
    {
     "name": "stdout",
     "output_type": "stream",
     "text": [
      "[CV] END learning_rate=0.015, max_depth=8, n_estimators=100, scale_pos_weight=4; total time=20.3min\n"
     ]
    },
    {
     "name": "stderr",
     "output_type": "stream",
     "text": [
      "/Users/stygianphantom/Library/Python/3.9/lib/python/site-packages/xgboost/core.py:158: UserWarning: [03:30:04] WARNING: /Users/runner/work/xgboost/xgboost/src/learner.cc:740: \n",
      "Parameters: { \"use_label_encoder\" } are not used.\n",
      "\n",
      "  warnings.warn(smsg, UserWarning)\n"
     ]
    },
    {
     "name": "stdout",
     "output_type": "stream",
     "text": [
      "[CV] END learning_rate=0.015, max_depth=8, n_estimators=100, scale_pos_weight=5; total time=19.4min\n"
     ]
    },
    {
     "name": "stderr",
     "output_type": "stream",
     "text": [
      "/Users/stygianphantom/Library/Python/3.9/lib/python/site-packages/xgboost/core.py:158: UserWarning: [03:30:34] WARNING: /Users/runner/work/xgboost/xgboost/src/learner.cc:740: \n",
      "Parameters: { \"use_label_encoder\" } are not used.\n",
      "\n",
      "  warnings.warn(smsg, UserWarning)\n"
     ]
    },
    {
     "name": "stdout",
     "output_type": "stream",
     "text": [
      "[CV] END learning_rate=0.015, max_depth=8, n_estimators=100, scale_pos_weight=5; total time=18.8min\n",
      "[CV] END learning_rate=0.015, max_depth=8, n_estimators=100, scale_pos_weight=5; total time=20.3min\n",
      "[CV] END learning_rate=0.015, max_depth=8, n_estimators=200, scale_pos_weight=3; total time=28.2min\n",
      "[CV] END learning_rate=0.015, max_depth=8, n_estimators=200, scale_pos_weight=3; total time=29.1min\n",
      "[CV] END learning_rate=0.015, max_depth=8, n_estimators=200, scale_pos_weight=3; total time=28.9min\n",
      "[CV] END learning_rate=0.015, max_depth=8, n_estimators=200, scale_pos_weight=4; total time=26.5min\n",
      "[CV] END learning_rate=0.015, max_depth=8, n_estimators=200, scale_pos_weight=4; total time=20.6min\n",
      "[CV] END learning_rate=0.015, max_depth=8, n_estimators=200, scale_pos_weight=4; total time=18.1min\n",
      "[CV] END learning_rate=0.015, max_depth=8, n_estimators=200, scale_pos_weight=5; total time=17.9min\n",
      "[CV] END learning_rate=0.015, max_depth=8, n_estimators=200, scale_pos_weight=5; total time=17.0min\n",
      "[CV] END learning_rate=0.015, max_depth=8, n_estimators=200, scale_pos_weight=5; total time=17.6min\n",
      "\n",
      "=== Grid Search Results ===\n",
      "Best Params: {'learning_rate': 0.005, 'max_depth': 6, 'n_estimators': 100, 'scale_pos_weight': 5}\n",
      "Best Recall Score: 0.9787384080003317\n"
     ]
    }
   ],
   "source": [
    "# from sklearn.metrics import recall_score, make_scorer\n",
    "\n",
    "# # We want recall for the positive class = 1\n",
    "# recall_scorer = make_scorer(recall_score, pos_label=1)\n",
    "\n",
    "# xgb_clf = XGBClassifier(\n",
    "#     objective='binary:logistic',\n",
    "#     eval_metric='logloss',\n",
    "#     random_state=42\n",
    "# )\n",
    "\n",
    "# # Wide param distributions for random search\n",
    "# param_distributions = {\n",
    "#     \"n_estimators\":      [100, 300, 500, 700],\n",
    "#     \"max_depth\":         [3, 5, 7, 9],\n",
    "#     \"learning_rate\":     [0.01, 0.05, 0.1, 0.2],\n",
    "#     \"subsample\":         [0.6, 0.8, 1.0],\n",
    "#     \"colsample_bytree\":  [0.6, 0.8, 1.0],\n",
    "#     # If class 1 is ~27% of data: scale_pos_weight ~ (majority/minority). \n",
    "#     # For exact ratio: scale_pos_weight = (count(0) / count(1)).\n",
    "#     # This helps XGBoost handle imbalance better. Let's guess around 2..5.\n",
    "#     \"scale_pos_weight\":  [1, 2, 3, 4, 5]  \n",
    "# }\n",
    "# random_search = RandomizedSearchCV(\n",
    "#     estimator=xgb_clf,\n",
    "#     param_distributions=param_distributions,\n",
    "#     n_iter=20,                    # number of random samples\n",
    "#     scoring=recall_scorer,        # focusing on recall for class 1\n",
    "#     cv=3,                         # 3-fold cross-validation\n",
    "#     verbose=2,\n",
    "#     random_state=42,\n",
    "#     n_jobs=-1                     # use all CPU cores\n",
    "# )\n",
    "\n",
    "# random_search.fit(X_train_tfidf, y_train)\n",
    "\n",
    "# print(\"\\n=== Random Search Results ===\")\n",
    "# print(\"Best Params:\", random_search.best_params_)\n",
    "# print(\"Best Recall Score:\", random_search.best_score_)\n",
    "\n",
    "# best_params = random_search.best_params_\n",
    "\n",
    "\n",
    "# param_grid = {\n",
    "#     \"n_estimators\":     [best_params['n_estimators'] - 100, best_params['n_estimators'], best_params['n_estimators'] + 100],\n",
    "#     \"max_depth\":        [best_params['max_depth'] - 1, best_params['max_depth'], best_params['max_depth'] + 1],\n",
    "#     \"learning_rate\":    [best_params['learning_rate'] * 0.5, best_params['learning_rate'], best_params['learning_rate'] * 1.5],\n",
    "#     \"scale_pos_weight\": [max(best_params['scale_pos_weight']-1,1), best_params['scale_pos_weight'], best_params['scale_pos_weight']+1]\n",
    "# }\n",
    "# # We can keep sub-sample, colsample_bytree the same or also do a small +/- 0.1.\n",
    "\n",
    "# grid_search = GridSearchCV(\n",
    "#     estimator=XGBClassifier(\n",
    "#         objective='binary:logistic',\n",
    "#         eval_metric='logloss',\n",
    "#         use_label_encoder=False,\n",
    "#         random_state=42\n",
    "#     ),\n",
    "#     param_grid=param_grid,\n",
    "#     scoring=recall_scorer,\n",
    "#     cv=3,\n",
    "#     verbose=2,\n",
    "#     n_jobs=-1\n",
    "# )\n",
    "\n",
    "# grid_search.fit(X_train_tfidf, y_train)\n",
    "\n",
    "# print(\"\\n=== Grid Search Results ===\")\n",
    "# print(\"Best Params:\", grid_search.best_params_)\n",
    "# print(\"Best Recall Score:\", grid_search.best_score_)"
   ]
  },
  {
   "cell_type": "code",
   "execution_count": 24,
   "metadata": {},
   "outputs": [
    {
     "name": "stdout",
     "output_type": "stream",
     "text": [
      "Fitting 3 folds for each of 20 candidates, totalling 60 fits\n",
      "[CV] END colsample_bytree=0.8, learning_rate=0.05, max_depth=5, n_estimators=500, scale_pos_weight=2, subsample=0.8; total time=10.4min\n",
      "[CV] END colsample_bytree=0.8, learning_rate=0.05, max_depth=5, n_estimators=500, scale_pos_weight=2, subsample=0.8; total time=10.5min\n",
      "[CV] END colsample_bytree=0.8, learning_rate=0.05, max_depth=5, n_estimators=500, scale_pos_weight=2, subsample=0.8; total time=10.5min\n",
      "[CV] END colsample_bytree=0.6, learning_rate=0.2, max_depth=7, n_estimators=300, scale_pos_weight=2, subsample=1.0; total time=12.3min\n",
      "[CV] END colsample_bytree=0.6, learning_rate=0.2, max_depth=7, n_estimators=300, scale_pos_weight=2, subsample=1.0; total time=12.3min\n",
      "[CV] END colsample_bytree=0.6, learning_rate=0.2, max_depth=7, n_estimators=300, scale_pos_weight=2, subsample=1.0; total time=12.6min\n",
      "[CV] END colsample_bytree=1.0, learning_rate=0.05, max_depth=3, n_estimators=100, scale_pos_weight=4, subsample=0.6; total time=  20.3s\n",
      "[CV] END colsample_bytree=1.0, learning_rate=0.05, max_depth=3, n_estimators=100, scale_pos_weight=4, subsample=0.6; total time=  23.5s\n",
      "[CV] END colsample_bytree=1.0, learning_rate=0.05, max_depth=3, n_estimators=100, scale_pos_weight=4, subsample=0.6; total time=  21.4s\n",
      "[CV] END colsample_bytree=0.8, learning_rate=0.01, max_depth=7, n_estimators=300, scale_pos_weight=1, subsample=0.6; total time=31.9min\n",
      "[CV] END colsample_bytree=0.8, learning_rate=0.01, max_depth=7, n_estimators=300, scale_pos_weight=1, subsample=0.6; total time=33.1min\n",
      "[CV] END colsample_bytree=0.8, learning_rate=0.05, max_depth=3, n_estimators=500, scale_pos_weight=3, subsample=1.0; total time= 1.3min\n",
      "[CV] END colsample_bytree=0.8, learning_rate=0.05, max_depth=3, n_estimators=500, scale_pos_weight=3, subsample=1.0; total time= 1.3min\n",
      "[CV] END colsample_bytree=0.8, learning_rate=0.05, max_depth=3, n_estimators=500, scale_pos_weight=3, subsample=1.0; total time= 1.3min\n",
      "[CV] END colsample_bytree=0.8, learning_rate=0.01, max_depth=7, n_estimators=300, scale_pos_weight=1, subsample=0.6; total time=33.3min\n",
      "[CV] END colsample_bytree=0.6, learning_rate=0.05, max_depth=5, n_estimators=500, scale_pos_weight=1, subsample=0.6; total time= 8.8min\n",
      "[CV] END colsample_bytree=0.8, learning_rate=0.1, max_depth=9, n_estimators=300, scale_pos_weight=2, subsample=0.6; total time=38.7min\n",
      "[CV] END colsample_bytree=0.8, learning_rate=0.1, max_depth=9, n_estimators=300, scale_pos_weight=2, subsample=0.6; total time=39.2min\n",
      "[CV] END colsample_bytree=0.8, learning_rate=0.1, max_depth=3, n_estimators=500, scale_pos_weight=5, subsample=0.6; total time= 1.4min\n",
      "[CV] END colsample_bytree=0.8, learning_rate=0.1, max_depth=9, n_estimators=300, scale_pos_weight=2, subsample=0.6; total time=38.5min\n",
      "[CV] END colsample_bytree=0.8, learning_rate=0.1, max_depth=3, n_estimators=500, scale_pos_weight=5, subsample=0.6; total time= 1.4min\n",
      "[CV] END colsample_bytree=0.8, learning_rate=0.1, max_depth=3, n_estimators=500, scale_pos_weight=5, subsample=0.6; total time= 1.3min\n",
      "[CV] END colsample_bytree=0.6, learning_rate=0.05, max_depth=5, n_estimators=500, scale_pos_weight=1, subsample=0.6; total time= 8.6min\n",
      "[CV] END colsample_bytree=0.6, learning_rate=0.05, max_depth=5, n_estimators=500, scale_pos_weight=1, subsample=0.6; total time= 8.6min\n",
      "[CV] END colsample_bytree=0.6, learning_rate=0.01, max_depth=7, n_estimators=100, scale_pos_weight=4, subsample=0.8; total time=104.9min\n",
      "[CV] END colsample_bytree=0.8, learning_rate=0.01, max_depth=7, n_estimators=700, scale_pos_weight=2, subsample=1.0; total time=158.6min\n",
      "[CV] END colsample_bytree=0.8, learning_rate=0.2, max_depth=3, n_estimators=100, scale_pos_weight=2, subsample=1.0; total time=  17.1s\n",
      "[CV] END colsample_bytree=0.8, learning_rate=0.2, max_depth=3, n_estimators=100, scale_pos_weight=2, subsample=1.0; total time=  16.4s\n",
      "[CV] END colsample_bytree=0.8, learning_rate=0.2, max_depth=3, n_estimators=100, scale_pos_weight=2, subsample=1.0; total time=  16.1s\n",
      "[CV] END colsample_bytree=0.6, learning_rate=0.01, max_depth=7, n_estimators=100, scale_pos_weight=4, subsample=0.8; total time=105.0min\n",
      "[CV] END colsample_bytree=0.8, learning_rate=0.01, max_depth=7, n_estimators=700, scale_pos_weight=2, subsample=1.0; total time=160.9min\n",
      "[CV] END colsample_bytree=0.6, learning_rate=0.2, max_depth=3, n_estimators=700, scale_pos_weight=2, subsample=0.8; total time= 1.5min\n",
      "[CV] END colsample_bytree=0.8, learning_rate=0.01, max_depth=7, n_estimators=700, scale_pos_weight=2, subsample=1.0; total time=161.0min\n",
      "[CV] END colsample_bytree=0.6, learning_rate=0.2, max_depth=3, n_estimators=700, scale_pos_weight=2, subsample=0.8; total time= 1.5min\n",
      "[CV] END colsample_bytree=0.6, learning_rate=0.2, max_depth=3, n_estimators=700, scale_pos_weight=2, subsample=0.8; total time= 1.4min\n",
      "[CV] END colsample_bytree=0.6, learning_rate=0.01, max_depth=7, n_estimators=100, scale_pos_weight=4, subsample=0.8; total time= 9.6min\n",
      "[CV] END colsample_bytree=0.8, learning_rate=0.1, max_depth=5, n_estimators=300, scale_pos_weight=1, subsample=0.6; total time= 5.3min\n",
      "[CV] END colsample_bytree=0.8, learning_rate=0.1, max_depth=5, n_estimators=300, scale_pos_weight=1, subsample=0.6; total time= 5.5min\n",
      "[CV] END colsample_bytree=0.8, learning_rate=0.1, max_depth=5, n_estimators=300, scale_pos_weight=1, subsample=0.6; total time= 5.4min\n",
      "[CV] END colsample_bytree=0.6, learning_rate=0.05, max_depth=9, n_estimators=700, scale_pos_weight=1, subsample=0.8; total time=161.1min\n",
      "[CV] END colsample_bytree=0.6, learning_rate=0.05, max_depth=9, n_estimators=700, scale_pos_weight=1, subsample=0.8; total time=185.1min\n",
      "[CV] END colsample_bytree=1.0, learning_rate=0.1, max_depth=3, n_estimators=500, scale_pos_weight=2, subsample=0.6; total time= 1.7min\n",
      "[CV] END colsample_bytree=1.0, learning_rate=0.1, max_depth=3, n_estimators=500, scale_pos_weight=2, subsample=0.6; total time= 1.8min\n",
      "[CV] END colsample_bytree=1.0, learning_rate=0.1, max_depth=3, n_estimators=500, scale_pos_weight=2, subsample=0.6; total time= 1.6min\n",
      "[CV] END colsample_bytree=0.8, learning_rate=0.05, max_depth=3, n_estimators=300, scale_pos_weight=1, subsample=0.6; total time=  45.4s\n",
      "[CV] END colsample_bytree=0.8, learning_rate=0.05, max_depth=3, n_estimators=300, scale_pos_weight=1, subsample=0.6; total time=  48.9s\n",
      "[CV] END colsample_bytree=0.8, learning_rate=0.05, max_depth=3, n_estimators=300, scale_pos_weight=1, subsample=0.6; total time= 1.0min\n",
      "[CV] END colsample_bytree=0.6, learning_rate=0.05, max_depth=9, n_estimators=700, scale_pos_weight=1, subsample=0.8; total time=177.6min\n",
      "[CV] END colsample_bytree=1.0, learning_rate=0.2, max_depth=9, n_estimators=500, scale_pos_weight=2, subsample=0.6; total time=65.4min\n",
      "[CV] END colsample_bytree=1.0, learning_rate=0.2, max_depth=9, n_estimators=500, scale_pos_weight=2, subsample=0.6; total time=66.5min\n",
      "[CV] END colsample_bytree=1.0, learning_rate=0.2, max_depth=9, n_estimators=500, scale_pos_weight=2, subsample=0.6; total time=65.7min\n",
      "[CV] END colsample_bytree=0.6, learning_rate=0.2, max_depth=9, n_estimators=700, scale_pos_weight=4, subsample=0.8; total time=49.7min\n",
      "[CV] END colsample_bytree=0.6, learning_rate=0.2, max_depth=9, n_estimators=700, scale_pos_weight=4, subsample=0.8; total time=48.0min\n",
      "[CV] END colsample_bytree=1.0, learning_rate=0.05, max_depth=9, n_estimators=700, scale_pos_weight=3, subsample=0.6; total time=97.0min\n",
      "[CV] END colsample_bytree=1.0, learning_rate=0.05, max_depth=9, n_estimators=700, scale_pos_weight=3, subsample=0.6; total time=97.2min\n",
      "[CV] END colsample_bytree=1.0, learning_rate=0.05, max_depth=9, n_estimators=700, scale_pos_weight=3, subsample=0.6; total time=97.2min\n",
      "[CV] END colsample_bytree=1.0, learning_rate=0.01, max_depth=9, n_estimators=500, scale_pos_weight=2, subsample=1.0; total time=208.7min\n",
      "[CV] END colsample_bytree=1.0, learning_rate=0.01, max_depth=9, n_estimators=500, scale_pos_weight=2, subsample=1.0; total time=210.0min\n",
      "[CV] END colsample_bytree=1.0, learning_rate=0.01, max_depth=9, n_estimators=500, scale_pos_weight=2, subsample=1.0; total time=209.8min\n",
      "[CV] END colsample_bytree=0.6, learning_rate=0.2, max_depth=9, n_estimators=700, scale_pos_weight=4, subsample=0.8; total time=24.0min\n",
      "\n",
      "=== Random Search Results ===\n",
      "Best Params: {'subsample': 0.8, 'scale_pos_weight': 4, 'n_estimators': 700, 'max_depth': 9, 'learning_rate': 0.2, 'colsample_bytree': 0.6}\n",
      "Best Custom Score: 0.6568724138921465\n",
      "\n",
      "=== Test Set Evaluation ===\n",
      "Precision: 0.544, Recall: 0.770, F1: 0.638\n",
      "              precision    recall  f1-score   support\n",
      "\n",
      "         0.0       0.90      0.76      0.82     52603\n",
      "         1.0       0.54      0.77      0.64     19496\n",
      "\n",
      "    accuracy                           0.76     72099\n",
      "   macro avg       0.72      0.77      0.73     72099\n",
      "weighted avg       0.80      0.76      0.77     72099\n",
      "\n"
     ]
    }
   ],
   "source": [
    "from sklearn.metrics import precision_score, recall_score, f1_score, make_scorer, classification_report\n",
    "from xgboost import XGBClassifier\n",
    "from sklearn.model_selection import RandomizedSearchCV\n",
    "import numpy as np\n",
    "\n",
    "# Define a custom scoring function for the positive class (label = 1)\n",
    "def custom_score(y_true, y_pred):\n",
    "    prec = precision_score(y_true, y_pred, pos_label=1)\n",
    "    rec = recall_score(y_true, y_pred, pos_label=1)\n",
    "    f1 = f1_score(y_true, y_pred, pos_label=1)\n",
    "    return 0.3 * prec + 0.3 * f1 + 0.4 * rec\n",
    "\n",
    "custom_scorer = make_scorer(custom_score)\n",
    "\n",
    "# Initialize XGBoost classifier with base parameters\n",
    "xgb_clf = XGBClassifier(\n",
    "    objective='binary:logistic',\n",
    "    eval_metric='logloss',\n",
    "    random_state=42\n",
    ")\n",
    "\n",
    "# Wide parameter distributions for randomized search\n",
    "param_distributions = {\n",
    "    \"n_estimators\":      [100, 300, 500, 700],\n",
    "    \"max_depth\":         [3, 5, 7, 9],\n",
    "    \"learning_rate\":     [0.01, 0.05, 0.1, 0.2],\n",
    "    \"subsample\":         [0.6, 0.8, 1.0],\n",
    "    \"colsample_bytree\":  [0.6, 0.8, 1.0],\n",
    "    \"scale_pos_weight\":  [1, 2, 3, 4, 5]\n",
    "}\n",
    "\n",
    "random_search = RandomizedSearchCV(\n",
    "    estimator=xgb_clf,\n",
    "    param_distributions=param_distributions,\n",
    "    n_iter=20,                    # Number of random parameter combinations to try\n",
    "    scoring=custom_scorer,        # Custom scorer that balances precision, recall, and F1\n",
    "    cv=3,                         # 3-fold cross-validation\n",
    "    verbose=2,\n",
    "    random_state=42,\n",
    "    n_jobs=-1                     # Use all available CPU cores\n",
    ")\n",
    "\n",
    "# Fit RandomizedSearchCV on training data (assumes X_train_tfidf, y_train are defined)\n",
    "random_search.fit(X_train_tfidf, y_train)\n",
    "\n",
    "print(\"\\n=== Random Search Results ===\")\n",
    "print(\"Best Params:\", random_search.best_params_)\n",
    "print(\"Best Custom Score:\", random_search.best_score_)\n",
    "\n",
    "# Get the best estimator\n",
    "best_xgb = random_search.best_estimator_\n",
    "\n",
    "# Predict on test data (assumes X_test_tfidf, y_test are defined)\n",
    "y_pred = best_xgb.predict(X_test_tfidf)\n",
    "\n",
    "# Evaluate performance using standard metrics\n",
    "precision, recall, f1, _ = precision_recall_fscore_support(y_test, y_pred, average='binary')\n",
    "print(\"\\n=== Test Set Evaluation ===\")\n",
    "print(f\"Precision: {precision:.3f}, Recall: {recall:.3f}, F1: {f1:.3f}\")\n",
    "print(classification_report(y_test, y_pred))\n"
   ]
  },
  {
   "cell_type": "code",
   "execution_count": 27,
   "metadata": {},
   "outputs": [
    {
     "name": "stdout",
     "output_type": "stream",
     "text": [
      "\n",
      "=== Test Set Evaluation ===\n",
      "Precision: 0.544, Recall: 0.770, F1: 0.638\n",
      "              precision    recall  f1-score   support\n",
      "\n",
      "         0.0       0.90      0.76      0.82     52603\n",
      "         1.0       0.54      0.77      0.64     19496\n",
      "\n",
      "    accuracy                           0.76     72099\n",
      "   macro avg       0.72      0.77      0.73     72099\n",
      "weighted avg       0.80      0.76      0.77     72099\n",
      "\n"
     ]
    }
   ],
   "source": [
    "# 5.1 Get the best model from the final grid search \n",
    "# best_xgb = grid_search.best_estimator_\n",
    "\n",
    "# 5.2 Predict on test data\n",
    "y_pred = best_xgb.predict(X_test_tfidf)\n",
    "\n",
    "# 5.3 Evaluate performance\n",
    "print(\"\\n=== Test Set Evaluation ===\")\n",
    "# We can see precision, recall, f1\n",
    "precision, recall, f1, _ = precision_recall_fscore_support(y_test, y_pred, average='binary')\n",
    "print(f\"Precision: {precision:.3f}, Recall: {recall:.3f}, F1: {f1:.3f}\")\n",
    "\n",
    "# We can also see classification report\n",
    "print(classification_report(y_test, y_pred))\n"
   ]
  },
  {
   "cell_type": "code",
   "execution_count": 29,
   "metadata": {},
   "outputs": [
    {
     "name": "stdout",
     "output_type": "stream",
     "text": [
      "Threshold = 0.30 --> Precision: 0.364, Recall: 0.947, F1: 0.526\n",
      "Threshold = 0.35 --> Precision: 0.397, Recall: 0.915, F1: 0.553\n",
      "Threshold = 0.40 --> Precision: 0.435, Recall: 0.878, F1: 0.582\n",
      "Threshold = 0.45 --> Precision: 0.502, Recall: 0.817, F1: 0.622\n",
      "Threshold = 0.50 --> Precision: 0.544, Recall: 0.770, F1: 0.638\n",
      "Threshold = 0.55 --> Precision: 0.585, Recall: 0.721, F1: 0.646\n",
      "Threshold = 0.60 --> Precision: 0.625, Recall: 0.670, F1: 0.647\n",
      "Threshold = 0.65 --> Precision: 0.663, Recall: 0.621, F1: 0.641\n"
     ]
    }
   ],
   "source": [
    "import numpy as np\n",
    "from sklearn.metrics import precision_score, recall_score, f1_score\n",
    "\n",
    "# Get prediction probabilities\n",
    "y_proba = best_xgb.predict_proba(X_test_tfidf)[:, 1]\n",
    "\n",
    "# Try different thresholds\n",
    "thresholds = np.arange(0.3, 0.7, 0.05)\n",
    "for thresh in thresholds:\n",
    "    y_thresh = (y_proba >= thresh).astype(int)\n",
    "    prec = precision_score(y_test, y_thresh)\n",
    "    rec = recall_score(y_test, y_thresh)\n",
    "    f1 = f1_score(y_test, y_thresh)\n",
    "    print(f\"Threshold = {thresh:.2f} --> Precision: {prec:.3f}, Recall: {rec:.3f}, F1: {f1:.3f}\")\n"
   ]
  },
  {
   "cell_type": "code",
   "execution_count": 2,
   "metadata": {},
   "outputs": [
    {
     "name": "stderr",
     "output_type": "stream",
     "text": [
      "[nltk_data] Downloading package punkt to\n",
      "[nltk_data]     /Users/stygianphantom/nltk_data...\n",
      "[nltk_data]   Package punkt is already up-to-date!\n",
      "[nltk_data] Downloading package punkt_tab to\n",
      "[nltk_data]     /Users/stygianphantom/nltk_data...\n",
      "[nltk_data]   Unzipping tokenizers/punkt_tab.zip.\n",
      "[nltk_data] Downloading package punkt to\n",
      "[nltk_data]     /Users/stygianphantom/nltk_data...\n",
      "[nltk_data]   Package punkt is already up-to-date!\n"
     ]
    },
    {
     "name": "stdout",
     "output_type": "stream",
     "text": [
      "Train Embedding shape: (288394, 300)\n",
      "Test Embedding shape: (72099, 300)\n",
      "Fitting 3 folds for each of 10 candidates, totalling 30 fits\n",
      "[CV] END colsample_bytree=0.8, learning_rate=0.1, max_depth=7, n_estimators=200, scale_pos_weight=2, subsample=1.0; total time= 2.8min\n",
      "[CV] END colsample_bytree=0.8, learning_rate=0.1, max_depth=7, n_estimators=200, scale_pos_weight=2, subsample=1.0; total time= 2.9min\n",
      "[CV] END colsample_bytree=0.8, learning_rate=0.1, max_depth=7, n_estimators=200, scale_pos_weight=2, subsample=1.0; total time= 3.0min\n",
      "[CV] END colsample_bytree=0.6, learning_rate=0.01, max_depth=7, n_estimators=100, scale_pos_weight=2, subsample=1.0; total time= 1.5min\n",
      "[CV] END colsample_bytree=0.6, learning_rate=0.01, max_depth=7, n_estimators=100, scale_pos_weight=2, subsample=1.0; total time= 1.5min\n",
      "[CV] END colsample_bytree=0.8, learning_rate=0.01, max_depth=5, n_estimators=100, scale_pos_weight=2, subsample=1.0; total time= 1.4min\n",
      "[CV] END colsample_bytree=0.6, learning_rate=0.01, max_depth=7, n_estimators=100, scale_pos_weight=2, subsample=1.0; total time= 1.9min\n",
      "[CV] END colsample_bytree=0.8, learning_rate=0.01, max_depth=5, n_estimators=100, scale_pos_weight=2, subsample=1.0; total time= 1.4min\n",
      "[CV] END colsample_bytree=0.8, learning_rate=0.01, max_depth=5, n_estimators=100, scale_pos_weight=2, subsample=1.0; total time= 1.3min\n",
      "[CV] END colsample_bytree=0.8, learning_rate=0.05, max_depth=9, n_estimators=200, scale_pos_weight=2, subsample=1.0; total time= 8.2min\n",
      "[CV] END colsample_bytree=0.8, learning_rate=0.1, max_depth=9, n_estimators=200, scale_pos_weight=2, subsample=1.0; total time= 8.3min\n",
      "[CV] END colsample_bytree=0.8, learning_rate=0.1, max_depth=5, n_estimators=100, scale_pos_weight=2, subsample=0.8; total time= 1.3min\n",
      "[CV] END colsample_bytree=0.8, learning_rate=0.05, max_depth=9, n_estimators=200, scale_pos_weight=2, subsample=1.0; total time= 8.5min\n",
      "[CV] END colsample_bytree=0.8, learning_rate=0.1, max_depth=9, n_estimators=200, scale_pos_weight=2, subsample=1.0; total time= 8.5min\n",
      "[CV] END colsample_bytree=0.8, learning_rate=0.1, max_depth=9, n_estimators=200, scale_pos_weight=2, subsample=1.0; total time= 8.6min\n",
      "[CV] END colsample_bytree=0.8, learning_rate=0.01, max_depth=9, n_estimators=200, scale_pos_weight=1, subsample=0.8; total time= 8.8min\n",
      "[CV] END colsample_bytree=0.8, learning_rate=0.01, max_depth=9, n_estimators=200, scale_pos_weight=1, subsample=0.8; total time= 8.8min\n",
      "[CV] END colsample_bytree=0.8, learning_rate=0.1, max_depth=5, n_estimators=100, scale_pos_weight=2, subsample=0.8; total time= 1.1min\n",
      "[CV] END colsample_bytree=0.8, learning_rate=0.01, max_depth=9, n_estimators=200, scale_pos_weight=1, subsample=0.8; total time= 9.1min\n",
      "[CV] END colsample_bytree=0.8, learning_rate=0.1, max_depth=5, n_estimators=100, scale_pos_weight=2, subsample=0.8; total time= 1.1min\n",
      "[CV] END colsample_bytree=0.6, learning_rate=0.1, max_depth=5, n_estimators=100, scale_pos_weight=1, subsample=1.0; total time=  59.0s\n",
      "[CV] END colsample_bytree=0.6, learning_rate=0.1, max_depth=5, n_estimators=100, scale_pos_weight=1, subsample=1.0; total time=  59.9s\n",
      "[CV] END colsample_bytree=0.6, learning_rate=0.1, max_depth=5, n_estimators=100, scale_pos_weight=1, subsample=1.0; total time=  58.5s\n",
      "[CV] END colsample_bytree=0.8, learning_rate=0.05, max_depth=9, n_estimators=200, scale_pos_weight=2, subsample=1.0; total time= 7.5min\n",
      "[CV] END colsample_bytree=0.8, learning_rate=0.1, max_depth=9, n_estimators=100, scale_pos_weight=1, subsample=1.0; total time= 2.0min\n",
      "[CV] END colsample_bytree=0.8, learning_rate=0.1, max_depth=9, n_estimators=100, scale_pos_weight=1, subsample=1.0; total time= 2.0min\n",
      "[CV] END colsample_bytree=0.8, learning_rate=0.1, max_depth=9, n_estimators=100, scale_pos_weight=1, subsample=1.0; total time= 1.8min\n",
      "[CV] END colsample_bytree=0.8, learning_rate=0.01, max_depth=9, n_estimators=200, scale_pos_weight=1, subsample=1.0; total time= 2.6min\n",
      "[CV] END colsample_bytree=0.8, learning_rate=0.01, max_depth=9, n_estimators=200, scale_pos_weight=1, subsample=1.0; total time= 2.5min\n",
      "[CV] END colsample_bytree=0.8, learning_rate=0.01, max_depth=9, n_estimators=200, scale_pos_weight=1, subsample=1.0; total time= 2.4min\n",
      "\n",
      "=== Random Search Results ===\n",
      "Best Params: {'subsample': 1.0, 'scale_pos_weight': 2, 'n_estimators': 200, 'max_depth': 7, 'learning_rate': 0.1, 'colsample_bytree': 0.8}\n",
      "Best F1 Score: 0.6035485588716046\n",
      "\n",
      "=== Test Set Evaluation ===\n",
      "Precision: 0.590, Recall: 0.630, F1: 0.609\n",
      "              precision    recall  f1-score   support\n",
      "\n",
      "         0.0       0.86      0.84      0.85     52603\n",
      "         1.0       0.59      0.63      0.61     19496\n",
      "\n",
      "    accuracy                           0.78     72099\n",
      "   macro avg       0.72      0.73      0.73     72099\n",
      "weighted avg       0.79      0.78      0.78     72099\n",
      "\n"
     ]
    }
   ],
   "source": [
    "import re\n",
    "import numpy as np\n",
    "import pandas as pd\n",
    "import nltk\n",
    "nltk.download('punkt')\n",
    "nltk.download('punkt_tab')\n",
    "from nltk.tokenize import word_tokenize\n",
    "from gensim.models import Word2Vec\n",
    "from sklearn.model_selection import train_test_split, RandomizedSearchCV\n",
    "from sklearn.metrics import classification_report, precision_score, recall_score, f1_score\n",
    "from xgboost import XGBClassifier\n",
    "\n",
    "# Download NLTK tokenizer data (if not already present)\n",
    "nltk.download('punkt')\n",
    "\n",
    "# --- Provided code ---\n",
    "df = pd.read_csv(\"en_hf_112024.csv\")\n",
    "\n",
    "# 1.2 Basic text cleaning\n",
    "def basic_preprocessing(text):\n",
    "    text = text.lower()\n",
    "    text = re.sub(r\"http\\S+|www\\S+|https\\S+\", '', text)\n",
    "    text = re.sub(r\"@\\w+\", '', text)\n",
    "    text = re.sub(r\"[^\\w\\s]\", '', text)\n",
    "    text = text.strip()\n",
    "    return text\n",
    "\n",
    "df[\"clean_text\"] = df[\"text\"].astype(str).apply(basic_preprocessing)\n",
    "\n",
    "# 1.3 Separate features & labels\n",
    "X = df[\"clean_text\"].values\n",
    "y = df[\"labels\"].values\n",
    "\n",
    "# 1.4 Train-test split\n",
    "X_train, X_test, y_train, y_test = train_test_split(\n",
    "    X, y, \n",
    "    test_size=0.2,\n",
    "    random_state=42,\n",
    "    stratify=y\n",
    ")\n",
    "\n",
    "# --- Start Word2Vec and XGBoost pipeline ---\n",
    "\n",
    "# Step 2: Tokenize the documents using NLTK's word_tokenize\n",
    "def tokenize_text(text):\n",
    "    return word_tokenize(text)\n",
    "\n",
    "# Tokenize training and test texts\n",
    "tokenized_train = [tokenize_text(doc) for doc in X_train]\n",
    "tokenized_test = [tokenize_text(doc) for doc in X_test]\n",
    "\n",
    "# Step 3: Train a Word2Vec model on the tokenized training data\n",
    "w2v_model = Word2Vec(\n",
    "    sentences=tokenized_train,\n",
    "    vector_size=300,   # Dimensionality of the embeddings\n",
    "    window=5,          # Context window size\n",
    "    min_count=5,       # Ignores words with total frequency lower than this\n",
    "    workers=4,         # Number of threads\n",
    "    sg=1               # Use skip-gram; set to 0 for CBOW\n",
    ")\n",
    "\n",
    "# Step 4: Create document embeddings by averaging the word embeddings\n",
    "def document_embedding(doc, model):\n",
    "    # Filter out words not in the model's vocabulary\n",
    "    valid_words = [word for word in doc if word in model.wv.index_to_key]\n",
    "    if not valid_words:\n",
    "        # If no valid words, return a zero vector\n",
    "        return np.zeros(model.vector_size)\n",
    "    return np.mean(model.wv[valid_words], axis=0)\n",
    "\n",
    "# Compute embeddings for training and test sets\n",
    "X_train_emb = np.array([document_embedding(doc, w2v_model) for doc in tokenized_train])\n",
    "X_test_emb = np.array([document_embedding(doc, w2v_model) for doc in tokenized_test])\n",
    "\n",
    "print(\"Train Embedding shape:\", X_train_emb.shape)\n",
    "print(\"Test Embedding shape:\", X_test_emb.shape)\n",
    "\n",
    "# Step 5: Define XGBoost classifier and a modest hyperparameter grid for RandomizedSearchCV\n",
    "xgb_clf = XGBClassifier(objective='binary:logistic', eval_metric='logloss', random_state=42)\n",
    "\n",
    "param_distributions = {\n",
    "    \"n_estimators\": [100, 200],\n",
    "    \"max_depth\": [5, 7, 9],\n",
    "    \"learning_rate\": [0.01, 0.05, 0.1],\n",
    "    \"subsample\": [0.8, 1.0],\n",
    "    \"colsample_bytree\": [0.6, 0.8],\n",
    "    \"scale_pos_weight\": [1, 2, 4]\n",
    "}\n",
    "\n",
    "# Set up RandomizedSearchCV (n_iter set low to ensure search completes quickly)\n",
    "random_search = RandomizedSearchCV(\n",
    "    estimator=xgb_clf,\n",
    "    param_distributions=param_distributions,\n",
    "    n_iter=10,           # Number of parameter settings that are sampled\n",
    "    scoring='f1',        # F1 score is used for scoring\n",
    "    cv=3,                # 3-fold cross-validation\n",
    "    verbose=2,\n",
    "    random_state=42,\n",
    "    n_jobs=-1\n",
    ")\n",
    "\n",
    "# Step 6: Fit the model using the training embeddings\n",
    "random_search.fit(X_train_emb, y_train)\n",
    "\n",
    "print(\"\\n=== Random Search Results ===\")\n",
    "print(\"Best Params:\", random_search.best_params_)\n",
    "print(\"Best F1 Score:\", random_search.best_score_)\n",
    "\n",
    "# Step 7: Evaluate on the test set using the best estimator\n",
    "best_xgb = random_search.best_estimator_\n",
    "y_pred = best_xgb.predict(X_test_emb)\n",
    "\n",
    "precision = precision_score(y_test, y_pred)\n",
    "recall = recall_score(y_test, y_pred)\n",
    "f1 = f1_score(y_test, y_pred)\n",
    "\n",
    "print(\"\\n=== Test Set Evaluation ===\")\n",
    "print(f\"Precision: {precision:.3f}, Recall: {recall:.3f}, F1: {f1:.3f}\")\n",
    "print(classification_report(y_test, y_pred))\n"
   ]
  },
  {
   "cell_type": "code",
   "execution_count": null,
   "metadata": {},
   "outputs": [
    {
     "name": "stdout",
     "output_type": "stream",
     "text": [
      "\n",
      "=== Test Set Evaluation ===\n",
      "Precision: 0.590, Recall: 0.630, F1: 0.609\n",
      "              precision    recall  f1-score   support\n",
      "\n",
      "         0.0       0.86      0.84      0.85     52603\n",
      "         1.0       0.59      0.63      0.61     19496\n",
      "\n",
      "    accuracy                           0.78     72099\n",
      "   macro avg       0.72      0.73      0.73     72099\n",
      "weighted avg       0.79      0.78      0.78     72099\n",
      "\n",
      "Threshold = 0.30 --> Precision: 0.443, Recall: 0.856, F1: 0.584\n",
      "Threshold = 0.35 --> Precision: 0.477, Recall: 0.808, F1: 0.600\n",
      "Threshold = 0.40 --> Precision: 0.514, Recall: 0.754, F1: 0.611\n",
      "Threshold = 0.45 --> Precision: 0.551, Recall: 0.694, F1: 0.614\n",
      "Threshold = 0.50 --> Precision: 0.590, Recall: 0.630, F1: 0.609\n",
      "Threshold = 0.55 --> Precision: 0.631, Recall: 0.567, F1: 0.597\n",
      "Threshold = 0.60 --> Precision: 0.670, Recall: 0.499, F1: 0.572\n",
      "Threshold = 0.65 --> Precision: 0.709, Recall: 0.426, F1: 0.532\n"
     ]
    }
   ],
   "source": [
    "print(\"\\n=== Test Set Evaluation ===\")\n",
    "print(f\"Precision: {precision:.3f}, Recall: {recall:.3f}, F1: {f1:.3f}\")\n",
    "print(classification_report(y_test, y_pred))\n",
    "\n",
    "\n",
    "import numpy as np\n",
    "thresholds = np.arange(0.3, 0.7, 0.05)\n",
    "for thresh in thresholds:\n",
    "    y_thresh = (best_xgb.predict_proba(X_test_emb)[:, 1] >= thresh).astype(int)\n",
    "    prec = precision_score(y_test, y_thresh)\n",
    "    rec = recall_score(y_test, y_thresh)\n",
    "    f1 = f1_score(y_test, y_thresh)\n",
    "    print(f\"Threshold = {thresh:.2f} --> Precision: {prec:.3f}, Recall: {rec:.3f}, F1: {f1:.3f}\")\n"
   ]
  },
  {
   "cell_type": "code",
   "execution_count": 3,
   "metadata": {},
   "outputs": [
    {
     "name": "stderr",
     "output_type": "stream",
     "text": [
      "[nltk_data] Downloading package punkt to\n",
      "[nltk_data]     /Users/stygianphantom/nltk_data...\n",
      "[nltk_data]   Package punkt is already up-to-date!\n"
     ]
    },
    {
     "name": "stdout",
     "output_type": "stream",
     "text": [
      "Combined Train Feature shape: (288394, 450)\n",
      "Combined Test Feature shape: (72099, 450)\n",
      "\n",
      "=== Test Set Evaluation ===\n",
      "Accuracy: 0.735\n",
      "Precision: 0.507, Recall: 0.689, F1: 0.584\n",
      "              precision    recall  f1-score   support\n",
      "\n",
      "         0.0       0.87      0.75      0.81     52603\n",
      "         1.0       0.51      0.69      0.58     19496\n",
      "\n",
      "    accuracy                           0.73     72099\n",
      "   macro avg       0.69      0.72      0.69     72099\n",
      "weighted avg       0.77      0.73      0.75     72099\n",
      "\n"
     ]
    }
   ],
   "source": [
    "import re\n",
    "import numpy as np\n",
    "import pandas as pd\n",
    "import nltk\n",
    "from nltk.tokenize import word_tokenize\n",
    "from sklearn.model_selection import train_test_split\n",
    "from sklearn.metrics import classification_report, precision_score, recall_score, f1_score\n",
    "from sklearn.feature_extraction.text import TfidfVectorizer\n",
    "from sklearn.decomposition import TruncatedSVD\n",
    "from xgboost import XGBClassifier\n",
    "import gensim.downloader as api\n",
    "\n",
    "# Download necessary NLTK resources\n",
    "nltk.download('punkt')\n",
    "\n",
    "# --- Load data ---\n",
    "df = pd.read_csv(\"en_hf_112024.csv\")\n",
    "\n",
    "# --- Basic Text Preprocessing ---\n",
    "def basic_preprocessing(text):\n",
    "    text = text.lower()\n",
    "    text = re.sub(r\"http\\S+|www\\S+|https\\S+\", '', text)\n",
    "    text = re.sub(r\"@\\w+\", '', text)\n",
    "    text = re.sub(r\"[^\\w\\s]\", '', text)\n",
    "    return text.strip()\n",
    "\n",
    "df[\"clean_text\"] = df[\"text\"].astype(str).apply(basic_preprocessing)\n",
    "\n",
    "# --- Split features and labels ---\n",
    "X = df[\"clean_text\"].values\n",
    "y = df[\"labels\"].values\n",
    "\n",
    "# --- Train-test split ---\n",
    "X_train_raw, X_test_raw, y_train, y_test = train_test_split(\n",
    "    X, y,\n",
    "    test_size=0.2,\n",
    "    random_state=42,\n",
    "    stratify=y\n",
    ")\n",
    "\n",
    "# --- TF-IDF + TruncatedSVD ---\n",
    "tfidf = TfidfVectorizer(stop_words='english', max_features=5000)\n",
    "X_train_tfidf = tfidf.fit_transform(X_train_raw)\n",
    "X_test_tfidf = tfidf.transform(X_test_raw)\n",
    "\n",
    "svd = TruncatedSVD(n_components=150, random_state=42)\n",
    "X_train_tfidf_reduced = svd.fit_transform(X_train_tfidf)\n",
    "X_test_tfidf_reduced = svd.transform(X_test_tfidf)\n",
    "\n",
    "# --- Tokenization ---\n",
    "def tokenize_text(text):\n",
    "    return word_tokenize(text)\n",
    "\n",
    "tokenized_train = [tokenize_text(doc) for doc in X_train_raw]\n",
    "tokenized_test = [tokenize_text(doc) for doc in X_test_raw]\n",
    "\n",
    "# --- Pretrained GloVe Embeddings ---\n",
    "glove_model = api.load(\"glove-wiki-gigaword-300\")\n",
    "\n",
    "def document_embedding_glove(doc, model):\n",
    "    valid_words = [word for word in doc if word in model]\n",
    "    if not valid_words:\n",
    "        return np.zeros(300)\n",
    "    return np.mean([model[word] for word in valid_words], axis=0)\n",
    "\n",
    "X_train_w2v = np.array([document_embedding_glove(doc, glove_model) for doc in tokenized_train])\n",
    "X_test_w2v = np.array([document_embedding_glove(doc, glove_model) for doc in tokenized_test])\n",
    "\n",
    "# --- Combine Features ---\n",
    "X_train_combined = np.hstack([X_train_tfidf_reduced, X_train_w2v])\n",
    "X_test_combined = np.hstack([X_test_tfidf_reduced, X_test_w2v])\n",
    "\n",
    "print(\"Combined Train Feature shape:\", X_train_combined.shape)\n",
    "print(\"Combined Test Feature shape:\", X_test_combined.shape)\n",
    "\n",
    "# --- Train XGBoost with Default Parameters ---\n",
    "xgb_clf = XGBClassifier(\n",
    "    objective='binary:logistic',\n",
    "    eval_metric='logloss',\n",
    "    n_estimators=100,\n",
    "    max_depth=6,\n",
    "    learning_rate=0.05,\n",
    "    subsample=0.8,\n",
    "    colsample_bytree=0.8,\n",
    "    scale_pos_weight=2.7,\n",
    "    random_state=42,\n",
    "    n_jobs=-1\n",
    ")\n",
    "\n",
    "xgb_clf.fit(X_train_combined, y_train)\n",
    "\n",
    "# --- Evaluation ---\n",
    "y_pred = xgb_clf.predict(X_test_combined)\n",
    "precision = precision_score(y_test, y_pred)\n",
    "recall = recall_score(y_test, y_pred)\n",
    "f1 = f1_score(y_test, y_pred)\n",
    "accuracy = xgb_clf.score(X_test_combined, y_test)\n",
    "\n",
    "print(\"\\n=== Test Set Evaluation ===\")\n",
    "print(f\"Accuracy: {accuracy:.3f}\")\n",
    "print(f\"Precision: {precision:.3f}, Recall: {recall:.3f}, F1: {f1:.3f}\")\n",
    "print(classification_report(y_test, y_pred))\n"
   ]
  },
  {
   "cell_type": "code",
   "execution_count": 4,
   "metadata": {},
   "outputs": [
    {
     "name": "stdout",
     "output_type": "stream",
     "text": [
      "Fitting 2 folds for each of 12 candidates, totalling 24 fits\n",
      "[CV] END ..learning_rate=0.05, max_depth=5, n_estimators=100; total time=  54.4s\n",
      "[CV] END ..learning_rate=0.05, max_depth=5, n_estimators=100; total time=  54.6s\n",
      "[CV] END ..learning_rate=0.05, max_depth=6, n_estimators=100; total time= 1.0min\n",
      "[CV] END ..learning_rate=0.05, max_depth=6, n_estimators=100; total time= 1.0min\n",
      "[CV] END ..learning_rate=0.05, max_depth=5, n_estimators=150; total time= 1.2min\n",
      "[CV] END ..learning_rate=0.05, max_depth=5, n_estimators=150; total time= 1.2min\n",
      "[CV] END ..learning_rate=0.05, max_depth=7, n_estimators=100; total time= 1.3min\n",
      "[CV] END ..learning_rate=0.05, max_depth=7, n_estimators=100; total time= 1.3min\n",
      "[CV] END ..learning_rate=0.05, max_depth=6, n_estimators=150; total time= 1.4min\n",
      "[CV] END ..learning_rate=0.05, max_depth=6, n_estimators=150; total time= 1.4min\n",
      "[CV] END ..learning_rate=0.05, max_depth=7, n_estimators=150; total time= 1.6min\n",
      "[CV] END ...learning_rate=0.1, max_depth=5, n_estimators=100; total time=  47.2s\n",
      "[CV] END ...learning_rate=0.1, max_depth=5, n_estimators=100; total time=  43.9s\n",
      "[CV] END ...learning_rate=0.1, max_depth=6, n_estimators=100; total time=  52.4s\n",
      "[CV] END ...learning_rate=0.1, max_depth=5, n_estimators=150; total time= 1.0min\n",
      "[CV] END ...learning_rate=0.1, max_depth=5, n_estimators=150; total time=  55.4s\n",
      "[CV] END ...learning_rate=0.1, max_depth=6, n_estimators=100; total time=  51.0s\n",
      "[CV] END ...learning_rate=0.1, max_depth=7, n_estimators=100; total time=  54.0s\n",
      "[CV] END ..learning_rate=0.05, max_depth=7, n_estimators=150; total time= 1.4min\n",
      "[CV] END ...learning_rate=0.1, max_depth=6, n_estimators=150; total time= 1.0min\n",
      "[CV] END ...learning_rate=0.1, max_depth=6, n_estimators=150; total time=  56.6s\n",
      "[CV] END ...learning_rate=0.1, max_depth=7, n_estimators=100; total time=  46.2s\n",
      "[CV] END ...learning_rate=0.1, max_depth=7, n_estimators=150; total time=  54.3s\n",
      "[CV] END ...learning_rate=0.1, max_depth=7, n_estimators=150; total time=  51.9s\n",
      "              precision    recall  f1-score   support\n",
      "\n",
      "         0.0       0.87      0.78      0.83     52603\n",
      "         1.0       0.54      0.70      0.61     19496\n",
      "\n",
      "    accuracy                           0.76     72099\n",
      "   macro avg       0.71      0.74      0.72     72099\n",
      "weighted avg       0.78      0.76      0.77     72099\n",
      "\n"
     ]
    }
   ],
   "source": [
    "from sklearn.model_selection import GridSearchCV\n",
    "\n",
    "xgb_clf = XGBClassifier(\n",
    "    objective='binary:logistic',\n",
    "    eval_metric='logloss',\n",
    "    random_state=42,\n",
    "    n_jobs=-1,\n",
    "    scale_pos_weight=2.7\n",
    ")\n",
    "\n",
    "param_grid = {\n",
    "    'max_depth': [5, 6, 7],\n",
    "    'learning_rate': [0.05, 0.1],\n",
    "    'n_estimators': [100, 150],\n",
    "}\n",
    "\n",
    "grid_search = GridSearchCV(\n",
    "    estimator=xgb_clf,\n",
    "    param_grid=param_grid,\n",
    "    scoring='f1',\n",
    "    cv=2,\n",
    "    verbose=2,\n",
    "    n_jobs=-1\n",
    ")\n",
    "\n",
    "grid_search.fit(X_train_combined, y_train)\n",
    "\n",
    "best_model = grid_search.best_estimator_\n",
    "y_pred = best_model.predict(X_test_combined)\n",
    "\n",
    "print(classification_report(y_test, y_pred))\n"
   ]
  },
  {
   "cell_type": "code",
   "execution_count": null,
   "metadata": {},
   "outputs": [
    {
     "name": "stdout",
     "output_type": "stream",
     "text": [
      "              precision    recall  f1-score   support\n",
      "\n",
      "         0.0       0.87      0.78      0.83     52603\n",
      "         1.0       0.54      0.70      0.61     19496\n",
      "\n",
      "    accuracy                           0.76     72099\n",
      "   macro avg       0.71      0.74      0.72     72099\n",
      "weighted avg       0.78      0.76      0.77     72099\n",
      "\n"
     ]
    }
   ],
   "source": [
    "print(classification_report(y_test, y_pred))"
   ]
  },
  {
   "cell_type": "code",
   "execution_count": 6,
   "metadata": {},
   "outputs": [
    {
     "name": "stdout",
     "output_type": "stream",
     "text": [
      "\n",
      "=== GloVe Only Test Set Evaluation ===\n",
      "Accuracy: 0.690\n",
      "Precision: 0.453, Recall: 0.713, F1: 0.554\n",
      "              precision    recall  f1-score   support\n",
      "\n",
      "         0.0       0.86      0.68      0.76     52603\n",
      "         1.0       0.45      0.71      0.55     19496\n",
      "\n",
      "    accuracy                           0.69     72099\n",
      "   macro avg       0.66      0.70      0.66     72099\n",
      "weighted avg       0.75      0.69      0.71     72099\n",
      "\n"
     ]
    }
   ],
   "source": [
    "# Use only GloVe Embeddings\n",
    "X_train_combined = X_train_w2v\n",
    "X_test_combined = X_test_w2v\n",
    "\n",
    "xgb_clf = XGBClassifier(\n",
    "    objective='binary:logistic',\n",
    "    eval_metric='logloss',\n",
    "    n_estimators=100,\n",
    "    max_depth=6,\n",
    "    learning_rate=0.05,\n",
    "    subsample=0.8,\n",
    "    colsample_bytree=0.8,\n",
    "    scale_pos_weight=2.7,  # Maintain same balance fix\n",
    "    random_state=42,\n",
    "    n_jobs=-1\n",
    ")\n",
    "\n",
    "xgb_clf.fit(X_train_combined, y_train)\n",
    "\n",
    "y_pred = xgb_clf.predict(X_test_combined)\n",
    "precision = precision_score(y_test, y_pred)\n",
    "recall = recall_score(y_test, y_pred)\n",
    "f1 = f1_score(y_test, y_pred)\n",
    "accuracy = xgb_clf.score(X_test_combined, y_test)\n",
    "\n",
    "print(\"\\n=== GloVe Only Test Set Evaluation ===\")\n",
    "print(f\"Accuracy: {accuracy:.3f}\")\n",
    "print(f\"Precision: {precision:.3f}, Recall: {recall:.3f}, F1: {f1:.3f}\")\n",
    "print(classification_report(y_test, y_pred))\n"
   ]
  },
  {
   "cell_type": "code",
   "execution_count": null,
   "metadata": {},
   "outputs": [],
   "source": []
  }
 ],
 "metadata": {
  "kernelspec": {
   "display_name": "Python 3",
   "language": "python",
   "name": "python3"
  },
  "language_info": {
   "codemirror_mode": {
    "name": "ipython",
    "version": 3
   },
   "file_extension": ".py",
   "mimetype": "text/x-python",
   "name": "python",
   "nbconvert_exporter": "python",
   "pygments_lexer": "ipython3",
   "version": "3.9.6"
  }
 },
 "nbformat": 4,
 "nbformat_minor": 2
}
