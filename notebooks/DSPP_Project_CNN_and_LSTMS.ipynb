{
 "cells": [
  {
   "cell_type": "markdown",
   "metadata": {
    "id": "5rez4YT1FJeS"
   },
   "source": [
    "CNN for Sarcasm detection"
   ]
  },
  {
   "cell_type": "code",
   "execution_count": 11,
   "metadata": {
    "colab": {
     "base_uri": "https://localhost:8080/"
    },
    "id": "9bS4w04bFGfD",
    "outputId": "e1aa0136-7b77-4799-bf45-63ed9cd73d8f"
   },
   "outputs": [
    {
     "name": "stdout",
     "output_type": "stream",
     "text": [
      "Downloading GloVe embeddings...\n",
      "Download complete!\n",
      "Extracting files...\n",
      "Extraction complete!\n"
     ]
    }
   ],
   "source": [
    "import urllib.request\n",
    "import zipfile\n",
    "import os\n",
    "\n",
    "# URL of the GloVe embeddings\n",
    "glove_url = \"http://nlp.stanford.edu/data/glove.6B.zip\"\n",
    "glove_zip = \"glove.6B.zip\"\n",
    "\n",
    "# Download the file\n",
    "print(\"Downloading GloVe embeddings...\")\n",
    "urllib.request.urlretrieve(glove_url, glove_zip)\n",
    "print(\"Download complete!\")\n",
    "\n",
    "# Extract the zip file\n",
    "print(\"Extracting files...\")\n",
    "with zipfile.ZipFile(glove_zip, \"r\") as zip_ref:\n",
    "    zip_ref.extractall()\n",
    "print(\"Extraction complete!\")\n",
    "\n",
    "# Remove the zip file (optional)\n",
    "#os.remove(glove_zip)\n"
   ]
  },
  {
   "cell_type": "code",
   "execution_count": null,
   "metadata": {
    "colab": {
     "base_uri": "https://localhost:8080/"
    },
    "id": "jCkLlV_iFL2e",
    "outputId": "01626ba1-4c15-4662-9a75-cc9f14b05b55"
   },
   "outputs": [
    {
     "name": "stdout",
     "output_type": "stream",
     "text": [
      "                                        article_link  \\\n",
      "0  https://www.huffingtonpost.com/entry/versace-b...   \n",
      "1  https://www.huffingtonpost.com/entry/roseanne-...   \n",
      "2  https://local.theonion.com/mom-starting-to-fea...   \n",
      "3  https://politics.theonion.com/boehner-just-wan...   \n",
      "4  https://www.huffingtonpost.com/entry/jk-rowlin...   \n",
      "\n",
      "                                            headline  is_sarcastic  \n",
      "0  former versace store clerk sues over secret 'b...             0  \n",
      "1  the 'roseanne' revival catches up to our thorn...             0  \n",
      "2  mom starting to fear son's web series closest ...             1  \n",
      "3  boehner just wants wife to listen, not come up...             1  \n",
      "4  j.k. rowling wishes snape happy birthday in th...             0  \n"
     ]
    }
   ],
   "source": [
    "import pandas as pd\n",
    "import json\n",
    "with open(\"Sarcasm_Headlines_Dataset.json\", \"r\") as file:\n",
    "    data = [json.loads(line) for line in file]\n",
    "df = pd.DataFrame(data)\n",
    "print(df.head())"
   ]
  },
  {
   "cell_type": "code",
   "execution_count": null,
   "metadata": {
    "colab": {
     "base_uri": "https://localhost:8080/"
    },
    "id": "-ZAKOp_qIRPs",
    "outputId": "b2a976f8-ac2f-46d4-b2e7-3af7cda6d4eb"
   },
   "outputs": [
    {
     "name": "stdout",
     "output_type": "stream",
     "text": [
      "Training samples: 21367, Test samples: 5342\n"
     ]
    }
   ],
   "source": [
    "text = df['headline'].values\n",
    "labels = df['is_sarcastic'].values\n",
    "# Tokenization\n",
    "vocab_size = 10000  # Keep top 10K words\n",
    "max_length = 30  # Maximum words per sentence\n",
    "oov_token = \"<OOV>\"  # Handle unknown words\n",
    "tokenizer = Tokenizer(num_words=vocab_size, oov_token=oov_token)\n",
    "tokenizer.fit_on_texts(text)\n",
    "# Convert to sequences and pad them\n",
    "sequences = tokenizer.texts_to_sequences(text)\n",
    "X = pad_sequences(sequences, maxlen=max_length, padding=\"post\", truncating=\"post\")\n",
    "# Convert labels to numpy array\n",
    "y = labels\n",
    "X_train, X_test, y_train, y_test = train_test_split(X,y,random_state=42, test_size=0.2)\n",
    "print(f\"Training samples: {len(X_train)}, Test samples: {len(X_test)}\")"
   ]
  },
  {
   "cell_type": "code",
   "execution_count": 19,
   "metadata": {
    "id": "hHVqwVmPIWik"
   },
   "outputs": [
    {
     "ename": "ModuleNotFoundError",
     "evalue": "No module named 'tensorflow'",
     "output_type": "error",
     "traceback": [
      "\u001b[1;31m---------------------------------------------------------------------------\u001b[0m",
      "\u001b[1;31mModuleNotFoundError\u001b[0m                       Traceback (most recent call last)",
      "Cell \u001b[1;32mIn[19], line 3\u001b[0m\n\u001b[0;32m      1\u001b[0m \u001b[38;5;28;01mimport\u001b[39;00m \u001b[38;5;21;01mpandas\u001b[39;00m \u001b[38;5;28;01mas\u001b[39;00m \u001b[38;5;21;01mpd\u001b[39;00m\n\u001b[0;32m      2\u001b[0m \u001b[38;5;28;01mimport\u001b[39;00m \u001b[38;5;21;01mjson\u001b[39;00m\n\u001b[1;32m----> 3\u001b[0m \u001b[38;5;28;01mimport\u001b[39;00m \u001b[38;5;21;01mtensorflow\u001b[39;00m \u001b[38;5;28;01mas\u001b[39;00m \u001b[38;5;21;01mtf\u001b[39;00m\n\u001b[0;32m      4\u001b[0m \u001b[38;5;28;01mfrom\u001b[39;00m \u001b[38;5;21;01mtensorflow\u001b[39;00m\u001b[38;5;21;01m.\u001b[39;00m\u001b[38;5;21;01mkeras\u001b[39;00m\u001b[38;5;21;01m.\u001b[39;00m\u001b[38;5;21;01mpreprocessing\u001b[39;00m\u001b[38;5;21;01m.\u001b[39;00m\u001b[38;5;21;01mtext\u001b[39;00m \u001b[38;5;28;01mimport\u001b[39;00m Tokenizer\n\u001b[0;32m      5\u001b[0m \u001b[38;5;28;01mfrom\u001b[39;00m \u001b[38;5;21;01mtensorflow\u001b[39;00m\u001b[38;5;21;01m.\u001b[39;00m\u001b[38;5;21;01mkeras\u001b[39;00m\u001b[38;5;21;01m.\u001b[39;00m\u001b[38;5;21;01mpreprocessing\u001b[39;00m\u001b[38;5;21;01m.\u001b[39;00m\u001b[38;5;21;01msequence\u001b[39;00m \u001b[38;5;28;01mimport\u001b[39;00m pad_sequences\n",
      "\u001b[1;31mModuleNotFoundError\u001b[0m: No module named 'tensorflow'"
     ]
    }
   ],
   "source": [
    "import pandas as pd\n",
    "import json\n",
    "import tensorflow as tf\n",
    "from tensorflow.keras.preprocessing.text import Tokenizer\n",
    "from tensorflow.keras.preprocessing.sequence import pad_sequences\n",
    "from sklearn.model_selection import train_test_split\n",
    "import numpy as np\n",
    "from tensorflow.keras.layers import Embedding, Conv1D, GlobalMaxPooling1D, Dense, Dropout\n",
    "from tensorflow.keras.models import Sequential\n",
    "from tensorflow.keras import regularizers\n",
    "from tensorflow.keras.callbacks import EarlyStopping"
   ]
  },
  {
   "cell_type": "code",
   "execution_count": null,
   "metadata": {
    "colab": {
     "base_uri": "https://localhost:8080/"
    },
    "id": "90rbRBVyIyWl",
    "outputId": "de363322-f21d-45e4-d54a-08de26083806"
   },
   "outputs": [
    {
     "name": "stdout",
     "output_type": "stream",
     "text": [
      "Embedding matrix shape: (10000, 100)\n"
     ]
    }
   ],
   "source": [
    "# Glove embeddings\n",
    "embedding_index = {}\n",
    "embedding_dim = 100  # Use 100D embeddings\n",
    "\n",
    "with open(\"glove.6B.100d.txt\", encoding=\"utf-8\") as f:\n",
    "    for line in f:\n",
    "        values = line.split()\n",
    "        word = values[0]\n",
    "        coefs = np.asarray(values[1:], dtype=\"float32\")\n",
    "        embedding_index[word] = coefs\n",
    "\n",
    "# Create embedding matrix\n",
    "embedding_matrix = np.zeros((vocab_size, embedding_dim))\n",
    "for word, index in tokenizer.word_index.items():\n",
    "    if index < vocab_size:\n",
    "        embedding_vector = embedding_index.get(word)\n",
    "        if embedding_vector is not None:\n",
    "            embedding_matrix[index] = embedding_vector\n",
    "\n",
    "print(\"Embedding matrix shape:\", embedding_matrix.shape)\n"
   ]
  },
  {
   "cell_type": "code",
   "execution_count": null,
   "metadata": {
    "colab": {
     "base_uri": "https://localhost:8080/",
     "height": 511
    },
    "id": "FFcSig_WKOrQ",
    "outputId": "0d8810da-b7f8-476d-81f4-05cb349d317d"
   },
   "outputs": [
    {
     "data": {
      "text/html": [
       "<pre style=\"white-space:pre;overflow-x:auto;line-height:normal;font-family:Menlo,'DejaVu Sans Mono',consolas,'Courier New',monospace\"><span style=\"font-weight: bold\">Model: \"sequential_8\"</span>\n",
       "</pre>\n"
      ],
      "text/plain": [
       "\u001b[1mModel: \"sequential_8\"\u001b[0m\n"
      ]
     },
     "metadata": {},
     "output_type": "display_data"
    },
    {
     "data": {
      "text/html": [
       "<pre style=\"white-space:pre;overflow-x:auto;line-height:normal;font-family:Menlo,'DejaVu Sans Mono',consolas,'Courier New',monospace\">┏━━━━━━━━━━━━━━━━━━━━━━━━━━━━━━━━━━━━━━┳━━━━━━━━━━━━━━━━━━━━━━━━━━━━━┳━━━━━━━━━━━━━━━━━┓\n",
       "┃<span style=\"font-weight: bold\"> Layer (type)                         </span>┃<span style=\"font-weight: bold\"> Output Shape                </span>┃<span style=\"font-weight: bold\">         Param # </span>┃\n",
       "┡━━━━━━━━━━━━━━━━━━━━━━━━━━━━━━━━━━━━━━╇━━━━━━━━━━━━━━━━━━━━━━━━━━━━━╇━━━━━━━━━━━━━━━━━┩\n",
       "│ embedding_9 (<span style=\"color: #0087ff; text-decoration-color: #0087ff\">Embedding</span>)              │ (<span style=\"color: #00d7ff; text-decoration-color: #00d7ff\">None</span>, <span style=\"color: #00af00; text-decoration-color: #00af00\">100</span>, <span style=\"color: #00af00; text-decoration-color: #00af00\">100</span>)            │       <span style=\"color: #00af00; text-decoration-color: #00af00\">1,000,000</span> │\n",
       "├──────────────────────────────────────┼─────────────────────────────┼─────────────────┤\n",
       "│ conv1d_8 (<span style=\"color: #0087ff; text-decoration-color: #0087ff\">Conv1D</span>)                    │ (<span style=\"color: #00d7ff; text-decoration-color: #00d7ff\">None</span>, <span style=\"color: #00af00; text-decoration-color: #00af00\">96</span>, <span style=\"color: #00af00; text-decoration-color: #00af00\">128</span>)             │          <span style=\"color: #00af00; text-decoration-color: #00af00\">64,128</span> │\n",
       "├──────────────────────────────────────┼─────────────────────────────┼─────────────────┤\n",
       "│ global_max_pooling1d_8               │ (<span style=\"color: #00d7ff; text-decoration-color: #00d7ff\">None</span>, <span style=\"color: #00af00; text-decoration-color: #00af00\">128</span>)                 │               <span style=\"color: #00af00; text-decoration-color: #00af00\">0</span> │\n",
       "│ (<span style=\"color: #0087ff; text-decoration-color: #0087ff\">GlobalMaxPooling1D</span>)                 │                             │                 │\n",
       "├──────────────────────────────────────┼─────────────────────────────┼─────────────────┤\n",
       "│ dense_16 (<span style=\"color: #0087ff; text-decoration-color: #0087ff\">Dense</span>)                     │ (<span style=\"color: #00d7ff; text-decoration-color: #00d7ff\">None</span>, <span style=\"color: #00af00; text-decoration-color: #00af00\">64</span>)                  │           <span style=\"color: #00af00; text-decoration-color: #00af00\">8,256</span> │\n",
       "├──────────────────────────────────────┼─────────────────────────────┼─────────────────┤\n",
       "│ dropout_8 (<span style=\"color: #0087ff; text-decoration-color: #0087ff\">Dropout</span>)                  │ (<span style=\"color: #00d7ff; text-decoration-color: #00d7ff\">None</span>, <span style=\"color: #00af00; text-decoration-color: #00af00\">64</span>)                  │               <span style=\"color: #00af00; text-decoration-color: #00af00\">0</span> │\n",
       "├──────────────────────────────────────┼─────────────────────────────┼─────────────────┤\n",
       "│ dense_17 (<span style=\"color: #0087ff; text-decoration-color: #0087ff\">Dense</span>)                     │ (<span style=\"color: #00d7ff; text-decoration-color: #00d7ff\">None</span>, <span style=\"color: #00af00; text-decoration-color: #00af00\">2</span>)                   │             <span style=\"color: #00af00; text-decoration-color: #00af00\">130</span> │\n",
       "└──────────────────────────────────────┴─────────────────────────────┴─────────────────┘\n",
       "</pre>\n"
      ],
      "text/plain": [
       "┏━━━━━━━━━━━━━━━━━━━━━━━━━━━━━━━━━━━━━━┳━━━━━━━━━━━━━━━━━━━━━━━━━━━━━┳━━━━━━━━━━━━━━━━━┓\n",
       "┃\u001b[1m \u001b[0m\u001b[1mLayer (type)                        \u001b[0m\u001b[1m \u001b[0m┃\u001b[1m \u001b[0m\u001b[1mOutput Shape               \u001b[0m\u001b[1m \u001b[0m┃\u001b[1m \u001b[0m\u001b[1m        Param #\u001b[0m\u001b[1m \u001b[0m┃\n",
       "┡━━━━━━━━━━━━━━━━━━━━━━━━━━━━━━━━━━━━━━╇━━━━━━━━━━━━━━━━━━━━━━━━━━━━━╇━━━━━━━━━━━━━━━━━┩\n",
       "│ embedding_9 (\u001b[38;5;33mEmbedding\u001b[0m)              │ (\u001b[38;5;45mNone\u001b[0m, \u001b[38;5;34m100\u001b[0m, \u001b[38;5;34m100\u001b[0m)            │       \u001b[38;5;34m1,000,000\u001b[0m │\n",
       "├──────────────────────────────────────┼─────────────────────────────┼─────────────────┤\n",
       "│ conv1d_8 (\u001b[38;5;33mConv1D\u001b[0m)                    │ (\u001b[38;5;45mNone\u001b[0m, \u001b[38;5;34m96\u001b[0m, \u001b[38;5;34m128\u001b[0m)             │          \u001b[38;5;34m64,128\u001b[0m │\n",
       "├──────────────────────────────────────┼─────────────────────────────┼─────────────────┤\n",
       "│ global_max_pooling1d_8               │ (\u001b[38;5;45mNone\u001b[0m, \u001b[38;5;34m128\u001b[0m)                 │               \u001b[38;5;34m0\u001b[0m │\n",
       "│ (\u001b[38;5;33mGlobalMaxPooling1D\u001b[0m)                 │                             │                 │\n",
       "├──────────────────────────────────────┼─────────────────────────────┼─────────────────┤\n",
       "│ dense_16 (\u001b[38;5;33mDense\u001b[0m)                     │ (\u001b[38;5;45mNone\u001b[0m, \u001b[38;5;34m64\u001b[0m)                  │           \u001b[38;5;34m8,256\u001b[0m │\n",
       "├──────────────────────────────────────┼─────────────────────────────┼─────────────────┤\n",
       "│ dropout_8 (\u001b[38;5;33mDropout\u001b[0m)                  │ (\u001b[38;5;45mNone\u001b[0m, \u001b[38;5;34m64\u001b[0m)                  │               \u001b[38;5;34m0\u001b[0m │\n",
       "├──────────────────────────────────────┼─────────────────────────────┼─────────────────┤\n",
       "│ dense_17 (\u001b[38;5;33mDense\u001b[0m)                     │ (\u001b[38;5;45mNone\u001b[0m, \u001b[38;5;34m2\u001b[0m)                   │             \u001b[38;5;34m130\u001b[0m │\n",
       "└──────────────────────────────────────┴─────────────────────────────┴─────────────────┘\n"
      ]
     },
     "metadata": {},
     "output_type": "display_data"
    },
    {
     "data": {
      "text/html": [
       "<pre style=\"white-space:pre;overflow-x:auto;line-height:normal;font-family:Menlo,'DejaVu Sans Mono',consolas,'Courier New',monospace\"><span style=\"font-weight: bold\"> Total params: </span><span style=\"color: #00af00; text-decoration-color: #00af00\">1,072,514</span> (4.09 MB)\n",
       "</pre>\n"
      ],
      "text/plain": [
       "\u001b[1m Total params: \u001b[0m\u001b[38;5;34m1,072,514\u001b[0m (4.09 MB)\n"
      ]
     },
     "metadata": {},
     "output_type": "display_data"
    },
    {
     "data": {
      "text/html": [
       "<pre style=\"white-space:pre;overflow-x:auto;line-height:normal;font-family:Menlo,'DejaVu Sans Mono',consolas,'Courier New',monospace\"><span style=\"font-weight: bold\"> Trainable params: </span><span style=\"color: #00af00; text-decoration-color: #00af00\">72,514</span> (283.26 KB)\n",
       "</pre>\n"
      ],
      "text/plain": [
       "\u001b[1m Trainable params: \u001b[0m\u001b[38;5;34m72,514\u001b[0m (283.26 KB)\n"
      ]
     },
     "metadata": {},
     "output_type": "display_data"
    },
    {
     "data": {
      "text/html": [
       "<pre style=\"white-space:pre;overflow-x:auto;line-height:normal;font-family:Menlo,'DejaVu Sans Mono',consolas,'Courier New',monospace\"><span style=\"font-weight: bold\"> Non-trainable params: </span><span style=\"color: #00af00; text-decoration-color: #00af00\">1,000,000</span> (3.81 MB)\n",
       "</pre>\n"
      ],
      "text/plain": [
       "\u001b[1m Non-trainable params: \u001b[0m\u001b[38;5;34m1,000,000\u001b[0m (3.81 MB)\n"
      ]
     },
     "metadata": {},
     "output_type": "display_data"
    },
    {
     "name": "stdout",
     "output_type": "stream",
     "text": [
      "Epoch 1/5\n",
      "\u001b[1m668/668\u001b[0m \u001b[32m━━━━━━━━━━━━━━━━━━━━\u001b[0m\u001b[37m\u001b[0m \u001b[1m9s\u001b[0m 11ms/step - accuracy: 0.6519 - loss: 0.6232 - val_accuracy: 0.8034 - val_loss: 0.4214\n",
      "Epoch 2/5\n",
      "\u001b[1m668/668\u001b[0m \u001b[32m━━━━━━━━━━━━━━━━━━━━\u001b[0m\u001b[37m\u001b[0m \u001b[1m10s\u001b[0m 11ms/step - accuracy: 0.8277 - loss: 0.3929 - val_accuracy: 0.8194 - val_loss: 0.3906\n",
      "Epoch 3/5\n",
      "\u001b[1m668/668\u001b[0m \u001b[32m━━━━━━━━━━━━━━━━━━━━\u001b[0m\u001b[37m\u001b[0m \u001b[1m12s\u001b[0m 13ms/step - accuracy: 0.8707 - loss: 0.3055 - val_accuracy: 0.8235 - val_loss: 0.3808\n",
      "Epoch 4/5\n",
      "\u001b[1m668/668\u001b[0m \u001b[32m━━━━━━━━━━━━━━━━━━━━\u001b[0m\u001b[37m\u001b[0m \u001b[1m10s\u001b[0m 13ms/step - accuracy: 0.9125 - loss: 0.2259 - val_accuracy: 0.7963 - val_loss: 0.4660\n",
      "Epoch 5/5\n",
      "\u001b[1m668/668\u001b[0m \u001b[32m━━━━━━━━━━━━━━━━━━━━\u001b[0m\u001b[37m\u001b[0m \u001b[1m9s\u001b[0m 11ms/step - accuracy: 0.9359 - loss: 0.1683 - val_accuracy: 0.8272 - val_loss: 0.4366\n"
     ]
    }
   ],
   "source": [
    "vocab_size = 10000   # Match tokenizer\n",
    "embedding_dim = 100  # Match GloVe dimension\n",
    "max_length = 100     # Sentence length\n",
    "num_classes = 2      # Binary classification\n",
    "\n",
    "# Define CNN model\n",
    "model = Sequential([\n",
    "    Embedding(input_dim=vocab_size, output_dim=embedding_dim,\n",
    "              weights=[embedding_matrix], trainable=False, input_length=max_length),\n",
    "    Conv1D(filters=128, kernel_size=5, activation='relu'),\n",
    "    GlobalMaxPooling1D(),\n",
    "    Dense(64, activation='relu'),\n",
    "    Dropout(0.5),\n",
    "    Dense(num_classes, activation='softmax')\n",
    "])\n",
    "\n",
    "# Build model explicitly\n",
    "model.build(input_shape=(None, max_length))\n",
    "\n",
    "#model.compile(optimizer='adam', loss='categorical_crossentropy', metrics=['accuracy'])\n",
    "# Print summary\n",
    "model.summary() # Compile the model"
   ]
  },
  {
   "cell_type": "code",
   "execution_count": null,
   "metadata": {
    "colab": {
     "base_uri": "https://localhost:8080/"
    },
    "id": "pkswoVCKKwAy",
    "outputId": "91f3481b-8efb-491b-8188-de89711e72c2"
   },
   "outputs": [
    {
     "name": "stdout",
     "output_type": "stream",
     "text": [
      "Epoch 1/5\n",
      "\u001b[1m668/668\u001b[0m \u001b[32m━━━━━━━━━━━━━━━━━━━━\u001b[0m\u001b[37m\u001b[0m \u001b[1m8s\u001b[0m 10ms/step - accuracy: 0.9524 - loss: 0.1202 - val_accuracy: 0.8235 - val_loss: 0.5358\n",
      "Epoch 2/5\n",
      "\u001b[1m668/668\u001b[0m \u001b[32m━━━━━━━━━━━━━━━━━━━━\u001b[0m\u001b[37m\u001b[0m \u001b[1m10s\u001b[0m 10ms/step - accuracy: 0.9731 - loss: 0.0789 - val_accuracy: 0.8218 - val_loss: 0.5526\n",
      "Epoch 3/5\n",
      "\u001b[1m668/668\u001b[0m \u001b[32m━━━━━━━━━━━━━━━━━━━━\u001b[0m\u001b[37m\u001b[0m \u001b[1m8s\u001b[0m 13ms/step - accuracy: 0.9727 - loss: 0.0724 - val_accuracy: 0.8263 - val_loss: 0.6772\n",
      "Epoch 4/5\n",
      "\u001b[1m668/668\u001b[0m \u001b[32m━━━━━━━━━━━━━━━━━━━━\u001b[0m\u001b[37m\u001b[0m \u001b[1m9s\u001b[0m 11ms/step - accuracy: 0.9796 - loss: 0.0568 - val_accuracy: 0.8231 - val_loss: 0.7637\n",
      "Epoch 5/5\n",
      "\u001b[1m668/668\u001b[0m \u001b[32m━━━━━━━━━━━━━━━━━━━━\u001b[0m\u001b[37m\u001b[0m \u001b[1m10s\u001b[0m 10ms/step - accuracy: 0.9838 - loss: 0.0454 - val_accuracy: 0.7917 - val_loss: 0.9694\n"
     ]
    }
   ],
   "source": [
    "model.compile(optimizer='adam', loss='sparse_categorical_crossentropy', metrics=['accuracy'])\n",
    "\n",
    "# Train the model\n",
    "history = model.fit(X_train, y_train, epochs=5, batch_size=32, validation_data=(X_test, y_test))"
   ]
  },
  {
   "cell_type": "code",
   "execution_count": null,
   "metadata": {
    "colab": {
     "base_uri": "https://localhost:8080/"
    },
    "id": "7VYPbuMRRikw",
    "outputId": "466de8b4-1ac0-4d8d-839e-9e7d33ce3648"
   },
   "outputs": [
    {
     "name": "stdout",
     "output_type": "stream",
     "text": [
      "\u001b[1m167/167\u001b[0m \u001b[32m━━━━━━━━━━━━━━━━━━━━\u001b[0m\u001b[37m\u001b[0m \u001b[1m1s\u001b[0m 4ms/step - accuracy: 0.8232 - loss: 0.4366\n",
      "Test Accuracy: 82.72%\n",
      "\u001b[1m668/668\u001b[0m \u001b[32m━━━━━━━━━━━━━━━━━━━━\u001b[0m\u001b[37m\u001b[0m \u001b[1m3s\u001b[0m 4ms/step - accuracy: 0.9756 - loss: 0.0920\n",
      "Train Accuracy: 97.57%\n"
     ]
    }
   ],
   "source": [
    "loss, accuracy = model.evaluate(X_test, y_test)\n",
    "print(f\"Test Accuracy: {accuracy * 100:.2f}%\")\n",
    "l, a = model.evaluate(X_train, y_train)\n",
    "print(f\"Train Accuracy: {a * 100:.2f}%\")"
   ]
  },
  {
   "cell_type": "code",
   "execution_count": null,
   "metadata": {
    "colab": {
     "base_uri": "https://localhost:8080/"
    },
    "id": "GBTYD6beSZ5D",
    "outputId": "836eab2b-7605-462d-d5af-32a95f311ba4"
   },
   "outputs": [
    {
     "name": "stderr",
     "output_type": "stream",
     "text": [
      "Exception ignored in: <function WeakSet.__init__.<locals>._remove at 0x799bbe8acfe0>\n",
      "Traceback (most recent call last):\n",
      "  File \"/usr/lib/python3.11/_weakrefset.py\", line 39, in _remove\n",
      "    def _remove(item, selfref=ref(self)):\n",
      "\n",
      "KeyboardInterrupt: \n"
     ]
    },
    {
     "name": "stdout",
     "output_type": "stream",
     "text": [
      "Neutral\n"
     ]
    }
   ],
   "source": [
    "from textblob import TextBlob\n",
    "\n",
    "def sentiment_analysis(text):\n",
    "    sentiment_score = TextBlob(text).sentiment.polarity\n",
    "    if sentiment_score > 0:\n",
    "        return \"Positive Sarcasm\"\n",
    "    elif sentiment_score < 0:\n",
    "        return \"Negative Sarcasm\"\n",
    "    else:\n",
    "        return \"Neutral\"\n",
    "# Example\n",
    "sample_text = \"you are genius, obviously\"\n",
    "print(sentiment_analysis(sample_text))"
   ]
  },
  {
   "cell_type": "markdown",
   "metadata": {
    "id": "hMMwi1vsZHCh"
   },
   "source": [
    "Trying transformers for sarcasm detection: Pretrained models from hugging face. Models used: RoBERTa and DistilBERT"
   ]
  },
  {
   "cell_type": "code",
   "execution_count": null,
   "metadata": {
    "colab": {
     "base_uri": "https://localhost:8080/",
     "height": 176
    },
    "id": "146bIOIQSgQW",
    "outputId": "0261acd5-a87c-4145-eba1-1fa3bbf841c8"
   },
   "outputs": [
    {
     "ename": "NameError",
     "evalue": "name 'model_path' is not defined",
     "output_type": "error",
     "traceback": [
      "\u001b[0;31m---------------------------------------------------------------------------\u001b[0m",
      "\u001b[0;31mNameError\u001b[0m                                 Traceback (most recent call last)",
      "\u001b[0;32m<ipython-input-35-433ec49e3edd>\u001b[0m in \u001b[0;36m<cell line: 0>\u001b[0;34m()\u001b[0m\n\u001b[1;32m      1\u001b[0m \u001b[0;32mfrom\u001b[0m \u001b[0mtransformers\u001b[0m \u001b[0;32mimport\u001b[0m \u001b[0mpipeline\u001b[0m\u001b[0;34m\u001b[0m\u001b[0;34m\u001b[0m\u001b[0m\n\u001b[0;32m----> 2\u001b[0;31m \u001b[0msentiment_task\u001b[0m \u001b[0;34m=\u001b[0m \u001b[0mpipeline\u001b[0m\u001b[0;34m(\u001b[0m\u001b[0;34m\"sentiment-analysis\"\u001b[0m\u001b[0;34m,\u001b[0m \u001b[0mmodel\u001b[0m\u001b[0;34m=\u001b[0m\u001b[0mmodel_path\u001b[0m\u001b[0;34m,\u001b[0m \u001b[0mtokenizer\u001b[0m\u001b[0;34m=\u001b[0m\u001b[0mmodel_path\u001b[0m\u001b[0;34m)\u001b[0m\u001b[0;34m\u001b[0m\u001b[0;34m\u001b[0m\u001b[0m\n\u001b[0m\u001b[1;32m      3\u001b[0m \u001b[0msentiment_task\u001b[0m\u001b[0;34m(\u001b[0m\u001b[0;34m\"Oh yeah, like Kitty's gonna care\"\u001b[0m\u001b[0;34m)\u001b[0m\u001b[0;34m\u001b[0m\u001b[0;34m\u001b[0m\u001b[0m\n",
      "\u001b[0;31mNameError\u001b[0m: name 'model_path' is not defined"
     ]
    }
   ],
   "source": [
    "from transformers import pipeline\n",
    "sentiment_task = pipeline(\"sentiment-analysis\", model=model_path, tokenizer=model_path)\n",
    "sentiment_task(\"Oh yeah, like Kitty's gonna care\")"
   ]
  },
  {
   "cell_type": "code",
   "execution_count": null,
   "metadata": {
    "id": "miMiq0EnZOnC"
   },
   "outputs": [],
   "source": [
    "from transformers import AutoModelForSequenceClassification\n",
    "from transformers import TFAutoModelForSequenceClassification\n",
    "from transformers import AutoTokenizer, AutoConfig\n",
    "import numpy as np\n",
    "from scipy.special import softmax\n",
    "# Preprocess text (username and link placeholders)\n",
    "def preprocess(text):\n",
    "    new_text = []\n",
    "    for t in text.split(\" \"):\n",
    "        t = '@user' if t.startswith('@') and len(t) > 1 else t\n",
    "        t = 'http' if t.startswith('http') else t\n",
    "        new_text.append(t)\n",
    "    return \" \".join(new_text)\n",
    "MODEL = f\"cardiffnlp/twitter-roberta-base-sentiment-latest\"\n",
    "tokenizer = AutoTokenizer.from_pretrained(MODEL)\n",
    "config = AutoConfig.from_pretrained(MODEL)\n",
    "# PT\n",
    "model = AutoModelForSequenceClassification.from_pretrained(MODEL)\n",
    "#model.save_pretrained(MODEL)\n",
    "text = \"Covid cases are increasing fast!\"\n",
    "text = preprocess(text)\n",
    "encoded_input = tokenizer(text, return_tensors='pt')\n",
    "output = model(**encoded_input)\n",
    "scores = output[0][0].detach().numpy()\n",
    "scores = softmax(scores)\n",
    "# # TF\n",
    "# model = TFAutoModelForSequenceClassification.from_pretrained(MODEL)\n",
    "# model.save_pretrained(MODEL)\n",
    "# text = \"Covid cases are increasing fast!\"\n",
    "# encoded_input = tokenizer(text, return_tensors='tf')\n",
    "# output = model(encoded_input)\n",
    "# scores = output[0][0].numpy()\n",
    "# scores = softmax(scores)\n",
    "# Print labels and scores\n",
    "ranking = np.argsort(scores)\n",
    "ranking = ranking[::-1]\n",
    "for i in range(scores.shape[0]):\n",
    "    l = config.id2label[ranking[i]]\n",
    "    s = scores[ranking[i]]\n",
    "    print(f\"{i+1}) {l} {np.round(float(s), 4)}\")\n"
   ]
  },
  {
   "cell_type": "code",
   "execution_count": null,
   "metadata": {
    "colab": {
     "base_uri": "https://localhost:8080/"
    },
    "id": "1fd20GA4bu-V",
    "outputId": "d4cc1468-372c-4ef2-cff1-44414592f4d8"
   },
   "outputs": [
    {
     "name": "stderr",
     "output_type": "stream",
     "text": [
      "Some weights of the PyTorch model were not used when initializing the TF 2.0 model TFDistilBertForSequenceClassification: ['vocab_layer_norm.bias', 'vocab_transform.weight', 'vocab_transform.bias', 'vocab_projector.bias', 'vocab_layer_norm.weight']\n",
      "- This IS expected if you are initializing TFDistilBertForSequenceClassification from a PyTorch model trained on another task or with another architecture (e.g. initializing a TFBertForSequenceClassification model from a BertForPreTraining model).\n",
      "- This IS NOT expected if you are initializing TFDistilBertForSequenceClassification from a PyTorch model that you expect to be exactly identical (e.g. initializing a TFBertForSequenceClassification model from a BertForSequenceClassification model).\n",
      "Some weights or buffers of the TF 2.0 model TFDistilBertForSequenceClassification were not initialized from the PyTorch model and are newly initialized: ['pre_classifier.weight', 'pre_classifier.bias', 'classifier.weight', 'classifier.bias']\n",
      "You should probably TRAIN this model on a down-stream task to be able to use it for predictions and inference.\n"
     ]
    }
   ],
   "source": [
    "from transformers import DistilBertTokenizer, TFDistilBertForSequenceClassification\n",
    "import tensorflow as tf\n",
    "\n",
    "# Load the pre-trained tokenizer and model\n",
    "tokenizer = DistilBertTokenizer.from_pretrained(\"distilbert-base-uncased\")\n",
    "model = TFDistilBertForSequenceClassification.from_pretrained(\"distilbert-base-uncased\", num_labels=2)  # Binary classification for sarcasm (sarcastic / not sarcastic)\n"
   ]
  },
  {
   "cell_type": "code",
   "execution_count": null,
   "metadata": {
    "id": "3LqRk3EhbwJj"
   },
   "outputs": [],
   "source": [
    "# Assuming the dataset has columns 'text' and 'label'\n",
    "X = text.tolist()  # List of texts\n",
    "y = labels.tolist()  # Labels (0: non-sarcastic, 1: sarcastic)\n",
    "\n",
    "# Split the dataset into training and testing\n",
    "X_train, X_test, y_train, y_test = train_test_split(X, y, test_size=0.2, random_state=42)"
   ]
  },
  {
   "cell_type": "code",
   "execution_count": null,
   "metadata": {
    "id": "VBzquFVYeFCZ"
   },
   "outputs": [],
   "source": [
    "# Tokenize the training and testing data\n",
    "X_train_encoded = tokenizer(X_train, padding=True, truncation=True, max_length=128, return_tensors=\"tf\")\n",
    "X_test_encoded = tokenizer(X_test, padding=True, truncation=True, max_length=128, return_tensors=\"tf\")"
   ]
  },
  {
   "cell_type": "code",
   "execution_count": null,
   "metadata": {
    "id": "xUERG9SJePDb"
   },
   "outputs": [],
   "source": [
    "# Convert to TensorFlow datasets\n",
    "train_dataset = tf.data.Dataset.from_tensor_slices((\n",
    "    {\"input_ids\": X_train_encoded['input_ids'], \"attention_mask\": X_train_encoded['attention_mask']},\n",
    "    y_train\n",
    "))\n",
    "\n",
    "test_dataset = tf.data.Dataset.from_tensor_slices((\n",
    "    {\"input_ids\": X_test_encoded['input_ids'], \"attention_mask\": X_test_encoded['attention_mask']},\n",
    "    y_test\n",
    "))\n",
    "\n",
    "# Batch the datasets for training\n",
    "train_dataset = train_dataset.batch(16).shuffle(1000)\n",
    "test_dataset = test_dataset.batch(16)"
   ]
  },
  {
   "cell_type": "code",
   "execution_count": null,
   "metadata": {
    "colab": {
     "base_uri": "https://localhost:8080/",
     "height": 216
    },
    "id": "Ey_eCw3ceUrv",
    "outputId": "18cf85f0-6575-448e-a9c0-c78c7db769a2"
   },
   "outputs": [
    {
     "name": "stderr",
     "output_type": "stream",
     "text": [
      "/usr/local/lib/python3.11/dist-packages/keras/src/layers/core/dense.py:87: UserWarning: Do not pass an `input_shape`/`input_dim` argument to a layer. When using Sequential models, prefer using an `Input(shape)` object as the first layer in the model instead.\n",
      "  super().__init__(activity_regularizer=activity_regularizer, **kwargs)\n"
     ]
    },
    {
     "data": {
      "text/html": [
       "<pre style=\"white-space:pre;overflow-x:auto;line-height:normal;font-family:Menlo,'DejaVu Sans Mono',consolas,'Courier New',monospace\"><span style=\"font-weight: bold\">Model: \"sequential_9\"</span>\n",
       "</pre>\n"
      ],
      "text/plain": [
       "\u001b[1mModel: \"sequential_9\"\u001b[0m\n"
      ]
     },
     "metadata": {},
     "output_type": "display_data"
    },
    {
     "data": {
      "text/html": [
       "<pre style=\"white-space:pre;overflow-x:auto;line-height:normal;font-family:Menlo,'DejaVu Sans Mono',consolas,'Courier New',monospace\">┏━━━━━━━━━━━━━━━━━━━━━━━━━━━━━━━━━━━━━━┳━━━━━━━━━━━━━━━━━━━━━━━━━━━━━┳━━━━━━━━━━━━━━━━━┓\n",
       "┃<span style=\"font-weight: bold\"> Layer (type)                         </span>┃<span style=\"font-weight: bold\"> Output Shape                </span>┃<span style=\"font-weight: bold\">         Param # </span>┃\n",
       "┡━━━━━━━━━━━━━━━━━━━━━━━━━━━━━━━━━━━━━━╇━━━━━━━━━━━━━━━━━━━━━━━━━━━━━╇━━━━━━━━━━━━━━━━━┩\n",
       "│ dense_18 (<span style=\"color: #0087ff; text-decoration-color: #0087ff\">Dense</span>)                     │ (<span style=\"color: #00d7ff; text-decoration-color: #00d7ff\">None</span>, <span style=\"color: #00af00; text-decoration-color: #00af00\">1</span>)                   │              <span style=\"color: #00af00; text-decoration-color: #00af00\">11</span> │\n",
       "└──────────────────────────────────────┴─────────────────────────────┴─────────────────┘\n",
       "</pre>\n"
      ],
      "text/plain": [
       "┏━━━━━━━━━━━━━━━━━━━━━━━━━━━━━━━━━━━━━━┳━━━━━━━━━━━━━━━━━━━━━━━━━━━━━┳━━━━━━━━━━━━━━━━━┓\n",
       "┃\u001b[1m \u001b[0m\u001b[1mLayer (type)                        \u001b[0m\u001b[1m \u001b[0m┃\u001b[1m \u001b[0m\u001b[1mOutput Shape               \u001b[0m\u001b[1m \u001b[0m┃\u001b[1m \u001b[0m\u001b[1m        Param #\u001b[0m\u001b[1m \u001b[0m┃\n",
       "┡━━━━━━━━━━━━━━━━━━━━━━━━━━━━━━━━━━━━━━╇━━━━━━━━━━━━━━━━━━━━━━━━━━━━━╇━━━━━━━━━━━━━━━━━┩\n",
       "│ dense_18 (\u001b[38;5;33mDense\u001b[0m)                     │ (\u001b[38;5;45mNone\u001b[0m, \u001b[38;5;34m1\u001b[0m)                   │              \u001b[38;5;34m11\u001b[0m │\n",
       "└──────────────────────────────────────┴─────────────────────────────┴─────────────────┘\n"
      ]
     },
     "metadata": {},
     "output_type": "display_data"
    },
    {
     "data": {
      "text/html": [
       "<pre style=\"white-space:pre;overflow-x:auto;line-height:normal;font-family:Menlo,'DejaVu Sans Mono',consolas,'Courier New',monospace\"><span style=\"font-weight: bold\"> Total params: </span><span style=\"color: #00af00; text-decoration-color: #00af00\">11</span> (44.00 B)\n",
       "</pre>\n"
      ],
      "text/plain": [
       "\u001b[1m Total params: \u001b[0m\u001b[38;5;34m11\u001b[0m (44.00 B)\n"
      ]
     },
     "metadata": {},
     "output_type": "display_data"
    },
    {
     "data": {
      "text/html": [
       "<pre style=\"white-space:pre;overflow-x:auto;line-height:normal;font-family:Menlo,'DejaVu Sans Mono',consolas,'Courier New',monospace\"><span style=\"font-weight: bold\"> Trainable params: </span><span style=\"color: #00af00; text-decoration-color: #00af00\">11</span> (44.00 B)\n",
       "</pre>\n"
      ],
      "text/plain": [
       "\u001b[1m Trainable params: \u001b[0m\u001b[38;5;34m11\u001b[0m (44.00 B)\n"
      ]
     },
     "metadata": {},
     "output_type": "display_data"
    },
    {
     "data": {
      "text/html": [
       "<pre style=\"white-space:pre;overflow-x:auto;line-height:normal;font-family:Menlo,'DejaVu Sans Mono',consolas,'Courier New',monospace\"><span style=\"font-weight: bold\"> Non-trainable params: </span><span style=\"color: #00af00; text-decoration-color: #00af00\">0</span> (0.00 B)\n",
       "</pre>\n"
      ],
      "text/plain": [
       "\u001b[1m Non-trainable params: \u001b[0m\u001b[38;5;34m0\u001b[0m (0.00 B)\n"
      ]
     },
     "metadata": {},
     "output_type": "display_data"
    }
   ],
   "source": [
    "# Compile the model\n",
    "model.compile(optimizer=tf.keras.optimizers.Adam(learning_rate=5e-5),\n",
    "              loss='binary_crossentropy',\n",
    "              metrics=['accuracy'])\n"
   ]
  },
  {
   "cell_type": "code",
   "execution_count": 13,
   "metadata": {},
   "outputs": [
    {
     "name": "stdout",
     "output_type": "stream",
     "text": [
      "Collecting transformers\n",
      "  Downloading transformers-4.50.1-py3-none-any.whl.metadata (39 kB)\n",
      "Requirement already satisfied: filelock in c:\\users\\bavna\\anaconda3\\lib\\site-packages (from transformers) (3.13.1)\n",
      "Collecting huggingface-hub<1.0,>=0.26.0 (from transformers)\n",
      "  Downloading huggingface_hub-0.29.3-py3-none-any.whl.metadata (13 kB)\n",
      "Requirement already satisfied: numpy>=1.17 in c:\\users\\bavna\\anaconda3\\lib\\site-packages (from transformers) (1.26.4)\n",
      "Requirement already satisfied: packaging>=20.0 in c:\\users\\bavna\\anaconda3\\lib\\site-packages (from transformers) (23.2)\n",
      "Requirement already satisfied: pyyaml>=5.1 in c:\\users\\bavna\\anaconda3\\lib\\site-packages (from transformers) (6.0.1)\n",
      "Requirement already satisfied: regex!=2019.12.17 in c:\\users\\bavna\\anaconda3\\lib\\site-packages (from transformers) (2023.10.3)\n",
      "Requirement already satisfied: requests in c:\\users\\bavna\\anaconda3\\lib\\site-packages (from transformers) (2.32.2)\n",
      "Collecting tokenizers<0.22,>=0.21 (from transformers)\n",
      "  Downloading tokenizers-0.21.1-cp39-abi3-win_amd64.whl.metadata (6.9 kB)\n",
      "Collecting safetensors>=0.4.3 (from transformers)\n",
      "  Downloading safetensors-0.5.3-cp38-abi3-win_amd64.whl.metadata (3.9 kB)\n",
      "Requirement already satisfied: tqdm>=4.27 in c:\\users\\bavna\\anaconda3\\lib\\site-packages (from transformers) (4.66.4)\n",
      "Requirement already satisfied: fsspec>=2023.5.0 in c:\\users\\bavna\\anaconda3\\lib\\site-packages (from huggingface-hub<1.0,>=0.26.0->transformers) (2024.3.1)\n",
      "Requirement already satisfied: typing-extensions>=3.7.4.3 in c:\\users\\bavna\\anaconda3\\lib\\site-packages (from huggingface-hub<1.0,>=0.26.0->transformers) (4.11.0)\n",
      "Requirement already satisfied: colorama in c:\\users\\bavna\\anaconda3\\lib\\site-packages (from tqdm>=4.27->transformers) (0.4.6)\n",
      "Requirement already satisfied: charset-normalizer<4,>=2 in c:\\users\\bavna\\anaconda3\\lib\\site-packages (from requests->transformers) (2.0.4)\n",
      "Requirement already satisfied: idna<4,>=2.5 in c:\\users\\bavna\\anaconda3\\lib\\site-packages (from requests->transformers) (3.7)\n",
      "Requirement already satisfied: urllib3<3,>=1.21.1 in c:\\users\\bavna\\anaconda3\\lib\\site-packages (from requests->transformers) (2.2.2)\n",
      "Requirement already satisfied: certifi>=2017.4.17 in c:\\users\\bavna\\anaconda3\\lib\\site-packages (from requests->transformers) (2024.8.30)\n",
      "Downloading transformers-4.50.1-py3-none-any.whl (10.2 MB)\n",
      "   ---------------------------------------- 0.0/10.2 MB ? eta -:--:--\n",
      "   - -------------------------------------- 0.3/10.2 MB 8.6 MB/s eta 0:00:02\n",
      "   -- ------------------------------------- 0.6/10.2 MB 7.1 MB/s eta 0:00:02\n",
      "   --- ------------------------------------ 0.8/10.2 MB 5.9 MB/s eta 0:00:02\n",
      "   ---- ----------------------------------- 1.1/10.2 MB 6.5 MB/s eta 0:00:02\n",
      "   ----- ---------------------------------- 1.4/10.2 MB 5.9 MB/s eta 0:00:02\n",
      "   ------ --------------------------------- 1.6/10.2 MB 5.8 MB/s eta 0:00:02\n",
      "   ------- -------------------------------- 1.8/10.2 MB 5.6 MB/s eta 0:00:02\n",
      "   -------- ------------------------------- 2.1/10.2 MB 5.8 MB/s eta 0:00:02\n",
      "   -------- ------------------------------- 2.2/10.2 MB 5.1 MB/s eta 0:00:02\n",
      "   --------- ------------------------------ 2.5/10.2 MB 5.4 MB/s eta 0:00:02\n",
      "   ---------- ----------------------------- 2.7/10.2 MB 5.3 MB/s eta 0:00:02\n",
      "   ----------- ---------------------------- 3.0/10.2 MB 5.3 MB/s eta 0:00:02\n",
      "   ------------ --------------------------- 3.2/10.2 MB 5.3 MB/s eta 0:00:02\n",
      "   ------------- -------------------------- 3.5/10.2 MB 5.3 MB/s eta 0:00:02\n",
      "   -------------- ------------------------- 3.8/10.2 MB 5.3 MB/s eta 0:00:02\n",
      "   --------------- ------------------------ 4.0/10.2 MB 5.4 MB/s eta 0:00:02\n",
      "   ---------------- ----------------------- 4.2/10.2 MB 5.2 MB/s eta 0:00:02\n",
      "   ----------------- ---------------------- 4.4/10.2 MB 5.1 MB/s eta 0:00:02\n",
      "   ------------------ --------------------- 4.7/10.2 MB 5.3 MB/s eta 0:00:02\n",
      "   ------------------- -------------------- 5.0/10.2 MB 5.3 MB/s eta 0:00:01\n",
      "   -------------------- ------------------- 5.2/10.2 MB 5.3 MB/s eta 0:00:01\n",
      "   --------------------- ------------------ 5.5/10.2 MB 5.3 MB/s eta 0:00:01\n",
      "   ---------------------- ----------------- 5.7/10.2 MB 5.3 MB/s eta 0:00:01\n",
      "   ----------------------- ---------------- 5.9/10.2 MB 5.2 MB/s eta 0:00:01\n",
      "   ------------------------ --------------- 6.2/10.2 MB 5.2 MB/s eta 0:00:01\n",
      "   ------------------------ --------------- 6.4/10.2 MB 5.1 MB/s eta 0:00:01\n",
      "   ------------------------- -------------- 6.6/10.2 MB 5.1 MB/s eta 0:00:01\n",
      "   -------------------------- ------------- 6.9/10.2 MB 5.2 MB/s eta 0:00:01\n",
      "   ---------------------------- ----------- 7.2/10.2 MB 5.2 MB/s eta 0:00:01\n",
      "   ----------------------------- ---------- 7.4/10.2 MB 5.2 MB/s eta 0:00:01\n",
      "   ------------------------------ --------- 7.7/10.2 MB 5.2 MB/s eta 0:00:01\n",
      "   ------------------------------- -------- 7.9/10.2 MB 5.2 MB/s eta 0:00:01\n",
      "   ------------------------------- -------- 8.1/10.2 MB 5.2 MB/s eta 0:00:01\n",
      "   -------------------------------- ------- 8.3/10.2 MB 5.2 MB/s eta 0:00:01\n",
      "   --------------------------------- ------ 8.6/10.2 MB 5.2 MB/s eta 0:00:01\n",
      "   ---------------------------------- ----- 8.8/10.2 MB 5.2 MB/s eta 0:00:01\n",
      "   ----------------------------------- ---- 9.1/10.2 MB 5.2 MB/s eta 0:00:01\n",
      "   ------------------------------------ --- 9.3/10.2 MB 5.2 MB/s eta 0:00:01\n",
      "   ------------------------------------- -- 9.5/10.2 MB 5.2 MB/s eta 0:00:01\n",
      "   -------------------------------------- - 9.7/10.2 MB 5.2 MB/s eta 0:00:01\n",
      "   ---------------------------------------  10.0/10.2 MB 5.1 MB/s eta 0:00:01\n",
      "   ---------------------------------------  10.2/10.2 MB 5.2 MB/s eta 0:00:01\n",
      "   ---------------------------------------- 10.2/10.2 MB 5.1 MB/s eta 0:00:00\n",
      "Downloading huggingface_hub-0.29.3-py3-none-any.whl (468 kB)\n",
      "   ---------------------------------------- 0.0/469.0 kB ? eta -:--:--\n",
      "   --------------------- ------------------ 256.0/469.0 kB 7.7 MB/s eta 0:00:01\n",
      "   ---------------------------------------  460.8/469.0 kB 4.8 MB/s eta 0:00:01\n",
      "   ---------------------------------------- 469.0/469.0 kB 4.9 MB/s eta 0:00:00\n",
      "Downloading safetensors-0.5.3-cp38-abi3-win_amd64.whl (308 kB)\n",
      "   ---------------------------------------- 0.0/308.9 kB ? eta -:--:--\n",
      "   ------------------------------ --------- 235.5/308.9 kB 4.8 MB/s eta 0:00:01\n",
      "   ---------------------------------------- 308.9/308.9 kB 3.2 MB/s eta 0:00:00\n",
      "Downloading tokenizers-0.21.1-cp39-abi3-win_amd64.whl (2.4 MB)\n",
      "   ---------------------------------------- 0.0/2.4 MB ? eta -:--:--\n",
      "   ---- ----------------------------------- 0.2/2.4 MB 5.0 MB/s eta 0:00:01\n",
      "   ------- -------------------------------- 0.5/2.4 MB 5.0 MB/s eta 0:00:01\n",
      "   ------------ --------------------------- 0.7/2.4 MB 5.8 MB/s eta 0:00:01\n",
      "   ---------------- ----------------------- 1.0/2.4 MB 5.2 MB/s eta 0:00:01\n",
      "   -------------------- ------------------- 1.3/2.4 MB 5.3 MB/s eta 0:00:01\n",
      "   ------------------------ --------------- 1.5/2.4 MB 5.3 MB/s eta 0:00:01\n",
      "   ---------------------------- ----------- 1.8/2.4 MB 5.3 MB/s eta 0:00:01\n",
      "   -------------------------------- ------- 2.0/2.4 MB 5.2 MB/s eta 0:00:01\n",
      "   ----------------------------------- ---- 2.2/2.4 MB 5.2 MB/s eta 0:00:01\n",
      "   ---------------------------------------  2.4/2.4 MB 5.2 MB/s eta 0:00:01\n",
      "   ---------------------------------------- 2.4/2.4 MB 5.0 MB/s eta 0:00:00\n",
      "Installing collected packages: safetensors, huggingface-hub, tokenizers, transformers\n",
      "Successfully installed huggingface-hub-0.29.3 safetensors-0.5.3 tokenizers-0.21.1 transformers-4.50.1\n"
     ]
    }
   ],
   "source": [
    "# !pip install transformers"
   ]
  },
  {
   "cell_type": "code",
   "execution_count": 2,
   "metadata": {},
   "outputs": [
    {
     "data": {
      "text/html": [
       "<div>\n",
       "<style scoped>\n",
       "    .dataframe tbody tr th:only-of-type {\n",
       "        vertical-align: middle;\n",
       "    }\n",
       "\n",
       "    .dataframe tbody tr th {\n",
       "        vertical-align: top;\n",
       "    }\n",
       "\n",
       "    .dataframe thead th {\n",
       "        text-align: right;\n",
       "    }\n",
       "</style>\n",
       "<table border=\"1\" class=\"dataframe\">\n",
       "  <thead>\n",
       "    <tr style=\"text-align: right;\">\n",
       "      <th></th>\n",
       "      <th>article_link</th>\n",
       "      <th>headline</th>\n",
       "      <th>is_sarcastic</th>\n",
       "    </tr>\n",
       "  </thead>\n",
       "  <tbody>\n",
       "    <tr>\n",
       "      <th>0</th>\n",
       "      <td>https://www.huffingtonpost.com/entry/versace-b...</td>\n",
       "      <td>former versace store clerk sues over secret 'b...</td>\n",
       "      <td>0</td>\n",
       "    </tr>\n",
       "    <tr>\n",
       "      <th>1</th>\n",
       "      <td>https://www.huffingtonpost.com/entry/roseanne-...</td>\n",
       "      <td>the 'roseanne' revival catches up to our thorn...</td>\n",
       "      <td>0</td>\n",
       "    </tr>\n",
       "    <tr>\n",
       "      <th>2</th>\n",
       "      <td>https://local.theonion.com/mom-starting-to-fea...</td>\n",
       "      <td>mom starting to fear son's web series closest ...</td>\n",
       "      <td>1</td>\n",
       "    </tr>\n",
       "    <tr>\n",
       "      <th>3</th>\n",
       "      <td>https://politics.theonion.com/boehner-just-wan...</td>\n",
       "      <td>boehner just wants wife to listen, not come up...</td>\n",
       "      <td>1</td>\n",
       "    </tr>\n",
       "    <tr>\n",
       "      <th>4</th>\n",
       "      <td>https://www.huffingtonpost.com/entry/jk-rowlin...</td>\n",
       "      <td>j.k. rowling wishes snape happy birthday in th...</td>\n",
       "      <td>0</td>\n",
       "    </tr>\n",
       "  </tbody>\n",
       "</table>\n",
       "</div>"
      ],
      "text/plain": [
       "                                        article_link  \\\n",
       "0  https://www.huffingtonpost.com/entry/versace-b...   \n",
       "1  https://www.huffingtonpost.com/entry/roseanne-...   \n",
       "2  https://local.theonion.com/mom-starting-to-fea...   \n",
       "3  https://politics.theonion.com/boehner-just-wan...   \n",
       "4  https://www.huffingtonpost.com/entry/jk-rowlin...   \n",
       "\n",
       "                                            headline  is_sarcastic  \n",
       "0  former versace store clerk sues over secret 'b...             0  \n",
       "1  the 'roseanne' revival catches up to our thorn...             0  \n",
       "2  mom starting to fear son's web series closest ...             1  \n",
       "3  boehner just wants wife to listen, not come up...             1  \n",
       "4  j.k. rowling wishes snape happy birthday in th...             0  "
      ]
     },
     "execution_count": 2,
     "metadata": {},
     "output_type": "execute_result"
    }
   ],
   "source": [
    "import pandas as pd\n",
    "\n",
    "# Load dataset (adjust the path based on where you stored the file)\n",
    "df = pd.read_json(\"./Sarcasm_Headlines_Dataset.json\", lines=True)\n",
    "# View the first few rows\n",
    "df.head()"
   ]
  },
  {
   "cell_type": "code",
   "execution_count": 4,
   "metadata": {},
   "outputs": [
    {
     "data": {
      "text/plain": [
       "is_sarcastic\n",
       "0    0.561047\n",
       "1    0.438953\n",
       "Name: proportion, dtype: float64"
      ]
     },
     "execution_count": 4,
     "metadata": {},
     "output_type": "execute_result"
    }
   ],
   "source": [
    "df[\"is_sarcastic\"].value_counts(normalize=True)\n"
   ]
  },
  {
   "cell_type": "code",
   "execution_count": 5,
   "metadata": {},
   "outputs": [
    {
     "data": {
      "application/vnd.jupyter.widget-view+json": {
       "model_id": "d2b3fb5976b14d8792ccb8299014c3a3",
       "version_major": 2,
       "version_minor": 0
      },
      "text/plain": [
       "Map:   0%|          | 0/26709 [00:00<?, ? examples/s]"
      ]
     },
     "metadata": {},
     "output_type": "display_data"
    }
   ],
   "source": [
    "from transformers import AutoTokenizer\n",
    "\n",
    "tokenizer = AutoTokenizer.from_pretrained(\"mrm8488/distilbert-finetuned-sarcasm-classification\")\n",
    "\n",
    "# Tokenize the headlines\n",
    "def tokenize_data(examples):\n",
    "    return tokenizer(examples[\"headline\"], truncation=True, padding=\"max_length\", max_length=128)\n",
    "\n",
    "df[\"label\"] = df[\"is_sarcastic\"]  # Rename column for clarity\n",
    "\n",
    "# Convert to Hugging Face dataset format\n",
    "from datasets import Dataset\n",
    "\n",
    "dataset = Dataset.from_pandas(df)\n",
    "dataset = dataset.map(tokenize_data, batched=True)\n",
    "dataset = dataset.train_test_split(test_size=0.2)\n",
    "\n",
    "train_dataset = dataset[\"train\"]\n",
    "test_dataset = dataset[\"test\"]"
   ]
  },
  {
   "cell_type": "code",
   "execution_count": 7,
   "metadata": {},
   "outputs": [
    {
     "name": "stderr",
     "output_type": "stream",
     "text": [
      "Some weights of DistilBertForSequenceClassification were not initialized from the model checkpoint at distilbert-base-uncased and are newly initialized: ['classifier.bias', 'classifier.weight', 'pre_classifier.bias', 'pre_classifier.weight']\n",
      "You should probably TRAIN this model on a down-stream task to be able to use it for predictions and inference.\n"
     ]
    }
   ],
   "source": [
    "from transformers import DistilBertForSequenceClassification\n",
    "model = DistilBertForSequenceClassification.from_pretrained(\"distilbert-base-uncased\")"
   ]
  },
  {
   "cell_type": "code",
   "execution_count": 9,
   "metadata": {},
   "outputs": [
    {
     "name": "stdout",
     "output_type": "stream",
     "text": [
      "WARNING:tensorflow:From C:\\Users\\bavna\\anaconda3\\Lib\\site-packages\\tf_keras\\src\\losses.py:2976: The name tf.losses.sparse_softmax_cross_entropy is deprecated. Please use tf.compat.v1.losses.sparse_softmax_cross_entropy instead.\n",
      "\n"
     ]
    },
    {
     "name": "stderr",
     "output_type": "stream",
     "text": [
      "C:\\Users\\bavna\\anaconda3\\Lib\\site-packages\\transformers\\training_args.py:1611: FutureWarning: `evaluation_strategy` is deprecated and will be removed in version 4.46 of 🤗 Transformers. Use `eval_strategy` instead\n",
      "  warnings.warn(\n",
      "C:\\Users\\bavna\\AppData\\Local\\Temp\\ipykernel_22484\\3888565699.py:19: FutureWarning: `tokenizer` is deprecated and will be removed in version 5.0.0 for `Trainer.__init__`. Use `processing_class` instead.\n",
      "  trainer = Trainer(\n"
     ]
    }
   ],
   "source": [
    "from transformers import TrainingArguments, Trainer\n",
    "import torch\n",
    "\n",
    "# Define training arguments\n",
    "training_args = TrainingArguments(\n",
    "    output_dir=\"./sarcasm_model\",\n",
    "    evaluation_strategy=\"epoch\",\n",
    "    save_strategy=\"epoch\",\n",
    "    logging_dir=\"./logs\",\n",
    "    logging_steps=100,\n",
    "    per_device_train_batch_size=16,\n",
    "    per_device_eval_batch_size=16,\n",
    "    num_train_epochs=3,\n",
    "    weight_decay=0.01,\n",
    "    load_best_model_at_end=True\n",
    ")\n",
    "\n",
    "# Define Trainer\n",
    "trainer = Trainer(\n",
    "    model=model,\n",
    "    args=training_args,\n",
    "    train_dataset=train_dataset,\n",
    "    eval_dataset=test_dataset,\n",
    "    tokenizer=tokenizer\n",
    ")"
   ]
  },
  {
   "cell_type": "code",
   "execution_count": 11,
   "metadata": {},
   "outputs": [
    {
     "name": "stderr",
     "output_type": "stream",
     "text": [
      "C:\\Users\\bavna\\AppData\\Local\\Temp\\ipykernel_22484\\3689599755.py:1: FutureWarning: `tokenizer` is deprecated and will be removed in version 5.0.0 for `Trainer.__init__`. Use `processing_class` instead.\n",
      "  trainer = Trainer(\n"
     ]
    },
    {
     "data": {
      "text/html": [
       "\n",
       "    <div>\n",
       "      \n",
       "      <progress value='4008' max='4008' style='width:300px; height:20px; vertical-align: middle;'></progress>\n",
       "      [4008/4008 7:21:31, Epoch 3/3]\n",
       "    </div>\n",
       "    <table border=\"1\" class=\"dataframe\">\n",
       "  <thead>\n",
       " <tr style=\"text-align: left;\">\n",
       "      <th>Epoch</th>\n",
       "      <th>Training Loss</th>\n",
       "      <th>Validation Loss</th>\n",
       "    </tr>\n",
       "  </thead>\n",
       "  <tbody>\n",
       "    <tr>\n",
       "      <td>1</td>\n",
       "      <td>0.236700</td>\n",
       "      <td>0.179501</td>\n",
       "    </tr>\n",
       "    <tr>\n",
       "      <td>2</td>\n",
       "      <td>0.106400</td>\n",
       "      <td>0.222543</td>\n",
       "    </tr>\n",
       "    <tr>\n",
       "      <td>3</td>\n",
       "      <td>0.029000</td>\n",
       "      <td>0.323299</td>\n",
       "    </tr>\n",
       "  </tbody>\n",
       "</table><p>"
      ],
      "text/plain": [
       "<IPython.core.display.HTML object>"
      ]
     },
     "metadata": {},
     "output_type": "display_data"
    },
    {
     "data": {
      "text/plain": [
       "TrainOutput(global_step=4008, training_loss=0.14245249719141487, metrics={'train_runtime': 26497.8884, 'train_samples_per_second': 2.419, 'train_steps_per_second': 0.151, 'total_flos': 2122823180312064.0, 'train_loss': 0.14245249719141487, 'epoch': 3.0})"
      ]
     },
     "execution_count": 11,
     "metadata": {},
     "output_type": "execute_result"
    }
   ],
   "source": [
    "trainer = Trainer(\n",
    "    model=model,\n",
    "    args=training_args,\n",
    "    train_dataset=train_dataset,\n",
    "    eval_dataset=test_dataset,\n",
    "    tokenizer=tokenizer\n",
    ")\n",
    "\n",
    "# Train the model\n",
    "trainer.train()"
   ]
  },
  {
   "cell_type": "code",
   "execution_count": 13,
   "metadata": {},
   "outputs": [
    {
     "data": {
      "text/html": [],
      "text/plain": [
       "<IPython.core.display.HTML object>"
      ]
     },
     "metadata": {},
     "output_type": "display_data"
    },
    {
     "name": "stdout",
     "output_type": "stream",
     "text": [
      "Evaluation results: {'eval_loss': 0.1795007437467575, 'eval_runtime': 1194.3928, 'eval_samples_per_second': 4.473, 'eval_steps_per_second': 0.28, 'epoch': 3.0}\n"
     ]
    }
   ],
   "source": [
    "# Evaluate the model on the test dataset\n",
    "eval_results = trainer.evaluate(test_dataset)\n",
    "\n",
    "# Print evaluation results\n",
    "print(f\"Evaluation results: {eval_results}\")"
   ]
  },
  {
   "cell_type": "code",
   "execution_count": 15,
   "metadata": {},
   "outputs": [
    {
     "name": "stdout",
     "output_type": "stream",
     "text": [
      "Training Accuracy: 0.9718\n"
     ]
    }
   ],
   "source": [
    "import numpy as np\n",
    "from sklearn.metrics import accuracy_score\n",
    "\n",
    "# Get model predictions on the training dataset\n",
    "train_predictions = trainer.predict(train_dataset)\n",
    "\n",
    "# Convert logits to class labels (0 = Not Sarcastic, 1 = Sarcastic)\n",
    "train_pred_labels = np.argmax(train_predictions.predictions, axis=1)\n",
    "\n",
    "# Compute accuracy\n",
    "train_accuracy = accuracy_score(train_dataset[\"label\"], train_pred_labels)\n",
    "\n",
    "print(f\"Training Accuracy: {train_accuracy:.4f}\")\n"
   ]
  },
  {
   "cell_type": "code",
   "execution_count": 21,
   "metadata": {},
   "outputs": [
    {
     "data": {
      "text/html": [],
      "text/plain": [
       "<IPython.core.display.HTML object>"
      ]
     },
     "metadata": {},
     "output_type": "display_data"
    },
    {
     "name": "stdout",
     "output_type": "stream",
     "text": [
      "Test Accuracy: 0.9274\n"
     ]
    }
   ],
   "source": [
    "# Get model predictions on the training dataset\n",
    "test_predictions = trainer.predict(test_dataset)\n",
    "\n",
    "# Convert logits to class labels (0 = Not Sarcastic, 1 = Sarcastic)\n",
    "test_pred_labels = np.argmax(test_predictions.predictions, axis=1)\n",
    "\n",
    "# Compute accuracy\n",
    "test_accuracy = accuracy_score(test_dataset[\"label\"], test_pred_labels)\n",
    "\n",
    "print(f\"Test Accuracy: {test_accuracy:.4f}\")"
   ]
  },
  {
   "cell_type": "code",
   "execution_count": 19,
   "metadata": {},
   "outputs": [
    {
     "data": {
      "text/plain": [
       "('./sarcasm_model\\\\tokenizer_config.json',\n",
       " './sarcasm_model\\\\special_tokens_map.json',\n",
       " './sarcasm_model\\\\vocab.txt',\n",
       " './sarcasm_model\\\\added_tokens.json',\n",
       " './sarcasm_model\\\\tokenizer.json')"
      ]
     },
     "execution_count": 19,
     "metadata": {},
     "output_type": "execute_result"
    }
   ],
   "source": [
    "# Save the trained model and tokenizer\n",
    "model.save_pretrained(\"./sarcasm_model\")\n",
    "tokenizer.save_pretrained(\"./sarcasm_model\")"
   ]
  },
  {
   "cell_type": "markdown",
   "metadata": {},
   "source": [
    "Sentiment Analysis using roBERTa"
   ]
  },
  {
   "cell_type": "code",
   "execution_count": 3,
   "metadata": {},
   "outputs": [
    {
     "data": {
      "application/vnd.jupyter.widget-view+json": {
       "model_id": "978685a892d64868b7f1b8910b40a79d",
       "version_major": 2,
       "version_minor": 0
      },
      "text/plain": [
       "config.json:   0%|          | 0.00/747 [00:00<?, ?B/s]"
      ]
     },
     "metadata": {},
     "output_type": "display_data"
    },
    {
     "name": "stderr",
     "output_type": "stream",
     "text": [
      "C:\\Users\\bavna\\anaconda3\\Lib\\site-packages\\huggingface_hub\\file_download.py:142: UserWarning: `huggingface_hub` cache-system uses symlinks by default to efficiently store duplicated files but your machine does not support them in C:\\Users\\bavna\\.cache\\huggingface\\hub\\models--cardiffnlp--twitter-roberta-base-sentiment. Caching files will still work but in a degraded version that might require more space on your disk. This warning can be disabled by setting the `HF_HUB_DISABLE_SYMLINKS_WARNING` environment variable. For more details, see https://huggingface.co/docs/huggingface_hub/how-to-cache#limitations.\n",
      "To support symlinks on Windows, you either need to activate Developer Mode or to run Python as an administrator. In order to activate developer mode, see this article: https://docs.microsoft.com/en-us/windows/apps/get-started/enable-your-device-for-development\n",
      "  warnings.warn(message)\n"
     ]
    },
    {
     "data": {
      "application/vnd.jupyter.widget-view+json": {
       "model_id": "5a9ddd2795554c008ec99ba3b2163cb6",
       "version_major": 2,
       "version_minor": 0
      },
      "text/plain": [
       "vocab.json:   0%|          | 0.00/899k [00:00<?, ?B/s]"
      ]
     },
     "metadata": {},
     "output_type": "display_data"
    },
    {
     "data": {
      "application/vnd.jupyter.widget-view+json": {
       "model_id": "0b5612d4fa1547bbaa745a8f8f4b7a3e",
       "version_major": 2,
       "version_minor": 0
      },
      "text/plain": [
       "merges.txt:   0%|          | 0.00/456k [00:00<?, ?B/s]"
      ]
     },
     "metadata": {},
     "output_type": "display_data"
    },
    {
     "data": {
      "application/vnd.jupyter.widget-view+json": {
       "model_id": "85180ab9ae2943459998f36adb14da35",
       "version_major": 2,
       "version_minor": 0
      },
      "text/plain": [
       "special_tokens_map.json:   0%|          | 0.00/150 [00:00<?, ?B/s]"
      ]
     },
     "metadata": {},
     "output_type": "display_data"
    },
    {
     "name": "stdout",
     "output_type": "stream",
     "text": [
      "WARNING:tensorflow:From C:\\Users\\bavna\\anaconda3\\Lib\\site-packages\\tf_keras\\src\\losses.py:2976: The name tf.losses.sparse_softmax_cross_entropy is deprecated. Please use tf.compat.v1.losses.sparse_softmax_cross_entropy instead.\n",
      "\n"
     ]
    },
    {
     "data": {
      "application/vnd.jupyter.widget-view+json": {
       "model_id": "a765bf07abb4480ab48f4881a7a87fdb",
       "version_major": 2,
       "version_minor": 0
      },
      "text/plain": [
       "tf_model.h5:   0%|          | 0.00/501M [00:00<?, ?B/s]"
      ]
     },
     "metadata": {},
     "output_type": "display_data"
    },
    {
     "name": "stdout",
     "output_type": "stream",
     "text": [
      "WARNING:tensorflow:From C:\\Users\\bavna\\anaconda3\\Lib\\site-packages\\tf_keras\\src\\backend.py:873: The name tf.get_default_graph is deprecated. Please use tf.compat.v1.get_default_graph instead.\n",
      "\n"
     ]
    },
    {
     "name": "stderr",
     "output_type": "stream",
     "text": [
      "All model checkpoint layers were used when initializing TFRobertaForSequenceClassification.\n",
      "\n",
      "All the layers of TFRobertaForSequenceClassification were initialized from the model checkpoint at cardiffnlp/twitter-roberta-base-sentiment.\n",
      "If your task is similar to the task the model of the checkpoint was trained on, you can already use TFRobertaForSequenceClassification for predictions without further training.\n"
     ]
    }
   ],
   "source": [
    "from transformers import AutoTokenizer, TFAutoModelForSequenceClassification\n",
    "import numpy as np\n",
    "from scipy.special import softmax\n",
    "\n",
    "model_name = \"cardiffnlp/twitter-roberta-base-sentiment\"  # example\n",
    "tokenizer = AutoTokenizer.from_pretrained(model_name)\n",
    "model = TFAutoModelForSequenceClassification.from_pretrained(model_name)"
   ]
  },
  {
   "cell_type": "code",
   "execution_count": 9,
   "metadata": {},
   "outputs": [],
   "source": [
    "X_test = [\n",
    "    \"I love being ignored. So fun.\",\n",
    "    \"You're the best friend ever!\",\n",
    "    \"Go cry about it\",\n",
    "]\n",
    "\n",
    "y_test = [1, 0, 1]  # assuming 1 = cyberbullying/sarcasm, 0 = not\n",
    "y_pred = []\n",
    "\n",
    "for text in X_test:\n",
    "    inputs = tokenizer(\n",
    "    X_test,               # list of texts\n",
    "    return_tensors=\"tf\",\n",
    "    padding=True,\n",
    "    truncation=True,\n",
    "    max_length=128 )\n",
    "    outputs = model(inputs)\n",
    "    logits = outputs.logits.numpy()[0]\n",
    "    probs = softmax(logits)\n",
    "    pred_label = np.argmax(probs)\n",
    "    y_pred.append(pred_label)"
   ]
  },
  {
   "cell_type": "code",
   "execution_count": 13,
   "metadata": {},
   "outputs": [
    {
     "name": "stdout",
     "output_type": "stream",
     "text": [
      "              precision    recall  f1-score   support\n",
      "\n",
      "    negative       0.00      0.00      0.00       1.0\n",
      "     neutral       0.00      0.00      0.00       2.0\n",
      "    positive       0.00      0.00      0.00       0.0\n",
      "\n",
      "    accuracy                           0.00       3.0\n",
      "   macro avg       0.00      0.00      0.00       3.0\n",
      "weighted avg       0.00      0.00      0.00       3.0\n",
      "\n"
     ]
    },
    {
     "name": "stderr",
     "output_type": "stream",
     "text": [
      "C:\\Users\\bavna\\anaconda3\\Lib\\site-packages\\sklearn\\metrics\\_classification.py:1509: UndefinedMetricWarning: Precision is ill-defined and being set to 0.0 in labels with no predicted samples. Use `zero_division` parameter to control this behavior.\n",
      "  _warn_prf(average, modifier, f\"{metric.capitalize()} is\", len(result))\n",
      "C:\\Users\\bavna\\anaconda3\\Lib\\site-packages\\sklearn\\metrics\\_classification.py:1509: UndefinedMetricWarning: Recall is ill-defined and being set to 0.0 in labels with no true samples. Use `zero_division` parameter to control this behavior.\n",
      "  _warn_prf(average, modifier, f\"{metric.capitalize()} is\", len(result))\n",
      "C:\\Users\\bavna\\anaconda3\\Lib\\site-packages\\sklearn\\metrics\\_classification.py:1509: UndefinedMetricWarning: Precision is ill-defined and being set to 0.0 in labels with no predicted samples. Use `zero_division` parameter to control this behavior.\n",
      "  _warn_prf(average, modifier, f\"{metric.capitalize()} is\", len(result))\n",
      "C:\\Users\\bavna\\anaconda3\\Lib\\site-packages\\sklearn\\metrics\\_classification.py:1509: UndefinedMetricWarning: Recall is ill-defined and being set to 0.0 in labels with no true samples. Use `zero_division` parameter to control this behavior.\n",
      "  _warn_prf(average, modifier, f\"{metric.capitalize()} is\", len(result))\n",
      "C:\\Users\\bavna\\anaconda3\\Lib\\site-packages\\sklearn\\metrics\\_classification.py:1509: UndefinedMetricWarning: Precision is ill-defined and being set to 0.0 in labels with no predicted samples. Use `zero_division` parameter to control this behavior.\n",
      "  _warn_prf(average, modifier, f\"{metric.capitalize()} is\", len(result))\n",
      "C:\\Users\\bavna\\anaconda3\\Lib\\site-packages\\sklearn\\metrics\\_classification.py:1509: UndefinedMetricWarning: Recall is ill-defined and being set to 0.0 in labels with no true samples. Use `zero_division` parameter to control this behavior.\n",
      "  _warn_prf(average, modifier, f\"{metric.capitalize()} is\", len(result))\n"
     ]
    }
   ],
   "source": [
    "from sklearn.metrics import classification_report\n",
    "\n",
    "# Update target_names to match the 3 sentiment labels\n",
    "target_names = ['negative', 'neutral', 'positive']\n",
    "\n",
    "print(classification_report(y_test, y_pred, target_names=target_names))"
   ]
  },
  {
   "cell_type": "code",
   "execution_count": 1,
   "metadata": {},
   "outputs": [],
   "source": [
    "from datasets import load_dataset\n",
    "\n",
    "# Load sentiment subset of TweetEval\n",
    "dataset = load_dataset(\"tweet_eval\", \"sentiment\")"
   ]
  },
  {
   "cell_type": "code",
   "execution_count": 7,
   "metadata": {},
   "outputs": [
    {
     "name": "stdout",
     "output_type": "stream",
     "text": [
      "WARNING:tensorflow:From C:\\Users\\bavna\\anaconda3\\Lib\\site-packages\\tf_keras\\src\\losses.py:2976: The name tf.losses.sparse_softmax_cross_entropy is deprecated. Please use tf.compat.v1.losses.sparse_softmax_cross_entropy instead.\n",
      "\n",
      "WARNING:tensorflow:From C:\\Users\\bavna\\anaconda3\\Lib\\site-packages\\tf_keras\\src\\backend.py:873: The name tf.get_default_graph is deprecated. Please use tf.compat.v1.get_default_graph instead.\n",
      "\n"
     ]
    },
    {
     "name": "stderr",
     "output_type": "stream",
     "text": [
      "All model checkpoint layers were used when initializing TFRobertaForSequenceClassification.\n",
      "\n",
      "All the layers of TFRobertaForSequenceClassification were initialized from the model checkpoint at cardiffnlp/twitter-roberta-base-sentiment.\n",
      "If your task is similar to the task the model of the checkpoint was trained on, you can already use TFRobertaForSequenceClassification for predictions without further training.\n"
     ]
    }
   ],
   "source": [
    "from transformers import AutoTokenizer, TFAutoModelForSequenceClassification\n",
    "from scipy.special import softmax\n",
    "import numpy as np\n",
    "\n",
    "model_name = \"cardiffnlp/twitter-roberta-base-sentiment\"\n",
    "tokenizer = AutoTokenizer.from_pretrained(model_name)\n",
    "model = TFAutoModelForSequenceClassification.from_pretrained(model_name)"
   ]
  },
  {
   "cell_type": "code",
   "execution_count": 14,
   "metadata": {
    "scrolled": true
   },
   "outputs": [
    {
     "name": "stderr",
     "output_type": "stream",
     "text": [
      "All model checkpoint layers were used when initializing TFRobertaForSequenceClassification.\n",
      "\n",
      "All the layers of TFRobertaForSequenceClassification were initialized from the model checkpoint at cardiffnlp/twitter-roberta-base-sentiment.\n",
      "If your task is similar to the task the model of the checkpoint was trained on, you can already use TFRobertaForSequenceClassification for predictions without further training.\n"
     ]
    },
    {
     "name": "stdout",
     "output_type": "stream",
     "text": [
      "Accuracy: 0.7244382937154021\n",
      "              precision    recall  f1-score   support\n",
      "\n",
      "    negative       0.71      0.78      0.74      3972\n",
      "     neutral       0.74      0.69      0.71      5937\n",
      "    positive       0.72      0.71      0.71      2375\n",
      "\n",
      "    accuracy                           0.72     12284\n",
      "   macro avg       0.72      0.73      0.72     12284\n",
      "weighted avg       0.73      0.72      0.72     12284\n",
      "\n"
     ]
    }
   ],
   "source": [
    "from transformers import AutoTokenizer, TFAutoModelForSequenceClassification\n",
    "from datasets import load_dataset\n",
    "from scipy.special import softmax\n",
    "import numpy as np\n",
    "from sklearn.metrics import accuracy_score, classification_report\n",
    "\n",
    "# Load model & tokenizer\n",
    "model_name = \"cardiffnlp/twitter-roberta-base-sentiment\"\n",
    "tokenizer = AutoTokenizer.from_pretrained(model_name)\n",
    "model = TFAutoModelForSequenceClassification.from_pretrained(model_name)\n",
    "\n",
    "# Load dataset\n",
    "dataset = load_dataset(\"tweet_eval\", \"sentiment\")\n",
    "X_test = dataset[\"test\"][\"text\"]\n",
    "y_test = dataset[\"test\"][\"label\"]\n",
    "\n",
    "# Batch tokenize\n",
    "batch_size = 32\n",
    "y_pred = []\n",
    "\n",
    "for i in range(0, len(X_test), batch_size):\n",
    "    batch_texts = X_test[i:i+batch_size]\n",
    "    inputs = tokenizer(batch_texts, return_tensors=\"tf\", padding=True, truncation=True, max_length=128)\n",
    "    \n",
    "    # Batch prediction\n",
    "    outputs = model(inputs)\n",
    "    batch_logits = outputs.logits.numpy()\n",
    "    batch_probs = softmax(batch_logits, axis=1)\n",
    "    batch_preds = np.argmax(batch_probs, axis=1)\n",
    "\n",
    "    y_pred.extend(batch_preds)\n",
    "\n",
    "# Evaluate\n",
    "print(\"Accuracy:\", accuracy_score(y_test, y_pred))\n",
    "print(classification_report(y_test, y_pred, target_names=[\"negative\", \"neutral\", \"positive\"]))"
   ]
  },
  {
   "cell_type": "markdown",
   "metadata": {},
   "source": [
    "Sentiment - Finetune"
   ]
  },
  {
   "cell_type": "code",
   "execution_count": 5,
   "metadata": {},
   "outputs": [],
   "source": [
    "from transformers import AutoTokenizer, AutoModelForSequenceClassification, TrainingArguments, Trainer\n",
    "from datasets import load_dataset\n",
    "import evaluate\n",
    "\n",
    "# ✅ Step 3: Load TweetEval Sentiment dataset\n",
    "dataset = load_dataset(\"tweet_eval\", \"sentiment\")\n",
    "# ✅ Step 4: Load tokenizer and model\n",
    "model_name = \"cardiffnlp/twitter-roberta-base-sentiment\"\n",
    "tokenizer = AutoTokenizer.from_pretrained(model_name)\n",
    "model = AutoModelForSequenceClassification.from_pretrained(model_name, num_labels=3)"
   ]
  },
  {
   "cell_type": "code",
   "execution_count": 7,
   "metadata": {},
   "outputs": [
    {
     "data": {
      "application/vnd.jupyter.widget-view+json": {
       "model_id": "76e549c0b87f4f4e88c4762ee9ae7b29",
       "version_major": 2,
       "version_minor": 0
      },
      "text/plain": [
       "Map:   0%|          | 0/12284 [00:00<?, ? examples/s]"
      ]
     },
     "metadata": {},
     "output_type": "display_data"
    }
   ],
   "source": [
    "def tokenize(batch):\n",
    "    return tokenizer(batch[\"text\"], truncation=True, padding=\"max_length\", max_length=128)\n",
    "\n",
    "tokenized_ds = dataset.map(tokenize, batched=True)\n",
    "tokenized_ds = tokenized_ds.remove_columns([\"text\"])\n",
    "tokenized_ds.set_format(\"torch\")"
   ]
  },
  {
   "cell_type": "code",
   "execution_count": 9,
   "metadata": {},
   "outputs": [],
   "source": [
    "accuracy = evaluate.load(\"accuracy\")\n",
    "\n",
    "def compute_metrics(eval_pred):\n",
    "    logits, labels = eval_pred\n",
    "    predictions = logits.argmax(axis=-1)\n",
    "    return accuracy.compute(predictions=predictions, references=labels)"
   ]
  },
  {
   "cell_type": "code",
   "execution_count": 11,
   "metadata": {},
   "outputs": [
    {
     "name": "stderr",
     "output_type": "stream",
     "text": [
      "C:\\Users\\bavna\\anaconda3\\Lib\\site-packages\\transformers\\training_args.py:1611: FutureWarning: `evaluation_strategy` is deprecated and will be removed in version 4.46 of 🤗 Transformers. Use `eval_strategy` instead\n",
      "  warnings.warn(\n"
     ]
    }
   ],
   "source": [
    "training_args = TrainingArguments(\n",
    "    output_dir=\"./results\",\n",
    "    evaluation_strategy=\"epoch\",\n",
    "    save_strategy=\"epoch\",\n",
    "    learning_rate=2e-5,\n",
    "    per_device_train_batch_size=16,\n",
    "    per_device_eval_batch_size=16,\n",
    "    num_train_epochs=3,\n",
    "    weight_decay=0.01,\n",
    "    load_best_model_at_end=True,\n",
    "    metric_for_best_model=\"accuracy\"\n",
    ")"
   ]
  },
  {
   "cell_type": "code",
   "execution_count": 3,
   "metadata": {},
   "outputs": [
    {
     "data": {
      "application/vnd.jupyter.widget-view+json": {
       "model_id": "f19f3cd78eda4c8b9846a7c16e3f38d6",
       "version_major": 2,
       "version_minor": 0
      },
      "text/plain": [
       "README.md:   0%|          | 0.00/35.3k [00:00<?, ?B/s]"
      ]
     },
     "metadata": {},
     "output_type": "display_data"
    },
    {
     "name": "stderr",
     "output_type": "stream",
     "text": [
      "C:\\Users\\bavna\\anaconda3\\Lib\\site-packages\\huggingface_hub\\file_download.py:142: UserWarning: `huggingface_hub` cache-system uses symlinks by default to efficiently store duplicated files but your machine does not support them in C:\\Users\\bavna\\.cache\\huggingface\\hub\\datasets--glue. Caching files will still work but in a degraded version that might require more space on your disk. This warning can be disabled by setting the `HF_HUB_DISABLE_SYMLINKS_WARNING` environment variable. For more details, see https://huggingface.co/docs/huggingface_hub/how-to-cache#limitations.\n",
      "To support symlinks on Windows, you either need to activate Developer Mode or to run Python as an administrator. In order to activate developer mode, see this article: https://docs.microsoft.com/en-us/windows/apps/get-started/enable-your-device-for-development\n",
      "  warnings.warn(message)\n"
     ]
    },
    {
     "data": {
      "application/vnd.jupyter.widget-view+json": {
       "model_id": "043228c952954de2bad01973b31f0b30",
       "version_major": 2,
       "version_minor": 0
      },
      "text/plain": [
       "train-00000-of-00001.parquet:   0%|          | 0.00/3.11M [00:00<?, ?B/s]"
      ]
     },
     "metadata": {},
     "output_type": "display_data"
    },
    {
     "data": {
      "application/vnd.jupyter.widget-view+json": {
       "model_id": "f41f083fda4a489a88768fcf4b17842d",
       "version_major": 2,
       "version_minor": 0
      },
      "text/plain": [
       "validation-00000-of-00001.parquet:   0%|          | 0.00/72.8k [00:00<?, ?B/s]"
      ]
     },
     "metadata": {},
     "output_type": "display_data"
    },
    {
     "data": {
      "application/vnd.jupyter.widget-view+json": {
       "model_id": "08aa44473ab84b7c8ae105c161523649",
       "version_major": 2,
       "version_minor": 0
      },
      "text/plain": [
       "test-00000-of-00001.parquet:   0%|          | 0.00/148k [00:00<?, ?B/s]"
      ]
     },
     "metadata": {},
     "output_type": "display_data"
    },
    {
     "data": {
      "application/vnd.jupyter.widget-view+json": {
       "model_id": "b2a6a04ead554c6bb143c7b417bdd2df",
       "version_major": 2,
       "version_minor": 0
      },
      "text/plain": [
       "Generating train split:   0%|          | 0/67349 [00:00<?, ? examples/s]"
      ]
     },
     "metadata": {},
     "output_type": "display_data"
    },
    {
     "data": {
      "application/vnd.jupyter.widget-view+json": {
       "model_id": "3671b9a9e99d4228aeda07b96e3048a9",
       "version_major": 2,
       "version_minor": 0
      },
      "text/plain": [
       "Generating validation split:   0%|          | 0/872 [00:00<?, ? examples/s]"
      ]
     },
     "metadata": {},
     "output_type": "display_data"
    },
    {
     "data": {
      "application/vnd.jupyter.widget-view+json": {
       "model_id": "909b7a07f0114fef8a814a497116033b",
       "version_major": 2,
       "version_minor": 0
      },
      "text/plain": [
       "Generating test split:   0%|          | 0/1821 [00:00<?, ? examples/s]"
      ]
     },
     "metadata": {},
     "output_type": "display_data"
    },
    {
     "name": "stdout",
     "output_type": "stream",
     "text": [
      "DatasetDict({\n",
      "    train: Dataset({\n",
      "        features: ['sentence', 'label', 'idx'],\n",
      "        num_rows: 67349\n",
      "    })\n",
      "    validation: Dataset({\n",
      "        features: ['sentence', 'label', 'idx'],\n",
      "        num_rows: 872\n",
      "    })\n",
      "    test: Dataset({\n",
      "        features: ['sentence', 'label', 'idx'],\n",
      "        num_rows: 1821\n",
      "    })\n",
      "})\n"
     ]
    }
   ],
   "source": [
    "from datasets import load_dataset\n",
    "sst = load_dataset(\"glue\", \"sst2\")\n",
    "print(sst)"
   ]
  },
  {
   "cell_type": "code",
   "execution_count": 10,
   "metadata": {},
   "outputs": [
    {
     "name": "stderr",
     "output_type": "stream",
     "text": [
      "100%|██████████| 5000/5000 [03:10<00:00, 26.29it/s]"
     ]
    },
    {
     "name": "stdout",
     "output_type": "stream",
     "text": [
      "               precision    recall  f1-score   support\n",
      "\n",
      "Not Sarcastic       0.54      0.40      0.46      2813\n",
      "    Sarcastic       0.42      0.55      0.48      2187\n",
      "\n",
      "     accuracy                           0.47      5000\n",
      "    macro avg       0.48      0.48      0.47      5000\n",
      " weighted avg       0.48      0.47      0.47      5000\n",
      "\n"
     ]
    },
    {
     "name": "stderr",
     "output_type": "stream",
     "text": [
      "\n"
     ]
    }
   ],
   "source": [
    "from transformers import AutoTokenizer, AutoModelForSequenceClassification\n",
    "import torch\n",
    "from scipy.special import softmax\n",
    "import pandas as pd\n",
    "from tqdm import tqdm\n",
    "\n",
    "# Load pretrained sarcasm model\n",
    "model_name = \"jkhan447/sarcasm-detection-roberta-base\"\n",
    "tokenizer = AutoTokenizer.from_pretrained(model_name)\n",
    "\n",
    "model = AutoModelForSequenceClassification.from_pretrained(model_name)\n",
    "\n",
    "device = torch.device(\"cuda\" if torch.cuda.is_available() else \"cpu\")\n",
    "model.to(device)\n",
    "model.eval()\n",
    "df = pd.read_json(\"Sarcasm_Headlines_Dataset.json\", lines=True)\n",
    "df = df[[\"headline\", \"is_sarcastic\"]].dropna()\n",
    "df = df[:5000]\n",
    "all_preds = []\n",
    "all_labels = df[\"is_sarcastic\"].tolist()\n",
    "\n",
    "for text in tqdm(df[\"headline\"]):\n",
    "    inputs = tokenizer(text, return_tensors=\"pt\", truncation=True, padding=\"max_length\", max_length=128).to(device)\n",
    "    with torch.no_grad():\n",
    "        logits = model(**inputs).logits\n",
    "        probs = softmax(logits.cpu().numpy(), axis=1)\n",
    "        pred = probs.argmax(axis=1).item()\n",
    "    all_preds.append(pred)\n",
    "    \n",
    "\n",
    "from sklearn.metrics import classification_report\n",
    "\n",
    "print(classification_report(all_labels, all_preds, target_names=[\"Not Sarcastic\", \"Sarcastic\"]))\n"
   ]
  },
  {
   "cell_type": "code",
   "execution_count": 33,
   "metadata": {},
   "outputs": [
    {
     "name": "stdout",
     "output_type": "stream",
     "text": [
      "0      0\n",
      "1      0\n",
      "2      0\n",
      "3      0\n",
      "4      0\n",
      "      ..\n",
      "495    0\n",
      "496    0\n",
      "497    1\n",
      "498    0\n",
      "499    0\n",
      "Name: label, Length: 500, dtype: int64\n"
     ]
    },
    {
     "name": "stderr",
     "output_type": "stream",
     "text": [
      "All TF 2.0 model weights were used when initializing DistilBertForSequenceClassification.\n",
      "\n",
      "All the weights of DistilBertForSequenceClassification were initialized from the TF 2.0 model.\n",
      "If your task is similar to the task the model of the checkpoint was trained on, you can already use DistilBertForSequenceClassification for predictions without further training.\n",
      "  2%|▏         | 10/500 [00:00<00:10, 47.27it/s]"
     ]
    },
    {
     "name": "stdout",
     "output_type": "stream",
     "text": [
      "Text: Yeah, I get that argument. At this point, I'd prefer is she lived in NC as well.\n",
      "Sarcastic probability: 0.0005\n",
      "Text: The blazers and Mavericks (The wests 5 and 6 seed) did not even carry a good enough record to make the playoffs in the east last year.\n",
      "Sarcastic probability: 0.0002\n",
      "Text: They're favored to win.\n",
      "Sarcastic probability: 0.0002\n",
      "Text: deadass don't kill my buzz\n",
      "Sarcastic probability: 0.9963\n",
      "Text: Yep can confirm I saw the tool they use for that. It was made by our boy EASports_MUT\n",
      "Sarcastic probability: 0.0120\n",
      "Text: do you find ariana grande sexy ?\n",
      "Sarcastic probability: 0.0002\n",
      "Text: What's your weird or unsettling Trick or Treat story?\n",
      "Sarcastic probability: 0.0002\n",
      "Text: Probably Sephiroth. I refuse to taint his greatness with *my* weak builds. He should equip *ONLY* the best TMs.\n",
      "Sarcastic probability: 0.0005\n",
      "Text: What to upgrade? I have $500 to spend (mainly because it's my birthday on the 31st) and I'm not really sure what to upgrade. I don't have to spend all $500, I could spend as little or all of it if I want. Specs are: CPU: i5-6600K Cooler: CM 212 EVO RAM: 8GB Corsair Vengence LPX 2400MHz GPU: EVGA GTX 1070 SC Case: Corsair Spec Alpha PSU: EVGA P2 650w Storage: One 480 GB Corsair Force LE Monitor: BenQ XL2411Z Keyboard: Razer Blackwidow Tournament Edition What I'm thinking of right now is: -Get a 1TB WD Blue -Buy another 8GB of RAM -Replace my Razer Blackwidow with a keyboard with actual Cherry MX switches -Replace my case (Doesn't really offer features for good cable management) -Save up for a Volta Card\n",
      "Sarcastic probability: 0.0002\n",
      "Text: Probably count Kanye out Since the rest of his tour is canceled, it doesn't seem in the cards. But he's also so unpredictable, it could change. Thankfully I saw him before he started canceling shows, going on long rants and showing up late. But I'd love to see him again, especially at Lolla. Thoughts?\n",
      "Sarcastic probability: 0.0002\n"
     ]
    },
    {
     "name": "stderr",
     "output_type": "stream",
     "text": [
      "  3%|▎         | 15/500 [00:00<00:10, 47.30it/s]"
     ]
    },
    {
     "name": "stdout",
     "output_type": "stream",
     "text": [
      "Text: I bet if that money was poured into college debt or health debt relief, 81% of Americans would have been for it instead.\n",
      "Sarcastic probability: 0.0003\n",
      "Text: James Shields Will Not Exercise Opt-Out Clause\n",
      "Sarcastic probability: 0.1049\n",
      "Text: There's no time to worry about leaks when they gays are already out to get you.\n",
      "Sarcastic probability: 0.0002\n",
      "Text: Team Specific Threads No matter how many articles you read or how many hours of Red Zone you watch nothing quite makes up for watching every play of a game. Would the members of this community/the mods be open to creating a sticky post that has a team individual thread for every team in the NFL where team specific conversation can take place and people that watch individual games can comment? We may even be able to get some guys from team specific subreddits to stop by and give us some new insight.\n",
      "Sarcastic probability: 0.0817\n",
      "Text: Ill give you a hint. They commented in this thread\n",
      "Sarcastic probability: 0.3170\n",
      "Text: Star Wars, easy. I'm not that bothered about Indiana Jones tbh\n",
      "Sarcastic probability: 0.0003\n",
      "Text: You're adorable.\n",
      "Sarcastic probability: 0.0002\n",
      "Text: He actually acts like a moody emo girl on twitter. He lashes out over incredibly petty things and takes it out on social media. He's a 70 year old man doing this, grow the fuck up and think of your dignity man.\n",
      "Sarcastic probability: 0.0020\n",
      "Text: Clinton struggles to gain traction in Florida, despite spending - Clinton shocked money can't buy everything\n",
      "Sarcastic probability: 0.9995\n",
      "Text: Is that the Older Clark and Older Lois?\n",
      "Sarcastic probability: 0.0012\n"
     ]
    },
    {
     "name": "stderr",
     "output_type": "stream",
     "text": [
      "  5%|▌         | 26/500 [00:00<00:09, 48.02it/s]"
     ]
    },
    {
     "name": "stdout",
     "output_type": "stream",
     "text": [
      "Text: *Guilt roles over Mel, and he hesitates for a moment before pulling the girl into a hug.* \"Shhh, it's okay Tara. You two aren't going anywhere this time. Aurelia and I won't let that happen.\"\n",
      "Sarcastic probability: 0.0008\n",
      "Text: They will never get the stability of the 3DS.\n",
      "Sarcastic probability: 0.0002\n",
      "Text: I still doubt that \"all conservatives stand for is defeating liberals\". If you use the election of Trump as an example for the failure of modern conservatism, is it also fair to use the election of Hillary Clinton as a representative for modern Liberalism? I guess not. And the \"all conservatives stand for is defeating liberals\" could be applied vice versa if you only listen to people who are the loudest.\n",
      "Sarcastic probability: 0.0002\n",
      "Text: Today Russian media tweeted out that Wikileaks had released more of Podesta's emails before Wikileaks even did it. There is some control here.\n",
      "Sarcastic probability: 0.0008\n",
      "Text: Thank you, Jagex, for being cool Jagex has always been a cool company, and we could thank them for tons of things, but I just noticed that they don't charge your card as a recurring subscription. So many companies today do scummy things where they try to get you to sign up for something so they can bill you monthly and hope you'll forget about it, but Jagex only runs your subscription for as long as you purchased. I know it's nothing huge, but it's something I appreciate.\n",
      "Sarcastic probability: 0.0002\n",
      "Text: 467 A lovely way!\n",
      "Sarcastic probability: 0.0020\n",
      "Text: Jesus got\n",
      "Sarcastic probability: 0.8525\n",
      "Text: \"You are like the end piece of bread in a loaf, everyone touches you but no one wants you.\"\n",
      "Sarcastic probability: 0.0003\n",
      "Text: Found this under a box of porno mags well cleaning out a trailer...\n",
      "Sarcastic probability: 0.0003\n",
      "Text: Who?\n",
      "Sarcastic probability: 0.1573\n"
     ]
    },
    {
     "name": "stderr",
     "output_type": "stream",
     "text": [
      "  7%|▋         | 37/500 [00:00<00:10, 45.90it/s]"
     ]
    },
    {
     "name": "stdout",
     "output_type": "stream",
     "text": [
      "Text: but what format\n",
      "Sarcastic probability: 0.0004\n",
      "Text: Pro tip - Fool around with worldy girls.\n",
      "Sarcastic probability: 0.0002\n",
      "Text: *is confused why so many people dislike Nickelback.* Not that I'm a fan but imo the music is decent enough.\n",
      "Sarcastic probability: 0.0002\n",
      "Text: The dumb thing is, they are risking their seller account, too.\n",
      "Sarcastic probability: 0.0002\n",
      "Text: PGT: 9/4 vs. Indians All rants and angry posts go here. I'll start. Fuck Fernando Rodney\n",
      "Sarcastic probability: 0.7862\n",
      "Text: This is a great response! Too bad about the lack of accolades.\n",
      "Sarcastic probability: 0.0002\n",
      "Text: North Korea has never lied. Not once.\n",
      "Sarcastic probability: 0.0002\n",
      "Text: Your house is burning down and you only have time to grab one thing ( not including family or pets ), what do you grab?\n",
      "Sarcastic probability: 0.0002\n",
      "Text: Poor Dan. He looks like he needs some coffee or a energy drink. I don't think I've ever seen him be this quiet during a live stream.\n",
      "Sarcastic probability: 0.0002\n"
     ]
    },
    {
     "name": "stderr",
     "output_type": "stream",
     "text": [
      "  9%|▉         | 47/500 [00:00<00:09, 47.79it/s]"
     ]
    },
    {
     "name": "stdout",
     "output_type": "stream",
     "text": [
      "Text: This season's NFC equivalent of the Browns is straight up BUTT FUCKING US. I don't know how to handle this.\n",
      "Sarcastic probability: 0.7784\n",
      "Text: Umm yes! It was a huge scandal, do you not member?\n",
      "Sarcastic probability: 0.0008\n",
      "Text: Hey... Don't you know that a convoluted unsupported theory which is only \"proven\" by a **Reddit comment** is a definite fact? I mean how can a simple explanation make more sense. Clearly the tinfoil hat explanation always make more sense, always.\n",
      "Sarcastic probability: 0.0008\n",
      "Text: 1,571,048\n",
      "Sarcastic probability: 0.0145\n",
      "Text: But i liked Xpascal better with tartle then with chowex\n",
      "Sarcastic probability: 0.0042\n",
      "Text: Clinton campaign accuses FBI of 'blatant double standard'\n",
      "Sarcastic probability: 0.8608\n",
      "Text: Anyone else think that it was interesting the way she mentioned that she had a tape recorder in her hand while he was assaulting her...\n",
      "Sarcastic probability: 0.0997\n",
      "Text: This map makes it look like there's a giant, lush, fertile valley in the middle, just waiting to produce all the food the world could possibly eat. Instead of being the endless fucking wasteland of ice and tundra that stored Captain America for 65 years.\n",
      "Sarcastic probability: 0.8359\n",
      "Text: What do you hate the most about the mainstream?\n",
      "Sarcastic probability: 0.0002\n",
      "Text: Random question, how much of a pain in the ass is the appeals process for grades in college? I have a teacher who won't give me my credit for the online homework because of an obvious technical glitch.\n",
      "Sarcastic probability: 0.0561\n"
     ]
    },
    {
     "name": "stderr",
     "output_type": "stream",
     "text": [
      " 11%|█▏        | 57/500 [00:01<00:09, 45.54it/s]"
     ]
    },
    {
     "name": "stdout",
     "output_type": "stream",
     "text": [
      "Text: Doug Marrone named Jaguars interim head coach.\n",
      "Sarcastic probability: 0.0002\n",
      "Text: Dominus GT (4) Takumi RXT (3) Trinity (1) Loopers (2) Lime loopers (15) More inside Keys Takumi anubis (0.5 keys) Breakout snakeskin (0.5 keys) 2x CC2 (0.25 keys each) Polygonal boost (0.5 keys) 5 rare decals (1 key) Black witch hat (1 key) White wich hat (1 key) Also taking offers for the lime loopers\n",
      "Sarcastic probability: 0.0002\n",
      "Text: You're hoping for a lot. It's a purpose built hardcore industrial monster. That thing will pretty much glow in the dark on sensors.\n",
      "Sarcastic probability: 0.0005\n",
      "Text: How to spell ness... necc... Nessecary? Even my auto correct is used to me spelling it wrong.\n",
      "Sarcastic probability: 0.0002\n",
      "Text: Since mushroom stew costs 50k and your initial KC cap is 40k, I'd say no. The only way to increase the KC limit is through the TDM menu, and you're gonna want to buy some mushroom stew before too long.\n",
      "Sarcastic probability: 0.0002\n",
      "Text: You do know that the timer resets for each battle, right?\n",
      "Sarcastic probability: 0.0002\n",
      "Text: Me: That'll be 5 happy meals for my fat kid...\n",
      "Sarcastic probability: 0.0266\n",
      "Text: Honestly this reminds me of Stein's;Gate.\n",
      "Sarcastic probability: 0.0267\n",
      "Text: I think you could make a bot that randomly posts GAP/ON/BR (20-40%) sales every day here and chances are it'd be right.\n",
      "Sarcastic probability: 0.0003\n"
     ]
    },
    {
     "name": "stderr",
     "output_type": "stream",
     "text": [
      " 13%|█▎        | 67/500 [00:01<00:09, 44.27it/s]"
     ]
    },
    {
     "name": "stdout",
     "output_type": "stream",
     "text": [
      "Text: She's speaking to the donor class and asks for understanding for the experiences of young people hurt by the recession. And we already knew she was the centrist and in turn the center is hopefully moving leftward. Everything she says here sounds reasonable to good to me.\n",
      "Sarcastic probability: 0.0030\n",
      "Text: John Lott: CDC 'Coding Error' Hid Record Low for Accidental Gun Deaths - Breitbart\n",
      "Sarcastic probability: 0.0529\n",
      "Text: Only thing - Forev is playing carry. Not offlane. Febby back to support. Velo is still on the playing squad so he'll be offlane.\n",
      "Sarcastic probability: 0.0004\n",
      "Text: 1. They got fucked by Riot (best of 2 format), so the have less games. 2. They can't afford the support staff because they don't have sponsors. 3. In my opinion the best of 1 group format also plays a big role, look at what a shitfest this whole worlds is so far with everyone beating everyone. EU actually looked pretty good in most of their games, they just don't know how to finish/they throw a lot.\n",
      "Sarcastic probability: 0.0004\n",
      "Text: Popular YouTuber DemolitionRanch joins the masterrace\n",
      "Sarcastic probability: 0.7816\n",
      "Text: By far the saddest event I've recieved\n",
      "Sarcastic probability: 0.0002\n",
      "Text: Referencing something is not bad in any way. Most WoW players, myself included, found it funny.\n",
      "Sarcastic probability: 0.0005\n",
      "Text: SNW and the engagement BIL Hey gang! I found time to write a bit so here it goes! Remember BIL is dating now SIL and he's now thinking of marrying her. We were sitting in the room at the il's house just us three. BIL is talking to DH about it. SIL has a dog that she's had for years. It was a gift to her by her father when he became very ill, near death. The reality hit him that life is short and he decided to start making good on some of his promises before he died. He always told SIL he would get her a dog, they were a military family, and he'd always say the next place we move I'll get it for you. So he got her this dog at that time and she loves her dog and he has sentimental value to her. Now, BIL has not yet met this dog because you know it's serious when you meet the dog. BIL sates to DH: Well the dog has to go. I have allergies and I can't be living with a dog. I know the dog has sentimental meaning for her because of her dad but my health is more important than a dog. She's waiting for me to meet the dog because she wants him to slowly warm up to me. This is stupid, it's just a dog... I don't see what the big deal is. I want to marry her but if we get married we'll already have to get an apartment and that costs money there (both of them at the time were living with their parents and would meet each other for dates and such). If we keep the dog then we have to pay extra money for pet rent and I'm not paying extra money for a dog!!! DH is just nodding his head and listening (he's pretty laid back and quiet always like this guess it's true opposites attract). I'm thinking how rude is this guy? He wants to marry her and is supposed to love her but can't have compassion for what she loves??? I know he's SNOT JR. For sure. Anyway he meets the dog and they get engaged. They have all these big events that I find my way out of because I can't stand being around them. They had a family celebration right after he proposed and a joint couple shower. SNW knows how creative and crafty I am, especially after my wonderful diy wedding decor, so she asks me to help her decorate for the rehearsal dinner. I reluctantly agree to help her. DH and I have been married over 3 years at this point. SNW has never made any efforts to call, text, smoke signal, or communicate with me in any way or form any relationship with me. Can't remember if I posted about this before but I did invite her to an event to be the bigger person, but she basically fought me even giving it to her. The event was based on a book and I wanted to buy her the book and put the tickets inside as a Christmas gift. She was like oh I don't want a book. And then proceeded to text DH about how she doesn't want whatever I'm trying to get her, that he knows the type of gifts she likes and to stick to that. I was so angry... I was raised knowing when people get you a gift you accept because the person thought about you and took their time to get it for you so be grateful! Guess not everyone learned that. I still invite her after my moms advise but said well I was trying to do this for you but since you didn't want it I'm asking you now would you like to go with me. Then she's like oh I would love to go I had no idea thats what it was, super nice in front of everyone. We went to the event and she straight up did not talk to me the whole time and went off in her own during the intermissions. Sorry for going off topic but you get the point. Now all of a sudden she's blowing me up about this wedding rehearsal. She texts several times a day and calls about her ideas and sends me pics. She's always like Hi how are you then goes for what she wants... I'm not fooled at all, she never cared how I was doing for over three years. She says Oh well SIL and I have been talking about the plans and blah blah blah. Basically trying to run in my face that she talks to SIL all the time and she's being involved in the planning. unlike with my wedding, but that's because she got mad at me for not doing what she wanted and did CBF the rest of the time I was planning. I tell DH about this sudden change of behavior and how much involved SNW is in this wedding as compared to ours. He suggests well maybe because she has a good relationship with SIL she realizes she needs to do better with you and this is her way of reaching out to you... I say maybe but I know its all fake...\n",
      "Sarcastic probability: 0.0003\n",
      "Text: Here's what happens when Obama gives up his Twitter account\n",
      "Sarcastic probability: 0.0002\n"
     ]
    },
    {
     "name": "stderr",
     "output_type": "stream",
     "text": [
      " 14%|█▍        | 72/500 [00:01<00:09, 44.08it/s]"
     ]
    },
    {
     "name": "stdout",
     "output_type": "stream",
     "text": [
      "Text: Bruh you fit rules 1 and 2 no homo\n",
      "Sarcastic probability: 0.0003\n",
      "Text: is there still a difference nowadays?\n",
      "Sarcastic probability: 0.0003\n",
      "Text: Monday night Drinking thread Brought to You by Infuriating capitalization Inconsistencies\n",
      "Sarcastic probability: 0.9998\n",
      "Text: You win this round, Simpson\n",
      "Sarcastic probability: 0.0005\n",
      "Text: New anime pictures\n",
      "Sarcastic probability: 0.0286\n",
      "Text: How baby is made.\n",
      "Sarcastic probability: 0.0002\n",
      "Text: Nope. Game is doo-doo.\n",
      "Sarcastic probability: 0.1271\n",
      "Text: except the 2012 lakers\n",
      "Sarcastic probability: 0.0003\n",
      "Text: Live Discussion (October 1st, 2016) (Margot Robbie / The Weeknd) Welcome to the SNL season premiere live discussion thread! This week's host is Margot Robbie, and the musical guest is The Weeknd. A quick recommendation to mention the sketch you're referring to in your comment. It's not a hard and fast rule, but it does make the thread more readable after the show finishes. Since this thread is likely to fill up quickly, consider sorting the comments by \"new\" (instead of \"best\" or \"top\") to see the newest posts. Enjoy the show!\n",
      "Sarcastic probability: 0.0002\n"
     ]
    },
    {
     "name": "stderr",
     "output_type": "stream",
     "text": [
      " 16%|█▋        | 82/500 [00:01<00:09, 43.94it/s]"
     ]
    },
    {
     "name": "stdout",
     "output_type": "stream",
     "text": [
      "Text: A little self lovin can turn that 99 into a 100. Turn that frown upside down and beat it like it does you money!\n",
      "Sarcastic probability: 0.0012\n",
      "Text: I thought it was a Geo Prizm.\n",
      "Sarcastic probability: 0.0002\n",
      "Text: For some reason I thought BOTH of those were Ryan. I was wrong, sorry y'all, I wasn't trying shit on Ryan, just pointing out how many things could go wrong in his care. But still, he isn't a safe driver was my point, and he doesn't make Bentley wear his seat belt.\n",
      "Sarcastic probability: 0.0007\n",
      "Text: No, minimum $220 plus tax. You have to pay for a month of service.\n",
      "Sarcastic probability: 0.0002\n",
      "Text: How much Drake represents the personality of Canadians?\n",
      "Sarcastic probability: 0.0004\n",
      "Text: We're through the looking glass here people. BOR is echoing Obama on something.\n",
      "Sarcastic probability: 0.0002\n",
      "Text: Turn signals are in cars for a reason. Why do people not use them?\n",
      "Sarcastic probability: 0.0002\n",
      "Text: I could scare the crap out of my kids with that clicky noise the predator makes. Id love to be able to do it.\n",
      "Sarcastic probability: 0.0003\n",
      "Text: I second that, but an equal fav was when he booed at the convention and they rushed his wife out.\n",
      "Sarcastic probability: 0.0003\n",
      "Text: Lmao, ayaw nya sa US but gusto niya ng aid. HAHAHAHA drahgs pa more\n",
      "Sarcastic probability: 0.0002\n"
     ]
    },
    {
     "name": "stderr",
     "output_type": "stream",
     "text": [
      " 18%|█▊        | 92/500 [00:02<00:09, 44.92it/s]"
     ]
    },
    {
     "name": "stdout",
     "output_type": "stream",
     "text": [
      "Text: Have you tried henna? completely different product altogether, and extremely low allergy rate.\n",
      "Sarcastic probability: 0.0002\n",
      "Text: Youtube just is getting glorious 21:9 on their theater mode\n",
      "Sarcastic probability: 0.0002\n",
      "Text: Congrats on casting the new live-action adaptation of A Pup Named Scooby-Doo.\n",
      "Sarcastic probability: 0.0002\n",
      "Text: We had the inverse of that this morning. Got woken up by an Amber Alert at 7:30 am.\n",
      "Sarcastic probability: 0.0003\n",
      "Text: What actions by a person tells you that he or she is a newbie in a job hobby etc?\n",
      "Sarcastic probability: 0.0002\n",
      "Text: I kinda hope Disney sell off some games rights to Sega so there can be a Total War: Star Wars.\n",
      "Sarcastic probability: 0.0003\n",
      "Text: BM/Wheels/Crates Keys/Crates Add me if you want to speed things up. Feel free to leave an offer but mostly interested in keys and C3s Parallax 12Keys 2C3s 1Key Dom GT 4Keys Purple Sunburst 4Keys Tact Pulsus 3keys White Sunburst 5Keys Pink Invaders 4 Keys Cobalt/Lime/Pink Alchemist 2Keys Each 7 for all 4\n",
      "Sarcastic probability: 0.0005\n",
      "Text: Duplicates? Can we get rid of them like in BO or do we keep getting the same crap? anybody know?\n",
      "Sarcastic probability: 0.1672\n",
      "Text: I see that you are right. He is a big old doggo obviously\n",
      "Sarcastic probability: 0.0004\n",
      "Text: 1,512,797\n",
      "Sarcastic probability: 0.0093\n"
     ]
    },
    {
     "name": "stderr",
     "output_type": "stream",
     "text": [
      " 20%|██        | 102/500 [00:02<00:08, 44.54it/s]"
     ]
    },
    {
     "name": "stdout",
     "output_type": "stream",
     "text": [
      "Text: Not wearing them means you have the brace on for longer.\n",
      "Sarcastic probability: 0.0002\n",
      "Text: MetaCanada wins. Fuck\n",
      "Sarcastic probability: 0.9959\n",
      "Text: I want that boat. I would only play NPR on low to medium volume\n",
      "Sarcastic probability: 0.0079\n",
      "Text: Nevada is a good sign for the winner, fairly accurate to whoever wins, but not always. Az usually goes red, only being blue once on the past 65 years, even staying red during the '64 landslide.\n",
      "Sarcastic probability: 0.0002\n",
      "Text: How does Yui learn guitar so fast? She can barely breathe without Ui's help.\n",
      "Sarcastic probability: 0.0003\n",
      "Text: Not only did she look good...she was the FUNNIEST of all the roasters....\n",
      "Sarcastic probability: 0.0002\n",
      "Text: The issue of this topic aside, if you are to buy a new PSTV, I suggest doing so soon. They're obviously all discontinued, and the price is steadily going up on the things. As long as it's New In-Box, they're all guaranteed to be under 3.60 since they were discontinued late last year.\n",
      "Sarcastic probability: 0.0006\n",
      "Text: For shrine, should I spend my shards on Self Care or Decisive Strike? Neither are on my shrine atm, but I'm wondering which would be a better investment. To help me choose, my playstyle is lone-wolf, non-altruistic. Using Prestige 1, Level 24 Nea as main.\n",
      "Sarcastic probability: 0.0003\n",
      "Text: Not even double hearts? Weak.\n",
      "Sarcastic probability: 0.0003\n"
     ]
    },
    {
     "name": "stderr",
     "output_type": "stream",
     "text": [
      " 22%|██▏       | 112/500 [00:02<00:08, 43.48it/s]"
     ]
    },
    {
     "name": "stdout",
     "output_type": "stream",
     "text": [
      "Text: Yes. I mentioned this in a different comment, but yes. That's the whole problem. Lol\n",
      "Sarcastic probability: 0.0002\n",
      "Text: Checkmate\n",
      "Sarcastic probability: 0.0005\n",
      "Text: Really? You haven't noticed that these leftist liberals swallow anything coming from Clinton's mouth? She literally could say anything rediculous and far fetched and they still will believe her. It's like a female Jim Jones running for president.\n",
      "Sarcastic probability: 0.0380\n",
      "Text: ... you have fans that say that?\n",
      "Sarcastic probability: 0.0010\n",
      "Text: (M)y 3 incher (be gentle, it's my first time)\n",
      "Sarcastic probability: 0.0003\n",
      "Text: Yes, but Hillary won't care as soon as she wins.\n",
      "Sarcastic probability: 0.0002\n",
      "Text: Dubai Zipline\n",
      "Sarcastic probability: 0.0055\n",
      "Text: Yeah, that's probably why he doesn't have a car yet. At this point all he can afford is a chrome bicycle.\n",
      "Sarcastic probability: 0.0002\n",
      "Text: My Jewish GF and her 4 family members just got Red Pilled. 5 more votes!!!!!\n",
      "Sarcastic probability: 0.0003\n"
     ]
    },
    {
     "name": "stderr",
     "output_type": "stream",
     "text": [
      " 24%|██▍       | 122/500 [00:02<00:08, 43.43it/s]"
     ]
    },
    {
     "name": "stdout",
     "output_type": "stream",
     "text": [
      "Text: He tripped getting in and tore both quads\n",
      "Sarcastic probability: 0.0005\n",
      "Text: r/ph, how do you like your mocha?\n",
      "Sarcastic probability: 0.0175\n",
      "Text: RAIDERS FANS WISH THEY HAD VON MILLER. SO TRUE &amp;a RELATABLE!!! SO TRUE!!!! @RealSkipBayless: I keep waiting for Khalil Mack to create some havoc, make one play. Waiting ... and waiting ...\n",
      "Sarcastic probability: 0.1425\n",
      "Text: Making a grown man cry over here!\n",
      "Sarcastic probability: 0.0004\n",
      "Text: I\n",
      "Sarcastic probability: 0.0029\n",
      "Text: Stop following me shillbot and upvote my post! You fuck.\n",
      "Sarcastic probability: 0.3309\n",
      "Text: Big things happening in the Battle for Aleppo, lots of ground changing hands - September 24, 2016\n",
      "Sarcastic probability: 0.0013\n",
      "Text: The amount of times I have thought that exact sentence is staggering\n",
      "Sarcastic probability: 0.0002\n",
      "Text: \"It's kind of hard to turn the page when you don't have all of your guns\" What?\n",
      "Sarcastic probability: 0.0022\n"
     ]
    },
    {
     "name": "stderr",
     "output_type": "stream",
     "text": [
      " 25%|██▌       | 127/500 [00:02<00:09, 39.56it/s]"
     ]
    },
    {
     "name": "stdout",
     "output_type": "stream",
     "text": [
      "Text: LF5M aksis part 1 hard mode post your info\n",
      "Sarcastic probability: 0.0007\n",
      "Text: Dude tranquilizers would be a damn game changer. Upvote. Doot\n",
      "Sarcastic probability: 0.0005\n",
      "Text: p/c check on 2007-08 bape tiger hoodies? seen alot of them on grailed for like 8.5-9 condition\n",
      "Sarcastic probability: 0.9991\n",
      "Text: But then you don't go to heaven.\n",
      "Sarcastic probability: 0.0002\n",
      "Text: All Flying Knee Finishes In UFC &amp; Pride History\n",
      "Sarcastic probability: 0.0002\n",
      "Text: That woman started talkin about sex out of the blue because she wanted to fuck.\n",
      "Sarcastic probability: 0.9983\n"
     ]
    },
    {
     "name": "stderr",
     "output_type": "stream",
     "text": [
      " 26%|██▋       | 132/500 [00:03<00:10, 35.60it/s]"
     ]
    },
    {
     "name": "stdout",
     "output_type": "stream",
     "text": [
      "Text: i'm not even modelling, it's growing a body on it's own\n",
      "Sarcastic probability: 0.0002\n",
      "Text: I agree that his imprisonment is self imposed on the basis that he doesn't want to be sent back to Sweden. However Sweden has done nothing to say that he wont be extradited to US once in Sweden, and in US he could face death penalty. I am not sure about Swedens extradition treaty with US, but there have been a few cases recently where you can be extradited to US for something that is not a crime in the country of extradition. The accusations against him are not wearing a condom, not sure there are actually any charges against him, death penalty surely a bit harsh for that.\n",
      "Sarcastic probability: 0.0003\n",
      "Text: Im replying to his post, he actually asked for the time when he will get too \"uncool\" to read him .... Read it :) Dont be that guy :D\n",
      "Sarcastic probability: 0.5426\n",
      "Text: White Christian Nationalists Rejoice At Trump Victory\n",
      "Sarcastic probability: 0.0003\n",
      "Text: Did the same man expect hung over af at this house in the morning no couches so I just sat next to her feet and began massaging for a few seconds before realizing what I was doing and everyone was looking at me like what the actual fuck, pleased to say I don't get many invites to parties at HS anymore. May uni will be a new start please.\n",
      "Sarcastic probability: 0.9983\n",
      "Text: LOL they are like that old dude that shows up at the party and thinks they are still bang young girls.. Bernie Sanders.\n",
      "Sarcastic probability: 0.0048\n"
     ]
    },
    {
     "name": "stderr",
     "output_type": "stream",
     "text": [
      " 28%|██▊       | 140/500 [00:03<00:10, 34.64it/s]"
     ]
    },
    {
     "name": "stdout",
     "output_type": "stream",
     "text": [
      "Text: Thank you. Fixed. Travel noted, safe winds.\n",
      "Sarcastic probability: 0.0003\n",
      "Text: Browns Felt Wentz Couldn't Be Top 20 QB\n",
      "Sarcastic probability: 0.0157\n",
      "Text: I don't follow. By your logic, we have already forgotten about the Civil War because no one is alive who actually lived it...\n",
      "Sarcastic probability: 0.0002\n",
      "Text: When you're sitting pantless in your chair watching Scream wun tep hen1 and your parents call you down for dinner.\n",
      "Sarcastic probability: 0.0003\n",
      "Text: no, you're is a pronoun\n",
      "Sarcastic probability: 0.0002\n",
      "Text: Badumm-tzz\n",
      "Sarcastic probability: 0.0217\n",
      "Text: According to 17 federal intelligence agencies and 2 private security firms Russian hacking groups such as APT28 that have been linked to the Russian government were involved in the hack. I doubt anyone from the Russian government communicated directly with Wikileaks. That would be amateur hour. Even if they did Wikileaks protects its sources and wouldn't give them up anyway.\n",
      "Sarcastic probability: 0.0007\n",
      "Text: Consider yourself lucky. In a town of 2500, I am the only vegan.\n",
      "Sarcastic probability: 0.0003\n"
     ]
    },
    {
     "name": "stderr",
     "output_type": "stream",
     "text": [
      " 30%|███       | 150/500 [00:03<00:09, 38.61it/s]"
     ]
    },
    {
     "name": "stdout",
     "output_type": "stream",
     "text": [
      "Text: When Omnis like your dinner pics not realizing it's vegan\n",
      "Sarcastic probability: 0.0002\n",
      "Text: That's just time travel though\n",
      "Sarcastic probability: 0.0003\n",
      "Text: Why Shooter do not use the silencer ?\n",
      "Sarcastic probability: 0.0003\n",
      "Text: You think 2016 can't get any worse and then Wham!\n",
      "Sarcastic probability: 0.0002\n",
      "Text: One positive note about this season/Chip Kelly The Niners are the least penalized team in the league by 9 penalties, currently. I remember tons of penalties under Harbaugh. Not that it's some huge deal, but it is something positive this season. Just trying to stay optimistic these days, fam.\n",
      "Sarcastic probability: 0.0002\n",
      "Text: what does the one above the circle say?\n",
      "Sarcastic probability: 0.0013\n",
      "Text: rama ult is global now and has 5 shots\n",
      "Sarcastic probability: 0.0002\n",
      "Text: Ik leerde op de kleuterschool al dat wie vraagt wordt overgeslagen....\n",
      "Sarcastic probability: 0.0003\n",
      "Text: my interview on rocket launcher\n",
      "Sarcastic probability: 0.0002\n"
     ]
    },
    {
     "name": "stderr",
     "output_type": "stream",
     "text": [
      " 32%|███▏      | 160/500 [00:03<00:08, 41.66it/s]"
     ]
    },
    {
     "name": "stdout",
     "output_type": "stream",
     "text": [
      "Text: Impressive Ultron Cosplay for Avengers: Age of Ultron\n",
      "Sarcastic probability: 0.0003\n",
      "Text: Yeah, I don't think I have ever noticed any chalk marks.\n",
      "Sarcastic probability: 0.0005\n",
      "Text: Do you not have humor receptacles? I was clearly poking fun at myself for misreading it. Go find something worthwhile to protest.\n",
      "Sarcastic probability: 0.0004\n",
      "Text: Funtime Triangle (3D Model)\n",
      "Sarcastic probability: 0.0002\n",
      "Text: I dunno, doesnt make any sense to me really. If an advertizer wanted to relate/connect motorcycling with the image of \"freedom\" I wouldn't pick a dude standing on the seat of a sportbike... I'd say something more like a quick 7-8 second montage of a man at a cubicle getting yelled at in slow motion by his boss, stacks of papers all around him, cut to slow motion of him at home and his wife in an apron holding a newborn baby shaking her head in disaproval at him (slo-mo again of course) Cut to him standing in a downtown city at dusk in the rain hanging his head looking depressed, and as he looks over at a window, there's a motorcycle in the shop and it's a new bike- he's next to a dealership and the rain stops- last shot is a close up of him riding that new bike and smiling. Freedom. Or something like that.. But I guess thats just a motorcycle ad... Not sure how to attach a phone to it.\n",
      "Sarcastic probability: 0.0459\n",
      "Text: Sir, we're closed... Tonight, at 10pm, my store closed. I cashed out my last customer. As I handed her the receipt, another guy walks in, past the automatic doors that were put on halfway open to accommodate my last customer. My shift lead is standing by the doors, keys in hand. \"Sir,\" my shift lead calls after him, \"it's 10 o clock, we are closed.\" \"Oh, I know, I'll only be a sec!\" Guy keeps walking back towards the pet stuff. My shift lead lets my last customer out, and stands by the doors, and I can see she's fuming. Here comes Special Guy. \"See! I was only a second! Haha!\" Special Guy literally puffs out his chest with pride. I ring up his 15 big cans of dog food, and bag them in his gross smelling bag. I tell him his total, he pays, and he's watching both of us, and we are less than thrilled with him. \"Geez, ladies, lighten up! I was only a second!\" My shift lead shakes her head. \"Yes, but you're cutting into our closing ops, and yes, 5 minutes DOES make a difference.\" She unlocks the doors to let him out, bidding him adieu. And his parting words to us? \"I was only a second though! Good night!\" Good lord, dude. We are open 14 hours; you had all damn day! Also, before my head gets bitten off, I'm aware some people work doubles or long shifts; I am one of them (my other job). But there is a grocery store open until midnight, and the mini mart open until 11pm that can see you through. Sorry, just...argh!!!!!\n",
      "Sarcastic probability: 0.0679\n",
      "Text: I think the tories are going to deliberately push it over.\n",
      "Sarcastic probability: 0.0002\n",
      "Text: 'White Lives Matter' Held Its First March In The UK Today.\n",
      "Sarcastic probability: 0.0002\n",
      "Text: To make predators think they're poisonous?\n",
      "Sarcastic probability: 0.0004\n"
     ]
    },
    {
     "name": "stderr",
     "output_type": "stream",
     "text": [
      " 34%|███▍      | 170/500 [00:03<00:07, 42.17it/s]"
     ]
    },
    {
     "name": "stdout",
     "output_type": "stream",
     "text": [
      "Text: This would mean that Zoolander was actually a subversive warning :O\n",
      "Sarcastic probability: 0.0003\n",
      "Text: Teddy Ruxpin, the iconic talking teddy bear from the 1980s, is back\n",
      "Sarcastic probability: 0.0002\n",
      "Text: 'Remember, remember, the thirteenth of November' -dcpp4\n",
      "Sarcastic probability: 0.0002\n",
      "Text: You're the only one\n",
      "Sarcastic probability: 0.0002\n",
      "Text: So the truth reported about a certain news network is not relevant?\n",
      "Sarcastic probability: 0.0002\n",
      "Text: What should you do every day?\n",
      "Sarcastic probability: 0.0003\n",
      "Text: Hit Anchorage and the population is now around 300k and scattered. They're basically done at that point.\n",
      "Sarcastic probability: 0.0002\n",
      "Text: No, combat stats are fine. Its non combat stats that aren't affected apparently\n",
      "Sarcastic probability: 0.0002\n",
      "Text: Pretty inconvenient if they landed anywhere pre-1980s\n",
      "Sarcastic probability: 0.9981\n"
     ]
    },
    {
     "name": "stderr",
     "output_type": "stream",
     "text": [
      " 36%|███▌      | 180/500 [00:04<00:07, 45.03it/s]"
     ]
    },
    {
     "name": "stdout",
     "output_type": "stream",
     "text": [
      "Text: How do I set up 2x 3DS's for my kids?\n",
      "Sarcastic probability: 0.0002\n",
      "Text: Agreed. Emberesing community\n",
      "Sarcastic probability: 0.0090\n",
      "Text: Odd Gaming Announcements\n",
      "Sarcastic probability: 0.0002\n",
      "Text: are you using any mods?\n",
      "Sarcastic probability: 0.0012\n",
      "Text: Who cares, it's basically free considering the price of the Xbox. Not to mention BF1.\n",
      "Sarcastic probability: 0.0002\n",
      "Text: Looks like we can expect an oldschool FPS, since Chmielarz is known mostly for Bulletstorm and Painkiller.\n",
      "Sarcastic probability: 0.0002\n",
      "Text: It should be a straight forward swap, only thing you might need to do is install the software with the gpu so then all the drivers are upto date. But other than that replacing a graphics card shouldnt cause any issue, it would tend to be more if you replace the mobo or hdd that you'd encounter issues.\n",
      "Sarcastic probability: 0.0002\n",
      "Text: Who knew that a Billionaire doesn't actually give a shit about the middle class\n",
      "Sarcastic probability: 0.0281\n",
      "Text: Anokuu descended from the heavens and saved them\n",
      "Sarcastic probability: 0.0003\n",
      "Text: After Christmas Blowout Sale - Supreme Work Pants, Alltimers, 10Deep, Others &amp; many more sold below retail!\n",
      "Sarcastic probability: 0.0543\n"
     ]
    },
    {
     "name": "stderr",
     "output_type": "stream",
     "text": [
      " 37%|███▋      | 185/500 [00:04<00:06, 45.46it/s]"
     ]
    },
    {
     "name": "stdout",
     "output_type": "stream",
     "text": [
      "Text: I made a CPU ornament and thought you guys might enjoy it!\n",
      "Sarcastic probability: 0.0003\n",
      "Text: If you were limited to playing only one class and no other, which would you enjoy the most?\n",
      "Sarcastic probability: 0.0003\n",
      "Text: The parallels I draw from ISIS and Mormonism from this story are interesting\n",
      "Sarcastic probability: 0.0002\n",
      "Text: It would depend on how technical you're being. A lot of so-called teas are not technically teas but because they are brewed the same way (boiling water and steeping) they are given the label. Coffee is not in this category because it is also roasted and ground, plus it's already a distinguished and very specific brew. A more broad term might be \"infused\" but I'm not sure whether there's a better one. Infused or steeped (hot) drinks would probably convey what you want.\n",
      "Sarcastic probability: 0.0002\n",
      "Text: So George soros\n",
      "Sarcastic probability: 0.0006\n",
      "Text: Because OP really wants their whiny opinion to be taken more seriously and respectably than it actually is.\n",
      "Sarcastic probability: 0.0007\n",
      "Text: I dropped her flowers and ran\n",
      "Sarcastic probability: 0.0003\n",
      "Text: dyslexia is a bicth\n",
      "Sarcastic probability: 0.0002\n",
      "Text: I honestly really hope that Sweetz is /not/ in fact hinting at Burial's future 'avant-garde` sound\n",
      "Sarcastic probability: 0.4752\n"
     ]
    },
    {
     "name": "stderr",
     "output_type": "stream",
     "text": [
      " 39%|███▉      | 195/500 [00:04<00:07, 42.38it/s]"
     ]
    },
    {
     "name": "stdout",
     "output_type": "stream",
     "text": [
      "Text: None of this matters if Trump wins Minnesota, Wisconsin and Michigan.\n",
      "Sarcastic probability: 0.0002\n",
      "Text: \"Agreed. I think what's the issue for me is that there are people out there theory-crafting this whole thing away, as if I don't have better things to do with my time but to make stuff up - and blatantly lie - for the hell of it.\" - Derek Smart, re: 2.6 and Star Marine.\n",
      "Sarcastic probability: 0.0004\n",
      "Text: skippity bop\n",
      "Sarcastic probability: 0.0068\n",
      "Text: Still, I say statistics would be more convincing than your anecdote.\n",
      "Sarcastic probability: 0.0002\n",
      "Text: You as everyone else are MISSING THE ENTIRE POINT. The point is we can make these decisions without the VIOLENCE that government bring to the table. The free market is responsible for **far** more safety equipment than government. Cheers!\n",
      "Sarcastic probability: 0.0002\n",
      "Text: You are on the internet, you can watch everything somewhere.\n",
      "Sarcastic probability: 0.0002\n",
      "Text: PRAISE KEK\n",
      "Sarcastic probability: 0.0011\n",
      "Text: What's your favourite way to mess with people's heads online?\n",
      "Sarcastic probability: 0.0002\n",
      "Text: How vaguely can you describe your life?\n",
      "Sarcastic probability: 0.0004\n"
     ]
    },
    {
     "name": "stderr",
     "output_type": "stream",
     "text": [
      " 41%|████      | 205/500 [00:04<00:06, 43.10it/s]"
     ]
    },
    {
     "name": "stdout",
     "output_type": "stream",
     "text": [
      "Text: What do you want in a partner?\n",
      "Sarcastic probability: 0.0002\n",
      "Text: People who spray shit all over the walls and ceilings in bathroom stalls, what's your secret?\n",
      "Sarcastic probability: 0.0791\n",
      "Text: It's amazing how similar the Ravens are to the Steelers even when they have both radically altered their strategies. Although the Ravens have put a little more effort into defense the past few years than Pittsburgh it still comes down to the same problem of over-reliance on the offense.\n",
      "Sarcastic probability: 0.0002\n",
      "Text: Good. It handles all the same commands anyway. Why keep cmd around?\n",
      "Sarcastic probability: 0.0011\n",
      "Text: NYC Visit Going to visit the big city soon and what to know what coffee shops I need to visit!\n",
      "Sarcastic probability: 0.0208\n",
      "Text: A quick google search on the \"legal-highs\" thing seems to me that it targets notoriously dangerous fake-drugs that have lead to many deaths - and that they did not criminalize possession of it, only distribution/creation. Seems like the right move to me if that's accurate. I just never agree with punishing the user. Jail and/or fines is not how you help an addict, if anything you just throw their life into an even worse position.\n",
      "Sarcastic probability: 0.0002\n",
      "Text: As far as I know, someone's reddit history doesn't account for their entire life's interests\n",
      "Sarcastic probability: 0.0083\n",
      "Text: Please use complete sentences. I don't know what you're trying to say.\n",
      "Sarcastic probability: 0.0003\n",
      "Text: I've got some small fresh Manzanita branches. Is there any way I can quickly cure them for aquarium use? My understanding is that you don't want to put green branches into an aquarium. I've got a couple small tanks (5.5g, 2.5g) that I'd like to put these in, but only if I don't have to leave them outside for year(s) first. The branches are small, the biggest one has a maximum diameter of 0.75 inches, but they're mostly closer to 0.25-0.5 inches. The outer black bark is gone, but the inner red bark is still on them. Here's my questions: 1) Is there any way I can quickly dry them out in an oven or something? Would they be safe to boil and use at that point? 2) Usually the things I've read say that the bark needs to be removed or it'll slowly peel off. As long as it were to not peel off in tiny pieces, and as long as it were safe, I wouldn't mind that. I don't have a sandblaster to remove bark with either. Is it out of the question to leave the bark on? (ie is it super obnoxious or toxic?) Thanks guys!\n",
      "Sarcastic probability: 0.0006\n"
     ]
    },
    {
     "name": "stderr",
     "output_type": "stream",
     "text": [
      " 43%|████▎     | 215/500 [00:05<00:06, 41.06it/s]"
     ]
    },
    {
     "name": "stdout",
     "output_type": "stream",
     "text": [
      "Text: Good Guy Cashier\n",
      "Sarcastic probability: 0.9994\n",
      "Text: No I am DEFINITELY getting Trans however my question is why does it NEED to be built first? I was thinking about building it 2-3\n",
      "Sarcastic probability: 0.0020\n",
      "Text: Smurfity smurf\n",
      "Sarcastic probability: 0.7240\n",
      "Text: I've had the same free god rotation for the past 2 weeks\n",
      "Sarcastic probability: 0.0002\n",
      "Text: Actually, the Cupertino Chargers has a nice ring!\n",
      "Sarcastic probability: 0.0003\n",
      "Text: Jumping out of a tree onto an old blanket\n",
      "Sarcastic probability: 0.0002\n",
      "Text: Reynad Mic Malfunction\n",
      "Sarcastic probability: 0.3519\n",
      "Text: Show me where I was being homophobic. \"Faggot\" is just a harmless term. You're just being sensitive, am I right?\n",
      "Sarcastic probability: 0.0002\n"
     ]
    },
    {
     "name": "stderr",
     "output_type": "stream",
     "text": [
      " 45%|████▌     | 225/500 [00:05<00:06, 42.82it/s]"
     ]
    },
    {
     "name": "stdout",
     "output_type": "stream",
     "text": [
      "Text: Nah, he's way too pissed-off and squirrelly for that.\n",
      "Sarcastic probability: 0.0023\n",
      "Text: FWD I sent them all away\n",
      "Sarcastic probability: 0.0595\n",
      "Text: Modi: From Nov 8 to abolish 500 and 1000 Rupee notes.\n",
      "Sarcastic probability: 0.0002\n",
      "Text: I had a gym teacher in HS who have the class do leg lifts during calisthenics and he'd walk up and down the row looking up girls shorts. But if you thought that was pervy... I had a friend who was a girl (but not a girlfriend) who said her gym teacher would make you open your towel up and show her that you showered after class. If she didn't think you showered well enough, she'd take your towel and send you back to the showers with a pat on the butt where she'd watch.\n",
      "Sarcastic probability: 0.0002\n",
      "Text: Calling a top 5 seed? I asked if we could EXPECT the three teams to be in the top half of the EC. I wanted everyone else's input as to why or why not we would see the teams in the playoffs. Not once did I call a top seed, not once did I predict for it.\n",
      "Sarcastic probability: 0.0004\n",
      "Text: Not a nerf, but there is the thing about selecting targets. Once the target goes down, it's like they hiccup and then move to the next target. This is especially noticeable in knife because of how many gobs have to be recalculated. THe whole pack stops.\n",
      "Sarcastic probability: 0.0004\n",
      "Text: Annoying players are hurting themselves\n",
      "Sarcastic probability: 0.0002\n",
      "Text: That shows your poor knowledge about this scandal.\n",
      "Sarcastic probability: 0.0002\n",
      "Text: Christian propaganda\n",
      "Sarcastic probability: 0.0029\n",
      "Text: this is reality\n",
      "Sarcastic probability: 0.0002\n"
     ]
    },
    {
     "name": "stderr",
     "output_type": "stream",
     "text": [
      " 46%|████▌     | 230/500 [00:05<00:06, 42.92it/s]"
     ]
    },
    {
     "name": "stdout",
     "output_type": "stream",
     "text": [
      "Text: Seriously all youtubers should combine to give nova a taste of there own medicine\n",
      "Sarcastic probability: 0.9981\n",
      "Text: TIL Dubai and Abu Dubai are not the same place\n",
      "Sarcastic probability: 0.0002\n",
      "Text: Nigeria :)\n",
      "Sarcastic probability: 0.0058\n",
      "Text: I have been following the competitive scene for 6years ,here are what I think godsent can do to become a top team again -znajder +Olof Hiring that devilwalk guy as their coach seems like a good idea as well\n",
      "Sarcastic probability: 0.4582\n",
      "Text: PTR bugs and Corpse physics\n",
      "Sarcastic probability: 0.0002\n",
      "Text: You'd have to shuffle Hightower out to make that trade work.\n",
      "Sarcastic probability: 0.0094\n",
      "Text: I just worry (a little bit) about taking Hanley out of the infield. I was under the impression that his improvement this year was in part due to him coming in from the outfield and feeling \"more like a part of the team.\" Could sending him to DH undo any of that?\n",
      "Sarcastic probability: 0.0176\n",
      "Text: you have about 4-5% of the population that are nudists in the US already :P. I think with better laws we would be closer to the European percent at 10-20%\n",
      "Sarcastic probability: 0.0004\n",
      "Text: DJ S3BAMAN - A Tribute to Photographer (Producer Mix)\n",
      "Sarcastic probability: 0.0002\n"
     ]
    },
    {
     "name": "stderr",
     "output_type": "stream",
     "text": [
      " 48%|████▊     | 241/500 [00:05<00:05, 45.32it/s]"
     ]
    },
    {
     "name": "stdout",
     "output_type": "stream",
     "text": [
      "Text: A nice, public reminder that we don't live in a fascist regime.\n",
      "Sarcastic probability: 0.0002\n",
      "Text: This week at Church: Build a Wall\n",
      "Sarcastic probability: 0.0003\n",
      "Text: You have one wish. But it'll only come true if it was never wished by anyone before. What would it be?\n",
      "Sarcastic probability: 0.0002\n",
      "Text: Exactly 3 years ago, Shroud got an overwatch ban\n",
      "Sarcastic probability: 0.0002\n",
      "Text: Thank you Putin, for showing the level-headed responsibility and care that should be demonstrated from someone in your position, unlike the disgraceful Obama who attempts to provoke us all into unecessary war. The world thanks you. I'm very proud of Russia, a nation that now stands as the true leader of the free world.\n",
      "Sarcastic probability: 0.0002\n",
      "Text: No, you dumb cunt. If you can see from a few hundred metres down the road that nobody is there, then there is no need to drive slower than 60 fucking kph.\n",
      "Sarcastic probability: 0.9991\n",
      "Text: Sprained wrist from a fall happened almost two weeks ago\n",
      "Sarcastic probability: 0.0210\n",
      "Text: MOTD Idea: Dogfight Anubis, Erlang Shen, Fenrir, and Kaldr only. Reduced cooldowns or infinite mana or something for the lulz.\n",
      "Sarcastic probability: 0.0002\n",
      "Text: @Senator_Assange: \"it's odd how women \"choose\" to wear a bag over their heads but are \"forced\" to wear make-up by the Patriarchy.\"\n",
      "Sarcastic probability: 0.0048\n",
      "Text: Tennis player says something ambiguous and immediately regrets it\n",
      "Sarcastic probability: 0.1804\n",
      "Text: The Liberal Democrats will fight Brexit. Labour is not doing its job | Tim Farron\n",
      "Sarcastic probability: 0.0002\n"
     ]
    },
    {
     "name": "stderr",
     "output_type": "stream",
     "text": [
      " 50%|█████     | 251/500 [00:05<00:05, 45.28it/s]"
     ]
    },
    {
     "name": "stdout",
     "output_type": "stream",
     "text": [
      "Text: Bowl recommendations I do know about the wiki, but I'm looking for something fairly specific. I want a bowl that holds less than 20 grams with a fairly average pack, and doesn't ghost flavors (which sadly disqualifies basically every stone/clay bowl). I would absolutely love the Onyx bowl but as we all know it's constantly out of stock. Anything else that fits that criteria? Seems like every bowl is 25-30g these days. :(\n",
      "Sarcastic probability: 0.0014\n",
      "Text: Sleepy Hollow. The first season was so good. The second one just started going downhill and accelerated fast, culminating in one of the stupidest plot decisions I've seen a TV show make in recent memory.\n",
      "Sarcastic probability: 0.0003\n",
      "Text: All on recorders and kazoos, though\n",
      "Sarcastic probability: 0.0002\n",
      "Text: Only if made in America. Even the Russian ones have to be.\n",
      "Sarcastic probability: 0.0002\n",
      "Text: Is the university going overboard with their political stuff? Even as great as it is that students care about politics, when I read the IDS, see the events the University sponsors around campus, or look at the stuff the CommUnity Education Program puts around dorms, it feels like they're pushing an agenda on us. Some of the stuff, from all three of those, isn't simply progressive, but extreme leftist material. Given that this is a public school, it really doesn't feel right.\n",
      "Sarcastic probability: 0.0003\n",
      "Text: I think this Star Wars comic belongs here\n",
      "Sarcastic probability: 0.0006\n",
      "Text: Apple paid the taxes that Ireland required.\n",
      "Sarcastic probability: 0.0002\n",
      "Text: How far would you drivel to save $500 for a rebuilt car engine?\n",
      "Sarcastic probability: 0.0006\n",
      "Text: American drivers of Reddit who adamantly drive in the left/passing lane only, why don't you move over into the traveling lane?\n",
      "Sarcastic probability: 0.7569\n"
     ]
    },
    {
     "name": "stderr",
     "output_type": "stream",
     "text": [
      " 52%|█████▏    | 261/500 [00:06<00:05, 45.18it/s]"
     ]
    },
    {
     "name": "stdout",
     "output_type": "stream",
     "text": [
      "Text: I don't have an account, I just lurk.\n",
      "Sarcastic probability: 0.0002\n",
      "Text: Yes how dare we hurt him so badly\n",
      "Sarcastic probability: 0.0002\n",
      "Text: What ruins a pizza for you?\n",
      "Sarcastic probability: 0.0004\n",
      "Text: He'll probably give her a prominent position in his administration :P Jokes aside, if he doesn't go after her, the pitchforks will turn on him instead. At this point I don't think anyone can contain the anger of the people much longer. If he doesn't drain the swamp, we'll have to do it ourselves and throw him out with the rest of the trash.\n",
      "Sarcastic probability: 0.0007\n",
      "Text: I was hoping this was fake news.\n",
      "Sarcastic probability: 0.0002\n",
      "Text: It's almost funny how our 'leaders' want and expect us to be angry at people who expose their dirty dealings to us. It defies all logic.\n",
      "Sarcastic probability: 0.0002\n",
      "Text: What I find strange about this poll is that Clinton leads with those who have a college degree. But she doesn't poll strong with anyone who makes more thsn $35k. I suspect a large number of the college grads they are polling are recent grads who can't get a job.\n",
      "Sarcastic probability: 0.0018\n",
      "Text: Live SmackDown Live Discussion Thread - November 15th 2016 Welcome to the live thread! This'll be more fleshed out sometime between 5 and 6pm PST :P\n",
      "Sarcastic probability: 0.0013\n",
      "Text: Will Australia Post be open tomorrow? Going away for a couple of days tomorrow and I have a package to pick it up but couldnt for the past 3 days.\n",
      "Sarcastic probability: 0.0002\n",
      "Text: South Korea opposition introduces bill to impeach scandal-tainted Park\n",
      "Sarcastic probability: 0.2856\n"
     ]
    },
    {
     "name": "stderr",
     "output_type": "stream",
     "text": [
      " 54%|█████▍    | 271/500 [00:06<00:05, 45.07it/s]"
     ]
    },
    {
     "name": "stdout",
     "output_type": "stream",
     "text": [
      "Text: Unspoken rules of the market board? So, i was crafting some barding today, super excited that I got my first crafter to 60, and the parts were super cheap... so I made quite a few to sell. So looking at the mb they were going for about 400k. I put mine up for 300k to make a quick buck and still make a sizable profit, then some guy pms me after about an hour saying that im \"destroying the barding economy!\" So it got me thinking, are there any unspoken rules about the market board i should be aware of? Or was this guy just butt hurt that I undercut him?\n",
      "Sarcastic probability: 0.9319\n",
      "Text: Every scene of gunda\n",
      "Sarcastic probability: 0.0242\n",
      "Text: Get better soon DJ Zbad. Sorry you gots to get injured against us :(\n",
      "Sarcastic probability: 0.0016\n",
      "Text: I'm getting the feeling these are circus performers.\n",
      "Sarcastic probability: 0.0002\n",
      "Text: Burning, Poisoned, Starving, Parched, Bleeding, Freezing, Over Heating... ark is stupid. its a 'dont die as fast' simulator, with zero style, no flavor, no abilities, no upgrades worth getting and boring poorly optimized everything.\n",
      "Sarcastic probability: 0.0003\n",
      "Text: Huma Abedin's sister tells supporters on FB to call the DoJ to audit the vote. Today Clinton team met about this and now Jill Stein is raising money to file for recount in WI,MI and PA. Hillary is behind this 100%! You also saw Hillary staging pictures of her going outside to walk her dog or to the bookstore. Michigan has still not been called. Maybe I am just crazy but it looks like Hillary has not given up yet behind the scenes.\n",
      "Sarcastic probability: 0.0200\n",
      "Text: Nice set man, pretty funny.\n",
      "Sarcastic probability: 0.0006\n",
      "Text: A lot of the world's problems could be remedied if everyone lived in another country for a year.\n",
      "Sarcastic probability: 0.0002\n",
      "Text: Justin Timberlake's 'I'm loving it' will always remind me of McDonald's. I'm not a fan of the song in the first place, but McDonald's pretty much hijacked it and made it their own. I don't even think he sings it anymore and I seem to remember that they stopped playing it on the radio after a very short time of it being released.\n",
      "Sarcastic probability: 0.0014\n"
     ]
    },
    {
     "name": "stderr",
     "output_type": "stream",
     "text": [
      " 56%|█████▌    | 281/500 [00:06<00:04, 44.08it/s]"
     ]
    },
    {
     "name": "stdout",
     "output_type": "stream",
     "text": [
      "Text: Arcade Machine Texturing and Modeling Test\n",
      "Sarcastic probability: 0.0005\n",
      "Text: Daniel Passarella on Messi: \"He should not captain Argentina. I admire Messi, but I think his personality and his way of being is withdrawn and timid.They already have a great leader - Ramiro Funes Mori. He should be captain.\"\n",
      "Sarcastic probability: 0.2696\n",
      "Text: Those are blue pills though\n",
      "Sarcastic probability: 0.0003\n",
      "Text: What if he had changed his tone?\n",
      "Sarcastic probability: 0.0012\n",
      "Text: Does anyone know of a repository for historical correspondence? I'm looking for something with a lot of content.\n",
      "Sarcastic probability: 0.0002\n",
      "Text: Doesn't Galio hard counter Ryze?\n",
      "Sarcastic probability: 0.0030\n",
      "Text: I like the one with \"Any way you want it\" because that's a good song and the black girl is fine af.\n",
      "Sarcastic probability: 0.0003\n",
      "Text: I saw a paper airplane fly across the screen. Not sure if it made it to the field but you know that's where they wanted it to go\n",
      "Sarcastic probability: 0.0002\n",
      "Text: You.... you stop that. You stop that right now. Melee build and plasmids is the most fun ever.\n",
      "Sarcastic probability: 0.0003\n"
     ]
    },
    {
     "name": "stderr",
     "output_type": "stream",
     "text": [
      " 58%|█████▊    | 291/500 [00:06<00:04, 43.87it/s]"
     ]
    },
    {
     "name": "stdout",
     "output_type": "stream",
     "text": [
      "Text: Huh. That's not that much actually. It would suck, but I definitely think I could eat 200 apple seeds in a sitting.\n",
      "Sarcastic probability: 0.0005\n",
      "Text: \"Hey you wanna get highhh\"\n",
      "Sarcastic probability: 0.0876\n",
      "Text: This About Sums Up The Long Island Show\n",
      "Sarcastic probability: 0.0004\n",
      "Text: Beating the Democrats at their own game, love it!\n",
      "Sarcastic probability: 0.0003\n",
      "Text: Watermelon Death Star carved by my dad!\n",
      "Sarcastic probability: 0.0003\n",
      "Text: Wait, but, how does it not show that you accessed the front page of the Reddit? Did you go through a link sent to you for this post?\n",
      "Sarcastic probability: 0.0050\n",
      "Text: Ele main, never switched Tempest off since I unlocked it.\n",
      "Sarcastic probability: 0.0004\n",
      "Text: Why does Trump even have a Star? I had no idea.\n",
      "Sarcastic probability: 0.0002\n",
      "Text: If it's Danney DNA I will eat nothing but chicken tendies until election day\n",
      "Sarcastic probability: 0.0006\n"
     ]
    },
    {
     "name": "stderr",
     "output_type": "stream",
     "text": [
      " 59%|█████▉    | 296/500 [00:06<00:04, 43.81it/s]"
     ]
    },
    {
     "name": "stdout",
     "output_type": "stream",
     "text": [
      "Text: I remember 2011 all too well. I'm not going to think that again.\n",
      "Sarcastic probability: 0.0002\n",
      "Text: \"Gingrich, Giuliani, Priebus Eyed for Top Jobs in Trump White House: Sources\" &lt;---- If you weren't scared already, YOU BETTER VOTE\n",
      "Sarcastic probability: 0.0007\n",
      "Text: You'll give him \"credit,\" lol... I think the place that it's \"due\" is his bank account... You can accomplish amazing things when you inherit millions of dollars.\n",
      "Sarcastic probability: 0.0003\n",
      "Text: Has Persona 5 made anyone change their way of thinking? I mean, I know it's a game and all, but Atlus specifically focuses on the making the Persona games leave an impact on the player. I, for one, can say that after a full 120+ hour playthrough of the game, I feel a lot different than when I first loaded up the game. The game really made me realize how much people will want to take advantage of you and use you any chance they get, but that by believing in yourself and in those you trust you can reject what is thought of as \"normal\" or \"right\" and do what you believe in. Even though some may think that what you do is abnormal or unusual, what matters the most is that you have confidence in yourself and in what you are doing. I've really gained a lot of self-confidence after playing this amazing game as well as become more aware of the things I feel are wrong in society around me. I know it's rather unusual, but does anyone else feel a similar way?\n",
      "Sarcastic probability: 0.4751\n",
      "Text: What's AHH?\n",
      "Sarcastic probability: 0.0025\n",
      "Text: Which college would that be? They teach you soldering in first semester in B Tech.\n",
      "Sarcastic probability: 0.0159\n",
      "Text: Those \"cuts\" in the video are annoying af!\n",
      "Sarcastic probability: 0.0008\n",
      "Text: Huh?\n",
      "Sarcastic probability: 0.0026\n"
     ]
    },
    {
     "name": "stderr",
     "output_type": "stream",
     "text": [
      " 61%|██████    | 306/500 [00:07<00:04, 41.85it/s]"
     ]
    },
    {
     "name": "stdout",
     "output_type": "stream",
     "text": [
      "Text: We've made our way on to r/whiteknighting\n",
      "Sarcastic probability: 0.0002\n",
      "Text: People standing near a truck leaking gasoline.\n",
      "Sarcastic probability: 0.0002\n",
      "Text: Electrical Engineering: \"What exactly do you do?\"\n",
      "Sarcastic probability: 0.9967\n",
      "Text: TIL a drug testing expert was high on cocaine almost every day she went to work, calling into question some 30,000 criminal drug cases she processed over the course of eight years.\n",
      "Sarcastic probability: 0.7299\n",
      "Text: Don't think the jags understand change when they go 5-11 every year.\n",
      "Sarcastic probability: 0.0002\n",
      "Text: i used to, for the nicotine. nicotine is awesome. cigarettes are awful. so now i vape. i mix my own 50mg or so unflavored juice and i'm in nicotine heaven.\n",
      "Sarcastic probability: 0.0002\n",
      "Text: \"Jesus Christ! Stop getting Scarlet Witch drunk!!\" Cap yells from across the room. Jesus looks up, \"what are you talking about, man, it's only water.\" \"Only water, my ass!\" Cap retorts, \"and where the fuck did the 10,000 fish in my room come from?! The smell is never gonna come out of my suit!\" \"You're harshing my vibes, man.\" Jesus looked unphased. \"Don't make me call my dad. He said I could be anything I wanted and I wanted to be an Avenger. You can't change that.\" Cap grumbled to himself. \"Fine, Jesus, you lead the Avengers. I quit.\" He dials a quick number on his phone, \"Hey, Bruce? Yeah, it's, uh, Cap. Uh huh. Yeah. Well, I know you have a super team too so I was wondering if maybe . . . What's that? Oh. Well, um, you just let me know.\" \"Everything ok dude?\" Jesus asks. \"Yeah, well, it looks like Tony got to Bruce before I did. Luckily I have an in with the NYPD.\" *two weeks later* Jesus is bringing a perp into the station when he sees a familiar man mopping blood off the floor. \"Cap?\" The man doesn't look up and Jesus goes on his way. \"Bastard walked right where I just mopped, what a piece of shit.\"\n",
      "Sarcastic probability: 0.9098\n",
      "Text: *Wanna go out sometime?*\n",
      "Sarcastic probability: 0.0150\n",
      "Text: Kung Fu Trucker gets his Revenge on Phone thief\n",
      "Sarcastic probability: 0.0007\n",
      "Text: But what about 7?! I MUST KNOW!\n",
      "Sarcastic probability: 0.0006\n"
     ]
    },
    {
     "name": "stderr",
     "output_type": "stream",
     "text": [
      " 63%|██████▎   | 316/500 [00:07<00:04, 44.31it/s]"
     ]
    },
    {
     "name": "stdout",
     "output_type": "stream",
     "text": [
      "Text: Every Single Active NBA Player Ranked (November 3, 2016). Will Be Updated Weekly\n",
      "Sarcastic probability: 0.0003\n",
      "Text: I've looked it up, and the correct spelling is 'Pascal Cygan'.\n",
      "Sarcastic probability: 0.0003\n",
      "Text: So was Hastert. Oh, wait...\n",
      "Sarcastic probability: 0.0010\n",
      "Text: People regularly ask why it takes so many cops to arrest a person. Thing is, to restrain somebody safely, to minimise the risk of them twisting and breaking something, it takes a few people. It takes numbers to prevent idiots trying to get in on the incident despite having no involvement. Professional agitators, nosy people, \"pranksters\" trying to get involved on film for youtube hits and those that just hate the police, looking to take advantage of a situation whether that be to give a few kicks or put the windows through of the police vehicle. source: cop.\n",
      "Sarcastic probability: 0.9904\n",
      "Text: North Carolina will give you a smoked pork BBQ sandwich and the keys to a V8.\n",
      "Sarcastic probability: 0.0002\n",
      "Text: What happened to the community? :'( Hey everyone! I just decided to start playing this game again after other things (life, other games) took over. I was really excited because I remembered the community around the launch of Early Access to be nice, communicative, and overall helpful. The game felt fun. I used to play a lot of MOBAs, and this was a breath of fresh air. In the four games today (Christmas, of all days) I've had three teammates tell me that I'm \"absolute shit\" and to go \"kill myself\". What happened to this community? It feels like a MOBA community (not quite as bad as LoL, but it's starting to have a familiar feel to me) more than it used to feel just like a bunch of people trying to compete yet still enjoying the competition, even if someone is having a bad game. It makes me hesitant to keep at it, and I was excited about getting back into it. :'(\n",
      "Sarcastic probability: 0.0493\n",
      "Text: Week 7 Positivity Thread Welcome to the weekly Positivity Thread, the thread where the rules are made up and the points don't matter. What's been going well for your team recently? What are you excited or hopeful for in upcoming weeks? This thread is a place for any and all positive thoughts regarding your team or the NFL in general. All good vibes are welcome.\n",
      "Sarcastic probability: 0.0050\n",
      "Text: What's the plan for the weekend, folks? I'm always interested in what other grownup humans do on their Saturdays and Sundays. Tonight is shabbos dinner with the family (beloved wife is making cold spring rolls, the perfect treat in this maddening heat). Tomorrow is Farmers Market for most of the day and probably old timey music playing with friends at night, Sunday is take the skating girl child to roller derby and all hands on deck clean the hell out of the house in the afternoon. Probably mow the goddamn lawn too. Maybe let my you gest kid try to train me up a little in Fallout4. How do you spend your weekends?\n",
      "Sarcastic probability: 0.7133\n",
      "Text: Patrick kane review buying a base card kaner, biggest pros and cons for his play style?\n",
      "Sarcastic probability: 0.0048\n",
      "Text: We've got very big problems ahead. Russia's new super nuke can wipe us out. Prepare for whats to come.\n",
      "Sarcastic probability: 0.0003\n"
     ]
    },
    {
     "name": "stderr",
     "output_type": "stream",
     "text": [
      " 65%|██████▌   | 326/500 [00:07<00:03, 44.94it/s]"
     ]
    },
    {
     "name": "stdout",
     "output_type": "stream",
     "text": [
      "Text: But that could happen just the same with a standard pot because they are held to the same safety standards...\n",
      "Sarcastic probability: 0.0002\n",
      "Text: I'm a fan of Achievement Hunters, and they released a fucking 2 hours and 45 minutes video of them playing Uno. And I'm watching it for the second time right now. What is my life. Also, PRT in Morgantown had what is probably it's first accident due to two cars colliding ever. In 40+ years of service.\n",
      "Sarcastic probability: 0.2785\n",
      "Text: Conservatives hate our freedoms more than the terrorists do. And conservatives are100X more effective at stamping out our freedom and propagating fear than the terrorists could ever dream of.\n",
      "Sarcastic probability: 0.0002\n",
      "Text: Let the trade wars begin! American's will love paying more for most retail goods!\n",
      "Sarcastic probability: 0.0039\n",
      "Text: Wow man you are so epic and random! I'm 14 and this is funny\n",
      "Sarcastic probability: 0.0002\n",
      "Text: You missed the point.\n",
      "Sarcastic probability: 0.0002\n",
      "Text: She doesnt watch porn\n",
      "Sarcastic probability: 0.0402\n",
      "Text: I just want you to know... I appreciate you.\n",
      "Sarcastic probability: 0.0003\n",
      "Text: That's your own hangup. Luckily, Riot caters to anyone with money and the time to play their game.\n",
      "Sarcastic probability: 0.0002\n"
     ]
    },
    {
     "name": "stderr",
     "output_type": "stream",
     "text": [
      " 67%|██████▋   | 336/500 [00:07<00:03, 43.38it/s]"
     ]
    },
    {
     "name": "stdout",
     "output_type": "stream",
     "text": [
      "Text: Yeah how terrible to be in a small dark place with an attractive member of the opposite sex. Phew never sign me up for that one\n",
      "Sarcastic probability: 0.0415\n",
      "Text: Daughter waking up every hour My daughter wake up every hour after 2:30.. she eats quick then goes back to sleep. How can I fix this and what's causing it?\n",
      "Sarcastic probability: 0.0124\n",
      "Text: omg feminists are the most opressed, pls haaaelp\n",
      "Sarcastic probability: 0.0002\n",
      "Text: Have you ever seen Sears catalogs from the 80s? Those fuckers are basically phone book sized\n",
      "Sarcastic probability: 0.9988\n",
      "Text: Should I see Agent Carter S2? It's probably the only thing in the MCU I haven't seen. I saw the first season and liked it. Should I bother with this one?\n",
      "Sarcastic probability: 0.0002\n",
      "Text: This incessant comparing of Trump to Hitler is pure liberalism and has got to stop. It's an insult to the millions that suffered and died under actual fascism.\n",
      "Sarcastic probability: 0.0002\n",
      "Text: The military pay office lost my payroll for 6 months. Thats right, 6 months. No one could find my payroll,so I just wasn't paid. I had to get a part time job as a security guard to live.\n",
      "Sarcastic probability: 0.0002\n",
      "Text: Tulowitzki vs. Andrew Miller (one of the best at-bats of the 2015 season)\n",
      "Sarcastic probability: 0.0003\n",
      "Text: Wccftech blows EVGA issues out of proportion - shares video of a VRM exploding when GPU is not connected to the PSU\n",
      "Sarcastic probability: 0.9730\n"
     ]
    },
    {
     "name": "stderr",
     "output_type": "stream",
     "text": [
      " 69%|██████▉   | 346/500 [00:08<00:03, 42.97it/s]"
     ]
    },
    {
     "name": "stdout",
     "output_type": "stream",
     "text": [
      "Text: Irrelevant. You asked \"could\". I used an example to show that anything (within physical possibilities) can be used as a pillow\n",
      "Sarcastic probability: 0.0004\n",
      "Text: Nov 24th I work 3rd 9pm-7am? I'd assume because of black friday, but will I even be stocking? How does that hour make a difference lol instead of my 10pm-7am I recently had something called Linerusher added to my MC40 too\n",
      "Sarcastic probability: 0.0839\n",
      "Text: Yeah. Especially caused an issue since it's technically a hazmat spill.\n",
      "Sarcastic probability: 0.0002\n",
      "Text: I like this line of thinking, but how does he profit?\n",
      "Sarcastic probability: 0.0002\n",
      "Text: I DONT HAVE TO LET YOU IF I DONT WANT TO\n",
      "Sarcastic probability: 0.0003\n",
      "Text: What piece of old technology do you wish you had?\n",
      "Sarcastic probability: 0.0018\n",
      "Text: You don't need to \"chase\" big girls if ya get what I mean\n",
      "Sarcastic probability: 0.0002\n",
      "Text: One of my friends text messages keeps sending double texts as seen in picture. Has this happen to anyone's LG V20? Anyone have any ideas how to fix it let me know. Thanks\n",
      "Sarcastic probability: 0.0270\n",
      "Text: N\n",
      "Sarcastic probability: 0.0233\n"
     ]
    },
    {
     "name": "stderr",
     "output_type": "stream",
     "text": [
      " 70%|███████   | 351/500 [00:08<00:03, 42.98it/s]"
     ]
    },
    {
     "name": "stdout",
     "output_type": "stream",
     "text": [
      "Text: IMO Juno was the best pull here, she's an amazing nat5! Check AD on guardian level\n",
      "Sarcastic probability: 0.0003\n",
      "Text: The EU should never have existed. I am really glad that it will no longer exist in the next 10 years.\n",
      "Sarcastic probability: 0.0002\n",
      "Text: Kyle was grounded that night.\n",
      "Sarcastic probability: 0.0005\n",
      "Text: COLDZERA wins best eSports player of the year!\n",
      "Sarcastic probability: 0.0003\n",
      "Text: pistol, not grenade. But now I wonder what happens if you do execution with grenade.\n",
      "Sarcastic probability: 0.0003\n",
      "Text: Dad found kids bong while he was away at college.\n",
      "Sarcastic probability: 0.0002\n",
      "Text: There is one MOM site that lists a bunch of rules, and if you violate any of those rules they will refuse to do business with you. Some of them include contacting CP, emailing the MOM more than once for info and even a rule where they won't do business with you if your email or user name is cannabis related. Funny thing this MOM has been around for almost ten years and they have never had a problem. More MOM's need to adopt this attitude when dealing with customers, there are too many people who have no clue how to do business in a hush hush way and they are the idiots who are risking this system for those of us who do things quietly and correctly.\n",
      "Sarcastic probability: 0.0003\n",
      "Text: Lockheed Martin shares drop after Trump says F-35 program too expensive\n",
      "Sarcastic probability: 0.3039\n",
      "Text: BREAKING: COMEY RECOMMENDS NO ACTION ON THE NEW EMAILS\n",
      "Sarcastic probability: 0.9996\n"
     ]
    },
    {
     "name": "stderr",
     "output_type": "stream",
     "text": [
      " 72%|███████▏  | 361/500 [00:08<00:03, 43.39it/s]"
     ]
    },
    {
     "name": "stdout",
     "output_type": "stream",
     "text": [
      "Text: It's impressive. I don't understand how his aggressive mediocrity has been tolerated for so long. Washington is a good school with a history of quality sports teams. Why should they have to settle for Romar?\n",
      "Sarcastic probability: 0.0002\n",
      "Text: Not really. I don't kick people for using DLC unlockers. As long as they're not cheating, what do I care? It's not harming my gameplay for them to use weapons and perks and masks.\n",
      "Sarcastic probability: 0.0002\n",
      "Text: Next expansion, new legendary \"Yuge\", battlecry: your opponent has 2 less mana next turn, deathrattle: add a random Murloc to your hand (he's not against the Murlocs, he has a good friend who happens to be a Murloc)\n",
      "Sarcastic probability: 0.0004\n",
      "Text: Here, kitty kitty\n",
      "Sarcastic probability: 0.0019\n",
      "Text: Ballot measures would legalize pot, end death penalty, create single-payer health care\n",
      "Sarcastic probability: 0.0002\n",
      "Text: Man, remember when the Civil War was taught as a tragedy of brother vs brother? Pepperidge Farm remembers.\n",
      "Sarcastic probability: 0.9605\n",
      "Text: If you just heard a gun shot real close to your house in the middle of the afternoon, what would be your first thought?\n",
      "Sarcastic probability: 0.0003\n",
      "Text: The year is about to end, which manga would you like to get an anime in 2017? **What the title says.** [](#mug5)\n",
      "Sarcastic probability: 0.0005\n",
      "Text: Reddit, what shall we do with the drunken sailor?\n",
      "Sarcastic probability: 0.0398\n",
      "Text: Brad Pitt's wife's head.\n",
      "Sarcastic probability: 0.0005\n"
     ]
    },
    {
     "name": "stderr",
     "output_type": "stream",
     "text": [
      " 74%|███████▍  | 371/500 [00:08<00:02, 43.73it/s]"
     ]
    },
    {
     "name": "stdout",
     "output_type": "stream",
     "text": [
      "Text: Except for the quit button disappearing when you want to leave the lobby, ironically.\n",
      "Sarcastic probability: 0.0004\n",
      "Text: Netanyahu doesn't speak for all of Israel, despite his pretenses to. Or even all of the Jews.\n",
      "Sarcastic probability: 0.0006\n",
      "Text: Why did SA have to kill the Wololo meme\n",
      "Sarcastic probability: 0.0002\n",
      "Text: I'll give all that stuff back to one of your toons and switch mine get stuff again and rss to your toon\n",
      "Sarcastic probability: 0.0004\n",
      "Text: The build seems right. With those specs you would be looking at maxing out almost all games on 1080p. What country do you live in/\n",
      "Sarcastic probability: 0.0004\n",
      "Text: And even a prominent democrat defended him.\n",
      "Sarcastic probability: 0.0002\n",
      "Text: Yet another zombie defense\n",
      "Sarcastic probability: 0.0028\n",
      "Text: Why not? I thought the first winner was perfectly legitimate. There is no rule that people have to be in combat if there were no one would complain. I see no problem with it at all, he was smart enough to find a way to be the last person alive, which jagex has stated many times is the objective.\n",
      "Sarcastic probability: 0.0002\n",
      "Text: Trump up six points in Utah!! THE CUCKS TOLD ME UTAH REPUBLICANS WERE REVOLTING\n",
      "Sarcastic probability: 0.0002\n"
     ]
    },
    {
     "name": "stderr",
     "output_type": "stream",
     "text": [
      " 76%|███████▌  | 381/500 [00:08<00:02, 42.86it/s]"
     ]
    },
    {
     "name": "stdout",
     "output_type": "stream",
     "text": [
      "Text: Premium Elite?\n",
      "Sarcastic probability: 0.0003\n",
      "Text: Cat.\n",
      "Sarcastic probability: 0.0442\n",
      "Text: Its not politically correct to say, and im sure there are groups who will outright deny it and call me racist, but i believe we are looking an humans of 50, 000 years ago. Peoples of these regions just carried on in the same way for thousands of years.\n",
      "Sarcastic probability: 0.0005\n",
      "Text: they might as well have been released then\n",
      "Sarcastic probability: 0.6544\n",
      "Text: Redditors who have met a previous crush years later, how did it turn out?\n",
      "Sarcastic probability: 0.0003\n",
      "Text: Is it any good? It's been on my wish list for the longest time and haven't made the leap to buy it.\n",
      "Sarcastic probability: 0.0003\n",
      "Text: That's what you think.\n",
      "Sarcastic probability: 0.0002\n",
      "Text: I can see you are trying as hard as you can AND it's not meeting my requirements.\n",
      "Sarcastic probability: 0.0002\n",
      "Text: Valve has been shitposting with updates for a while. See: the clusterfuck that is Casual and the update that introduced it.\n",
      "Sarcastic probability: 0.0017\n"
     ]
    },
    {
     "name": "stderr",
     "output_type": "stream",
     "text": [
      " 78%|███████▊  | 391/500 [00:09<00:02, 44.74it/s]"
     ]
    },
    {
     "name": "stdout",
     "output_type": "stream",
     "text": [
      "Text: NY Times: \"A jet-lagged Mrs. Clinton once emailed Ms. Abedin at 12:21 a.m. to take her up on an offer to come over to Mrs. Clinton's house for a chat. 'Just knock on the door to the bedroom if it's closed,' she wrote.\"\n",
      "Sarcastic probability: 0.9258\n",
      "Text: I'm with NYJ on this one. Totally owned you. What does it feel like because its never happened to me?\n",
      "Sarcastic probability: 0.0002\n",
      "Text: I live in the middle of nowhere and I wouldn't have difficulty finding diesel.\n",
      "Sarcastic probability: 0.0002\n",
      "Text: I refuse to accept the outcome of this WC if a Western Team doesn't win.\n",
      "Sarcastic probability: 0.0002\n",
      "Text: F\n",
      "Sarcastic probability: 0.0049\n",
      "Text: What is something that people complain about that makes you roll your eyes?\n",
      "Sarcastic probability: 0.0006\n",
      "Text: Lebron James becomes the FIRST ever player in NBA history to achieve totals of 27,000 points, 7,000 rebounds and 7,000 assists! #TheUltimateLeBron\n",
      "Sarcastic probability: 0.0002\n",
      "Text: Thanks, can you take a look on desktop pc too?\n",
      "Sarcastic probability: 0.0006\n",
      "Text: What is healthy but actually tastes good?\n",
      "Sarcastic probability: 0.0009\n",
      "Text: My roommate would routinely take out the bateries in the smoke detector because it always went off when we cooked bacon. After the third time I saw him do it, I told him not to do that shit ever again and to just turn the fan on over the stove and shut the kitchen door. He pissed an moaned like crazy. About 2 months later he had a candle burning in his room with the window open. The wind blew a sombrero off the wall and onto the candle. It caught some clothing and part of the bed and the room started to go. It triggered the smoke alarm and I was able to get to it with an extinguisher before the room was fully involved. If that had happened and we didn't have batteries in that smoke alarm, the entire building would have been a loss. The best part? He was pissed at me for getting \"fire extinguisher dust\" all over his room. Ironically, he was kicked out because he caused flood damage a few months later.\n",
      "Sarcastic probability: 0.0028\n"
     ]
    },
    {
     "name": "stderr",
     "output_type": "stream",
     "text": [
      " 80%|████████  | 402/500 [00:09<00:02, 47.48it/s]"
     ]
    },
    {
     "name": "stdout",
     "output_type": "stream",
     "text": [
      "Text: omw\n",
      "Sarcastic probability: 0.0002\n",
      "Text: Does Trump Tower have a helipad? He could just fly off and not mess up traffic for everyone.\n",
      "Sarcastic probability: 0.0002\n",
      "Text: I love that ult so much. You've convinced me to go back and try him out more!\n",
      "Sarcastic probability: 0.0002\n",
      "Text: What you'll need is an electric vehicle and a rocket to get it there. I suggest you talk to Elon Musk.\n",
      "Sarcastic probability: 0.0002\n",
      "Text: Very thoughtful post. Thank you Queef Pudding.\n",
      "Sarcastic probability: 0.0003\n",
      "Text: A Moment in Crime just reached 100%\n",
      "Sarcastic probability: 0.0002\n",
      "Text: Get free tours?\n",
      "Sarcastic probability: 0.0003\n",
      "Text: PEAKE\n",
      "Sarcastic probability: 0.0544\n",
      "Text: I remember doing this with fruit rollups' and warheads just sucking on the rollup until I got that sour juice.\n",
      "Sarcastic probability: 0.0002\n",
      "Text: Most of the problems that happen between two people is because one of them is a fucking idiot.\n",
      "Sarcastic probability: 0.9953\n"
     ]
    },
    {
     "name": "stderr",
     "output_type": "stream",
     "text": [
      " 82%|████████▏ | 412/500 [00:09<00:01, 44.91it/s]"
     ]
    },
    {
     "name": "stdout",
     "output_type": "stream",
     "text": [
      "Text: Time will tell. Kind of presumptuous with all the fear mongering going on about it now. We were told the same thing with Bush. The UK will implode after Brexit. Etc, etc. Let's see what happens. Guarantee it's not going to be drastically different than it already is, I'll be able to say 'told you so', and you'll continue with the rhetoric. Has Canada changed from Harper to Trudeau? Nope. Did the US change from Bush to Obama? (shit, it was even the guys slogan) Nopeee. All different names for the same thing man. Take a chill pill and watch what happens. More of the same.\n",
      "Sarcastic probability: 0.3946\n",
      "Text: **For those who got cut off, if you have verizon you might be able to watch on nfl mobile**\n",
      "Sarcastic probability: 0.0588\n",
      "Text: ... mikrotik ? Maybe arista, I'm not familiar with their productline. Yeah there is nothing except fiber stuff that Juniper would gain from it, I guess VCS is pretty nice but that's about it\n",
      "Sarcastic probability: 0.0044\n",
      "Text: Mc Cree or Genji golden weapon ? What's YOUR personal preference and which of the two do you think is the hardest to play at a high level?\n",
      "Sarcastic probability: 0.0002\n",
      "Text: Get up on the wrong side of bed this morning? I disagree with quota hiring because every hire should be made on the basis of merit at the time of appointment. So yes, it may be that quotas do lead to some women being hired to positions for which they are not the best-qualified candidate. But even that is just supposition. And it doesn't mean there are no talented women (really?); just that by-and-large women and men tend to have slightly different talents and inclinations. What we need is equality of opportunity, and a willingness not to stereotype on the basis of aggregate behaviours, rather than equality of outcome. By far my best ever boss was a woman: calm, collected, fair, highly-competent, and treated everyone with respect. There are lots of good, intelligent women out there doing good work. And women are not the enemy. We'll just end up as warped and bitter as feminists if we go down that path.\n",
      "Sarcastic probability: 0.0002\n",
      "Text: Report: Trump pressed Argentina's president about stalled building project on phone call\n",
      "Sarcastic probability: 0.0695\n",
      "Text: People that makes these are a bit retarded. The standard of living in America is one of the highest. Even our poor live better lives than most of the third world rich. No one is going to riot or stage huge protests as long as they have food and can take care of their family. It's not hard to protest when your already unemployment and you have nothing else to loose.\n",
      "Sarcastic probability: 0.0002\n",
      "Text: BREAKING: Trump outfoxes CNN and gets veterans free airtime. CNN rages and claims they \"got played.\" BTFO LMFAO\n",
      "Sarcastic probability: 0.9899\n",
      "Text: See Glenn Beck's show. Basically pivoted towards a \"Trumps going to ruin the world, buy gold.\"\n",
      "Sarcastic probability: 0.0002\n"
     ]
    },
    {
     "name": "stderr",
     "output_type": "stream",
     "text": [
      " 83%|████████▎ | 417/500 [00:09<00:01, 44.22it/s]"
     ]
    },
    {
     "name": "stdout",
     "output_type": "stream",
     "text": [
      "Text: get supreme ones pleb\n",
      "Sarcastic probability: 0.0003\n",
      "Text: In that PvP covenant, you rank up by getting points. A win in the arena gains you one point, while a loss makes you lose a point. When you rank up in the covenant, you gain that aura; the aura grows as you climb ranks. For reference, rank one requires 50 points, two requires 150 points, while three requires 500 points.\n",
      "Sarcastic probability: 0.0002\n",
      "Text: Do you Agree that this version is The BEST Version of x6 MR.O Phil Heath ?\n",
      "Sarcastic probability: 0.0004\n",
      "Text: Odyssey Collection Bonuses are Exclusive. Only the Anubis T5 reward is limited.\n",
      "Sarcastic probability: 0.0002\n",
      "Text: Eugenics seems to have some support on Reddit, but anywhere else... I don't particularly see anyone outside of Reddit supporting it.\n",
      "Sarcastic probability: 0.8470\n",
      "Text: by the way do you know in how many hours the announcement is supposed to be held? ( easier than converting the time ). also, sorry for double posting.\n",
      "Sarcastic probability: 0.0004\n",
      "Text: Literally unplayable\n",
      "Sarcastic probability: 0.0003\n",
      "Text: Favorite Host?\n",
      "Sarcastic probability: 0.0095\n",
      "Text: Dog smoked a blunt dipped in codeine, the cat mainlined Fentanyl straight into his nut sack.\n",
      "Sarcastic probability: 0.0002\n"
     ]
    },
    {
     "name": "stderr",
     "output_type": "stream",
     "text": [
      " 85%|████████▌ | 427/500 [00:09<00:01, 43.68it/s]"
     ]
    },
    {
     "name": "stdout",
     "output_type": "stream",
     "text": [
      "Text: I think the way the hips are shaped it makes it easier to slide yourself legs first but not slide back out the same way.\n",
      "Sarcastic probability: 0.0002\n",
      "Text: Daniel Bryan calls out Mick Foley's hypocrisy, mentions TNA\n",
      "Sarcastic probability: 0.0003\n",
      "Text: If you could vote for one redditor to represent Reddit, who would you vote for and why?\n",
      "Sarcastic probability: 0.0002\n",
      "Text: I think he looks depressed.\n",
      "Sarcastic probability: 0.0003\n",
      "Text: America rewards white people for the most basic things\n",
      "Sarcastic probability: 0.9874\n",
      "Text: It's true. We call this place [redacted] now, because we were accused of brigading. It was the only option to avoid being silenced.\n",
      "Sarcastic probability: 0.0002\n",
      "Text: ESPN Standard Eifert vs NYG or Pitta vs CLE\n",
      "Sarcastic probability: 0.0002\n",
      "Text: Trump campaign manager: 'Are you calling him a liar?'\n",
      "Sarcastic probability: 0.9847\n",
      "Text: Courage the Cowardly Dog was disturbing at times\n",
      "Sarcastic probability: 0.0026\n"
     ]
    },
    {
     "name": "stderr",
     "output_type": "stream",
     "text": [
      " 87%|████████▋ | 437/500 [00:10<00:01, 43.11it/s]"
     ]
    },
    {
     "name": "stdout",
     "output_type": "stream",
     "text": [
      "Text: He's fried from all the drugs he's done\n",
      "Sarcastic probability: 0.0006\n",
      "Text: Front page post with 2000 comments and is 10 hours old. Redditors IRL.\n",
      "Sarcastic probability: 0.0002\n",
      "Text: Which anime character as grown as a person in a way that YOU need to grow as well?\n",
      "Sarcastic probability: 0.0150\n",
      "Text: Smile for me once more, Will you? Go on and live, dance, rejoice, for whether you knew me or not, it is impolite to reject such an offer, especially from a man who can no longer do so.\n",
      "Sarcastic probability: 0.0003\n",
      "Text: My red hat finally came. Do I dare wear it outside in California???\n",
      "Sarcastic probability: 0.0004\n",
      "Text: **A DOVAHKIN'S FANTASY**\n",
      "Sarcastic probability: 0.0002\n",
      "Text: What the fuck happened to material design?\n",
      "Sarcastic probability: 0.9734\n",
      "Text: In honor of AI's induction, here is him and Korver doing work against the Spurs. Check out 2:50 for a nifty circus shot from Korver and 5:58 for a post-up!\n",
      "Sarcastic probability: 0.0002\n",
      "Text: What if you could pick a deck for the innkeeper? I've often created fun and interesting decks for non-competitive play. I like to try strange decks just to see if I can get them to work. I think it's fun and it's one of the ways I have found to alleviate frustration when grinding ladder. A problem, though, is that I'll make a funky pirate shaman deck or a rogue deck with only two minions, etc. and want to just dick around and have fun with it. I'll go into casual and lose to aggro shaman or control Mage enough times that I feel like I should be playing a ranked deck to have a little more fun, and I'm back to grinding ladder. This brings me to my point. You can choose the class you play against in practice mode, letting you see how your deck fares in certain match ups. I think it would be fun and innovating to be able to choose a deck for the innkeeper to play against you. This could have practical benefits (like a mirror match to test out changes in a ranked deck) or it could be really fun (giving the innkeeper a golden Milhouse Manastorm). It could even be used to mess with deck interplay (thief rogue against a stacked deck). What do you guys think?\n",
      "Sarcastic probability: 0.0004\n"
     ]
    },
    {
     "name": "stderr",
     "output_type": "stream",
     "text": [
      " 89%|████████▉ | 447/500 [00:10<00:01, 42.84it/s]"
     ]
    },
    {
     "name": "stdout",
     "output_type": "stream",
     "text": [
      "Text: No, that is completely wrong: the American people have a right to know if their president has conflicts, has paid taxes, has given to charity. We have an absolute right to know, and to not demand it is to leave yourself open for corruption: why do you think it became tradition to release your tax returns in the first place?\n",
      "Sarcastic probability: 0.0012\n",
      "Text: Yes it's my responsibility to vote. But it's not my responsibility to reward a candidate who feels they're entitled to my vote.\n",
      "Sarcastic probability: 0.0002\n",
      "Text: I listened to him for the first time today because of all this. Can't say it's my thing, but I found his stuff interesting (especially that 'Wolves' song or whatever it was. It sounded pretty personal, considering the little I knew of him before).\n",
      "Sarcastic probability: 0.0003\n",
      "Text: So only liberals traffic kids huh? LOL!\n",
      "Sarcastic probability: 0.0346\n",
      "Text: Huma feigns ignorance, deflects blame to her Weiner\n",
      "Sarcastic probability: 0.1701\n",
      "Text: I'm hoping they play him kind of like Nuge in his rookie year. Sheltered minutes and extra powerplay time to get his confidence up. Of course nuge produced very well on the powerplay which earned him the right to stay there.\n",
      "Sarcastic probability: 0.0026\n",
      "Text: There's a very cute girl who gets the same bus as me that I want to talk to, but as I'm short and overweight, she'd probably just call me a creep if I said anything to her. But apart from that I am in the process of losing weight (60 pounds lost being the goal), 20 pounds lost so far. I do it primarily through calorie counting. It can be a bit tough but so far so good.\n",
      "Sarcastic probability: 0.0002\n",
      "Text: He's talking about Silicon Valley.\n",
      "Sarcastic probability: 0.0003\n",
      "Text: 'Serial,' 'Lore,' 'Still Processing,' and More: The Atlantic's 50 Best Podcasts of 2016\n",
      "Sarcastic probability: 0.0002\n"
     ]
    },
    {
     "name": "stderr",
     "output_type": "stream",
     "text": [
      " 91%|█████████▏| 457/500 [00:10<00:00, 44.00it/s]"
     ]
    },
    {
     "name": "stdout",
     "output_type": "stream",
     "text": [
      "Text: That person has told me before that they are Australian and not a white supremacist. Who knows if that's true.\n",
      "Sarcastic probability: 0.0084\n",
      "Text: Nothing is better.\n",
      "Sarcastic probability: 0.0002\n",
      "Text: Every time I've seen a random price like that it's been a fake ad. Ought that they added the bit about the ladder rack and work bins, though. That doesn't fit the typical fake ad formula.\n",
      "Sarcastic probability: 0.0007\n",
      "Text: Most likely it was put there, to stir up hatred, and increase the catoliana nationalist theme. As they are seeking independence. While using the reason \"to start a conversion\" wich really is just bullshit.\n",
      "Sarcastic probability: 0.0002\n",
      "Text: Running out of TP.\n",
      "Sarcastic probability: 0.0002\n",
      "Text: Yahoo is one of those pathetic tech companies that haven't been affecting my life in any way for at least 10 years\n",
      "Sarcastic probability: 0.0006\n",
      "Text: Do you think IB/AP classes are truly worth it? Why or why not?\n",
      "Sarcastic probability: 0.0002\n",
      "Text: Psycho cat lady assaults boyfriend for not paying attention to her\n",
      "Sarcastic probability: 0.8205\n",
      "Text: Is that a hat in TF2?\n",
      "Sarcastic probability: 0.0003\n",
      "Text: Council got good news on the budget today (goes over Seattle economy)\n",
      "Sarcastic probability: 0.0002\n"
     ]
    },
    {
     "name": "stderr",
     "output_type": "stream",
     "text": [
      " 93%|█████████▎| 467/500 [00:10<00:00, 45.14it/s]"
     ]
    },
    {
     "name": "stdout",
     "output_type": "stream",
     "text": [
      "Text: Nanoboosted, fully charged Zarya is insane. (My first Sextuple kill!)\n",
      "Sarcastic probability: 0.0002\n",
      "Text: what YOU think and what's real are 2 entirely different things.\n",
      "Sarcastic probability: 0.0002\n",
      "Text: \"Did Hillary Clinton break the law?\" Chaffetz asked. \"In connection with her use of the email server? My judgment is that she did not,\" Comey said.\n",
      "Sarcastic probability: 0.0359\n",
      "Text: yea tarik asked his chat yesterday if he could sue pewdiepie because he didnt have permission to put his face on the video but idk if he his joking or not lol\n",
      "Sarcastic probability: 0.0246\n",
      "Text: Florida man walks out of his house with a semi-automatic rifle and a four-pack of beer and begins shooting at passing cars\n",
      "Sarcastic probability: 0.0003\n",
      "Text: The overlooked bonus of the Special Olympics in Rio.\n",
      "Sarcastic probability: 0.0002\n",
      "Text: I'm hosting a victory party on Tuesday night. Looking for good ideas of themed foods to serve. So far we've got: * Rock candy (broken glass ceiling) * Spinach and art-of-the-choke dip * basket of dip-lorables (chips) * America (the beer formerly known as Budweiser) * Good beer (because Budweiser sucks) Other ideas? Swing state foods? Brownies for Colorado? Soft pretzels for PA?\n",
      "Sarcastic probability: 0.0002\n",
      "Text: I was worried about my usage of heart emojis too, but I scrolled down and these comments are comforting me.\n",
      "Sarcastic probability: 0.0002\n",
      "Text: What would it take to get Onward to look like this??!\n",
      "Sarcastic probability: 0.0044\n",
      "Text: I forgot how fantastic this video is.\n",
      "Sarcastic probability: 0.0002\n"
     ]
    },
    {
     "name": "stderr",
     "output_type": "stream",
     "text": [
      " 95%|█████████▌| 477/500 [00:10<00:00, 44.13it/s]"
     ]
    },
    {
     "name": "stdout",
     "output_type": "stream",
     "text": [
      "Text: That's actually kind of neat. Must be annoying to maintain though.\n",
      "Sarcastic probability: 0.0589\n",
      "Text: Which character had the worst hairstyle?\n",
      "Sarcastic probability: 0.0141\n",
      "Text: you should be aware of the heavy factionalism in the left. There are lot of different schools of thought, some of them really don't like each other.\n",
      "Sarcastic probability: 0.0002\n",
      "Text: Jesus Christ what's it going to take until we put a stop to it\n",
      "Sarcastic probability: 0.9884\n",
      "Text: That will never be determined because the inquiry is not going to look at reserves.\n",
      "Sarcastic probability: 0.0002\n",
      "Text: LIVE: 2nd Presidential Debate from Washington University in St. Louis\n",
      "Sarcastic probability: 0.0002\n",
      "Text: That requires holding players accountable. Gus Bradley doesn't do that. He started Chris Clemons last year for all 16 games, despite the fact that he: - Missed OTAs and showed up late to training camp - Practiced once a week - Was garbage on the field - Called our beat reporter a racist Other players are going to start coming out. This is only the beginning of a dumpster fire unfolding right before our very eyes.\n",
      "Sarcastic probability: 0.0023\n",
      "Text: Seems something happened to Clevinger, he was scheduled to speak at 5\n",
      "Sarcastic probability: 0.0059\n",
      "Text: there were cucks against bush in 2000 and 2004 (i don't like bush, btw). they threw eggs at bush's limo in 2004 i think. relax all of you people and just trust the USSS and these bikers to keep the peace there\n",
      "Sarcastic probability: 0.0003\n"
     ]
    },
    {
     "name": "stderr",
     "output_type": "stream",
     "text": [
      " 96%|█████████▋| 482/500 [00:11<00:00, 43.58it/s]"
     ]
    },
    {
     "name": "stdout",
     "output_type": "stream",
     "text": [
      "Text: Burried in a grave filled with chinese money and hunnies, next to Dade.\n",
      "Sarcastic probability: 0.0003\n",
      "Text: When No Game No Life S2 comes out\n",
      "Sarcastic probability: 0.0037\n",
      "Text: To be fair, anyone you have to nag for a rent payment should find somewhere else to live.\n",
      "Sarcastic probability: 0.0003\n",
      "Text: I have tested bringing this third spell into the mix, however I would personally not recommend it. There is specific timing required for the spin flax spell, and adding another strange timing factor into it does increase xp/hr, but only by about ~6% and decreases the already lowish profit you make from spin flax + tan leather method.\n",
      "Sarcastic probability: 0.0004\n",
      "Text: glad i left that shit hole\n",
      "Sarcastic probability: 0.9986\n",
      "Text: Did i say only?\n",
      "Sarcastic probability: 0.0036\n",
      "Text: What was the other one?\n",
      "Sarcastic probability: 0.0159\n",
      "Text: I hope they scrap Murphy after this season though. He serves no real purpose after Escobar. Would have been better if Carillo was around as one of the main protagonists to take on the Cali Cartel.\n",
      "Sarcastic probability: 0.0012\n",
      "Text: I just wish they added it as a part of FNM rather than a separate day. I have enough trouble getting out for one night of magic a week. Also, what times do your guys' stores do the event? Because my store thought it was a decent idea at 2pm...\n",
      "Sarcastic probability: 0.0145\n"
     ]
    },
    {
     "name": "stderr",
     "output_type": "stream",
     "text": [
      " 98%|█████████▊| 492/500 [00:11<00:00, 43.26it/s]"
     ]
    },
    {
     "name": "stdout",
     "output_type": "stream",
     "text": [
      "Text: yeah that guy won't recover for a while...\n",
      "Sarcastic probability: 0.9996\n",
      "Text: I saw it described once that \"boys are for fun, women are for babies.\" You can also s/boys/goats/ and it's probably still true.\n",
      "Sarcastic probability: 0.0047\n",
      "Text: What are you guys talking a boat?\n",
      "Sarcastic probability: 0.0044\n",
      "Text: being forced to watch a hitlery speech is cruel and unusual punishment. time to lawyer up.\n",
      "Sarcastic probability: 0.0002\n",
      "Text: He doesn't think you can roast him.\n",
      "Sarcastic probability: 0.0007\n",
      "Text: It's also a neighborhood in San Diego, and a beach in San Francisco.\n",
      "Sarcastic probability: 0.0002\n",
      "Text: yep, yak9ut also has 3 loadouts for guns. 2x20 and 23, 2x20 and 37, 2x20 and 45. or was it the yak9p?\n",
      "Sarcastic probability: 0.0009\n",
      "Text: To be honest, I don't know. But I do know the Director of the FBI should know how.\n",
      "Sarcastic probability: 0.0002\n",
      "Text: For 3 Years I've Been Playing On A Laptop - What Have I Missed Today was a good day. I've been playing solely PC for 3 years, running integrated graphics and an I3. It overheats, runs CS at less than 60 frames. Let's just say, I've missed a lot when it comes to gaming. Now I've Ascended - a beautiful machine with an I7 and 1080 - what have I missed? What games have beautiful graphics? What story have I not played because my computer couldn't handle it? **Psst - I'm asking for you to recommend games!**\n",
      "Sarcastic probability: 0.0011\n"
     ]
    },
    {
     "name": "stderr",
     "output_type": "stream",
     "text": [
      "100%|██████████| 500/500 [00:11<00:00, 43.38it/s]"
     ]
    },
    {
     "name": "stdout",
     "output_type": "stream",
     "text": [
      "Text: Who got what from the steam sale? I'll start: * Doom * Witcher 3 * Xcom 2 * Shadow of Mordor * Mortal Kombat x * Portal 2 * Divinity Org Sin * Shadowrun Returns * FTL I recon I'm set for a while. Trouble is I've started with FTL and I'm hooked!\n",
      "Sarcastic probability: 0.0003\n",
      "Text: Can we have a \"Sorry\" in the context menu or a hotkey? I often do mistakes and I want to apologise to my team for when I do something dumb. Please Blizzard, this is my one request!\n",
      "Sarcastic probability: 0.0003\n",
      "Text: It doesn't bother me actually. Its a non-issue for consumers, but still weird that they chose to market it. Wonder why.\n",
      "Sarcastic probability: 0.0002\n",
      "Text: The shuttle orbiter is 37 meters long, so the spaceX Mars vehicle is about three times as long and many more times as massive\n",
      "Sarcastic probability: 0.0002\n",
      "Text: System requirements always tend to be estimates.\n",
      "Sarcastic probability: 0.0007\n",
      "               precision    recall  f1-score   support\n",
      "\n",
      "Not Sarcastic       0.95      0.92      0.94       474\n",
      "    Sarcastic       0.12      0.19      0.15        26\n",
      "\n",
      "     accuracy                           0.88       500\n",
      "    macro avg       0.54      0.56      0.54       500\n",
      " weighted avg       0.91      0.88      0.90       500\n",
      "\n"
     ]
    },
    {
     "name": "stderr",
     "output_type": "stream",
     "text": [
      "\n"
     ]
    }
   ],
   "source": [
    "import pandas as pd\n",
    "from transformers import AutoTokenizer, AutoModelForSequenceClassification\n",
    "from sklearn.metrics import classification_report\n",
    "from scipy.special import softmax\n",
    "import torch\n",
    "from tqdm import tqdm\n",
    "\n",
    "# ✅ Step 1: Load the sarcasm dataset (TSV format)\n",
    "df = pd.read_csv(\"train-balanced-sarc.csv\", sep=\"\\t\", header=None, on_bad_lines=\"skip\")\n",
    "df.columns = [\"label\", \"author\", \"subreddit\", \"score\", \"parent\", \"comment_id\", \"id\", \"created_utc\", \"context\", \"text\"]\n",
    "\n",
    "\n",
    "df = df.dropna()\n",
    "df = df[:500]\n",
    "\n",
    "print(df['label'])\n",
    "# ✅ Step 3: Load pretrained sarcasm classifier (TensorFlow weights → PyTorch)\n",
    "model_name = \"mrm8488/distilbert-finetuned-sarcasm-classification\"\n",
    "tokenizer = AutoTokenizer.from_pretrained(model_name)\n",
    "model = AutoModelForSequenceClassification.from_pretrained(model_name, from_tf=True)\n",
    "\n",
    "device = torch.device(\"cuda\" if torch.cuda.is_available() else \"cpu\")\n",
    "model.to(device)\n",
    "model.eval()\n",
    "\n",
    "# ✅ Step 4: Inference loop\n",
    "all_preds, all_labels = [], []\n",
    "\n",
    "for _, row in tqdm(df.iterrows(), total=len(df)):\n",
    "    text = str(row[\"text\"])  # ✅ Force it to be string\n",
    "    label = int(row[\"label\"])\n",
    "\n",
    "    inputs = tokenizer(text, return_tensors=\"pt\", truncation=True, padding=\"max_length\", max_length=128).to(device)\n",
    "    with torch.no_grad():\n",
    "        logits = model(**inputs).logits\n",
    "        probs = softmax(logits.cpu().numpy(), axis=1)\n",
    "        pred = probs.argmax(axis=1).item()\n",
    "    text = str(row[\"text\"])\n",
    "\n",
    "    print(f\"Text: {text}\")\n",
    "    print(f\"Sarcastic probability: {probs[0][1]:.4f}\")\n",
    "\n",
    "\n",
    "    all_preds.append(pred)\n",
    "    all_labels.append(label)\n",
    "\n",
    "\n",
    "# ✅ Step 5: Evaluation\n",
    "print(classification_report(all_labels, all_preds, target_names=[\"Not Sarcastic\", \"Sarcastic\"]))\n"
   ]
  },
  {
   "cell_type": "code",
   "execution_count": 4,
   "metadata": {},
   "outputs": [
    {
     "name": "stderr",
     "output_type": "stream",
     "text": [
      "  1%|          | 5/500 [00:00<00:23, 21.35it/s]"
     ]
    },
    {
     "name": "stdout",
     "output_type": "stream",
     "text": [
      "Text: Yeah, I get that argument. At this point, I'd prefer is she lived in NC as well.\n",
      "Model output: [[0.97111964 0.02888036]]\n",
      "Predicted label: Not Sarcastic\n",
      "\n",
      "Text: The blazers and Mavericks (The wests 5 and 6 seed) did not even carry a good enough record to make the playoffs in the east last year.\n",
      "Model output: [[0.98927873 0.01072126]]\n",
      "Predicted label: Not Sarcastic\n",
      "\n",
      "Text: They're favored to win.\n",
      "Model output: [[0.9909279  0.00907205]]\n",
      "Predicted label: Not Sarcastic\n",
      "\n",
      "Text: deadass don't kill my buzz\n",
      "Model output: [[0.44531098 0.55468905]]\n",
      "Predicted label: Sarcastic\n",
      "\n",
      "Text: Yep can confirm I saw the tool they use for that. It was made by our boy EASports_MUT\n",
      "Model output: [[0.6506572  0.34934285]]\n",
      "Predicted label: Not Sarcastic\n",
      "\n"
     ]
    },
    {
     "name": "stderr",
     "output_type": "stream",
     "text": [
      "  2%|▏         | 11/500 [00:00<00:20, 23.61it/s]"
     ]
    },
    {
     "name": "stdout",
     "output_type": "stream",
     "text": [
      "Text: do you find ariana grande sexy ?\n",
      "Model output: [[0.9942726  0.00572748]]\n",
      "Predicted label: Not Sarcastic\n",
      "\n",
      "Text: What's your weird or unsettling Trick or Treat story?\n",
      "Model output: [[0.99047476 0.0095253 ]]\n",
      "Predicted label: Not Sarcastic\n",
      "\n",
      "Text: Probably Sephiroth. I refuse to taint his greatness with *my* weak builds. He should equip *ONLY* the best TMs.\n",
      "Model output: [[0.87580544 0.12419463]]\n",
      "Predicted label: Not Sarcastic\n",
      "\n",
      "Text: What to upgrade? I have $500 to spend (mainly because it's my birthday on the 31st) and I'm not really sure what to upgrade. I don't have to spend all $500, I could spend as little or all of it if I want. Specs are: CPU: i5-6600K Cooler: CM 212 EVO RAM: 8GB Corsair Vengence LPX 2400MHz GPU: EVGA GTX 1070 SC Case: Corsair Spec Alpha PSU: EVGA P2 650w Storage: One 480 GB Corsair Force LE Monitor: BenQ XL2411Z Keyboard: Razer Blackwidow Tournament Edition What I'm thinking of right now is: -Get a 1TB WD Blue -Buy another 8GB of RAM -Replace my Razer Blackwidow with a keyboard with actual Cherry MX switches -Replace my case (Doesn't really offer features for good cable management) -Save up for a Volta Card\n",
      "Model output: [[0.98300606 0.01699399]]\n",
      "Predicted label: Not Sarcastic\n",
      "\n",
      "Text: Probably count Kanye out Since the rest of his tour is canceled, it doesn't seem in the cards. But he's also so unpredictable, it could change. Thankfully I saw him before he started canceling shows, going on long rants and showing up late. But I'd love to see him again, especially at Lolla. Thoughts?\n",
      "Model output: [[0.9920183  0.00798169]]\n",
      "Predicted label: Not Sarcastic\n",
      "\n",
      "Text: I bet if that money was poured into college debt or health debt relief, 81% of Americans would have been for it instead.\n",
      "Model output: [[0.97448945 0.02551048]]\n",
      "Predicted label: Not Sarcastic\n",
      "\n"
     ]
    },
    {
     "name": "stderr",
     "output_type": "stream",
     "text": [
      "  3%|▎         | 17/500 [00:00<00:19, 24.23it/s]"
     ]
    },
    {
     "name": "stdout",
     "output_type": "stream",
     "text": [
      "Text: James Shields Will Not Exercise Opt-Out Clause\n",
      "Model output: [[0.95166856 0.04833142]]\n",
      "Predicted label: Not Sarcastic\n",
      "\n",
      "Text: There's no time to worry about leaks when they gays are already out to get you.\n",
      "Model output: [[0.99528474 0.00471528]]\n",
      "Predicted label: Not Sarcastic\n",
      "\n",
      "Text: Team Specific Threads No matter how many articles you read or how many hours of Red Zone you watch nothing quite makes up for watching every play of a game. Would the members of this community/the mods be open to creating a sticky post that has a team individual thread for every team in the NFL where team specific conversation can take place and people that watch individual games can comment? We may even be able to get some guys from team specific subreddits to stop by and give us some new insight.\n",
      "Model output: [[0.9875942 0.0124058]]\n",
      "Predicted label: Not Sarcastic\n",
      "\n",
      "Text: Ill give you a hint. They commented in this thread\n",
      "Model output: [[0.9787377  0.02126237]]\n",
      "Predicted label: Not Sarcastic\n",
      "\n",
      "Text: Star Wars, easy. I'm not that bothered about Indiana Jones tbh\n",
      "Model output: [[0.8717212  0.12827876]]\n",
      "Predicted label: Not Sarcastic\n",
      "\n",
      "Text: You're adorable.\n",
      "Model output: [[0.9941586  0.00584137]]\n",
      "Predicted label: Not Sarcastic\n",
      "\n"
     ]
    },
    {
     "name": "stderr",
     "output_type": "stream",
     "text": [
      "  4%|▍         | 20/500 [00:00<00:19, 24.44it/s]"
     ]
    },
    {
     "name": "stdout",
     "output_type": "stream",
     "text": [
      "Text: He actually acts like a moody emo girl on twitter. He lashes out over incredibly petty things and takes it out on social media. He's a 70 year old man doing this, grow the fuck up and think of your dignity man.\n",
      "Model output: [[0.9863492  0.01365078]]\n",
      "Predicted label: Not Sarcastic\n",
      "\n",
      "Text: Clinton struggles to gain traction in Florida, despite spending - Clinton shocked money can't buy everything\n",
      "Model output: [[0.3960044 0.6039956]]\n",
      "Predicted label: Sarcastic\n",
      "\n",
      "Text: Is that the Older Clark and Older Lois?\n",
      "Model output: [[0.9930455  0.00695443]]\n",
      "Predicted label: Not Sarcastic\n",
      "\n",
      "Text: *Guilt roles over Mel, and he hesitates for a moment before pulling the girl into a hug.* \"Shhh, it's okay Tara. You two aren't going anywhere this time. Aurelia and I won't let that happen.\"\n",
      "Model output: [[0.87256604 0.127434  ]]\n",
      "Predicted label: Not Sarcastic\n",
      "\n",
      "Text: They will never get the stability of the 3DS.\n",
      "Model output: [[0.9937762  0.00622382]]\n",
      "Predicted label: Not Sarcastic\n",
      "\n"
     ]
    },
    {
     "name": "stderr",
     "output_type": "stream",
     "text": [
      "  5%|▌         | 26/500 [00:01<00:19, 24.48it/s]"
     ]
    },
    {
     "name": "stdout",
     "output_type": "stream",
     "text": [
      "Text: I still doubt that \"all conservatives stand for is defeating liberals\". If you use the election of Trump as an example for the failure of modern conservatism, is it also fair to use the election of Hillary Clinton as a representative for modern Liberalism? I guess not. And the \"all conservatives stand for is defeating liberals\" could be applied vice versa if you only listen to people who are the loudest.\n",
      "Model output: [[0.99469334 0.00530664]]\n",
      "Predicted label: Not Sarcastic\n",
      "\n",
      "Text: Today Russian media tweeted out that Wikileaks had released more of Podesta's emails before Wikileaks even did it. There is some control here.\n",
      "Model output: [[0.9918554  0.00814465]]\n",
      "Predicted label: Not Sarcastic\n",
      "\n",
      "Text: Thank you, Jagex, for being cool Jagex has always been a cool company, and we could thank them for tons of things, but I just noticed that they don't charge your card as a recurring subscription. So many companies today do scummy things where they try to get you to sign up for something so they can bill you monthly and hope you'll forget about it, but Jagex only runs your subscription for as long as you purchased. I know it's nothing huge, but it's something I appreciate.\n",
      "Model output: [[0.9887833  0.01121671]]\n",
      "Predicted label: Not Sarcastic\n",
      "\n",
      "Text: 467 A lovely way!\n",
      "Model output: [[0.86337644 0.13662356]]\n",
      "Predicted label: Not Sarcastic\n",
      "\n",
      "Text: Jesus got\n",
      "Model output: [[0.4459729  0.55402714]]\n",
      "Predicted label: Sarcastic\n",
      "\n"
     ]
    },
    {
     "name": "stderr",
     "output_type": "stream",
     "text": [
      "  6%|▌         | 29/500 [00:01<00:19, 24.25it/s]"
     ]
    },
    {
     "name": "stdout",
     "output_type": "stream",
     "text": [
      "Text: \"You are like the end piece of bread in a loaf, everyone touches you but no one wants you.\"\n",
      "Model output: [[0.9593199  0.04068014]]\n",
      "Predicted label: Not Sarcastic\n",
      "\n",
      "Text: Found this under a box of porno mags well cleaning out a trailer...\n",
      "Model output: [[0.99155563 0.00844435]]\n",
      "Predicted label: Not Sarcastic\n",
      "\n",
      "Text: Who?\n",
      "Model output: [[0.7671086 0.2328914]]\n",
      "Predicted label: Not Sarcastic\n",
      "\n",
      "Text: but what format\n",
      "Model output: [[0.93290585 0.06709421]]\n",
      "Predicted label: Not Sarcastic\n",
      "\n"
     ]
    },
    {
     "name": "stderr",
     "output_type": "stream",
     "text": [
      "  6%|▋         | 32/500 [00:01<00:21, 22.14it/s]"
     ]
    },
    {
     "name": "stdout",
     "output_type": "stream",
     "text": [
      "Text: Pro tip - Fool around with worldy girls.\n",
      "Model output: [[0.58357155 0.4164284 ]]\n",
      "Predicted label: Not Sarcastic\n",
      "\n",
      "Text: *is confused why so many people dislike Nickelback.* Not that I'm a fan but imo the music is decent enough.\n",
      "Model output: [[0.91995704 0.08004297]]\n",
      "Predicted label: Not Sarcastic\n",
      "\n"
     ]
    },
    {
     "name": "stderr",
     "output_type": "stream",
     "text": [
      "  7%|▋         | 35/500 [00:01<00:27, 17.20it/s]"
     ]
    },
    {
     "name": "stdout",
     "output_type": "stream",
     "text": [
      "Text: The dumb thing is, they are risking their seller account, too.\n",
      "Model output: [[0.99101686 0.00898318]]\n",
      "Predicted label: Not Sarcastic\n",
      "\n",
      "Text: PGT: 9/4 vs. Indians All rants and angry posts go here. I'll start. Fuck Fernando Rodney\n",
      "Model output: [[0.9737758  0.02622421]]\n",
      "Predicted label: Not Sarcastic\n",
      "\n",
      "Text: This is a great response! Too bad about the lack of accolades.\n",
      "Model output: [[0.99400043 0.00599955]]\n",
      "Predicted label: Not Sarcastic\n",
      "\n",
      "Text: North Korea has never lied. Not once.\n",
      "Model output: [[0.99154377 0.00845622]]\n",
      "Predicted label: Not Sarcastic\n",
      "\n"
     ]
    },
    {
     "name": "stderr",
     "output_type": "stream",
     "text": [
      "  8%|▊         | 40/500 [00:01<00:25, 17.98it/s]"
     ]
    },
    {
     "name": "stdout",
     "output_type": "stream",
     "text": [
      "Text: Your house is burning down and you only have time to grab one thing ( not including family or pets ), what do you grab?\n",
      "Model output: [[0.9928001  0.00719993]]\n",
      "Predicted label: Not Sarcastic\n",
      "\n",
      "Text: Poor Dan. He looks like he needs some coffee or a energy drink. I don't think I've ever seen him be this quiet during a live stream.\n",
      "Model output: [[0.94045925 0.05954076]]\n",
      "Predicted label: Not Sarcastic\n",
      "\n",
      "Text: This season's NFC equivalent of the Browns is straight up BUTT FUCKING US. I don't know how to handle this.\n",
      "Model output: [[0.99486536 0.00513462]]\n",
      "Predicted label: Not Sarcastic\n",
      "\n",
      "Text: Umm yes! It was a huge scandal, do you not member?\n",
      "Model output: [[0.97766066 0.0223393 ]]\n",
      "Predicted label: Not Sarcastic\n",
      "\n",
      "Text: Hey... Don't you know that a convoluted unsupported theory which is only \"proven\" by a **Reddit comment** is a definite fact? I mean how can a simple explanation make more sense. Clearly the tinfoil hat explanation always make more sense, always.\n",
      "Model output: [[0.9949437  0.00505634]]\n",
      "Predicted label: Not Sarcastic\n",
      "\n"
     ]
    },
    {
     "name": "stderr",
     "output_type": "stream",
     "text": [
      "  9%|▉         | 46/500 [00:02<00:21, 20.74it/s]"
     ]
    },
    {
     "name": "stdout",
     "output_type": "stream",
     "text": [
      "Text: 1,571,048\n",
      "Model output: [[0.5786675  0.42133248]]\n",
      "Predicted label: Not Sarcastic\n",
      "\n",
      "Text: But i liked Xpascal better with tartle then with chowex\n",
      "Model output: [[0.611247   0.38875297]]\n",
      "Predicted label: Not Sarcastic\n",
      "\n",
      "Text: Clinton campaign accuses FBI of 'blatant double standard'\n",
      "Model output: [[0.9808488  0.01915123]]\n",
      "Predicted label: Not Sarcastic\n",
      "\n",
      "Text: Anyone else think that it was interesting the way she mentioned that she had a tape recorder in her hand while he was assaulting her...\n",
      "Model output: [[0.12644906 0.8735509 ]]\n",
      "Predicted label: Sarcastic\n",
      "\n",
      "Text: This map makes it look like there's a giant, lush, fertile valley in the middle, just waiting to produce all the food the world could possibly eat. Instead of being the endless fucking wasteland of ice and tundra that stored Captain America for 65 years.\n",
      "Model output: [[0.9913344  0.00866568]]\n",
      "Predicted label: Not Sarcastic\n",
      "\n",
      "Text: What do you hate the most about the mainstream?\n",
      "Model output: [[0.9962871  0.00371284]]\n",
      "Predicted label: Not Sarcastic\n",
      "\n"
     ]
    },
    {
     "name": "stderr",
     "output_type": "stream",
     "text": [
      " 10%|█         | 52/500 [00:02<00:22, 20.29it/s]"
     ]
    },
    {
     "name": "stdout",
     "output_type": "stream",
     "text": [
      "Text: Random question, how much of a pain in the ass is the appeals process for grades in college? I have a teacher who won't give me my credit for the online homework because of an obvious technical glitch.\n",
      "Model output: [[0.9882814  0.01171853]]\n",
      "Predicted label: Not Sarcastic\n",
      "\n",
      "Text: Doug Marrone named Jaguars interim head coach.\n",
      "Model output: [[0.79813486 0.2018652 ]]\n",
      "Predicted label: Not Sarcastic\n",
      "\n",
      "Text: Dominus GT (4) Takumi RXT (3) Trinity (1) Loopers (2) Lime loopers (15) More inside Keys Takumi anubis (0.5 keys) Breakout snakeskin (0.5 keys) 2x CC2 (0.25 keys each) Polygonal boost (0.5 keys) 5 rare decals (1 key) Black witch hat (1 key) White wich hat (1 key) Also taking offers for the lime loopers\n",
      "Model output: [[0.94122887 0.05877116]]\n",
      "Predicted label: Not Sarcastic\n",
      "\n",
      "Text: You're hoping for a lot. It's a purpose built hardcore industrial monster. That thing will pretty much glow in the dark on sensors.\n",
      "Model output: [[0.9941765  0.00582349]]\n",
      "Predicted label: Not Sarcastic\n",
      "\n",
      "Text: How to spell ness... necc... Nessecary? Even my auto correct is used to me spelling it wrong.\n",
      "Model output: [[0.9952253  0.00477468]]\n",
      "Predicted label: Not Sarcastic\n",
      "\n",
      "Text: Since mushroom stew costs 50k and your initial KC cap is 40k, I'd say no. The only way to increase the KC limit is through the TDM menu, and you're gonna want to buy some mushroom stew before too long.\n",
      "Model output: [[0.99336714 0.00663282]]\n",
      "Predicted label: Not Sarcastic\n",
      "\n"
     ]
    },
    {
     "name": "stderr",
     "output_type": "stream",
     "text": [
      " 12%|█▏        | 58/500 [00:02<00:19, 22.72it/s]"
     ]
    },
    {
     "name": "stdout",
     "output_type": "stream",
     "text": [
      "Text: You do know that the timer resets for each battle, right?\n",
      "Model output: [[0.99142116 0.00857877]]\n",
      "Predicted label: Not Sarcastic\n",
      "\n",
      "Text: Me: That'll be 5 happy meals for my fat kid...\n",
      "Model output: [[0.7661059  0.23389412]]\n",
      "Predicted label: Not Sarcastic\n",
      "\n",
      "Text: Honestly this reminds me of Stein's;Gate.\n",
      "Model output: [[0.55506915 0.44493082]]\n",
      "Predicted label: Not Sarcastic\n",
      "\n",
      "Text: I think you could make a bot that randomly posts GAP/ON/BR (20-40%) sales every day here and chances are it'd be right.\n",
      "Model output: [[0.9919709 0.0080291]]\n",
      "Predicted label: Not Sarcastic\n",
      "\n",
      "Text: She's speaking to the donor class and asks for understanding for the experiences of young people hurt by the recession. And we already knew she was the centrist and in turn the center is hopefully moving leftward. Everything she says here sounds reasonable to good to me.\n",
      "Model output: [[0.9930386  0.00696141]]\n",
      "Predicted label: Not Sarcastic\n",
      "\n",
      "Text: John Lott: CDC 'Coding Error' Hid Record Low for Accidental Gun Deaths - Breitbart\n",
      "Model output: [[0.9911589  0.00884115]]\n",
      "Predicted label: Not Sarcastic\n",
      "\n"
     ]
    },
    {
     "name": "stderr",
     "output_type": "stream",
     "text": [
      " 13%|█▎        | 64/500 [00:02<00:18, 23.51it/s]"
     ]
    },
    {
     "name": "stdout",
     "output_type": "stream",
     "text": [
      "Text: Only thing - Forev is playing carry. Not offlane. Febby back to support. Velo is still on the playing squad so he'll be offlane.\n",
      "Model output: [[0.93941325 0.06058671]]\n",
      "Predicted label: Not Sarcastic\n",
      "\n",
      "Text: 1. They got fucked by Riot (best of 2 format), so the have less games. 2. They can't afford the support staff because they don't have sponsors. 3. In my opinion the best of 1 group format also plays a big role, look at what a shitfest this whole worlds is so far with everyone beating everyone. EU actually looked pretty good in most of their games, they just don't know how to finish/they throw a lot.\n",
      "Model output: [[0.9944834  0.00551656]]\n",
      "Predicted label: Not Sarcastic\n",
      "\n",
      "Text: Popular YouTuber DemolitionRanch joins the masterrace\n",
      "Model output: [[0.9491125 0.0508876]]\n",
      "Predicted label: Not Sarcastic\n",
      "\n",
      "Text: By far the saddest event I've recieved\n",
      "Model output: [[0.9677337  0.03226626]]\n",
      "Predicted label: Not Sarcastic\n",
      "\n",
      "Text: Referencing something is not bad in any way. Most WoW players, myself included, found it funny.\n",
      "Model output: [[0.9560799  0.04392005]]\n",
      "Predicted label: Not Sarcastic\n",
      "\n"
     ]
    },
    {
     "name": "stderr",
     "output_type": "stream",
     "text": [
      " 14%|█▍        | 70/500 [00:03<00:17, 24.40it/s]"
     ]
    },
    {
     "name": "stdout",
     "output_type": "stream",
     "text": [
      "Text: SNW and the engagement BIL Hey gang! I found time to write a bit so here it goes! Remember BIL is dating now SIL and he's now thinking of marrying her. We were sitting in the room at the il's house just us three. BIL is talking to DH about it. SIL has a dog that she's had for years. It was a gift to her by her father when he became very ill, near death. The reality hit him that life is short and he decided to start making good on some of his promises before he died. He always told SIL he would get her a dog, they were a military family, and he'd always say the next place we move I'll get it for you. So he got her this dog at that time and she loves her dog and he has sentimental value to her. Now, BIL has not yet met this dog because you know it's serious when you meet the dog. BIL sates to DH: Well the dog has to go. I have allergies and I can't be living with a dog. I know the dog has sentimental meaning for her because of her dad but my health is more important than a dog. She's waiting for me to meet the dog because she wants him to slowly warm up to me. This is stupid, it's just a dog... I don't see what the big deal is. I want to marry her but if we get married we'll already have to get an apartment and that costs money there (both of them at the time were living with their parents and would meet each other for dates and such). If we keep the dog then we have to pay extra money for pet rent and I'm not paying extra money for a dog!!! DH is just nodding his head and listening (he's pretty laid back and quiet always like this guess it's true opposites attract). I'm thinking how rude is this guy? He wants to marry her and is supposed to love her but can't have compassion for what she loves??? I know he's SNOT JR. For sure. Anyway he meets the dog and they get engaged. They have all these big events that I find my way out of because I can't stand being around them. They had a family celebration right after he proposed and a joint couple shower. SNW knows how creative and crafty I am, especially after my wonderful diy wedding decor, so she asks me to help her decorate for the rehearsal dinner. I reluctantly agree to help her. DH and I have been married over 3 years at this point. SNW has never made any efforts to call, text, smoke signal, or communicate with me in any way or form any relationship with me. Can't remember if I posted about this before but I did invite her to an event to be the bigger person, but she basically fought me even giving it to her. The event was based on a book and I wanted to buy her the book and put the tickets inside as a Christmas gift. She was like oh I don't want a book. And then proceeded to text DH about how she doesn't want whatever I'm trying to get her, that he knows the type of gifts she likes and to stick to that. I was so angry... I was raised knowing when people get you a gift you accept because the person thought about you and took their time to get it for you so be grateful! Guess not everyone learned that. I still invite her after my moms advise but said well I was trying to do this for you but since you didn't want it I'm asking you now would you like to go with me. Then she's like oh I would love to go I had no idea thats what it was, super nice in front of everyone. We went to the event and she straight up did not talk to me the whole time and went off in her own during the intermissions. Sorry for going off topic but you get the point. Now all of a sudden she's blowing me up about this wedding rehearsal. She texts several times a day and calls about her ideas and sends me pics. She's always like Hi how are you then goes for what she wants... I'm not fooled at all, she never cared how I was doing for over three years. She says Oh well SIL and I have been talking about the plans and blah blah blah. Basically trying to run in my face that she talks to SIL all the time and she's being involved in the planning. unlike with my wedding, but that's because she got mad at me for not doing what she wanted and did CBF the rest of the time I was planning. I tell DH about this sudden change of behavior and how much involved SNW is in this wedding as compared to ours. He suggests well maybe because she has a good relationship with SIL she realizes she needs to do better with you and this is her way of reaching out to you... I say maybe but I know its all fake...\n",
      "Model output: [[0.9925573  0.00744266]]\n",
      "Predicted label: Not Sarcastic\n",
      "\n",
      "Text: Here's what happens when Obama gives up his Twitter account\n",
      "Model output: [[0.99504024 0.00495974]]\n",
      "Predicted label: Not Sarcastic\n",
      "\n",
      "Text: Bruh you fit rules 1 and 2 no homo\n",
      "Model output: [[0.68809104 0.31190896]]\n",
      "Predicted label: Not Sarcastic\n",
      "\n",
      "Text: is there still a difference nowadays?\n",
      "Model output: [[0.9890003  0.01099966]]\n",
      "Predicted label: Not Sarcastic\n",
      "\n",
      "Text: Monday night Drinking thread Brought to You by Infuriating capitalization Inconsistencies\n",
      "Model output: [[0.04273343 0.9572665 ]]\n",
      "Predicted label: Sarcastic\n",
      "\n",
      "Text: You win this round, Simpson\n",
      "Model output: [[0.98983103 0.01016893]]\n",
      "Predicted label: Not Sarcastic\n",
      "\n"
     ]
    },
    {
     "name": "stderr",
     "output_type": "stream",
     "text": [
      " 15%|█▌        | 76/500 [00:03<00:17, 23.57it/s]"
     ]
    },
    {
     "name": "stdout",
     "output_type": "stream",
     "text": [
      "Text: New anime pictures\n",
      "Model output: [[0.32231858 0.67768145]]\n",
      "Predicted label: Sarcastic\n",
      "\n",
      "Text: How baby is made.\n",
      "Model output: [[0.9972274  0.00277255]]\n",
      "Predicted label: Not Sarcastic\n",
      "\n",
      "Text: Nope. Game is doo-doo.\n",
      "Model output: [[0.95873475 0.04126523]]\n",
      "Predicted label: Not Sarcastic\n",
      "\n",
      "Text: except the 2012 lakers\n",
      "Model output: [[0.9145382  0.08546177]]\n",
      "Predicted label: Not Sarcastic\n",
      "\n",
      "Text: Live Discussion (October 1st, 2016) (Margot Robbie / The Weeknd) Welcome to the SNL season premiere live discussion thread! This week's host is Margot Robbie, and the musical guest is The Weeknd. A quick recommendation to mention the sketch you're referring to in your comment. It's not a hard and fast rule, but it does make the thread more readable after the show finishes. Since this thread is likely to fill up quickly, consider sorting the comments by \"new\" (instead of \"best\" or \"top\") to see the newest posts. Enjoy the show!\n",
      "Model output: [[0.9964874  0.00351265]]\n",
      "Predicted label: Not Sarcastic\n",
      "\n",
      "Text: A little self lovin can turn that 99 into a 100. Turn that frown upside down and beat it like it does you money!\n",
      "Model output: [[0.9953714  0.00462859]]\n",
      "Predicted label: Not Sarcastic\n",
      "\n"
     ]
    },
    {
     "name": "stderr",
     "output_type": "stream",
     "text": [
      " 16%|█▋        | 82/500 [00:03<00:16, 24.75it/s]"
     ]
    },
    {
     "name": "stdout",
     "output_type": "stream",
     "text": [
      "Text: I thought it was a Geo Prizm.\n",
      "Model output: [[0.96211374 0.03788624]]\n",
      "Predicted label: Not Sarcastic\n",
      "\n",
      "Text: For some reason I thought BOTH of those were Ryan. I was wrong, sorry y'all, I wasn't trying shit on Ryan, just pointing out how many things could go wrong in his care. But still, he isn't a safe driver was my point, and he doesn't make Bentley wear his seat belt.\n",
      "Model output: [[0.96750647 0.03249349]]\n",
      "Predicted label: Not Sarcastic\n",
      "\n",
      "Text: No, minimum $220 plus tax. You have to pay for a month of service.\n",
      "Model output: [[0.89010334 0.10989663]]\n",
      "Predicted label: Not Sarcastic\n",
      "\n",
      "Text: How much Drake represents the personality of Canadians?\n",
      "Model output: [[0.99287343 0.0071266 ]]\n",
      "Predicted label: Not Sarcastic\n",
      "\n",
      "Text: We're through the looking glass here people. BOR is echoing Obama on something.\n",
      "Model output: [[0.9958264 0.0041735]]\n",
      "Predicted label: Not Sarcastic\n",
      "\n",
      "Text: Turn signals are in cars for a reason. Why do people not use them?\n",
      "Model output: [[0.99408156 0.00591843]]\n",
      "Predicted label: Not Sarcastic\n",
      "\n"
     ]
    },
    {
     "name": "stderr",
     "output_type": "stream",
     "text": [
      " 18%|█▊        | 88/500 [00:03<00:17, 24.14it/s]"
     ]
    },
    {
     "name": "stdout",
     "output_type": "stream",
     "text": [
      "Text: I could scare the crap out of my kids with that clicky noise the predator makes. Id love to be able to do it.\n",
      "Model output: [[0.9868798  0.01312011]]\n",
      "Predicted label: Not Sarcastic\n",
      "\n",
      "Text: I second that, but an equal fav was when he booed at the convention and they rushed his wife out.\n",
      "Model output: [[0.98964965 0.01035036]]\n",
      "Predicted label: Not Sarcastic\n",
      "\n",
      "Text: Lmao, ayaw nya sa US but gusto niya ng aid. HAHAHAHA drahgs pa more\n",
      "Model output: [[0.9511124  0.04888762]]\n",
      "Predicted label: Not Sarcastic\n",
      "\n",
      "Text: Have you tried henna? completely different product altogether, and extremely low allergy rate.\n",
      "Model output: [[0.9932655  0.00673453]]\n",
      "Predicted label: Not Sarcastic\n",
      "\n",
      "Text: Youtube just is getting glorious 21:9 on their theater mode\n",
      "Model output: [[0.9326675  0.06733251]]\n",
      "Predicted label: Not Sarcastic\n",
      "\n"
     ]
    },
    {
     "name": "stderr",
     "output_type": "stream",
     "text": [
      " 19%|█▉        | 94/500 [00:04<00:16, 24.39it/s]"
     ]
    },
    {
     "name": "stdout",
     "output_type": "stream",
     "text": [
      "Text: Congrats on casting the new live-action adaptation of A Pup Named Scooby-Doo.\n",
      "Model output: [[0.99529797 0.00470204]]\n",
      "Predicted label: Not Sarcastic\n",
      "\n",
      "Text: We had the inverse of that this morning. Got woken up by an Amber Alert at 7:30 am.\n",
      "Model output: [[0.99110997 0.00889002]]\n",
      "Predicted label: Not Sarcastic\n",
      "\n",
      "Text: What actions by a person tells you that he or she is a newbie in a job hobby etc?\n",
      "Model output: [[0.99163824 0.00836176]]\n",
      "Predicted label: Not Sarcastic\n",
      "\n",
      "Text: I kinda hope Disney sell off some games rights to Sega so there can be a Total War: Star Wars.\n",
      "Model output: [[0.9887211 0.011279 ]]\n",
      "Predicted label: Not Sarcastic\n",
      "\n",
      "Text: BM/Wheels/Crates Keys/Crates Add me if you want to speed things up. Feel free to leave an offer but mostly interested in keys and C3s Parallax 12Keys 2C3s 1Key Dom GT 4Keys Purple Sunburst 4Keys Tact Pulsus 3keys White Sunburst 5Keys Pink Invaders 4 Keys Cobalt/Lime/Pink Alchemist 2Keys Each 7 for all 4\n",
      "Model output: [[0.9067566  0.09324346]]\n",
      "Predicted label: Not Sarcastic\n",
      "\n",
      "Text: Duplicates? Can we get rid of them like in BO or do we keep getting the same crap? anybody know?\n",
      "Model output: [[0.85620147 0.14379856]]\n",
      "Predicted label: Not Sarcastic\n",
      "\n"
     ]
    },
    {
     "name": "stderr",
     "output_type": "stream",
     "text": [
      " 20%|██        | 100/500 [00:04<00:16, 24.96it/s]"
     ]
    },
    {
     "name": "stdout",
     "output_type": "stream",
     "text": [
      "Text: I see that you are right. He is a big old doggo obviously\n",
      "Model output: [[0.94771045 0.05228952]]\n",
      "Predicted label: Not Sarcastic\n",
      "\n",
      "Text: 1,512,797\n",
      "Model output: [[0.5843667  0.41563338]]\n",
      "Predicted label: Not Sarcastic\n",
      "\n",
      "Text: Not wearing them means you have the brace on for longer.\n",
      "Model output: [[0.9483777  0.05162223]]\n",
      "Predicted label: Not Sarcastic\n",
      "\n",
      "Text: MetaCanada wins. Fuck\n",
      "Model output: [[0.5813891  0.41861084]]\n",
      "Predicted label: Not Sarcastic\n",
      "\n",
      "Text: I want that boat. I would only play NPR on low to medium volume\n",
      "Model output: [[0.98867524 0.01132471]]\n",
      "Predicted label: Not Sarcastic\n",
      "\n",
      "Text: Nevada is a good sign for the winner, fairly accurate to whoever wins, but not always. Az usually goes red, only being blue once on the past 65 years, even staying red during the '64 landslide.\n",
      "Model output: [[0.95881784 0.04118213]]\n",
      "Predicted label: Not Sarcastic\n",
      "\n"
     ]
    },
    {
     "name": "stderr",
     "output_type": "stream",
     "text": [
      " 21%|██        | 106/500 [00:04<00:15, 25.18it/s]"
     ]
    },
    {
     "name": "stdout",
     "output_type": "stream",
     "text": [
      "Text: How does Yui learn guitar so fast? She can barely breathe without Ui's help.\n",
      "Model output: [[0.99201477 0.00798521]]\n",
      "Predicted label: Not Sarcastic\n",
      "\n",
      "Text: Not only did she look good...she was the FUNNIEST of all the roasters....\n",
      "Model output: [[0.9941987  0.00580134]]\n",
      "Predicted label: Not Sarcastic\n",
      "\n",
      "Text: The issue of this topic aside, if you are to buy a new PSTV, I suggest doing so soon. They're obviously all discontinued, and the price is steadily going up on the things. As long as it's New In-Box, they're all guaranteed to be under 3.60 since they were discontinued late last year.\n",
      "Model output: [[0.99222976 0.00777026]]\n",
      "Predicted label: Not Sarcastic\n",
      "\n",
      "Text: For shrine, should I spend my shards on Self Care or Decisive Strike? Neither are on my shrine atm, but I'm wondering which would be a better investment. To help me choose, my playstyle is lone-wolf, non-altruistic. Using Prestige 1, Level 24 Nea as main.\n",
      "Model output: [[0.98954713 0.01045284]]\n",
      "Predicted label: Not Sarcastic\n",
      "\n",
      "Text: Not even double hearts? Weak.\n",
      "Model output: [[0.91691875 0.08308125]]\n",
      "Predicted label: Not Sarcastic\n",
      "\n",
      "Text: Yes. I mentioned this in a different comment, but yes. That's the whole problem. Lol\n",
      "Model output: [[0.9938725  0.00612753]]\n",
      "Predicted label: Not Sarcastic\n",
      "\n"
     ]
    },
    {
     "name": "stderr",
     "output_type": "stream",
     "text": [
      " 22%|██▏       | 112/500 [00:04<00:15, 25.30it/s]"
     ]
    },
    {
     "name": "stdout",
     "output_type": "stream",
     "text": [
      "Text: Checkmate\n",
      "Model output: [[0.4044068 0.5955932]]\n",
      "Predicted label: Sarcastic\n",
      "\n",
      "Text: Really? You haven't noticed that these leftist liberals swallow anything coming from Clinton's mouth? She literally could say anything rediculous and far fetched and they still will believe her. It's like a female Jim Jones running for president.\n",
      "Model output: [[0.9746591  0.02534094]]\n",
      "Predicted label: Not Sarcastic\n",
      "\n",
      "Text: ... you have fans that say that?\n",
      "Model output: [[0.9898605  0.01013954]]\n",
      "Predicted label: Not Sarcastic\n",
      "\n",
      "Text: (M)y 3 incher (be gentle, it's my first time)\n",
      "Model output: [[0.9950505  0.00494956]]\n",
      "Predicted label: Not Sarcastic\n",
      "\n",
      "Text: Yes, but Hillary won't care as soon as she wins.\n",
      "Model output: [[0.98368526 0.01631477]]\n",
      "Predicted label: Not Sarcastic\n",
      "\n",
      "Text: Dubai Zipline\n",
      "Model output: [[0.8756543  0.12434565]]\n",
      "Predicted label: Not Sarcastic\n",
      "\n"
     ]
    },
    {
     "name": "stderr",
     "output_type": "stream",
     "text": [
      " 24%|██▎       | 118/500 [00:05<00:14, 25.48it/s]"
     ]
    },
    {
     "name": "stdout",
     "output_type": "stream",
     "text": [
      "Text: Yeah, that's probably why he doesn't have a car yet. At this point all he can afford is a chrome bicycle.\n",
      "Model output: [[0.95472866 0.04527131]]\n",
      "Predicted label: Not Sarcastic\n",
      "\n",
      "Text: My Jewish GF and her 4 family members just got Red Pilled. 5 more votes!!!!!\n",
      "Model output: [[0.9956742  0.00432579]]\n",
      "Predicted label: Not Sarcastic\n",
      "\n",
      "Text: He tripped getting in and tore both quads\n",
      "Model output: [[0.9451452  0.05485478]]\n",
      "Predicted label: Not Sarcastic\n",
      "\n",
      "Text: r/ph, how do you like your mocha?\n",
      "Model output: [[0.9854649  0.01453518]]\n",
      "Predicted label: Not Sarcastic\n",
      "\n",
      "Text: RAIDERS FANS WISH THEY HAD VON MILLER. SO TRUE &amp;a RELATABLE!!! SO TRUE!!!! @RealSkipBayless: I keep waiting for Khalil Mack to create some havoc, make one play. Waiting ... and waiting ...\n",
      "Model output: [[0.977196   0.02280407]]\n",
      "Predicted label: Not Sarcastic\n",
      "\n",
      "Text: Making a grown man cry over here!\n",
      "Model output: [[0.99340373 0.00659631]]\n",
      "Predicted label: Not Sarcastic\n",
      "\n"
     ]
    },
    {
     "name": "stderr",
     "output_type": "stream",
     "text": [
      " 25%|██▍       | 124/500 [00:05<00:14, 25.63it/s]"
     ]
    },
    {
     "name": "stdout",
     "output_type": "stream",
     "text": [
      "Text: I\n",
      "Model output: [[0.7349037  0.26509634]]\n",
      "Predicted label: Not Sarcastic\n",
      "\n",
      "Text: Stop following me shillbot and upvote my post! You fuck.\n",
      "Model output: [[0.9793945  0.02060548]]\n",
      "Predicted label: Not Sarcastic\n",
      "\n",
      "Text: Big things happening in the Battle for Aleppo, lots of ground changing hands - September 24, 2016\n",
      "Model output: [[0.99564505 0.00435497]]\n",
      "Predicted label: Not Sarcastic\n",
      "\n",
      "Text: The amount of times I have thought that exact sentence is staggering\n",
      "Model output: [[0.99324566 0.0067544 ]]\n",
      "Predicted label: Not Sarcastic\n",
      "\n",
      "Text: \"It's kind of hard to turn the page when you don't have all of your guns\" What?\n",
      "Model output: [[0.83243173 0.16756824]]\n",
      "Predicted label: Not Sarcastic\n",
      "\n",
      "Text: LF5M aksis part 1 hard mode post your info\n",
      "Model output: [[0.8997088  0.10029121]]\n",
      "Predicted label: Not Sarcastic\n",
      "\n"
     ]
    },
    {
     "name": "stderr",
     "output_type": "stream",
     "text": [
      " 26%|██▌       | 130/500 [00:05<00:14, 25.75it/s]"
     ]
    },
    {
     "name": "stdout",
     "output_type": "stream",
     "text": [
      "Text: Dude tranquilizers would be a damn game changer. Upvote. Doot\n",
      "Model output: [[0.9701362  0.02986378]]\n",
      "Predicted label: Not Sarcastic\n",
      "\n",
      "Text: p/c check on 2007-08 bape tiger hoodies? seen alot of them on grailed for like 8.5-9 condition\n",
      "Model output: [[0.0745639 0.9254361]]\n",
      "Predicted label: Sarcastic\n",
      "\n",
      "Text: But then you don't go to heaven.\n",
      "Model output: [[0.9868618  0.01313818]]\n",
      "Predicted label: Not Sarcastic\n",
      "\n",
      "Text: All Flying Knee Finishes In UFC &amp; Pride History\n",
      "Model output: [[0.9543334  0.04566661]]\n",
      "Predicted label: Not Sarcastic\n",
      "\n",
      "Text: That woman started talkin about sex out of the blue because she wanted to fuck.\n",
      "Model output: [[0.45297244 0.5470276 ]]\n",
      "Predicted label: Sarcastic\n",
      "\n",
      "Text: i'm not even modelling, it's growing a body on it's own\n",
      "Model output: [[0.99232554 0.00767453]]\n",
      "Predicted label: Not Sarcastic\n",
      "\n"
     ]
    },
    {
     "name": "stderr",
     "output_type": "stream",
     "text": [
      " 27%|██▋       | 136/500 [00:05<00:14, 25.66it/s]"
     ]
    },
    {
     "name": "stdout",
     "output_type": "stream",
     "text": [
      "Text: I agree that his imprisonment is self imposed on the basis that he doesn't want to be sent back to Sweden. However Sweden has done nothing to say that he wont be extradited to US once in Sweden, and in US he could face death penalty. I am not sure about Swedens extradition treaty with US, but there have been a few cases recently where you can be extradited to US for something that is not a crime in the country of extradition. The accusations against him are not wearing a condom, not sure there are actually any charges against him, death penalty surely a bit harsh for that.\n",
      "Model output: [[0.95671195 0.04328809]]\n",
      "Predicted label: Not Sarcastic\n",
      "\n",
      "Text: Im replying to his post, he actually asked for the time when he will get too \"uncool\" to read him .... Read it :) Dont be that guy :D\n",
      "Model output: [[0.98645693 0.01354304]]\n",
      "Predicted label: Not Sarcastic\n",
      "\n",
      "Text: White Christian Nationalists Rejoice At Trump Victory\n",
      "Model output: [[0.9725108  0.02748914]]\n",
      "Predicted label: Not Sarcastic\n",
      "\n",
      "Text: Did the same man expect hung over af at this house in the morning no couches so I just sat next to her feet and began massaging for a few seconds before realizing what I was doing and everyone was looking at me like what the actual fuck, pleased to say I don't get many invites to parties at HS anymore. May uni will be a new start please.\n",
      "Model output: [[0.97639716 0.02360278]]\n",
      "Predicted label: Not Sarcastic\n",
      "\n",
      "Text: LOL they are like that old dude that shows up at the party and thinks they are still bang young girls.. Bernie Sanders.\n",
      "Model output: [[0.9702644  0.02973558]]\n",
      "Predicted label: Not Sarcastic\n",
      "\n",
      "Text: Thank you. Fixed. Travel noted, safe winds.\n",
      "Model output: [[0.9801822  0.01981781]]\n",
      "Predicted label: Not Sarcastic\n",
      "\n"
     ]
    },
    {
     "name": "stderr",
     "output_type": "stream",
     "text": [
      " 28%|██▊       | 142/500 [00:06<00:14, 25.56it/s]"
     ]
    },
    {
     "name": "stdout",
     "output_type": "stream",
     "text": [
      "Text: Browns Felt Wentz Couldn't Be Top 20 QB\n",
      "Model output: [[0.5364923 0.4635077]]\n",
      "Predicted label: Not Sarcastic\n",
      "\n",
      "Text: I don't follow. By your logic, we have already forgotten about the Civil War because no one is alive who actually lived it...\n",
      "Model output: [[0.9880171  0.01198291]]\n",
      "Predicted label: Not Sarcastic\n",
      "\n",
      "Text: When you're sitting pantless in your chair watching Scream wun tep hen1 and your parents call you down for dinner.\n",
      "Model output: [[0.9893204  0.01067958]]\n",
      "Predicted label: Not Sarcastic\n",
      "\n",
      "Text: no, you're is a pronoun\n",
      "Model output: [[0.98171633 0.01828364]]\n",
      "Predicted label: Not Sarcastic\n",
      "\n",
      "Text: Badumm-tzz\n",
      "Model output: [[0.671191   0.32880902]]\n",
      "Predicted label: Not Sarcastic\n",
      "\n",
      "Text: According to 17 federal intelligence agencies and 2 private security firms Russian hacking groups such as APT28 that have been linked to the Russian government were involved in the hack. I doubt anyone from the Russian government communicated directly with Wikileaks. That would be amateur hour. Even if they did Wikileaks protects its sources and wouldn't give them up anyway.\n",
      "Model output: [[0.98302275 0.01697725]]\n",
      "Predicted label: Not Sarcastic\n",
      "\n"
     ]
    },
    {
     "name": "stderr",
     "output_type": "stream",
     "text": [
      " 30%|██▉       | 148/500 [00:06<00:13, 25.17it/s]"
     ]
    },
    {
     "name": "stdout",
     "output_type": "stream",
     "text": [
      "Text: Consider yourself lucky. In a town of 2500, I am the only vegan.\n",
      "Model output: [[0.99466574 0.00533426]]\n",
      "Predicted label: Not Sarcastic\n",
      "\n",
      "Text: When Omnis like your dinner pics not realizing it's vegan\n",
      "Model output: [[0.97175074 0.02824929]]\n",
      "Predicted label: Not Sarcastic\n",
      "\n",
      "Text: That's just time travel though\n",
      "Model output: [[0.93134505 0.0686549 ]]\n",
      "Predicted label: Not Sarcastic\n",
      "\n",
      "Text: Why Shooter do not use the silencer ?\n",
      "Model output: [[0.99071866 0.00928139]]\n",
      "Predicted label: Not Sarcastic\n",
      "\n",
      "Text: You think 2016 can't get any worse and then Wham!\n",
      "Model output: [[0.99264467 0.0073553 ]]\n",
      "Predicted label: Not Sarcastic\n",
      "\n",
      "Text: One positive note about this season/Chip Kelly The Niners are the least penalized team in the league by 9 penalties, currently. I remember tons of penalties under Harbaugh. Not that it's some huge deal, but it is something positive this season. Just trying to stay optimistic these days, fam.\n",
      "Model output: [[0.99403197 0.00596805]]\n",
      "Predicted label: Not Sarcastic\n",
      "\n"
     ]
    },
    {
     "name": "stderr",
     "output_type": "stream",
     "text": [
      " 30%|███       | 151/500 [00:06<00:13, 25.05it/s]"
     ]
    },
    {
     "name": "stdout",
     "output_type": "stream",
     "text": [
      "Text: what does the one above the circle say?\n",
      "Model output: [[0.99139446 0.00860558]]\n",
      "Predicted label: Not Sarcastic\n",
      "\n",
      "Text: rama ult is global now and has 5 shots\n",
      "Model output: [[0.9605257  0.03947427]]\n",
      "Predicted label: Not Sarcastic\n",
      "\n",
      "Text: Ik leerde op de kleuterschool al dat wie vraagt wordt overgeslagen....\n",
      "Model output: [[0.9921612  0.00783882]]\n",
      "Predicted label: Not Sarcastic\n",
      "\n",
      "Text: my interview on rocket launcher\n",
      "Model output: [[0.9832985  0.01670156]]\n",
      "Predicted label: Not Sarcastic\n",
      "\n",
      "Text: Impressive Ultron Cosplay for Avengers: Age of Ultron\n",
      "Model output: [[0.7816528  0.21834719]]\n",
      "Predicted label: Not Sarcastic\n",
      "\n"
     ]
    },
    {
     "name": "stderr",
     "output_type": "stream",
     "text": [
      " 31%|███▏      | 157/500 [00:06<00:14, 24.12it/s]"
     ]
    },
    {
     "name": "stdout",
     "output_type": "stream",
     "text": [
      "Text: Yeah, I don't think I have ever noticed any chalk marks.\n",
      "Model output: [[0.912533   0.08746702]]\n",
      "Predicted label: Not Sarcastic\n",
      "\n",
      "Text: Do you not have humor receptacles? I was clearly poking fun at myself for misreading it. Go find something worthwhile to protest.\n",
      "Model output: [[0.9892987  0.01070134]]\n",
      "Predicted label: Not Sarcastic\n",
      "\n",
      "Text: Funtime Triangle (3D Model)\n",
      "Model output: [[0.9794844  0.02051565]]\n",
      "Predicted label: Not Sarcastic\n",
      "\n",
      "Text: I dunno, doesnt make any sense to me really. If an advertizer wanted to relate/connect motorcycling with the image of \"freedom\" I wouldn't pick a dude standing on the seat of a sportbike... I'd say something more like a quick 7-8 second montage of a man at a cubicle getting yelled at in slow motion by his boss, stacks of papers all around him, cut to slow motion of him at home and his wife in an apron holding a newborn baby shaking her head in disaproval at him (slo-mo again of course) Cut to him standing in a downtown city at dusk in the rain hanging his head looking depressed, and as he looks over at a window, there's a motorcycle in the shop and it's a new bike- he's next to a dealership and the rain stops- last shot is a close up of him riding that new bike and smiling. Freedom. Or something like that.. But I guess thats just a motorcycle ad... Not sure how to attach a phone to it.\n",
      "Model output: [[0.98653644 0.01346354]]\n",
      "Predicted label: Not Sarcastic\n",
      "\n",
      "Text: Sir, we're closed... Tonight, at 10pm, my store closed. I cashed out my last customer. As I handed her the receipt, another guy walks in, past the automatic doors that were put on halfway open to accommodate my last customer. My shift lead is standing by the doors, keys in hand. \"Sir,\" my shift lead calls after him, \"it's 10 o clock, we are closed.\" \"Oh, I know, I'll only be a sec!\" Guy keeps walking back towards the pet stuff. My shift lead lets my last customer out, and stands by the doors, and I can see she's fuming. Here comes Special Guy. \"See! I was only a second! Haha!\" Special Guy literally puffs out his chest with pride. I ring up his 15 big cans of dog food, and bag them in his gross smelling bag. I tell him his total, he pays, and he's watching both of us, and we are less than thrilled with him. \"Geez, ladies, lighten up! I was only a second!\" My shift lead shakes her head. \"Yes, but you're cutting into our closing ops, and yes, 5 minutes DOES make a difference.\" She unlocks the doors to let him out, bidding him adieu. And his parting words to us? \"I was only a second though! Good night!\" Good lord, dude. We are open 14 hours; you had all damn day! Also, before my head gets bitten off, I'm aware some people work doubles or long shifts; I am one of them (my other job). But there is a grocery store open until midnight, and the mini mart open until 11pm that can see you through. Sorry, just...argh!!!!!\n",
      "Model output: [[0.95056343 0.0494366 ]]\n",
      "Predicted label: Not Sarcastic\n",
      "\n",
      "Text: I think the tories are going to deliberately push it over.\n",
      "Model output: [[0.99203    0.00796996]]\n",
      "Predicted label: Not Sarcastic\n",
      "\n"
     ]
    },
    {
     "name": "stderr",
     "output_type": "stream",
     "text": [
      " 33%|███▎      | 163/500 [00:06<00:13, 25.08it/s]"
     ]
    },
    {
     "name": "stdout",
     "output_type": "stream",
     "text": [
      "Text: 'White Lives Matter' Held Its First March In The UK Today.\n",
      "Model output: [[0.9937756  0.00622437]]\n",
      "Predicted label: Not Sarcastic\n",
      "\n",
      "Text: To make predators think they're poisonous?\n",
      "Model output: [[0.97227997 0.02772004]]\n",
      "Predicted label: Not Sarcastic\n",
      "\n",
      "Text: This would mean that Zoolander was actually a subversive warning :O\n",
      "Model output: [[0.9874402  0.01255978]]\n",
      "Predicted label: Not Sarcastic\n",
      "\n",
      "Text: Teddy Ruxpin, the iconic talking teddy bear from the 1980s, is back\n",
      "Model output: [[0.9937436  0.00625635]]\n",
      "Predicted label: Not Sarcastic\n",
      "\n",
      "Text: 'Remember, remember, the thirteenth of November' -dcpp4\n",
      "Model output: [[0.9862548  0.01374516]]\n",
      "Predicted label: Not Sarcastic\n",
      "\n",
      "Text: You're the only one\n",
      "Model output: [[0.99174494 0.00825503]]\n",
      "Predicted label: Not Sarcastic\n",
      "\n"
     ]
    },
    {
     "name": "stderr",
     "output_type": "stream",
     "text": [
      " 34%|███▍      | 169/500 [00:07<00:13, 25.38it/s]"
     ]
    },
    {
     "name": "stdout",
     "output_type": "stream",
     "text": [
      "Text: So the truth reported about a certain news network is not relevant?\n",
      "Model output: [[0.99410444 0.00589563]]\n",
      "Predicted label: Not Sarcastic\n",
      "\n",
      "Text: What should you do every day?\n",
      "Model output: [[0.9901107 0.0098893]]\n",
      "Predicted label: Not Sarcastic\n",
      "\n",
      "Text: Hit Anchorage and the population is now around 300k and scattered. They're basically done at that point.\n",
      "Model output: [[0.9933304  0.00666955]]\n",
      "Predicted label: Not Sarcastic\n",
      "\n",
      "Text: No, combat stats are fine. Its non combat stats that aren't affected apparently\n",
      "Model output: [[0.83170974 0.16829026]]\n",
      "Predicted label: Not Sarcastic\n",
      "\n",
      "Text: Pretty inconvenient if they landed anywhere pre-1980s\n",
      "Model output: [[0.25667074 0.7433292 ]]\n",
      "Predicted label: Sarcastic\n",
      "\n",
      "Text: How do I set up 2x 3DS's for my kids?\n",
      "Model output: [[0.99569064 0.00430935]]\n",
      "Predicted label: Not Sarcastic\n",
      "\n"
     ]
    },
    {
     "name": "stderr",
     "output_type": "stream",
     "text": [
      " 35%|███▌      | 175/500 [00:07<00:12, 25.37it/s]"
     ]
    },
    {
     "name": "stdout",
     "output_type": "stream",
     "text": [
      "Text: Agreed. Emberesing community\n",
      "Model output: [[0.22546002 0.77454   ]]\n",
      "Predicted label: Sarcastic\n",
      "\n",
      "Text: Odd Gaming Announcements\n",
      "Model output: [[0.422047   0.57795304]]\n",
      "Predicted label: Sarcastic\n",
      "\n",
      "Text: are you using any mods?\n",
      "Model output: [[0.9848513  0.01514873]]\n",
      "Predicted label: Not Sarcastic\n",
      "\n",
      "Text: Who cares, it's basically free considering the price of the Xbox. Not to mention BF1.\n",
      "Model output: [[0.97871506 0.02128487]]\n",
      "Predicted label: Not Sarcastic\n",
      "\n",
      "Text: Looks like we can expect an oldschool FPS, since Chmielarz is known mostly for Bulletstorm and Painkiller.\n",
      "Model output: [[0.9945427  0.00545731]]\n",
      "Predicted label: Not Sarcastic\n",
      "\n",
      "Text: It should be a straight forward swap, only thing you might need to do is install the software with the gpu so then all the drivers are upto date. But other than that replacing a graphics card shouldnt cause any issue, it would tend to be more if you replace the mobo or hdd that you'd encounter issues.\n",
      "Model output: [[0.9916398  0.00836025]]\n",
      "Predicted label: Not Sarcastic\n",
      "\n"
     ]
    },
    {
     "name": "stderr",
     "output_type": "stream",
     "text": [
      " 36%|███▌      | 181/500 [00:07<00:12, 24.94it/s]"
     ]
    },
    {
     "name": "stdout",
     "output_type": "stream",
     "text": [
      "Text: Who knew that a Billionaire doesn't actually give a shit about the middle class\n",
      "Model output: [[0.81442297 0.18557702]]\n",
      "Predicted label: Not Sarcastic\n",
      "\n",
      "Text: Anokuu descended from the heavens and saved them\n",
      "Model output: [[0.8196854  0.18031456]]\n",
      "Predicted label: Not Sarcastic\n",
      "\n",
      "Text: After Christmas Blowout Sale - Supreme Work Pants, Alltimers, 10Deep, Others &amp; many more sold below retail!\n",
      "Model output: [[0.951199   0.04880097]]\n",
      "Predicted label: Not Sarcastic\n",
      "\n",
      "Text: I made a CPU ornament and thought you guys might enjoy it!\n",
      "Model output: [[0.99270153 0.00729848]]\n",
      "Predicted label: Not Sarcastic\n",
      "\n",
      "Text: If you were limited to playing only one class and no other, which would you enjoy the most?\n",
      "Model output: [[0.99421036 0.00578963]]\n",
      "Predicted label: Not Sarcastic\n",
      "\n",
      "Text: The parallels I draw from ISIS and Mormonism from this story are interesting\n",
      "Model output: [[0.99542385 0.00457612]]\n",
      "Predicted label: Not Sarcastic\n",
      "\n"
     ]
    },
    {
     "name": "stderr",
     "output_type": "stream",
     "text": [
      " 37%|███▋      | 187/500 [00:07<00:12, 25.52it/s]"
     ]
    },
    {
     "name": "stdout",
     "output_type": "stream",
     "text": [
      "Text: It would depend on how technical you're being. A lot of so-called teas are not technically teas but because they are brewed the same way (boiling water and steeping) they are given the label. Coffee is not in this category because it is also roasted and ground, plus it's already a distinguished and very specific brew. A more broad term might be \"infused\" but I'm not sure whether there's a better one. Infused or steeped (hot) drinks would probably convey what you want.\n",
      "Model output: [[0.99314123 0.00685883]]\n",
      "Predicted label: Not Sarcastic\n",
      "\n",
      "Text: So George soros\n",
      "Model output: [[0.9843002  0.01569982]]\n",
      "Predicted label: Not Sarcastic\n",
      "\n",
      "Text: Because OP really wants their whiny opinion to be taken more seriously and respectably than it actually is.\n",
      "Model output: [[0.8513982  0.14860179]]\n",
      "Predicted label: Not Sarcastic\n",
      "\n",
      "Text: I dropped her flowers and ran\n",
      "Model output: [[0.9444602 0.0555398]]\n",
      "Predicted label: Not Sarcastic\n",
      "\n",
      "Text: dyslexia is a bicth\n",
      "Model output: [[0.97941977 0.02058026]]\n",
      "Predicted label: Not Sarcastic\n",
      "\n",
      "Text: I honestly really hope that Sweetz is /not/ in fact hinting at Burial's future 'avant-garde` sound\n",
      "Model output: [[0.86201733 0.13798265]]\n",
      "Predicted label: Not Sarcastic\n",
      "\n"
     ]
    },
    {
     "name": "stderr",
     "output_type": "stream",
     "text": [
      " 39%|███▊      | 193/500 [00:08<00:11, 25.66it/s]"
     ]
    },
    {
     "name": "stdout",
     "output_type": "stream",
     "text": [
      "Text: None of this matters if Trump wins Minnesota, Wisconsin and Michigan.\n",
      "Model output: [[0.9906657 0.0093344]]\n",
      "Predicted label: Not Sarcastic\n",
      "\n",
      "Text: \"Agreed. I think what's the issue for me is that there are people out there theory-crafting this whole thing away, as if I don't have better things to do with my time but to make stuff up - and blatantly lie - for the hell of it.\" - Derek Smart, re: 2.6 and Star Marine.\n",
      "Model output: [[0.9891216  0.01087833]]\n",
      "Predicted label: Not Sarcastic\n",
      "\n",
      "Text: skippity bop\n",
      "Model output: [[0.36097598 0.6390241 ]]\n",
      "Predicted label: Sarcastic\n",
      "\n",
      "Text: Still, I say statistics would be more convincing than your anecdote.\n",
      "Model output: [[0.9790263  0.02097371]]\n",
      "Predicted label: Not Sarcastic\n",
      "\n",
      "Text: You as everyone else are MISSING THE ENTIRE POINT. The point is we can make these decisions without the VIOLENCE that government bring to the table. The free market is responsible for **far** more safety equipment than government. Cheers!\n",
      "Model output: [[0.9949096  0.00509039]]\n",
      "Predicted label: Not Sarcastic\n",
      "\n",
      "Text: You are on the internet, you can watch everything somewhere.\n",
      "Model output: [[0.99490273 0.00509728]]\n",
      "Predicted label: Not Sarcastic\n",
      "\n"
     ]
    },
    {
     "name": "stderr",
     "output_type": "stream",
     "text": [
      " 40%|███▉      | 199/500 [00:08<00:11, 25.36it/s]"
     ]
    },
    {
     "name": "stdout",
     "output_type": "stream",
     "text": [
      "Text: PRAISE KEK\n",
      "Model output: [[0.88474977 0.1152502 ]]\n",
      "Predicted label: Not Sarcastic\n",
      "\n",
      "Text: What's your favourite way to mess with people's heads online?\n",
      "Model output: [[0.99253345 0.00746652]]\n",
      "Predicted label: Not Sarcastic\n",
      "\n",
      "Text: How vaguely can you describe your life?\n",
      "Model output: [[0.99369204 0.00630797]]\n",
      "Predicted label: Not Sarcastic\n",
      "\n",
      "Text: What do you want in a partner?\n",
      "Model output: [[0.99496907 0.00503099]]\n",
      "Predicted label: Not Sarcastic\n",
      "\n",
      "Text: People who spray shit all over the walls and ceilings in bathroom stalls, what's your secret?\n",
      "Model output: [[0.9894657  0.01053433]]\n",
      "Predicted label: Not Sarcastic\n",
      "\n",
      "Text: It's amazing how similar the Ravens are to the Steelers even when they have both radically altered their strategies. Although the Ravens have put a little more effort into defense the past few years than Pittsburgh it still comes down to the same problem of over-reliance on the offense.\n",
      "Model output: [[0.9932991  0.00670082]]\n",
      "Predicted label: Not Sarcastic\n",
      "\n"
     ]
    },
    {
     "name": "stderr",
     "output_type": "stream",
     "text": [
      " 41%|████      | 205/500 [00:08<00:11, 25.49it/s]"
     ]
    },
    {
     "name": "stdout",
     "output_type": "stream",
     "text": [
      "Text: Good. It handles all the same commands anyway. Why keep cmd around?\n",
      "Model output: [[0.9054517  0.09454826]]\n",
      "Predicted label: Not Sarcastic\n",
      "\n",
      "Text: NYC Visit Going to visit the big city soon and what to know what coffee shops I need to visit!\n",
      "Model output: [[0.98279977 0.0172002 ]]\n",
      "Predicted label: Not Sarcastic\n",
      "\n",
      "Text: A quick google search on the \"legal-highs\" thing seems to me that it targets notoriously dangerous fake-drugs that have lead to many deaths - and that they did not criminalize possession of it, only distribution/creation. Seems like the right move to me if that's accurate. I just never agree with punishing the user. Jail and/or fines is not how you help an addict, if anything you just throw their life into an even worse position.\n",
      "Model output: [[0.99102753 0.00897249]]\n",
      "Predicted label: Not Sarcastic\n",
      "\n",
      "Text: As far as I know, someone's reddit history doesn't account for their entire life's interests\n",
      "Model output: [[0.47057897 0.529421  ]]\n",
      "Predicted label: Sarcastic\n",
      "\n",
      "Text: Please use complete sentences. I don't know what you're trying to say.\n",
      "Model output: [[0.98805785 0.01194218]]\n",
      "Predicted label: Not Sarcastic\n",
      "\n",
      "Text: I've got some small fresh Manzanita branches. Is there any way I can quickly cure them for aquarium use? My understanding is that you don't want to put green branches into an aquarium. I've got a couple small tanks (5.5g, 2.5g) that I'd like to put these in, but only if I don't have to leave them outside for year(s) first. The branches are small, the biggest one has a maximum diameter of 0.75 inches, but they're mostly closer to 0.25-0.5 inches. The outer black bark is gone, but the inner red bark is still on them. Here's my questions: 1) Is there any way I can quickly dry them out in an oven or something? Would they be safe to boil and use at that point? 2) Usually the things I've read say that the bark needs to be removed or it'll slowly peel off. As long as it were to not peel off in tiny pieces, and as long as it were safe, I wouldn't mind that. I don't have a sandblaster to remove bark with either. Is it out of the question to leave the bark on? (ie is it super obnoxious or toxic?) Thanks guys!\n",
      "Model output: [[0.99018973 0.00981031]]\n",
      "Predicted label: Not Sarcastic\n",
      "\n"
     ]
    },
    {
     "name": "stderr",
     "output_type": "stream",
     "text": [
      " 42%|████▏     | 211/500 [00:08<00:11, 25.69it/s]"
     ]
    },
    {
     "name": "stdout",
     "output_type": "stream",
     "text": [
      "Text: Good Guy Cashier\n",
      "Model output: [[0.03653235 0.9634676 ]]\n",
      "Predicted label: Sarcastic\n",
      "\n",
      "Text: No I am DEFINITELY getting Trans however my question is why does it NEED to be built first? I was thinking about building it 2-3\n",
      "Model output: [[0.92488766 0.07511231]]\n",
      "Predicted label: Not Sarcastic\n",
      "\n",
      "Text: Smurfity smurf\n",
      "Model output: [[0.12785816 0.87214184]]\n",
      "Predicted label: Sarcastic\n",
      "\n",
      "Text: I've had the same free god rotation for the past 2 weeks\n",
      "Model output: [[0.99041593 0.00958406]]\n",
      "Predicted label: Not Sarcastic\n",
      "\n",
      "Text: Actually, the Cupertino Chargers has a nice ring!\n",
      "Model output: [[0.9940853  0.00591465]]\n",
      "Predicted label: Not Sarcastic\n",
      "\n",
      "Text: Jumping out of a tree onto an old blanket\n",
      "Model output: [[0.9892168  0.01078321]]\n",
      "Predicted label: Not Sarcastic\n",
      "\n"
     ]
    },
    {
     "name": "stderr",
     "output_type": "stream",
     "text": [
      " 43%|████▎     | 217/500 [00:09<00:11, 24.85it/s]"
     ]
    },
    {
     "name": "stdout",
     "output_type": "stream",
     "text": [
      "Text: Reynad Mic Malfunction\n",
      "Model output: [[0.37224078 0.6277592 ]]\n",
      "Predicted label: Sarcastic\n",
      "\n",
      "Text: Show me where I was being homophobic. \"Faggot\" is just a harmless term. You're just being sensitive, am I right?\n",
      "Model output: [[0.99568945 0.00431052]]\n",
      "Predicted label: Not Sarcastic\n",
      "\n",
      "Text: Nah, he's way too pissed-off and squirrelly for that.\n",
      "Model output: [[0.7773319  0.22266811]]\n",
      "Predicted label: Not Sarcastic\n",
      "\n",
      "Text: FWD I sent them all away\n",
      "Model output: [[0.45487133 0.5451287 ]]\n",
      "Predicted label: Sarcastic\n",
      "\n",
      "Text: Modi: From Nov 8 to abolish 500 and 1000 Rupee notes.\n",
      "Model output: [[0.9540173  0.04598271]]\n",
      "Predicted label: Not Sarcastic\n",
      "\n"
     ]
    },
    {
     "name": "stderr",
     "output_type": "stream",
     "text": [
      " 45%|████▍     | 223/500 [00:09<00:11, 24.99it/s]"
     ]
    },
    {
     "name": "stdout",
     "output_type": "stream",
     "text": [
      "Text: I had a gym teacher in HS who have the class do leg lifts during calisthenics and he'd walk up and down the row looking up girls shorts. But if you thought that was pervy... I had a friend who was a girl (but not a girlfriend) who said her gym teacher would make you open your towel up and show her that you showered after class. If she didn't think you showered well enough, she'd take your towel and send you back to the showers with a pat on the butt where she'd watch.\n",
      "Model output: [[0.9900149  0.00998513]]\n",
      "Predicted label: Not Sarcastic\n",
      "\n",
      "Text: Calling a top 5 seed? I asked if we could EXPECT the three teams to be in the top half of the EC. I wanted everyone else's input as to why or why not we would see the teams in the playoffs. Not once did I call a top seed, not once did I predict for it.\n",
      "Model output: [[0.9820827  0.01791731]]\n",
      "Predicted label: Not Sarcastic\n",
      "\n",
      "Text: Not a nerf, but there is the thing about selecting targets. Once the target goes down, it's like they hiccup and then move to the next target. This is especially noticeable in knife because of how many gobs have to be recalculated. THe whole pack stops.\n",
      "Model output: [[0.9947817  0.00521835]]\n",
      "Predicted label: Not Sarcastic\n",
      "\n",
      "Text: Annoying players are hurting themselves\n",
      "Model output: [[0.99265504 0.00734495]]\n",
      "Predicted label: Not Sarcastic\n",
      "\n",
      "Text: That shows your poor knowledge about this scandal.\n",
      "Model output: [[0.9899857  0.01001435]]\n",
      "Predicted label: Not Sarcastic\n",
      "\n",
      "Text: Christian propaganda\n",
      "Model output: [[0.34830815 0.65169185]]\n",
      "Predicted label: Sarcastic\n",
      "\n"
     ]
    },
    {
     "name": "stderr",
     "output_type": "stream",
     "text": [
      " 46%|████▌     | 229/500 [00:09<00:11, 23.62it/s]"
     ]
    },
    {
     "name": "stdout",
     "output_type": "stream",
     "text": [
      "Text: this is reality\n",
      "Model output: [[0.9936632  0.00633682]]\n",
      "Predicted label: Not Sarcastic\n",
      "\n",
      "Text: Seriously all youtubers should combine to give nova a taste of there own medicine\n",
      "Model output: [[0.7250083  0.27499166]]\n",
      "Predicted label: Not Sarcastic\n",
      "\n",
      "Text: TIL Dubai and Abu Dubai are not the same place\n",
      "Model output: [[0.9945246  0.00547546]]\n",
      "Predicted label: Not Sarcastic\n",
      "\n",
      "Text: Nigeria :)\n",
      "Model output: [[0.92980194 0.07019805]]\n",
      "Predicted label: Not Sarcastic\n",
      "\n",
      "Text: I have been following the competitive scene for 6years ,here are what I think godsent can do to become a top team again -znajder +Olof Hiring that devilwalk guy as their coach seems like a good idea as well\n",
      "Model output: [[0.9928428  0.00715721]]\n",
      "Predicted label: Not Sarcastic\n",
      "\n"
     ]
    },
    {
     "name": "stderr",
     "output_type": "stream",
     "text": [
      " 47%|████▋     | 235/500 [00:09<00:10, 24.36it/s]"
     ]
    },
    {
     "name": "stdout",
     "output_type": "stream",
     "text": [
      "Text: PTR bugs and Corpse physics\n",
      "Model output: [[0.9957718  0.00422818]]\n",
      "Predicted label: Not Sarcastic\n",
      "\n",
      "Text: You'd have to shuffle Hightower out to make that trade work.\n",
      "Model output: [[0.98848957 0.01151048]]\n",
      "Predicted label: Not Sarcastic\n",
      "\n",
      "Text: I just worry (a little bit) about taking Hanley out of the infield. I was under the impression that his improvement this year was in part due to him coming in from the outfield and feeling \"more like a part of the team.\" Could sending him to DH undo any of that?\n",
      "Model output: [[0.9883782  0.01162178]]\n",
      "Predicted label: Not Sarcastic\n",
      "\n",
      "Text: you have about 4-5% of the population that are nudists in the US already :P. I think with better laws we would be closer to the European percent at 10-20%\n",
      "Model output: [[0.9908987  0.00910127]]\n",
      "Predicted label: Not Sarcastic\n",
      "\n",
      "Text: DJ S3BAMAN - A Tribute to Photographer (Producer Mix)\n",
      "Model output: [[0.9933149  0.00668506]]\n",
      "Predicted label: Not Sarcastic\n",
      "\n",
      "Text: A nice, public reminder that we don't live in a fascist regime.\n",
      "Model output: [[0.99528295 0.00471706]]\n",
      "Predicted label: Not Sarcastic\n",
      "\n"
     ]
    },
    {
     "name": "stderr",
     "output_type": "stream",
     "text": [
      " 48%|████▊     | 241/500 [00:10<00:10, 25.23it/s]"
     ]
    },
    {
     "name": "stdout",
     "output_type": "stream",
     "text": [
      "Text: This week at Church: Build a Wall\n",
      "Model output: [[0.99684525 0.00315479]]\n",
      "Predicted label: Not Sarcastic\n",
      "\n",
      "Text: You have one wish. But it'll only come true if it was never wished by anyone before. What would it be?\n",
      "Model output: [[0.99392587 0.00607412]]\n",
      "Predicted label: Not Sarcastic\n",
      "\n",
      "Text: Exactly 3 years ago, Shroud got an overwatch ban\n",
      "Model output: [[0.98477304 0.01522701]]\n",
      "Predicted label: Not Sarcastic\n",
      "\n",
      "Text: Thank you Putin, for showing the level-headed responsibility and care that should be demonstrated from someone in your position, unlike the disgraceful Obama who attempts to provoke us all into unecessary war. The world thanks you. I'm very proud of Russia, a nation that now stands as the true leader of the free world.\n",
      "Model output: [[0.9915108 0.0084892]]\n",
      "Predicted label: Not Sarcastic\n",
      "\n",
      "Text: No, you dumb cunt. If you can see from a few hundred metres down the road that nobody is there, then there is no need to drive slower than 60 fucking kph.\n",
      "Model output: [[0.9571538  0.04284623]]\n",
      "Predicted label: Not Sarcastic\n",
      "\n",
      "Text: Sprained wrist from a fall happened almost two weeks ago\n",
      "Model output: [[0.98315895 0.01684106]]\n",
      "Predicted label: Not Sarcastic\n",
      "\n"
     ]
    },
    {
     "name": "stderr",
     "output_type": "stream",
     "text": [
      " 49%|████▉     | 247/500 [00:10<00:10, 25.25it/s]"
     ]
    },
    {
     "name": "stdout",
     "output_type": "stream",
     "text": [
      "Text: MOTD Idea: Dogfight Anubis, Erlang Shen, Fenrir, and Kaldr only. Reduced cooldowns or infinite mana or something for the lulz.\n",
      "Model output: [[0.99269885 0.00730113]]\n",
      "Predicted label: Not Sarcastic\n",
      "\n",
      "Text: @Senator_Assange: \"it's odd how women \"choose\" to wear a bag over their heads but are \"forced\" to wear make-up by the Patriarchy.\"\n",
      "Model output: [[0.98697144 0.01302854]]\n",
      "Predicted label: Not Sarcastic\n",
      "\n",
      "Text: Tennis player says something ambiguous and immediately regrets it\n",
      "Model output: [[0.3619674  0.63803256]]\n",
      "Predicted label: Sarcastic\n",
      "\n",
      "Text: The Liberal Democrats will fight Brexit. Labour is not doing its job | Tim Farron\n",
      "Model output: [[0.99498415 0.00501585]]\n",
      "Predicted label: Not Sarcastic\n",
      "\n",
      "Text: Bowl recommendations I do know about the wiki, but I'm looking for something fairly specific. I want a bowl that holds less than 20 grams with a fairly average pack, and doesn't ghost flavors (which sadly disqualifies basically every stone/clay bowl). I would absolutely love the Onyx bowl but as we all know it's constantly out of stock. Anything else that fits that criteria? Seems like every bowl is 25-30g these days. :(\n",
      "Model output: [[0.9810308  0.01896914]]\n",
      "Predicted label: Not Sarcastic\n",
      "\n",
      "Text: Sleepy Hollow. The first season was so good. The second one just started going downhill and accelerated fast, culminating in one of the stupidest plot decisions I've seen a TV show make in recent memory.\n",
      "Model output: [[0.98482275 0.01517723]]\n",
      "Predicted label: Not Sarcastic\n",
      "\n"
     ]
    },
    {
     "name": "stderr",
     "output_type": "stream",
     "text": [
      " 51%|█████     | 253/500 [00:10<00:09, 25.65it/s]"
     ]
    },
    {
     "name": "stdout",
     "output_type": "stream",
     "text": [
      "Text: All on recorders and kazoos, though\n",
      "Model output: [[0.95733654 0.0426634 ]]\n",
      "Predicted label: Not Sarcastic\n",
      "\n",
      "Text: Only if made in America. Even the Russian ones have to be.\n",
      "Model output: [[0.9817488  0.01825118]]\n",
      "Predicted label: Not Sarcastic\n",
      "\n",
      "Text: Is the university going overboard with their political stuff? Even as great as it is that students care about politics, when I read the IDS, see the events the University sponsors around campus, or look at the stuff the CommUnity Education Program puts around dorms, it feels like they're pushing an agenda on us. Some of the stuff, from all three of those, isn't simply progressive, but extreme leftist material. Given that this is a public school, it really doesn't feel right.\n",
      "Model output: [[0.994433   0.00556699]]\n",
      "Predicted label: Not Sarcastic\n",
      "\n",
      "Text: I think this Star Wars comic belongs here\n",
      "Model output: [[0.9860977  0.01390229]]\n",
      "Predicted label: Not Sarcastic\n",
      "\n",
      "Text: Apple paid the taxes that Ireland required.\n",
      "Model output: [[0.9738453  0.02615464]]\n",
      "Predicted label: Not Sarcastic\n",
      "\n",
      "Text: How far would you drivel to save $500 for a rebuilt car engine?\n",
      "Model output: [[0.9924454  0.00755456]]\n",
      "Predicted label: Not Sarcastic\n",
      "\n"
     ]
    },
    {
     "name": "stderr",
     "output_type": "stream",
     "text": [
      " 52%|█████▏    | 259/500 [00:10<00:09, 25.24it/s]"
     ]
    },
    {
     "name": "stdout",
     "output_type": "stream",
     "text": [
      "Text: American drivers of Reddit who adamantly drive in the left/passing lane only, why don't you move over into the traveling lane?\n",
      "Model output: [[0.47066024 0.52933973]]\n",
      "Predicted label: Sarcastic\n",
      "\n",
      "Text: I don't have an account, I just lurk.\n",
      "Model output: [[0.9875485  0.01245148]]\n",
      "Predicted label: Not Sarcastic\n",
      "\n",
      "Text: Yes how dare we hurt him so badly\n",
      "Model output: [[0.9769205  0.02307958]]\n",
      "Predicted label: Not Sarcastic\n",
      "\n",
      "Text: What ruins a pizza for you?\n",
      "Model output: [[0.9946571  0.00534292]]\n",
      "Predicted label: Not Sarcastic\n",
      "\n",
      "Text: He'll probably give her a prominent position in his administration :P Jokes aside, if he doesn't go after her, the pitchforks will turn on him instead. At this point I don't think anyone can contain the anger of the people much longer. If he doesn't drain the swamp, we'll have to do it ourselves and throw him out with the rest of the trash.\n",
      "Model output: [[0.99318016 0.00681988]]\n",
      "Predicted label: Not Sarcastic\n",
      "\n",
      "Text: I was hoping this was fake news.\n",
      "Model output: [[0.96722656 0.03277346]]\n",
      "Predicted label: Not Sarcastic\n",
      "\n"
     ]
    },
    {
     "name": "stderr",
     "output_type": "stream",
     "text": [
      " 53%|█████▎    | 265/500 [00:10<00:09, 25.34it/s]"
     ]
    },
    {
     "name": "stdout",
     "output_type": "stream",
     "text": [
      "Text: It's almost funny how our 'leaders' want and expect us to be angry at people who expose their dirty dealings to us. It defies all logic.\n",
      "Model output: [[0.99483585 0.00516415]]\n",
      "Predicted label: Not Sarcastic\n",
      "\n",
      "Text: What I find strange about this poll is that Clinton leads with those who have a college degree. But she doesn't poll strong with anyone who makes more thsn $35k. I suspect a large number of the college grads they are polling are recent grads who can't get a job.\n",
      "Model output: [[0.98825383 0.0117461 ]]\n",
      "Predicted label: Not Sarcastic\n",
      "\n",
      "Text: Live SmackDown Live Discussion Thread - November 15th 2016 Welcome to the live thread! This'll be more fleshed out sometime between 5 and 6pm PST :P\n",
      "Model output: [[0.99077517 0.00922479]]\n",
      "Predicted label: Not Sarcastic\n",
      "\n",
      "Text: Will Australia Post be open tomorrow? Going away for a couple of days tomorrow and I have a package to pick it up but couldnt for the past 3 days.\n",
      "Model output: [[0.9917149  0.00828507]]\n",
      "Predicted label: Not Sarcastic\n",
      "\n",
      "Text: South Korea opposition introduces bill to impeach scandal-tainted Park\n",
      "Model output: [[0.958168   0.04183193]]\n",
      "Predicted label: Not Sarcastic\n",
      "\n",
      "Text: Unspoken rules of the market board? So, i was crafting some barding today, super excited that I got my first crafter to 60, and the parts were super cheap... so I made quite a few to sell. So looking at the mb they were going for about 400k. I put mine up for 300k to make a quick buck and still make a sizable profit, then some guy pms me after about an hour saying that im \"destroying the barding economy!\" So it got me thinking, are there any unspoken rules about the market board i should be aware of? Or was this guy just butt hurt that I undercut him?\n",
      "Model output: [[0.96514153 0.03485848]]\n",
      "Predicted label: Not Sarcastic\n",
      "\n"
     ]
    },
    {
     "name": "stderr",
     "output_type": "stream",
     "text": [
      " 54%|█████▍    | 271/500 [00:11<00:08, 25.50it/s]"
     ]
    },
    {
     "name": "stdout",
     "output_type": "stream",
     "text": [
      "Text: Every scene of gunda\n",
      "Model output: [[0.42159262 0.57840735]]\n",
      "Predicted label: Sarcastic\n",
      "\n",
      "Text: Get better soon DJ Zbad. Sorry you gots to get injured against us :(\n",
      "Model output: [[0.9789574  0.02104256]]\n",
      "Predicted label: Not Sarcastic\n",
      "\n",
      "Text: I'm getting the feeling these are circus performers.\n",
      "Model output: [[0.98458046 0.01541954]]\n",
      "Predicted label: Not Sarcastic\n",
      "\n",
      "Text: Burning, Poisoned, Starving, Parched, Bleeding, Freezing, Over Heating... ark is stupid. its a 'dont die as fast' simulator, with zero style, no flavor, no abilities, no upgrades worth getting and boring poorly optimized everything.\n",
      "Model output: [[0.8782267  0.12177334]]\n",
      "Predicted label: Not Sarcastic\n",
      "\n",
      "Text: Huma Abedin's sister tells supporters on FB to call the DoJ to audit the vote. Today Clinton team met about this and now Jill Stein is raising money to file for recount in WI,MI and PA. Hillary is behind this 100%! You also saw Hillary staging pictures of her going outside to walk her dog or to the bookstore. Michigan has still not been called. Maybe I am just crazy but it looks like Hillary has not given up yet behind the scenes.\n",
      "Model output: [[0.9919797  0.00802032]]\n",
      "Predicted label: Not Sarcastic\n",
      "\n",
      "Text: Nice set man, pretty funny.\n",
      "Model output: [[0.0549984 0.9450016]]\n",
      "Predicted label: Sarcastic\n",
      "\n"
     ]
    },
    {
     "name": "stderr",
     "output_type": "stream",
     "text": [
      " 55%|█████▍    | 274/500 [00:11<00:09, 24.57it/s]"
     ]
    },
    {
     "name": "stdout",
     "output_type": "stream",
     "text": [
      "Text: A lot of the world's problems could be remedied if everyone lived in another country for a year.\n",
      "Model output: [[0.9944989  0.00550113]]\n",
      "Predicted label: Not Sarcastic\n",
      "\n",
      "Text: Justin Timberlake's 'I'm loving it' will always remind me of McDonald's. I'm not a fan of the song in the first place, but McDonald's pretty much hijacked it and made it their own. I don't even think he sings it anymore and I seem to remember that they stopped playing it on the radio after a very short time of it being released.\n",
      "Model output: [[0.98589605 0.01410398]]\n",
      "Predicted label: Not Sarcastic\n",
      "\n",
      "Text: Arcade Machine Texturing and Modeling Test\n",
      "Model output: [[0.92614007 0.07385994]]\n",
      "Predicted label: Not Sarcastic\n",
      "\n",
      "Text: Daniel Passarella on Messi: \"He should not captain Argentina. I admire Messi, but I think his personality and his way of being is withdrawn and timid.They already have a great leader - Ramiro Funes Mori. He should be captain.\"\n",
      "Model output: [[0.8873538  0.11264618]]\n",
      "Predicted label: Not Sarcastic\n",
      "\n",
      "Text: Those are blue pills though\n",
      "Model output: [[0.9693282  0.03067175]]\n",
      "Predicted label: Not Sarcastic\n",
      "\n"
     ]
    },
    {
     "name": "stderr",
     "output_type": "stream",
     "text": [
      " 56%|█████▌    | 280/500 [00:11<00:09, 23.69it/s]"
     ]
    },
    {
     "name": "stdout",
     "output_type": "stream",
     "text": [
      "Text: What if he had changed his tone?\n",
      "Model output: [[0.9621175  0.03788249]]\n",
      "Predicted label: Not Sarcastic\n",
      "\n",
      "Text: Does anyone know of a repository for historical correspondence? I'm looking for something with a lot of content.\n",
      "Model output: [[0.9808427  0.01915729]]\n",
      "Predicted label: Not Sarcastic\n",
      "\n",
      "Text: Doesn't Galio hard counter Ryze?\n",
      "Model output: [[0.96921307 0.03078689]]\n",
      "Predicted label: Not Sarcastic\n",
      "\n",
      "Text: I like the one with \"Any way you want it\" because that's a good song and the black girl is fine af.\n",
      "Model output: [[0.99450135 0.00549862]]\n",
      "Predicted label: Not Sarcastic\n",
      "\n",
      "Text: I saw a paper airplane fly across the screen. Not sure if it made it to the field but you know that's where they wanted it to go\n",
      "Model output: [[0.950578   0.04942208]]\n",
      "Predicted label: Not Sarcastic\n",
      "\n"
     ]
    },
    {
     "name": "stderr",
     "output_type": "stream",
     "text": [
      " 57%|█████▋    | 286/500 [00:11<00:08, 24.37it/s]"
     ]
    },
    {
     "name": "stdout",
     "output_type": "stream",
     "text": [
      "Text: You.... you stop that. You stop that right now. Melee build and plasmids is the most fun ever.\n",
      "Model output: [[0.99653363 0.00346633]]\n",
      "Predicted label: Not Sarcastic\n",
      "\n",
      "Text: Huh. That's not that much actually. It would suck, but I definitely think I could eat 200 apple seeds in a sitting.\n",
      "Model output: [[0.9688673  0.03113266]]\n",
      "Predicted label: Not Sarcastic\n",
      "\n",
      "Text: \"Hey you wanna get highhh\"\n",
      "Model output: [[0.58373773 0.4162623 ]]\n",
      "Predicted label: Not Sarcastic\n",
      "\n",
      "Text: This About Sums Up The Long Island Show\n",
      "Model output: [[0.996326   0.00367397]]\n",
      "Predicted label: Not Sarcastic\n",
      "\n",
      "Text: Beating the Democrats at their own game, love it!\n",
      "Model output: [[0.9956291  0.00437089]]\n",
      "Predicted label: Not Sarcastic\n",
      "\n",
      "Text: Watermelon Death Star carved by my dad!\n",
      "Model output: [[0.77670723 0.22329278]]\n",
      "Predicted label: Not Sarcastic\n",
      "\n"
     ]
    },
    {
     "name": "stderr",
     "output_type": "stream",
     "text": [
      " 58%|█████▊    | 292/500 [00:12<00:09, 22.63it/s]"
     ]
    },
    {
     "name": "stdout",
     "output_type": "stream",
     "text": [
      "Text: Wait, but, how does it not show that you accessed the front page of the Reddit? Did you go through a link sent to you for this post?\n",
      "Model output: [[0.985187   0.01481297]]\n",
      "Predicted label: Not Sarcastic\n",
      "\n",
      "Text: Ele main, never switched Tempest off since I unlocked it.\n",
      "Model output: [[0.49048987 0.50951016]]\n",
      "Predicted label: Sarcastic\n",
      "\n",
      "Text: Why does Trump even have a Star? I had no idea.\n",
      "Model output: [[0.99207616 0.00792385]]\n",
      "Predicted label: Not Sarcastic\n",
      "\n",
      "Text: If it's Danney DNA I will eat nothing but chicken tendies until election day\n",
      "Model output: [[0.96846527 0.03153475]]\n",
      "Predicted label: Not Sarcastic\n",
      "\n",
      "Text: I remember 2011 all too well. I'm not going to think that again.\n",
      "Model output: [[0.99180895 0.00819105]]\n",
      "Predicted label: Not Sarcastic\n",
      "\n"
     ]
    },
    {
     "name": "stderr",
     "output_type": "stream",
     "text": [
      " 59%|█████▉    | 295/500 [00:12<00:08, 23.01it/s]"
     ]
    },
    {
     "name": "stdout",
     "output_type": "stream",
     "text": [
      "Text: \"Gingrich, Giuliani, Priebus Eyed for Top Jobs in Trump White House: Sources\" &lt;---- If you weren't scared already, YOU BETTER VOTE\n",
      "Model output: [[0.9917355 0.0082645]]\n",
      "Predicted label: Not Sarcastic\n",
      "\n",
      "Text: You'll give him \"credit,\" lol... I think the place that it's \"due\" is his bank account... You can accomplish amazing things when you inherit millions of dollars.\n",
      "Model output: [[0.9953087  0.00469126]]\n",
      "Predicted label: Not Sarcastic\n",
      "\n",
      "Text: Has Persona 5 made anyone change their way of thinking? I mean, I know it's a game and all, but Atlus specifically focuses on the making the Persona games leave an impact on the player. I, for one, can say that after a full 120+ hour playthrough of the game, I feel a lot different than when I first loaded up the game. The game really made me realize how much people will want to take advantage of you and use you any chance they get, but that by believing in yourself and in those you trust you can reject what is thought of as \"normal\" or \"right\" and do what you believe in. Even though some may think that what you do is abnormal or unusual, what matters the most is that you have confidence in yourself and in what you are doing. I've really gained a lot of self-confidence after playing this amazing game as well as become more aware of the things I feel are wrong in society around me. I know it's rather unusual, but does anyone else feel a similar way?\n",
      "Model output: [[0.9941983  0.00580165]]\n",
      "Predicted label: Not Sarcastic\n",
      "\n",
      "Text: What's AHH?\n",
      "Model output: [[0.9659858  0.03401418]]\n",
      "Predicted label: Not Sarcastic\n",
      "\n",
      "Text: Which college would that be? They teach you soldering in first semester in B Tech.\n",
      "Model output: [[0.9323025  0.06769747]]\n",
      "Predicted label: Not Sarcastic\n",
      "\n"
     ]
    },
    {
     "name": "stderr",
     "output_type": "stream",
     "text": [
      " 60%|██████    | 301/500 [00:12<00:09, 22.11it/s]"
     ]
    },
    {
     "name": "stdout",
     "output_type": "stream",
     "text": [
      "Text: Those \"cuts\" in the video are annoying af!\n",
      "Model output: [[0.99507385 0.00492615]]\n",
      "Predicted label: Not Sarcastic\n",
      "\n",
      "Text: Huh?\n",
      "Model output: [[0.9028096  0.09719041]]\n",
      "Predicted label: Not Sarcastic\n",
      "\n",
      "Text: We've made our way on to r/whiteknighting\n",
      "Model output: [[0.9928006 0.0071994]]\n",
      "Predicted label: Not Sarcastic\n",
      "\n",
      "Text: People standing near a truck leaking gasoline.\n",
      "Model output: [[0.9722099  0.02779016]]\n",
      "Predicted label: Not Sarcastic\n",
      "\n",
      "Text: Electrical Engineering: \"What exactly do you do?\"\n",
      "Model output: [[0.19513401 0.804866  ]]\n",
      "Predicted label: Sarcastic\n",
      "\n"
     ]
    },
    {
     "name": "stderr",
     "output_type": "stream",
     "text": [
      " 61%|██████▏   | 307/500 [00:12<00:09, 21.34it/s]"
     ]
    },
    {
     "name": "stdout",
     "output_type": "stream",
     "text": [
      "Text: TIL a drug testing expert was high on cocaine almost every day she went to work, calling into question some 30,000 criminal drug cases she processed over the course of eight years.\n",
      "Model output: [[0.86299765 0.1370024 ]]\n",
      "Predicted label: Not Sarcastic\n",
      "\n",
      "Text: Don't think the jags understand change when they go 5-11 every year.\n",
      "Model output: [[0.9938752 0.0061248]]\n",
      "Predicted label: Not Sarcastic\n",
      "\n",
      "Text: i used to, for the nicotine. nicotine is awesome. cigarettes are awful. so now i vape. i mix my own 50mg or so unflavored juice and i'm in nicotine heaven.\n",
      "Model output: [[0.9940957  0.00590429]]\n",
      "Predicted label: Not Sarcastic\n",
      "\n",
      "Text: \"Jesus Christ! Stop getting Scarlet Witch drunk!!\" Cap yells from across the room. Jesus looks up, \"what are you talking about, man, it's only water.\" \"Only water, my ass!\" Cap retorts, \"and where the fuck did the 10,000 fish in my room come from?! The smell is never gonna come out of my suit!\" \"You're harshing my vibes, man.\" Jesus looked unphased. \"Don't make me call my dad. He said I could be anything I wanted and I wanted to be an Avenger. You can't change that.\" Cap grumbled to himself. \"Fine, Jesus, you lead the Avengers. I quit.\" He dials a quick number on his phone, \"Hey, Bruce? Yeah, it's, uh, Cap. Uh huh. Yeah. Well, I know you have a super team too so I was wondering if maybe . . . What's that? Oh. Well, um, you just let me know.\" \"Everything ok dude?\" Jesus asks. \"Yeah, well, it looks like Tony got to Bruce before I did. Luckily I have an in with the NYPD.\" *two weeks later* Jesus is bringing a perp into the station when he sees a familiar man mopping blood off the floor. \"Cap?\" The man doesn't look up and Jesus goes on his way. \"Bastard walked right where I just mopped, what a piece of shit.\"\n",
      "Model output: [[0.2859112 0.7140888]]\n",
      "Predicted label: Sarcastic\n",
      "\n",
      "Text: *Wanna go out sometime?*\n",
      "Model output: [[0.8449971  0.15500292]]\n",
      "Predicted label: Not Sarcastic\n",
      "\n"
     ]
    },
    {
     "name": "stderr",
     "output_type": "stream",
     "text": [
      " 62%|██████▏   | 310/500 [00:12<00:08, 21.73it/s]"
     ]
    },
    {
     "name": "stdout",
     "output_type": "stream",
     "text": [
      "Text: Kung Fu Trucker gets his Revenge on Phone thief\n",
      "Model output: [[0.96674055 0.0332594 ]]\n",
      "Predicted label: Not Sarcastic\n",
      "\n",
      "Text: But what about 7?! I MUST KNOW!\n",
      "Model output: [[0.9881911 0.0118089]]\n",
      "Predicted label: Not Sarcastic\n",
      "\n",
      "Text: Every Single Active NBA Player Ranked (November 3, 2016). Will Be Updated Weekly\n",
      "Model output: [[0.98002166 0.01997832]]\n",
      "Predicted label: Not Sarcastic\n",
      "\n",
      "Text: I've looked it up, and the correct spelling is 'Pascal Cygan'.\n",
      "Model output: [[0.9927892  0.00721083]]\n",
      "Predicted label: Not Sarcastic\n",
      "\n",
      "Text: So was Hastert. Oh, wait...\n",
      "Model output: [[0.98635966 0.01364034]]\n",
      "Predicted label: Not Sarcastic\n",
      "\n"
     ]
    },
    {
     "name": "stderr",
     "output_type": "stream",
     "text": [
      " 63%|██████▎   | 316/500 [00:13<00:07, 23.26it/s]"
     ]
    },
    {
     "name": "stdout",
     "output_type": "stream",
     "text": [
      "Text: People regularly ask why it takes so many cops to arrest a person. Thing is, to restrain somebody safely, to minimise the risk of them twisting and breaking something, it takes a few people. It takes numbers to prevent idiots trying to get in on the incident despite having no involvement. Professional agitators, nosy people, \"pranksters\" trying to get involved on film for youtube hits and those that just hate the police, looking to take advantage of a situation whether that be to give a few kicks or put the windows through of the police vehicle. source: cop.\n",
      "Model output: [[0.97908974 0.02091019]]\n",
      "Predicted label: Not Sarcastic\n",
      "\n",
      "Text: North Carolina will give you a smoked pork BBQ sandwich and the keys to a V8.\n",
      "Model output: [[0.9965463  0.00345369]]\n",
      "Predicted label: Not Sarcastic\n",
      "\n",
      "Text: What happened to the community? :'( Hey everyone! I just decided to start playing this game again after other things (life, other games) took over. I was really excited because I remembered the community around the launch of Early Access to be nice, communicative, and overall helpful. The game felt fun. I used to play a lot of MOBAs, and this was a breath of fresh air. In the four games today (Christmas, of all days) I've had three teammates tell me that I'm \"absolute shit\" and to go \"kill myself\". What happened to this community? It feels like a MOBA community (not quite as bad as LoL, but it's starting to have a familiar feel to me) more than it used to feel just like a bunch of people trying to compete yet still enjoying the competition, even if someone is having a bad game. It makes me hesitant to keep at it, and I was excited about getting back into it. :'(\n",
      "Model output: [[0.9914859  0.00851413]]\n",
      "Predicted label: Not Sarcastic\n",
      "\n",
      "Text: Week 7 Positivity Thread Welcome to the weekly Positivity Thread, the thread where the rules are made up and the points don't matter. What's been going well for your team recently? What are you excited or hopeful for in upcoming weeks? This thread is a place for any and all positive thoughts regarding your team or the NFL in general. All good vibes are welcome.\n",
      "Model output: [[0.9958061  0.00419389]]\n",
      "Predicted label: Not Sarcastic\n",
      "\n",
      "Text: What's the plan for the weekend, folks? I'm always interested in what other grownup humans do on their Saturdays and Sundays. Tonight is shabbos dinner with the family (beloved wife is making cold spring rolls, the perfect treat in this maddening heat). Tomorrow is Farmers Market for most of the day and probably old timey music playing with friends at night, Sunday is take the skating girl child to roller derby and all hands on deck clean the hell out of the house in the afternoon. Probably mow the goddamn lawn too. Maybe let my you gest kid try to train me up a little in Fallout4. How do you spend your weekends?\n",
      "Model output: [[0.99359244 0.0064075 ]]\n",
      "Predicted label: Not Sarcastic\n",
      "\n",
      "Text: Patrick kane review buying a base card kaner, biggest pros and cons for his play style?\n",
      "Model output: [[0.99082935 0.00917063]]\n",
      "Predicted label: Not Sarcastic\n",
      "\n"
     ]
    },
    {
     "name": "stderr",
     "output_type": "stream",
     "text": [
      " 64%|██████▍   | 322/500 [00:13<00:07, 23.93it/s]"
     ]
    },
    {
     "name": "stdout",
     "output_type": "stream",
     "text": [
      "Text: We've got very big problems ahead. Russia's new super nuke can wipe us out. Prepare for whats to come.\n",
      "Model output: [[0.99615437 0.0038456 ]]\n",
      "Predicted label: Not Sarcastic\n",
      "\n",
      "Text: But that could happen just the same with a standard pot because they are held to the same safety standards...\n",
      "Model output: [[0.9932172  0.00678279]]\n",
      "Predicted label: Not Sarcastic\n",
      "\n",
      "Text: I'm a fan of Achievement Hunters, and they released a fucking 2 hours and 45 minutes video of them playing Uno. And I'm watching it for the second time right now. What is my life. Also, PRT in Morgantown had what is probably it's first accident due to two cars colliding ever. In 40+ years of service.\n",
      "Model output: [[0.991549   0.00845097]]\n",
      "Predicted label: Not Sarcastic\n",
      "\n",
      "Text: Conservatives hate our freedoms more than the terrorists do. And conservatives are100X more effective at stamping out our freedom and propagating fear than the terrorists could ever dream of.\n",
      "Model output: [[0.9936753  0.00632469]]\n",
      "Predicted label: Not Sarcastic\n",
      "\n",
      "Text: Let the trade wars begin! American's will love paying more for most retail goods!\n",
      "Model output: [[0.99299735 0.00700272]]\n",
      "Predicted label: Not Sarcastic\n",
      "\n"
     ]
    },
    {
     "name": "stderr",
     "output_type": "stream",
     "text": [
      " 66%|██████▌   | 328/500 [00:13<00:07, 22.40it/s]"
     ]
    },
    {
     "name": "stdout",
     "output_type": "stream",
     "text": [
      "Text: Wow man you are so epic and random! I'm 14 and this is funny\n",
      "Model output: [[0.98235655 0.01764342]]\n",
      "Predicted label: Not Sarcastic\n",
      "\n",
      "Text: You missed the point.\n",
      "Model output: [[0.993437   0.00656303]]\n",
      "Predicted label: Not Sarcastic\n",
      "\n",
      "Text: She doesnt watch porn\n",
      "Model output: [[0.9448781  0.05512192]]\n",
      "Predicted label: Not Sarcastic\n",
      "\n",
      "Text: I just want you to know... I appreciate you.\n",
      "Model output: [[0.9872186  0.01278133]]\n",
      "Predicted label: Not Sarcastic\n",
      "\n",
      "Text: That's your own hangup. Luckily, Riot caters to anyone with money and the time to play their game.\n",
      "Model output: [[0.9793848  0.02061517]]\n",
      "Predicted label: Not Sarcastic\n",
      "\n"
     ]
    },
    {
     "name": "stderr",
     "output_type": "stream",
     "text": [
      " 67%|██████▋   | 334/500 [00:13<00:06, 23.78it/s]"
     ]
    },
    {
     "name": "stdout",
     "output_type": "stream",
     "text": [
      "Text: Yeah how terrible to be in a small dark place with an attractive member of the opposite sex. Phew never sign me up for that one\n",
      "Model output: [[0.5986444  0.40135562]]\n",
      "Predicted label: Not Sarcastic\n",
      "\n",
      "Text: Daughter waking up every hour My daughter wake up every hour after 2:30.. she eats quick then goes back to sleep. How can I fix this and what's causing it?\n",
      "Model output: [[0.9252348  0.07476523]]\n",
      "Predicted label: Not Sarcastic\n",
      "\n",
      "Text: omg feminists are the most opressed, pls haaaelp\n",
      "Model output: [[0.99265444 0.00734555]]\n",
      "Predicted label: Not Sarcastic\n",
      "\n",
      "Text: Have you ever seen Sears catalogs from the 80s? Those fuckers are basically phone book sized\n",
      "Model output: [[0.8848384  0.11516154]]\n",
      "Predicted label: Not Sarcastic\n",
      "\n",
      "Text: Should I see Agent Carter S2? It's probably the only thing in the MCU I haven't seen. I saw the first season and liked it. Should I bother with this one?\n",
      "Model output: [[0.9913662  0.00863373]]\n",
      "Predicted label: Not Sarcastic\n",
      "\n",
      "Text: This incessant comparing of Trump to Hitler is pure liberalism and has got to stop. It's an insult to the millions that suffered and died under actual fascism.\n",
      "Model output: [[0.9932607  0.00673932]]\n",
      "Predicted label: Not Sarcastic\n",
      "\n"
     ]
    },
    {
     "name": "stderr",
     "output_type": "stream",
     "text": [
      " 67%|██████▋   | 337/500 [00:14<00:06, 23.95it/s]"
     ]
    },
    {
     "name": "stdout",
     "output_type": "stream",
     "text": [
      "Text: The military pay office lost my payroll for 6 months. Thats right, 6 months. No one could find my payroll,so I just wasn't paid. I had to get a part time job as a security guard to live.\n",
      "Model output: [[0.9736843  0.02631561]]\n",
      "Predicted label: Not Sarcastic\n",
      "\n",
      "Text: Tulowitzki vs. Andrew Miller (one of the best at-bats of the 2015 season)\n",
      "Model output: [[0.98424625 0.01575373]]\n",
      "Predicted label: Not Sarcastic\n",
      "\n",
      "Text: Wccftech blows EVGA issues out of proportion - shares video of a VRM exploding when GPU is not connected to the PSU\n",
      "Model output: [[0.98512024 0.01487974]]\n",
      "Predicted label: Not Sarcastic\n",
      "\n",
      "Text: Irrelevant. You asked \"could\". I used an example to show that anything (within physical possibilities) can be used as a pillow\n",
      "Model output: [[0.99144495 0.00855508]]\n",
      "Predicted label: Not Sarcastic\n",
      "\n",
      "Text: Nov 24th I work 3rd 9pm-7am? I'd assume because of black friday, but will I even be stocking? How does that hour make a difference lol instead of my 10pm-7am I recently had something called Linerusher added to my MC40 too\n",
      "Model output: [[0.76426613 0.23573382]]\n",
      "Predicted label: Not Sarcastic\n",
      "\n"
     ]
    },
    {
     "name": "stderr",
     "output_type": "stream",
     "text": [
      " 69%|██████▊   | 343/500 [00:14<00:06, 23.06it/s]"
     ]
    },
    {
     "name": "stdout",
     "output_type": "stream",
     "text": [
      "Text: Yeah. Especially caused an issue since it's technically a hazmat spill.\n",
      "Model output: [[0.92469627 0.07530367]]\n",
      "Predicted label: Not Sarcastic\n",
      "\n",
      "Text: I like this line of thinking, but how does he profit?\n",
      "Model output: [[0.99042153 0.00957847]]\n",
      "Predicted label: Not Sarcastic\n",
      "\n",
      "Text: I DONT HAVE TO LET YOU IF I DONT WANT TO\n",
      "Model output: [[0.97352684 0.02647324]]\n",
      "Predicted label: Not Sarcastic\n",
      "\n",
      "Text: What piece of old technology do you wish you had?\n",
      "Model output: [[0.9699972  0.03000275]]\n",
      "Predicted label: Not Sarcastic\n",
      "\n"
     ]
    },
    {
     "name": "stderr",
     "output_type": "stream",
     "text": [
      " 70%|██████▉   | 349/500 [00:14<00:06, 23.09it/s]"
     ]
    },
    {
     "name": "stdout",
     "output_type": "stream",
     "text": [
      "Text: You don't need to \"chase\" big girls if ya get what I mean\n",
      "Model output: [[0.9919492  0.00805081]]\n",
      "Predicted label: Not Sarcastic\n",
      "\n",
      "Text: One of my friends text messages keeps sending double texts as seen in picture. Has this happen to anyone's LG V20? Anyone have any ideas how to fix it let me know. Thanks\n",
      "Model output: [[0.73850155 0.26149842]]\n",
      "Predicted label: Not Sarcastic\n",
      "\n",
      "Text: N\n",
      "Model output: [[0.56601965 0.43398032]]\n",
      "Predicted label: Not Sarcastic\n",
      "\n",
      "Text: IMO Juno was the best pull here, she's an amazing nat5! Check AD on guardian level\n",
      "Model output: [[0.994276   0.00572401]]\n",
      "Predicted label: Not Sarcastic\n",
      "\n",
      "Text: The EU should never have existed. I am really glad that it will no longer exist in the next 10 years.\n",
      "Model output: [[0.9931837  0.00681637]]\n",
      "Predicted label: Not Sarcastic\n",
      "\n",
      "Text: Kyle was grounded that night.\n",
      "Model output: [[0.9605486  0.03945138]]\n",
      "Predicted label: Not Sarcastic\n",
      "\n"
     ]
    },
    {
     "name": "stderr",
     "output_type": "stream",
     "text": [
      " 70%|███████   | 352/500 [00:14<00:06, 22.78it/s]"
     ]
    },
    {
     "name": "stdout",
     "output_type": "stream",
     "text": [
      "Text: COLDZERA wins best eSports player of the year!\n",
      "Model output: [[0.9072138  0.09278617]]\n",
      "Predicted label: Not Sarcastic\n",
      "\n",
      "Text: pistol, not grenade. But now I wonder what happens if you do execution with grenade.\n",
      "Model output: [[0.7021893  0.29781067]]\n",
      "Predicted label: Not Sarcastic\n",
      "\n",
      "Text: Dad found kids bong while he was away at college.\n",
      "Model output: [[0.60975254 0.39024743]]\n",
      "Predicted label: Not Sarcastic\n",
      "\n",
      "Text: There is one MOM site that lists a bunch of rules, and if you violate any of those rules they will refuse to do business with you. Some of them include contacting CP, emailing the MOM more than once for info and even a rule where they won't do business with you if your email or user name is cannabis related. Funny thing this MOM has been around for almost ten years and they have never had a problem. More MOM's need to adopt this attitude when dealing with customers, there are too many people who have no clue how to do business in a hush hush way and they are the idiots who are risking this system for those of us who do things quietly and correctly.\n",
      "Model output: [[0.9822206  0.01777942]]\n",
      "Predicted label: Not Sarcastic\n",
      "\n",
      "Text: Lockheed Martin shares drop after Trump says F-35 program too expensive\n",
      "Model output: [[0.56367725 0.43632275]]\n",
      "Predicted label: Not Sarcastic\n",
      "\n"
     ]
    },
    {
     "name": "stderr",
     "output_type": "stream",
     "text": [
      " 72%|███████▏  | 358/500 [00:14<00:06, 23.60it/s]"
     ]
    },
    {
     "name": "stdout",
     "output_type": "stream",
     "text": [
      "Text: BREAKING: COMEY RECOMMENDS NO ACTION ON THE NEW EMAILS\n",
      "Model output: [[0.37984243 0.6201576 ]]\n",
      "Predicted label: Sarcastic\n",
      "\n",
      "Text: It's impressive. I don't understand how his aggressive mediocrity has been tolerated for so long. Washington is a good school with a history of quality sports teams. Why should they have to settle for Romar?\n",
      "Model output: [[0.9919429  0.00805716]]\n",
      "Predicted label: Not Sarcastic\n",
      "\n",
      "Text: Not really. I don't kick people for using DLC unlockers. As long as they're not cheating, what do I care? It's not harming my gameplay for them to use weapons and perks and masks.\n",
      "Model output: [[0.98755395 0.01244602]]\n",
      "Predicted label: Not Sarcastic\n",
      "\n",
      "Text: Next expansion, new legendary \"Yuge\", battlecry: your opponent has 2 less mana next turn, deathrattle: add a random Murloc to your hand (he's not against the Murlocs, he has a good friend who happens to be a Murloc)\n",
      "Model output: [[0.9899927  0.01000732]]\n",
      "Predicted label: Not Sarcastic\n",
      "\n",
      "Text: Here, kitty kitty\n",
      "Model output: [[0.97162014 0.02837984]]\n",
      "Predicted label: Not Sarcastic\n",
      "\n"
     ]
    },
    {
     "name": "stderr",
     "output_type": "stream",
     "text": [
      " 72%|███████▏  | 361/500 [00:15<00:05, 23.75it/s]"
     ]
    },
    {
     "name": "stdout",
     "output_type": "stream",
     "text": [
      "Text: Ballot measures would legalize pot, end death penalty, create single-payer health care\n",
      "Model output: [[0.9880384  0.01196166]]\n",
      "Predicted label: Not Sarcastic\n",
      "\n",
      "Text: Man, remember when the Civil War was taught as a tragedy of brother vs brother? Pepperidge Farm remembers.\n",
      "Model output: [[0.2843247  0.71567535]]\n",
      "Predicted label: Sarcastic\n",
      "\n",
      "Text: If you just heard a gun shot real close to your house in the middle of the afternoon, what would be your first thought?\n",
      "Model output: [[0.99523276 0.0047672 ]]\n",
      "Predicted label: Not Sarcastic\n",
      "\n",
      "Text: The year is about to end, which manga would you like to get an anime in 2017? **What the title says.** [](#mug5)\n",
      "Model output: [[0.9951656  0.00483439]]\n",
      "Predicted label: Not Sarcastic\n",
      "\n"
     ]
    },
    {
     "name": "stderr",
     "output_type": "stream",
     "text": [
      " 73%|███████▎  | 367/500 [00:15<00:06, 21.62it/s]"
     ]
    },
    {
     "name": "stdout",
     "output_type": "stream",
     "text": [
      "Text: Reddit, what shall we do with the drunken sailor?\n",
      "Model output: [[0.9155216  0.08447833]]\n",
      "Predicted label: Not Sarcastic\n",
      "\n",
      "Text: Brad Pitt's wife's head.\n",
      "Model output: [[0.7446162 0.2553838]]\n",
      "Predicted label: Not Sarcastic\n",
      "\n",
      "Text: Except for the quit button disappearing when you want to leave the lobby, ironically.\n",
      "Model output: [[0.97497374 0.02502627]]\n",
      "Predicted label: Not Sarcastic\n",
      "\n",
      "Text: Netanyahu doesn't speak for all of Israel, despite his pretenses to. Or even all of the Jews.\n",
      "Model output: [[0.8281128  0.17188716]]\n",
      "Predicted label: Not Sarcastic\n",
      "\n",
      "Text: Why did SA have to kill the Wololo meme\n",
      "Model output: [[0.9792683  0.02073169]]\n",
      "Predicted label: Not Sarcastic\n",
      "\n"
     ]
    },
    {
     "name": "stderr",
     "output_type": "stream",
     "text": [
      " 75%|███████▍  | 373/500 [00:15<00:05, 21.66it/s]"
     ]
    },
    {
     "name": "stdout",
     "output_type": "stream",
     "text": [
      "Text: I'll give all that stuff back to one of your toons and switch mine get stuff again and rss to your toon\n",
      "Model output: [[0.97943246 0.02056751]]\n",
      "Predicted label: Not Sarcastic\n",
      "\n",
      "Text: The build seems right. With those specs you would be looking at maxing out almost all games on 1080p. What country do you live in/\n",
      "Model output: [[0.9884616  0.01153845]]\n",
      "Predicted label: Not Sarcastic\n",
      "\n",
      "Text: And even a prominent democrat defended him.\n",
      "Model output: [[0.9913352  0.00866478]]\n",
      "Predicted label: Not Sarcastic\n",
      "\n",
      "Text: Yet another zombie defense\n",
      "Model output: [[0.9618281  0.03817189]]\n",
      "Predicted label: Not Sarcastic\n",
      "\n",
      "Text: Why not? I thought the first winner was perfectly legitimate. There is no rule that people have to be in combat if there were no one would complain. I see no problem with it at all, he was smart enough to find a way to be the last person alive, which jagex has stated many times is the objective.\n",
      "Model output: [[0.9835767  0.01642329]]\n",
      "Predicted label: Not Sarcastic\n",
      "\n"
     ]
    },
    {
     "name": "stderr",
     "output_type": "stream",
     "text": [
      " 75%|███████▌  | 376/500 [00:15<00:05, 21.72it/s]"
     ]
    },
    {
     "name": "stdout",
     "output_type": "stream",
     "text": [
      "Text: Trump up six points in Utah!! THE CUCKS TOLD ME UTAH REPUBLICANS WERE REVOLTING\n",
      "Model output: [[0.99101794 0.00898208]]\n",
      "Predicted label: Not Sarcastic\n",
      "\n",
      "Text: Premium Elite?\n",
      "Model output: [[0.8699591  0.13004082]]\n",
      "Predicted label: Not Sarcastic\n",
      "\n",
      "Text: Cat.\n",
      "Model output: [[0.7602565  0.23974352]]\n",
      "Predicted label: Not Sarcastic\n",
      "\n",
      "Text: Its not politically correct to say, and im sure there are groups who will outright deny it and call me racist, but i believe we are looking an humans of 50, 000 years ago. Peoples of these regions just carried on in the same way for thousands of years.\n",
      "Model output: [[0.93568254 0.06431747]]\n",
      "Predicted label: Not Sarcastic\n",
      "\n",
      "Text: they might as well have been released then\n",
      "Model output: [[0.95218545 0.04781461]]\n",
      "Predicted label: Not Sarcastic\n",
      "\n"
     ]
    },
    {
     "name": "stderr",
     "output_type": "stream",
     "text": [
      " 76%|███████▋  | 382/500 [00:16<00:05, 21.74it/s]"
     ]
    },
    {
     "name": "stdout",
     "output_type": "stream",
     "text": [
      "Text: Redditors who have met a previous crush years later, how did it turn out?\n",
      "Model output: [[0.9848209  0.01517915]]\n",
      "Predicted label: Not Sarcastic\n",
      "\n",
      "Text: Is it any good? It's been on my wish list for the longest time and haven't made the leap to buy it.\n",
      "Model output: [[0.9902109 0.0097891]]\n",
      "Predicted label: Not Sarcastic\n",
      "\n",
      "Text: That's what you think.\n",
      "Model output: [[0.98444134 0.01555864]]\n",
      "Predicted label: Not Sarcastic\n",
      "\n",
      "Text: I can see you are trying as hard as you can AND it's not meeting my requirements.\n",
      "Model output: [[0.98619264 0.01380731]]\n",
      "Predicted label: Not Sarcastic\n",
      "\n",
      "Text: Valve has been shitposting with updates for a while. See: the clusterfuck that is Casual and the update that introduced it.\n",
      "Model output: [[0.99531084 0.00468915]]\n",
      "Predicted label: Not Sarcastic\n",
      "\n"
     ]
    },
    {
     "name": "stderr",
     "output_type": "stream",
     "text": [
      " 78%|███████▊  | 388/500 [00:16<00:05, 21.42it/s]"
     ]
    },
    {
     "name": "stdout",
     "output_type": "stream",
     "text": [
      "Text: NY Times: \"A jet-lagged Mrs. Clinton once emailed Ms. Abedin at 12:21 a.m. to take her up on an offer to come over to Mrs. Clinton's house for a chat. 'Just knock on the door to the bedroom if it's closed,' she wrote.\"\n",
      "Model output: [[0.5805063  0.41949368]]\n",
      "Predicted label: Not Sarcastic\n",
      "\n",
      "Text: I'm with NYJ on this one. Totally owned you. What does it feel like because its never happened to me?\n",
      "Model output: [[0.9904756  0.00952442]]\n",
      "Predicted label: Not Sarcastic\n",
      "\n",
      "Text: I live in the middle of nowhere and I wouldn't have difficulty finding diesel.\n",
      "Model output: [[0.99373615 0.00626381]]\n",
      "Predicted label: Not Sarcastic\n",
      "\n",
      "Text: I refuse to accept the outcome of this WC if a Western Team doesn't win.\n",
      "Model output: [[0.9937296  0.00627037]]\n",
      "Predicted label: Not Sarcastic\n",
      "\n",
      "Text: F\n",
      "Model output: [[0.71344876 0.2865512 ]]\n",
      "Predicted label: Not Sarcastic\n",
      "\n"
     ]
    },
    {
     "name": "stderr",
     "output_type": "stream",
     "text": [
      " 79%|███████▉  | 394/500 [00:16<00:04, 22.59it/s]"
     ]
    },
    {
     "name": "stdout",
     "output_type": "stream",
     "text": [
      "Text: What is something that people complain about that makes you roll your eyes?\n",
      "Model output: [[0.98464406 0.01535601]]\n",
      "Predicted label: Not Sarcastic\n",
      "\n",
      "Text: Lebron James becomes the FIRST ever player in NBA history to achieve totals of 27,000 points, 7,000 rebounds and 7,000 assists! #TheUltimateLeBron\n",
      "Model output: [[0.98954856 0.01045147]]\n",
      "Predicted label: Not Sarcastic\n",
      "\n",
      "Text: Thanks, can you take a look on desktop pc too?\n",
      "Model output: [[0.9860217  0.01397837]]\n",
      "Predicted label: Not Sarcastic\n",
      "\n",
      "Text: What is healthy but actually tastes good?\n",
      "Model output: [[0.9866997  0.01330031]]\n",
      "Predicted label: Not Sarcastic\n",
      "\n",
      "Text: My roommate would routinely take out the bateries in the smoke detector because it always went off when we cooked bacon. After the third time I saw him do it, I told him not to do that shit ever again and to just turn the fan on over the stove and shut the kitchen door. He pissed an moaned like crazy. About 2 months later he had a candle burning in his room with the window open. The wind blew a sombrero off the wall and onto the candle. It caught some clothing and part of the bed and the room started to go. It triggered the smoke alarm and I was able to get to it with an extinguisher before the room was fully involved. If that had happened and we didn't have batteries in that smoke alarm, the entire building would have been a loss. The best part? He was pissed at me for getting \"fire extinguisher dust\" all over his room. Ironically, he was kicked out because he caused flood damage a few months later.\n",
      "Model output: [[0.9630796  0.03692037]]\n",
      "Predicted label: Not Sarcastic\n",
      "\n",
      "Text: omw\n",
      "Model output: [[0.7421944  0.25780556]]\n",
      "Predicted label: Not Sarcastic\n",
      "\n"
     ]
    },
    {
     "name": "stderr",
     "output_type": "stream",
     "text": [
      " 79%|███████▉  | 397/500 [00:16<00:04, 22.95it/s]"
     ]
    },
    {
     "name": "stdout",
     "output_type": "stream",
     "text": [
      "Text: Does Trump Tower have a helipad? He could just fly off and not mess up traffic for everyone.\n",
      "Model output: [[0.9890189  0.01098116]]\n",
      "Predicted label: Not Sarcastic\n",
      "\n",
      "Text: I love that ult so much. You've convinced me to go back and try him out more!\n",
      "Model output: [[0.98860747 0.01139261]]\n",
      "Predicted label: Not Sarcastic\n",
      "\n",
      "Text: What you'll need is an electric vehicle and a rocket to get it there. I suggest you talk to Elon Musk.\n",
      "Model output: [[0.99480814 0.00519187]]\n",
      "Predicted label: Not Sarcastic\n",
      "\n",
      "Text: Very thoughtful post. Thank you Queef Pudding.\n",
      "Model output: [[0.9753386  0.02466138]]\n",
      "Predicted label: Not Sarcastic\n",
      "\n",
      "Text: A Moment in Crime just reached 100%\n",
      "Model output: [[0.9929576  0.00704236]]\n",
      "Predicted label: Not Sarcastic\n",
      "\n",
      "Text: Get free tours?\n",
      "Model output: [[0.98844993 0.01155004]]\n",
      "Predicted label: Not Sarcastic\n",
      "\n"
     ]
    },
    {
     "name": "stderr",
     "output_type": "stream",
     "text": [
      " 81%|████████  | 403/500 [00:17<00:04, 23.59it/s]"
     ]
    },
    {
     "name": "stdout",
     "output_type": "stream",
     "text": [
      "Text: PEAKE\n",
      "Model output: [[0.54138577 0.4586142 ]]\n",
      "Predicted label: Not Sarcastic\n",
      "\n",
      "Text: I remember doing this with fruit rollups' and warheads just sucking on the rollup until I got that sour juice.\n",
      "Model output: [[0.705678   0.29432198]]\n",
      "Predicted label: Not Sarcastic\n",
      "\n",
      "Text: Most of the problems that happen between two people is because one of them is a fucking idiot.\n",
      "Model output: [[0.92057407 0.07942586]]\n",
      "Predicted label: Not Sarcastic\n",
      "\n",
      "Text: Time will tell. Kind of presumptuous with all the fear mongering going on about it now. We were told the same thing with Bush. The UK will implode after Brexit. Etc, etc. Let's see what happens. Guarantee it's not going to be drastically different than it already is, I'll be able to say 'told you so', and you'll continue with the rhetoric. Has Canada changed from Harper to Trudeau? Nope. Did the US change from Bush to Obama? (shit, it was even the guys slogan) Nopeee. All different names for the same thing man. Take a chill pill and watch what happens. More of the same.\n",
      "Model output: [[0.991446   0.00855397]]\n",
      "Predicted label: Not Sarcastic\n",
      "\n",
      "Text: **For those who got cut off, if you have verizon you might be able to watch on nfl mobile**\n",
      "Model output: [[0.93269247 0.06730758]]\n",
      "Predicted label: Not Sarcastic\n",
      "\n"
     ]
    },
    {
     "name": "stderr",
     "output_type": "stream",
     "text": [
      " 82%|████████▏ | 409/500 [00:17<00:04, 22.49it/s]"
     ]
    },
    {
     "name": "stdout",
     "output_type": "stream",
     "text": [
      "Text: ... mikrotik ? Maybe arista, I'm not familiar with their productline. Yeah there is nothing except fiber stuff that Juniper would gain from it, I guess VCS is pretty nice but that's about it\n",
      "Model output: [[0.95810217 0.04189786]]\n",
      "Predicted label: Not Sarcastic\n",
      "\n",
      "Text: Mc Cree or Genji golden weapon ? What's YOUR personal preference and which of the two do you think is the hardest to play at a high level?\n",
      "Model output: [[0.99433076 0.00566922]]\n",
      "Predicted label: Not Sarcastic\n",
      "\n",
      "Text: Get up on the wrong side of bed this morning? I disagree with quota hiring because every hire should be made on the basis of merit at the time of appointment. So yes, it may be that quotas do lead to some women being hired to positions for which they are not the best-qualified candidate. But even that is just supposition. And it doesn't mean there are no talented women (really?); just that by-and-large women and men tend to have slightly different talents and inclinations. What we need is equality of opportunity, and a willingness not to stereotype on the basis of aggregate behaviours, rather than equality of outcome. By far my best ever boss was a woman: calm, collected, fair, highly-competent, and treated everyone with respect. There are lots of good, intelligent women out there doing good work. And women are not the enemy. We'll just end up as warped and bitter as feminists if we go down that path.\n",
      "Model output: [[0.9948421  0.00515793]]\n",
      "Predicted label: Not Sarcastic\n",
      "\n",
      "Text: Report: Trump pressed Argentina's president about stalled building project on phone call\n",
      "Model output: [[0.9412316  0.05876846]]\n",
      "Predicted label: Not Sarcastic\n",
      "\n",
      "Text: People that makes these are a bit retarded. The standard of living in America is one of the highest. Even our poor live better lives than most of the third world rich. No one is going to riot or stage huge protests as long as they have food and can take care of their family. It's not hard to protest when your already unemployment and you have nothing else to loose.\n",
      "Model output: [[0.9953484  0.00465162]]\n",
      "Predicted label: Not Sarcastic\n",
      "\n"
     ]
    },
    {
     "name": "stderr",
     "output_type": "stream",
     "text": [
      " 83%|████████▎ | 415/500 [00:17<00:03, 23.05it/s]"
     ]
    },
    {
     "name": "stdout",
     "output_type": "stream",
     "text": [
      "Text: BREAKING: Trump outfoxes CNN and gets veterans free airtime. CNN rages and claims they \"got played.\" BTFO LMFAO\n",
      "Model output: [[0.44742963 0.5525704 ]]\n",
      "Predicted label: Sarcastic\n",
      "\n",
      "Text: See Glenn Beck's show. Basically pivoted towards a \"Trumps going to ruin the world, buy gold.\"\n",
      "Model output: [[0.99544    0.00455995]]\n",
      "Predicted label: Not Sarcastic\n",
      "\n",
      "Text: get supreme ones pleb\n",
      "Model output: [[0.800131 0.199869]]\n",
      "Predicted label: Not Sarcastic\n",
      "\n",
      "Text: In that PvP covenant, you rank up by getting points. A win in the arena gains you one point, while a loss makes you lose a point. When you rank up in the covenant, you gain that aura; the aura grows as you climb ranks. For reference, rank one requires 50 points, two requires 150 points, while three requires 500 points.\n",
      "Model output: [[0.99179596 0.00820405]]\n",
      "Predicted label: Not Sarcastic\n",
      "\n",
      "Text: Do you Agree that this version is The BEST Version of x6 MR.O Phil Heath ?\n",
      "Model output: [[0.99063396 0.00936604]]\n",
      "Predicted label: Not Sarcastic\n",
      "\n"
     ]
    },
    {
     "name": "stderr",
     "output_type": "stream",
     "text": [
      " 84%|████████▎ | 418/500 [00:17<00:03, 23.55it/s]"
     ]
    },
    {
     "name": "stdout",
     "output_type": "stream",
     "text": [
      "Text: Odyssey Collection Bonuses are Exclusive. Only the Anubis T5 reward is limited.\n",
      "Model output: [[0.9594507  0.04054927]]\n",
      "Predicted label: Not Sarcastic\n",
      "\n",
      "Text: Eugenics seems to have some support on Reddit, but anywhere else... I don't particularly see anyone outside of Reddit supporting it.\n",
      "Model output: [[0.9814824  0.01851765]]\n",
      "Predicted label: Not Sarcastic\n",
      "\n",
      "Text: by the way do you know in how many hours the announcement is supposed to be held? ( easier than converting the time ). also, sorry for double posting.\n",
      "Model output: [[0.9936604  0.00633969]]\n",
      "Predicted label: Not Sarcastic\n",
      "\n",
      "Text: Literally unplayable\n",
      "Model output: [[0.65904087 0.3409591 ]]\n",
      "Predicted label: Not Sarcastic\n",
      "\n",
      "Text: Favorite Host?\n",
      "Model output: [[0.7992217 0.2007783]]\n",
      "Predicted label: Not Sarcastic\n",
      "\n",
      "Text: Dog smoked a blunt dipped in codeine, the cat mainlined Fentanyl straight into his nut sack.\n",
      "Model output: [[0.9791788  0.02082117]]\n",
      "Predicted label: Not Sarcastic\n",
      "\n"
     ]
    },
    {
     "name": "stderr",
     "output_type": "stream",
     "text": [
      " 85%|████████▌ | 427/500 [00:18<00:03, 23.49it/s]"
     ]
    },
    {
     "name": "stdout",
     "output_type": "stream",
     "text": [
      "Text: I think the way the hips are shaped it makes it easier to slide yourself legs first but not slide back out the same way.\n",
      "Model output: [[0.96170074 0.0382992 ]]\n",
      "Predicted label: Not Sarcastic\n",
      "\n",
      "Text: Daniel Bryan calls out Mick Foley's hypocrisy, mentions TNA\n",
      "Model output: [[0.9844438  0.01555626]]\n",
      "Predicted label: Not Sarcastic\n",
      "\n",
      "Text: If you could vote for one redditor to represent Reddit, who would you vote for and why?\n",
      "Model output: [[0.99583614 0.00416388]]\n",
      "Predicted label: Not Sarcastic\n",
      "\n",
      "Text: I think he looks depressed.\n",
      "Model output: [[0.9734576  0.02654247]]\n",
      "Predicted label: Not Sarcastic\n",
      "\n",
      "Text: America rewards white people for the most basic things\n",
      "Model output: [[0.98572296 0.01427706]]\n",
      "Predicted label: Not Sarcastic\n",
      "\n",
      "Text: It's true. We call this place [redacted] now, because we were accused of brigading. It was the only option to avoid being silenced.\n",
      "Model output: [[0.9925972  0.00740272]]\n",
      "Predicted label: Not Sarcastic\n",
      "\n"
     ]
    },
    {
     "name": "stderr",
     "output_type": "stream",
     "text": [
      " 86%|████████▌ | 430/500 [00:18<00:02, 23.73it/s]"
     ]
    },
    {
     "name": "stdout",
     "output_type": "stream",
     "text": [
      "Text: ESPN Standard Eifert vs NYG or Pitta vs CLE\n",
      "Model output: [[0.48770368 0.5122963 ]]\n",
      "Predicted label: Sarcastic\n",
      "\n",
      "Text: Trump campaign manager: 'Are you calling him a liar?'\n",
      "Model output: [[0.5038056  0.49619442]]\n",
      "Predicted label: Not Sarcastic\n",
      "\n",
      "Text: Courage the Cowardly Dog was disturbing at times\n",
      "Model output: [[0.9768316  0.02316835]]\n",
      "Predicted label: Not Sarcastic\n",
      "\n",
      "Text: He's fried from all the drugs he's done\n",
      "Model output: [[0.7966862  0.20331383]]\n",
      "Predicted label: Not Sarcastic\n",
      "\n",
      "Text: Front page post with 2000 comments and is 10 hours old. Redditors IRL.\n",
      "Model output: [[0.8006906  0.19930941]]\n",
      "Predicted label: Not Sarcastic\n",
      "\n"
     ]
    },
    {
     "name": "stderr",
     "output_type": "stream",
     "text": [
      " 87%|████████▋ | 436/500 [00:18<00:02, 24.12it/s]"
     ]
    },
    {
     "name": "stdout",
     "output_type": "stream",
     "text": [
      "Text: Which anime character as grown as a person in a way that YOU need to grow as well?\n",
      "Model output: [[0.9380092  0.06199075]]\n",
      "Predicted label: Not Sarcastic\n",
      "\n",
      "Text: Smile for me once more, Will you? Go on and live, dance, rejoice, for whether you knew me or not, it is impolite to reject such an offer, especially from a man who can no longer do so.\n",
      "Model output: [[0.99253076 0.00746921]]\n",
      "Predicted label: Not Sarcastic\n",
      "\n",
      "Text: My red hat finally came. Do I dare wear it outside in California???\n",
      "Model output: [[0.9867823  0.01321768]]\n",
      "Predicted label: Not Sarcastic\n",
      "\n",
      "Text: **A DOVAHKIN'S FANTASY**\n",
      "Model output: [[0.97175735 0.02824269]]\n",
      "Predicted label: Not Sarcastic\n",
      "\n",
      "Text: What the fuck happened to material design?\n",
      "Model output: [[0.73047125 0.26952878]]\n",
      "Predicted label: Not Sarcastic\n",
      "\n"
     ]
    },
    {
     "name": "stderr",
     "output_type": "stream",
     "text": [
      " 88%|████████▊ | 442/500 [00:18<00:02, 24.66it/s]"
     ]
    },
    {
     "name": "stdout",
     "output_type": "stream",
     "text": [
      "Text: In honor of AI's induction, here is him and Korver doing work against the Spurs. Check out 2:50 for a nifty circus shot from Korver and 5:58 for a post-up!\n",
      "Model output: [[0.99662673 0.0033733 ]]\n",
      "Predicted label: Not Sarcastic\n",
      "\n",
      "Text: What if you could pick a deck for the innkeeper? I've often created fun and interesting decks for non-competitive play. I like to try strange decks just to see if I can get them to work. I think it's fun and it's one of the ways I have found to alleviate frustration when grinding ladder. A problem, though, is that I'll make a funky pirate shaman deck or a rogue deck with only two minions, etc. and want to just dick around and have fun with it. I'll go into casual and lose to aggro shaman or control Mage enough times that I feel like I should be playing a ranked deck to have a little more fun, and I'm back to grinding ladder. This brings me to my point. You can choose the class you play against in practice mode, letting you see how your deck fares in certain match ups. I think it would be fun and innovating to be able to choose a deck for the innkeeper to play against you. This could have practical benefits (like a mirror match to test out changes in a ranked deck) or it could be really fun (giving the innkeeper a golden Milhouse Manastorm). It could even be used to mess with deck interplay (thief rogue against a stacked deck). What do you guys think?\n",
      "Model output: [[0.99296427 0.00703575]]\n",
      "Predicted label: Not Sarcastic\n",
      "\n",
      "Text: No, that is completely wrong: the American people have a right to know if their president has conflicts, has paid taxes, has given to charity. We have an absolute right to know, and to not demand it is to leave yourself open for corruption: why do you think it became tradition to release your tax returns in the first place?\n",
      "Model output: [[0.994783   0.00521704]]\n",
      "Predicted label: Not Sarcastic\n",
      "\n",
      "Text: Yes it's my responsibility to vote. But it's not my responsibility to reward a candidate who feels they're entitled to my vote.\n",
      "Model output: [[0.9901603  0.00983978]]\n",
      "Predicted label: Not Sarcastic\n",
      "\n",
      "Text: I listened to him for the first time today because of all this. Can't say it's my thing, but I found his stuff interesting (especially that 'Wolves' song or whatever it was. It sounded pretty personal, considering the little I knew of him before).\n",
      "Model output: [[0.9807494  0.01925055]]\n",
      "Predicted label: Not Sarcastic\n",
      "\n",
      "Text: So only liberals traffic kids huh? LOL!\n",
      "Model output: [[0.97609055 0.02390946]]\n",
      "Predicted label: Not Sarcastic\n",
      "\n"
     ]
    },
    {
     "name": "stderr",
     "output_type": "stream",
     "text": [
      " 90%|████████▉ | 448/500 [00:18<00:02, 24.79it/s]"
     ]
    },
    {
     "name": "stdout",
     "output_type": "stream",
     "text": [
      "Text: Huma feigns ignorance, deflects blame to her Weiner\n",
      "Model output: [[0.9520659  0.04793407]]\n",
      "Predicted label: Not Sarcastic\n",
      "\n",
      "Text: I'm hoping they play him kind of like Nuge in his rookie year. Sheltered minutes and extra powerplay time to get his confidence up. Of course nuge produced very well on the powerplay which earned him the right to stay there.\n",
      "Model output: [[0.9692545  0.03074544]]\n",
      "Predicted label: Not Sarcastic\n",
      "\n",
      "Text: There's a very cute girl who gets the same bus as me that I want to talk to, but as I'm short and overweight, she'd probably just call me a creep if I said anything to her. But apart from that I am in the process of losing weight (60 pounds lost being the goal), 20 pounds lost so far. I do it primarily through calorie counting. It can be a bit tough but so far so good.\n",
      "Model output: [[0.9916631 0.0083369]]\n",
      "Predicted label: Not Sarcastic\n",
      "\n",
      "Text: He's talking about Silicon Valley.\n",
      "Model output: [[0.9451951  0.05480495]]\n",
      "Predicted label: Not Sarcastic\n",
      "\n",
      "Text: 'Serial,' 'Lore,' 'Still Processing,' and More: The Atlantic's 50 Best Podcasts of 2016\n",
      "Model output: [[0.9955012  0.00449875]]\n",
      "Predicted label: Not Sarcastic\n",
      "\n",
      "Text: That person has told me before that they are Australian and not a white supremacist. Who knows if that's true.\n",
      "Model output: [[0.9032908  0.09670917]]\n",
      "Predicted label: Not Sarcastic\n",
      "\n"
     ]
    },
    {
     "name": "stderr",
     "output_type": "stream",
     "text": [
      " 91%|█████████ | 454/500 [00:19<00:01, 25.12it/s]"
     ]
    },
    {
     "name": "stdout",
     "output_type": "stream",
     "text": [
      "Text: Nothing is better.\n",
      "Model output: [[0.9931525 0.0068475]]\n",
      "Predicted label: Not Sarcastic\n",
      "\n",
      "Text: Every time I've seen a random price like that it's been a fake ad. Ought that they added the bit about the ladder rack and work bins, though. That doesn't fit the typical fake ad formula.\n",
      "Model output: [[0.9772922  0.02270783]]\n",
      "Predicted label: Not Sarcastic\n",
      "\n",
      "Text: Most likely it was put there, to stir up hatred, and increase the catoliana nationalist theme. As they are seeking independence. While using the reason \"to start a conversion\" wich really is just bullshit.\n",
      "Model output: [[0.99576    0.00423995]]\n",
      "Predicted label: Not Sarcastic\n",
      "\n",
      "Text: Running out of TP.\n",
      "Model output: [[0.6730565  0.32694352]]\n",
      "Predicted label: Not Sarcastic\n",
      "\n",
      "Text: Yahoo is one of those pathetic tech companies that haven't been affecting my life in any way for at least 10 years\n",
      "Model output: [[0.8720145 0.1279855]]\n",
      "Predicted label: Not Sarcastic\n",
      "\n",
      "Text: Do you think IB/AP classes are truly worth it? Why or why not?\n",
      "Model output: [[0.9941737  0.00582633]]\n",
      "Predicted label: Not Sarcastic\n",
      "\n"
     ]
    },
    {
     "name": "stderr",
     "output_type": "stream",
     "text": [
      " 92%|█████████▏| 460/500 [00:19<00:01, 24.70it/s]"
     ]
    },
    {
     "name": "stdout",
     "output_type": "stream",
     "text": [
      "Text: Psycho cat lady assaults boyfriend for not paying attention to her\n",
      "Model output: [[0.86396354 0.1360365 ]]\n",
      "Predicted label: Not Sarcastic\n",
      "\n",
      "Text: Is that a hat in TF2?\n",
      "Model output: [[0.9889565  0.01104353]]\n",
      "Predicted label: Not Sarcastic\n",
      "\n",
      "Text: Council got good news on the budget today (goes over Seattle economy)\n",
      "Model output: [[0.9902311  0.00976887]]\n",
      "Predicted label: Not Sarcastic\n",
      "\n",
      "Text: Nanoboosted, fully charged Zarya is insane. (My first Sextuple kill!)\n",
      "Model output: [[0.9939666  0.00603345]]\n",
      "Predicted label: Not Sarcastic\n",
      "\n",
      "Text: what YOU think and what's real are 2 entirely different things.\n",
      "Model output: [[0.9965411  0.00345892]]\n",
      "Predicted label: Not Sarcastic\n",
      "\n"
     ]
    },
    {
     "name": "stderr",
     "output_type": "stream",
     "text": [
      " 93%|█████████▎| 463/500 [00:19<00:01, 23.10it/s]"
     ]
    },
    {
     "name": "stdout",
     "output_type": "stream",
     "text": [
      "Text: \"Did Hillary Clinton break the law?\" Chaffetz asked. \"In connection with her use of the email server? My judgment is that she did not,\" Comey said.\n",
      "Model output: [[0.9484275  0.05157246]]\n",
      "Predicted label: Not Sarcastic\n",
      "\n",
      "Text: yea tarik asked his chat yesterday if he could sue pewdiepie because he didnt have permission to put his face on the video but idk if he his joking or not lol\n",
      "Model output: [[0.577167   0.42283306]]\n",
      "Predicted label: Not Sarcastic\n",
      "\n",
      "Text: Florida man walks out of his house with a semi-automatic rifle and a four-pack of beer and begins shooting at passing cars\n",
      "Model output: [[0.96985674 0.03014323]]\n",
      "Predicted label: Not Sarcastic\n",
      "\n",
      "Text: The overlooked bonus of the Special Olympics in Rio.\n",
      "Model output: [[0.9972748  0.00272513]]\n",
      "Predicted label: Not Sarcastic\n",
      "\n",
      "Text: I'm hosting a victory party on Tuesday night. Looking for good ideas of themed foods to serve. So far we've got: * Rock candy (broken glass ceiling) * Spinach and art-of-the-choke dip * basket of dip-lorables (chips) * America (the beer formerly known as Budweiser) * Good beer (because Budweiser sucks) Other ideas? Swing state foods? Brownies for Colorado? Soft pretzels for PA?\n",
      "Model output: [[0.99542385 0.00457612]]\n",
      "Predicted label: Not Sarcastic\n",
      "\n"
     ]
    },
    {
     "name": "stderr",
     "output_type": "stream",
     "text": [
      " 94%|█████████▍| 469/500 [00:19<00:01, 22.01it/s]"
     ]
    },
    {
     "name": "stdout",
     "output_type": "stream",
     "text": [
      "Text: I was worried about my usage of heart emojis too, but I scrolled down and these comments are comforting me.\n",
      "Model output: [[0.9936365  0.00636352]]\n",
      "Predicted label: Not Sarcastic\n",
      "\n",
      "Text: What would it take to get Onward to look like this??!\n",
      "Model output: [[0.963746   0.03625397]]\n",
      "Predicted label: Not Sarcastic\n",
      "\n",
      "Text: I forgot how fantastic this video is.\n",
      "Model output: [[0.97107476 0.02892523]]\n",
      "Predicted label: Not Sarcastic\n",
      "\n",
      "Text: That's actually kind of neat. Must be annoying to maintain though.\n",
      "Model output: [[0.9463323  0.05366775]]\n",
      "Predicted label: Not Sarcastic\n",
      "\n",
      "Text: Which character had the worst hairstyle?\n",
      "Model output: [[0.95360506 0.04639496]]\n",
      "Predicted label: Not Sarcastic\n",
      "\n"
     ]
    },
    {
     "name": "stderr",
     "output_type": "stream",
     "text": [
      " 95%|█████████▌| 475/500 [00:20<00:01, 21.68it/s]"
     ]
    },
    {
     "name": "stdout",
     "output_type": "stream",
     "text": [
      "Text: you should be aware of the heavy factionalism in the left. There are lot of different schools of thought, some of them really don't like each other.\n",
      "Model output: [[0.99153847 0.00846154]]\n",
      "Predicted label: Not Sarcastic\n",
      "\n",
      "Text: Jesus Christ what's it going to take until we put a stop to it\n",
      "Model output: [[0.8078637  0.19213629]]\n",
      "Predicted label: Not Sarcastic\n",
      "\n",
      "Text: That will never be determined because the inquiry is not going to look at reserves.\n",
      "Model output: [[0.9904456  0.00955433]]\n",
      "Predicted label: Not Sarcastic\n",
      "\n",
      "Text: LIVE: 2nd Presidential Debate from Washington University in St. Louis\n",
      "Model output: [[0.9906289  0.00937114]]\n",
      "Predicted label: Not Sarcastic\n",
      "\n",
      "Text: That requires holding players accountable. Gus Bradley doesn't do that. He started Chris Clemons last year for all 16 games, despite the fact that he: - Missed OTAs and showed up late to training camp - Practiced once a week - Was garbage on the field - Called our beat reporter a racist Other players are going to start coming out. This is only the beginning of a dumpster fire unfolding right before our very eyes.\n",
      "Model output: [[0.9930582 0.0069418]]\n",
      "Predicted label: Not Sarcastic\n",
      "\n"
     ]
    },
    {
     "name": "stderr",
     "output_type": "stream",
     "text": [
      " 96%|█████████▌| 478/500 [00:20<00:01, 21.75it/s]"
     ]
    },
    {
     "name": "stdout",
     "output_type": "stream",
     "text": [
      "Text: Seems something happened to Clevinger, he was scheduled to speak at 5\n",
      "Model output: [[0.9374572  0.06254283]]\n",
      "Predicted label: Not Sarcastic\n",
      "\n",
      "Text: there were cucks against bush in 2000 and 2004 (i don't like bush, btw). they threw eggs at bush's limo in 2004 i think. relax all of you people and just trust the USSS and these bikers to keep the peace there\n",
      "Model output: [[0.99288696 0.00711303]]\n",
      "Predicted label: Not Sarcastic\n",
      "\n",
      "Text: Burried in a grave filled with chinese money and hunnies, next to Dade.\n",
      "Model output: [[0.97819227 0.02180775]]\n",
      "Predicted label: Not Sarcastic\n",
      "\n",
      "Text: When No Game No Life S2 comes out\n",
      "Model output: [[0.9794883  0.02051173]]\n",
      "Predicted label: Not Sarcastic\n",
      "\n",
      "Text: To be fair, anyone you have to nag for a rent payment should find somewhere else to live.\n",
      "Model output: [[0.9948955  0.00510448]]\n",
      "Predicted label: Not Sarcastic\n",
      "\n"
     ]
    },
    {
     "name": "stderr",
     "output_type": "stream",
     "text": [
      " 97%|█████████▋| 484/500 [00:20<00:00, 21.59it/s]"
     ]
    },
    {
     "name": "stdout",
     "output_type": "stream",
     "text": [
      "Text: I have tested bringing this third spell into the mix, however I would personally not recommend it. There is specific timing required for the spin flax spell, and adding another strange timing factor into it does increase xp/hr, but only by about ~6% and decreases the already lowish profit you make from spin flax + tan leather method.\n",
      "Model output: [[0.9924476  0.00755235]]\n",
      "Predicted label: Not Sarcastic\n",
      "\n",
      "Text: glad i left that shit hole\n",
      "Model output: [[0.2278413  0.77215874]]\n",
      "Predicted label: Sarcastic\n",
      "\n",
      "Text: Did i say only?\n",
      "Model output: [[0.9371294  0.06287058]]\n",
      "Predicted label: Not Sarcastic\n",
      "\n",
      "Text: What was the other one?\n",
      "Model output: [[0.92805487 0.07194517]]\n",
      "Predicted label: Not Sarcastic\n",
      "\n",
      "Text: I hope they scrap Murphy after this season though. He serves no real purpose after Escobar. Would have been better if Carillo was around as one of the main protagonists to take on the Cali Cartel.\n",
      "Model output: [[0.9857091  0.01429091]]\n",
      "Predicted label: Not Sarcastic\n",
      "\n"
     ]
    },
    {
     "name": "stderr",
     "output_type": "stream",
     "text": [
      " 98%|█████████▊| 490/500 [00:20<00:00, 21.66it/s]"
     ]
    },
    {
     "name": "stdout",
     "output_type": "stream",
     "text": [
      "Text: I just wish they added it as a part of FNM rather than a separate day. I have enough trouble getting out for one night of magic a week. Also, what times do your guys' stores do the event? Because my store thought it was a decent idea at 2pm...\n",
      "Model output: [[0.9867215  0.01327845]]\n",
      "Predicted label: Not Sarcastic\n",
      "\n",
      "Text: yeah that guy won't recover for a while...\n",
      "Model output: [[0.79188854 0.20811154]]\n",
      "Predicted label: Not Sarcastic\n",
      "\n",
      "Text: I saw it described once that \"boys are for fun, women are for babies.\" You can also s/boys/goats/ and it's probably still true.\n",
      "Model output: [[0.9909967  0.00900323]]\n",
      "Predicted label: Not Sarcastic\n",
      "\n",
      "Text: What are you guys talking a boat?\n",
      "Model output: [[0.90583706 0.09416293]]\n",
      "Predicted label: Not Sarcastic\n",
      "\n",
      "Text: being forced to watch a hitlery speech is cruel and unusual punishment. time to lawyer up.\n",
      "Model output: [[0.9957766  0.00422345]]\n",
      "Predicted label: Not Sarcastic\n",
      "\n"
     ]
    },
    {
     "name": "stderr",
     "output_type": "stream",
     "text": [
      " 99%|█████████▊| 493/500 [00:20<00:00, 20.22it/s]"
     ]
    },
    {
     "name": "stdout",
     "output_type": "stream",
     "text": [
      "Text: He doesn't think you can roast him.\n",
      "Model output: [[0.9488437  0.05115629]]\n",
      "Predicted label: Not Sarcastic\n",
      "\n",
      "Text: It's also a neighborhood in San Diego, and a beach in San Francisco.\n",
      "Model output: [[0.99429166 0.00570837]]\n",
      "Predicted label: Not Sarcastic\n",
      "\n",
      "Text: yep, yak9ut also has 3 loadouts for guns. 2x20 and 23, 2x20 and 37, 2x20 and 45. or was it the yak9p?\n",
      "Model output: [[0.9354101  0.06458993]]\n",
      "Predicted label: Not Sarcastic\n",
      "\n",
      "Text: To be honest, I don't know. But I do know the Director of the FBI should know how.\n",
      "Model output: [[0.99103    0.00897005]]\n",
      "Predicted label: Not Sarcastic\n",
      "\n",
      "Text: For 3 Years I've Been Playing On A Laptop - What Have I Missed Today was a good day. I've been playing solely PC for 3 years, running integrated graphics and an I3. It overheats, runs CS at less than 60 frames. Let's just say, I've missed a lot when it comes to gaming. Now I've Ascended - a beautiful machine with an I7 and 1080 - what have I missed? What games have beautiful graphics? What story have I not played because my computer couldn't handle it? **Psst - I'm asking for you to recommend games!**\n",
      "Model output: [[0.994636   0.00536402]]\n",
      "Predicted label: Not Sarcastic\n",
      "\n"
     ]
    },
    {
     "name": "stderr",
     "output_type": "stream",
     "text": [
      "100%|██████████| 500/500 [00:21<00:00, 23.47it/s]"
     ]
    },
    {
     "name": "stdout",
     "output_type": "stream",
     "text": [
      "Text: Who got what from the steam sale? I'll start: * Doom * Witcher 3 * Xcom 2 * Shadow of Mordor * Mortal Kombat x * Portal 2 * Divinity Org Sin * Shadowrun Returns * FTL I recon I'm set for a while. Trouble is I've started with FTL and I'm hooked!\n",
      "Model output: [[0.99264866 0.00735129]]\n",
      "Predicted label: Not Sarcastic\n",
      "\n",
      "Text: Can we have a \"Sorry\" in the context menu or a hotkey? I often do mistakes and I want to apologise to my team for when I do something dumb. Please Blizzard, this is my one request!\n",
      "Model output: [[0.9959121  0.00408798]]\n",
      "Predicted label: Not Sarcastic\n",
      "\n",
      "Text: It doesn't bother me actually. Its a non-issue for consumers, but still weird that they chose to market it. Wonder why.\n",
      "Model output: [[0.97196734 0.02803269]]\n",
      "Predicted label: Not Sarcastic\n",
      "\n",
      "Text: The shuttle orbiter is 37 meters long, so the spaceX Mars vehicle is about three times as long and many more times as massive\n",
      "Model output: [[0.9931613  0.00683868]]\n",
      "Predicted label: Not Sarcastic\n",
      "\n",
      "Text: System requirements always tend to be estimates.\n",
      "Model output: [[0.85885537 0.14114462]]\n",
      "Predicted label: Not Sarcastic\n",
      "\n",
      "\n",
      "Final Classification Report:\n",
      "               precision    recall  f1-score   support\n",
      "\n",
      "Not Sarcastic       0.96      0.95      0.95       474\n",
      "    Sarcastic       0.16      0.19      0.18        26\n",
      "\n",
      "     accuracy                           0.91       500\n",
      "    macro avg       0.56      0.57      0.56       500\n",
      " weighted avg       0.91      0.91      0.91       500\n",
      "\n"
     ]
    },
    {
     "name": "stderr",
     "output_type": "stream",
     "text": [
      "\n"
     ]
    }
   ],
   "source": [
    "import pandas as pd\n",
    "from transformers import AutoTokenizer, AutoModelForSequenceClassification\n",
    "from sklearn.metrics import classification_report\n",
    "from scipy.special import softmax\n",
    "import torch\n",
    "from tqdm import tqdm\n",
    "\n",
    "# ✅ Step 1: Load the sarcasm dataset\n",
    "df = pd.read_csv(\"train-balanced-sarc.csv\", sep=\"\\t\", header=None, on_bad_lines=\"skip\")\n",
    "df.columns = [\"label\", \"author\", \"subreddit\", \"score\", \"parent\", \"comment_id\", \"id\", \"created_utc\", \"context\", \"text\"]\n",
    "df = df.dropna()\n",
    "df = df[:500]  # Use a sample subset for quick testing\n",
    "\n",
    "df[\"label\"] = df[\"label\"].astype(int)\n",
    "df[\"text\"] = df[\"text\"].astype(str)\n",
    "\n",
    "# ✅ Step 2: Load model and tokenizer\n",
    "model_name = \"helinivan/english-sarcasm-detector\"\n",
    "tokenizer = AutoTokenizer.from_pretrained(model_name)\n",
    "model = AutoModelForSequenceClassification.from_pretrained(model_name)\n",
    "\n",
    "device = torch.device(\"cuda\" if torch.cuda.is_available() else \"cpu\")\n",
    "model.to(device)\n",
    "model.eval()\n",
    "\n",
    "# ✅ Step 3: Inference loop\n",
    "all_preds, all_labels = [], []\n",
    "\n",
    "for _, row in tqdm(df.iterrows(), total=len(df)):\n",
    "    text = row[\"text\"]\n",
    "    label = row[\"label\"]\n",
    "\n",
    "    inputs = tokenizer(text, return_tensors=\"pt\", truncation=True, padding=\"max_length\", max_length=128).to(device)\n",
    "\n",
    "    with torch.no_grad():\n",
    "        logits = model(**inputs).logits\n",
    "        probs = softmax(logits.cpu().numpy(), axis=1)\n",
    "        pred = probs.argmax(axis=1).item()\n",
    "\n",
    "    # Debug print\n",
    "    print(f\"Text: {text}\")\n",
    "    print(f\"Model output: {probs}\")\n",
    "    print(f\"Predicted label: {'Sarcastic' if pred == 1 else 'Not Sarcastic'}\\n\")\n",
    "\n",
    "    all_preds.append(pred)\n",
    "    all_labels.append(label)\n",
    "\n",
    "# ✅ Step 4: Evaluation\n",
    "print(\"\\nFinal Classification Report:\")\n",
    "print(classification_report(all_labels, all_preds, target_names=[\"Not Sarcastic\", \"Sarcastic\"]))\n"
   ]
  },
  {
   "cell_type": "code",
   "execution_count": null,
   "metadata": {},
   "outputs": [
    {
     "name": "stderr",
     "output_type": "stream",
     "text": [
      "100%|██████████| 5000/5000 [07:24<00:00, 11.25it/s]   \n"
     ]
    },
    {
     "name": "stdout",
     "output_type": "stream",
     "text": [
      "               precision    recall  f1-score   support\n",
      "\n",
      "Not Sarcastic       0.93      0.98      0.95      2813\n",
      "    Sarcastic       0.97      0.91      0.94      2187\n",
      "\n",
      "     accuracy                           0.95      5000\n",
      "    macro avg       0.95      0.94      0.94      5000\n",
      " weighted avg       0.95      0.95      0.95      5000\n",
      "\n"
     ]
    }
   ],
   "source": [
    "from transformers import AutoTokenizer, AutoModelForSequenceClassification\n",
    "import torch\n",
    "from scipy.special import softmax\n",
    "import pandas as pd\n",
    "from tqdm import tqdm\n",
    "from sklearn.metrics import classification_report\n",
    "\n",
    "model_name = \"helinivan/english-sarcasm-detector\"\n",
    "tokenizer = AutoTokenizer.from_pretrained(model_name)\n",
    "model = AutoModelForSequenceClassification.from_pretrained(model_name)\n",
    "\n",
    "device = torch.device(\"cuda\" if torch.cuda.is_available() else \"cpu\")\n",
    "model.to(device)\n",
    "model.eval()\n",
    "\n",
    "df = pd.read_json(\"Sarcasm_Headlines_Dataset.json\", lines=True)\n",
    "df = df[[\"headline\", \"is_sarcastic\"]].dropna()\n",
    "df = df[:5000]\n",
    "\n",
    "all_preds = []\n",
    "all_labels = df[\"is_sarcastic\"].tolist()\n",
    "\n",
    "for text in tqdm(df[\"headline\"]):\n",
    "    inputs = tokenizer(text, return_tensors=\"pt\", truncation=True, padding=\"max_length\", max_length=128).to(device)\n",
    "    with torch.no_grad():\n",
    "        logits = model(**inputs).logits\n",
    "        probs = softmax(logits.cpu().numpy(), axis=1)\n",
    "        pred = probs.argmax(axis=1).item()\n",
    "    all_preds.append(pred)\n",
    "\n",
    "print(classification_report(all_labels, all_preds, target_names=[\"Not Sarcastic\", \"Sarcastic\"]))"
   ]
  },
  {
   "cell_type": "code",
   "execution_count": 20,
   "metadata": {},
   "outputs": [
    {
     "name": "stdout",
     "output_type": "stream",
     "text": [
      "0       0\n",
      "1       0\n",
      "2       1\n",
      "3       1\n",
      "4       1\n",
      "       ..\n",
      "4995    1\n",
      "4996    0\n",
      "4997    0\n",
      "4998    0\n",
      "4999    0\n",
      "Name: label, Length: 5000, dtype: int64\n"
     ]
    },
    {
     "name": "stderr",
     "output_type": "stream",
     "text": [
      "  0%|          | 5/5000 [00:00<03:55, 21.20it/s]"
     ]
    },
    {
     "name": "stdout",
     "output_type": "stream",
     "text": [
      "Text: I genuinely love musicians.\n",
      "→ Prob (Not Sarcastic): 0.9891 | Prob (Sarcastic): 0.0109\n",
      "Text: I genuinely love musicians.\n",
      "→ Prob (Not Sarcastic): 0.9891 | Prob (Sarcastic): 0.0109\n",
      "Text: I find vegetarians to be wonderful.\n",
      "→ Prob (Not Sarcastic): 0.9917 | Prob (Sarcastic): 0.0083\n",
      "Text: I find vegetarians to be wonderful.\n",
      "→ Prob (Not Sarcastic): 0.9917 | Prob (Sarcastic): 0.0083\n",
      "Text: Because artists really make everything better.\n",
      "→ Prob (Not Sarcastic): 0.9945 | Prob (Sarcastic): 0.0055\n",
      "Text: Because artists really make everything better.\n",
      "→ Prob (Not Sarcastic): 0.9945 | Prob (Sarcastic): 0.0055\n",
      "Text: Can't wait for more of the game.\n",
      "→ Prob (Not Sarcastic): 0.9589 | Prob (Sarcastic): 0.0411\n",
      "Text: Can't wait for more of the game.\n",
      "→ Prob (Not Sarcastic): 0.9589 | Prob (Sarcastic): 0.0411\n",
      "Text: Oh great, another artists. Just what I needed.\n",
      "→ Prob (Not Sarcastic): 0.9176 | Prob (Sarcastic): 0.0824\n",
      "Text: Oh great, another artists. Just what I needed.\n",
      "→ Prob (Not Sarcastic): 0.9176 | Prob (Sarcastic): 0.0824\n"
     ]
    },
    {
     "name": "stderr",
     "output_type": "stream",
     "text": [
      "  0%|          | 8/5000 [00:00<03:43, 22.35it/s]"
     ]
    },
    {
     "name": "stdout",
     "output_type": "stream",
     "text": [
      "Text: this movie are so wonderful, said no one ever.\n",
      "→ Prob (Not Sarcastic): 0.9760 | Prob (Sarcastic): 0.0240\n",
      "Text: this movie are so wonderful, said no one ever.\n",
      "→ Prob (Not Sarcastic): 0.9760 | Prob (Sarcastic): 0.0240\n",
      "Text: Oh great, another my new phone. Just what I needed.\n",
      "→ Prob (Not Sarcastic): 0.8476 | Prob (Sarcastic): 0.1524\n",
      "Text: Oh great, another my new phone. Just what I needed.\n",
      "→ Prob (Not Sarcastic): 0.8476 | Prob (Sarcastic): 0.1524\n",
      "Text: Nothing better than a the meal moment.\n",
      "→ Prob (Not Sarcastic): 0.9620 | Prob (Sarcastic): 0.0380\n",
      "Text: Nothing better than a the meal moment.\n",
      "→ Prob (Not Sarcastic): 0.9620 | Prob (Sarcastic): 0.0380\n",
      "Text: Oh great, another writers. Just what I needed.\n",
      "→ Prob (Not Sarcastic): 0.9185 | Prob (Sarcastic): 0.0815\n",
      "Text: Oh great, another writers. Just what I needed.\n",
      "→ Prob (Not Sarcastic): 0.9185 | Prob (Sarcastic): 0.0815\n",
      "Text: I am always excited for the workshop.\n",
      "→ Prob (Not Sarcastic): 0.9922 | Prob (Sarcastic): 0.0078\n",
      "Text: I am always excited for the workshop.\n",
      "→ Prob (Not Sarcastic): 0.9922 | Prob (Sarcastic): 0.0078\n"
     ]
    },
    {
     "name": "stderr",
     "output_type": "stream",
     "text": [
      "  0%|          | 14/5000 [00:00<03:46, 22.00it/s]"
     ]
    },
    {
     "name": "stdout",
     "output_type": "stream",
     "text": [
      "Text: Nothing better than a the concert moment.\n",
      "→ Prob (Not Sarcastic): 0.9676 | Prob (Sarcastic): 0.0324\n",
      "Text: Nothing better than a the concert moment.\n",
      "→ Prob (Not Sarcastic): 0.9676 | Prob (Sarcastic): 0.0324\n",
      "Text: Had a great time with the conference.\n",
      "→ Prob (Not Sarcastic): 0.9918 | Prob (Sarcastic): 0.0082\n",
      "Text: Had a great time with the conference.\n",
      "→ Prob (Not Sarcastic): 0.9918 | Prob (Sarcastic): 0.0082\n",
      "Text: Nothing better than a the game moment.\n",
      "→ Prob (Not Sarcastic): 0.9737 | Prob (Sarcastic): 0.0263\n",
      "Text: Nothing better than a the game moment.\n",
      "→ Prob (Not Sarcastic): 0.9737 | Prob (Sarcastic): 0.0263\n",
      "Text: this movie are truly inspiring.\n",
      "→ Prob (Not Sarcastic): 0.9908 | Prob (Sarcastic): 0.0092\n",
      "Text: this movie are truly inspiring.\n",
      "→ Prob (Not Sarcastic): 0.9908 | Prob (Sarcastic): 0.0092\n",
      "Text: Nothing better than a writers moment.\n",
      "→ Prob (Not Sarcastic): 0.9764 | Prob (Sarcastic): 0.0236\n",
      "Text: Nothing better than a writers moment.\n",
      "→ Prob (Not Sarcastic): 0.9764 | Prob (Sarcastic): 0.0236\n"
     ]
    },
    {
     "name": "stderr",
     "output_type": "stream",
     "text": [
      "  0%|          | 19/5000 [00:00<04:23, 18.88it/s]"
     ]
    },
    {
     "name": "stdout",
     "output_type": "stream",
     "text": [
      "Text: Everyone loves the concert, right?\n",
      "→ Prob (Not Sarcastic): 0.9909 | Prob (Sarcastic): 0.0091\n",
      "Text: Everyone loves the concert, right?\n",
      "→ Prob (Not Sarcastic): 0.9909 | Prob (Sarcastic): 0.0091\n",
      "Text: Oh great, another athletes. Just what I needed.\n",
      "→ Prob (Not Sarcastic): 0.8928 | Prob (Sarcastic): 0.1072\n",
      "Text: Oh great, another athletes. Just what I needed.\n",
      "→ Prob (Not Sarcastic): 0.8928 | Prob (Sarcastic): 0.1072\n",
      "Text: I find this book to be wonderful.\n",
      "→ Prob (Not Sarcastic): 0.9931 | Prob (Sarcastic): 0.0069\n",
      "Text: I find this book to be wonderful.\n",
      "→ Prob (Not Sarcastic): 0.9931 | Prob (Sarcastic): 0.0069\n",
      "Text: Nothing better than a the meal moment.\n",
      "→ Prob (Not Sarcastic): 0.9620 | Prob (Sarcastic): 0.0380\n",
      "Text: Nothing better than a the meal moment.\n",
      "→ Prob (Not Sarcastic): 0.9620 | Prob (Sarcastic): 0.0380\n"
     ]
    },
    {
     "name": "stderr",
     "output_type": "stream",
     "text": [
      "  0%|          | 24/5000 [00:01<04:27, 18.59it/s]"
     ]
    },
    {
     "name": "stdout",
     "output_type": "stream",
     "text": [
      "Text: the workshop are genuinely amazing.\n",
      "→ Prob (Not Sarcastic): 0.9938 | Prob (Sarcastic): 0.0062\n",
      "Text: the workshop are genuinely amazing.\n",
      "→ Prob (Not Sarcastic): 0.9938 | Prob (Sarcastic): 0.0062\n",
      "Text: I just love when this book happens.\n",
      "→ Prob (Not Sarcastic): 0.9917 | Prob (Sarcastic): 0.0083\n",
      "Text: I just love when this book happens.\n",
      "→ Prob (Not Sarcastic): 0.9917 | Prob (Sarcastic): 0.0083\n",
      "Text: writers are genuinely amazing.\n",
      "→ Prob (Not Sarcastic): 0.9834 | Prob (Sarcastic): 0.0166\n",
      "Text: writers are genuinely amazing.\n",
      "→ Prob (Not Sarcastic): 0.9834 | Prob (Sarcastic): 0.0166\n",
      "Text: I find the conference to be wonderful.\n",
      "→ Prob (Not Sarcastic): 0.9952 | Prob (Sarcastic): 0.0048\n",
      "Text: I find the conference to be wonderful.\n",
      "→ Prob (Not Sarcastic): 0.9952 | Prob (Sarcastic): 0.0048\n",
      "Text: the meal have always been great.\n",
      "→ Prob (Not Sarcastic): 0.9918 | Prob (Sarcastic): 0.0082\n",
      "Text: the meal have always been great.\n",
      "→ Prob (Not Sarcastic): 0.9918 | Prob (Sarcastic): 0.0082\n"
     ]
    },
    {
     "name": "stderr",
     "output_type": "stream",
     "text": [
      "  1%|          | 30/5000 [00:01<03:47, 21.80it/s]"
     ]
    },
    {
     "name": "stdout",
     "output_type": "stream",
     "text": [
      "Text: I find artists to be wonderful.\n",
      "→ Prob (Not Sarcastic): 0.9937 | Prob (Sarcastic): 0.0063\n",
      "Text: I find artists to be wonderful.\n",
      "→ Prob (Not Sarcastic): 0.9937 | Prob (Sarcastic): 0.0063\n",
      "Text: vegetarians are genuinely amazing.\n",
      "→ Prob (Not Sarcastic): 0.9941 | Prob (Sarcastic): 0.0059\n",
      "Text: vegetarians are genuinely amazing.\n",
      "→ Prob (Not Sarcastic): 0.9941 | Prob (Sarcastic): 0.0059\n",
      "Text: my new phone are truly inspiring.\n",
      "→ Prob (Not Sarcastic): 0.9927 | Prob (Sarcastic): 0.0073\n",
      "Text: my new phone are truly inspiring.\n",
      "→ Prob (Not Sarcastic): 0.9927 | Prob (Sarcastic): 0.0073\n",
      "Text: Can't wait for more of the concert.\n",
      "→ Prob (Not Sarcastic): 0.9482 | Prob (Sarcastic): 0.0518\n",
      "Text: Can't wait for more of the concert.\n",
      "→ Prob (Not Sarcastic): 0.9482 | Prob (Sarcastic): 0.0518\n",
      "Text: Can't wait for more of this movie.\n",
      "→ Prob (Not Sarcastic): 0.9019 | Prob (Sarcastic): 0.0981\n",
      "Text: Can't wait for more of this movie.\n",
      "→ Prob (Not Sarcastic): 0.9019 | Prob (Sarcastic): 0.0981\n",
      "Text: this book are so wonderful, said no one ever.\n",
      "→ Prob (Not Sarcastic): 0.9817 | Prob (Sarcastic): 0.0183\n",
      "Text: this book are so wonderful, said no one ever.\n",
      "→ Prob (Not Sarcastic): 0.9817 | Prob (Sarcastic): 0.0183\n"
     ]
    },
    {
     "name": "stderr",
     "output_type": "stream",
     "text": [
      "  1%|          | 36/5000 [00:01<03:30, 23.58it/s]"
     ]
    },
    {
     "name": "stdout",
     "output_type": "stream",
     "text": [
      "Text: the conference are so wonderful, said no one ever.\n",
      "→ Prob (Not Sarcastic): 0.9828 | Prob (Sarcastic): 0.0172\n",
      "Text: the conference are so wonderful, said no one ever.\n",
      "→ Prob (Not Sarcastic): 0.9828 | Prob (Sarcastic): 0.0172\n",
      "Text: I just love when doctors happens.\n",
      "→ Prob (Not Sarcastic): 0.9865 | Prob (Sarcastic): 0.0135\n",
      "Text: I just love when doctors happens.\n",
      "→ Prob (Not Sarcastic): 0.9865 | Prob (Sarcastic): 0.0135\n",
      "Text: the concert are genuinely amazing.\n",
      "→ Prob (Not Sarcastic): 0.9933 | Prob (Sarcastic): 0.0067\n",
      "Text: the concert are genuinely amazing.\n",
      "→ Prob (Not Sarcastic): 0.9933 | Prob (Sarcastic): 0.0067\n",
      "Text: Can't wait for more of the concert.\n",
      "→ Prob (Not Sarcastic): 0.9482 | Prob (Sarcastic): 0.0518\n",
      "Text: Can't wait for more of the concert.\n",
      "→ Prob (Not Sarcastic): 0.9482 | Prob (Sarcastic): 0.0518\n",
      "Text: athletes are truly inspiring.\n",
      "→ Prob (Not Sarcastic): 0.9929 | Prob (Sarcastic): 0.0071\n",
      "Text: athletes are truly inspiring.\n",
      "→ Prob (Not Sarcastic): 0.9929 | Prob (Sarcastic): 0.0071\n",
      "Text: I am always excited for this movie.\n",
      "→ Prob (Not Sarcastic): 0.9899 | Prob (Sarcastic): 0.0101\n",
      "Text: I am always excited for this movie.\n",
      "→ Prob (Not Sarcastic): 0.9899 | Prob (Sarcastic): 0.0101\n"
     ]
    },
    {
     "name": "stderr",
     "output_type": "stream",
     "text": [
      "  1%|          | 39/5000 [00:01<03:27, 23.91it/s]"
     ]
    },
    {
     "name": "stdout",
     "output_type": "stream",
     "text": [
      "Text: the concert are so wonderful, said no one ever.\n",
      "→ Prob (Not Sarcastic): 0.9783 | Prob (Sarcastic): 0.0217\n",
      "Text: the concert are so wonderful, said no one ever.\n",
      "→ Prob (Not Sarcastic): 0.9783 | Prob (Sarcastic): 0.0217\n",
      "Text: Had a this book, best experience ever. Not.\n",
      "→ Prob (Not Sarcastic): 0.7119 | Prob (Sarcastic): 0.2881\n",
      "Text: Had a this book, best experience ever. Not.\n",
      "→ Prob (Not Sarcastic): 0.7119 | Prob (Sarcastic): 0.2881\n",
      "Text: musicians have always been great.\n",
      "→ Prob (Not Sarcastic): 0.9745 | Prob (Sarcastic): 0.0255\n",
      "Text: musicians have always been great.\n",
      "→ Prob (Not Sarcastic): 0.9745 | Prob (Sarcastic): 0.0255\n",
      "Text: vegetarians are so wonderful, said no one ever.\n",
      "→ Prob (Not Sarcastic): 0.9772 | Prob (Sarcastic): 0.0228\n",
      "Text: vegetarians are so wonderful, said no one ever.\n",
      "→ Prob (Not Sarcastic): 0.9772 | Prob (Sarcastic): 0.0228\n",
      "Text: I am always excited for the concert.\n",
      "→ Prob (Not Sarcastic): 0.9923 | Prob (Sarcastic): 0.0077\n",
      "Text: I am always excited for the concert.\n",
      "→ Prob (Not Sarcastic): 0.9923 | Prob (Sarcastic): 0.0077\n"
     ]
    },
    {
     "name": "stderr",
     "output_type": "stream",
     "text": [
      "  1%|          | 45/5000 [00:02<03:34, 23.13it/s]"
     ]
    },
    {
     "name": "stdout",
     "output_type": "stream",
     "text": [
      "Text: Can't wait for more of musicians.\n",
      "→ Prob (Not Sarcastic): 0.7716 | Prob (Sarcastic): 0.2284\n",
      "Text: Can't wait for more of musicians.\n",
      "→ Prob (Not Sarcastic): 0.7716 | Prob (Sarcastic): 0.2284\n",
      "Text: the game are so wonderful, said no one ever.\n",
      "→ Prob (Not Sarcastic): 0.9833 | Prob (Sarcastic): 0.0167\n",
      "Text: the game are so wonderful, said no one ever.\n",
      "→ Prob (Not Sarcastic): 0.9833 | Prob (Sarcastic): 0.0167\n",
      "Text: Can't wait for more of this movie.\n",
      "→ Prob (Not Sarcastic): 0.9019 | Prob (Sarcastic): 0.0981\n",
      "Text: Can't wait for more of this movie.\n",
      "→ Prob (Not Sarcastic): 0.9019 | Prob (Sarcastic): 0.0981\n",
      "Text: Nothing better than a vegetarians moment.\n",
      "→ Prob (Not Sarcastic): 0.9812 | Prob (Sarcastic): 0.0188\n",
      "Text: Nothing better than a vegetarians moment.\n",
      "→ Prob (Not Sarcastic): 0.9812 | Prob (Sarcastic): 0.0188\n",
      "Text: Because the meal really make everything better.\n",
      "→ Prob (Not Sarcastic): 0.9929 | Prob (Sarcastic): 0.0071\n",
      "Text: Because the meal really make everything better.\n",
      "→ Prob (Not Sarcastic): 0.9929 | Prob (Sarcastic): 0.0071\n",
      "Text: Can't wait for more of artists.\n",
      "→ Prob (Not Sarcastic): 0.9015 | Prob (Sarcastic): 0.0985\n",
      "Text: Can't wait for more of artists.\n",
      "→ Prob (Not Sarcastic): 0.9015 | Prob (Sarcastic): 0.0985\n"
     ]
    },
    {
     "name": "stderr",
     "output_type": "stream",
     "text": [
      "  1%|          | 51/5000 [00:02<03:23, 24.30it/s]"
     ]
    },
    {
     "name": "stdout",
     "output_type": "stream",
     "text": [
      "Text: Had a the workshop, best experience ever. Not.\n",
      "→ Prob (Not Sarcastic): 0.8060 | Prob (Sarcastic): 0.1940\n",
      "Text: Had a the workshop, best experience ever. Not.\n",
      "→ Prob (Not Sarcastic): 0.8060 | Prob (Sarcastic): 0.1940\n",
      "Text: Had a musicians, best experience ever. Not.\n",
      "→ Prob (Not Sarcastic): 0.7504 | Prob (Sarcastic): 0.2496\n",
      "Text: Had a musicians, best experience ever. Not.\n",
      "→ Prob (Not Sarcastic): 0.7504 | Prob (Sarcastic): 0.2496\n",
      "Text: I just love when the game happens.\n",
      "→ Prob (Not Sarcastic): 0.9916 | Prob (Sarcastic): 0.0084\n",
      "Text: I just love when the game happens.\n",
      "→ Prob (Not Sarcastic): 0.9916 | Prob (Sarcastic): 0.0084\n",
      "Text: Nothing better than a my new phone moment.\n",
      "→ Prob (Not Sarcastic): 0.9559 | Prob (Sarcastic): 0.0441\n",
      "Text: Nothing better than a my new phone moment.\n",
      "→ Prob (Not Sarcastic): 0.9559 | Prob (Sarcastic): 0.0441\n",
      "Text: Had a my new phone, best experience ever. Not.\n",
      "→ Prob (Not Sarcastic): 0.8831 | Prob (Sarcastic): 0.1169\n",
      "Text: Had a my new phone, best experience ever. Not.\n",
      "→ Prob (Not Sarcastic): 0.8831 | Prob (Sarcastic): 0.1169\n",
      "Text: Had a great time with the meal.\n",
      "→ Prob (Not Sarcastic): 0.9827 | Prob (Sarcastic): 0.0173\n",
      "Text: Had a great time with the meal.\n",
      "→ Prob (Not Sarcastic): 0.9827 | Prob (Sarcastic): 0.0173\n"
     ]
    },
    {
     "name": "stderr",
     "output_type": "stream",
     "text": [
      "  1%|          | 57/5000 [00:02<03:18, 24.89it/s]"
     ]
    },
    {
     "name": "stdout",
     "output_type": "stream",
     "text": [
      "Text: I just love when artists happens.\n",
      "→ Prob (Not Sarcastic): 0.9893 | Prob (Sarcastic): 0.0107\n",
      "Text: I just love when artists happens.\n",
      "→ Prob (Not Sarcastic): 0.9893 | Prob (Sarcastic): 0.0107\n",
      "Text: Oh great, another artists. Just what I needed.\n",
      "→ Prob (Not Sarcastic): 0.9176 | Prob (Sarcastic): 0.0824\n",
      "Text: Oh great, another artists. Just what I needed.\n",
      "→ Prob (Not Sarcastic): 0.9176 | Prob (Sarcastic): 0.0824\n",
      "Text: Can't wait for more of this book.\n",
      "→ Prob (Not Sarcastic): 0.9606 | Prob (Sarcastic): 0.0394\n",
      "Text: Can't wait for more of this book.\n",
      "→ Prob (Not Sarcastic): 0.9606 | Prob (Sarcastic): 0.0394\n",
      "Text: Oh great, another musicians. Just what I needed.\n",
      "→ Prob (Not Sarcastic): 0.9030 | Prob (Sarcastic): 0.0970\n",
      "Text: Oh great, another musicians. Just what I needed.\n",
      "→ Prob (Not Sarcastic): 0.9030 | Prob (Sarcastic): 0.0970\n",
      "Text: I find musicians to be wonderful.\n",
      "→ Prob (Not Sarcastic): 0.9936 | Prob (Sarcastic): 0.0064\n",
      "Text: I find musicians to be wonderful.\n",
      "→ Prob (Not Sarcastic): 0.9936 | Prob (Sarcastic): 0.0064\n",
      "Text: Everyone loves doctors, right?\n",
      "→ Prob (Not Sarcastic): 0.9849 | Prob (Sarcastic): 0.0151\n",
      "Text: Everyone loves doctors, right?\n",
      "→ Prob (Not Sarcastic): 0.9849 | Prob (Sarcastic): 0.0151\n"
     ]
    },
    {
     "name": "stderr",
     "output_type": "stream",
     "text": [
      "  1%|▏         | 63/5000 [00:02<03:14, 25.43it/s]"
     ]
    },
    {
     "name": "stdout",
     "output_type": "stream",
     "text": [
      "Text: artists are genuinely amazing.\n",
      "→ Prob (Not Sarcastic): 0.9893 | Prob (Sarcastic): 0.0107\n",
      "Text: artists are genuinely amazing.\n",
      "→ Prob (Not Sarcastic): 0.9893 | Prob (Sarcastic): 0.0107\n",
      "Text: artists are so wonderful, said no one ever.\n",
      "→ Prob (Not Sarcastic): 0.9521 | Prob (Sarcastic): 0.0479\n",
      "Text: artists are so wonderful, said no one ever.\n",
      "→ Prob (Not Sarcastic): 0.9521 | Prob (Sarcastic): 0.0479\n",
      "Text: doctors have always been great.\n",
      "→ Prob (Not Sarcastic): 0.9238 | Prob (Sarcastic): 0.0762\n",
      "Text: doctors have always been great.\n",
      "→ Prob (Not Sarcastic): 0.9238 | Prob (Sarcastic): 0.0762\n",
      "Text: Oh great, another musicians. Just what I needed.\n",
      "→ Prob (Not Sarcastic): 0.9030 | Prob (Sarcastic): 0.0970\n",
      "Text: Oh great, another musicians. Just what I needed.\n",
      "→ Prob (Not Sarcastic): 0.9030 | Prob (Sarcastic): 0.0970\n",
      "Text: Had a great time with doctors.\n",
      "→ Prob (Not Sarcastic): 0.9757 | Prob (Sarcastic): 0.0243\n",
      "Text: Had a great time with doctors.\n",
      "→ Prob (Not Sarcastic): 0.9757 | Prob (Sarcastic): 0.0243\n",
      "Text: Because the concert really make everything better.\n",
      "→ Prob (Not Sarcastic): 0.9936 | Prob (Sarcastic): 0.0064\n",
      "Text: Because the concert really make everything better.\n",
      "→ Prob (Not Sarcastic): 0.9936 | Prob (Sarcastic): 0.0064\n"
     ]
    },
    {
     "name": "stderr",
     "output_type": "stream",
     "text": [
      "  1%|▏         | 69/5000 [00:03<03:18, 24.82it/s]"
     ]
    },
    {
     "name": "stdout",
     "output_type": "stream",
     "text": [
      "Text: I find musicians to be wonderful.\n",
      "→ Prob (Not Sarcastic): 0.9936 | Prob (Sarcastic): 0.0064\n",
      "Text: I find musicians to be wonderful.\n",
      "→ Prob (Not Sarcastic): 0.9936 | Prob (Sarcastic): 0.0064\n",
      "Text: Oh great, another writers. Just what I needed.\n",
      "→ Prob (Not Sarcastic): 0.9185 | Prob (Sarcastic): 0.0815\n",
      "Text: Oh great, another writers. Just what I needed.\n",
      "→ Prob (Not Sarcastic): 0.9185 | Prob (Sarcastic): 0.0815\n",
      "Text: athletes are genuinely amazing.\n",
      "→ Prob (Not Sarcastic): 0.9899 | Prob (Sarcastic): 0.0101\n",
      "Text: athletes are genuinely amazing.\n",
      "→ Prob (Not Sarcastic): 0.9899 | Prob (Sarcastic): 0.0101\n",
      "Text: musicians are genuinely amazing.\n",
      "→ Prob (Not Sarcastic): 0.9853 | Prob (Sarcastic): 0.0147\n",
      "Text: musicians are genuinely amazing.\n",
      "→ Prob (Not Sarcastic): 0.9853 | Prob (Sarcastic): 0.0147\n",
      "Text: I just love when my new phone happens.\n",
      "→ Prob (Not Sarcastic): 0.9900 | Prob (Sarcastic): 0.0100\n",
      "Text: I just love when my new phone happens.\n",
      "→ Prob (Not Sarcastic): 0.9900 | Prob (Sarcastic): 0.0100\n"
     ]
    },
    {
     "name": "stderr",
     "output_type": "stream",
     "text": [
      "  2%|▏         | 75/5000 [00:03<03:15, 25.25it/s]"
     ]
    },
    {
     "name": "stdout",
     "output_type": "stream",
     "text": [
      "Text: I just love when this book happens.\n",
      "→ Prob (Not Sarcastic): 0.9917 | Prob (Sarcastic): 0.0083\n",
      "Text: I just love when this book happens.\n",
      "→ Prob (Not Sarcastic): 0.9917 | Prob (Sarcastic): 0.0083\n",
      "Text: doctors are truly inspiring.\n",
      "→ Prob (Not Sarcastic): 0.9899 | Prob (Sarcastic): 0.0101\n",
      "Text: doctors are truly inspiring.\n",
      "→ Prob (Not Sarcastic): 0.9899 | Prob (Sarcastic): 0.0101\n",
      "Text: the concert are genuinely amazing.\n",
      "→ Prob (Not Sarcastic): 0.9933 | Prob (Sarcastic): 0.0067\n",
      "Text: the concert are genuinely amazing.\n",
      "→ Prob (Not Sarcastic): 0.9933 | Prob (Sarcastic): 0.0067\n",
      "Text: the workshop are so wonderful, said no one ever.\n",
      "→ Prob (Not Sarcastic): 0.9830 | Prob (Sarcastic): 0.0170\n",
      "Text: the workshop are so wonderful, said no one ever.\n",
      "→ Prob (Not Sarcastic): 0.9830 | Prob (Sarcastic): 0.0170\n",
      "Text: Can't wait for more of the conference.\n",
      "→ Prob (Not Sarcastic): 0.9681 | Prob (Sarcastic): 0.0319\n",
      "Text: Can't wait for more of the conference.\n",
      "→ Prob (Not Sarcastic): 0.9681 | Prob (Sarcastic): 0.0319\n",
      "Text: Can't wait for more of musicians.\n",
      "→ Prob (Not Sarcastic): 0.7716 | Prob (Sarcastic): 0.2284\n",
      "Text: Can't wait for more of musicians.\n",
      "→ Prob (Not Sarcastic): 0.7716 | Prob (Sarcastic): 0.2284\n"
     ]
    },
    {
     "name": "stderr",
     "output_type": "stream",
     "text": [
      "  2%|▏         | 81/5000 [00:03<03:13, 25.42it/s]"
     ]
    },
    {
     "name": "stdout",
     "output_type": "stream",
     "text": [
      "Text: I find this book to be wonderful.\n",
      "→ Prob (Not Sarcastic): 0.9931 | Prob (Sarcastic): 0.0069\n",
      "Text: I find this book to be wonderful.\n",
      "→ Prob (Not Sarcastic): 0.9931 | Prob (Sarcastic): 0.0069\n",
      "Text: I just love when this book happens.\n",
      "→ Prob (Not Sarcastic): 0.9917 | Prob (Sarcastic): 0.0083\n",
      "Text: I just love when this book happens.\n",
      "→ Prob (Not Sarcastic): 0.9917 | Prob (Sarcastic): 0.0083\n",
      "Text: the conference are so wonderful, said no one ever.\n",
      "→ Prob (Not Sarcastic): 0.9828 | Prob (Sarcastic): 0.0172\n",
      "Text: the conference are so wonderful, said no one ever.\n",
      "→ Prob (Not Sarcastic): 0.9828 | Prob (Sarcastic): 0.0172\n",
      "Text: Everyone loves the game, right?\n",
      "→ Prob (Not Sarcastic): 0.9918 | Prob (Sarcastic): 0.0082\n",
      "Text: Everyone loves the game, right?\n",
      "→ Prob (Not Sarcastic): 0.9918 | Prob (Sarcastic): 0.0082\n",
      "Text: I find engineers to be wonderful.\n",
      "→ Prob (Not Sarcastic): 0.9897 | Prob (Sarcastic): 0.0103\n",
      "Text: I find engineers to be wonderful.\n",
      "→ Prob (Not Sarcastic): 0.9897 | Prob (Sarcastic): 0.0103\n",
      "Text: I am always excited for vegetarians.\n",
      "→ Prob (Not Sarcastic): 0.9905 | Prob (Sarcastic): 0.0095\n",
      "Text: I am always excited for vegetarians.\n",
      "→ Prob (Not Sarcastic): 0.9905 | Prob (Sarcastic): 0.0095\n"
     ]
    },
    {
     "name": "stderr",
     "output_type": "stream",
     "text": [
      "  2%|▏         | 87/5000 [00:03<03:12, 25.48it/s]"
     ]
    },
    {
     "name": "stdout",
     "output_type": "stream",
     "text": [
      "Text: the workshop are truly inspiring.\n",
      "→ Prob (Not Sarcastic): 0.9927 | Prob (Sarcastic): 0.0073\n",
      "Text: the workshop are truly inspiring.\n",
      "→ Prob (Not Sarcastic): 0.9927 | Prob (Sarcastic): 0.0073\n",
      "Text: I am always excited for musicians.\n",
      "→ Prob (Not Sarcastic): 0.9901 | Prob (Sarcastic): 0.0099\n",
      "Text: I am always excited for musicians.\n",
      "→ Prob (Not Sarcastic): 0.9901 | Prob (Sarcastic): 0.0099\n",
      "Text: the concert have always been great.\n",
      "→ Prob (Not Sarcastic): 0.9900 | Prob (Sarcastic): 0.0100\n",
      "Text: the concert have always been great.\n",
      "→ Prob (Not Sarcastic): 0.9900 | Prob (Sarcastic): 0.0100\n",
      "Text: Because vegetarians really make everything better.\n",
      "→ Prob (Not Sarcastic): 0.9936 | Prob (Sarcastic): 0.0064\n",
      "Text: Because vegetarians really make everything better.\n",
      "→ Prob (Not Sarcastic): 0.9936 | Prob (Sarcastic): 0.0064\n",
      "Text: I am always excited for engineers.\n",
      "→ Prob (Not Sarcastic): 0.9883 | Prob (Sarcastic): 0.0117\n",
      "Text: I am always excited for engineers.\n",
      "→ Prob (Not Sarcastic): 0.9883 | Prob (Sarcastic): 0.0117\n",
      "Text: Because this movie really make everything better.\n",
      "→ Prob (Not Sarcastic): 0.9916 | Prob (Sarcastic): 0.0084\n",
      "Text: Because this movie really make everything better.\n",
      "→ Prob (Not Sarcastic): 0.9916 | Prob (Sarcastic): 0.0084\n"
     ]
    },
    {
     "name": "stderr",
     "output_type": "stream",
     "text": [
      "  2%|▏         | 93/5000 [00:03<03:12, 25.46it/s]"
     ]
    },
    {
     "name": "stdout",
     "output_type": "stream",
     "text": [
      "Text: Had a great time with athletes.\n",
      "→ Prob (Not Sarcastic): 0.9861 | Prob (Sarcastic): 0.0139\n",
      "Text: Had a great time with athletes.\n",
      "→ Prob (Not Sarcastic): 0.9861 | Prob (Sarcastic): 0.0139\n",
      "Text: Can't wait for more of engineers.\n",
      "→ Prob (Not Sarcastic): 0.5661 | Prob (Sarcastic): 0.4339\n",
      "Text: Can't wait for more of engineers.\n",
      "→ Prob (Not Sarcastic): 0.5661 | Prob (Sarcastic): 0.4339\n",
      "Text: the concert have always been great.\n",
      "→ Prob (Not Sarcastic): 0.9900 | Prob (Sarcastic): 0.0100\n",
      "Text: the concert have always been great.\n",
      "→ Prob (Not Sarcastic): 0.9900 | Prob (Sarcastic): 0.0100\n",
      "Text: Can't wait for more of the workshop.\n",
      "→ Prob (Not Sarcastic): 0.9260 | Prob (Sarcastic): 0.0740\n",
      "Text: Can't wait for more of the workshop.\n",
      "→ Prob (Not Sarcastic): 0.9260 | Prob (Sarcastic): 0.0740\n",
      "Text: Because musicians really make everything better.\n",
      "→ Prob (Not Sarcastic): 0.9947 | Prob (Sarcastic): 0.0053\n",
      "Text: Because musicians really make everything better.\n",
      "→ Prob (Not Sarcastic): 0.9947 | Prob (Sarcastic): 0.0053\n",
      "Text: Oh great, another the meal. Just what I needed.\n",
      "→ Prob (Not Sarcastic): 0.8427 | Prob (Sarcastic): 0.1573\n",
      "Text: Oh great, another the meal. Just what I needed.\n",
      "→ Prob (Not Sarcastic): 0.8427 | Prob (Sarcastic): 0.1573\n"
     ]
    },
    {
     "name": "stderr",
     "output_type": "stream",
     "text": [
      "  2%|▏         | 99/5000 [00:04<03:11, 25.54it/s]"
     ]
    },
    {
     "name": "stdout",
     "output_type": "stream",
     "text": [
      "Text: vegetarians are truly inspiring.\n",
      "→ Prob (Not Sarcastic): 0.9948 | Prob (Sarcastic): 0.0052\n",
      "Text: vegetarians are truly inspiring.\n",
      "→ Prob (Not Sarcastic): 0.9948 | Prob (Sarcastic): 0.0052\n",
      "Text: Nothing better than a doctors moment.\n",
      "→ Prob (Not Sarcastic): 0.9564 | Prob (Sarcastic): 0.0436\n",
      "Text: Nothing better than a doctors moment.\n",
      "→ Prob (Not Sarcastic): 0.9564 | Prob (Sarcastic): 0.0436\n",
      "Text: scientists are so wonderful, said no one ever.\n",
      "→ Prob (Not Sarcastic): 0.9079 | Prob (Sarcastic): 0.0921\n",
      "Text: scientists are so wonderful, said no one ever.\n",
      "→ Prob (Not Sarcastic): 0.9079 | Prob (Sarcastic): 0.0921\n",
      "Text: Oh great, another athletes. Just what I needed.\n",
      "→ Prob (Not Sarcastic): 0.8928 | Prob (Sarcastic): 0.1072\n",
      "Text: Oh great, another athletes. Just what I needed.\n",
      "→ Prob (Not Sarcastic): 0.8928 | Prob (Sarcastic): 0.1072\n",
      "Text: Because vegetarians really make everything better.\n",
      "→ Prob (Not Sarcastic): 0.9936 | Prob (Sarcastic): 0.0064\n",
      "Text: Because vegetarians really make everything better.\n",
      "→ Prob (Not Sarcastic): 0.9936 | Prob (Sarcastic): 0.0064\n",
      "Text: athletes have always been great.\n",
      "→ Prob (Not Sarcastic): 0.9833 | Prob (Sarcastic): 0.0167\n",
      "Text: athletes have always been great.\n",
      "→ Prob (Not Sarcastic): 0.9833 | Prob (Sarcastic): 0.0167\n"
     ]
    },
    {
     "name": "stderr",
     "output_type": "stream",
     "text": [
      "  2%|▏         | 105/5000 [00:04<03:11, 25.53it/s]"
     ]
    },
    {
     "name": "stdout",
     "output_type": "stream",
     "text": [
      "Text: Because the conference really make everything better.\n",
      "→ Prob (Not Sarcastic): 0.9932 | Prob (Sarcastic): 0.0068\n",
      "Text: Because the conference really make everything better.\n",
      "→ Prob (Not Sarcastic): 0.9932 | Prob (Sarcastic): 0.0068\n",
      "Text: I just love when writers happens.\n",
      "→ Prob (Not Sarcastic): 0.9902 | Prob (Sarcastic): 0.0098\n",
      "Text: I just love when writers happens.\n",
      "→ Prob (Not Sarcastic): 0.9902 | Prob (Sarcastic): 0.0098\n",
      "Text: Can't wait for more of engineers.\n",
      "→ Prob (Not Sarcastic): 0.5661 | Prob (Sarcastic): 0.4339\n",
      "Text: Can't wait for more of engineers.\n",
      "→ Prob (Not Sarcastic): 0.5661 | Prob (Sarcastic): 0.4339\n",
      "Text: Had a great time with this movie.\n",
      "→ Prob (Not Sarcastic): 0.9810 | Prob (Sarcastic): 0.0190\n",
      "Text: Had a great time with this movie.\n",
      "→ Prob (Not Sarcastic): 0.9810 | Prob (Sarcastic): 0.0190\n",
      "Text: Because the conference really make everything better.\n",
      "→ Prob (Not Sarcastic): 0.9932 | Prob (Sarcastic): 0.0068\n",
      "Text: Because the conference really make everything better.\n",
      "→ Prob (Not Sarcastic): 0.9932 | Prob (Sarcastic): 0.0068\n",
      "Text: the meal are genuinely amazing.\n",
      "→ Prob (Not Sarcastic): 0.9940 | Prob (Sarcastic): 0.0060\n",
      "Text: the meal are genuinely amazing.\n",
      "→ Prob (Not Sarcastic): 0.9940 | Prob (Sarcastic): 0.0060\n"
     ]
    },
    {
     "name": "stderr",
     "output_type": "stream",
     "text": [
      "  2%|▏         | 111/5000 [00:04<03:11, 25.47it/s]"
     ]
    },
    {
     "name": "stdout",
     "output_type": "stream",
     "text": [
      "Text: I am always excited for this movie.\n",
      "→ Prob (Not Sarcastic): 0.9899 | Prob (Sarcastic): 0.0101\n",
      "Text: I am always excited for this movie.\n",
      "→ Prob (Not Sarcastic): 0.9899 | Prob (Sarcastic): 0.0101\n",
      "Text: Had a the workshop, best experience ever. Not.\n",
      "→ Prob (Not Sarcastic): 0.8060 | Prob (Sarcastic): 0.1940\n",
      "Text: Had a the workshop, best experience ever. Not.\n",
      "→ Prob (Not Sarcastic): 0.8060 | Prob (Sarcastic): 0.1940\n",
      "Text: Had a the conference, best experience ever. Not.\n",
      "→ Prob (Not Sarcastic): 0.8546 | Prob (Sarcastic): 0.1454\n",
      "Text: Had a the conference, best experience ever. Not.\n",
      "→ Prob (Not Sarcastic): 0.8546 | Prob (Sarcastic): 0.1454\n",
      "Text: Had a great time with the workshop.\n",
      "→ Prob (Not Sarcastic): 0.9793 | Prob (Sarcastic): 0.0207\n",
      "Text: Had a great time with the workshop.\n",
      "→ Prob (Not Sarcastic): 0.9793 | Prob (Sarcastic): 0.0207\n",
      "Text: Can't wait for more of vegetarians.\n",
      "→ Prob (Not Sarcastic): 0.8649 | Prob (Sarcastic): 0.1351\n",
      "Text: Can't wait for more of vegetarians.\n",
      "→ Prob (Not Sarcastic): 0.8649 | Prob (Sarcastic): 0.1351\n",
      "Text: Because vegetarians really make everything better.\n",
      "→ Prob (Not Sarcastic): 0.9936 | Prob (Sarcastic): 0.0064\n",
      "Text: Because vegetarians really make everything better.\n",
      "→ Prob (Not Sarcastic): 0.9936 | Prob (Sarcastic): 0.0064\n"
     ]
    },
    {
     "name": "stderr",
     "output_type": "stream",
     "text": [
      "  2%|▏         | 117/5000 [00:04<03:10, 25.57it/s]"
     ]
    },
    {
     "name": "stdout",
     "output_type": "stream",
     "text": [
      "Text: Everyone loves engineers, right?\n",
      "→ Prob (Not Sarcastic): 0.9870 | Prob (Sarcastic): 0.0130\n",
      "Text: Everyone loves engineers, right?\n",
      "→ Prob (Not Sarcastic): 0.9870 | Prob (Sarcastic): 0.0130\n",
      "Text: Had a musicians, best experience ever. Not.\n",
      "→ Prob (Not Sarcastic): 0.7504 | Prob (Sarcastic): 0.2496\n",
      "Text: Had a musicians, best experience ever. Not.\n",
      "→ Prob (Not Sarcastic): 0.7504 | Prob (Sarcastic): 0.2496\n",
      "Text: Can't wait for more of engineers.\n",
      "→ Prob (Not Sarcastic): 0.5661 | Prob (Sarcastic): 0.4339\n",
      "Text: Can't wait for more of engineers.\n",
      "→ Prob (Not Sarcastic): 0.5661 | Prob (Sarcastic): 0.4339\n",
      "Text: this movie have always been great.\n",
      "→ Prob (Not Sarcastic): 0.9906 | Prob (Sarcastic): 0.0094\n",
      "Text: this movie have always been great.\n",
      "→ Prob (Not Sarcastic): 0.9906 | Prob (Sarcastic): 0.0094\n",
      "Text: Nothing better than a the meal moment.\n",
      "→ Prob (Not Sarcastic): 0.9620 | Prob (Sarcastic): 0.0380\n",
      "Text: Nothing better than a the meal moment.\n",
      "→ Prob (Not Sarcastic): 0.9620 | Prob (Sarcastic): 0.0380\n",
      "Text: Can't wait for more of this book.\n",
      "→ Prob (Not Sarcastic): 0.9606 | Prob (Sarcastic): 0.0394\n",
      "Text: Can't wait for more of this book.\n",
      "→ Prob (Not Sarcastic): 0.9606 | Prob (Sarcastic): 0.0394\n"
     ]
    },
    {
     "name": "stderr",
     "output_type": "stream",
     "text": [
      "  2%|▏         | 123/5000 [00:05<03:31, 23.07it/s]"
     ]
    },
    {
     "name": "stdout",
     "output_type": "stream",
     "text": [
      "Text: I find the meal to be wonderful.\n",
      "→ Prob (Not Sarcastic): 0.9942 | Prob (Sarcastic): 0.0058\n",
      "Text: I find the meal to be wonderful.\n",
      "→ Prob (Not Sarcastic): 0.9942 | Prob (Sarcastic): 0.0058\n",
      "Text: Had a this book, best experience ever. Not.\n",
      "→ Prob (Not Sarcastic): 0.7119 | Prob (Sarcastic): 0.2881\n",
      "Text: Had a this book, best experience ever. Not.\n",
      "→ Prob (Not Sarcastic): 0.7119 | Prob (Sarcastic): 0.2881\n",
      "Text: Nothing better than a artists moment.\n",
      "→ Prob (Not Sarcastic): 0.9809 | Prob (Sarcastic): 0.0191\n",
      "Text: Nothing better than a artists moment.\n",
      "→ Prob (Not Sarcastic): 0.9809 | Prob (Sarcastic): 0.0191\n",
      "Text: Nothing better than a musicians moment.\n",
      "→ Prob (Not Sarcastic): 0.9761 | Prob (Sarcastic): 0.0239\n",
      "Text: Nothing better than a musicians moment.\n",
      "→ Prob (Not Sarcastic): 0.9761 | Prob (Sarcastic): 0.0239\n",
      "Text: I am always excited for this book.\n",
      "→ Prob (Not Sarcastic): 0.9916 | Prob (Sarcastic): 0.0084\n",
      "Text: I am always excited for this book.\n",
      "→ Prob (Not Sarcastic): 0.9916 | Prob (Sarcastic): 0.0084\n"
     ]
    },
    {
     "name": "stderr",
     "output_type": "stream",
     "text": [
      "  3%|▎         | 126/5000 [00:05<03:36, 22.48it/s]"
     ]
    },
    {
     "name": "stdout",
     "output_type": "stream",
     "text": [
      "Text: Can't wait for more of this book.\n",
      "→ Prob (Not Sarcastic): 0.9606 | Prob (Sarcastic): 0.0394\n",
      "Text: Can't wait for more of this book.\n",
      "→ Prob (Not Sarcastic): 0.9606 | Prob (Sarcastic): 0.0394\n",
      "Text: I find writers to be wonderful.\n",
      "→ Prob (Not Sarcastic): 0.9937 | Prob (Sarcastic): 0.0063\n",
      "Text: I find writers to be wonderful.\n",
      "→ Prob (Not Sarcastic): 0.9937 | Prob (Sarcastic): 0.0063\n",
      "Text: Nothing better than a the conference moment.\n",
      "→ Prob (Not Sarcastic): 0.9396 | Prob (Sarcastic): 0.0604\n",
      "Text: Nothing better than a the conference moment.\n",
      "→ Prob (Not Sarcastic): 0.9396 | Prob (Sarcastic): 0.0604\n",
      "Text: Had a doctors, best experience ever. Not.\n",
      "→ Prob (Not Sarcastic): 0.7957 | Prob (Sarcastic): 0.2043\n",
      "Text: Had a doctors, best experience ever. Not.\n",
      "→ Prob (Not Sarcastic): 0.7957 | Prob (Sarcastic): 0.2043\n",
      "Text: the workshop are so wonderful, said no one ever.\n",
      "→ Prob (Not Sarcastic): 0.9830 | Prob (Sarcastic): 0.0170\n",
      "Text: the workshop are so wonderful, said no one ever.\n",
      "→ Prob (Not Sarcastic): 0.9830 | Prob (Sarcastic): 0.0170\n"
     ]
    },
    {
     "name": "stderr",
     "output_type": "stream",
     "text": [
      "  3%|▎         | 132/5000 [00:05<03:29, 23.18it/s]"
     ]
    },
    {
     "name": "stdout",
     "output_type": "stream",
     "text": [
      "Text: athletes are genuinely amazing.\n",
      "→ Prob (Not Sarcastic): 0.9899 | Prob (Sarcastic): 0.0101\n",
      "Text: athletes are genuinely amazing.\n",
      "→ Prob (Not Sarcastic): 0.9899 | Prob (Sarcastic): 0.0101\n",
      "Text: I am always excited for athletes.\n",
      "→ Prob (Not Sarcastic): 0.9926 | Prob (Sarcastic): 0.0074\n",
      "Text: I am always excited for athletes.\n",
      "→ Prob (Not Sarcastic): 0.9926 | Prob (Sarcastic): 0.0074\n",
      "Text: the game are truly inspiring.\n",
      "→ Prob (Not Sarcastic): 0.9948 | Prob (Sarcastic): 0.0052\n",
      "Text: the game are truly inspiring.\n",
      "→ Prob (Not Sarcastic): 0.9948 | Prob (Sarcastic): 0.0052\n",
      "Text: the game are genuinely amazing.\n",
      "→ Prob (Not Sarcastic): 0.9945 | Prob (Sarcastic): 0.0055\n",
      "Text: the game are genuinely amazing.\n",
      "→ Prob (Not Sarcastic): 0.9945 | Prob (Sarcastic): 0.0055\n",
      "Text: Because writers really make everything better.\n",
      "→ Prob (Not Sarcastic): 0.9934 | Prob (Sarcastic): 0.0066\n",
      "Text: Because writers really make everything better.\n",
      "→ Prob (Not Sarcastic): 0.9934 | Prob (Sarcastic): 0.0066\n"
     ]
    },
    {
     "name": "stderr",
     "output_type": "stream",
     "text": [
      "  3%|▎         | 138/5000 [00:05<03:18, 24.45it/s]"
     ]
    },
    {
     "name": "stdout",
     "output_type": "stream",
     "text": [
      "Text: I am always excited for musicians.\n",
      "→ Prob (Not Sarcastic): 0.9901 | Prob (Sarcastic): 0.0099\n",
      "Text: I am always excited for musicians.\n",
      "→ Prob (Not Sarcastic): 0.9901 | Prob (Sarcastic): 0.0099\n",
      "Text: Can't wait for more of the concert.\n",
      "→ Prob (Not Sarcastic): 0.9482 | Prob (Sarcastic): 0.0518\n",
      "Text: Can't wait for more of the concert.\n",
      "→ Prob (Not Sarcastic): 0.9482 | Prob (Sarcastic): 0.0518\n",
      "Text: Nothing better than a the conference moment.\n",
      "→ Prob (Not Sarcastic): 0.9396 | Prob (Sarcastic): 0.0604\n",
      "Text: Nothing better than a the conference moment.\n",
      "→ Prob (Not Sarcastic): 0.9396 | Prob (Sarcastic): 0.0604\n",
      "Text: Oh great, another this book. Just what I needed.\n",
      "→ Prob (Not Sarcastic): 0.9500 | Prob (Sarcastic): 0.0500\n",
      "Text: Oh great, another this book. Just what I needed.\n",
      "→ Prob (Not Sarcastic): 0.9500 | Prob (Sarcastic): 0.0500\n",
      "Text: Everyone loves doctors, right?\n",
      "→ Prob (Not Sarcastic): 0.9849 | Prob (Sarcastic): 0.0151\n",
      "Text: Everyone loves doctors, right?\n",
      "→ Prob (Not Sarcastic): 0.9849 | Prob (Sarcastic): 0.0151\n",
      "Text: Nothing better than a this book moment.\n",
      "→ Prob (Not Sarcastic): 0.9738 | Prob (Sarcastic): 0.0262\n",
      "Text: Nothing better than a this book moment.\n",
      "→ Prob (Not Sarcastic): 0.9738 | Prob (Sarcastic): 0.0262\n"
     ]
    },
    {
     "name": "stderr",
     "output_type": "stream",
     "text": [
      "  3%|▎         | 144/5000 [00:06<03:14, 25.01it/s]"
     ]
    },
    {
     "name": "stdout",
     "output_type": "stream",
     "text": [
      "Text: I just love when the game happens.\n",
      "→ Prob (Not Sarcastic): 0.9916 | Prob (Sarcastic): 0.0084\n",
      "Text: I just love when the game happens.\n",
      "→ Prob (Not Sarcastic): 0.9916 | Prob (Sarcastic): 0.0084\n",
      "Text: I find this book to be wonderful.\n",
      "→ Prob (Not Sarcastic): 0.9931 | Prob (Sarcastic): 0.0069\n",
      "Text: I find this book to be wonderful.\n",
      "→ Prob (Not Sarcastic): 0.9931 | Prob (Sarcastic): 0.0069\n",
      "Text: the game are so wonderful, said no one ever.\n",
      "→ Prob (Not Sarcastic): 0.9833 | Prob (Sarcastic): 0.0167\n",
      "Text: the game are so wonderful, said no one ever.\n",
      "→ Prob (Not Sarcastic): 0.9833 | Prob (Sarcastic): 0.0167\n",
      "Text: the meal are truly inspiring.\n",
      "→ Prob (Not Sarcastic): 0.9930 | Prob (Sarcastic): 0.0070\n",
      "Text: the meal are truly inspiring.\n",
      "→ Prob (Not Sarcastic): 0.9930 | Prob (Sarcastic): 0.0070\n",
      "Text: Had a great time with vegetarians.\n",
      "→ Prob (Not Sarcastic): 0.9873 | Prob (Sarcastic): 0.0127\n",
      "Text: Had a great time with vegetarians.\n",
      "→ Prob (Not Sarcastic): 0.9873 | Prob (Sarcastic): 0.0127\n",
      "Text: I genuinely love artists.\n",
      "→ Prob (Not Sarcastic): 0.9897 | Prob (Sarcastic): 0.0103\n",
      "Text: I genuinely love artists.\n",
      "→ Prob (Not Sarcastic): 0.9897 | Prob (Sarcastic): 0.0103\n"
     ]
    },
    {
     "name": "stderr",
     "output_type": "stream",
     "text": [
      "  3%|▎         | 150/5000 [00:06<03:12, 25.24it/s]"
     ]
    },
    {
     "name": "stdout",
     "output_type": "stream",
     "text": [
      "Text: Oh great, another scientists. Just what I needed.\n",
      "→ Prob (Not Sarcastic): 0.8300 | Prob (Sarcastic): 0.1700\n",
      "Text: Oh great, another scientists. Just what I needed.\n",
      "→ Prob (Not Sarcastic): 0.8300 | Prob (Sarcastic): 0.1700\n",
      "Text: Had a great time with engineers.\n",
      "→ Prob (Not Sarcastic): 0.9781 | Prob (Sarcastic): 0.0219\n",
      "Text: Had a great time with engineers.\n",
      "→ Prob (Not Sarcastic): 0.9781 | Prob (Sarcastic): 0.0219\n",
      "Text: I am always excited for musicians.\n",
      "→ Prob (Not Sarcastic): 0.9901 | Prob (Sarcastic): 0.0099\n",
      "Text: I am always excited for musicians.\n",
      "→ Prob (Not Sarcastic): 0.9901 | Prob (Sarcastic): 0.0099\n",
      "Text: Can't wait for more of the game.\n",
      "→ Prob (Not Sarcastic): 0.9589 | Prob (Sarcastic): 0.0411\n",
      "Text: Can't wait for more of the game.\n",
      "→ Prob (Not Sarcastic): 0.9589 | Prob (Sarcastic): 0.0411\n",
      "Text: doctors are truly inspiring.\n",
      "→ Prob (Not Sarcastic): 0.9899 | Prob (Sarcastic): 0.0101\n",
      "Text: doctors are truly inspiring.\n",
      "→ Prob (Not Sarcastic): 0.9899 | Prob (Sarcastic): 0.0101\n",
      "Text: the workshop have always been great.\n",
      "→ Prob (Not Sarcastic): 0.9882 | Prob (Sarcastic): 0.0118\n",
      "Text: the workshop have always been great.\n",
      "→ Prob (Not Sarcastic): 0.9882 | Prob (Sarcastic): 0.0118\n"
     ]
    },
    {
     "name": "stderr",
     "output_type": "stream",
     "text": [
      "  3%|▎         | 156/5000 [00:06<03:10, 25.46it/s]"
     ]
    },
    {
     "name": "stdout",
     "output_type": "stream",
     "text": [
      "Text: Had a my new phone, best experience ever. Not.\n",
      "→ Prob (Not Sarcastic): 0.8831 | Prob (Sarcastic): 0.1169\n",
      "Text: Had a my new phone, best experience ever. Not.\n",
      "→ Prob (Not Sarcastic): 0.8831 | Prob (Sarcastic): 0.1169\n",
      "Text: vegetarians are so wonderful, said no one ever.\n",
      "→ Prob (Not Sarcastic): 0.9772 | Prob (Sarcastic): 0.0228\n",
      "Text: vegetarians are so wonderful, said no one ever.\n",
      "→ Prob (Not Sarcastic): 0.9772 | Prob (Sarcastic): 0.0228\n",
      "Text: Can't wait for more of athletes.\n",
      "→ Prob (Not Sarcastic): 0.9390 | Prob (Sarcastic): 0.0610\n",
      "Text: Can't wait for more of athletes.\n",
      "→ Prob (Not Sarcastic): 0.9390 | Prob (Sarcastic): 0.0610\n",
      "Text: Oh great, another vegetarians. Just what I needed.\n",
      "→ Prob (Not Sarcastic): 0.9193 | Prob (Sarcastic): 0.0807\n",
      "Text: Oh great, another vegetarians. Just what I needed.\n",
      "→ Prob (Not Sarcastic): 0.9193 | Prob (Sarcastic): 0.0807\n",
      "Text: Everyone loves the workshop, right?\n",
      "→ Prob (Not Sarcastic): 0.9898 | Prob (Sarcastic): 0.0102\n",
      "Text: Everyone loves the workshop, right?\n",
      "→ Prob (Not Sarcastic): 0.9898 | Prob (Sarcastic): 0.0102\n",
      "Text: I find the meal to be wonderful.\n",
      "→ Prob (Not Sarcastic): 0.9942 | Prob (Sarcastic): 0.0058\n",
      "Text: I find the meal to be wonderful.\n",
      "→ Prob (Not Sarcastic): 0.9942 | Prob (Sarcastic): 0.0058\n"
     ]
    },
    {
     "name": "stderr",
     "output_type": "stream",
     "text": [
      "  3%|▎         | 162/5000 [00:06<03:09, 25.53it/s]"
     ]
    },
    {
     "name": "stdout",
     "output_type": "stream",
     "text": [
      "Text: Had a great time with the conference.\n",
      "→ Prob (Not Sarcastic): 0.9918 | Prob (Sarcastic): 0.0082\n",
      "Text: Had a great time with the conference.\n",
      "→ Prob (Not Sarcastic): 0.9918 | Prob (Sarcastic): 0.0082\n",
      "Text: I just love when the conference happens.\n",
      "→ Prob (Not Sarcastic): 0.9922 | Prob (Sarcastic): 0.0078\n",
      "Text: I just love when the conference happens.\n",
      "→ Prob (Not Sarcastic): 0.9922 | Prob (Sarcastic): 0.0078\n",
      "Text: scientists are so wonderful, said no one ever.\n",
      "→ Prob (Not Sarcastic): 0.9079 | Prob (Sarcastic): 0.0921\n",
      "Text: scientists are so wonderful, said no one ever.\n",
      "→ Prob (Not Sarcastic): 0.9079 | Prob (Sarcastic): 0.0921\n",
      "Text: this movie are genuinely amazing.\n",
      "→ Prob (Not Sarcastic): 0.9922 | Prob (Sarcastic): 0.0078\n",
      "Text: this movie are genuinely amazing.\n",
      "→ Prob (Not Sarcastic): 0.9922 | Prob (Sarcastic): 0.0078\n",
      "Text: Had a my new phone, best experience ever. Not.\n",
      "→ Prob (Not Sarcastic): 0.8831 | Prob (Sarcastic): 0.1169\n",
      "Text: Had a my new phone, best experience ever. Not.\n",
      "→ Prob (Not Sarcastic): 0.8831 | Prob (Sarcastic): 0.1169\n",
      "Text: Everyone loves the workshop, right?\n",
      "→ Prob (Not Sarcastic): 0.9898 | Prob (Sarcastic): 0.0102\n",
      "Text: Everyone loves the workshop, right?\n",
      "→ Prob (Not Sarcastic): 0.9898 | Prob (Sarcastic): 0.0102\n"
     ]
    },
    {
     "name": "stderr",
     "output_type": "stream",
     "text": [
      "  3%|▎         | 168/5000 [00:07<03:08, 25.62it/s]"
     ]
    },
    {
     "name": "stdout",
     "output_type": "stream",
     "text": [
      "Text: Nothing better than a my new phone moment.\n",
      "→ Prob (Not Sarcastic): 0.9559 | Prob (Sarcastic): 0.0441\n",
      "Text: Nothing better than a my new phone moment.\n",
      "→ Prob (Not Sarcastic): 0.9559 | Prob (Sarcastic): 0.0441\n",
      "Text: vegetarians are genuinely amazing.\n",
      "→ Prob (Not Sarcastic): 0.9941 | Prob (Sarcastic): 0.0059\n",
      "Text: vegetarians are genuinely amazing.\n",
      "→ Prob (Not Sarcastic): 0.9941 | Prob (Sarcastic): 0.0059\n",
      "Text: Can't wait for more of the workshop.\n",
      "→ Prob (Not Sarcastic): 0.9260 | Prob (Sarcastic): 0.0740\n",
      "Text: Can't wait for more of the workshop.\n",
      "→ Prob (Not Sarcastic): 0.9260 | Prob (Sarcastic): 0.0740\n",
      "Text: I find engineers to be wonderful.\n",
      "→ Prob (Not Sarcastic): 0.9897 | Prob (Sarcastic): 0.0103\n",
      "Text: I find engineers to be wonderful.\n",
      "→ Prob (Not Sarcastic): 0.9897 | Prob (Sarcastic): 0.0103\n",
      "Text: Oh great, another the game. Just what I needed.\n",
      "→ Prob (Not Sarcastic): 0.8696 | Prob (Sarcastic): 0.1304\n",
      "Text: Oh great, another the game. Just what I needed.\n",
      "→ Prob (Not Sarcastic): 0.8696 | Prob (Sarcastic): 0.1304\n",
      "Text: the conference are truly inspiring.\n",
      "→ Prob (Not Sarcastic): 0.9917 | Prob (Sarcastic): 0.0083\n",
      "Text: the conference are truly inspiring.\n",
      "→ Prob (Not Sarcastic): 0.9917 | Prob (Sarcastic): 0.0083\n"
     ]
    },
    {
     "name": "stderr",
     "output_type": "stream",
     "text": [
      "  3%|▎         | 174/5000 [00:07<03:09, 25.48it/s]"
     ]
    },
    {
     "name": "stdout",
     "output_type": "stream",
     "text": [
      "Text: writers are genuinely amazing.\n",
      "→ Prob (Not Sarcastic): 0.9834 | Prob (Sarcastic): 0.0166\n",
      "Text: writers are genuinely amazing.\n",
      "→ Prob (Not Sarcastic): 0.9834 | Prob (Sarcastic): 0.0166\n",
      "Text: Had a the game, best experience ever. Not.\n",
      "→ Prob (Not Sarcastic): 0.7979 | Prob (Sarcastic): 0.2021\n",
      "Text: Had a the game, best experience ever. Not.\n",
      "→ Prob (Not Sarcastic): 0.7979 | Prob (Sarcastic): 0.2021\n",
      "Text: writers are genuinely amazing.\n",
      "→ Prob (Not Sarcastic): 0.9834 | Prob (Sarcastic): 0.0166\n",
      "Text: writers are genuinely amazing.\n",
      "→ Prob (Not Sarcastic): 0.9834 | Prob (Sarcastic): 0.0166\n",
      "Text: Had a the conference, best experience ever. Not.\n",
      "→ Prob (Not Sarcastic): 0.8546 | Prob (Sarcastic): 0.1454\n",
      "Text: Had a the conference, best experience ever. Not.\n",
      "→ Prob (Not Sarcastic): 0.8546 | Prob (Sarcastic): 0.1454\n",
      "Text: artists are truly inspiring.\n",
      "→ Prob (Not Sarcastic): 0.9919 | Prob (Sarcastic): 0.0081\n",
      "Text: artists are truly inspiring.\n",
      "→ Prob (Not Sarcastic): 0.9919 | Prob (Sarcastic): 0.0081\n",
      "Text: I genuinely love doctors.\n",
      "→ Prob (Not Sarcastic): 0.9905 | Prob (Sarcastic): 0.0095\n",
      "Text: I genuinely love doctors.\n",
      "→ Prob (Not Sarcastic): 0.9905 | Prob (Sarcastic): 0.0095\n"
     ]
    },
    {
     "name": "stderr",
     "output_type": "stream",
     "text": [
      "  4%|▎         | 180/5000 [00:07<03:08, 25.59it/s]"
     ]
    },
    {
     "name": "stdout",
     "output_type": "stream",
     "text": [
      "Text: scientists have always been great.\n",
      "→ Prob (Not Sarcastic): 0.9346 | Prob (Sarcastic): 0.0654\n",
      "Text: scientists have always been great.\n",
      "→ Prob (Not Sarcastic): 0.9346 | Prob (Sarcastic): 0.0654\n",
      "Text: my new phone have always been great.\n",
      "→ Prob (Not Sarcastic): 0.9891 | Prob (Sarcastic): 0.0109\n",
      "Text: my new phone have always been great.\n",
      "→ Prob (Not Sarcastic): 0.9891 | Prob (Sarcastic): 0.0109\n",
      "Text: Oh great, another the meal. Just what I needed.\n",
      "→ Prob (Not Sarcastic): 0.8427 | Prob (Sarcastic): 0.1573\n",
      "Text: Oh great, another the meal. Just what I needed.\n",
      "→ Prob (Not Sarcastic): 0.8427 | Prob (Sarcastic): 0.1573\n",
      "Text: the concert have always been great.\n",
      "→ Prob (Not Sarcastic): 0.9900 | Prob (Sarcastic): 0.0100\n",
      "Text: the concert have always been great.\n",
      "→ Prob (Not Sarcastic): 0.9900 | Prob (Sarcastic): 0.0100\n",
      "Text: I am always excited for this book.\n",
      "→ Prob (Not Sarcastic): 0.9916 | Prob (Sarcastic): 0.0084\n",
      "Text: I am always excited for this book.\n",
      "→ Prob (Not Sarcastic): 0.9916 | Prob (Sarcastic): 0.0084\n",
      "Text: Can't wait for more of the meal.\n",
      "→ Prob (Not Sarcastic): 0.8479 | Prob (Sarcastic): 0.1521\n",
      "Text: Can't wait for more of the meal.\n",
      "→ Prob (Not Sarcastic): 0.8479 | Prob (Sarcastic): 0.1521\n"
     ]
    },
    {
     "name": "stderr",
     "output_type": "stream",
     "text": [
      "  4%|▎         | 186/5000 [00:07<03:07, 25.62it/s]"
     ]
    },
    {
     "name": "stdout",
     "output_type": "stream",
     "text": [
      "Text: Had a athletes, best experience ever. Not.\n",
      "→ Prob (Not Sarcastic): 0.7530 | Prob (Sarcastic): 0.2470\n",
      "Text: Had a athletes, best experience ever. Not.\n",
      "→ Prob (Not Sarcastic): 0.7530 | Prob (Sarcastic): 0.2470\n",
      "Text: Can't wait for more of musicians.\n",
      "→ Prob (Not Sarcastic): 0.7716 | Prob (Sarcastic): 0.2284\n",
      "Text: Can't wait for more of musicians.\n",
      "→ Prob (Not Sarcastic): 0.7716 | Prob (Sarcastic): 0.2284\n",
      "Text: Can't wait for more of writers.\n",
      "→ Prob (Not Sarcastic): 0.8679 | Prob (Sarcastic): 0.1321\n",
      "Text: Can't wait for more of writers.\n",
      "→ Prob (Not Sarcastic): 0.8679 | Prob (Sarcastic): 0.1321\n",
      "Text: Oh great, another athletes. Just what I needed.\n",
      "→ Prob (Not Sarcastic): 0.8928 | Prob (Sarcastic): 0.1072\n",
      "Text: Oh great, another athletes. Just what I needed.\n",
      "→ Prob (Not Sarcastic): 0.8928 | Prob (Sarcastic): 0.1072\n",
      "Text: Had a the concert, best experience ever. Not.\n",
      "→ Prob (Not Sarcastic): 0.8146 | Prob (Sarcastic): 0.1854\n",
      "Text: Had a the concert, best experience ever. Not.\n",
      "→ Prob (Not Sarcastic): 0.8146 | Prob (Sarcastic): 0.1854\n",
      "Text: Because vegetarians really make everything better.\n",
      "→ Prob (Not Sarcastic): 0.9936 | Prob (Sarcastic): 0.0064\n",
      "Text: Because vegetarians really make everything better.\n",
      "→ Prob (Not Sarcastic): 0.9936 | Prob (Sarcastic): 0.0064\n"
     ]
    },
    {
     "name": "stderr",
     "output_type": "stream",
     "text": [
      "  4%|▍         | 192/5000 [00:07<03:19, 24.14it/s]"
     ]
    },
    {
     "name": "stdout",
     "output_type": "stream",
     "text": [
      "Text: I genuinely love the concert.\n",
      "→ Prob (Not Sarcastic): 0.9918 | Prob (Sarcastic): 0.0082\n",
      "Text: I genuinely love the concert.\n",
      "→ Prob (Not Sarcastic): 0.9918 | Prob (Sarcastic): 0.0082\n",
      "Text: Because artists really make everything better.\n",
      "→ Prob (Not Sarcastic): 0.9945 | Prob (Sarcastic): 0.0055\n",
      "Text: Because artists really make everything better.\n",
      "→ Prob (Not Sarcastic): 0.9945 | Prob (Sarcastic): 0.0055\n",
      "Text: I find this book to be wonderful.\n",
      "→ Prob (Not Sarcastic): 0.9931 | Prob (Sarcastic): 0.0069\n",
      "Text: I find this book to be wonderful.\n",
      "→ Prob (Not Sarcastic): 0.9931 | Prob (Sarcastic): 0.0069\n",
      "Text: Oh great, another athletes. Just what I needed.\n",
      "→ Prob (Not Sarcastic): 0.8928 | Prob (Sarcastic): 0.1072\n",
      "Text: Oh great, another athletes. Just what I needed.\n",
      "→ Prob (Not Sarcastic): 0.8928 | Prob (Sarcastic): 0.1072\n",
      "Text: Had a athletes, best experience ever. Not.\n",
      "→ Prob (Not Sarcastic): 0.7530 | Prob (Sarcastic): 0.2470\n",
      "Text: Had a athletes, best experience ever. Not.\n",
      "→ Prob (Not Sarcastic): 0.7530 | Prob (Sarcastic): 0.2470\n",
      "Text: Everyone loves doctors, right?\n",
      "→ Prob (Not Sarcastic): 0.9849 | Prob (Sarcastic): 0.0151\n",
      "Text: Everyone loves doctors, right?\n",
      "→ Prob (Not Sarcastic): 0.9849 | Prob (Sarcastic): 0.0151\n"
     ]
    },
    {
     "name": "stderr",
     "output_type": "stream",
     "text": [
      "  4%|▍         | 198/5000 [00:08<03:11, 25.05it/s]"
     ]
    },
    {
     "name": "stdout",
     "output_type": "stream",
     "text": [
      "Text: Everyone loves the workshop, right?\n",
      "→ Prob (Not Sarcastic): 0.9898 | Prob (Sarcastic): 0.0102\n",
      "Text: Everyone loves the workshop, right?\n",
      "→ Prob (Not Sarcastic): 0.9898 | Prob (Sarcastic): 0.0102\n",
      "Text: I just love when the meal happens.\n",
      "→ Prob (Not Sarcastic): 0.9907 | Prob (Sarcastic): 0.0093\n",
      "Text: I just love when the meal happens.\n",
      "→ Prob (Not Sarcastic): 0.9907 | Prob (Sarcastic): 0.0093\n",
      "Text: this book are so wonderful, said no one ever.\n",
      "→ Prob (Not Sarcastic): 0.9817 | Prob (Sarcastic): 0.0183\n",
      "Text: this book are so wonderful, said no one ever.\n",
      "→ Prob (Not Sarcastic): 0.9817 | Prob (Sarcastic): 0.0183\n",
      "Text: Can't wait for more of the workshop.\n",
      "→ Prob (Not Sarcastic): 0.9260 | Prob (Sarcastic): 0.0740\n",
      "Text: Can't wait for more of the workshop.\n",
      "→ Prob (Not Sarcastic): 0.9260 | Prob (Sarcastic): 0.0740\n",
      "Text: Had a artists, best experience ever. Not.\n",
      "→ Prob (Not Sarcastic): 0.8032 | Prob (Sarcastic): 0.1968\n",
      "Text: Had a artists, best experience ever. Not.\n",
      "→ Prob (Not Sarcastic): 0.8032 | Prob (Sarcastic): 0.1968\n",
      "Text: this book are genuinely amazing.\n",
      "→ Prob (Not Sarcastic): 0.9933 | Prob (Sarcastic): 0.0067\n",
      "Text: this book are genuinely amazing.\n",
      "→ Prob (Not Sarcastic): 0.9933 | Prob (Sarcastic): 0.0067\n"
     ]
    },
    {
     "name": "stderr",
     "output_type": "stream",
     "text": [
      "  4%|▍         | 204/5000 [00:08<03:09, 25.28it/s]"
     ]
    },
    {
     "name": "stdout",
     "output_type": "stream",
     "text": [
      "Text: Everyone loves the concert, right?\n",
      "→ Prob (Not Sarcastic): 0.9909 | Prob (Sarcastic): 0.0091\n",
      "Text: Everyone loves the concert, right?\n",
      "→ Prob (Not Sarcastic): 0.9909 | Prob (Sarcastic): 0.0091\n",
      "Text: Nothing better than a the game moment.\n",
      "→ Prob (Not Sarcastic): 0.9737 | Prob (Sarcastic): 0.0263\n",
      "Text: Nothing better than a the game moment.\n",
      "→ Prob (Not Sarcastic): 0.9737 | Prob (Sarcastic): 0.0263\n",
      "Text: Everyone loves the meal, right?\n",
      "→ Prob (Not Sarcastic): 0.9897 | Prob (Sarcastic): 0.0103\n",
      "Text: Everyone loves the meal, right?\n",
      "→ Prob (Not Sarcastic): 0.9897 | Prob (Sarcastic): 0.0103\n",
      "Text: I am always excited for engineers.\n",
      "→ Prob (Not Sarcastic): 0.9883 | Prob (Sarcastic): 0.0117\n",
      "Text: I am always excited for engineers.\n",
      "→ Prob (Not Sarcastic): 0.9883 | Prob (Sarcastic): 0.0117\n",
      "Text: Oh great, another the game. Just what I needed.\n",
      "→ Prob (Not Sarcastic): 0.8696 | Prob (Sarcastic): 0.1304\n",
      "Text: Oh great, another the game. Just what I needed.\n",
      "→ Prob (Not Sarcastic): 0.8696 | Prob (Sarcastic): 0.1304\n",
      "Text: Oh great, another this movie. Just what I needed.\n",
      "→ Prob (Not Sarcastic): 0.8728 | Prob (Sarcastic): 0.1272\n",
      "Text: Oh great, another this movie. Just what I needed.\n",
      "→ Prob (Not Sarcastic): 0.8728 | Prob (Sarcastic): 0.1272\n"
     ]
    },
    {
     "name": "stderr",
     "output_type": "stream",
     "text": [
      "  4%|▍         | 207/5000 [00:08<03:09, 25.32it/s]"
     ]
    },
    {
     "name": "stdout",
     "output_type": "stream",
     "text": [
      "Text: Had a the game, best experience ever. Not.\n",
      "→ Prob (Not Sarcastic): 0.7979 | Prob (Sarcastic): 0.2021\n",
      "Text: Had a the game, best experience ever. Not.\n",
      "→ Prob (Not Sarcastic): 0.7979 | Prob (Sarcastic): 0.2021\n",
      "Text: I find athletes to be wonderful.\n",
      "→ Prob (Not Sarcastic): 0.9938 | Prob (Sarcastic): 0.0062\n",
      "Text: I find athletes to be wonderful.\n",
      "→ Prob (Not Sarcastic): 0.9938 | Prob (Sarcastic): 0.0062\n",
      "Text: Because this book really make everything better.\n",
      "→ Prob (Not Sarcastic): 0.9935 | Prob (Sarcastic): 0.0065\n",
      "Text: Because this book really make everything better.\n",
      "→ Prob (Not Sarcastic): 0.9935 | Prob (Sarcastic): 0.0065\n",
      "Text: athletes are genuinely amazing.\n",
      "→ Prob (Not Sarcastic): 0.9899 | Prob (Sarcastic): 0.0101\n",
      "Text: athletes are genuinely amazing.\n",
      "→ Prob (Not Sarcastic): 0.9899 | Prob (Sarcastic): 0.0101\n"
     ]
    },
    {
     "name": "stderr",
     "output_type": "stream",
     "text": [
      "  4%|▍         | 213/5000 [00:08<03:29, 22.89it/s]"
     ]
    },
    {
     "name": "stdout",
     "output_type": "stream",
     "text": [
      "Text: Can't wait for more of writers.\n",
      "→ Prob (Not Sarcastic): 0.8679 | Prob (Sarcastic): 0.1321\n",
      "Text: Can't wait for more of writers.\n",
      "→ Prob (Not Sarcastic): 0.8679 | Prob (Sarcastic): 0.1321\n",
      "Text: Can't wait for more of this book.\n",
      "→ Prob (Not Sarcastic): 0.9606 | Prob (Sarcastic): 0.0394\n",
      "Text: Can't wait for more of this book.\n",
      "→ Prob (Not Sarcastic): 0.9606 | Prob (Sarcastic): 0.0394\n",
      "Text: I genuinely love musicians.\n",
      "→ Prob (Not Sarcastic): 0.9891 | Prob (Sarcastic): 0.0109\n",
      "Text: I genuinely love musicians.\n",
      "→ Prob (Not Sarcastic): 0.9891 | Prob (Sarcastic): 0.0109\n",
      "Text: Oh great, another musicians. Just what I needed.\n",
      "→ Prob (Not Sarcastic): 0.9030 | Prob (Sarcastic): 0.0970\n",
      "Text: Oh great, another musicians. Just what I needed.\n",
      "→ Prob (Not Sarcastic): 0.9030 | Prob (Sarcastic): 0.0970\n",
      "Text: Can't wait for more of engineers.\n",
      "→ Prob (Not Sarcastic): 0.5661 | Prob (Sarcastic): 0.4339\n",
      "Text: Can't wait for more of engineers.\n",
      "→ Prob (Not Sarcastic): 0.5661 | Prob (Sarcastic): 0.4339\n"
     ]
    },
    {
     "name": "stderr",
     "output_type": "stream",
     "text": [
      "  4%|▍         | 219/5000 [00:09<03:21, 23.75it/s]"
     ]
    },
    {
     "name": "stdout",
     "output_type": "stream",
     "text": [
      "Text: I genuinely love engineers.\n",
      "→ Prob (Not Sarcastic): 0.9878 | Prob (Sarcastic): 0.0122\n",
      "Text: I genuinely love engineers.\n",
      "→ Prob (Not Sarcastic): 0.9878 | Prob (Sarcastic): 0.0122\n",
      "Text: Because the concert really make everything better.\n",
      "→ Prob (Not Sarcastic): 0.9936 | Prob (Sarcastic): 0.0064\n",
      "Text: Because the concert really make everything better.\n",
      "→ Prob (Not Sarcastic): 0.9936 | Prob (Sarcastic): 0.0064\n",
      "Text: engineers have always been great.\n",
      "→ Prob (Not Sarcastic): 0.9403 | Prob (Sarcastic): 0.0597\n",
      "Text: engineers have always been great.\n",
      "→ Prob (Not Sarcastic): 0.9403 | Prob (Sarcastic): 0.0597\n",
      "Text: Everyone loves this movie, right?\n",
      "→ Prob (Not Sarcastic): 0.9898 | Prob (Sarcastic): 0.0102\n",
      "Text: Everyone loves this movie, right?\n",
      "→ Prob (Not Sarcastic): 0.9898 | Prob (Sarcastic): 0.0102\n",
      "Text: Had a musicians, best experience ever. Not.\n",
      "→ Prob (Not Sarcastic): 0.7504 | Prob (Sarcastic): 0.2496\n",
      "Text: Had a musicians, best experience ever. Not.\n",
      "→ Prob (Not Sarcastic): 0.7504 | Prob (Sarcastic): 0.2496\n"
     ]
    },
    {
     "name": "stderr",
     "output_type": "stream",
     "text": [
      "  4%|▍         | 225/5000 [00:09<03:14, 24.54it/s]"
     ]
    },
    {
     "name": "stdout",
     "output_type": "stream",
     "text": [
      "Text: Because my new phone really make everything better.\n",
      "→ Prob (Not Sarcastic): 0.9914 | Prob (Sarcastic): 0.0086\n",
      "Text: Because my new phone really make everything better.\n",
      "→ Prob (Not Sarcastic): 0.9914 | Prob (Sarcastic): 0.0086\n",
      "Text: Nothing better than a musicians moment.\n",
      "→ Prob (Not Sarcastic): 0.9761 | Prob (Sarcastic): 0.0239\n",
      "Text: Nothing better than a musicians moment.\n",
      "→ Prob (Not Sarcastic): 0.9761 | Prob (Sarcastic): 0.0239\n",
      "Text: artists are genuinely amazing.\n",
      "→ Prob (Not Sarcastic): 0.9893 | Prob (Sarcastic): 0.0107\n",
      "Text: artists are genuinely amazing.\n",
      "→ Prob (Not Sarcastic): 0.9893 | Prob (Sarcastic): 0.0107\n",
      "Text: Had a great time with scientists.\n",
      "→ Prob (Not Sarcastic): 0.9808 | Prob (Sarcastic): 0.0192\n",
      "Text: Had a great time with scientists.\n",
      "→ Prob (Not Sarcastic): 0.9808 | Prob (Sarcastic): 0.0192\n",
      "Text: doctors are so wonderful, said no one ever.\n",
      "→ Prob (Not Sarcastic): 0.8856 | Prob (Sarcastic): 0.1144\n",
      "Text: doctors are so wonderful, said no one ever.\n",
      "→ Prob (Not Sarcastic): 0.8856 | Prob (Sarcastic): 0.1144\n",
      "Text: Can't wait for more of doctors.\n",
      "→ Prob (Not Sarcastic): 0.5348 | Prob (Sarcastic): 0.4652\n",
      "Text: Can't wait for more of doctors.\n",
      "→ Prob (Not Sarcastic): 0.5348 | Prob (Sarcastic): 0.4652\n"
     ]
    },
    {
     "name": "stderr",
     "output_type": "stream",
     "text": [
      "  5%|▍         | 231/5000 [00:09<03:10, 24.98it/s]"
     ]
    },
    {
     "name": "stdout",
     "output_type": "stream",
     "text": [
      "Text: Had a this book, best experience ever. Not.\n",
      "→ Prob (Not Sarcastic): 0.7119 | Prob (Sarcastic): 0.2881\n",
      "Text: Had a this book, best experience ever. Not.\n",
      "→ Prob (Not Sarcastic): 0.7119 | Prob (Sarcastic): 0.2881\n",
      "Text: the meal have always been great.\n",
      "→ Prob (Not Sarcastic): 0.9918 | Prob (Sarcastic): 0.0082\n",
      "Text: the meal have always been great.\n",
      "→ Prob (Not Sarcastic): 0.9918 | Prob (Sarcastic): 0.0082\n",
      "Text: I just love when artists happens.\n",
      "→ Prob (Not Sarcastic): 0.9893 | Prob (Sarcastic): 0.0107\n",
      "Text: I just love when artists happens.\n",
      "→ Prob (Not Sarcastic): 0.9893 | Prob (Sarcastic): 0.0107\n",
      "Text: the workshop are genuinely amazing.\n",
      "→ Prob (Not Sarcastic): 0.9938 | Prob (Sarcastic): 0.0062\n",
      "Text: the workshop are genuinely amazing.\n",
      "→ Prob (Not Sarcastic): 0.9938 | Prob (Sarcastic): 0.0062\n",
      "Text: Because my new phone really make everything better.\n",
      "→ Prob (Not Sarcastic): 0.9914 | Prob (Sarcastic): 0.0086\n",
      "Text: Because my new phone really make everything better.\n",
      "→ Prob (Not Sarcastic): 0.9914 | Prob (Sarcastic): 0.0086\n",
      "Text: I just love when my new phone happens.\n",
      "→ Prob (Not Sarcastic): 0.9900 | Prob (Sarcastic): 0.0100\n",
      "Text: I just love when my new phone happens.\n",
      "→ Prob (Not Sarcastic): 0.9900 | Prob (Sarcastic): 0.0100\n"
     ]
    },
    {
     "name": "stderr",
     "output_type": "stream",
     "text": [
      "  5%|▍         | 234/5000 [00:09<03:09, 25.12it/s]"
     ]
    },
    {
     "name": "stdout",
     "output_type": "stream",
     "text": [
      "Text: the game are genuinely amazing.\n",
      "→ Prob (Not Sarcastic): 0.9945 | Prob (Sarcastic): 0.0055\n",
      "Text: the game are genuinely amazing.\n",
      "→ Prob (Not Sarcastic): 0.9945 | Prob (Sarcastic): 0.0055\n",
      "Text: musicians are so wonderful, said no one ever.\n",
      "→ Prob (Not Sarcastic): 0.9289 | Prob (Sarcastic): 0.0711\n",
      "Text: musicians are so wonderful, said no one ever.\n",
      "→ Prob (Not Sarcastic): 0.9289 | Prob (Sarcastic): 0.0711\n",
      "Text: I genuinely love musicians.\n",
      "→ Prob (Not Sarcastic): 0.9891 | Prob (Sarcastic): 0.0109\n",
      "Text: I genuinely love musicians.\n",
      "→ Prob (Not Sarcastic): 0.9891 | Prob (Sarcastic): 0.0109\n",
      "Text: Everyone loves artists, right?\n",
      "→ Prob (Not Sarcastic): 0.9893 | Prob (Sarcastic): 0.0107\n",
      "Text: Everyone loves artists, right?\n",
      "→ Prob (Not Sarcastic): 0.9893 | Prob (Sarcastic): 0.0107\n",
      "Text: Nothing better than a writers moment.\n",
      "→ Prob (Not Sarcastic): 0.9764 | Prob (Sarcastic): 0.0236\n",
      "Text: Nothing better than a writers moment.\n",
      "→ Prob (Not Sarcastic): 0.9764 | Prob (Sarcastic): 0.0236\n"
     ]
    },
    {
     "name": "stderr",
     "output_type": "stream",
     "text": [
      "  5%|▍         | 240/5000 [00:09<03:13, 24.58it/s]"
     ]
    },
    {
     "name": "stdout",
     "output_type": "stream",
     "text": [
      "Text: Can't wait for more of scientists.\n",
      "→ Prob (Not Sarcastic): 0.6898 | Prob (Sarcastic): 0.3102\n",
      "Text: Can't wait for more of scientists.\n",
      "→ Prob (Not Sarcastic): 0.6898 | Prob (Sarcastic): 0.3102\n",
      "Text: I find scientists to be wonderful.\n",
      "→ Prob (Not Sarcastic): 0.9902 | Prob (Sarcastic): 0.0098\n",
      "Text: I find scientists to be wonderful.\n",
      "→ Prob (Not Sarcastic): 0.9902 | Prob (Sarcastic): 0.0098\n",
      "Text: Because vegetarians really make everything better.\n",
      "→ Prob (Not Sarcastic): 0.9936 | Prob (Sarcastic): 0.0064\n",
      "Text: Because vegetarians really make everything better.\n",
      "→ Prob (Not Sarcastic): 0.9936 | Prob (Sarcastic): 0.0064\n",
      "Text: Had a the concert, best experience ever. Not.\n",
      "→ Prob (Not Sarcastic): 0.8146 | Prob (Sarcastic): 0.1854\n",
      "Text: Had a the concert, best experience ever. Not.\n",
      "→ Prob (Not Sarcastic): 0.8146 | Prob (Sarcastic): 0.1854\n",
      "Text: I genuinely love the conference.\n",
      "→ Prob (Not Sarcastic): 0.9928 | Prob (Sarcastic): 0.0072\n",
      "Text: I genuinely love the conference.\n",
      "→ Prob (Not Sarcastic): 0.9928 | Prob (Sarcastic): 0.0072\n",
      "Text: I genuinely love my new phone.\n",
      "→ Prob (Not Sarcastic): 0.9909 | Prob (Sarcastic): 0.0091\n",
      "Text: I genuinely love my new phone.\n",
      "→ Prob (Not Sarcastic): 0.9909 | Prob (Sarcastic): 0.0091\n"
     ]
    },
    {
     "name": "stderr",
     "output_type": "stream",
     "text": [
      "  5%|▍         | 246/5000 [00:10<03:09, 25.10it/s]"
     ]
    },
    {
     "name": "stdout",
     "output_type": "stream",
     "text": [
      "Text: Nothing better than a doctors moment.\n",
      "→ Prob (Not Sarcastic): 0.9564 | Prob (Sarcastic): 0.0436\n",
      "Text: Nothing better than a doctors moment.\n",
      "→ Prob (Not Sarcastic): 0.9564 | Prob (Sarcastic): 0.0436\n",
      "Text: artists are genuinely amazing.\n",
      "→ Prob (Not Sarcastic): 0.9893 | Prob (Sarcastic): 0.0107\n",
      "Text: artists are genuinely amazing.\n",
      "→ Prob (Not Sarcastic): 0.9893 | Prob (Sarcastic): 0.0107\n",
      "Text: the concert are so wonderful, said no one ever.\n",
      "→ Prob (Not Sarcastic): 0.9783 | Prob (Sarcastic): 0.0217\n",
      "Text: the concert are so wonderful, said no one ever.\n",
      "→ Prob (Not Sarcastic): 0.9783 | Prob (Sarcastic): 0.0217\n",
      "Text: Everyone loves this movie, right?\n",
      "→ Prob (Not Sarcastic): 0.9898 | Prob (Sarcastic): 0.0102\n",
      "Text: Everyone loves this movie, right?\n",
      "→ Prob (Not Sarcastic): 0.9898 | Prob (Sarcastic): 0.0102\n",
      "Text: Can't wait for more of the workshop.\n",
      "→ Prob (Not Sarcastic): 0.9260 | Prob (Sarcastic): 0.0740\n",
      "Text: Can't wait for more of the workshop.\n",
      "→ Prob (Not Sarcastic): 0.9260 | Prob (Sarcastic): 0.0740\n",
      "Text: Because engineers really make everything better.\n",
      "→ Prob (Not Sarcastic): 0.9912 | Prob (Sarcastic): 0.0088\n",
      "Text: Because engineers really make everything better.\n",
      "→ Prob (Not Sarcastic): 0.9912 | Prob (Sarcastic): 0.0088\n"
     ]
    },
    {
     "name": "stderr",
     "output_type": "stream",
     "text": [
      "  5%|▌         | 252/5000 [00:10<03:09, 25.08it/s]"
     ]
    },
    {
     "name": "stdout",
     "output_type": "stream",
     "text": [
      "Text: Oh great, another artists. Just what I needed.\n",
      "→ Prob (Not Sarcastic): 0.9176 | Prob (Sarcastic): 0.0824\n",
      "Text: Oh great, another artists. Just what I needed.\n",
      "→ Prob (Not Sarcastic): 0.9176 | Prob (Sarcastic): 0.0824\n",
      "Text: Everyone loves the concert, right?\n",
      "→ Prob (Not Sarcastic): 0.9909 | Prob (Sarcastic): 0.0091\n",
      "Text: Everyone loves the concert, right?\n",
      "→ Prob (Not Sarcastic): 0.9909 | Prob (Sarcastic): 0.0091\n",
      "Text: I am always excited for engineers.\n",
      "→ Prob (Not Sarcastic): 0.9883 | Prob (Sarcastic): 0.0117\n",
      "Text: I am always excited for engineers.\n",
      "→ Prob (Not Sarcastic): 0.9883 | Prob (Sarcastic): 0.0117\n",
      "Text: this book are so wonderful, said no one ever.\n",
      "→ Prob (Not Sarcastic): 0.9817 | Prob (Sarcastic): 0.0183\n",
      "Text: this book are so wonderful, said no one ever.\n",
      "→ Prob (Not Sarcastic): 0.9817 | Prob (Sarcastic): 0.0183\n",
      "Text: Oh great, another writers. Just what I needed.\n",
      "→ Prob (Not Sarcastic): 0.9185 | Prob (Sarcastic): 0.0815\n",
      "Text: Oh great, another writers. Just what I needed.\n",
      "→ Prob (Not Sarcastic): 0.9185 | Prob (Sarcastic): 0.0815\n",
      "Text: Had a doctors, best experience ever. Not.\n",
      "→ Prob (Not Sarcastic): 0.7957 | Prob (Sarcastic): 0.2043\n",
      "Text: Had a doctors, best experience ever. Not.\n",
      "→ Prob (Not Sarcastic): 0.7957 | Prob (Sarcastic): 0.2043\n"
     ]
    },
    {
     "name": "stderr",
     "output_type": "stream",
     "text": [
      "  5%|▌         | 258/5000 [00:10<03:06, 25.49it/s]"
     ]
    },
    {
     "name": "stdout",
     "output_type": "stream",
     "text": [
      "Text: artists are truly inspiring.\n",
      "→ Prob (Not Sarcastic): 0.9919 | Prob (Sarcastic): 0.0081\n",
      "Text: artists are truly inspiring.\n",
      "→ Prob (Not Sarcastic): 0.9919 | Prob (Sarcastic): 0.0081\n",
      "Text: Because vegetarians really make everything better.\n",
      "→ Prob (Not Sarcastic): 0.9936 | Prob (Sarcastic): 0.0064\n",
      "Text: Because vegetarians really make everything better.\n",
      "→ Prob (Not Sarcastic): 0.9936 | Prob (Sarcastic): 0.0064\n",
      "Text: this movie have always been great.\n",
      "→ Prob (Not Sarcastic): 0.9906 | Prob (Sarcastic): 0.0094\n",
      "Text: this movie have always been great.\n",
      "→ Prob (Not Sarcastic): 0.9906 | Prob (Sarcastic): 0.0094\n",
      "Text: athletes are genuinely amazing.\n",
      "→ Prob (Not Sarcastic): 0.9899 | Prob (Sarcastic): 0.0101\n",
      "Text: athletes are genuinely amazing.\n",
      "→ Prob (Not Sarcastic): 0.9899 | Prob (Sarcastic): 0.0101\n",
      "Text: scientists are genuinely amazing.\n",
      "→ Prob (Not Sarcastic): 0.9740 | Prob (Sarcastic): 0.0260\n",
      "Text: scientists are genuinely amazing.\n",
      "→ Prob (Not Sarcastic): 0.9740 | Prob (Sarcastic): 0.0260\n",
      "Text: I genuinely love engineers.\n",
      "→ Prob (Not Sarcastic): 0.9878 | Prob (Sarcastic): 0.0122\n",
      "Text: I genuinely love engineers.\n",
      "→ Prob (Not Sarcastic): 0.9878 | Prob (Sarcastic): 0.0122\n"
     ]
    },
    {
     "name": "stderr",
     "output_type": "stream",
     "text": [
      "  5%|▌         | 264/5000 [00:10<03:05, 25.56it/s]"
     ]
    },
    {
     "name": "stdout",
     "output_type": "stream",
     "text": [
      "Text: Had a great time with athletes.\n",
      "→ Prob (Not Sarcastic): 0.9861 | Prob (Sarcastic): 0.0139\n",
      "Text: Had a great time with athletes.\n",
      "→ Prob (Not Sarcastic): 0.9861 | Prob (Sarcastic): 0.0139\n",
      "Text: Oh great, another vegetarians. Just what I needed.\n",
      "→ Prob (Not Sarcastic): 0.9193 | Prob (Sarcastic): 0.0807\n",
      "Text: Oh great, another vegetarians. Just what I needed.\n",
      "→ Prob (Not Sarcastic): 0.9193 | Prob (Sarcastic): 0.0807\n",
      "Text: Because scientists really make everything better.\n",
      "→ Prob (Not Sarcastic): 0.9902 | Prob (Sarcastic): 0.0098\n",
      "Text: Because scientists really make everything better.\n",
      "→ Prob (Not Sarcastic): 0.9902 | Prob (Sarcastic): 0.0098\n",
      "Text: Oh great, another scientists. Just what I needed.\n",
      "→ Prob (Not Sarcastic): 0.8300 | Prob (Sarcastic): 0.1700\n",
      "Text: Oh great, another scientists. Just what I needed.\n",
      "→ Prob (Not Sarcastic): 0.8300 | Prob (Sarcastic): 0.1700\n",
      "Text: the game are genuinely amazing.\n",
      "→ Prob (Not Sarcastic): 0.9945 | Prob (Sarcastic): 0.0055\n",
      "Text: the game are genuinely amazing.\n",
      "→ Prob (Not Sarcastic): 0.9945 | Prob (Sarcastic): 0.0055\n",
      "Text: musicians are truly inspiring.\n",
      "→ Prob (Not Sarcastic): 0.9891 | Prob (Sarcastic): 0.0109\n",
      "Text: musicians are truly inspiring.\n",
      "→ Prob (Not Sarcastic): 0.9891 | Prob (Sarcastic): 0.0109\n"
     ]
    },
    {
     "name": "stderr",
     "output_type": "stream",
     "text": [
      "  5%|▌         | 270/5000 [00:11<03:17, 23.99it/s]"
     ]
    },
    {
     "name": "stdout",
     "output_type": "stream",
     "text": [
      "Text: the meal have always been great.\n",
      "→ Prob (Not Sarcastic): 0.9918 | Prob (Sarcastic): 0.0082\n",
      "Text: the meal have always been great.\n",
      "→ Prob (Not Sarcastic): 0.9918 | Prob (Sarcastic): 0.0082\n",
      "Text: I just love when scientists happens.\n",
      "→ Prob (Not Sarcastic): 0.9868 | Prob (Sarcastic): 0.0132\n",
      "Text: I just love when scientists happens.\n",
      "→ Prob (Not Sarcastic): 0.9868 | Prob (Sarcastic): 0.0132\n",
      "Text: the game are so wonderful, said no one ever.\n",
      "→ Prob (Not Sarcastic): 0.9833 | Prob (Sarcastic): 0.0167\n",
      "Text: the game are so wonderful, said no one ever.\n",
      "→ Prob (Not Sarcastic): 0.9833 | Prob (Sarcastic): 0.0167\n",
      "Text: I just love when engineers happens.\n",
      "→ Prob (Not Sarcastic): 0.9860 | Prob (Sarcastic): 0.0140\n",
      "Text: I just love when engineers happens.\n",
      "→ Prob (Not Sarcastic): 0.9860 | Prob (Sarcastic): 0.0140\n",
      "Text: I am always excited for the concert.\n",
      "→ Prob (Not Sarcastic): 0.9923 | Prob (Sarcastic): 0.0077\n",
      "Text: I am always excited for the concert.\n",
      "→ Prob (Not Sarcastic): 0.9923 | Prob (Sarcastic): 0.0077\n",
      "Text: Because vegetarians really make everything better.\n",
      "→ Prob (Not Sarcastic): 0.9936 | Prob (Sarcastic): 0.0064\n",
      "Text: Because vegetarians really make everything better.\n",
      "→ Prob (Not Sarcastic): 0.9936 | Prob (Sarcastic): 0.0064\n"
     ]
    },
    {
     "name": "stderr",
     "output_type": "stream",
     "text": [
      "  6%|▌         | 276/5000 [00:11<03:10, 24.84it/s]"
     ]
    },
    {
     "name": "stdout",
     "output_type": "stream",
     "text": [
      "Text: the game have always been great.\n",
      "→ Prob (Not Sarcastic): 0.9936 | Prob (Sarcastic): 0.0064\n",
      "Text: the game have always been great.\n",
      "→ Prob (Not Sarcastic): 0.9936 | Prob (Sarcastic): 0.0064\n",
      "Text: Everyone loves writers, right?\n",
      "→ Prob (Not Sarcastic): 0.9898 | Prob (Sarcastic): 0.0102\n",
      "Text: Everyone loves writers, right?\n",
      "→ Prob (Not Sarcastic): 0.9898 | Prob (Sarcastic): 0.0102\n",
      "Text: Because vegetarians really make everything better.\n",
      "→ Prob (Not Sarcastic): 0.9936 | Prob (Sarcastic): 0.0064\n",
      "Text: Because vegetarians really make everything better.\n",
      "→ Prob (Not Sarcastic): 0.9936 | Prob (Sarcastic): 0.0064\n",
      "Text: Can't wait for more of this movie.\n",
      "→ Prob (Not Sarcastic): 0.9019 | Prob (Sarcastic): 0.0981\n",
      "Text: Can't wait for more of this movie.\n",
      "→ Prob (Not Sarcastic): 0.9019 | Prob (Sarcastic): 0.0981\n",
      "Text: Had a the meal, best experience ever. Not.\n",
      "→ Prob (Not Sarcastic): 0.8018 | Prob (Sarcastic): 0.1982\n",
      "Text: Had a the meal, best experience ever. Not.\n",
      "→ Prob (Not Sarcastic): 0.8018 | Prob (Sarcastic): 0.1982\n",
      "Text: this book are so wonderful, said no one ever.\n",
      "→ Prob (Not Sarcastic): 0.9817 | Prob (Sarcastic): 0.0183\n",
      "Text: this book are so wonderful, said no one ever.\n",
      "→ Prob (Not Sarcastic): 0.9817 | Prob (Sarcastic): 0.0183\n"
     ]
    },
    {
     "name": "stderr",
     "output_type": "stream",
     "text": [
      "  6%|▌         | 282/5000 [00:11<03:10, 24.71it/s]"
     ]
    },
    {
     "name": "stdout",
     "output_type": "stream",
     "text": [
      "Text: this book have always been great.\n",
      "→ Prob (Not Sarcastic): 0.9913 | Prob (Sarcastic): 0.0087\n",
      "Text: this book have always been great.\n",
      "→ Prob (Not Sarcastic): 0.9913 | Prob (Sarcastic): 0.0087\n",
      "Text: Everyone loves the concert, right?\n",
      "→ Prob (Not Sarcastic): 0.9909 | Prob (Sarcastic): 0.0091\n",
      "Text: Everyone loves the concert, right?\n",
      "→ Prob (Not Sarcastic): 0.9909 | Prob (Sarcastic): 0.0091\n",
      "Text: Can't wait for more of artists.\n",
      "→ Prob (Not Sarcastic): 0.9015 | Prob (Sarcastic): 0.0985\n",
      "Text: Can't wait for more of artists.\n",
      "→ Prob (Not Sarcastic): 0.9015 | Prob (Sarcastic): 0.0985\n",
      "Text: I just love when the conference happens.\n",
      "→ Prob (Not Sarcastic): 0.9922 | Prob (Sarcastic): 0.0078\n",
      "Text: I just love when the conference happens.\n",
      "→ Prob (Not Sarcastic): 0.9922 | Prob (Sarcastic): 0.0078\n",
      "Text: I genuinely love the workshop.\n",
      "→ Prob (Not Sarcastic): 0.9912 | Prob (Sarcastic): 0.0088\n",
      "Text: I genuinely love the workshop.\n",
      "→ Prob (Not Sarcastic): 0.9912 | Prob (Sarcastic): 0.0088\n"
     ]
    },
    {
     "name": "stderr",
     "output_type": "stream",
     "text": [
      "  6%|▌         | 288/5000 [00:11<03:12, 24.42it/s]"
     ]
    },
    {
     "name": "stdout",
     "output_type": "stream",
     "text": [
      "Text: the game are so wonderful, said no one ever.\n",
      "→ Prob (Not Sarcastic): 0.9833 | Prob (Sarcastic): 0.0167\n",
      "Text: the game are so wonderful, said no one ever.\n",
      "→ Prob (Not Sarcastic): 0.9833 | Prob (Sarcastic): 0.0167\n",
      "Text: Can't wait for more of the concert.\n",
      "→ Prob (Not Sarcastic): 0.9482 | Prob (Sarcastic): 0.0518\n",
      "Text: Can't wait for more of the concert.\n",
      "→ Prob (Not Sarcastic): 0.9482 | Prob (Sarcastic): 0.0518\n",
      "Text: engineers are so wonderful, said no one ever.\n",
      "→ Prob (Not Sarcastic): 0.9043 | Prob (Sarcastic): 0.0957\n",
      "Text: engineers are so wonderful, said no one ever.\n",
      "→ Prob (Not Sarcastic): 0.9043 | Prob (Sarcastic): 0.0957\n",
      "Text: artists have always been great.\n",
      "→ Prob (Not Sarcastic): 0.9833 | Prob (Sarcastic): 0.0167\n",
      "Text: artists have always been great.\n",
      "→ Prob (Not Sarcastic): 0.9833 | Prob (Sarcastic): 0.0167\n",
      "Text: I am always excited for the conference.\n",
      "→ Prob (Not Sarcastic): 0.9937 | Prob (Sarcastic): 0.0063\n",
      "Text: I am always excited for the conference.\n",
      "→ Prob (Not Sarcastic): 0.9937 | Prob (Sarcastic): 0.0063\n"
     ]
    },
    {
     "name": "stderr",
     "output_type": "stream",
     "text": [
      "  6%|▌         | 294/5000 [00:12<03:09, 24.88it/s]"
     ]
    },
    {
     "name": "stdout",
     "output_type": "stream",
     "text": [
      "Text: I genuinely love engineers.\n",
      "→ Prob (Not Sarcastic): 0.9878 | Prob (Sarcastic): 0.0122\n",
      "Text: I genuinely love engineers.\n",
      "→ Prob (Not Sarcastic): 0.9878 | Prob (Sarcastic): 0.0122\n",
      "Text: Had a the game, best experience ever. Not.\n",
      "→ Prob (Not Sarcastic): 0.7979 | Prob (Sarcastic): 0.2021\n",
      "Text: Had a the game, best experience ever. Not.\n",
      "→ Prob (Not Sarcastic): 0.7979 | Prob (Sarcastic): 0.2021\n",
      "Text: Can't wait for more of artists.\n",
      "→ Prob (Not Sarcastic): 0.9015 | Prob (Sarcastic): 0.0985\n",
      "Text: Can't wait for more of artists.\n",
      "→ Prob (Not Sarcastic): 0.9015 | Prob (Sarcastic): 0.0985\n",
      "Text: Can't wait for more of doctors.\n",
      "→ Prob (Not Sarcastic): 0.5348 | Prob (Sarcastic): 0.4652\n",
      "Text: Can't wait for more of doctors.\n",
      "→ Prob (Not Sarcastic): 0.5348 | Prob (Sarcastic): 0.4652\n",
      "Text: Because musicians really make everything better.\n",
      "→ Prob (Not Sarcastic): 0.9947 | Prob (Sarcastic): 0.0053\n",
      "Text: Because musicians really make everything better.\n",
      "→ Prob (Not Sarcastic): 0.9947 | Prob (Sarcastic): 0.0053\n",
      "Text: Can't wait for more of scientists.\n",
      "→ Prob (Not Sarcastic): 0.6898 | Prob (Sarcastic): 0.3102\n",
      "Text: Can't wait for more of scientists.\n",
      "→ Prob (Not Sarcastic): 0.6898 | Prob (Sarcastic): 0.3102\n"
     ]
    },
    {
     "name": "stderr",
     "output_type": "stream",
     "text": [
      "  6%|▌         | 300/5000 [00:12<03:07, 25.00it/s]"
     ]
    },
    {
     "name": "stdout",
     "output_type": "stream",
     "text": [
      "Text: Everyone loves the concert, right?\n",
      "→ Prob (Not Sarcastic): 0.9909 | Prob (Sarcastic): 0.0091\n",
      "Text: Everyone loves the concert, right?\n",
      "→ Prob (Not Sarcastic): 0.9909 | Prob (Sarcastic): 0.0091\n",
      "Text: I genuinely love athletes.\n",
      "→ Prob (Not Sarcastic): 0.9910 | Prob (Sarcastic): 0.0090\n",
      "Text: I genuinely love athletes.\n",
      "→ Prob (Not Sarcastic): 0.9910 | Prob (Sarcastic): 0.0090\n",
      "Text: I am always excited for the game.\n",
      "→ Prob (Not Sarcastic): 0.9935 | Prob (Sarcastic): 0.0065\n",
      "Text: I am always excited for the game.\n",
      "→ Prob (Not Sarcastic): 0.9935 | Prob (Sarcastic): 0.0065\n",
      "Text: Had a great time with the workshop.\n",
      "→ Prob (Not Sarcastic): 0.9793 | Prob (Sarcastic): 0.0207\n",
      "Text: Had a great time with the workshop.\n",
      "→ Prob (Not Sarcastic): 0.9793 | Prob (Sarcastic): 0.0207\n",
      "Text: the workshop are truly inspiring.\n",
      "→ Prob (Not Sarcastic): 0.9927 | Prob (Sarcastic): 0.0073\n",
      "Text: the workshop are truly inspiring.\n",
      "→ Prob (Not Sarcastic): 0.9927 | Prob (Sarcastic): 0.0073\n",
      "Text: writers are so wonderful, said no one ever.\n",
      "→ Prob (Not Sarcastic): 0.9295 | Prob (Sarcastic): 0.0705\n",
      "Text: writers are so wonderful, said no one ever.\n",
      "→ Prob (Not Sarcastic): 0.9295 | Prob (Sarcastic): 0.0705\n"
     ]
    },
    {
     "name": "stderr",
     "output_type": "stream",
     "text": [
      "  6%|▌         | 306/5000 [00:12<03:07, 24.99it/s]"
     ]
    },
    {
     "name": "stdout",
     "output_type": "stream",
     "text": [
      "Text: writers are genuinely amazing.\n",
      "→ Prob (Not Sarcastic): 0.9834 | Prob (Sarcastic): 0.0166\n",
      "Text: writers are genuinely amazing.\n",
      "→ Prob (Not Sarcastic): 0.9834 | Prob (Sarcastic): 0.0166\n",
      "Text: I am always excited for athletes.\n",
      "→ Prob (Not Sarcastic): 0.9926 | Prob (Sarcastic): 0.0074\n",
      "Text: I am always excited for athletes.\n",
      "→ Prob (Not Sarcastic): 0.9926 | Prob (Sarcastic): 0.0074\n",
      "Text: my new phone are genuinely amazing.\n",
      "→ Prob (Not Sarcastic): 0.9930 | Prob (Sarcastic): 0.0070\n",
      "Text: my new phone are genuinely amazing.\n",
      "→ Prob (Not Sarcastic): 0.9930 | Prob (Sarcastic): 0.0070\n",
      "Text: Everyone loves athletes, right?\n",
      "→ Prob (Not Sarcastic): 0.9903 | Prob (Sarcastic): 0.0097\n",
      "Text: Everyone loves athletes, right?\n",
      "→ Prob (Not Sarcastic): 0.9903 | Prob (Sarcastic): 0.0097\n",
      "Text: the workshop are truly inspiring.\n",
      "→ Prob (Not Sarcastic): 0.9927 | Prob (Sarcastic): 0.0073\n",
      "Text: the workshop are truly inspiring.\n",
      "→ Prob (Not Sarcastic): 0.9927 | Prob (Sarcastic): 0.0073\n",
      "Text: Can't wait for more of my new phone.\n",
      "→ Prob (Not Sarcastic): 0.9261 | Prob (Sarcastic): 0.0739\n",
      "Text: Can't wait for more of my new phone.\n",
      "→ Prob (Not Sarcastic): 0.9261 | Prob (Sarcastic): 0.0739\n"
     ]
    },
    {
     "name": "stderr",
     "output_type": "stream",
     "text": [
      "  6%|▌         | 312/5000 [00:12<03:07, 25.06it/s]"
     ]
    },
    {
     "name": "stdout",
     "output_type": "stream",
     "text": [
      "Text: engineers are so wonderful, said no one ever.\n",
      "→ Prob (Not Sarcastic): 0.9043 | Prob (Sarcastic): 0.0957\n",
      "Text: engineers are so wonderful, said no one ever.\n",
      "→ Prob (Not Sarcastic): 0.9043 | Prob (Sarcastic): 0.0957\n",
      "Text: Had a great time with vegetarians.\n",
      "→ Prob (Not Sarcastic): 0.9873 | Prob (Sarcastic): 0.0127\n",
      "Text: Had a great time with vegetarians.\n",
      "→ Prob (Not Sarcastic): 0.9873 | Prob (Sarcastic): 0.0127\n",
      "Text: Because scientists really make everything better.\n",
      "→ Prob (Not Sarcastic): 0.9902 | Prob (Sarcastic): 0.0098\n",
      "Text: Because scientists really make everything better.\n",
      "→ Prob (Not Sarcastic): 0.9902 | Prob (Sarcastic): 0.0098\n",
      "Text: Had a the concert, best experience ever. Not.\n",
      "→ Prob (Not Sarcastic): 0.8146 | Prob (Sarcastic): 0.1854\n",
      "Text: Had a the concert, best experience ever. Not.\n",
      "→ Prob (Not Sarcastic): 0.8146 | Prob (Sarcastic): 0.1854\n",
      "Text: Nothing better than a the meal moment.\n",
      "→ Prob (Not Sarcastic): 0.9620 | Prob (Sarcastic): 0.0380\n",
      "Text: Nothing better than a the meal moment.\n",
      "→ Prob (Not Sarcastic): 0.9620 | Prob (Sarcastic): 0.0380\n",
      "Text: Everyone loves doctors, right?\n",
      "→ Prob (Not Sarcastic): 0.9849 | Prob (Sarcastic): 0.0151\n",
      "Text: Everyone loves doctors, right?\n",
      "→ Prob (Not Sarcastic): 0.9849 | Prob (Sarcastic): 0.0151\n"
     ]
    },
    {
     "name": "stderr",
     "output_type": "stream",
     "text": [
      "  6%|▋         | 318/5000 [00:13<03:05, 25.30it/s]"
     ]
    },
    {
     "name": "stdout",
     "output_type": "stream",
     "text": [
      "Text: Had a vegetarians, best experience ever. Not.\n",
      "→ Prob (Not Sarcastic): 0.8504 | Prob (Sarcastic): 0.1496\n",
      "Text: Had a vegetarians, best experience ever. Not.\n",
      "→ Prob (Not Sarcastic): 0.8504 | Prob (Sarcastic): 0.1496\n",
      "Text: Can't wait for more of athletes.\n",
      "→ Prob (Not Sarcastic): 0.9390 | Prob (Sarcastic): 0.0610\n",
      "Text: Can't wait for more of athletes.\n",
      "→ Prob (Not Sarcastic): 0.9390 | Prob (Sarcastic): 0.0610\n",
      "Text: doctors are genuinely amazing.\n",
      "→ Prob (Not Sarcastic): 0.9806 | Prob (Sarcastic): 0.0194\n",
      "Text: doctors are genuinely amazing.\n",
      "→ Prob (Not Sarcastic): 0.9806 | Prob (Sarcastic): 0.0194\n",
      "Text: athletes have always been great.\n",
      "→ Prob (Not Sarcastic): 0.9833 | Prob (Sarcastic): 0.0167\n",
      "Text: athletes have always been great.\n",
      "→ Prob (Not Sarcastic): 0.9833 | Prob (Sarcastic): 0.0167\n",
      "Text: Nothing better than a vegetarians moment.\n",
      "→ Prob (Not Sarcastic): 0.9812 | Prob (Sarcastic): 0.0188\n",
      "Text: Nothing better than a vegetarians moment.\n",
      "→ Prob (Not Sarcastic): 0.9812 | Prob (Sarcastic): 0.0188\n",
      "Text: Nothing better than a the game moment.\n",
      "→ Prob (Not Sarcastic): 0.9737 | Prob (Sarcastic): 0.0263\n",
      "Text: Nothing better than a the game moment.\n",
      "→ Prob (Not Sarcastic): 0.9737 | Prob (Sarcastic): 0.0263\n"
     ]
    },
    {
     "name": "stderr",
     "output_type": "stream",
     "text": [
      "  6%|▋         | 324/5000 [00:13<03:06, 25.07it/s]"
     ]
    },
    {
     "name": "stdout",
     "output_type": "stream",
     "text": [
      "Text: I find the meal to be wonderful.\n",
      "→ Prob (Not Sarcastic): 0.9942 | Prob (Sarcastic): 0.0058\n",
      "Text: I find the meal to be wonderful.\n",
      "→ Prob (Not Sarcastic): 0.9942 | Prob (Sarcastic): 0.0058\n",
      "Text: Nothing better than a the conference moment.\n",
      "→ Prob (Not Sarcastic): 0.9396 | Prob (Sarcastic): 0.0604\n",
      "Text: Nothing better than a the conference moment.\n",
      "→ Prob (Not Sarcastic): 0.9396 | Prob (Sarcastic): 0.0604\n",
      "Text: Oh great, another engineers. Just what I needed.\n",
      "→ Prob (Not Sarcastic): 0.8133 | Prob (Sarcastic): 0.1867\n",
      "Text: Oh great, another engineers. Just what I needed.\n",
      "→ Prob (Not Sarcastic): 0.8133 | Prob (Sarcastic): 0.1867\n",
      "Text: Because this movie really make everything better.\n",
      "→ Prob (Not Sarcastic): 0.9916 | Prob (Sarcastic): 0.0084\n",
      "Text: Because this movie really make everything better.\n",
      "→ Prob (Not Sarcastic): 0.9916 | Prob (Sarcastic): 0.0084\n",
      "Text: Because writers really make everything better.\n",
      "→ Prob (Not Sarcastic): 0.9934 | Prob (Sarcastic): 0.0066\n",
      "Text: Because writers really make everything better.\n",
      "→ Prob (Not Sarcastic): 0.9934 | Prob (Sarcastic): 0.0066\n",
      "Text: Had a great time with my new phone.\n",
      "→ Prob (Not Sarcastic): 0.9822 | Prob (Sarcastic): 0.0178\n",
      "Text: Had a great time with my new phone.\n",
      "→ Prob (Not Sarcastic): 0.9822 | Prob (Sarcastic): 0.0178\n"
     ]
    },
    {
     "name": "stderr",
     "output_type": "stream",
     "text": [
      "  7%|▋         | 330/5000 [00:13<03:05, 25.12it/s]"
     ]
    },
    {
     "name": "stdout",
     "output_type": "stream",
     "text": [
      "Text: I genuinely love writers.\n",
      "→ Prob (Not Sarcastic): 0.9899 | Prob (Sarcastic): 0.0101\n",
      "Text: I genuinely love writers.\n",
      "→ Prob (Not Sarcastic): 0.9899 | Prob (Sarcastic): 0.0101\n",
      "Text: Oh great, another engineers. Just what I needed.\n",
      "→ Prob (Not Sarcastic): 0.8133 | Prob (Sarcastic): 0.1867\n",
      "Text: Oh great, another engineers. Just what I needed.\n",
      "→ Prob (Not Sarcastic): 0.8133 | Prob (Sarcastic): 0.1867\n",
      "Text: I just love when this book happens.\n",
      "→ Prob (Not Sarcastic): 0.9917 | Prob (Sarcastic): 0.0083\n",
      "Text: I just love when this book happens.\n",
      "→ Prob (Not Sarcastic): 0.9917 | Prob (Sarcastic): 0.0083\n",
      "Text: Nothing better than a engineers moment.\n",
      "→ Prob (Not Sarcastic): 0.9669 | Prob (Sarcastic): 0.0331\n",
      "Text: Nothing better than a engineers moment.\n",
      "→ Prob (Not Sarcastic): 0.9669 | Prob (Sarcastic): 0.0331\n",
      "Text: Oh great, another athletes. Just what I needed.\n",
      "→ Prob (Not Sarcastic): 0.8928 | Prob (Sarcastic): 0.1072\n",
      "Text: Oh great, another athletes. Just what I needed.\n",
      "→ Prob (Not Sarcastic): 0.8928 | Prob (Sarcastic): 0.1072\n",
      "Text: Oh great, another the concert. Just what I needed.\n",
      "→ Prob (Not Sarcastic): 0.9115 | Prob (Sarcastic): 0.0885\n",
      "Text: Oh great, another the concert. Just what I needed.\n",
      "→ Prob (Not Sarcastic): 0.9115 | Prob (Sarcastic): 0.0885\n"
     ]
    },
    {
     "name": "stderr",
     "output_type": "stream",
     "text": [
      "  7%|▋         | 336/5000 [00:13<03:06, 25.01it/s]"
     ]
    },
    {
     "name": "stdout",
     "output_type": "stream",
     "text": [
      "Text: Oh great, another the game. Just what I needed.\n",
      "→ Prob (Not Sarcastic): 0.8696 | Prob (Sarcastic): 0.1304\n",
      "Text: Oh great, another the game. Just what I needed.\n",
      "→ Prob (Not Sarcastic): 0.8696 | Prob (Sarcastic): 0.1304\n",
      "Text: this movie are so wonderful, said no one ever.\n",
      "→ Prob (Not Sarcastic): 0.9760 | Prob (Sarcastic): 0.0240\n",
      "Text: this movie are so wonderful, said no one ever.\n",
      "→ Prob (Not Sarcastic): 0.9760 | Prob (Sarcastic): 0.0240\n",
      "Text: Can't wait for more of vegetarians.\n",
      "→ Prob (Not Sarcastic): 0.8649 | Prob (Sarcastic): 0.1351\n",
      "Text: Can't wait for more of vegetarians.\n",
      "→ Prob (Not Sarcastic): 0.8649 | Prob (Sarcastic): 0.1351\n",
      "Text: Had a great time with musicians.\n",
      "→ Prob (Not Sarcastic): 0.9832 | Prob (Sarcastic): 0.0168\n",
      "Text: Had a great time with musicians.\n",
      "→ Prob (Not Sarcastic): 0.9832 | Prob (Sarcastic): 0.0168\n",
      "Text: Oh great, another the concert. Just what I needed.\n",
      "→ Prob (Not Sarcastic): 0.9115 | Prob (Sarcastic): 0.0885\n",
      "Text: Oh great, another the concert. Just what I needed.\n",
      "→ Prob (Not Sarcastic): 0.9115 | Prob (Sarcastic): 0.0885\n",
      "Text: Oh great, another my new phone. Just what I needed.\n",
      "→ Prob (Not Sarcastic): 0.8476 | Prob (Sarcastic): 0.1524\n",
      "Text: Oh great, another my new phone. Just what I needed.\n",
      "→ Prob (Not Sarcastic): 0.8476 | Prob (Sarcastic): 0.1524\n"
     ]
    },
    {
     "name": "stderr",
     "output_type": "stream",
     "text": [
      "  7%|▋         | 342/5000 [00:14<03:04, 25.27it/s]"
     ]
    },
    {
     "name": "stdout",
     "output_type": "stream",
     "text": [
      "Text: Nothing better than a musicians moment.\n",
      "→ Prob (Not Sarcastic): 0.9761 | Prob (Sarcastic): 0.0239\n",
      "Text: Nothing better than a musicians moment.\n",
      "→ Prob (Not Sarcastic): 0.9761 | Prob (Sarcastic): 0.0239\n",
      "Text: Had a great time with my new phone.\n",
      "→ Prob (Not Sarcastic): 0.9822 | Prob (Sarcastic): 0.0178\n",
      "Text: Had a great time with my new phone.\n",
      "→ Prob (Not Sarcastic): 0.9822 | Prob (Sarcastic): 0.0178\n",
      "Text: I find writers to be wonderful.\n",
      "→ Prob (Not Sarcastic): 0.9937 | Prob (Sarcastic): 0.0063\n",
      "Text: I find writers to be wonderful.\n",
      "→ Prob (Not Sarcastic): 0.9937 | Prob (Sarcastic): 0.0063\n",
      "Text: Everyone loves the game, right?\n",
      "→ Prob (Not Sarcastic): 0.9918 | Prob (Sarcastic): 0.0082\n",
      "Text: Everyone loves the game, right?\n",
      "→ Prob (Not Sarcastic): 0.9918 | Prob (Sarcastic): 0.0082\n",
      "Text: I just love when the conference happens.\n",
      "→ Prob (Not Sarcastic): 0.9922 | Prob (Sarcastic): 0.0078\n",
      "Text: I just love when the conference happens.\n",
      "→ Prob (Not Sarcastic): 0.9922 | Prob (Sarcastic): 0.0078\n",
      "Text: athletes are truly inspiring.\n",
      "→ Prob (Not Sarcastic): 0.9929 | Prob (Sarcastic): 0.0071\n",
      "Text: athletes are truly inspiring.\n",
      "→ Prob (Not Sarcastic): 0.9929 | Prob (Sarcastic): 0.0071\n"
     ]
    },
    {
     "name": "stderr",
     "output_type": "stream",
     "text": [
      "  7%|▋         | 348/5000 [00:14<03:14, 23.93it/s]"
     ]
    },
    {
     "name": "stdout",
     "output_type": "stream",
     "text": [
      "Text: Oh great, another artists. Just what I needed.\n",
      "→ Prob (Not Sarcastic): 0.9176 | Prob (Sarcastic): 0.0824\n",
      "Text: Oh great, another artists. Just what I needed.\n",
      "→ Prob (Not Sarcastic): 0.9176 | Prob (Sarcastic): 0.0824\n",
      "Text: this book have always been great.\n",
      "→ Prob (Not Sarcastic): 0.9913 | Prob (Sarcastic): 0.0087\n",
      "Text: this book have always been great.\n",
      "→ Prob (Not Sarcastic): 0.9913 | Prob (Sarcastic): 0.0087\n",
      "Text: Can't wait for more of writers.\n",
      "→ Prob (Not Sarcastic): 0.8679 | Prob (Sarcastic): 0.1321\n",
      "Text: Can't wait for more of writers.\n",
      "→ Prob (Not Sarcastic): 0.8679 | Prob (Sarcastic): 0.1321\n",
      "Text: Everyone loves artists, right?\n",
      "→ Prob (Not Sarcastic): 0.9893 | Prob (Sarcastic): 0.0107\n",
      "Text: Everyone loves artists, right?\n",
      "→ Prob (Not Sarcastic): 0.9893 | Prob (Sarcastic): 0.0107\n",
      "Text: I just love when athletes happens.\n",
      "→ Prob (Not Sarcastic): 0.9895 | Prob (Sarcastic): 0.0105\n",
      "Text: I just love when athletes happens.\n",
      "→ Prob (Not Sarcastic): 0.9895 | Prob (Sarcastic): 0.0105\n",
      "Text: I just love when athletes happens.\n",
      "→ Prob (Not Sarcastic): 0.9895 | Prob (Sarcastic): 0.0105\n",
      "Text: I just love when athletes happens.\n",
      "→ Prob (Not Sarcastic): 0.9895 | Prob (Sarcastic): 0.0105\n"
     ]
    },
    {
     "name": "stderr",
     "output_type": "stream",
     "text": [
      "  7%|▋         | 354/5000 [00:14<03:08, 24.63it/s]"
     ]
    },
    {
     "name": "stdout",
     "output_type": "stream",
     "text": [
      "Text: I just love when musicians happens.\n",
      "→ Prob (Not Sarcastic): 0.9890 | Prob (Sarcastic): 0.0110\n",
      "Text: I just love when musicians happens.\n",
      "→ Prob (Not Sarcastic): 0.9890 | Prob (Sarcastic): 0.0110\n",
      "Text: Oh great, another engineers. Just what I needed.\n",
      "→ Prob (Not Sarcastic): 0.8133 | Prob (Sarcastic): 0.1867\n",
      "Text: Oh great, another engineers. Just what I needed.\n",
      "→ Prob (Not Sarcastic): 0.8133 | Prob (Sarcastic): 0.1867\n",
      "Text: Nothing better than a musicians moment.\n",
      "→ Prob (Not Sarcastic): 0.9761 | Prob (Sarcastic): 0.0239\n",
      "Text: Nothing better than a musicians moment.\n",
      "→ Prob (Not Sarcastic): 0.9761 | Prob (Sarcastic): 0.0239\n",
      "Text: I genuinely love athletes.\n",
      "→ Prob (Not Sarcastic): 0.9910 | Prob (Sarcastic): 0.0090\n",
      "Text: I genuinely love athletes.\n",
      "→ Prob (Not Sarcastic): 0.9910 | Prob (Sarcastic): 0.0090\n",
      "Text: Because the concert really make everything better.\n",
      "→ Prob (Not Sarcastic): 0.9936 | Prob (Sarcastic): 0.0064\n",
      "Text: Because the concert really make everything better.\n",
      "→ Prob (Not Sarcastic): 0.9936 | Prob (Sarcastic): 0.0064\n",
      "Text: doctors have always been great.\n",
      "→ Prob (Not Sarcastic): 0.9238 | Prob (Sarcastic): 0.0762\n",
      "Text: doctors have always been great.\n",
      "→ Prob (Not Sarcastic): 0.9238 | Prob (Sarcastic): 0.0762\n"
     ]
    },
    {
     "name": "stderr",
     "output_type": "stream",
     "text": [
      "  7%|▋         | 360/5000 [00:14<03:05, 24.98it/s]"
     ]
    },
    {
     "name": "stdout",
     "output_type": "stream",
     "text": [
      "Text: Can't wait for more of this movie.\n",
      "→ Prob (Not Sarcastic): 0.9019 | Prob (Sarcastic): 0.0981\n",
      "Text: Can't wait for more of this movie.\n",
      "→ Prob (Not Sarcastic): 0.9019 | Prob (Sarcastic): 0.0981\n",
      "Text: I just love when the game happens.\n",
      "→ Prob (Not Sarcastic): 0.9916 | Prob (Sarcastic): 0.0084\n",
      "Text: I just love when the game happens.\n",
      "→ Prob (Not Sarcastic): 0.9916 | Prob (Sarcastic): 0.0084\n",
      "Text: Had a great time with musicians.\n",
      "→ Prob (Not Sarcastic): 0.9832 | Prob (Sarcastic): 0.0168\n",
      "Text: Had a great time with musicians.\n",
      "→ Prob (Not Sarcastic): 0.9832 | Prob (Sarcastic): 0.0168\n",
      "Text: Nothing better than a the concert moment.\n",
      "→ Prob (Not Sarcastic): 0.9676 | Prob (Sarcastic): 0.0324\n",
      "Text: Nothing better than a the concert moment.\n",
      "→ Prob (Not Sarcastic): 0.9676 | Prob (Sarcastic): 0.0324\n",
      "Text: I am always excited for doctors.\n",
      "→ Prob (Not Sarcastic): 0.9914 | Prob (Sarcastic): 0.0086\n",
      "Text: I am always excited for doctors.\n",
      "→ Prob (Not Sarcastic): 0.9914 | Prob (Sarcastic): 0.0086\n",
      "Text: musicians are so wonderful, said no one ever.\n",
      "→ Prob (Not Sarcastic): 0.9289 | Prob (Sarcastic): 0.0711\n",
      "Text: musicians are so wonderful, said no one ever.\n",
      "→ Prob (Not Sarcastic): 0.9289 | Prob (Sarcastic): 0.0711\n"
     ]
    },
    {
     "name": "stderr",
     "output_type": "stream",
     "text": [
      "  7%|▋         | 366/5000 [00:15<03:05, 24.92it/s]"
     ]
    },
    {
     "name": "stdout",
     "output_type": "stream",
     "text": [
      "Text: doctors are genuinely amazing.\n",
      "→ Prob (Not Sarcastic): 0.9806 | Prob (Sarcastic): 0.0194\n",
      "Text: doctors are genuinely amazing.\n",
      "→ Prob (Not Sarcastic): 0.9806 | Prob (Sarcastic): 0.0194\n",
      "Text: Because this book really make everything better.\n",
      "→ Prob (Not Sarcastic): 0.9935 | Prob (Sarcastic): 0.0065\n",
      "Text: Because this book really make everything better.\n",
      "→ Prob (Not Sarcastic): 0.9935 | Prob (Sarcastic): 0.0065\n",
      "Text: Nothing better than a artists moment.\n",
      "→ Prob (Not Sarcastic): 0.9809 | Prob (Sarcastic): 0.0191\n",
      "Text: Nothing better than a artists moment.\n",
      "→ Prob (Not Sarcastic): 0.9809 | Prob (Sarcastic): 0.0191\n",
      "Text: Everyone loves my new phone, right?\n",
      "→ Prob (Not Sarcastic): 0.9846 | Prob (Sarcastic): 0.0154\n",
      "Text: Everyone loves my new phone, right?\n",
      "→ Prob (Not Sarcastic): 0.9846 | Prob (Sarcastic): 0.0154\n",
      "Text: Can't wait for more of artists.\n",
      "→ Prob (Not Sarcastic): 0.9015 | Prob (Sarcastic): 0.0985\n",
      "Text: Can't wait for more of artists.\n",
      "→ Prob (Not Sarcastic): 0.9015 | Prob (Sarcastic): 0.0985\n",
      "Text: scientists have always been great.\n",
      "→ Prob (Not Sarcastic): 0.9346 | Prob (Sarcastic): 0.0654\n",
      "Text: scientists have always been great.\n",
      "→ Prob (Not Sarcastic): 0.9346 | Prob (Sarcastic): 0.0654\n"
     ]
    },
    {
     "name": "stderr",
     "output_type": "stream",
     "text": [
      "  7%|▋         | 372/5000 [00:15<03:05, 24.91it/s]"
     ]
    },
    {
     "name": "stdout",
     "output_type": "stream",
     "text": [
      "Text: the game have always been great.\n",
      "→ Prob (Not Sarcastic): 0.9936 | Prob (Sarcastic): 0.0064\n",
      "Text: the game have always been great.\n",
      "→ Prob (Not Sarcastic): 0.9936 | Prob (Sarcastic): 0.0064\n",
      "Text: Had a great time with the meal.\n",
      "→ Prob (Not Sarcastic): 0.9827 | Prob (Sarcastic): 0.0173\n",
      "Text: Had a great time with the meal.\n",
      "→ Prob (Not Sarcastic): 0.9827 | Prob (Sarcastic): 0.0173\n",
      "Text: I genuinely love engineers.\n",
      "→ Prob (Not Sarcastic): 0.9878 | Prob (Sarcastic): 0.0122\n",
      "Text: I genuinely love engineers.\n",
      "→ Prob (Not Sarcastic): 0.9878 | Prob (Sarcastic): 0.0122\n",
      "Text: Can't wait for more of musicians.\n",
      "→ Prob (Not Sarcastic): 0.7716 | Prob (Sarcastic): 0.2284\n",
      "Text: Can't wait for more of musicians.\n",
      "→ Prob (Not Sarcastic): 0.7716 | Prob (Sarcastic): 0.2284\n",
      "Text: Nothing better than a artists moment.\n",
      "→ Prob (Not Sarcastic): 0.9809 | Prob (Sarcastic): 0.0191\n",
      "Text: Nothing better than a artists moment.\n",
      "→ Prob (Not Sarcastic): 0.9809 | Prob (Sarcastic): 0.0191\n",
      "Text: my new phone are genuinely amazing.\n",
      "→ Prob (Not Sarcastic): 0.9930 | Prob (Sarcastic): 0.0070\n",
      "Text: my new phone are genuinely amazing.\n",
      "→ Prob (Not Sarcastic): 0.9930 | Prob (Sarcastic): 0.0070\n"
     ]
    },
    {
     "name": "stderr",
     "output_type": "stream",
     "text": [
      "  8%|▊         | 378/5000 [00:15<03:03, 25.16it/s]"
     ]
    },
    {
     "name": "stdout",
     "output_type": "stream",
     "text": [
      "Text: Because this movie really make everything better.\n",
      "→ Prob (Not Sarcastic): 0.9916 | Prob (Sarcastic): 0.0084\n",
      "Text: Because this movie really make everything better.\n",
      "→ Prob (Not Sarcastic): 0.9916 | Prob (Sarcastic): 0.0084\n",
      "Text: I just love when engineers happens.\n",
      "→ Prob (Not Sarcastic): 0.9860 | Prob (Sarcastic): 0.0140\n",
      "Text: I just love when engineers happens.\n",
      "→ Prob (Not Sarcastic): 0.9860 | Prob (Sarcastic): 0.0140\n",
      "Text: doctors are genuinely amazing.\n",
      "→ Prob (Not Sarcastic): 0.9806 | Prob (Sarcastic): 0.0194\n",
      "Text: doctors are genuinely amazing.\n",
      "→ Prob (Not Sarcastic): 0.9806 | Prob (Sarcastic): 0.0194\n",
      "Text: I find engineers to be wonderful.\n",
      "→ Prob (Not Sarcastic): 0.9897 | Prob (Sarcastic): 0.0103\n",
      "Text: I find engineers to be wonderful.\n",
      "→ Prob (Not Sarcastic): 0.9897 | Prob (Sarcastic): 0.0103\n",
      "Text: athletes are truly inspiring.\n",
      "→ Prob (Not Sarcastic): 0.9929 | Prob (Sarcastic): 0.0071\n",
      "Text: athletes are truly inspiring.\n",
      "→ Prob (Not Sarcastic): 0.9929 | Prob (Sarcastic): 0.0071\n",
      "Text: Had a scientists, best experience ever. Not.\n",
      "→ Prob (Not Sarcastic): 0.7022 | Prob (Sarcastic): 0.2978\n",
      "Text: Had a scientists, best experience ever. Not.\n",
      "→ Prob (Not Sarcastic): 0.7022 | Prob (Sarcastic): 0.2978\n"
     ]
    },
    {
     "name": "stderr",
     "output_type": "stream",
     "text": [
      "  8%|▊         | 381/5000 [00:15<03:03, 25.22it/s]"
     ]
    },
    {
     "name": "stdout",
     "output_type": "stream",
     "text": [
      "Text: Can't wait for more of the game.\n",
      "→ Prob (Not Sarcastic): 0.9589 | Prob (Sarcastic): 0.0411\n",
      "Text: Can't wait for more of the game.\n",
      "→ Prob (Not Sarcastic): 0.9589 | Prob (Sarcastic): 0.0411\n",
      "Text: the meal are so wonderful, said no one ever.\n",
      "→ Prob (Not Sarcastic): 0.9763 | Prob (Sarcastic): 0.0237\n",
      "Text: the meal are so wonderful, said no one ever.\n",
      "→ Prob (Not Sarcastic): 0.9763 | Prob (Sarcastic): 0.0237\n",
      "Text: I just love when the meal happens.\n",
      "→ Prob (Not Sarcastic): 0.9907 | Prob (Sarcastic): 0.0093\n",
      "Text: I just love when the meal happens.\n",
      "→ Prob (Not Sarcastic): 0.9907 | Prob (Sarcastic): 0.0093\n",
      "Text: Everyone loves the meal, right?\n",
      "→ Prob (Not Sarcastic): 0.9897 | Prob (Sarcastic): 0.0103\n",
      "Text: Everyone loves the meal, right?\n",
      "→ Prob (Not Sarcastic): 0.9897 | Prob (Sarcastic): 0.0103\n",
      "Text: Can't wait for more of the conference.\n",
      "→ Prob (Not Sarcastic): 0.9681 | Prob (Sarcastic): 0.0319\n",
      "Text: Can't wait for more of the conference.\n",
      "→ Prob (Not Sarcastic): 0.9681 | Prob (Sarcastic): 0.0319\n"
     ]
    },
    {
     "name": "stderr",
     "output_type": "stream",
     "text": [
      "  8%|▊         | 387/5000 [00:15<03:07, 24.55it/s]"
     ]
    },
    {
     "name": "stdout",
     "output_type": "stream",
     "text": [
      "Text: Had a great time with the game.\n",
      "→ Prob (Not Sarcastic): 0.9883 | Prob (Sarcastic): 0.0117\n",
      "Text: Had a great time with the game.\n",
      "→ Prob (Not Sarcastic): 0.9883 | Prob (Sarcastic): 0.0117\n",
      "Text: Everyone loves musicians, right?\n",
      "→ Prob (Not Sarcastic): 0.9892 | Prob (Sarcastic): 0.0108\n",
      "Text: Everyone loves musicians, right?\n",
      "→ Prob (Not Sarcastic): 0.9892 | Prob (Sarcastic): 0.0108\n",
      "Text: Everyone loves this book, right?\n",
      "→ Prob (Not Sarcastic): 0.9899 | Prob (Sarcastic): 0.0101\n",
      "Text: Everyone loves this book, right?\n",
      "→ Prob (Not Sarcastic): 0.9899 | Prob (Sarcastic): 0.0101\n",
      "Text: the workshop have always been great.\n",
      "→ Prob (Not Sarcastic): 0.9882 | Prob (Sarcastic): 0.0118\n",
      "Text: the workshop have always been great.\n",
      "→ Prob (Not Sarcastic): 0.9882 | Prob (Sarcastic): 0.0118\n",
      "Text: I find this book to be wonderful.\n",
      "→ Prob (Not Sarcastic): 0.9931 | Prob (Sarcastic): 0.0069\n",
      "Text: I find this book to be wonderful.\n",
      "→ Prob (Not Sarcastic): 0.9931 | Prob (Sarcastic): 0.0069\n",
      "Text: I find doctors to be wonderful.\n",
      "→ Prob (Not Sarcastic): 0.9912 | Prob (Sarcastic): 0.0088\n",
      "Text: I find doctors to be wonderful.\n",
      "→ Prob (Not Sarcastic): 0.9912 | Prob (Sarcastic): 0.0088\n"
     ]
    },
    {
     "name": "stderr",
     "output_type": "stream",
     "text": [
      "  8%|▊         | 393/5000 [00:16<03:04, 24.91it/s]"
     ]
    },
    {
     "name": "stdout",
     "output_type": "stream",
     "text": [
      "Text: Nothing better than a writers moment.\n",
      "→ Prob (Not Sarcastic): 0.9764 | Prob (Sarcastic): 0.0236\n",
      "Text: Nothing better than a writers moment.\n",
      "→ Prob (Not Sarcastic): 0.9764 | Prob (Sarcastic): 0.0236\n",
      "Text: I am always excited for this movie.\n",
      "→ Prob (Not Sarcastic): 0.9899 | Prob (Sarcastic): 0.0101\n",
      "Text: I am always excited for this movie.\n",
      "→ Prob (Not Sarcastic): 0.9899 | Prob (Sarcastic): 0.0101\n",
      "Text: the workshop have always been great.\n",
      "→ Prob (Not Sarcastic): 0.9882 | Prob (Sarcastic): 0.0118\n",
      "Text: the workshop have always been great.\n",
      "→ Prob (Not Sarcastic): 0.9882 | Prob (Sarcastic): 0.0118\n",
      "Text: I find vegetarians to be wonderful.\n",
      "→ Prob (Not Sarcastic): 0.9917 | Prob (Sarcastic): 0.0083\n",
      "Text: I find vegetarians to be wonderful.\n",
      "→ Prob (Not Sarcastic): 0.9917 | Prob (Sarcastic): 0.0083\n",
      "Text: the concert are genuinely amazing.\n",
      "→ Prob (Not Sarcastic): 0.9933 | Prob (Sarcastic): 0.0067\n",
      "Text: the concert are genuinely amazing.\n",
      "→ Prob (Not Sarcastic): 0.9933 | Prob (Sarcastic): 0.0067\n",
      "Text: I am always excited for athletes.\n",
      "→ Prob (Not Sarcastic): 0.9926 | Prob (Sarcastic): 0.0074\n",
      "Text: I am always excited for athletes.\n",
      "→ Prob (Not Sarcastic): 0.9926 | Prob (Sarcastic): 0.0074\n"
     ]
    },
    {
     "name": "stderr",
     "output_type": "stream",
     "text": [
      "  8%|▊         | 399/5000 [00:16<03:02, 25.23it/s]"
     ]
    },
    {
     "name": "stdout",
     "output_type": "stream",
     "text": [
      "Text: athletes are truly inspiring.\n",
      "→ Prob (Not Sarcastic): 0.9929 | Prob (Sarcastic): 0.0071\n",
      "Text: athletes are truly inspiring.\n",
      "→ Prob (Not Sarcastic): 0.9929 | Prob (Sarcastic): 0.0071\n",
      "Text: Had a athletes, best experience ever. Not.\n",
      "→ Prob (Not Sarcastic): 0.7530 | Prob (Sarcastic): 0.2470\n",
      "Text: Had a athletes, best experience ever. Not.\n",
      "→ Prob (Not Sarcastic): 0.7530 | Prob (Sarcastic): 0.2470\n",
      "Text: Nothing better than a my new phone moment.\n",
      "→ Prob (Not Sarcastic): 0.9559 | Prob (Sarcastic): 0.0441\n",
      "Text: Nothing better than a my new phone moment.\n",
      "→ Prob (Not Sarcastic): 0.9559 | Prob (Sarcastic): 0.0441\n",
      "Text: Everyone loves musicians, right?\n",
      "→ Prob (Not Sarcastic): 0.9892 | Prob (Sarcastic): 0.0108\n",
      "Text: Everyone loves musicians, right?\n",
      "→ Prob (Not Sarcastic): 0.9892 | Prob (Sarcastic): 0.0108\n",
      "Text: the concert have always been great.\n",
      "→ Prob (Not Sarcastic): 0.9900 | Prob (Sarcastic): 0.0100\n",
      "Text: the concert have always been great.\n",
      "→ Prob (Not Sarcastic): 0.9900 | Prob (Sarcastic): 0.0100\n",
      "Text: Had a writers, best experience ever. Not.\n",
      "→ Prob (Not Sarcastic): 0.8279 | Prob (Sarcastic): 0.1721\n",
      "Text: Had a writers, best experience ever. Not.\n",
      "→ Prob (Not Sarcastic): 0.8279 | Prob (Sarcastic): 0.1721\n"
     ]
    },
    {
     "name": "stderr",
     "output_type": "stream",
     "text": [
      "  8%|▊         | 405/5000 [00:16<03:00, 25.42it/s]"
     ]
    },
    {
     "name": "stdout",
     "output_type": "stream",
     "text": [
      "Text: Can't wait for more of this movie.\n",
      "→ Prob (Not Sarcastic): 0.9019 | Prob (Sarcastic): 0.0981\n",
      "Text: Can't wait for more of this movie.\n",
      "→ Prob (Not Sarcastic): 0.9019 | Prob (Sarcastic): 0.0981\n",
      "Text: Had a musicians, best experience ever. Not.\n",
      "→ Prob (Not Sarcastic): 0.7504 | Prob (Sarcastic): 0.2496\n",
      "Text: Had a musicians, best experience ever. Not.\n",
      "→ Prob (Not Sarcastic): 0.7504 | Prob (Sarcastic): 0.2496\n",
      "Text: Can't wait for more of the conference.\n",
      "→ Prob (Not Sarcastic): 0.9681 | Prob (Sarcastic): 0.0319\n",
      "Text: Can't wait for more of the conference.\n",
      "→ Prob (Not Sarcastic): 0.9681 | Prob (Sarcastic): 0.0319\n",
      "Text: I find the game to be wonderful.\n",
      "→ Prob (Not Sarcastic): 0.9951 | Prob (Sarcastic): 0.0049\n",
      "Text: I find the game to be wonderful.\n",
      "→ Prob (Not Sarcastic): 0.9951 | Prob (Sarcastic): 0.0049\n",
      "Text: Nothing better than a writers moment.\n",
      "→ Prob (Not Sarcastic): 0.9764 | Prob (Sarcastic): 0.0236\n",
      "Text: Nothing better than a writers moment.\n",
      "→ Prob (Not Sarcastic): 0.9764 | Prob (Sarcastic): 0.0236\n",
      "Text: I just love when musicians happens.\n",
      "→ Prob (Not Sarcastic): 0.9890 | Prob (Sarcastic): 0.0110\n",
      "Text: I just love when musicians happens.\n",
      "→ Prob (Not Sarcastic): 0.9890 | Prob (Sarcastic): 0.0110\n"
     ]
    },
    {
     "name": "stderr",
     "output_type": "stream",
     "text": [
      "  8%|▊         | 411/5000 [00:16<03:00, 25.36it/s]"
     ]
    },
    {
     "name": "stdout",
     "output_type": "stream",
     "text": [
      "Text: Can't wait for more of athletes.\n",
      "→ Prob (Not Sarcastic): 0.9390 | Prob (Sarcastic): 0.0610\n",
      "Text: Can't wait for more of athletes.\n",
      "→ Prob (Not Sarcastic): 0.9390 | Prob (Sarcastic): 0.0610\n",
      "Text: Everyone loves vegetarians, right?\n",
      "→ Prob (Not Sarcastic): 0.9899 | Prob (Sarcastic): 0.0101\n",
      "Text: Everyone loves vegetarians, right?\n",
      "→ Prob (Not Sarcastic): 0.9899 | Prob (Sarcastic): 0.0101\n",
      "Text: Nothing better than a musicians moment.\n",
      "→ Prob (Not Sarcastic): 0.9761 | Prob (Sarcastic): 0.0239\n",
      "Text: Nothing better than a musicians moment.\n",
      "→ Prob (Not Sarcastic): 0.9761 | Prob (Sarcastic): 0.0239\n",
      "Text: Nothing better than a the game moment.\n",
      "→ Prob (Not Sarcastic): 0.9737 | Prob (Sarcastic): 0.0263\n",
      "Text: Nothing better than a the game moment.\n",
      "→ Prob (Not Sarcastic): 0.9737 | Prob (Sarcastic): 0.0263\n",
      "Text: Because athletes really make everything better.\n",
      "→ Prob (Not Sarcastic): 0.9942 | Prob (Sarcastic): 0.0058\n",
      "Text: Because athletes really make everything better.\n",
      "→ Prob (Not Sarcastic): 0.9942 | Prob (Sarcastic): 0.0058\n",
      "Text: I just love when musicians happens.\n",
      "→ Prob (Not Sarcastic): 0.9890 | Prob (Sarcastic): 0.0110\n",
      "Text: I just love when musicians happens.\n",
      "→ Prob (Not Sarcastic): 0.9890 | Prob (Sarcastic): 0.0110\n"
     ]
    },
    {
     "name": "stderr",
     "output_type": "stream",
     "text": [
      "  8%|▊         | 417/5000 [00:17<03:00, 25.37it/s]"
     ]
    },
    {
     "name": "stdout",
     "output_type": "stream",
     "text": [
      "Text: Had a great time with vegetarians.\n",
      "→ Prob (Not Sarcastic): 0.9873 | Prob (Sarcastic): 0.0127\n",
      "Text: Had a great time with vegetarians.\n",
      "→ Prob (Not Sarcastic): 0.9873 | Prob (Sarcastic): 0.0127\n",
      "Text: Had a this movie, best experience ever. Not.\n",
      "→ Prob (Not Sarcastic): 0.5816 | Prob (Sarcastic): 0.4184\n",
      "Text: Had a this movie, best experience ever. Not.\n",
      "→ Prob (Not Sarcastic): 0.5816 | Prob (Sarcastic): 0.4184\n",
      "Text: I genuinely love scientists.\n",
      "→ Prob (Not Sarcastic): 0.9890 | Prob (Sarcastic): 0.0110\n",
      "Text: I genuinely love scientists.\n",
      "→ Prob (Not Sarcastic): 0.9890 | Prob (Sarcastic): 0.0110\n",
      "Text: Can't wait for more of this book.\n",
      "→ Prob (Not Sarcastic): 0.9606 | Prob (Sarcastic): 0.0394\n",
      "Text: Can't wait for more of this book.\n",
      "→ Prob (Not Sarcastic): 0.9606 | Prob (Sarcastic): 0.0394\n",
      "Text: I find musicians to be wonderful.\n",
      "→ Prob (Not Sarcastic): 0.9936 | Prob (Sarcastic): 0.0064\n",
      "Text: I find musicians to be wonderful.\n",
      "→ Prob (Not Sarcastic): 0.9936 | Prob (Sarcastic): 0.0064\n",
      "Text: I genuinely love the conference.\n",
      "→ Prob (Not Sarcastic): 0.9928 | Prob (Sarcastic): 0.0072\n",
      "Text: I genuinely love the conference.\n",
      "→ Prob (Not Sarcastic): 0.9928 | Prob (Sarcastic): 0.0072\n"
     ]
    },
    {
     "name": "stderr",
     "output_type": "stream",
     "text": [
      "  8%|▊         | 423/5000 [00:17<03:12, 23.77it/s]"
     ]
    },
    {
     "name": "stdout",
     "output_type": "stream",
     "text": [
      "Text: I genuinely love the concert.\n",
      "→ Prob (Not Sarcastic): 0.9918 | Prob (Sarcastic): 0.0082\n",
      "Text: I genuinely love the concert.\n",
      "→ Prob (Not Sarcastic): 0.9918 | Prob (Sarcastic): 0.0082\n",
      "Text: Nothing better than a musicians moment.\n",
      "→ Prob (Not Sarcastic): 0.9761 | Prob (Sarcastic): 0.0239\n",
      "Text: Nothing better than a musicians moment.\n",
      "→ Prob (Not Sarcastic): 0.9761 | Prob (Sarcastic): 0.0239\n",
      "Text: I find scientists to be wonderful.\n",
      "→ Prob (Not Sarcastic): 0.9902 | Prob (Sarcastic): 0.0098\n",
      "Text: I find scientists to be wonderful.\n",
      "→ Prob (Not Sarcastic): 0.9902 | Prob (Sarcastic): 0.0098\n",
      "Text: vegetarians are genuinely amazing.\n",
      "→ Prob (Not Sarcastic): 0.9941 | Prob (Sarcastic): 0.0059\n",
      "Text: vegetarians are genuinely amazing.\n",
      "→ Prob (Not Sarcastic): 0.9941 | Prob (Sarcastic): 0.0059\n",
      "Text: I just love when writers happens.\n",
      "→ Prob (Not Sarcastic): 0.9902 | Prob (Sarcastic): 0.0098\n",
      "Text: I just love when writers happens.\n",
      "→ Prob (Not Sarcastic): 0.9902 | Prob (Sarcastic): 0.0098\n"
     ]
    },
    {
     "name": "stderr",
     "output_type": "stream",
     "text": [
      "  9%|▊         | 429/5000 [00:17<03:05, 24.62it/s]"
     ]
    },
    {
     "name": "stdout",
     "output_type": "stream",
     "text": [
      "Text: musicians are so wonderful, said no one ever.\n",
      "→ Prob (Not Sarcastic): 0.9289 | Prob (Sarcastic): 0.0711\n",
      "Text: musicians are so wonderful, said no one ever.\n",
      "→ Prob (Not Sarcastic): 0.9289 | Prob (Sarcastic): 0.0711\n",
      "Text: athletes are so wonderful, said no one ever.\n",
      "→ Prob (Not Sarcastic): 0.9560 | Prob (Sarcastic): 0.0440\n",
      "Text: athletes are so wonderful, said no one ever.\n",
      "→ Prob (Not Sarcastic): 0.9560 | Prob (Sarcastic): 0.0440\n",
      "Text: I just love when musicians happens.\n",
      "→ Prob (Not Sarcastic): 0.9890 | Prob (Sarcastic): 0.0110\n",
      "Text: I just love when musicians happens.\n",
      "→ Prob (Not Sarcastic): 0.9890 | Prob (Sarcastic): 0.0110\n",
      "Text: vegetarians are genuinely amazing.\n",
      "→ Prob (Not Sarcastic): 0.9941 | Prob (Sarcastic): 0.0059\n",
      "Text: vegetarians are genuinely amazing.\n",
      "→ Prob (Not Sarcastic): 0.9941 | Prob (Sarcastic): 0.0059\n",
      "Text: this movie are so wonderful, said no one ever.\n",
      "→ Prob (Not Sarcastic): 0.9760 | Prob (Sarcastic): 0.0240\n",
      "Text: this movie are so wonderful, said no one ever.\n",
      "→ Prob (Not Sarcastic): 0.9760 | Prob (Sarcastic): 0.0240\n",
      "Text: I just love when vegetarians happens.\n",
      "→ Prob (Not Sarcastic): 0.9901 | Prob (Sarcastic): 0.0099\n",
      "Text: I just love when vegetarians happens.\n",
      "→ Prob (Not Sarcastic): 0.9901 | Prob (Sarcastic): 0.0099\n"
     ]
    },
    {
     "name": "stderr",
     "output_type": "stream",
     "text": [
      "  9%|▊         | 435/5000 [00:17<03:02, 24.99it/s]"
     ]
    },
    {
     "name": "stdout",
     "output_type": "stream",
     "text": [
      "Text: the meal are so wonderful, said no one ever.\n",
      "→ Prob (Not Sarcastic): 0.9763 | Prob (Sarcastic): 0.0237\n",
      "Text: the meal are so wonderful, said no one ever.\n",
      "→ Prob (Not Sarcastic): 0.9763 | Prob (Sarcastic): 0.0237\n",
      "Text: Had a scientists, best experience ever. Not.\n",
      "→ Prob (Not Sarcastic): 0.7022 | Prob (Sarcastic): 0.2978\n",
      "Text: Had a scientists, best experience ever. Not.\n",
      "→ Prob (Not Sarcastic): 0.7022 | Prob (Sarcastic): 0.2978\n",
      "Text: Had a great time with vegetarians.\n",
      "→ Prob (Not Sarcastic): 0.9873 | Prob (Sarcastic): 0.0127\n",
      "Text: Had a great time with vegetarians.\n",
      "→ Prob (Not Sarcastic): 0.9873 | Prob (Sarcastic): 0.0127\n",
      "Text: my new phone are genuinely amazing.\n",
      "→ Prob (Not Sarcastic): 0.9930 | Prob (Sarcastic): 0.0070\n",
      "Text: my new phone are genuinely amazing.\n",
      "→ Prob (Not Sarcastic): 0.9930 | Prob (Sarcastic): 0.0070\n",
      "Text: Had a athletes, best experience ever. Not.\n",
      "→ Prob (Not Sarcastic): 0.7530 | Prob (Sarcastic): 0.2470\n",
      "Text: Had a athletes, best experience ever. Not.\n",
      "→ Prob (Not Sarcastic): 0.7530 | Prob (Sarcastic): 0.2470\n",
      "Text: I find athletes to be wonderful.\n",
      "→ Prob (Not Sarcastic): 0.9938 | Prob (Sarcastic): 0.0062\n",
      "Text: I find athletes to be wonderful.\n",
      "→ Prob (Not Sarcastic): 0.9938 | Prob (Sarcastic): 0.0062\n"
     ]
    },
    {
     "name": "stderr",
     "output_type": "stream",
     "text": [
      "  9%|▉         | 441/5000 [00:18<03:01, 25.06it/s]"
     ]
    },
    {
     "name": "stdout",
     "output_type": "stream",
     "text": [
      "Text: Oh great, another writers. Just what I needed.\n",
      "→ Prob (Not Sarcastic): 0.9185 | Prob (Sarcastic): 0.0815\n",
      "Text: Oh great, another writers. Just what I needed.\n",
      "→ Prob (Not Sarcastic): 0.9185 | Prob (Sarcastic): 0.0815\n",
      "Text: I just love when the workshop happens.\n",
      "→ Prob (Not Sarcastic): 0.9917 | Prob (Sarcastic): 0.0083\n",
      "Text: I just love when the workshop happens.\n",
      "→ Prob (Not Sarcastic): 0.9917 | Prob (Sarcastic): 0.0083\n",
      "Text: I am always excited for vegetarians.\n",
      "→ Prob (Not Sarcastic): 0.9905 | Prob (Sarcastic): 0.0095\n",
      "Text: I am always excited for vegetarians.\n",
      "→ Prob (Not Sarcastic): 0.9905 | Prob (Sarcastic): 0.0095\n",
      "Text: Can't wait for more of writers.\n",
      "→ Prob (Not Sarcastic): 0.8679 | Prob (Sarcastic): 0.1321\n",
      "Text: Can't wait for more of writers.\n",
      "→ Prob (Not Sarcastic): 0.8679 | Prob (Sarcastic): 0.1321\n",
      "Text: Had a great time with this book.\n",
      "→ Prob (Not Sarcastic): 0.9862 | Prob (Sarcastic): 0.0138\n",
      "Text: Had a great time with this book.\n",
      "→ Prob (Not Sarcastic): 0.9862 | Prob (Sarcastic): 0.0138\n",
      "Text: Oh great, another artists. Just what I needed.\n",
      "→ Prob (Not Sarcastic): 0.9176 | Prob (Sarcastic): 0.0824\n",
      "Text: Oh great, another artists. Just what I needed.\n",
      "→ Prob (Not Sarcastic): 0.9176 | Prob (Sarcastic): 0.0824\n"
     ]
    },
    {
     "name": "stderr",
     "output_type": "stream",
     "text": [
      "  9%|▉         | 447/5000 [00:18<02:59, 25.35it/s]"
     ]
    },
    {
     "name": "stdout",
     "output_type": "stream",
     "text": [
      "Text: Because artists really make everything better.\n",
      "→ Prob (Not Sarcastic): 0.9945 | Prob (Sarcastic): 0.0055\n",
      "Text: Because artists really make everything better.\n",
      "→ Prob (Not Sarcastic): 0.9945 | Prob (Sarcastic): 0.0055\n",
      "Text: I find artists to be wonderful.\n",
      "→ Prob (Not Sarcastic): 0.9937 | Prob (Sarcastic): 0.0063\n",
      "Text: I find artists to be wonderful.\n",
      "→ Prob (Not Sarcastic): 0.9937 | Prob (Sarcastic): 0.0063\n",
      "Text: I am always excited for the meal.\n",
      "→ Prob (Not Sarcastic): 0.9927 | Prob (Sarcastic): 0.0073\n",
      "Text: I am always excited for the meal.\n",
      "→ Prob (Not Sarcastic): 0.9927 | Prob (Sarcastic): 0.0073\n",
      "Text: I just love when writers happens.\n",
      "→ Prob (Not Sarcastic): 0.9902 | Prob (Sarcastic): 0.0098\n",
      "Text: I just love when writers happens.\n",
      "→ Prob (Not Sarcastic): 0.9902 | Prob (Sarcastic): 0.0098\n",
      "Text: I just love when the conference happens.\n",
      "→ Prob (Not Sarcastic): 0.9922 | Prob (Sarcastic): 0.0078\n",
      "Text: I just love when the conference happens.\n",
      "→ Prob (Not Sarcastic): 0.9922 | Prob (Sarcastic): 0.0078\n",
      "Text: artists have always been great.\n",
      "→ Prob (Not Sarcastic): 0.9833 | Prob (Sarcastic): 0.0167\n",
      "Text: artists have always been great.\n",
      "→ Prob (Not Sarcastic): 0.9833 | Prob (Sarcastic): 0.0167\n"
     ]
    },
    {
     "name": "stderr",
     "output_type": "stream",
     "text": [
      "  9%|▉         | 453/5000 [00:18<02:58, 25.51it/s]"
     ]
    },
    {
     "name": "stdout",
     "output_type": "stream",
     "text": [
      "Text: Because this book really make everything better.\n",
      "→ Prob (Not Sarcastic): 0.9935 | Prob (Sarcastic): 0.0065\n",
      "Text: Because this book really make everything better.\n",
      "→ Prob (Not Sarcastic): 0.9935 | Prob (Sarcastic): 0.0065\n",
      "Text: I find scientists to be wonderful.\n",
      "→ Prob (Not Sarcastic): 0.9902 | Prob (Sarcastic): 0.0098\n",
      "Text: I find scientists to be wonderful.\n",
      "→ Prob (Not Sarcastic): 0.9902 | Prob (Sarcastic): 0.0098\n",
      "Text: athletes are genuinely amazing.\n",
      "→ Prob (Not Sarcastic): 0.9899 | Prob (Sarcastic): 0.0101\n",
      "Text: athletes are genuinely amazing.\n",
      "→ Prob (Not Sarcastic): 0.9899 | Prob (Sarcastic): 0.0101\n",
      "Text: Had a great time with scientists.\n",
      "→ Prob (Not Sarcastic): 0.9808 | Prob (Sarcastic): 0.0192\n",
      "Text: Had a great time with scientists.\n",
      "→ Prob (Not Sarcastic): 0.9808 | Prob (Sarcastic): 0.0192\n",
      "Text: I am always excited for this book.\n",
      "→ Prob (Not Sarcastic): 0.9916 | Prob (Sarcastic): 0.0084\n",
      "Text: I am always excited for this book.\n",
      "→ Prob (Not Sarcastic): 0.9916 | Prob (Sarcastic): 0.0084\n",
      "Text: Oh great, another doctors. Just what I needed.\n",
      "→ Prob (Not Sarcastic): 0.8185 | Prob (Sarcastic): 0.1815\n",
      "Text: Oh great, another doctors. Just what I needed.\n",
      "→ Prob (Not Sarcastic): 0.8185 | Prob (Sarcastic): 0.1815\n"
     ]
    },
    {
     "name": "stderr",
     "output_type": "stream",
     "text": [
      "  9%|▉         | 459/5000 [00:18<02:58, 25.41it/s]"
     ]
    },
    {
     "name": "stdout",
     "output_type": "stream",
     "text": [
      "Text: I am always excited for engineers.\n",
      "→ Prob (Not Sarcastic): 0.9883 | Prob (Sarcastic): 0.0117\n",
      "Text: I am always excited for engineers.\n",
      "→ Prob (Not Sarcastic): 0.9883 | Prob (Sarcastic): 0.0117\n",
      "Text: I find this book to be wonderful.\n",
      "→ Prob (Not Sarcastic): 0.9931 | Prob (Sarcastic): 0.0069\n",
      "Text: I find this book to be wonderful.\n",
      "→ Prob (Not Sarcastic): 0.9931 | Prob (Sarcastic): 0.0069\n",
      "Text: Nothing better than a the meal moment.\n",
      "→ Prob (Not Sarcastic): 0.9620 | Prob (Sarcastic): 0.0380\n",
      "Text: Nothing better than a the meal moment.\n",
      "→ Prob (Not Sarcastic): 0.9620 | Prob (Sarcastic): 0.0380\n",
      "Text: Had a great time with the workshop.\n",
      "→ Prob (Not Sarcastic): 0.9793 | Prob (Sarcastic): 0.0207\n",
      "Text: Had a great time with the workshop.\n",
      "→ Prob (Not Sarcastic): 0.9793 | Prob (Sarcastic): 0.0207\n",
      "Text: engineers are truly inspiring.\n",
      "→ Prob (Not Sarcastic): 0.9887 | Prob (Sarcastic): 0.0113\n",
      "Text: engineers are truly inspiring.\n",
      "→ Prob (Not Sarcastic): 0.9887 | Prob (Sarcastic): 0.0113\n",
      "Text: Had a great time with this movie.\n",
      "→ Prob (Not Sarcastic): 0.9810 | Prob (Sarcastic): 0.0190\n",
      "Text: Had a great time with this movie.\n",
      "→ Prob (Not Sarcastic): 0.9810 | Prob (Sarcastic): 0.0190\n"
     ]
    },
    {
     "name": "stderr",
     "output_type": "stream",
     "text": [
      "  9%|▉         | 465/5000 [00:18<02:56, 25.62it/s]"
     ]
    },
    {
     "name": "stdout",
     "output_type": "stream",
     "text": [
      "Text: Nothing better than a the conference moment.\n",
      "→ Prob (Not Sarcastic): 0.9396 | Prob (Sarcastic): 0.0604\n",
      "Text: Nothing better than a the conference moment.\n",
      "→ Prob (Not Sarcastic): 0.9396 | Prob (Sarcastic): 0.0604\n",
      "Text: Nothing better than a artists moment.\n",
      "→ Prob (Not Sarcastic): 0.9809 | Prob (Sarcastic): 0.0191\n",
      "Text: Nothing better than a artists moment.\n",
      "→ Prob (Not Sarcastic): 0.9809 | Prob (Sarcastic): 0.0191\n",
      "Text: Had a great time with my new phone.\n",
      "→ Prob (Not Sarcastic): 0.9822 | Prob (Sarcastic): 0.0178\n",
      "Text: Had a great time with my new phone.\n",
      "→ Prob (Not Sarcastic): 0.9822 | Prob (Sarcastic): 0.0178\n",
      "Text: I am always excited for athletes.\n",
      "→ Prob (Not Sarcastic): 0.9926 | Prob (Sarcastic): 0.0074\n",
      "Text: I am always excited for athletes.\n",
      "→ Prob (Not Sarcastic): 0.9926 | Prob (Sarcastic): 0.0074\n",
      "Text: this movie are genuinely amazing.\n",
      "→ Prob (Not Sarcastic): 0.9922 | Prob (Sarcastic): 0.0078\n",
      "Text: this movie are genuinely amazing.\n",
      "→ Prob (Not Sarcastic): 0.9922 | Prob (Sarcastic): 0.0078\n",
      "Text: Can't wait for more of this book.\n",
      "→ Prob (Not Sarcastic): 0.9606 | Prob (Sarcastic): 0.0394\n",
      "Text: Can't wait for more of this book.\n",
      "→ Prob (Not Sarcastic): 0.9606 | Prob (Sarcastic): 0.0394\n"
     ]
    },
    {
     "name": "stderr",
     "output_type": "stream",
     "text": [
      "  9%|▉         | 471/5000 [00:19<02:59, 25.25it/s]"
     ]
    },
    {
     "name": "stdout",
     "output_type": "stream",
     "text": [
      "Text: I just love when this movie happens.\n",
      "→ Prob (Not Sarcastic): 0.9903 | Prob (Sarcastic): 0.0097\n",
      "Text: I just love when this movie happens.\n",
      "→ Prob (Not Sarcastic): 0.9903 | Prob (Sarcastic): 0.0097\n",
      "Text: vegetarians are genuinely amazing.\n",
      "→ Prob (Not Sarcastic): 0.9941 | Prob (Sarcastic): 0.0059\n",
      "Text: vegetarians are genuinely amazing.\n",
      "→ Prob (Not Sarcastic): 0.9941 | Prob (Sarcastic): 0.0059\n",
      "Text: I just love when my new phone happens.\n",
      "→ Prob (Not Sarcastic): 0.9900 | Prob (Sarcastic): 0.0100\n",
      "Text: I just love when my new phone happens.\n",
      "→ Prob (Not Sarcastic): 0.9900 | Prob (Sarcastic): 0.0100\n",
      "Text: the meal are genuinely amazing.\n",
      "→ Prob (Not Sarcastic): 0.9940 | Prob (Sarcastic): 0.0060\n",
      "Text: the meal are genuinely amazing.\n",
      "→ Prob (Not Sarcastic): 0.9940 | Prob (Sarcastic): 0.0060\n",
      "Text: the meal are truly inspiring.\n",
      "→ Prob (Not Sarcastic): 0.9930 | Prob (Sarcastic): 0.0070\n",
      "Text: the meal are truly inspiring.\n",
      "→ Prob (Not Sarcastic): 0.9930 | Prob (Sarcastic): 0.0070\n"
     ]
    },
    {
     "name": "stderr",
     "output_type": "stream",
     "text": [
      "  9%|▉         | 474/5000 [00:19<03:09, 23.83it/s]"
     ]
    },
    {
     "name": "stdout",
     "output_type": "stream",
     "text": [
      "Text: I genuinely love doctors.\n",
      "→ Prob (Not Sarcastic): 0.9905 | Prob (Sarcastic): 0.0095\n",
      "Text: I genuinely love doctors.\n",
      "→ Prob (Not Sarcastic): 0.9905 | Prob (Sarcastic): 0.0095\n",
      "Text: I am always excited for writers.\n",
      "→ Prob (Not Sarcastic): 0.9905 | Prob (Sarcastic): 0.0095\n",
      "Text: I am always excited for writers.\n",
      "→ Prob (Not Sarcastic): 0.9905 | Prob (Sarcastic): 0.0095\n",
      "Text: Had a doctors, best experience ever. Not.\n",
      "→ Prob (Not Sarcastic): 0.7957 | Prob (Sarcastic): 0.2043\n",
      "Text: Had a doctors, best experience ever. Not.\n",
      "→ Prob (Not Sarcastic): 0.7957 | Prob (Sarcastic): 0.2043\n",
      "Text: I am always excited for the concert.\n",
      "→ Prob (Not Sarcastic): 0.9923 | Prob (Sarcastic): 0.0077\n",
      "Text: I am always excited for the concert.\n",
      "→ Prob (Not Sarcastic): 0.9923 | Prob (Sarcastic): 0.0077\n",
      "Text: Everyone loves scientists, right?\n",
      "→ Prob (Not Sarcastic): 0.9873 | Prob (Sarcastic): 0.0127\n",
      "Text: Everyone loves scientists, right?\n",
      "→ Prob (Not Sarcastic): 0.9873 | Prob (Sarcastic): 0.0127\n"
     ]
    },
    {
     "name": "stderr",
     "output_type": "stream",
     "text": [
      " 10%|▉         | 480/5000 [00:19<03:12, 23.51it/s]"
     ]
    },
    {
     "name": "stdout",
     "output_type": "stream",
     "text": [
      "Text: this movie are so wonderful, said no one ever.\n",
      "→ Prob (Not Sarcastic): 0.9760 | Prob (Sarcastic): 0.0240\n",
      "Text: this movie are so wonderful, said no one ever.\n",
      "→ Prob (Not Sarcastic): 0.9760 | Prob (Sarcastic): 0.0240\n",
      "Text: I just love when doctors happens.\n",
      "→ Prob (Not Sarcastic): 0.9865 | Prob (Sarcastic): 0.0135\n",
      "Text: I just love when doctors happens.\n",
      "→ Prob (Not Sarcastic): 0.9865 | Prob (Sarcastic): 0.0135\n",
      "Text: Because the conference really make everything better.\n",
      "→ Prob (Not Sarcastic): 0.9932 | Prob (Sarcastic): 0.0068\n",
      "Text: Because the conference really make everything better.\n",
      "→ Prob (Not Sarcastic): 0.9932 | Prob (Sarcastic): 0.0068\n",
      "Text: musicians are so wonderful, said no one ever.\n",
      "→ Prob (Not Sarcastic): 0.9289 | Prob (Sarcastic): 0.0711\n",
      "Text: musicians are so wonderful, said no one ever.\n",
      "→ Prob (Not Sarcastic): 0.9289 | Prob (Sarcastic): 0.0711\n",
      "Text: Had a artists, best experience ever. Not.\n",
      "→ Prob (Not Sarcastic): 0.8032 | Prob (Sarcastic): 0.1968\n",
      "Text: Had a artists, best experience ever. Not.\n",
      "→ Prob (Not Sarcastic): 0.8032 | Prob (Sarcastic): 0.1968\n",
      "Text: I find my new phone to be wonderful.\n",
      "→ Prob (Not Sarcastic): 0.9948 | Prob (Sarcastic): 0.0052\n",
      "Text: I find my new phone to be wonderful.\n",
      "→ Prob (Not Sarcastic): 0.9948 | Prob (Sarcastic): 0.0052\n"
     ]
    },
    {
     "name": "stderr",
     "output_type": "stream",
     "text": [
      " 10%|▉         | 486/5000 [00:19<03:07, 24.13it/s]"
     ]
    },
    {
     "name": "stdout",
     "output_type": "stream",
     "text": [
      "Text: the meal have always been great.\n",
      "→ Prob (Not Sarcastic): 0.9918 | Prob (Sarcastic): 0.0082\n",
      "Text: the meal have always been great.\n",
      "→ Prob (Not Sarcastic): 0.9918 | Prob (Sarcastic): 0.0082\n",
      "Text: Because the game really make everything better.\n",
      "→ Prob (Not Sarcastic): 0.9946 | Prob (Sarcastic): 0.0054\n",
      "Text: Because the game really make everything better.\n",
      "→ Prob (Not Sarcastic): 0.9946 | Prob (Sarcastic): 0.0054\n",
      "Text: Had a my new phone, best experience ever. Not.\n",
      "→ Prob (Not Sarcastic): 0.8831 | Prob (Sarcastic): 0.1169\n",
      "Text: Had a my new phone, best experience ever. Not.\n",
      "→ Prob (Not Sarcastic): 0.8831 | Prob (Sarcastic): 0.1169\n",
      "Text: I genuinely love this book.\n",
      "→ Prob (Not Sarcastic): 0.9902 | Prob (Sarcastic): 0.0098\n",
      "Text: I genuinely love this book.\n",
      "→ Prob (Not Sarcastic): 0.9902 | Prob (Sarcastic): 0.0098\n",
      "Text: the game are so wonderful, said no one ever.\n",
      "→ Prob (Not Sarcastic): 0.9833 | Prob (Sarcastic): 0.0167\n",
      "Text: the game are so wonderful, said no one ever.\n",
      "→ Prob (Not Sarcastic): 0.9833 | Prob (Sarcastic): 0.0167\n"
     ]
    },
    {
     "name": "stderr",
     "output_type": "stream",
     "text": [
      " 10%|▉         | 492/5000 [00:20<03:23, 22.17it/s]"
     ]
    },
    {
     "name": "stdout",
     "output_type": "stream",
     "text": [
      "Text: the meal are genuinely amazing.\n",
      "→ Prob (Not Sarcastic): 0.9940 | Prob (Sarcastic): 0.0060\n",
      "Text: the meal are genuinely amazing.\n",
      "→ Prob (Not Sarcastic): 0.9940 | Prob (Sarcastic): 0.0060\n",
      "Text: Nothing better than a scientists moment.\n",
      "→ Prob (Not Sarcastic): 0.9718 | Prob (Sarcastic): 0.0282\n",
      "Text: Nothing better than a scientists moment.\n",
      "→ Prob (Not Sarcastic): 0.9718 | Prob (Sarcastic): 0.0282\n",
      "Text: artists are truly inspiring.\n",
      "→ Prob (Not Sarcastic): 0.9919 | Prob (Sarcastic): 0.0081\n",
      "Text: artists are truly inspiring.\n",
      "→ Prob (Not Sarcastic): 0.9919 | Prob (Sarcastic): 0.0081\n",
      "Text: Oh great, another musicians. Just what I needed.\n",
      "→ Prob (Not Sarcastic): 0.9030 | Prob (Sarcastic): 0.0970\n",
      "Text: Oh great, another musicians. Just what I needed.\n",
      "→ Prob (Not Sarcastic): 0.9030 | Prob (Sarcastic): 0.0970\n",
      "Text: Had a great time with artists.\n",
      "→ Prob (Not Sarcastic): 0.9816 | Prob (Sarcastic): 0.0184\n",
      "Text: Had a great time with artists.\n",
      "→ Prob (Not Sarcastic): 0.9816 | Prob (Sarcastic): 0.0184\n"
     ]
    },
    {
     "name": "stderr",
     "output_type": "stream",
     "text": [
      " 10%|▉         | 495/5000 [00:20<03:29, 21.50it/s]"
     ]
    },
    {
     "name": "stdout",
     "output_type": "stream",
     "text": [
      "Text: I genuinely love vegetarians.\n",
      "→ Prob (Not Sarcastic): 0.9897 | Prob (Sarcastic): 0.0103\n",
      "Text: I genuinely love vegetarians.\n",
      "→ Prob (Not Sarcastic): 0.9897 | Prob (Sarcastic): 0.0103\n",
      "Text: I am always excited for this book.\n",
      "→ Prob (Not Sarcastic): 0.9916 | Prob (Sarcastic): 0.0084\n",
      "Text: I am always excited for this book.\n",
      "→ Prob (Not Sarcastic): 0.9916 | Prob (Sarcastic): 0.0084\n",
      "Text: I just love when the concert happens.\n",
      "→ Prob (Not Sarcastic): 0.9917 | Prob (Sarcastic): 0.0083\n",
      "Text: I just love when the concert happens.\n",
      "→ Prob (Not Sarcastic): 0.9917 | Prob (Sarcastic): 0.0083\n",
      "Text: I genuinely love this movie.\n",
      "→ Prob (Not Sarcastic): 0.9888 | Prob (Sarcastic): 0.0112\n",
      "Text: I genuinely love this movie.\n",
      "→ Prob (Not Sarcastic): 0.9888 | Prob (Sarcastic): 0.0112\n",
      "Text: Because athletes really make everything better.\n",
      "→ Prob (Not Sarcastic): 0.9942 | Prob (Sarcastic): 0.0058\n",
      "Text: Because athletes really make everything better.\n",
      "→ Prob (Not Sarcastic): 0.9942 | Prob (Sarcastic): 0.0058\n"
     ]
    },
    {
     "name": "stderr",
     "output_type": "stream",
     "text": [
      " 10%|█         | 501/5000 [00:20<03:36, 20.81it/s]"
     ]
    },
    {
     "name": "stdout",
     "output_type": "stream",
     "text": [
      "Text: I am always excited for this book.\n",
      "→ Prob (Not Sarcastic): 0.9916 | Prob (Sarcastic): 0.0084\n",
      "Text: I am always excited for this book.\n",
      "→ Prob (Not Sarcastic): 0.9916 | Prob (Sarcastic): 0.0084\n",
      "Text: I just love when scientists happens.\n",
      "→ Prob (Not Sarcastic): 0.9868 | Prob (Sarcastic): 0.0132\n",
      "Text: I just love when scientists happens.\n",
      "→ Prob (Not Sarcastic): 0.9868 | Prob (Sarcastic): 0.0132\n",
      "Text: Can't wait for more of the concert.\n",
      "→ Prob (Not Sarcastic): 0.9482 | Prob (Sarcastic): 0.0518\n",
      "Text: Can't wait for more of the concert.\n",
      "→ Prob (Not Sarcastic): 0.9482 | Prob (Sarcastic): 0.0518\n",
      "Text: musicians are genuinely amazing.\n",
      "→ Prob (Not Sarcastic): 0.9853 | Prob (Sarcastic): 0.0147\n",
      "Text: musicians are genuinely amazing.\n",
      "→ Prob (Not Sarcastic): 0.9853 | Prob (Sarcastic): 0.0147\n",
      "Text: Can't wait for more of the conference.\n",
      "→ Prob (Not Sarcastic): 0.9681 | Prob (Sarcastic): 0.0319\n",
      "Text: Can't wait for more of the conference.\n",
      "→ Prob (Not Sarcastic): 0.9681 | Prob (Sarcastic): 0.0319\n"
     ]
    },
    {
     "name": "stderr",
     "output_type": "stream",
     "text": [
      " 10%|█         | 507/5000 [00:20<03:30, 21.33it/s]"
     ]
    },
    {
     "name": "stdout",
     "output_type": "stream",
     "text": [
      "Text: this book have always been great.\n",
      "→ Prob (Not Sarcastic): 0.9913 | Prob (Sarcastic): 0.0087\n",
      "Text: this book have always been great.\n",
      "→ Prob (Not Sarcastic): 0.9913 | Prob (Sarcastic): 0.0087\n",
      "Text: I find musicians to be wonderful.\n",
      "→ Prob (Not Sarcastic): 0.9936 | Prob (Sarcastic): 0.0064\n",
      "Text: I find musicians to be wonderful.\n",
      "→ Prob (Not Sarcastic): 0.9936 | Prob (Sarcastic): 0.0064\n",
      "Text: Can't wait for more of doctors.\n",
      "→ Prob (Not Sarcastic): 0.5348 | Prob (Sarcastic): 0.4652\n",
      "Text: Can't wait for more of doctors.\n",
      "→ Prob (Not Sarcastic): 0.5348 | Prob (Sarcastic): 0.4652\n",
      "Text: Oh great, another doctors. Just what I needed.\n",
      "→ Prob (Not Sarcastic): 0.8185 | Prob (Sarcastic): 0.1815\n",
      "Text: Oh great, another doctors. Just what I needed.\n",
      "→ Prob (Not Sarcastic): 0.8185 | Prob (Sarcastic): 0.1815\n",
      "Text: this movie have always been great.\n",
      "→ Prob (Not Sarcastic): 0.9906 | Prob (Sarcastic): 0.0094\n",
      "Text: this movie have always been great.\n",
      "→ Prob (Not Sarcastic): 0.9906 | Prob (Sarcastic): 0.0094\n"
     ]
    },
    {
     "name": "stderr",
     "output_type": "stream",
     "text": [
      " 10%|█         | 510/5000 [00:21<03:28, 21.57it/s]"
     ]
    },
    {
     "name": "stdout",
     "output_type": "stream",
     "text": [
      "Text: I find artists to be wonderful.\n",
      "→ Prob (Not Sarcastic): 0.9937 | Prob (Sarcastic): 0.0063\n",
      "Text: I find artists to be wonderful.\n",
      "→ Prob (Not Sarcastic): 0.9937 | Prob (Sarcastic): 0.0063\n",
      "Text: I am always excited for my new phone.\n",
      "→ Prob (Not Sarcastic): 0.9918 | Prob (Sarcastic): 0.0082\n",
      "Text: I am always excited for my new phone.\n",
      "→ Prob (Not Sarcastic): 0.9918 | Prob (Sarcastic): 0.0082\n",
      "Text: I find doctors to be wonderful.\n",
      "→ Prob (Not Sarcastic): 0.9912 | Prob (Sarcastic): 0.0088\n",
      "Text: I find doctors to be wonderful.\n",
      "→ Prob (Not Sarcastic): 0.9912 | Prob (Sarcastic): 0.0088\n",
      "Text: Had a great time with engineers.\n",
      "→ Prob (Not Sarcastic): 0.9781 | Prob (Sarcastic): 0.0219\n",
      "Text: Had a great time with engineers.\n",
      "→ Prob (Not Sarcastic): 0.9781 | Prob (Sarcastic): 0.0219\n",
      "Text: I just love when artists happens.\n",
      "→ Prob (Not Sarcastic): 0.9893 | Prob (Sarcastic): 0.0107\n",
      "Text: I just love when artists happens.\n",
      "→ Prob (Not Sarcastic): 0.9893 | Prob (Sarcastic): 0.0107\n"
     ]
    },
    {
     "name": "stderr",
     "output_type": "stream",
     "text": [
      " 10%|█         | 516/5000 [00:21<03:22, 22.11it/s]"
     ]
    },
    {
     "name": "stdout",
     "output_type": "stream",
     "text": [
      "Text: the game are truly inspiring.\n",
      "→ Prob (Not Sarcastic): 0.9948 | Prob (Sarcastic): 0.0052\n",
      "Text: the game are truly inspiring.\n",
      "→ Prob (Not Sarcastic): 0.9948 | Prob (Sarcastic): 0.0052\n",
      "Text: Oh great, another artists. Just what I needed.\n",
      "→ Prob (Not Sarcastic): 0.9176 | Prob (Sarcastic): 0.0824\n",
      "Text: Oh great, another artists. Just what I needed.\n",
      "→ Prob (Not Sarcastic): 0.9176 | Prob (Sarcastic): 0.0824\n",
      "Text: Can't wait for more of vegetarians.\n",
      "→ Prob (Not Sarcastic): 0.8649 | Prob (Sarcastic): 0.1351\n",
      "Text: Can't wait for more of vegetarians.\n",
      "→ Prob (Not Sarcastic): 0.8649 | Prob (Sarcastic): 0.1351\n",
      "Text: Everyone loves engineers, right?\n",
      "→ Prob (Not Sarcastic): 0.9870 | Prob (Sarcastic): 0.0130\n",
      "Text: Everyone loves engineers, right?\n",
      "→ Prob (Not Sarcastic): 0.9870 | Prob (Sarcastic): 0.0130\n",
      "Text: I genuinely love artists.\n",
      "→ Prob (Not Sarcastic): 0.9897 | Prob (Sarcastic): 0.0103\n",
      "Text: I genuinely love artists.\n",
      "→ Prob (Not Sarcastic): 0.9897 | Prob (Sarcastic): 0.0103\n"
     ]
    },
    {
     "name": "stderr",
     "output_type": "stream",
     "text": [
      " 10%|█         | 522/5000 [00:21<03:11, 23.44it/s]"
     ]
    },
    {
     "name": "stdout",
     "output_type": "stream",
     "text": [
      "Text: this movie are so wonderful, said no one ever.\n",
      "→ Prob (Not Sarcastic): 0.9760 | Prob (Sarcastic): 0.0240\n",
      "Text: this movie are so wonderful, said no one ever.\n",
      "→ Prob (Not Sarcastic): 0.9760 | Prob (Sarcastic): 0.0240\n",
      "Text: artists have always been great.\n",
      "→ Prob (Not Sarcastic): 0.9833 | Prob (Sarcastic): 0.0167\n",
      "Text: artists have always been great.\n",
      "→ Prob (Not Sarcastic): 0.9833 | Prob (Sarcastic): 0.0167\n",
      "Text: Nothing better than a the concert moment.\n",
      "→ Prob (Not Sarcastic): 0.9676 | Prob (Sarcastic): 0.0324\n",
      "Text: Nothing better than a the concert moment.\n",
      "→ Prob (Not Sarcastic): 0.9676 | Prob (Sarcastic): 0.0324\n",
      "Text: engineers are so wonderful, said no one ever.\n",
      "→ Prob (Not Sarcastic): 0.9043 | Prob (Sarcastic): 0.0957\n",
      "Text: engineers are so wonderful, said no one ever.\n",
      "→ Prob (Not Sarcastic): 0.9043 | Prob (Sarcastic): 0.0957\n",
      "Text: Had a great time with artists.\n",
      "→ Prob (Not Sarcastic): 0.9816 | Prob (Sarcastic): 0.0184\n",
      "Text: Had a great time with artists.\n",
      "→ Prob (Not Sarcastic): 0.9816 | Prob (Sarcastic): 0.0184\n"
     ]
    },
    {
     "name": "stderr",
     "output_type": "stream",
     "text": [
      " 11%|█         | 528/5000 [00:21<03:03, 24.34it/s]"
     ]
    },
    {
     "name": "stdout",
     "output_type": "stream",
     "text": [
      "Text: Oh great, another the conference. Just what I needed.\n",
      "→ Prob (Not Sarcastic): 0.9072 | Prob (Sarcastic): 0.0928\n",
      "Text: Oh great, another the conference. Just what I needed.\n",
      "→ Prob (Not Sarcastic): 0.9072 | Prob (Sarcastic): 0.0928\n",
      "Text: the game have always been great.\n",
      "→ Prob (Not Sarcastic): 0.9936 | Prob (Sarcastic): 0.0064\n",
      "Text: the game have always been great.\n",
      "→ Prob (Not Sarcastic): 0.9936 | Prob (Sarcastic): 0.0064\n",
      "Text: Because engineers really make everything better.\n",
      "→ Prob (Not Sarcastic): 0.9912 | Prob (Sarcastic): 0.0088\n",
      "Text: Because engineers really make everything better.\n",
      "→ Prob (Not Sarcastic): 0.9912 | Prob (Sarcastic): 0.0088\n",
      "Text: the meal are genuinely amazing.\n",
      "→ Prob (Not Sarcastic): 0.9940 | Prob (Sarcastic): 0.0060\n",
      "Text: the meal are genuinely amazing.\n",
      "→ Prob (Not Sarcastic): 0.9940 | Prob (Sarcastic): 0.0060\n",
      "Text: I find the concert to be wonderful.\n",
      "→ Prob (Not Sarcastic): 0.9944 | Prob (Sarcastic): 0.0056\n",
      "Text: I find the concert to be wonderful.\n",
      "→ Prob (Not Sarcastic): 0.9944 | Prob (Sarcastic): 0.0056\n",
      "Text: scientists are so wonderful, said no one ever.\n",
      "→ Prob (Not Sarcastic): 0.9079 | Prob (Sarcastic): 0.0921\n",
      "Text: scientists are so wonderful, said no one ever.\n",
      "→ Prob (Not Sarcastic): 0.9079 | Prob (Sarcastic): 0.0921\n"
     ]
    },
    {
     "name": "stderr",
     "output_type": "stream",
     "text": [
      " 11%|█         | 534/5000 [00:21<03:01, 24.60it/s]"
     ]
    },
    {
     "name": "stdout",
     "output_type": "stream",
     "text": [
      "Text: Because the workshop really make everything better.\n",
      "→ Prob (Not Sarcastic): 0.9930 | Prob (Sarcastic): 0.0070\n",
      "Text: Because the workshop really make everything better.\n",
      "→ Prob (Not Sarcastic): 0.9930 | Prob (Sarcastic): 0.0070\n",
      "Text: I find the conference to be wonderful.\n",
      "→ Prob (Not Sarcastic): 0.9952 | Prob (Sarcastic): 0.0048\n",
      "Text: I find the conference to be wonderful.\n",
      "→ Prob (Not Sarcastic): 0.9952 | Prob (Sarcastic): 0.0048\n",
      "Text: artists are genuinely amazing.\n",
      "→ Prob (Not Sarcastic): 0.9893 | Prob (Sarcastic): 0.0107\n",
      "Text: artists are genuinely amazing.\n",
      "→ Prob (Not Sarcastic): 0.9893 | Prob (Sarcastic): 0.0107\n",
      "Text: I just love when this movie happens.\n",
      "→ Prob (Not Sarcastic): 0.9903 | Prob (Sarcastic): 0.0097\n",
      "Text: I just love when this movie happens.\n",
      "→ Prob (Not Sarcastic): 0.9903 | Prob (Sarcastic): 0.0097\n",
      "Text: artists are truly inspiring.\n",
      "→ Prob (Not Sarcastic): 0.9919 | Prob (Sarcastic): 0.0081\n",
      "Text: artists are truly inspiring.\n",
      "→ Prob (Not Sarcastic): 0.9919 | Prob (Sarcastic): 0.0081\n",
      "Text: the concert are so wonderful, said no one ever.\n",
      "→ Prob (Not Sarcastic): 0.9783 | Prob (Sarcastic): 0.0217\n",
      "Text: the concert are so wonderful, said no one ever.\n",
      "→ Prob (Not Sarcastic): 0.9783 | Prob (Sarcastic): 0.0217\n"
     ]
    },
    {
     "name": "stderr",
     "output_type": "stream",
     "text": [
      " 11%|█         | 540/5000 [00:22<02:59, 24.85it/s]"
     ]
    },
    {
     "name": "stdout",
     "output_type": "stream",
     "text": [
      "Text: I am always excited for the game.\n",
      "→ Prob (Not Sarcastic): 0.9935 | Prob (Sarcastic): 0.0065\n",
      "Text: I am always excited for the game.\n",
      "→ Prob (Not Sarcastic): 0.9935 | Prob (Sarcastic): 0.0065\n",
      "Text: I am always excited for the conference.\n",
      "→ Prob (Not Sarcastic): 0.9937 | Prob (Sarcastic): 0.0063\n",
      "Text: I am always excited for the conference.\n",
      "→ Prob (Not Sarcastic): 0.9937 | Prob (Sarcastic): 0.0063\n",
      "Text: the concert have always been great.\n",
      "→ Prob (Not Sarcastic): 0.9900 | Prob (Sarcastic): 0.0100\n",
      "Text: the concert have always been great.\n",
      "→ Prob (Not Sarcastic): 0.9900 | Prob (Sarcastic): 0.0100\n",
      "Text: Nothing better than a athletes moment.\n",
      "→ Prob (Not Sarcastic): 0.9811 | Prob (Sarcastic): 0.0189\n",
      "Text: Nothing better than a athletes moment.\n",
      "→ Prob (Not Sarcastic): 0.9811 | Prob (Sarcastic): 0.0189\n",
      "Text: Can't wait for more of doctors.\n",
      "→ Prob (Not Sarcastic): 0.5348 | Prob (Sarcastic): 0.4652\n",
      "Text: Can't wait for more of doctors.\n",
      "→ Prob (Not Sarcastic): 0.5348 | Prob (Sarcastic): 0.4652\n",
      "Text: I am always excited for engineers.\n",
      "→ Prob (Not Sarcastic): 0.9883 | Prob (Sarcastic): 0.0117\n",
      "Text: I am always excited for engineers.\n",
      "→ Prob (Not Sarcastic): 0.9883 | Prob (Sarcastic): 0.0117\n"
     ]
    },
    {
     "name": "stderr",
     "output_type": "stream",
     "text": [
      " 11%|█         | 546/5000 [00:22<02:57, 25.11it/s]"
     ]
    },
    {
     "name": "stdout",
     "output_type": "stream",
     "text": [
      "Text: engineers are truly inspiring.\n",
      "→ Prob (Not Sarcastic): 0.9887 | Prob (Sarcastic): 0.0113\n",
      "Text: engineers are truly inspiring.\n",
      "→ Prob (Not Sarcastic): 0.9887 | Prob (Sarcastic): 0.0113\n",
      "Text: Everyone loves artists, right?\n",
      "→ Prob (Not Sarcastic): 0.9893 | Prob (Sarcastic): 0.0107\n",
      "Text: Everyone loves artists, right?\n",
      "→ Prob (Not Sarcastic): 0.9893 | Prob (Sarcastic): 0.0107\n",
      "Text: the game have always been great.\n",
      "→ Prob (Not Sarcastic): 0.9936 | Prob (Sarcastic): 0.0064\n",
      "Text: the game have always been great.\n",
      "→ Prob (Not Sarcastic): 0.9936 | Prob (Sarcastic): 0.0064\n",
      "Text: the game are genuinely amazing.\n",
      "→ Prob (Not Sarcastic): 0.9945 | Prob (Sarcastic): 0.0055\n",
      "Text: the game are genuinely amazing.\n",
      "→ Prob (Not Sarcastic): 0.9945 | Prob (Sarcastic): 0.0055\n",
      "Text: Had a great time with this book.\n",
      "→ Prob (Not Sarcastic): 0.9862 | Prob (Sarcastic): 0.0138\n",
      "Text: Had a great time with this book.\n",
      "→ Prob (Not Sarcastic): 0.9862 | Prob (Sarcastic): 0.0138\n",
      "Text: I just love when the conference happens.\n",
      "→ Prob (Not Sarcastic): 0.9922 | Prob (Sarcastic): 0.0078\n",
      "Text: I just love when the conference happens.\n",
      "→ Prob (Not Sarcastic): 0.9922 | Prob (Sarcastic): 0.0078\n"
     ]
    },
    {
     "name": "stderr",
     "output_type": "stream",
     "text": [
      " 11%|█         | 549/5000 [00:22<02:59, 24.76it/s]"
     ]
    },
    {
     "name": "stdout",
     "output_type": "stream",
     "text": [
      "Text: Had a great time with the concert.\n",
      "→ Prob (Not Sarcastic): 0.9845 | Prob (Sarcastic): 0.0155\n",
      "Text: Had a great time with the concert.\n",
      "→ Prob (Not Sarcastic): 0.9845 | Prob (Sarcastic): 0.0155\n",
      "Text: I am always excited for doctors.\n",
      "→ Prob (Not Sarcastic): 0.9914 | Prob (Sarcastic): 0.0086\n",
      "Text: I am always excited for doctors.\n",
      "→ Prob (Not Sarcastic): 0.9914 | Prob (Sarcastic): 0.0086\n",
      "Text: I just love when the conference happens.\n",
      "→ Prob (Not Sarcastic): 0.9922 | Prob (Sarcastic): 0.0078\n",
      "Text: I just love when the conference happens.\n",
      "→ Prob (Not Sarcastic): 0.9922 | Prob (Sarcastic): 0.0078\n",
      "Text: Nothing better than a the conference moment.\n",
      "→ Prob (Not Sarcastic): 0.9396 | Prob (Sarcastic): 0.0604\n",
      "Text: Nothing better than a the conference moment.\n",
      "→ Prob (Not Sarcastic): 0.9396 | Prob (Sarcastic): 0.0604\n",
      "Text: Can't wait for more of artists.\n",
      "→ Prob (Not Sarcastic): 0.9015 | Prob (Sarcastic): 0.0985\n",
      "Text: Can't wait for more of artists.\n",
      "→ Prob (Not Sarcastic): 0.9015 | Prob (Sarcastic): 0.0985\n"
     ]
    },
    {
     "name": "stderr",
     "output_type": "stream",
     "text": [
      " 11%|█         | 555/5000 [00:22<03:28, 21.32it/s]"
     ]
    },
    {
     "name": "stdout",
     "output_type": "stream",
     "text": [
      "Text: Everyone loves athletes, right?\n",
      "→ Prob (Not Sarcastic): 0.9903 | Prob (Sarcastic): 0.0097\n",
      "Text: Everyone loves athletes, right?\n",
      "→ Prob (Not Sarcastic): 0.9903 | Prob (Sarcastic): 0.0097\n",
      "Text: I genuinely love the workshop.\n",
      "→ Prob (Not Sarcastic): 0.9912 | Prob (Sarcastic): 0.0088\n",
      "Text: I genuinely love the workshop.\n",
      "→ Prob (Not Sarcastic): 0.9912 | Prob (Sarcastic): 0.0088\n",
      "Text: Oh great, another this book. Just what I needed.\n",
      "→ Prob (Not Sarcastic): 0.9500 | Prob (Sarcastic): 0.0500\n",
      "Text: Oh great, another this book. Just what I needed.\n",
      "→ Prob (Not Sarcastic): 0.9500 | Prob (Sarcastic): 0.0500\n",
      "Text: I am always excited for writers.\n",
      "→ Prob (Not Sarcastic): 0.9905 | Prob (Sarcastic): 0.0095\n",
      "Text: I am always excited for writers.\n",
      "→ Prob (Not Sarcastic): 0.9905 | Prob (Sarcastic): 0.0095\n"
     ]
    },
    {
     "name": "stderr",
     "output_type": "stream",
     "text": [
      " 11%|█         | 558/5000 [00:23<03:26, 21.48it/s]"
     ]
    },
    {
     "name": "stdout",
     "output_type": "stream",
     "text": [
      "Text: the game are truly inspiring.\n",
      "→ Prob (Not Sarcastic): 0.9948 | Prob (Sarcastic): 0.0052\n",
      "Text: the game are truly inspiring.\n",
      "→ Prob (Not Sarcastic): 0.9948 | Prob (Sarcastic): 0.0052\n",
      "Text: I find writers to be wonderful.\n",
      "→ Prob (Not Sarcastic): 0.9937 | Prob (Sarcastic): 0.0063\n",
      "Text: I find writers to be wonderful.\n",
      "→ Prob (Not Sarcastic): 0.9937 | Prob (Sarcastic): 0.0063\n",
      "Text: Had a the workshop, best experience ever. Not.\n",
      "→ Prob (Not Sarcastic): 0.8060 | Prob (Sarcastic): 0.1940\n",
      "Text: Had a the workshop, best experience ever. Not.\n",
      "→ Prob (Not Sarcastic): 0.8060 | Prob (Sarcastic): 0.1940\n",
      "Text: the concert are so wonderful, said no one ever.\n",
      "→ Prob (Not Sarcastic): 0.9783 | Prob (Sarcastic): 0.0217\n",
      "Text: the concert are so wonderful, said no one ever.\n",
      "→ Prob (Not Sarcastic): 0.9783 | Prob (Sarcastic): 0.0217\n"
     ]
    },
    {
     "name": "stderr",
     "output_type": "stream",
     "text": [
      " 11%|█▏        | 564/5000 [00:23<03:31, 21.02it/s]"
     ]
    },
    {
     "name": "stdout",
     "output_type": "stream",
     "text": [
      "Text: Oh great, another artists. Just what I needed.\n",
      "→ Prob (Not Sarcastic): 0.9176 | Prob (Sarcastic): 0.0824\n",
      "Text: Oh great, another artists. Just what I needed.\n",
      "→ Prob (Not Sarcastic): 0.9176 | Prob (Sarcastic): 0.0824\n",
      "Text: this movie are truly inspiring.\n",
      "→ Prob (Not Sarcastic): 0.9908 | Prob (Sarcastic): 0.0092\n",
      "Text: this movie are truly inspiring.\n",
      "→ Prob (Not Sarcastic): 0.9908 | Prob (Sarcastic): 0.0092\n",
      "Text: I am always excited for the workshop.\n",
      "→ Prob (Not Sarcastic): 0.9922 | Prob (Sarcastic): 0.0078\n",
      "Text: I am always excited for the workshop.\n",
      "→ Prob (Not Sarcastic): 0.9922 | Prob (Sarcastic): 0.0078\n",
      "Text: I genuinely love the concert.\n",
      "→ Prob (Not Sarcastic): 0.9918 | Prob (Sarcastic): 0.0082\n",
      "Text: I genuinely love the concert.\n",
      "→ Prob (Not Sarcastic): 0.9918 | Prob (Sarcastic): 0.0082\n",
      "Text: Can't wait for more of writers.\n",
      "→ Prob (Not Sarcastic): 0.8679 | Prob (Sarcastic): 0.1321\n",
      "Text: Can't wait for more of writers.\n",
      "→ Prob (Not Sarcastic): 0.8679 | Prob (Sarcastic): 0.1321\n"
     ]
    },
    {
     "name": "stderr",
     "output_type": "stream",
     "text": [
      " 11%|█▏        | 567/5000 [00:23<03:33, 20.81it/s]"
     ]
    },
    {
     "name": "stdout",
     "output_type": "stream",
     "text": [
      "Text: Can't wait for more of this book.\n",
      "→ Prob (Not Sarcastic): 0.9606 | Prob (Sarcastic): 0.0394\n",
      "Text: Can't wait for more of this book.\n",
      "→ Prob (Not Sarcastic): 0.9606 | Prob (Sarcastic): 0.0394\n",
      "Text: Oh great, another the meal. Just what I needed.\n",
      "→ Prob (Not Sarcastic): 0.8427 | Prob (Sarcastic): 0.1573\n",
      "Text: Oh great, another the meal. Just what I needed.\n",
      "→ Prob (Not Sarcastic): 0.8427 | Prob (Sarcastic): 0.1573\n",
      "Text: I genuinely love writers.\n",
      "→ Prob (Not Sarcastic): 0.9899 | Prob (Sarcastic): 0.0101\n",
      "Text: I genuinely love writers.\n",
      "→ Prob (Not Sarcastic): 0.9899 | Prob (Sarcastic): 0.0101\n",
      "Text: Everyone loves the concert, right?\n",
      "→ Prob (Not Sarcastic): 0.9909 | Prob (Sarcastic): 0.0091\n",
      "Text: Everyone loves the concert, right?\n",
      "→ Prob (Not Sarcastic): 0.9909 | Prob (Sarcastic): 0.0091\n",
      "Text: Because athletes really make everything better.\n",
      "→ Prob (Not Sarcastic): 0.9942 | Prob (Sarcastic): 0.0058\n",
      "Text: Because athletes really make everything better.\n",
      "→ Prob (Not Sarcastic): 0.9942 | Prob (Sarcastic): 0.0058\n"
     ]
    },
    {
     "name": "stderr",
     "output_type": "stream",
     "text": [
      " 11%|█▏        | 572/5000 [00:23<03:45, 19.62it/s]"
     ]
    },
    {
     "name": "stdout",
     "output_type": "stream",
     "text": [
      "Text: Can't wait for more of artists.\n",
      "→ Prob (Not Sarcastic): 0.9015 | Prob (Sarcastic): 0.0985\n",
      "Text: Can't wait for more of artists.\n",
      "→ Prob (Not Sarcastic): 0.9015 | Prob (Sarcastic): 0.0985\n",
      "Text: I genuinely love my new phone.\n",
      "→ Prob (Not Sarcastic): 0.9909 | Prob (Sarcastic): 0.0091\n",
      "Text: I genuinely love my new phone.\n",
      "→ Prob (Not Sarcastic): 0.9909 | Prob (Sarcastic): 0.0091\n",
      "Text: Can't wait for more of the game.\n",
      "→ Prob (Not Sarcastic): 0.9589 | Prob (Sarcastic): 0.0411\n",
      "Text: Can't wait for more of the game.\n",
      "→ Prob (Not Sarcastic): 0.9589 | Prob (Sarcastic): 0.0411\n",
      "Text: the concert are genuinely amazing.\n",
      "→ Prob (Not Sarcastic): 0.9933 | Prob (Sarcastic): 0.0067\n",
      "Text: the concert are genuinely amazing.\n",
      "→ Prob (Not Sarcastic): 0.9933 | Prob (Sarcastic): 0.0067\n"
     ]
    },
    {
     "name": "stderr",
     "output_type": "stream",
     "text": [
      " 12%|█▏        | 577/5000 [00:24<03:36, 20.46it/s]"
     ]
    },
    {
     "name": "stdout",
     "output_type": "stream",
     "text": [
      "Text: the game are so wonderful, said no one ever.\n",
      "→ Prob (Not Sarcastic): 0.9833 | Prob (Sarcastic): 0.0167\n",
      "Text: the game are so wonderful, said no one ever.\n",
      "→ Prob (Not Sarcastic): 0.9833 | Prob (Sarcastic): 0.0167\n",
      "Text: Can't wait for more of writers.\n",
      "→ Prob (Not Sarcastic): 0.8679 | Prob (Sarcastic): 0.1321\n",
      "Text: Can't wait for more of writers.\n",
      "→ Prob (Not Sarcastic): 0.8679 | Prob (Sarcastic): 0.1321\n",
      "Text: I just love when this book happens.\n",
      "→ Prob (Not Sarcastic): 0.9917 | Prob (Sarcastic): 0.0083\n",
      "Text: I just love when this book happens.\n",
      "→ Prob (Not Sarcastic): 0.9917 | Prob (Sarcastic): 0.0083\n",
      "Text: I genuinely love musicians.\n",
      "→ Prob (Not Sarcastic): 0.9891 | Prob (Sarcastic): 0.0109\n",
      "Text: I genuinely love musicians.\n",
      "→ Prob (Not Sarcastic): 0.9891 | Prob (Sarcastic): 0.0109\n",
      "Text: my new phone have always been great.\n",
      "→ Prob (Not Sarcastic): 0.9891 | Prob (Sarcastic): 0.0109\n",
      "Text: my new phone have always been great.\n",
      "→ Prob (Not Sarcastic): 0.9891 | Prob (Sarcastic): 0.0109\n"
     ]
    },
    {
     "name": "stderr",
     "output_type": "stream",
     "text": [
      " 12%|█▏        | 583/5000 [00:24<03:23, 21.70it/s]"
     ]
    },
    {
     "name": "stdout",
     "output_type": "stream",
     "text": [
      "Text: Can't wait for more of engineers.\n",
      "→ Prob (Not Sarcastic): 0.5661 | Prob (Sarcastic): 0.4339\n",
      "Text: Can't wait for more of engineers.\n",
      "→ Prob (Not Sarcastic): 0.5661 | Prob (Sarcastic): 0.4339\n",
      "Text: engineers are genuinely amazing.\n",
      "→ Prob (Not Sarcastic): 0.9788 | Prob (Sarcastic): 0.0212\n",
      "Text: engineers are genuinely amazing.\n",
      "→ Prob (Not Sarcastic): 0.9788 | Prob (Sarcastic): 0.0212\n",
      "Text: Had a artists, best experience ever. Not.\n",
      "→ Prob (Not Sarcastic): 0.8032 | Prob (Sarcastic): 0.1968\n",
      "Text: Had a artists, best experience ever. Not.\n",
      "→ Prob (Not Sarcastic): 0.8032 | Prob (Sarcastic): 0.1968\n",
      "Text: I am always excited for musicians.\n",
      "→ Prob (Not Sarcastic): 0.9901 | Prob (Sarcastic): 0.0099\n",
      "Text: I am always excited for musicians.\n",
      "→ Prob (Not Sarcastic): 0.9901 | Prob (Sarcastic): 0.0099\n",
      "Text: Can't wait for more of engineers.\n",
      "→ Prob (Not Sarcastic): 0.5661 | Prob (Sarcastic): 0.4339\n",
      "Text: Can't wait for more of engineers.\n",
      "→ Prob (Not Sarcastic): 0.5661 | Prob (Sarcastic): 0.4339\n"
     ]
    },
    {
     "name": "stderr",
     "output_type": "stream",
     "text": [
      " 12%|█▏        | 586/5000 [00:24<03:26, 21.38it/s]"
     ]
    },
    {
     "name": "stdout",
     "output_type": "stream",
     "text": [
      "Text: scientists are so wonderful, said no one ever.\n",
      "→ Prob (Not Sarcastic): 0.9079 | Prob (Sarcastic): 0.0921\n",
      "Text: scientists are so wonderful, said no one ever.\n",
      "→ Prob (Not Sarcastic): 0.9079 | Prob (Sarcastic): 0.0921\n",
      "Text: Everyone loves artists, right?\n",
      "→ Prob (Not Sarcastic): 0.9893 | Prob (Sarcastic): 0.0107\n",
      "Text: Everyone loves artists, right?\n",
      "→ Prob (Not Sarcastic): 0.9893 | Prob (Sarcastic): 0.0107\n",
      "Text: Everyone loves engineers, right?\n",
      "→ Prob (Not Sarcastic): 0.9870 | Prob (Sarcastic): 0.0130\n",
      "Text: Everyone loves engineers, right?\n",
      "→ Prob (Not Sarcastic): 0.9870 | Prob (Sarcastic): 0.0130\n",
      "Text: I just love when the meal happens.\n",
      "→ Prob (Not Sarcastic): 0.9907 | Prob (Sarcastic): 0.0093\n",
      "Text: I just love when the meal happens.\n",
      "→ Prob (Not Sarcastic): 0.9907 | Prob (Sarcastic): 0.0093\n",
      "Text: I genuinely love my new phone.\n",
      "→ Prob (Not Sarcastic): 0.9909 | Prob (Sarcastic): 0.0091\n",
      "Text: I genuinely love my new phone.\n",
      "→ Prob (Not Sarcastic): 0.9909 | Prob (Sarcastic): 0.0091\n"
     ]
    },
    {
     "name": "stderr",
     "output_type": "stream",
     "text": [
      " 12%|█▏        | 589/5000 [00:24<03:27, 21.30it/s]"
     ]
    },
    {
     "name": "stdout",
     "output_type": "stream",
     "text": [
      "Text: I just love when the meal happens.\n",
      "→ Prob (Not Sarcastic): 0.9907 | Prob (Sarcastic): 0.0093\n",
      "Text: I just love when the meal happens.\n",
      "→ Prob (Not Sarcastic): 0.9907 | Prob (Sarcastic): 0.0093\n",
      "Text: Nothing better than a the meal moment.\n",
      "→ Prob (Not Sarcastic): 0.9620 | Prob (Sarcastic): 0.0380\n",
      "Text: Nothing better than a the meal moment.\n",
      "→ Prob (Not Sarcastic): 0.9620 | Prob (Sarcastic): 0.0380\n",
      "Text: I genuinely love athletes.\n",
      "→ Prob (Not Sarcastic): 0.9910 | Prob (Sarcastic): 0.0090\n",
      "Text: I genuinely love athletes.\n",
      "→ Prob (Not Sarcastic): 0.9910 | Prob (Sarcastic): 0.0090\n"
     ]
    },
    {
     "name": "stderr",
     "output_type": "stream",
     "text": [
      " 12%|█▏        | 592/5000 [00:24<04:16, 17.17it/s]"
     ]
    },
    {
     "name": "stdout",
     "output_type": "stream",
     "text": [
      "Text: Had a great time with scientists.\n",
      "→ Prob (Not Sarcastic): 0.9808 | Prob (Sarcastic): 0.0192\n",
      "Text: Had a great time with scientists.\n",
      "→ Prob (Not Sarcastic): 0.9808 | Prob (Sarcastic): 0.0192\n",
      "Text: I find artists to be wonderful.\n",
      "→ Prob (Not Sarcastic): 0.9937 | Prob (Sarcastic): 0.0063\n",
      "Text: I find artists to be wonderful.\n",
      "→ Prob (Not Sarcastic): 0.9937 | Prob (Sarcastic): 0.0063\n"
     ]
    },
    {
     "name": "stderr",
     "output_type": "stream",
     "text": [
      " 12%|█▏        | 596/5000 [00:25<04:57, 14.82it/s]"
     ]
    },
    {
     "name": "stdout",
     "output_type": "stream",
     "text": [
      "Text: Oh great, another this movie. Just what I needed.\n",
      "→ Prob (Not Sarcastic): 0.8728 | Prob (Sarcastic): 0.1272\n",
      "Text: Oh great, another this movie. Just what I needed.\n",
      "→ Prob (Not Sarcastic): 0.8728 | Prob (Sarcastic): 0.1272\n",
      "Text: I just love when my new phone happens.\n",
      "→ Prob (Not Sarcastic): 0.9900 | Prob (Sarcastic): 0.0100\n",
      "Text: I just love when my new phone happens.\n",
      "→ Prob (Not Sarcastic): 0.9900 | Prob (Sarcastic): 0.0100\n",
      "Text: this book are truly inspiring.\n",
      "→ Prob (Not Sarcastic): 0.9917 | Prob (Sarcastic): 0.0083\n",
      "Text: this book are truly inspiring.\n",
      "→ Prob (Not Sarcastic): 0.9917 | Prob (Sarcastic): 0.0083\n",
      "Text: Everyone loves musicians, right?\n",
      "→ Prob (Not Sarcastic): 0.9892 | Prob (Sarcastic): 0.0108\n",
      "Text: Everyone loves musicians, right?\n",
      "→ Prob (Not Sarcastic): 0.9892 | Prob (Sarcastic): 0.0108\n"
     ]
    },
    {
     "name": "stderr",
     "output_type": "stream",
     "text": [
      " 12%|█▏        | 600/5000 [00:25<04:25, 16.60it/s]"
     ]
    },
    {
     "name": "stdout",
     "output_type": "stream",
     "text": [
      "Text: I am always excited for scientists.\n",
      "→ Prob (Not Sarcastic): 0.9880 | Prob (Sarcastic): 0.0120\n",
      "Text: I am always excited for scientists.\n",
      "→ Prob (Not Sarcastic): 0.9880 | Prob (Sarcastic): 0.0120\n",
      "Text: I find this book to be wonderful.\n",
      "→ Prob (Not Sarcastic): 0.9931 | Prob (Sarcastic): 0.0069\n",
      "Text: I find this book to be wonderful.\n",
      "→ Prob (Not Sarcastic): 0.9931 | Prob (Sarcastic): 0.0069\n",
      "Text: athletes are truly inspiring.\n",
      "→ Prob (Not Sarcastic): 0.9929 | Prob (Sarcastic): 0.0071\n",
      "Text: athletes are truly inspiring.\n",
      "→ Prob (Not Sarcastic): 0.9929 | Prob (Sarcastic): 0.0071\n",
      "Text: musicians are so wonderful, said no one ever.\n",
      "→ Prob (Not Sarcastic): 0.9289 | Prob (Sarcastic): 0.0711\n",
      "Text: musicians are so wonderful, said no one ever.\n",
      "→ Prob (Not Sarcastic): 0.9289 | Prob (Sarcastic): 0.0711\n",
      "Text: Nothing better than a the concert moment.\n",
      "→ Prob (Not Sarcastic): 0.9676 | Prob (Sarcastic): 0.0324\n",
      "Text: Nothing better than a the concert moment.\n",
      "→ Prob (Not Sarcastic): 0.9676 | Prob (Sarcastic): 0.0324\n"
     ]
    },
    {
     "name": "stderr",
     "output_type": "stream",
     "text": [
      " 12%|█▏        | 606/5000 [00:25<04:29, 16.33it/s]"
     ]
    },
    {
     "name": "stdout",
     "output_type": "stream",
     "text": [
      "Text: Had a great time with my new phone.\n",
      "→ Prob (Not Sarcastic): 0.9822 | Prob (Sarcastic): 0.0178\n",
      "Text: Had a great time with my new phone.\n",
      "→ Prob (Not Sarcastic): 0.9822 | Prob (Sarcastic): 0.0178\n",
      "Text: Can't wait for more of scientists.\n",
      "→ Prob (Not Sarcastic): 0.6898 | Prob (Sarcastic): 0.3102\n",
      "Text: Can't wait for more of scientists.\n",
      "→ Prob (Not Sarcastic): 0.6898 | Prob (Sarcastic): 0.3102\n",
      "Text: Because this book really make everything better.\n",
      "→ Prob (Not Sarcastic): 0.9935 | Prob (Sarcastic): 0.0065\n",
      "Text: Because this book really make everything better.\n",
      "→ Prob (Not Sarcastic): 0.9935 | Prob (Sarcastic): 0.0065\n",
      "Text: engineers are so wonderful, said no one ever.\n",
      "→ Prob (Not Sarcastic): 0.9043 | Prob (Sarcastic): 0.0957\n",
      "Text: engineers are so wonderful, said no one ever.\n",
      "→ Prob (Not Sarcastic): 0.9043 | Prob (Sarcastic): 0.0957\n",
      "Text: engineers are so wonderful, said no one ever.\n",
      "→ Prob (Not Sarcastic): 0.9043 | Prob (Sarcastic): 0.0957\n",
      "Text: engineers are so wonderful, said no one ever.\n",
      "→ Prob (Not Sarcastic): 0.9043 | Prob (Sarcastic): 0.0957\n"
     ]
    },
    {
     "name": "stderr",
     "output_type": "stream",
     "text": [
      " 12%|█▏        | 611/5000 [00:26<04:13, 17.33it/s]"
     ]
    },
    {
     "name": "stdout",
     "output_type": "stream",
     "text": [
      "Text: Had a engineers, best experience ever. Not.\n",
      "→ Prob (Not Sarcastic): 0.6910 | Prob (Sarcastic): 0.3090\n",
      "Text: Had a engineers, best experience ever. Not.\n",
      "→ Prob (Not Sarcastic): 0.6910 | Prob (Sarcastic): 0.3090\n",
      "Text: Because doctors really make everything better.\n",
      "→ Prob (Not Sarcastic): 0.9883 | Prob (Sarcastic): 0.0117\n",
      "Text: Because doctors really make everything better.\n",
      "→ Prob (Not Sarcastic): 0.9883 | Prob (Sarcastic): 0.0117\n",
      "Text: Had a great time with vegetarians.\n",
      "→ Prob (Not Sarcastic): 0.9873 | Prob (Sarcastic): 0.0127\n",
      "Text: Had a great time with vegetarians.\n",
      "→ Prob (Not Sarcastic): 0.9873 | Prob (Sarcastic): 0.0127\n",
      "Text: I genuinely love the concert.\n",
      "→ Prob (Not Sarcastic): 0.9918 | Prob (Sarcastic): 0.0082\n",
      "Text: I genuinely love the concert.\n",
      "→ Prob (Not Sarcastic): 0.9918 | Prob (Sarcastic): 0.0082\n"
     ]
    },
    {
     "name": "stderr",
     "output_type": "stream",
     "text": [
      " 12%|█▏        | 613/5000 [00:26<04:05, 17.88it/s]"
     ]
    },
    {
     "name": "stdout",
     "output_type": "stream",
     "text": [
      "Text: Had a great time with this book.\n",
      "→ Prob (Not Sarcastic): 0.9862 | Prob (Sarcastic): 0.0138\n",
      "Text: Had a great time with this book.\n",
      "→ Prob (Not Sarcastic): 0.9862 | Prob (Sarcastic): 0.0138\n",
      "Text: Nothing better than a athletes moment.\n",
      "→ Prob (Not Sarcastic): 0.9811 | Prob (Sarcastic): 0.0189\n",
      "Text: Nothing better than a athletes moment.\n",
      "→ Prob (Not Sarcastic): 0.9811 | Prob (Sarcastic): 0.0189\n",
      "Text: artists are genuinely amazing.\n",
      "→ Prob (Not Sarcastic): 0.9893 | Prob (Sarcastic): 0.0107\n",
      "Text: artists are genuinely amazing.\n",
      "→ Prob (Not Sarcastic): 0.9893 | Prob (Sarcastic): 0.0107\n"
     ]
    },
    {
     "name": "stderr",
     "output_type": "stream",
     "text": [
      " 12%|█▏        | 617/5000 [00:26<05:05, 14.33it/s]"
     ]
    },
    {
     "name": "stdout",
     "output_type": "stream",
     "text": [
      "Text: Because my new phone really make everything better.\n",
      "→ Prob (Not Sarcastic): 0.9914 | Prob (Sarcastic): 0.0086\n",
      "Text: Because my new phone really make everything better.\n",
      "→ Prob (Not Sarcastic): 0.9914 | Prob (Sarcastic): 0.0086\n",
      "Text: Oh great, another vegetarians. Just what I needed.\n",
      "→ Prob (Not Sarcastic): 0.9193 | Prob (Sarcastic): 0.0807\n",
      "Text: Oh great, another vegetarians. Just what I needed.\n",
      "→ Prob (Not Sarcastic): 0.9193 | Prob (Sarcastic): 0.0807\n",
      "Text: Everyone loves the conference, right?\n",
      "→ Prob (Not Sarcastic): 0.9912 | Prob (Sarcastic): 0.0088\n",
      "Text: Everyone loves the conference, right?\n",
      "→ Prob (Not Sarcastic): 0.9912 | Prob (Sarcastic): 0.0088\n",
      "Text: Oh great, another the workshop. Just what I needed.\n",
      "→ Prob (Not Sarcastic): 0.8565 | Prob (Sarcastic): 0.1435\n",
      "Text: Oh great, another the workshop. Just what I needed.\n",
      "→ Prob (Not Sarcastic): 0.8565 | Prob (Sarcastic): 0.1435\n"
     ]
    },
    {
     "name": "stderr",
     "output_type": "stream",
     "text": [
      " 12%|█▏        | 623/5000 [00:26<03:55, 18.59it/s]"
     ]
    },
    {
     "name": "stdout",
     "output_type": "stream",
     "text": [
      "Text: Because the game really make everything better.\n",
      "→ Prob (Not Sarcastic): 0.9946 | Prob (Sarcastic): 0.0054\n",
      "Text: Because the game really make everything better.\n",
      "→ Prob (Not Sarcastic): 0.9946 | Prob (Sarcastic): 0.0054\n",
      "Text: Had a the game, best experience ever. Not.\n",
      "→ Prob (Not Sarcastic): 0.7979 | Prob (Sarcastic): 0.2021\n",
      "Text: Had a the game, best experience ever. Not.\n",
      "→ Prob (Not Sarcastic): 0.7979 | Prob (Sarcastic): 0.2021\n",
      "Text: I genuinely love scientists.\n",
      "→ Prob (Not Sarcastic): 0.9890 | Prob (Sarcastic): 0.0110\n",
      "Text: I genuinely love scientists.\n",
      "→ Prob (Not Sarcastic): 0.9890 | Prob (Sarcastic): 0.0110\n",
      "Text: Nothing better than a athletes moment.\n",
      "→ Prob (Not Sarcastic): 0.9811 | Prob (Sarcastic): 0.0189\n",
      "Text: Nothing better than a athletes moment.\n",
      "→ Prob (Not Sarcastic): 0.9811 | Prob (Sarcastic): 0.0189\n",
      "Text: Can't wait for more of musicians.\n",
      "→ Prob (Not Sarcastic): 0.7716 | Prob (Sarcastic): 0.2284\n",
      "Text: Can't wait for more of musicians.\n",
      "→ Prob (Not Sarcastic): 0.7716 | Prob (Sarcastic): 0.2284\n"
     ]
    },
    {
     "name": "stderr",
     "output_type": "stream",
     "text": [
      " 13%|█▎        | 626/5000 [00:26<03:36, 20.16it/s]"
     ]
    },
    {
     "name": "stdout",
     "output_type": "stream",
     "text": [
      "Text: I just love when vegetarians happens.\n",
      "→ Prob (Not Sarcastic): 0.9901 | Prob (Sarcastic): 0.0099\n",
      "Text: I just love when vegetarians happens.\n",
      "→ Prob (Not Sarcastic): 0.9901 | Prob (Sarcastic): 0.0099\n",
      "Text: the game are so wonderful, said no one ever.\n",
      "→ Prob (Not Sarcastic): 0.9833 | Prob (Sarcastic): 0.0167\n",
      "Text: the game are so wonderful, said no one ever.\n",
      "→ Prob (Not Sarcastic): 0.9833 | Prob (Sarcastic): 0.0167\n",
      "Text: I find this book to be wonderful.\n",
      "→ Prob (Not Sarcastic): 0.9931 | Prob (Sarcastic): 0.0069\n",
      "Text: I find this book to be wonderful.\n",
      "→ Prob (Not Sarcastic): 0.9931 | Prob (Sarcastic): 0.0069\n",
      "Text: Nothing better than a the meal moment.\n",
      "→ Prob (Not Sarcastic): 0.9620 | Prob (Sarcastic): 0.0380\n",
      "Text: Nothing better than a the meal moment.\n",
      "→ Prob (Not Sarcastic): 0.9620 | Prob (Sarcastic): 0.0380\n",
      "Text: Nothing better than a scientists moment.\n",
      "→ Prob (Not Sarcastic): 0.9718 | Prob (Sarcastic): 0.0282\n",
      "Text: Nothing better than a scientists moment.\n",
      "→ Prob (Not Sarcastic): 0.9718 | Prob (Sarcastic): 0.0282\n"
     ]
    },
    {
     "name": "stderr",
     "output_type": "stream",
     "text": [
      " 13%|█▎        | 630/5000 [00:27<03:07, 23.28it/s]"
     ]
    },
    {
     "name": "stdout",
     "output_type": "stream",
     "text": [
      "Text: Oh great, another this book. Just what I needed.\n",
      "→ Prob (Not Sarcastic): 0.9500 | Prob (Sarcastic): 0.0500\n",
      "Text: Oh great, another this book. Just what I needed.\n",
      "→ Prob (Not Sarcastic): 0.9500 | Prob (Sarcastic): 0.0500\n",
      "Text: I genuinely love this book.\n",
      "→ Prob (Not Sarcastic): 0.9902 | Prob (Sarcastic): 0.0098\n",
      "Text: I genuinely love this book.\n",
      "→ Prob (Not Sarcastic): 0.9902 | Prob (Sarcastic): 0.0098\n"
     ]
    },
    {
     "name": "stderr",
     "output_type": "stream",
     "text": [
      "\n"
     ]
    },
    {
     "ename": "KeyboardInterrupt",
     "evalue": "",
     "output_type": "error",
     "traceback": [
      "\u001b[0;31m---------------------------------------------------------------------------\u001b[0m",
      "\u001b[0;31mKeyboardInterrupt\u001b[0m                         Traceback (most recent call last)",
      "Cell \u001b[0;32mIn[20], line 34\u001b[0m\n\u001b[1;32m     32\u001b[0m inputs \u001b[38;5;241m=\u001b[39m tokenizer(text, return_tensors\u001b[38;5;241m=\u001b[39m\u001b[38;5;124m\"\u001b[39m\u001b[38;5;124mpt\u001b[39m\u001b[38;5;124m\"\u001b[39m, truncation\u001b[38;5;241m=\u001b[39m\u001b[38;5;28;01mTrue\u001b[39;00m, padding\u001b[38;5;241m=\u001b[39m\u001b[38;5;124m\"\u001b[39m\u001b[38;5;124mmax_length\u001b[39m\u001b[38;5;124m\"\u001b[39m, max_length\u001b[38;5;241m=\u001b[39m\u001b[38;5;241m128\u001b[39m)\u001b[38;5;241m.\u001b[39mto(device)\n\u001b[1;32m     33\u001b[0m \u001b[38;5;28;01mwith\u001b[39;00m torch\u001b[38;5;241m.\u001b[39mno_grad():\n\u001b[0;32m---> 34\u001b[0m     logits \u001b[38;5;241m=\u001b[39m \u001b[43mmodel\u001b[49m\u001b[43m(\u001b[49m\u001b[38;5;241;43m*\u001b[39;49m\u001b[38;5;241;43m*\u001b[39;49m\u001b[43minputs\u001b[49m\u001b[43m)\u001b[49m\u001b[38;5;241m.\u001b[39mlogits\n\u001b[1;32m     35\u001b[0m     probs \u001b[38;5;241m=\u001b[39m softmax(logits\u001b[38;5;241m.\u001b[39mcpu()\u001b[38;5;241m.\u001b[39mnumpy(), axis\u001b[38;5;241m=\u001b[39m\u001b[38;5;241m1\u001b[39m)[\u001b[38;5;241m0\u001b[39m]  \u001b[38;5;66;03m# (2,) shape\u001b[39;00m\n\u001b[1;32m     37\u001b[0m not_sarcastic_prob \u001b[38;5;241m=\u001b[39m \u001b[38;5;28mfloat\u001b[39m(probs[\u001b[38;5;241m0\u001b[39m])\n",
      "File \u001b[0;32m~/Library/Python/3.9/lib/python/site-packages/torch/nn/modules/module.py:1739\u001b[0m, in \u001b[0;36mModule._wrapped_call_impl\u001b[0;34m(self, *args, **kwargs)\u001b[0m\n\u001b[1;32m   1737\u001b[0m     \u001b[38;5;28;01mreturn\u001b[39;00m \u001b[38;5;28mself\u001b[39m\u001b[38;5;241m.\u001b[39m_compiled_call_impl(\u001b[38;5;241m*\u001b[39margs, \u001b[38;5;241m*\u001b[39m\u001b[38;5;241m*\u001b[39mkwargs)  \u001b[38;5;66;03m# type: ignore[misc]\u001b[39;00m\n\u001b[1;32m   1738\u001b[0m \u001b[38;5;28;01melse\u001b[39;00m:\n\u001b[0;32m-> 1739\u001b[0m     \u001b[38;5;28;01mreturn\u001b[39;00m \u001b[38;5;28;43mself\u001b[39;49m\u001b[38;5;241;43m.\u001b[39;49m\u001b[43m_call_impl\u001b[49m\u001b[43m(\u001b[49m\u001b[38;5;241;43m*\u001b[39;49m\u001b[43margs\u001b[49m\u001b[43m,\u001b[49m\u001b[43m \u001b[49m\u001b[38;5;241;43m*\u001b[39;49m\u001b[38;5;241;43m*\u001b[39;49m\u001b[43mkwargs\u001b[49m\u001b[43m)\u001b[49m\n",
      "File \u001b[0;32m~/Library/Python/3.9/lib/python/site-packages/torch/nn/modules/module.py:1750\u001b[0m, in \u001b[0;36mModule._call_impl\u001b[0;34m(self, *args, **kwargs)\u001b[0m\n\u001b[1;32m   1745\u001b[0m \u001b[38;5;66;03m# If we don't have any hooks, we want to skip the rest of the logic in\u001b[39;00m\n\u001b[1;32m   1746\u001b[0m \u001b[38;5;66;03m# this function, and just call forward.\u001b[39;00m\n\u001b[1;32m   1747\u001b[0m \u001b[38;5;28;01mif\u001b[39;00m \u001b[38;5;129;01mnot\u001b[39;00m (\u001b[38;5;28mself\u001b[39m\u001b[38;5;241m.\u001b[39m_backward_hooks \u001b[38;5;129;01mor\u001b[39;00m \u001b[38;5;28mself\u001b[39m\u001b[38;5;241m.\u001b[39m_backward_pre_hooks \u001b[38;5;129;01mor\u001b[39;00m \u001b[38;5;28mself\u001b[39m\u001b[38;5;241m.\u001b[39m_forward_hooks \u001b[38;5;129;01mor\u001b[39;00m \u001b[38;5;28mself\u001b[39m\u001b[38;5;241m.\u001b[39m_forward_pre_hooks\n\u001b[1;32m   1748\u001b[0m         \u001b[38;5;129;01mor\u001b[39;00m _global_backward_pre_hooks \u001b[38;5;129;01mor\u001b[39;00m _global_backward_hooks\n\u001b[1;32m   1749\u001b[0m         \u001b[38;5;129;01mor\u001b[39;00m _global_forward_hooks \u001b[38;5;129;01mor\u001b[39;00m _global_forward_pre_hooks):\n\u001b[0;32m-> 1750\u001b[0m     \u001b[38;5;28;01mreturn\u001b[39;00m \u001b[43mforward_call\u001b[49m\u001b[43m(\u001b[49m\u001b[38;5;241;43m*\u001b[39;49m\u001b[43margs\u001b[49m\u001b[43m,\u001b[49m\u001b[43m \u001b[49m\u001b[38;5;241;43m*\u001b[39;49m\u001b[38;5;241;43m*\u001b[39;49m\u001b[43mkwargs\u001b[49m\u001b[43m)\u001b[49m\n\u001b[1;32m   1752\u001b[0m result \u001b[38;5;241m=\u001b[39m \u001b[38;5;28;01mNone\u001b[39;00m\n\u001b[1;32m   1753\u001b[0m called_always_called_hooks \u001b[38;5;241m=\u001b[39m \u001b[38;5;28mset\u001b[39m()\n",
      "File \u001b[0;32m~/Library/Python/3.9/lib/python/site-packages/transformers/models/bert/modeling_bert.py:1673\u001b[0m, in \u001b[0;36mBertForSequenceClassification.forward\u001b[0;34m(self, input_ids, attention_mask, token_type_ids, position_ids, head_mask, inputs_embeds, labels, output_attentions, output_hidden_states, return_dict)\u001b[0m\n\u001b[1;32m   1665\u001b[0m \u001b[38;5;250m\u001b[39m\u001b[38;5;124mr\u001b[39m\u001b[38;5;124;03m\"\"\"\u001b[39;00m\n\u001b[1;32m   1666\u001b[0m \u001b[38;5;124;03mlabels (`torch.LongTensor` of shape `(batch_size,)`, *optional*):\u001b[39;00m\n\u001b[1;32m   1667\u001b[0m \u001b[38;5;124;03m    Labels for computing the sequence classification/regression loss. Indices should be in `[0, ...,\u001b[39;00m\n\u001b[1;32m   1668\u001b[0m \u001b[38;5;124;03m    config.num_labels - 1]`. If `config.num_labels == 1` a regression loss is computed (Mean-Square loss), If\u001b[39;00m\n\u001b[1;32m   1669\u001b[0m \u001b[38;5;124;03m    `config.num_labels > 1` a classification loss is computed (Cross-Entropy).\u001b[39;00m\n\u001b[1;32m   1670\u001b[0m \u001b[38;5;124;03m\"\"\"\u001b[39;00m\n\u001b[1;32m   1671\u001b[0m return_dict \u001b[38;5;241m=\u001b[39m return_dict \u001b[38;5;28;01mif\u001b[39;00m return_dict \u001b[38;5;129;01mis\u001b[39;00m \u001b[38;5;129;01mnot\u001b[39;00m \u001b[38;5;28;01mNone\u001b[39;00m \u001b[38;5;28;01melse\u001b[39;00m \u001b[38;5;28mself\u001b[39m\u001b[38;5;241m.\u001b[39mconfig\u001b[38;5;241m.\u001b[39muse_return_dict\n\u001b[0;32m-> 1673\u001b[0m outputs \u001b[38;5;241m=\u001b[39m \u001b[38;5;28;43mself\u001b[39;49m\u001b[38;5;241;43m.\u001b[39;49m\u001b[43mbert\u001b[49m\u001b[43m(\u001b[49m\n\u001b[1;32m   1674\u001b[0m \u001b[43m    \u001b[49m\u001b[43minput_ids\u001b[49m\u001b[43m,\u001b[49m\n\u001b[1;32m   1675\u001b[0m \u001b[43m    \u001b[49m\u001b[43mattention_mask\u001b[49m\u001b[38;5;241;43m=\u001b[39;49m\u001b[43mattention_mask\u001b[49m\u001b[43m,\u001b[49m\n\u001b[1;32m   1676\u001b[0m \u001b[43m    \u001b[49m\u001b[43mtoken_type_ids\u001b[49m\u001b[38;5;241;43m=\u001b[39;49m\u001b[43mtoken_type_ids\u001b[49m\u001b[43m,\u001b[49m\n\u001b[1;32m   1677\u001b[0m \u001b[43m    \u001b[49m\u001b[43mposition_ids\u001b[49m\u001b[38;5;241;43m=\u001b[39;49m\u001b[43mposition_ids\u001b[49m\u001b[43m,\u001b[49m\n\u001b[1;32m   1678\u001b[0m \u001b[43m    \u001b[49m\u001b[43mhead_mask\u001b[49m\u001b[38;5;241;43m=\u001b[39;49m\u001b[43mhead_mask\u001b[49m\u001b[43m,\u001b[49m\n\u001b[1;32m   1679\u001b[0m \u001b[43m    \u001b[49m\u001b[43minputs_embeds\u001b[49m\u001b[38;5;241;43m=\u001b[39;49m\u001b[43minputs_embeds\u001b[49m\u001b[43m,\u001b[49m\n\u001b[1;32m   1680\u001b[0m \u001b[43m    \u001b[49m\u001b[43moutput_attentions\u001b[49m\u001b[38;5;241;43m=\u001b[39;49m\u001b[43moutput_attentions\u001b[49m\u001b[43m,\u001b[49m\n\u001b[1;32m   1681\u001b[0m \u001b[43m    \u001b[49m\u001b[43moutput_hidden_states\u001b[49m\u001b[38;5;241;43m=\u001b[39;49m\u001b[43moutput_hidden_states\u001b[49m\u001b[43m,\u001b[49m\n\u001b[1;32m   1682\u001b[0m \u001b[43m    \u001b[49m\u001b[43mreturn_dict\u001b[49m\u001b[38;5;241;43m=\u001b[39;49m\u001b[43mreturn_dict\u001b[49m\u001b[43m,\u001b[49m\n\u001b[1;32m   1683\u001b[0m \u001b[43m\u001b[49m\u001b[43m)\u001b[49m\n\u001b[1;32m   1685\u001b[0m pooled_output \u001b[38;5;241m=\u001b[39m outputs[\u001b[38;5;241m1\u001b[39m]\n\u001b[1;32m   1687\u001b[0m pooled_output \u001b[38;5;241m=\u001b[39m \u001b[38;5;28mself\u001b[39m\u001b[38;5;241m.\u001b[39mdropout(pooled_output)\n",
      "File \u001b[0;32m~/Library/Python/3.9/lib/python/site-packages/torch/nn/modules/module.py:1739\u001b[0m, in \u001b[0;36mModule._wrapped_call_impl\u001b[0;34m(self, *args, **kwargs)\u001b[0m\n\u001b[1;32m   1737\u001b[0m     \u001b[38;5;28;01mreturn\u001b[39;00m \u001b[38;5;28mself\u001b[39m\u001b[38;5;241m.\u001b[39m_compiled_call_impl(\u001b[38;5;241m*\u001b[39margs, \u001b[38;5;241m*\u001b[39m\u001b[38;5;241m*\u001b[39mkwargs)  \u001b[38;5;66;03m# type: ignore[misc]\u001b[39;00m\n\u001b[1;32m   1738\u001b[0m \u001b[38;5;28;01melse\u001b[39;00m:\n\u001b[0;32m-> 1739\u001b[0m     \u001b[38;5;28;01mreturn\u001b[39;00m \u001b[38;5;28;43mself\u001b[39;49m\u001b[38;5;241;43m.\u001b[39;49m\u001b[43m_call_impl\u001b[49m\u001b[43m(\u001b[49m\u001b[38;5;241;43m*\u001b[39;49m\u001b[43margs\u001b[49m\u001b[43m,\u001b[49m\u001b[43m \u001b[49m\u001b[38;5;241;43m*\u001b[39;49m\u001b[38;5;241;43m*\u001b[39;49m\u001b[43mkwargs\u001b[49m\u001b[43m)\u001b[49m\n",
      "File \u001b[0;32m~/Library/Python/3.9/lib/python/site-packages/torch/nn/modules/module.py:1750\u001b[0m, in \u001b[0;36mModule._call_impl\u001b[0;34m(self, *args, **kwargs)\u001b[0m\n\u001b[1;32m   1745\u001b[0m \u001b[38;5;66;03m# If we don't have any hooks, we want to skip the rest of the logic in\u001b[39;00m\n\u001b[1;32m   1746\u001b[0m \u001b[38;5;66;03m# this function, and just call forward.\u001b[39;00m\n\u001b[1;32m   1747\u001b[0m \u001b[38;5;28;01mif\u001b[39;00m \u001b[38;5;129;01mnot\u001b[39;00m (\u001b[38;5;28mself\u001b[39m\u001b[38;5;241m.\u001b[39m_backward_hooks \u001b[38;5;129;01mor\u001b[39;00m \u001b[38;5;28mself\u001b[39m\u001b[38;5;241m.\u001b[39m_backward_pre_hooks \u001b[38;5;129;01mor\u001b[39;00m \u001b[38;5;28mself\u001b[39m\u001b[38;5;241m.\u001b[39m_forward_hooks \u001b[38;5;129;01mor\u001b[39;00m \u001b[38;5;28mself\u001b[39m\u001b[38;5;241m.\u001b[39m_forward_pre_hooks\n\u001b[1;32m   1748\u001b[0m         \u001b[38;5;129;01mor\u001b[39;00m _global_backward_pre_hooks \u001b[38;5;129;01mor\u001b[39;00m _global_backward_hooks\n\u001b[1;32m   1749\u001b[0m         \u001b[38;5;129;01mor\u001b[39;00m _global_forward_hooks \u001b[38;5;129;01mor\u001b[39;00m _global_forward_pre_hooks):\n\u001b[0;32m-> 1750\u001b[0m     \u001b[38;5;28;01mreturn\u001b[39;00m \u001b[43mforward_call\u001b[49m\u001b[43m(\u001b[49m\u001b[38;5;241;43m*\u001b[39;49m\u001b[43margs\u001b[49m\u001b[43m,\u001b[49m\u001b[43m \u001b[49m\u001b[38;5;241;43m*\u001b[39;49m\u001b[38;5;241;43m*\u001b[39;49m\u001b[43mkwargs\u001b[49m\u001b[43m)\u001b[49m\n\u001b[1;32m   1752\u001b[0m result \u001b[38;5;241m=\u001b[39m \u001b[38;5;28;01mNone\u001b[39;00m\n\u001b[1;32m   1753\u001b[0m called_always_called_hooks \u001b[38;5;241m=\u001b[39m \u001b[38;5;28mset\u001b[39m()\n",
      "File \u001b[0;32m~/Library/Python/3.9/lib/python/site-packages/transformers/models/bert/modeling_bert.py:1142\u001b[0m, in \u001b[0;36mBertModel.forward\u001b[0;34m(self, input_ids, attention_mask, token_type_ids, position_ids, head_mask, inputs_embeds, encoder_hidden_states, encoder_attention_mask, past_key_values, use_cache, output_attentions, output_hidden_states, return_dict)\u001b[0m\n\u001b[1;32m   1135\u001b[0m \u001b[38;5;66;03m# Prepare head mask if needed\u001b[39;00m\n\u001b[1;32m   1136\u001b[0m \u001b[38;5;66;03m# 1.0 in head_mask indicate we keep the head\u001b[39;00m\n\u001b[1;32m   1137\u001b[0m \u001b[38;5;66;03m# attention_probs has shape bsz x n_heads x N x N\u001b[39;00m\n\u001b[1;32m   1138\u001b[0m \u001b[38;5;66;03m# input head_mask has shape [num_heads] or [num_hidden_layers x num_heads]\u001b[39;00m\n\u001b[1;32m   1139\u001b[0m \u001b[38;5;66;03m# and head_mask is converted to shape [num_hidden_layers x batch x num_heads x seq_length x seq_length]\u001b[39;00m\n\u001b[1;32m   1140\u001b[0m head_mask \u001b[38;5;241m=\u001b[39m \u001b[38;5;28mself\u001b[39m\u001b[38;5;241m.\u001b[39mget_head_mask(head_mask, \u001b[38;5;28mself\u001b[39m\u001b[38;5;241m.\u001b[39mconfig\u001b[38;5;241m.\u001b[39mnum_hidden_layers)\n\u001b[0;32m-> 1142\u001b[0m encoder_outputs \u001b[38;5;241m=\u001b[39m \u001b[38;5;28;43mself\u001b[39;49m\u001b[38;5;241;43m.\u001b[39;49m\u001b[43mencoder\u001b[49m\u001b[43m(\u001b[49m\n\u001b[1;32m   1143\u001b[0m \u001b[43m    \u001b[49m\u001b[43membedding_output\u001b[49m\u001b[43m,\u001b[49m\n\u001b[1;32m   1144\u001b[0m \u001b[43m    \u001b[49m\u001b[43mattention_mask\u001b[49m\u001b[38;5;241;43m=\u001b[39;49m\u001b[43mextended_attention_mask\u001b[49m\u001b[43m,\u001b[49m\n\u001b[1;32m   1145\u001b[0m \u001b[43m    \u001b[49m\u001b[43mhead_mask\u001b[49m\u001b[38;5;241;43m=\u001b[39;49m\u001b[43mhead_mask\u001b[49m\u001b[43m,\u001b[49m\n\u001b[1;32m   1146\u001b[0m \u001b[43m    \u001b[49m\u001b[43mencoder_hidden_states\u001b[49m\u001b[38;5;241;43m=\u001b[39;49m\u001b[43mencoder_hidden_states\u001b[49m\u001b[43m,\u001b[49m\n\u001b[1;32m   1147\u001b[0m \u001b[43m    \u001b[49m\u001b[43mencoder_attention_mask\u001b[49m\u001b[38;5;241;43m=\u001b[39;49m\u001b[43mencoder_extended_attention_mask\u001b[49m\u001b[43m,\u001b[49m\n\u001b[1;32m   1148\u001b[0m \u001b[43m    \u001b[49m\u001b[43mpast_key_values\u001b[49m\u001b[38;5;241;43m=\u001b[39;49m\u001b[43mpast_key_values\u001b[49m\u001b[43m,\u001b[49m\n\u001b[1;32m   1149\u001b[0m \u001b[43m    \u001b[49m\u001b[43muse_cache\u001b[49m\u001b[38;5;241;43m=\u001b[39;49m\u001b[43muse_cache\u001b[49m\u001b[43m,\u001b[49m\n\u001b[1;32m   1150\u001b[0m \u001b[43m    \u001b[49m\u001b[43moutput_attentions\u001b[49m\u001b[38;5;241;43m=\u001b[39;49m\u001b[43moutput_attentions\u001b[49m\u001b[43m,\u001b[49m\n\u001b[1;32m   1151\u001b[0m \u001b[43m    \u001b[49m\u001b[43moutput_hidden_states\u001b[49m\u001b[38;5;241;43m=\u001b[39;49m\u001b[43moutput_hidden_states\u001b[49m\u001b[43m,\u001b[49m\n\u001b[1;32m   1152\u001b[0m \u001b[43m    \u001b[49m\u001b[43mreturn_dict\u001b[49m\u001b[38;5;241;43m=\u001b[39;49m\u001b[43mreturn_dict\u001b[49m\u001b[43m,\u001b[49m\n\u001b[1;32m   1153\u001b[0m \u001b[43m\u001b[49m\u001b[43m)\u001b[49m\n\u001b[1;32m   1154\u001b[0m sequence_output \u001b[38;5;241m=\u001b[39m encoder_outputs[\u001b[38;5;241m0\u001b[39m]\n\u001b[1;32m   1155\u001b[0m pooled_output \u001b[38;5;241m=\u001b[39m \u001b[38;5;28mself\u001b[39m\u001b[38;5;241m.\u001b[39mpooler(sequence_output) \u001b[38;5;28;01mif\u001b[39;00m \u001b[38;5;28mself\u001b[39m\u001b[38;5;241m.\u001b[39mpooler \u001b[38;5;129;01mis\u001b[39;00m \u001b[38;5;129;01mnot\u001b[39;00m \u001b[38;5;28;01mNone\u001b[39;00m \u001b[38;5;28;01melse\u001b[39;00m \u001b[38;5;28;01mNone\u001b[39;00m\n",
      "File \u001b[0;32m~/Library/Python/3.9/lib/python/site-packages/torch/nn/modules/module.py:1739\u001b[0m, in \u001b[0;36mModule._wrapped_call_impl\u001b[0;34m(self, *args, **kwargs)\u001b[0m\n\u001b[1;32m   1737\u001b[0m     \u001b[38;5;28;01mreturn\u001b[39;00m \u001b[38;5;28mself\u001b[39m\u001b[38;5;241m.\u001b[39m_compiled_call_impl(\u001b[38;5;241m*\u001b[39margs, \u001b[38;5;241m*\u001b[39m\u001b[38;5;241m*\u001b[39mkwargs)  \u001b[38;5;66;03m# type: ignore[misc]\u001b[39;00m\n\u001b[1;32m   1738\u001b[0m \u001b[38;5;28;01melse\u001b[39;00m:\n\u001b[0;32m-> 1739\u001b[0m     \u001b[38;5;28;01mreturn\u001b[39;00m \u001b[38;5;28;43mself\u001b[39;49m\u001b[38;5;241;43m.\u001b[39;49m\u001b[43m_call_impl\u001b[49m\u001b[43m(\u001b[49m\u001b[38;5;241;43m*\u001b[39;49m\u001b[43margs\u001b[49m\u001b[43m,\u001b[49m\u001b[43m \u001b[49m\u001b[38;5;241;43m*\u001b[39;49m\u001b[38;5;241;43m*\u001b[39;49m\u001b[43mkwargs\u001b[49m\u001b[43m)\u001b[49m\n",
      "File \u001b[0;32m~/Library/Python/3.9/lib/python/site-packages/torch/nn/modules/module.py:1750\u001b[0m, in \u001b[0;36mModule._call_impl\u001b[0;34m(self, *args, **kwargs)\u001b[0m\n\u001b[1;32m   1745\u001b[0m \u001b[38;5;66;03m# If we don't have any hooks, we want to skip the rest of the logic in\u001b[39;00m\n\u001b[1;32m   1746\u001b[0m \u001b[38;5;66;03m# this function, and just call forward.\u001b[39;00m\n\u001b[1;32m   1747\u001b[0m \u001b[38;5;28;01mif\u001b[39;00m \u001b[38;5;129;01mnot\u001b[39;00m (\u001b[38;5;28mself\u001b[39m\u001b[38;5;241m.\u001b[39m_backward_hooks \u001b[38;5;129;01mor\u001b[39;00m \u001b[38;5;28mself\u001b[39m\u001b[38;5;241m.\u001b[39m_backward_pre_hooks \u001b[38;5;129;01mor\u001b[39;00m \u001b[38;5;28mself\u001b[39m\u001b[38;5;241m.\u001b[39m_forward_hooks \u001b[38;5;129;01mor\u001b[39;00m \u001b[38;5;28mself\u001b[39m\u001b[38;5;241m.\u001b[39m_forward_pre_hooks\n\u001b[1;32m   1748\u001b[0m         \u001b[38;5;129;01mor\u001b[39;00m _global_backward_pre_hooks \u001b[38;5;129;01mor\u001b[39;00m _global_backward_hooks\n\u001b[1;32m   1749\u001b[0m         \u001b[38;5;129;01mor\u001b[39;00m _global_forward_hooks \u001b[38;5;129;01mor\u001b[39;00m _global_forward_pre_hooks):\n\u001b[0;32m-> 1750\u001b[0m     \u001b[38;5;28;01mreturn\u001b[39;00m \u001b[43mforward_call\u001b[49m\u001b[43m(\u001b[49m\u001b[38;5;241;43m*\u001b[39;49m\u001b[43margs\u001b[49m\u001b[43m,\u001b[49m\u001b[43m \u001b[49m\u001b[38;5;241;43m*\u001b[39;49m\u001b[38;5;241;43m*\u001b[39;49m\u001b[43mkwargs\u001b[49m\u001b[43m)\u001b[49m\n\u001b[1;32m   1752\u001b[0m result \u001b[38;5;241m=\u001b[39m \u001b[38;5;28;01mNone\u001b[39;00m\n\u001b[1;32m   1753\u001b[0m called_always_called_hooks \u001b[38;5;241m=\u001b[39m \u001b[38;5;28mset\u001b[39m()\n",
      "File \u001b[0;32m~/Library/Python/3.9/lib/python/site-packages/transformers/models/bert/modeling_bert.py:695\u001b[0m, in \u001b[0;36mBertEncoder.forward\u001b[0;34m(self, hidden_states, attention_mask, head_mask, encoder_hidden_states, encoder_attention_mask, past_key_values, use_cache, output_attentions, output_hidden_states, return_dict)\u001b[0m\n\u001b[1;32m    684\u001b[0m     layer_outputs \u001b[38;5;241m=\u001b[39m \u001b[38;5;28mself\u001b[39m\u001b[38;5;241m.\u001b[39m_gradient_checkpointing_func(\n\u001b[1;32m    685\u001b[0m         layer_module\u001b[38;5;241m.\u001b[39m\u001b[38;5;21m__call__\u001b[39m,\n\u001b[1;32m    686\u001b[0m         hidden_states,\n\u001b[0;32m   (...)\u001b[0m\n\u001b[1;32m    692\u001b[0m         output_attentions,\n\u001b[1;32m    693\u001b[0m     )\n\u001b[1;32m    694\u001b[0m \u001b[38;5;28;01melse\u001b[39;00m:\n\u001b[0;32m--> 695\u001b[0m     layer_outputs \u001b[38;5;241m=\u001b[39m \u001b[43mlayer_module\u001b[49m\u001b[43m(\u001b[49m\n\u001b[1;32m    696\u001b[0m \u001b[43m        \u001b[49m\u001b[43mhidden_states\u001b[49m\u001b[43m,\u001b[49m\n\u001b[1;32m    697\u001b[0m \u001b[43m        \u001b[49m\u001b[43mattention_mask\u001b[49m\u001b[43m,\u001b[49m\n\u001b[1;32m    698\u001b[0m \u001b[43m        \u001b[49m\u001b[43mlayer_head_mask\u001b[49m\u001b[43m,\u001b[49m\n\u001b[1;32m    699\u001b[0m \u001b[43m        \u001b[49m\u001b[43mencoder_hidden_states\u001b[49m\u001b[43m,\u001b[49m\n\u001b[1;32m    700\u001b[0m \u001b[43m        \u001b[49m\u001b[43mencoder_attention_mask\u001b[49m\u001b[43m,\u001b[49m\n\u001b[1;32m    701\u001b[0m \u001b[43m        \u001b[49m\u001b[43mpast_key_value\u001b[49m\u001b[43m,\u001b[49m\n\u001b[1;32m    702\u001b[0m \u001b[43m        \u001b[49m\u001b[43moutput_attentions\u001b[49m\u001b[43m,\u001b[49m\n\u001b[1;32m    703\u001b[0m \u001b[43m    \u001b[49m\u001b[43m)\u001b[49m\n\u001b[1;32m    705\u001b[0m hidden_states \u001b[38;5;241m=\u001b[39m layer_outputs[\u001b[38;5;241m0\u001b[39m]\n\u001b[1;32m    706\u001b[0m \u001b[38;5;28;01mif\u001b[39;00m use_cache:\n",
      "File \u001b[0;32m~/Library/Python/3.9/lib/python/site-packages/torch/nn/modules/module.py:1739\u001b[0m, in \u001b[0;36mModule._wrapped_call_impl\u001b[0;34m(self, *args, **kwargs)\u001b[0m\n\u001b[1;32m   1737\u001b[0m     \u001b[38;5;28;01mreturn\u001b[39;00m \u001b[38;5;28mself\u001b[39m\u001b[38;5;241m.\u001b[39m_compiled_call_impl(\u001b[38;5;241m*\u001b[39margs, \u001b[38;5;241m*\u001b[39m\u001b[38;5;241m*\u001b[39mkwargs)  \u001b[38;5;66;03m# type: ignore[misc]\u001b[39;00m\n\u001b[1;32m   1738\u001b[0m \u001b[38;5;28;01melse\u001b[39;00m:\n\u001b[0;32m-> 1739\u001b[0m     \u001b[38;5;28;01mreturn\u001b[39;00m \u001b[38;5;28;43mself\u001b[39;49m\u001b[38;5;241;43m.\u001b[39;49m\u001b[43m_call_impl\u001b[49m\u001b[43m(\u001b[49m\u001b[38;5;241;43m*\u001b[39;49m\u001b[43margs\u001b[49m\u001b[43m,\u001b[49m\u001b[43m \u001b[49m\u001b[38;5;241;43m*\u001b[39;49m\u001b[38;5;241;43m*\u001b[39;49m\u001b[43mkwargs\u001b[49m\u001b[43m)\u001b[49m\n",
      "File \u001b[0;32m~/Library/Python/3.9/lib/python/site-packages/torch/nn/modules/module.py:1750\u001b[0m, in \u001b[0;36mModule._call_impl\u001b[0;34m(self, *args, **kwargs)\u001b[0m\n\u001b[1;32m   1745\u001b[0m \u001b[38;5;66;03m# If we don't have any hooks, we want to skip the rest of the logic in\u001b[39;00m\n\u001b[1;32m   1746\u001b[0m \u001b[38;5;66;03m# this function, and just call forward.\u001b[39;00m\n\u001b[1;32m   1747\u001b[0m \u001b[38;5;28;01mif\u001b[39;00m \u001b[38;5;129;01mnot\u001b[39;00m (\u001b[38;5;28mself\u001b[39m\u001b[38;5;241m.\u001b[39m_backward_hooks \u001b[38;5;129;01mor\u001b[39;00m \u001b[38;5;28mself\u001b[39m\u001b[38;5;241m.\u001b[39m_backward_pre_hooks \u001b[38;5;129;01mor\u001b[39;00m \u001b[38;5;28mself\u001b[39m\u001b[38;5;241m.\u001b[39m_forward_hooks \u001b[38;5;129;01mor\u001b[39;00m \u001b[38;5;28mself\u001b[39m\u001b[38;5;241m.\u001b[39m_forward_pre_hooks\n\u001b[1;32m   1748\u001b[0m         \u001b[38;5;129;01mor\u001b[39;00m _global_backward_pre_hooks \u001b[38;5;129;01mor\u001b[39;00m _global_backward_hooks\n\u001b[1;32m   1749\u001b[0m         \u001b[38;5;129;01mor\u001b[39;00m _global_forward_hooks \u001b[38;5;129;01mor\u001b[39;00m _global_forward_pre_hooks):\n\u001b[0;32m-> 1750\u001b[0m     \u001b[38;5;28;01mreturn\u001b[39;00m \u001b[43mforward_call\u001b[49m\u001b[43m(\u001b[49m\u001b[38;5;241;43m*\u001b[39;49m\u001b[43margs\u001b[49m\u001b[43m,\u001b[49m\u001b[43m \u001b[49m\u001b[38;5;241;43m*\u001b[39;49m\u001b[38;5;241;43m*\u001b[39;49m\u001b[43mkwargs\u001b[49m\u001b[43m)\u001b[49m\n\u001b[1;32m   1752\u001b[0m result \u001b[38;5;241m=\u001b[39m \u001b[38;5;28;01mNone\u001b[39;00m\n\u001b[1;32m   1753\u001b[0m called_always_called_hooks \u001b[38;5;241m=\u001b[39m \u001b[38;5;28mset\u001b[39m()\n",
      "File \u001b[0;32m~/Library/Python/3.9/lib/python/site-packages/transformers/models/bert/modeling_bert.py:627\u001b[0m, in \u001b[0;36mBertLayer.forward\u001b[0;34m(self, hidden_states, attention_mask, head_mask, encoder_hidden_states, encoder_attention_mask, past_key_value, output_attentions)\u001b[0m\n\u001b[1;32m    624\u001b[0m     cross_attn_present_key_value \u001b[38;5;241m=\u001b[39m cross_attention_outputs[\u001b[38;5;241m-\u001b[39m\u001b[38;5;241m1\u001b[39m]\n\u001b[1;32m    625\u001b[0m     present_key_value \u001b[38;5;241m=\u001b[39m present_key_value \u001b[38;5;241m+\u001b[39m cross_attn_present_key_value\n\u001b[0;32m--> 627\u001b[0m layer_output \u001b[38;5;241m=\u001b[39m \u001b[43mapply_chunking_to_forward\u001b[49m\u001b[43m(\u001b[49m\n\u001b[1;32m    628\u001b[0m \u001b[43m    \u001b[49m\u001b[38;5;28;43mself\u001b[39;49m\u001b[38;5;241;43m.\u001b[39;49m\u001b[43mfeed_forward_chunk\u001b[49m\u001b[43m,\u001b[49m\u001b[43m \u001b[49m\u001b[38;5;28;43mself\u001b[39;49m\u001b[38;5;241;43m.\u001b[39;49m\u001b[43mchunk_size_feed_forward\u001b[49m\u001b[43m,\u001b[49m\u001b[43m \u001b[49m\u001b[38;5;28;43mself\u001b[39;49m\u001b[38;5;241;43m.\u001b[39;49m\u001b[43mseq_len_dim\u001b[49m\u001b[43m,\u001b[49m\u001b[43m \u001b[49m\u001b[43mattention_output\u001b[49m\n\u001b[1;32m    629\u001b[0m \u001b[43m\u001b[49m\u001b[43m)\u001b[49m\n\u001b[1;32m    630\u001b[0m outputs \u001b[38;5;241m=\u001b[39m (layer_output,) \u001b[38;5;241m+\u001b[39m outputs\n\u001b[1;32m    632\u001b[0m \u001b[38;5;66;03m# if decoder, return the attn key/values as the last output\u001b[39;00m\n",
      "File \u001b[0;32m~/Library/Python/3.9/lib/python/site-packages/transformers/pytorch_utils.py:257\u001b[0m, in \u001b[0;36mapply_chunking_to_forward\u001b[0;34m(forward_fn, chunk_size, chunk_dim, *input_tensors)\u001b[0m\n\u001b[1;32m    254\u001b[0m     \u001b[38;5;66;03m# concatenate output at same dimension\u001b[39;00m\n\u001b[1;32m    255\u001b[0m     \u001b[38;5;28;01mreturn\u001b[39;00m torch\u001b[38;5;241m.\u001b[39mcat(output_chunks, dim\u001b[38;5;241m=\u001b[39mchunk_dim)\n\u001b[0;32m--> 257\u001b[0m \u001b[38;5;28;01mreturn\u001b[39;00m \u001b[43mforward_fn\u001b[49m\u001b[43m(\u001b[49m\u001b[38;5;241;43m*\u001b[39;49m\u001b[43minput_tensors\u001b[49m\u001b[43m)\u001b[49m\n",
      "File \u001b[0;32m~/Library/Python/3.9/lib/python/site-packages/transformers/models/bert/modeling_bert.py:639\u001b[0m, in \u001b[0;36mBertLayer.feed_forward_chunk\u001b[0;34m(self, attention_output)\u001b[0m\n\u001b[1;32m    638\u001b[0m \u001b[38;5;28;01mdef\u001b[39;00m \u001b[38;5;21mfeed_forward_chunk\u001b[39m(\u001b[38;5;28mself\u001b[39m, attention_output):\n\u001b[0;32m--> 639\u001b[0m     intermediate_output \u001b[38;5;241m=\u001b[39m \u001b[38;5;28;43mself\u001b[39;49m\u001b[38;5;241;43m.\u001b[39;49m\u001b[43mintermediate\u001b[49m\u001b[43m(\u001b[49m\u001b[43mattention_output\u001b[49m\u001b[43m)\u001b[49m\n\u001b[1;32m    640\u001b[0m     layer_output \u001b[38;5;241m=\u001b[39m \u001b[38;5;28mself\u001b[39m\u001b[38;5;241m.\u001b[39moutput(intermediate_output, attention_output)\n\u001b[1;32m    641\u001b[0m     \u001b[38;5;28;01mreturn\u001b[39;00m layer_output\n",
      "File \u001b[0;32m~/Library/Python/3.9/lib/python/site-packages/torch/nn/modules/module.py:1739\u001b[0m, in \u001b[0;36mModule._wrapped_call_impl\u001b[0;34m(self, *args, **kwargs)\u001b[0m\n\u001b[1;32m   1737\u001b[0m     \u001b[38;5;28;01mreturn\u001b[39;00m \u001b[38;5;28mself\u001b[39m\u001b[38;5;241m.\u001b[39m_compiled_call_impl(\u001b[38;5;241m*\u001b[39margs, \u001b[38;5;241m*\u001b[39m\u001b[38;5;241m*\u001b[39mkwargs)  \u001b[38;5;66;03m# type: ignore[misc]\u001b[39;00m\n\u001b[1;32m   1738\u001b[0m \u001b[38;5;28;01melse\u001b[39;00m:\n\u001b[0;32m-> 1739\u001b[0m     \u001b[38;5;28;01mreturn\u001b[39;00m \u001b[38;5;28;43mself\u001b[39;49m\u001b[38;5;241;43m.\u001b[39;49m\u001b[43m_call_impl\u001b[49m\u001b[43m(\u001b[49m\u001b[38;5;241;43m*\u001b[39;49m\u001b[43margs\u001b[49m\u001b[43m,\u001b[49m\u001b[43m \u001b[49m\u001b[38;5;241;43m*\u001b[39;49m\u001b[38;5;241;43m*\u001b[39;49m\u001b[43mkwargs\u001b[49m\u001b[43m)\u001b[49m\n",
      "File \u001b[0;32m~/Library/Python/3.9/lib/python/site-packages/torch/nn/modules/module.py:1750\u001b[0m, in \u001b[0;36mModule._call_impl\u001b[0;34m(self, *args, **kwargs)\u001b[0m\n\u001b[1;32m   1745\u001b[0m \u001b[38;5;66;03m# If we don't have any hooks, we want to skip the rest of the logic in\u001b[39;00m\n\u001b[1;32m   1746\u001b[0m \u001b[38;5;66;03m# this function, and just call forward.\u001b[39;00m\n\u001b[1;32m   1747\u001b[0m \u001b[38;5;28;01mif\u001b[39;00m \u001b[38;5;129;01mnot\u001b[39;00m (\u001b[38;5;28mself\u001b[39m\u001b[38;5;241m.\u001b[39m_backward_hooks \u001b[38;5;129;01mor\u001b[39;00m \u001b[38;5;28mself\u001b[39m\u001b[38;5;241m.\u001b[39m_backward_pre_hooks \u001b[38;5;129;01mor\u001b[39;00m \u001b[38;5;28mself\u001b[39m\u001b[38;5;241m.\u001b[39m_forward_hooks \u001b[38;5;129;01mor\u001b[39;00m \u001b[38;5;28mself\u001b[39m\u001b[38;5;241m.\u001b[39m_forward_pre_hooks\n\u001b[1;32m   1748\u001b[0m         \u001b[38;5;129;01mor\u001b[39;00m _global_backward_pre_hooks \u001b[38;5;129;01mor\u001b[39;00m _global_backward_hooks\n\u001b[1;32m   1749\u001b[0m         \u001b[38;5;129;01mor\u001b[39;00m _global_forward_hooks \u001b[38;5;129;01mor\u001b[39;00m _global_forward_pre_hooks):\n\u001b[0;32m-> 1750\u001b[0m     \u001b[38;5;28;01mreturn\u001b[39;00m \u001b[43mforward_call\u001b[49m\u001b[43m(\u001b[49m\u001b[38;5;241;43m*\u001b[39;49m\u001b[43margs\u001b[49m\u001b[43m,\u001b[49m\u001b[43m \u001b[49m\u001b[38;5;241;43m*\u001b[39;49m\u001b[38;5;241;43m*\u001b[39;49m\u001b[43mkwargs\u001b[49m\u001b[43m)\u001b[49m\n\u001b[1;32m   1752\u001b[0m result \u001b[38;5;241m=\u001b[39m \u001b[38;5;28;01mNone\u001b[39;00m\n\u001b[1;32m   1753\u001b[0m called_always_called_hooks \u001b[38;5;241m=\u001b[39m \u001b[38;5;28mset\u001b[39m()\n",
      "File \u001b[0;32m~/Library/Python/3.9/lib/python/site-packages/transformers/models/bert/modeling_bert.py:539\u001b[0m, in \u001b[0;36mBertIntermediate.forward\u001b[0;34m(self, hidden_states)\u001b[0m\n\u001b[1;32m    538\u001b[0m \u001b[38;5;28;01mdef\u001b[39;00m \u001b[38;5;21mforward\u001b[39m(\u001b[38;5;28mself\u001b[39m, hidden_states: torch\u001b[38;5;241m.\u001b[39mTensor) \u001b[38;5;241m-\u001b[39m\u001b[38;5;241m>\u001b[39m torch\u001b[38;5;241m.\u001b[39mTensor:\n\u001b[0;32m--> 539\u001b[0m     hidden_states \u001b[38;5;241m=\u001b[39m \u001b[38;5;28;43mself\u001b[39;49m\u001b[38;5;241;43m.\u001b[39;49m\u001b[43mdense\u001b[49m\u001b[43m(\u001b[49m\u001b[43mhidden_states\u001b[49m\u001b[43m)\u001b[49m\n\u001b[1;32m    540\u001b[0m     hidden_states \u001b[38;5;241m=\u001b[39m \u001b[38;5;28mself\u001b[39m\u001b[38;5;241m.\u001b[39mintermediate_act_fn(hidden_states)\n\u001b[1;32m    541\u001b[0m     \u001b[38;5;28;01mreturn\u001b[39;00m hidden_states\n",
      "File \u001b[0;32m~/Library/Python/3.9/lib/python/site-packages/torch/nn/modules/module.py:1739\u001b[0m, in \u001b[0;36mModule._wrapped_call_impl\u001b[0;34m(self, *args, **kwargs)\u001b[0m\n\u001b[1;32m   1737\u001b[0m     \u001b[38;5;28;01mreturn\u001b[39;00m \u001b[38;5;28mself\u001b[39m\u001b[38;5;241m.\u001b[39m_compiled_call_impl(\u001b[38;5;241m*\u001b[39margs, \u001b[38;5;241m*\u001b[39m\u001b[38;5;241m*\u001b[39mkwargs)  \u001b[38;5;66;03m# type: ignore[misc]\u001b[39;00m\n\u001b[1;32m   1738\u001b[0m \u001b[38;5;28;01melse\u001b[39;00m:\n\u001b[0;32m-> 1739\u001b[0m     \u001b[38;5;28;01mreturn\u001b[39;00m \u001b[38;5;28;43mself\u001b[39;49m\u001b[38;5;241;43m.\u001b[39;49m\u001b[43m_call_impl\u001b[49m\u001b[43m(\u001b[49m\u001b[38;5;241;43m*\u001b[39;49m\u001b[43margs\u001b[49m\u001b[43m,\u001b[49m\u001b[43m \u001b[49m\u001b[38;5;241;43m*\u001b[39;49m\u001b[38;5;241;43m*\u001b[39;49m\u001b[43mkwargs\u001b[49m\u001b[43m)\u001b[49m\n",
      "File \u001b[0;32m~/Library/Python/3.9/lib/python/site-packages/torch/nn/modules/module.py:1750\u001b[0m, in \u001b[0;36mModule._call_impl\u001b[0;34m(self, *args, **kwargs)\u001b[0m\n\u001b[1;32m   1745\u001b[0m \u001b[38;5;66;03m# If we don't have any hooks, we want to skip the rest of the logic in\u001b[39;00m\n\u001b[1;32m   1746\u001b[0m \u001b[38;5;66;03m# this function, and just call forward.\u001b[39;00m\n\u001b[1;32m   1747\u001b[0m \u001b[38;5;28;01mif\u001b[39;00m \u001b[38;5;129;01mnot\u001b[39;00m (\u001b[38;5;28mself\u001b[39m\u001b[38;5;241m.\u001b[39m_backward_hooks \u001b[38;5;129;01mor\u001b[39;00m \u001b[38;5;28mself\u001b[39m\u001b[38;5;241m.\u001b[39m_backward_pre_hooks \u001b[38;5;129;01mor\u001b[39;00m \u001b[38;5;28mself\u001b[39m\u001b[38;5;241m.\u001b[39m_forward_hooks \u001b[38;5;129;01mor\u001b[39;00m \u001b[38;5;28mself\u001b[39m\u001b[38;5;241m.\u001b[39m_forward_pre_hooks\n\u001b[1;32m   1748\u001b[0m         \u001b[38;5;129;01mor\u001b[39;00m _global_backward_pre_hooks \u001b[38;5;129;01mor\u001b[39;00m _global_backward_hooks\n\u001b[1;32m   1749\u001b[0m         \u001b[38;5;129;01mor\u001b[39;00m _global_forward_hooks \u001b[38;5;129;01mor\u001b[39;00m _global_forward_pre_hooks):\n\u001b[0;32m-> 1750\u001b[0m     \u001b[38;5;28;01mreturn\u001b[39;00m \u001b[43mforward_call\u001b[49m\u001b[43m(\u001b[49m\u001b[38;5;241;43m*\u001b[39;49m\u001b[43margs\u001b[49m\u001b[43m,\u001b[49m\u001b[43m \u001b[49m\u001b[38;5;241;43m*\u001b[39;49m\u001b[38;5;241;43m*\u001b[39;49m\u001b[43mkwargs\u001b[49m\u001b[43m)\u001b[49m\n\u001b[1;32m   1752\u001b[0m result \u001b[38;5;241m=\u001b[39m \u001b[38;5;28;01mNone\u001b[39;00m\n\u001b[1;32m   1753\u001b[0m called_always_called_hooks \u001b[38;5;241m=\u001b[39m \u001b[38;5;28mset\u001b[39m()\n",
      "File \u001b[0;32m~/Library/Python/3.9/lib/python/site-packages/torch/nn/modules/linear.py:125\u001b[0m, in \u001b[0;36mLinear.forward\u001b[0;34m(self, input)\u001b[0m\n\u001b[1;32m    124\u001b[0m \u001b[38;5;28;01mdef\u001b[39;00m \u001b[38;5;21mforward\u001b[39m(\u001b[38;5;28mself\u001b[39m, \u001b[38;5;28minput\u001b[39m: Tensor) \u001b[38;5;241m-\u001b[39m\u001b[38;5;241m>\u001b[39m Tensor:\n\u001b[0;32m--> 125\u001b[0m     \u001b[38;5;28;01mreturn\u001b[39;00m \u001b[43mF\u001b[49m\u001b[38;5;241;43m.\u001b[39;49m\u001b[43mlinear\u001b[49m\u001b[43m(\u001b[49m\u001b[38;5;28;43minput\u001b[39;49m\u001b[43m,\u001b[49m\u001b[43m \u001b[49m\u001b[38;5;28;43mself\u001b[39;49m\u001b[38;5;241;43m.\u001b[39;49m\u001b[43mweight\u001b[49m\u001b[43m,\u001b[49m\u001b[43m \u001b[49m\u001b[38;5;28;43mself\u001b[39;49m\u001b[38;5;241;43m.\u001b[39;49m\u001b[43mbias\u001b[49m\u001b[43m)\u001b[49m\n",
      "\u001b[0;31mKeyboardInterrupt\u001b[0m: "
     ]
    }
   ],
   "source": [
    "import pandas as pd\n",
    "from transformers import AutoTokenizer, AutoModelForSequenceClassification\n",
    "from sklearn.metrics import classification_report\n",
    "from scipy.special import softmax\n",
    "import torch\n",
    "from tqdm import tqdm\n",
    "\n",
    "# ✅ Load the new dataset\n",
    "df = pd.read_csv(\"sarcasm_tweets.csv\")  # Replace with actual filename\n",
    "df = df.dropna(subset=[\"Tweet\", \"Sarcasm (yes/no)\"])\n",
    "\n",
    "# ✅ Convert labels to 0/1\n",
    "label_map = {\"no\": 0, \"yes\": 1}\n",
    "df[\"label\"] = df[\"Sarcasm (yes/no)\"].map(label_map)\n",
    "print(df[\"label\"])\n",
    "df[\"text\"] = df[\"Tweet\"].astype(str)\n",
    "\n",
    "# ✅ Load model\n",
    "model_name = \"helinivan/english-sarcasm-detector\"\n",
    "tokenizer = AutoTokenizer.from_pretrained(model_name)\n",
    "model = AutoModelForSequenceClassification.from_pretrained(model_name)\n",
    "\n",
    "device = torch.device(\"cuda\" if torch.cuda.is_available() else \"cpu\")\n",
    "model.to(device)\n",
    "model.eval()\n",
    "\n",
    "# ✅ Inference\n",
    "all_preds = []\n",
    "all_labels = df[\"label\"].tolist()\n",
    "\n",
    "for text in tqdm(df[\"text\"]):\n",
    "    inputs = tokenizer(text, return_tensors=\"pt\", truncation=True, padding=\"max_length\", max_length=128).to(device)\n",
    "    with torch.no_grad():\n",
    "        logits = model(**inputs).logits\n",
    "        probs = softmax(logits.cpu().numpy(), axis=1)[0]  # (2,) shape\n",
    "\n",
    "    not_sarcastic_prob = float(probs[0])\n",
    "    sarcastic_prob = float(probs[1])\n",
    "\n",
    "    print(f\"Text: {text}\")\n",
    "    print(f\"→ Prob (Not Sarcastic): {not_sarcastic_prob:.4f} | Prob (Sarcastic): {sarcastic_prob:.4f}\")\n",
    "\n",
    "    \n",
    "    print(f\"Text: {text}\")\n",
    "    print(f\"→ Prob (Not Sarcastic): {probs[0].item():.4f} | Prob (Sarcastic): {probs[1].item():.4f}\")\n",
    "    all_preds.append(pred)\n",
    "\n",
    "# ✅ Evaluation\n",
    "print(\"\\nClassification Report:\")\n",
    "print(classification_report(all_labels, all_preds, target_names=[\"Not Sarcastic\", \"Sarcastic\"]))\n"
   ]
  },
  {
   "cell_type": "code",
   "execution_count": 12,
   "metadata": {},
   "outputs": [
    {
     "ename": "ConnectionError",
     "evalue": "Couldn't reach 'nikesh66/Sarcasm-dataset' on the Hub (LocalEntryNotFoundError)",
     "output_type": "error",
     "traceback": [
      "\u001b[0;31m---------------------------------------------------------------------------\u001b[0m",
      "\u001b[0;31mConnectionError\u001b[0m                           Traceback (most recent call last)",
      "Cell \u001b[0;32mIn[12], line 9\u001b[0m\n\u001b[1;32m      6\u001b[0m \u001b[38;5;28;01mfrom\u001b[39;00m \u001b[38;5;21;01mscipy\u001b[39;00m\u001b[38;5;21;01m.\u001b[39;00m\u001b[38;5;21;01mspecial\u001b[39;00m \u001b[38;5;28;01mimport\u001b[39;00m softmax\n\u001b[1;32m      8\u001b[0m \u001b[38;5;66;03m# ✅ Load the sarcasm dataset\u001b[39;00m\n\u001b[0;32m----> 9\u001b[0m dataset \u001b[38;5;241m=\u001b[39m \u001b[43mload_dataset\u001b[49m\u001b[43m(\u001b[49m\u001b[38;5;124;43m\"\u001b[39;49m\u001b[38;5;124;43mnikesh66/Sarcasm-dataset\u001b[39;49m\u001b[38;5;124;43m\"\u001b[39;49m\u001b[43m)\u001b[49m\n\u001b[1;32m     10\u001b[0m df \u001b[38;5;241m=\u001b[39m dataset[\u001b[38;5;124m\"\u001b[39m\u001b[38;5;124mtrain\u001b[39m\u001b[38;5;124m\"\u001b[39m]\u001b[38;5;241m.\u001b[39mto_pandas()\n\u001b[1;32m     11\u001b[0m df \u001b[38;5;241m=\u001b[39m df\u001b[38;5;241m.\u001b[39mdropna()\n",
      "File \u001b[0;32m~/Library/Python/3.9/lib/python/site-packages/datasets/load.py:2061\u001b[0m, in \u001b[0;36mload_dataset\u001b[0;34m(path, name, data_dir, data_files, split, cache_dir, features, download_config, download_mode, verification_mode, keep_in_memory, save_infos, revision, token, streaming, num_proc, storage_options, trust_remote_code, **config_kwargs)\u001b[0m\n\u001b[1;32m   2056\u001b[0m verification_mode \u001b[38;5;241m=\u001b[39m VerificationMode(\n\u001b[1;32m   2057\u001b[0m     (verification_mode \u001b[38;5;129;01mor\u001b[39;00m VerificationMode\u001b[38;5;241m.\u001b[39mBASIC_CHECKS) \u001b[38;5;28;01mif\u001b[39;00m \u001b[38;5;129;01mnot\u001b[39;00m save_infos \u001b[38;5;28;01melse\u001b[39;00m VerificationMode\u001b[38;5;241m.\u001b[39mALL_CHECKS\n\u001b[1;32m   2058\u001b[0m )\n\u001b[1;32m   2060\u001b[0m \u001b[38;5;66;03m# Create a dataset builder\u001b[39;00m\n\u001b[0;32m-> 2061\u001b[0m builder_instance \u001b[38;5;241m=\u001b[39m \u001b[43mload_dataset_builder\u001b[49m\u001b[43m(\u001b[49m\n\u001b[1;32m   2062\u001b[0m \u001b[43m    \u001b[49m\u001b[43mpath\u001b[49m\u001b[38;5;241;43m=\u001b[39;49m\u001b[43mpath\u001b[49m\u001b[43m,\u001b[49m\n\u001b[1;32m   2063\u001b[0m \u001b[43m    \u001b[49m\u001b[43mname\u001b[49m\u001b[38;5;241;43m=\u001b[39;49m\u001b[43mname\u001b[49m\u001b[43m,\u001b[49m\n\u001b[1;32m   2064\u001b[0m \u001b[43m    \u001b[49m\u001b[43mdata_dir\u001b[49m\u001b[38;5;241;43m=\u001b[39;49m\u001b[43mdata_dir\u001b[49m\u001b[43m,\u001b[49m\n\u001b[1;32m   2065\u001b[0m \u001b[43m    \u001b[49m\u001b[43mdata_files\u001b[49m\u001b[38;5;241;43m=\u001b[39;49m\u001b[43mdata_files\u001b[49m\u001b[43m,\u001b[49m\n\u001b[1;32m   2066\u001b[0m \u001b[43m    \u001b[49m\u001b[43mcache_dir\u001b[49m\u001b[38;5;241;43m=\u001b[39;49m\u001b[43mcache_dir\u001b[49m\u001b[43m,\u001b[49m\n\u001b[1;32m   2067\u001b[0m \u001b[43m    \u001b[49m\u001b[43mfeatures\u001b[49m\u001b[38;5;241;43m=\u001b[39;49m\u001b[43mfeatures\u001b[49m\u001b[43m,\u001b[49m\n\u001b[1;32m   2068\u001b[0m \u001b[43m    \u001b[49m\u001b[43mdownload_config\u001b[49m\u001b[38;5;241;43m=\u001b[39;49m\u001b[43mdownload_config\u001b[49m\u001b[43m,\u001b[49m\n\u001b[1;32m   2069\u001b[0m \u001b[43m    \u001b[49m\u001b[43mdownload_mode\u001b[49m\u001b[38;5;241;43m=\u001b[39;49m\u001b[43mdownload_mode\u001b[49m\u001b[43m,\u001b[49m\n\u001b[1;32m   2070\u001b[0m \u001b[43m    \u001b[49m\u001b[43mrevision\u001b[49m\u001b[38;5;241;43m=\u001b[39;49m\u001b[43mrevision\u001b[49m\u001b[43m,\u001b[49m\n\u001b[1;32m   2071\u001b[0m \u001b[43m    \u001b[49m\u001b[43mtoken\u001b[49m\u001b[38;5;241;43m=\u001b[39;49m\u001b[43mtoken\u001b[49m\u001b[43m,\u001b[49m\n\u001b[1;32m   2072\u001b[0m \u001b[43m    \u001b[49m\u001b[43mstorage_options\u001b[49m\u001b[38;5;241;43m=\u001b[39;49m\u001b[43mstorage_options\u001b[49m\u001b[43m,\u001b[49m\n\u001b[1;32m   2073\u001b[0m \u001b[43m    \u001b[49m\u001b[43mtrust_remote_code\u001b[49m\u001b[38;5;241;43m=\u001b[39;49m\u001b[43mtrust_remote_code\u001b[49m\u001b[43m,\u001b[49m\n\u001b[1;32m   2074\u001b[0m \u001b[43m    \u001b[49m\u001b[43m_require_default_config_name\u001b[49m\u001b[38;5;241;43m=\u001b[39;49m\u001b[43mname\u001b[49m\u001b[43m \u001b[49m\u001b[38;5;129;43;01mis\u001b[39;49;00m\u001b[43m \u001b[49m\u001b[38;5;28;43;01mNone\u001b[39;49;00m\u001b[43m,\u001b[49m\n\u001b[1;32m   2075\u001b[0m \u001b[43m    \u001b[49m\u001b[38;5;241;43m*\u001b[39;49m\u001b[38;5;241;43m*\u001b[39;49m\u001b[43mconfig_kwargs\u001b[49m\u001b[43m,\u001b[49m\n\u001b[1;32m   2076\u001b[0m \u001b[43m\u001b[49m\u001b[43m)\u001b[49m\n\u001b[1;32m   2078\u001b[0m \u001b[38;5;66;03m# Return iterable dataset in case of streaming\u001b[39;00m\n\u001b[1;32m   2079\u001b[0m \u001b[38;5;28;01mif\u001b[39;00m streaming:\n",
      "File \u001b[0;32m~/Library/Python/3.9/lib/python/site-packages/datasets/load.py:1781\u001b[0m, in \u001b[0;36mload_dataset_builder\u001b[0;34m(path, name, data_dir, data_files, cache_dir, features, download_config, download_mode, revision, token, storage_options, trust_remote_code, _require_default_config_name, **config_kwargs)\u001b[0m\n\u001b[1;32m   1779\u001b[0m     download_config \u001b[38;5;241m=\u001b[39m download_config\u001b[38;5;241m.\u001b[39mcopy() \u001b[38;5;28;01mif\u001b[39;00m download_config \u001b[38;5;28;01melse\u001b[39;00m DownloadConfig()\n\u001b[1;32m   1780\u001b[0m     download_config\u001b[38;5;241m.\u001b[39mstorage_options\u001b[38;5;241m.\u001b[39mupdate(storage_options)\n\u001b[0;32m-> 1781\u001b[0m dataset_module \u001b[38;5;241m=\u001b[39m \u001b[43mdataset_module_factory\u001b[49m\u001b[43m(\u001b[49m\n\u001b[1;32m   1782\u001b[0m \u001b[43m    \u001b[49m\u001b[43mpath\u001b[49m\u001b[43m,\u001b[49m\n\u001b[1;32m   1783\u001b[0m \u001b[43m    \u001b[49m\u001b[43mrevision\u001b[49m\u001b[38;5;241;43m=\u001b[39;49m\u001b[43mrevision\u001b[49m\u001b[43m,\u001b[49m\n\u001b[1;32m   1784\u001b[0m \u001b[43m    \u001b[49m\u001b[43mdownload_config\u001b[49m\u001b[38;5;241;43m=\u001b[39;49m\u001b[43mdownload_config\u001b[49m\u001b[43m,\u001b[49m\n\u001b[1;32m   1785\u001b[0m \u001b[43m    \u001b[49m\u001b[43mdownload_mode\u001b[49m\u001b[38;5;241;43m=\u001b[39;49m\u001b[43mdownload_mode\u001b[49m\u001b[43m,\u001b[49m\n\u001b[1;32m   1786\u001b[0m \u001b[43m    \u001b[49m\u001b[43mdata_dir\u001b[49m\u001b[38;5;241;43m=\u001b[39;49m\u001b[43mdata_dir\u001b[49m\u001b[43m,\u001b[49m\n\u001b[1;32m   1787\u001b[0m \u001b[43m    \u001b[49m\u001b[43mdata_files\u001b[49m\u001b[38;5;241;43m=\u001b[39;49m\u001b[43mdata_files\u001b[49m\u001b[43m,\u001b[49m\n\u001b[1;32m   1788\u001b[0m \u001b[43m    \u001b[49m\u001b[43mcache_dir\u001b[49m\u001b[38;5;241;43m=\u001b[39;49m\u001b[43mcache_dir\u001b[49m\u001b[43m,\u001b[49m\n\u001b[1;32m   1789\u001b[0m \u001b[43m    \u001b[49m\u001b[43mtrust_remote_code\u001b[49m\u001b[38;5;241;43m=\u001b[39;49m\u001b[43mtrust_remote_code\u001b[49m\u001b[43m,\u001b[49m\n\u001b[1;32m   1790\u001b[0m \u001b[43m    \u001b[49m\u001b[43m_require_default_config_name\u001b[49m\u001b[38;5;241;43m=\u001b[39;49m\u001b[43m_require_default_config_name\u001b[49m\u001b[43m,\u001b[49m\n\u001b[1;32m   1791\u001b[0m \u001b[43m    \u001b[49m\u001b[43m_require_custom_configs\u001b[49m\u001b[38;5;241;43m=\u001b[39;49m\u001b[38;5;28;43mbool\u001b[39;49m\u001b[43m(\u001b[49m\u001b[43mconfig_kwargs\u001b[49m\u001b[43m)\u001b[49m\u001b[43m,\u001b[49m\n\u001b[1;32m   1792\u001b[0m \u001b[43m\u001b[49m\u001b[43m)\u001b[49m\n\u001b[1;32m   1793\u001b[0m \u001b[38;5;66;03m# Get dataset builder class from the processing script\u001b[39;00m\n\u001b[1;32m   1794\u001b[0m builder_kwargs \u001b[38;5;241m=\u001b[39m dataset_module\u001b[38;5;241m.\u001b[39mbuilder_kwargs\n",
      "File \u001b[0;32m~/Library/Python/3.9/lib/python/site-packages/datasets/load.py:1663\u001b[0m, in \u001b[0;36mdataset_module_factory\u001b[0;34m(path, revision, download_config, download_mode, dynamic_modules_path, data_dir, data_files, cache_dir, trust_remote_code, _require_default_config_name, _require_custom_configs, **download_kwargs)\u001b[0m\n\u001b[1;32m   1658\u001b[0m                 \u001b[38;5;28;01melse\u001b[39;00m:\n\u001b[1;32m   1659\u001b[0m                     \u001b[38;5;28;01mraise\u001b[39;00m \u001b[38;5;167;01mFileNotFoundError\u001b[39;00m(\n\u001b[1;32m   1660\u001b[0m                         \u001b[38;5;124mf\u001b[39m\u001b[38;5;124m\"\u001b[39m\u001b[38;5;124mCouldn\u001b[39m\u001b[38;5;124m'\u001b[39m\u001b[38;5;124mt find any data file at \u001b[39m\u001b[38;5;132;01m{\u001b[39;00mrelative_to_absolute_path(path)\u001b[38;5;132;01m}\u001b[39;00m\u001b[38;5;124m. \u001b[39m\u001b[38;5;124m\"\u001b[39m\n\u001b[1;32m   1661\u001b[0m                         \u001b[38;5;124mf\u001b[39m\u001b[38;5;124m\"\u001b[39m\u001b[38;5;124mCouldn\u001b[39m\u001b[38;5;124m'\u001b[39m\u001b[38;5;124mt find \u001b[39m\u001b[38;5;124m'\u001b[39m\u001b[38;5;132;01m{\u001b[39;00mpath\u001b[38;5;132;01m}\u001b[39;00m\u001b[38;5;124m'\u001b[39m\u001b[38;5;124m on the Hugging Face Hub either: \u001b[39m\u001b[38;5;132;01m{\u001b[39;00m\u001b[38;5;28mtype\u001b[39m(e1)\u001b[38;5;241m.\u001b[39m\u001b[38;5;18m__name__\u001b[39m\u001b[38;5;132;01m}\u001b[39;00m\u001b[38;5;124m: \u001b[39m\u001b[38;5;132;01m{\u001b[39;00me1\u001b[38;5;132;01m}\u001b[39;00m\u001b[38;5;124m\"\u001b[39m\n\u001b[1;32m   1662\u001b[0m                     ) \u001b[38;5;28;01mfrom\u001b[39;00m \u001b[38;5;28;01mNone\u001b[39;00m\n\u001b[0;32m-> 1663\u001b[0m             \u001b[38;5;28;01mraise\u001b[39;00m e1 \u001b[38;5;28;01mfrom\u001b[39;00m \u001b[38;5;28;01mNone\u001b[39;00m\n\u001b[1;32m   1664\u001b[0m \u001b[38;5;28;01melif\u001b[39;00m trust_remote_code:\n\u001b[1;32m   1665\u001b[0m     \u001b[38;5;28;01mraise\u001b[39;00m \u001b[38;5;167;01mFileNotFoundError\u001b[39;00m(\n\u001b[1;32m   1666\u001b[0m         \u001b[38;5;124mf\u001b[39m\u001b[38;5;124m\"\u001b[39m\u001b[38;5;124mCouldn\u001b[39m\u001b[38;5;124m'\u001b[39m\u001b[38;5;124mt find a dataset script at \u001b[39m\u001b[38;5;132;01m{\u001b[39;00mrelative_to_absolute_path(combined_path)\u001b[38;5;132;01m}\u001b[39;00m\u001b[38;5;124m or any data file in the same directory.\u001b[39m\u001b[38;5;124m\"\u001b[39m\n\u001b[1;32m   1667\u001b[0m     )\n",
      "File \u001b[0;32m~/Library/Python/3.9/lib/python/site-packages/datasets/load.py:1550\u001b[0m, in \u001b[0;36mdataset_module_factory\u001b[0;34m(path, revision, download_config, download_mode, dynamic_modules_path, data_dir, data_files, cache_dir, trust_remote_code, _require_default_config_name, _require_custom_configs, **download_kwargs)\u001b[0m\n\u001b[1;32m   1541\u001b[0m \u001b[38;5;28;01mexcept\u001b[39;00m LocalEntryNotFoundError \u001b[38;5;28;01mas\u001b[39;00m e:\n\u001b[1;32m   1542\u001b[0m     \u001b[38;5;28;01mif\u001b[39;00m \u001b[38;5;28misinstance\u001b[39m(\n\u001b[1;32m   1543\u001b[0m         e\u001b[38;5;241m.\u001b[39m__cause__,\n\u001b[1;32m   1544\u001b[0m         (\n\u001b[0;32m   (...)\u001b[0m\n\u001b[1;32m   1548\u001b[0m         ),\n\u001b[1;32m   1549\u001b[0m     ):\n\u001b[0;32m-> 1550\u001b[0m         \u001b[38;5;28;01mraise\u001b[39;00m \u001b[38;5;167;01mConnectionError\u001b[39;00m(\u001b[38;5;124mf\u001b[39m\u001b[38;5;124m\"\u001b[39m\u001b[38;5;124mCouldn\u001b[39m\u001b[38;5;124m'\u001b[39m\u001b[38;5;124mt reach \u001b[39m\u001b[38;5;124m'\u001b[39m\u001b[38;5;132;01m{\u001b[39;00mpath\u001b[38;5;132;01m}\u001b[39;00m\u001b[38;5;124m'\u001b[39m\u001b[38;5;124m on the Hub (\u001b[39m\u001b[38;5;132;01m{\u001b[39;00me\u001b[38;5;241m.\u001b[39m\u001b[38;5;18m__class__\u001b[39m\u001b[38;5;241m.\u001b[39m\u001b[38;5;18m__name__\u001b[39m\u001b[38;5;132;01m}\u001b[39;00m\u001b[38;5;124m)\u001b[39m\u001b[38;5;124m\"\u001b[39m) \u001b[38;5;28;01mfrom\u001b[39;00m \u001b[38;5;21;01me\u001b[39;00m\n\u001b[1;32m   1551\u001b[0m     \u001b[38;5;28;01melse\u001b[39;00m:\n\u001b[1;32m   1552\u001b[0m         \u001b[38;5;28;01mraise\u001b[39;00m\n",
      "\u001b[0;31mConnectionError\u001b[0m: Couldn't reach 'nikesh66/Sarcasm-dataset' on the Hub (LocalEntryNotFoundError)"
     ]
    }
   ],
   "source": [
    "from datasets import load_dataset\n",
    "from transformers import AutoTokenizer, AutoModelForSequenceClassification\n",
    "import torch\n",
    "from tqdm import tqdm\n",
    "from sklearn.metrics import classification_report\n",
    "from scipy.special import softmax\n",
    "\n",
    "# ✅ Load the sarcasm dataset\n",
    "dataset = load_dataset(\"nikesh66/Sarcasm-dataset\")\n",
    "df = dataset[\"train\"].to_pandas()\n",
    "df = df.dropna()\n",
    "\n",
    "# ✅ Load model\n",
    "model_name = \"helinivan/english-sarcasm-detector\"\n",
    "tokenizer = AutoTokenizer.from_pretrained(model_name)\n",
    "model = AutoModelForSequenceClassification.from_pretrained(model_name)\n",
    "\n",
    "device = torch.device(\"cuda\" if torch.cuda.is_available() else \"cpu\")\n",
    "model.to(device)\n",
    "model.eval()\n",
    "\n",
    "# ✅ Inference\n",
    "all_preds, all_labels = [], df[\"label\"].tolist()\n",
    "\n",
    "for text in tqdm(df[\"text\"]):\n",
    "    inputs = tokenizer(text, return_tensors=\"pt\", truncation=True, padding=\"max_length\", max_length=128).to(device)\n",
    "    with torch.no_grad():\n",
    "        logits = model(**inputs).logits\n",
    "        probs = softmax(logits.cpu().numpy(), axis=1)\n",
    "        pred = probs.argmax(axis=1).item()\n",
    "    all_preds.append(pred)\n",
    "\n",
    "# ✅ Evaluation\n",
    "print(classification_report(all_labels, all_preds, target_names=[\"Not Sarcastic\", \"Sarcastic\"]))\n"
   ]
  },
  {
   "cell_type": "code",
   "execution_count": 5,
   "metadata": {},
   "outputs": [
    {
     "name": "stdout",
     "output_type": "stream",
     "text": [
      "               precision    recall  f1-score   support\n",
      "\n",
      "Not Sarcastic       0.96      0.95      0.95       474\n",
      "    Sarcastic       0.16      0.19      0.18        26\n",
      "\n",
      "     accuracy                           0.91       500\n",
      "    macro avg       0.56      0.57      0.56       500\n",
      " weighted avg       0.91      0.91      0.91       500\n",
      "\n"
     ]
    }
   ],
   "source": [
    "print(classification_report(all_labels, all_preds, target_names=[\"Not Sarcastic\", \"Sarcastic\"]))\n"
   ]
  },
  {
   "cell_type": "code",
   "execution_count": 6,
   "metadata": {},
   "outputs": [
    {
     "name": "stderr",
     "output_type": "stream",
     "text": [
      "  1%|          | 5/500 [00:00<00:21, 22.86it/s]"
     ]
    },
    {
     "name": "stdout",
     "output_type": "stream",
     "text": [
      "Text: Yeah, I get that argument. At this point, I'd prefer is she lived in NC as well.\n",
      "Model output: [[9.9999726e-01 2.7472411e-06]]\n",
      "Predicted label: Not Sarcastic\n",
      "\n",
      "Text: The blazers and Mavericks (The wests 5 and 6 seed) did not even carry a good enough record to make the playoffs in the east last year.\n",
      "Model output: [[9.99986529e-01 1.34658585e-05]]\n",
      "Predicted label: Not Sarcastic\n",
      "\n",
      "Text: They're favored to win.\n",
      "Model output: [[9.9997938e-01 2.0600482e-05]]\n",
      "Predicted label: Not Sarcastic\n",
      "\n",
      "Text: deadass don't kill my buzz\n",
      "Model output: [[9.999968e-01 3.186717e-06]]\n",
      "Predicted label: Not Sarcastic\n",
      "\n",
      "Text: Yep can confirm I saw the tool they use for that. It was made by our boy EASports_MUT\n",
      "Model output: [[0.5418085  0.45819154]]\n",
      "Predicted label: Not Sarcastic\n",
      "\n",
      "Text: do you find ariana grande sexy ?\n",
      "Model output: [[9.9999714e-01 2.8376687e-06]]\n",
      "Predicted label: Not Sarcastic\n",
      "\n"
     ]
    },
    {
     "name": "stderr",
     "output_type": "stream",
     "text": [
      "  2%|▏         | 11/500 [00:00<00:19, 24.46it/s]"
     ]
    },
    {
     "name": "stdout",
     "output_type": "stream",
     "text": [
      "Text: What's your weird or unsettling Trick or Treat story?\n",
      "Model output: [[9.9999702e-01 2.9691128e-06]]\n",
      "Predicted label: Not Sarcastic\n",
      "\n",
      "Text: Probably Sephiroth. I refuse to taint his greatness with *my* weak builds. He should equip *ONLY* the best TMs.\n",
      "Model output: [[0.00313464 0.99686533]]\n",
      "Predicted label: Sarcastic\n",
      "\n",
      "Text: What to upgrade? I have $500 to spend (mainly because it's my birthday on the 31st) and I'm not really sure what to upgrade. I don't have to spend all $500, I could spend as little or all of it if I want. Specs are: CPU: i5-6600K Cooler: CM 212 EVO RAM: 8GB Corsair Vengence LPX 2400MHz GPU: EVGA GTX 1070 SC Case: Corsair Spec Alpha PSU: EVGA P2 650w Storage: One 480 GB Corsair Force LE Monitor: BenQ XL2411Z Keyboard: Razer Blackwidow Tournament Edition What I'm thinking of right now is: -Get a 1TB WD Blue -Buy another 8GB of RAM -Replace my Razer Blackwidow with a keyboard with actual Cherry MX switches -Replace my case (Doesn't really offer features for good cable management) -Save up for a Volta Card\n",
      "Model output: [[9.9999738e-01 2.6085852e-06]]\n",
      "Predicted label: Not Sarcastic\n",
      "\n",
      "Text: Probably count Kanye out Since the rest of his tour is canceled, it doesn't seem in the cards. But he's also so unpredictable, it could change. Thankfully I saw him before he started canceling shows, going on long rants and showing up late. But I'd love to see him again, especially at Lolla. Thoughts?\n",
      "Model output: [[9.9999690e-01 3.0486326e-06]]\n",
      "Predicted label: Not Sarcastic\n",
      "\n",
      "Text: I bet if that money was poured into college debt or health debt relief, 81% of Americans would have been for it instead.\n",
      "Model output: [[8.069174e-06 9.999919e-01]]\n",
      "Predicted label: Sarcastic\n",
      "\n",
      "Text: James Shields Will Not Exercise Opt-Out Clause\n",
      "Model output: [[1.9421368e-05 9.9998057e-01]]\n",
      "Predicted label: Sarcastic\n",
      "\n"
     ]
    },
    {
     "name": "stderr",
     "output_type": "stream",
     "text": [
      "  3%|▎         | 17/500 [00:00<00:19, 24.53it/s]"
     ]
    },
    {
     "name": "stdout",
     "output_type": "stream",
     "text": [
      "Text: There's no time to worry about leaks when they gays are already out to get you.\n",
      "Model output: [[0.00993785 0.99006224]]\n",
      "Predicted label: Sarcastic\n",
      "\n",
      "Text: Team Specific Threads No matter how many articles you read or how many hours of Red Zone you watch nothing quite makes up for watching every play of a game. Would the members of this community/the mods be open to creating a sticky post that has a team individual thread for every team in the NFL where team specific conversation can take place and people that watch individual games can comment? We may even be able to get some guys from team specific subreddits to stop by and give us some new insight.\n",
      "Model output: [[9.9999726e-01 2.6868408e-06]]\n",
      "Predicted label: Not Sarcastic\n",
      "\n",
      "Text: Ill give you a hint. They commented in this thread\n",
      "Model output: [[9.9999702e-01 2.9653831e-06]]\n",
      "Predicted label: Not Sarcastic\n",
      "\n",
      "Text: Star Wars, easy. I'm not that bothered about Indiana Jones tbh\n",
      "Model output: [[9.9999130e-01 8.7604285e-06]]\n",
      "Predicted label: Not Sarcastic\n",
      "\n",
      "Text: You're adorable.\n",
      "Model output: [[9.9999559e-01 4.4441845e-06]]\n",
      "Predicted label: Not Sarcastic\n",
      "\n",
      "Text: He actually acts like a moody emo girl on twitter. He lashes out over incredibly petty things and takes it out on social media. He's a 70 year old man doing this, grow the fuck up and think of your dignity man.\n",
      "Model output: [[9.9999630e-01 3.6934587e-06]]\n",
      "Predicted label: Not Sarcastic\n",
      "\n"
     ]
    },
    {
     "name": "stderr",
     "output_type": "stream",
     "text": [
      "  5%|▍         | 23/500 [00:00<00:18, 25.14it/s]"
     ]
    },
    {
     "name": "stdout",
     "output_type": "stream",
     "text": [
      "Text: Clinton struggles to gain traction in Florida, despite spending - Clinton shocked money can't buy everything\n",
      "Model output: [[5.0234154e-04 9.9949765e-01]]\n",
      "Predicted label: Sarcastic\n",
      "\n",
      "Text: Is that the Older Clark and Older Lois?\n",
      "Model output: [[9.999924e-01 7.628212e-06]]\n",
      "Predicted label: Not Sarcastic\n",
      "\n",
      "Text: *Guilt roles over Mel, and he hesitates for a moment before pulling the girl into a hug.* \"Shhh, it's okay Tara. You two aren't going anywhere this time. Aurelia and I won't let that happen.\"\n",
      "Model output: [[9.9999678e-01 3.2279022e-06]]\n",
      "Predicted label: Not Sarcastic\n",
      "\n",
      "Text: They will never get the stability of the 3DS.\n",
      "Model output: [[2.1161936e-06 9.9999785e-01]]\n",
      "Predicted label: Sarcastic\n",
      "\n",
      "Text: I still doubt that \"all conservatives stand for is defeating liberals\". If you use the election of Trump as an example for the failure of modern conservatism, is it also fair to use the election of Hillary Clinton as a representative for modern Liberalism? I guess not. And the \"all conservatives stand for is defeating liberals\" could be applied vice versa if you only listen to people who are the loudest.\n",
      "Model output: [[9.999974e-01 2.611535e-06]]\n",
      "Predicted label: Not Sarcastic\n",
      "\n",
      "Text: Today Russian media tweeted out that Wikileaks had released more of Podesta's emails before Wikileaks even did it. There is some control here.\n",
      "Model output: [[0.00112713 0.9988728 ]]\n",
      "Predicted label: Sarcastic\n",
      "\n"
     ]
    },
    {
     "name": "stderr",
     "output_type": "stream",
     "text": [
      "  6%|▌         | 29/500 [00:01<00:18, 25.17it/s]"
     ]
    },
    {
     "name": "stdout",
     "output_type": "stream",
     "text": [
      "Text: Thank you, Jagex, for being cool Jagex has always been a cool company, and we could thank them for tons of things, but I just noticed that they don't charge your card as a recurring subscription. So many companies today do scummy things where they try to get you to sign up for something so they can bill you monthly and hope you'll forget about it, but Jagex only runs your subscription for as long as you purchased. I know it's nothing huge, but it's something I appreciate.\n",
      "Model output: [[9.9999702e-01 3.0175208e-06]]\n",
      "Predicted label: Not Sarcastic\n",
      "\n",
      "Text: 467 A lovely way!\n",
      "Model output: [[9.9999726e-01 2.7004376e-06]]\n",
      "Predicted label: Not Sarcastic\n",
      "\n",
      "Text: Jesus got\n",
      "Model output: [[9.998247e-01 1.753268e-04]]\n",
      "Predicted label: Not Sarcastic\n",
      "\n",
      "Text: \"You are like the end piece of bread in a loaf, everyone touches you but no one wants you.\"\n",
      "Model output: [[0.9239426  0.07605742]]\n",
      "Predicted label: Not Sarcastic\n",
      "\n",
      "Text: Found this under a box of porno mags well cleaning out a trailer...\n",
      "Model output: [[9.9991238e-01 8.7592656e-05]]\n",
      "Predicted label: Not Sarcastic\n",
      "\n",
      "Text: Who?\n",
      "Model output: [[0.3715801  0.62841994]]\n",
      "Predicted label: Sarcastic\n",
      "\n"
     ]
    },
    {
     "name": "stderr",
     "output_type": "stream",
     "text": [
      "  7%|▋         | 35/500 [00:01<00:18, 25.27it/s]"
     ]
    },
    {
     "name": "stdout",
     "output_type": "stream",
     "text": [
      "Text: but what format\n",
      "Model output: [[2.0780574e-06 9.9999797e-01]]\n",
      "Predicted label: Sarcastic\n",
      "\n",
      "Text: Pro tip - Fool around with worldy girls.\n",
      "Model output: [[7.1481559e-06 9.9999285e-01]]\n",
      "Predicted label: Sarcastic\n",
      "\n",
      "Text: *is confused why so many people dislike Nickelback.* Not that I'm a fan but imo the music is decent enough.\n",
      "Model output: [[9.999975e-01 2.544850e-06]]\n",
      "Predicted label: Not Sarcastic\n",
      "\n",
      "Text: The dumb thing is, they are risking their seller account, too.\n",
      "Model output: [[0.96808594 0.03191409]]\n",
      "Predicted label: Not Sarcastic\n",
      "\n",
      "Text: PGT: 9/4 vs. Indians All rants and angry posts go here. I'll start. Fuck Fernando Rodney\n",
      "Model output: [[9.9999714e-01 2.8188126e-06]]\n",
      "Predicted label: Not Sarcastic\n",
      "\n",
      "Text: This is a great response! Too bad about the lack of accolades.\n",
      "Model output: [[9.999908e-01 9.152531e-06]]\n",
      "Predicted label: Not Sarcastic\n",
      "\n"
     ]
    },
    {
     "name": "stderr",
     "output_type": "stream",
     "text": [
      "  8%|▊         | 41/500 [00:01<00:18, 25.38it/s]"
     ]
    },
    {
     "name": "stdout",
     "output_type": "stream",
     "text": [
      "Text: North Korea has never lied. Not once.\n",
      "Model output: [[9.99896526e-01 1.03463964e-04]]\n",
      "Predicted label: Not Sarcastic\n",
      "\n",
      "Text: Your house is burning down and you only have time to grab one thing ( not including family or pets ), what do you grab?\n",
      "Model output: [[9.9999738e-01 2.6710852e-06]]\n",
      "Predicted label: Not Sarcastic\n",
      "\n",
      "Text: Poor Dan. He looks like he needs some coffee or a energy drink. I don't think I've ever seen him be this quiet during a live stream.\n",
      "Model output: [[9.999690e-01 3.100771e-05]]\n",
      "Predicted label: Not Sarcastic\n",
      "\n",
      "Text: This season's NFC equivalent of the Browns is straight up BUTT FUCKING US. I don't know how to handle this.\n",
      "Model output: [[0.9988953  0.00110464]]\n",
      "Predicted label: Not Sarcastic\n",
      "\n",
      "Text: Umm yes! It was a huge scandal, do you not member?\n",
      "Model output: [[2.1873202e-06 9.9999785e-01]]\n",
      "Predicted label: Sarcastic\n",
      "\n",
      "Text: Hey... Don't you know that a convoluted unsupported theory which is only \"proven\" by a **Reddit comment** is a definite fact? I mean how can a simple explanation make more sense. Clearly the tinfoil hat explanation always make more sense, always.\n",
      "Model output: [[8.8886218e-06 9.9999106e-01]]\n",
      "Predicted label: Sarcastic\n",
      "\n"
     ]
    },
    {
     "name": "stderr",
     "output_type": "stream",
     "text": [
      "  9%|▉         | 47/500 [00:01<00:17, 25.26it/s]"
     ]
    },
    {
     "name": "stdout",
     "output_type": "stream",
     "text": [
      "Text: 1,571,048\n",
      "Model output: [[9.9999475e-01 5.2700207e-06]]\n",
      "Predicted label: Not Sarcastic\n",
      "\n",
      "Text: But i liked Xpascal better with tartle then with chowex\n",
      "Model output: [[8.4012863e-05 9.9991596e-01]]\n",
      "Predicted label: Sarcastic\n",
      "\n",
      "Text: Clinton campaign accuses FBI of 'blatant double standard'\n",
      "Model output: [[3.059698e-06 9.999969e-01]]\n",
      "Predicted label: Sarcastic\n",
      "\n",
      "Text: Anyone else think that it was interesting the way she mentioned that she had a tape recorder in her hand while he was assaulting her...\n",
      "Model output: [[0.06930923 0.93069077]]\n",
      "Predicted label: Sarcastic\n",
      "\n",
      "Text: This map makes it look like there's a giant, lush, fertile valley in the middle, just waiting to produce all the food the world could possibly eat. Instead of being the endless fucking wasteland of ice and tundra that stored Captain America for 65 years.\n",
      "Model output: [[9.9988139e-01 1.1859195e-04]]\n",
      "Predicted label: Not Sarcastic\n",
      "\n",
      "Text: What do you hate the most about the mainstream?\n",
      "Model output: [[2.9067662e-06 9.9999714e-01]]\n",
      "Predicted label: Sarcastic\n",
      "\n"
     ]
    },
    {
     "name": "stderr",
     "output_type": "stream",
     "text": [
      " 11%|█         | 53/500 [00:02<00:17, 25.41it/s]"
     ]
    },
    {
     "name": "stdout",
     "output_type": "stream",
     "text": [
      "Text: Random question, how much of a pain in the ass is the appeals process for grades in college? I have a teacher who won't give me my credit for the online homework because of an obvious technical glitch.\n",
      "Model output: [[9.9999714e-01 2.8097597e-06]]\n",
      "Predicted label: Not Sarcastic\n",
      "\n",
      "Text: Doug Marrone named Jaguars interim head coach.\n",
      "Model output: [[1.6304642e-04 9.9983692e-01]]\n",
      "Predicted label: Sarcastic\n",
      "\n",
      "Text: Dominus GT (4) Takumi RXT (3) Trinity (1) Loopers (2) Lime loopers (15) More inside Keys Takumi anubis (0.5 keys) Breakout snakeskin (0.5 keys) 2x CC2 (0.25 keys each) Polygonal boost (0.5 keys) 5 rare decals (1 key) Black witch hat (1 key) White wich hat (1 key) Also taking offers for the lime loopers\n",
      "Model output: [[9.999958e-01 4.187998e-06]]\n",
      "Predicted label: Not Sarcastic\n",
      "\n",
      "Text: You're hoping for a lot. It's a purpose built hardcore industrial monster. That thing will pretty much glow in the dark on sensors.\n",
      "Model output: [[9.9999690e-01 3.1434065e-06]]\n",
      "Predicted label: Not Sarcastic\n",
      "\n",
      "Text: How to spell ness... necc... Nessecary? Even my auto correct is used to me spelling it wrong.\n",
      "Model output: [[9.9999559e-01 4.3962004e-06]]\n",
      "Predicted label: Not Sarcastic\n",
      "\n"
     ]
    },
    {
     "name": "stderr",
     "output_type": "stream",
     "text": [
      " 12%|█▏        | 59/500 [00:02<00:18, 24.00it/s]"
     ]
    },
    {
     "name": "stdout",
     "output_type": "stream",
     "text": [
      "Text: Since mushroom stew costs 50k and your initial KC cap is 40k, I'd say no. The only way to increase the KC limit is through the TDM menu, and you're gonna want to buy some mushroom stew before too long.\n",
      "Model output: [[9.9999726e-01 2.7805286e-06]]\n",
      "Predicted label: Not Sarcastic\n",
      "\n",
      "Text: You do know that the timer resets for each battle, right?\n",
      "Model output: [[0.99253136 0.00746861]]\n",
      "Predicted label: Not Sarcastic\n",
      "\n",
      "Text: Me: That'll be 5 happy meals for my fat kid...\n",
      "Model output: [[9.9999726e-01 2.7708854e-06]]\n",
      "Predicted label: Not Sarcastic\n",
      "\n",
      "Text: Honestly this reminds me of Stein's;Gate.\n",
      "Model output: [[9.9999726e-01 2.7319334e-06]]\n",
      "Predicted label: Not Sarcastic\n",
      "\n",
      "Text: I think you could make a bot that randomly posts GAP/ON/BR (20-40%) sales every day here and chances are it'd be right.\n",
      "Model output: [[9.9999738e-01 2.6198766e-06]]\n",
      "Predicted label: Not Sarcastic\n",
      "\n",
      "Text: She's speaking to the donor class and asks for understanding for the experiences of young people hurt by the recession. And we already knew she was the centrist and in turn the center is hopefully moving leftward. Everything she says here sounds reasonable to good to me.\n",
      "Model output: [[9.9998355e-01 1.6497957e-05]]\n",
      "Predicted label: Not Sarcastic\n",
      "\n"
     ]
    },
    {
     "name": "stderr",
     "output_type": "stream",
     "text": [
      " 13%|█▎        | 65/500 [00:02<00:17, 24.61it/s]"
     ]
    },
    {
     "name": "stdout",
     "output_type": "stream",
     "text": [
      "Text: John Lott: CDC 'Coding Error' Hid Record Low for Accidental Gun Deaths - Breitbart\n",
      "Model output: [[1.2130696e-05 9.9998784e-01]]\n",
      "Predicted label: Sarcastic\n",
      "\n",
      "Text: Only thing - Forev is playing carry. Not offlane. Febby back to support. Velo is still on the playing squad so he'll be offlane.\n",
      "Model output: [[9.9999714e-01 2.9061398e-06]]\n",
      "Predicted label: Not Sarcastic\n",
      "\n",
      "Text: 1. They got fucked by Riot (best of 2 format), so the have less games. 2. They can't afford the support staff because they don't have sponsors. 3. In my opinion the best of 1 group format also plays a big role, look at what a shitfest this whole worlds is so far with everyone beating everyone. EU actually looked pretty good in most of their games, they just don't know how to finish/they throw a lot.\n",
      "Model output: [[9.9999738e-01 2.6572786e-06]]\n",
      "Predicted label: Not Sarcastic\n",
      "\n",
      "Text: Popular YouTuber DemolitionRanch joins the masterrace\n",
      "Model output: [[2.2639831e-06 9.9999774e-01]]\n",
      "Predicted label: Sarcastic\n",
      "\n",
      "Text: By far the saddest event I've recieved\n",
      "Model output: [[7.945222e-05 9.999205e-01]]\n",
      "Predicted label: Sarcastic\n",
      "\n",
      "Text: Referencing something is not bad in any way. Most WoW players, myself included, found it funny.\n",
      "Model output: [[9.9999547e-01 4.5678430e-06]]\n",
      "Predicted label: Not Sarcastic\n",
      "\n"
     ]
    },
    {
     "name": "stderr",
     "output_type": "stream",
     "text": [
      " 14%|█▍        | 71/500 [00:02<00:17, 24.84it/s]"
     ]
    },
    {
     "name": "stdout",
     "output_type": "stream",
     "text": [
      "Text: SNW and the engagement BIL Hey gang! I found time to write a bit so here it goes! Remember BIL is dating now SIL and he's now thinking of marrying her. We were sitting in the room at the il's house just us three. BIL is talking to DH about it. SIL has a dog that she's had for years. It was a gift to her by her father when he became very ill, near death. The reality hit him that life is short and he decided to start making good on some of his promises before he died. He always told SIL he would get her a dog, they were a military family, and he'd always say the next place we move I'll get it for you. So he got her this dog at that time and she loves her dog and he has sentimental value to her. Now, BIL has not yet met this dog because you know it's serious when you meet the dog. BIL sates to DH: Well the dog has to go. I have allergies and I can't be living with a dog. I know the dog has sentimental meaning for her because of her dad but my health is more important than a dog. She's waiting for me to meet the dog because she wants him to slowly warm up to me. This is stupid, it's just a dog... I don't see what the big deal is. I want to marry her but if we get married we'll already have to get an apartment and that costs money there (both of them at the time were living with their parents and would meet each other for dates and such). If we keep the dog then we have to pay extra money for pet rent and I'm not paying extra money for a dog!!! DH is just nodding his head and listening (he's pretty laid back and quiet always like this guess it's true opposites attract). I'm thinking how rude is this guy? He wants to marry her and is supposed to love her but can't have compassion for what she loves??? I know he's SNOT JR. For sure. Anyway he meets the dog and they get engaged. They have all these big events that I find my way out of because I can't stand being around them. They had a family celebration right after he proposed and a joint couple shower. SNW knows how creative and crafty I am, especially after my wonderful diy wedding decor, so she asks me to help her decorate for the rehearsal dinner. I reluctantly agree to help her. DH and I have been married over 3 years at this point. SNW has never made any efforts to call, text, smoke signal, or communicate with me in any way or form any relationship with me. Can't remember if I posted about this before but I did invite her to an event to be the bigger person, but she basically fought me even giving it to her. The event was based on a book and I wanted to buy her the book and put the tickets inside as a Christmas gift. She was like oh I don't want a book. And then proceeded to text DH about how she doesn't want whatever I'm trying to get her, that he knows the type of gifts she likes and to stick to that. I was so angry... I was raised knowing when people get you a gift you accept because the person thought about you and took their time to get it for you so be grateful! Guess not everyone learned that. I still invite her after my moms advise but said well I was trying to do this for you but since you didn't want it I'm asking you now would you like to go with me. Then she's like oh I would love to go I had no idea thats what it was, super nice in front of everyone. We went to the event and she straight up did not talk to me the whole time and went off in her own during the intermissions. Sorry for going off topic but you get the point. Now all of a sudden she's blowing me up about this wedding rehearsal. She texts several times a day and calls about her ideas and sends me pics. She's always like Hi how are you then goes for what she wants... I'm not fooled at all, she never cared how I was doing for over three years. She says Oh well SIL and I have been talking about the plans and blah blah blah. Basically trying to run in my face that she talks to SIL all the time and she's being involved in the planning. unlike with my wedding, but that's because she got mad at me for not doing what she wanted and did CBF the rest of the time I was planning. I tell DH about this sudden change of behavior and how much involved SNW is in this wedding as compared to ours. He suggests well maybe because she has a good relationship with SIL she realizes she needs to do better with you and this is her way of reaching out to you... I say maybe but I know its all fake...\n",
      "Model output: [[9.9999750e-01 2.5403301e-06]]\n",
      "Predicted label: Not Sarcastic\n",
      "\n",
      "Text: Here's what happens when Obama gives up his Twitter account\n",
      "Model output: [[2.4375963e-06 9.9999762e-01]]\n",
      "Predicted label: Sarcastic\n",
      "\n",
      "Text: Bruh you fit rules 1 and 2 no homo\n",
      "Model output: [[3.3394343e-05 9.9996662e-01]]\n",
      "Predicted label: Sarcastic\n",
      "\n",
      "Text: is there still a difference nowadays?\n",
      "Model output: [[2.988931e-04 9.997011e-01]]\n",
      "Predicted label: Sarcastic\n",
      "\n",
      "Text: Monday night Drinking thread Brought to You by Infuriating capitalization Inconsistencies\n",
      "Model output: [[9.9999583e-01 4.1978983e-06]]\n",
      "Predicted label: Not Sarcastic\n",
      "\n",
      "Text: You win this round, Simpson\n",
      "Model output: [[9.9980932e-01 1.9066331e-04]]\n",
      "Predicted label: Not Sarcastic\n",
      "\n"
     ]
    },
    {
     "name": "stderr",
     "output_type": "stream",
     "text": [
      " 15%|█▌        | 77/500 [00:03<00:17, 24.81it/s]"
     ]
    },
    {
     "name": "stdout",
     "output_type": "stream",
     "text": [
      "Text: New anime pictures\n",
      "Model output: [[2.1529431e-06 9.9999785e-01]]\n",
      "Predicted label: Sarcastic\n",
      "\n",
      "Text: How baby is made.\n",
      "Model output: [[9.9999285e-01 7.1557060e-06]]\n",
      "Predicted label: Not Sarcastic\n",
      "\n",
      "Text: Nope. Game is doo-doo.\n",
      "Model output: [[9.9999702e-01 2.9289383e-06]]\n",
      "Predicted label: Not Sarcastic\n",
      "\n",
      "Text: except the 2012 lakers\n",
      "Model output: [[9.9992836e-01 7.1625400e-05]]\n",
      "Predicted label: Not Sarcastic\n",
      "\n",
      "Text: Live Discussion (October 1st, 2016) (Margot Robbie / The Weeknd) Welcome to the SNL season premiere live discussion thread! This week's host is Margot Robbie, and the musical guest is The Weeknd. A quick recommendation to mention the sketch you're referring to in your comment. It's not a hard and fast rule, but it does make the thread more readable after the show finishes. Since this thread is likely to fill up quickly, consider sorting the comments by \"new\" (instead of \"best\" or \"top\") to see the newest posts. Enjoy the show!\n",
      "Model output: [[9.9999714e-01 2.8492559e-06]]\n",
      "Predicted label: Not Sarcastic\n",
      "\n",
      "Text: A little self lovin can turn that 99 into a 100. Turn that frown upside down and beat it like it does you money!\n",
      "Model output: [[7.632087e-05 9.999237e-01]]\n",
      "Predicted label: Sarcastic\n",
      "\n"
     ]
    },
    {
     "name": "stderr",
     "output_type": "stream",
     "text": [
      " 17%|█▋        | 83/500 [00:03<00:16, 25.05it/s]"
     ]
    },
    {
     "name": "stdout",
     "output_type": "stream",
     "text": [
      "Text: I thought it was a Geo Prizm.\n",
      "Model output: [[2.2588631e-06 9.9999774e-01]]\n",
      "Predicted label: Sarcastic\n",
      "\n",
      "Text: For some reason I thought BOTH of those were Ryan. I was wrong, sorry y'all, I wasn't trying shit on Ryan, just pointing out how many things could go wrong in his care. But still, he isn't a safe driver was my point, and he doesn't make Bentley wear his seat belt.\n",
      "Model output: [[9.998173e-01 1.827473e-04]]\n",
      "Predicted label: Not Sarcastic\n",
      "\n",
      "Text: No, minimum $220 plus tax. You have to pay for a month of service.\n",
      "Model output: [[9.9998438e-01 1.5617745e-05]]\n",
      "Predicted label: Not Sarcastic\n",
      "\n",
      "Text: How much Drake represents the personality of Canadians?\n",
      "Model output: [[2.1247417e-06 9.9999785e-01]]\n",
      "Predicted label: Sarcastic\n",
      "\n",
      "Text: We're through the looking glass here people. BOR is echoing Obama on something.\n",
      "Model output: [[9.9999690e-01 3.0618464e-06]]\n",
      "Predicted label: Not Sarcastic\n",
      "\n",
      "Text: Turn signals are in cars for a reason. Why do people not use them?\n",
      "Model output: [[9.9978715e-01 2.1289263e-04]]\n",
      "Predicted label: Not Sarcastic\n",
      "\n"
     ]
    },
    {
     "name": "stderr",
     "output_type": "stream",
     "text": [
      " 18%|█▊        | 89/500 [00:03<00:16, 24.76it/s]"
     ]
    },
    {
     "name": "stdout",
     "output_type": "stream",
     "text": [
      "Text: I could scare the crap out of my kids with that clicky noise the predator makes. Id love to be able to do it.\n",
      "Model output: [[9.9994826e-01 5.1732808e-05]]\n",
      "Predicted label: Not Sarcastic\n",
      "\n",
      "Text: I second that, but an equal fav was when he booed at the convention and they rushed his wife out.\n",
      "Model output: [[9.9999750e-01 2.5588995e-06]]\n",
      "Predicted label: Not Sarcastic\n",
      "\n",
      "Text: Lmao, ayaw nya sa US but gusto niya ng aid. HAHAHAHA drahgs pa more\n",
      "Model output: [[2.3324803e-05 9.9997663e-01]]\n",
      "Predicted label: Sarcastic\n",
      "\n",
      "Text: Have you tried henna? completely different product altogether, and extremely low allergy rate.\n",
      "Model output: [[9.9997413e-01 2.5836565e-05]]\n",
      "Predicted label: Not Sarcastic\n",
      "\n",
      "Text: Youtube just is getting glorious 21:9 on their theater mode\n",
      "Model output: [[9.9999571e-01 4.2520182e-06]]\n",
      "Predicted label: Not Sarcastic\n",
      "\n",
      "Text: Congrats on casting the new live-action adaptation of A Pup Named Scooby-Doo.\n",
      "Model output: [[4.333013e-06 9.999957e-01]]\n",
      "Predicted label: Sarcastic\n",
      "\n"
     ]
    },
    {
     "name": "stderr",
     "output_type": "stream",
     "text": [
      " 19%|█▉        | 95/500 [00:03<00:16, 25.05it/s]"
     ]
    },
    {
     "name": "stdout",
     "output_type": "stream",
     "text": [
      "Text: We had the inverse of that this morning. Got woken up by an Amber Alert at 7:30 am.\n",
      "Model output: [[9.9999726e-01 2.7862809e-06]]\n",
      "Predicted label: Not Sarcastic\n",
      "\n",
      "Text: What actions by a person tells you that he or she is a newbie in a job hobby etc?\n",
      "Model output: [[9.9999690e-01 3.1230695e-06]]\n",
      "Predicted label: Not Sarcastic\n",
      "\n",
      "Text: I kinda hope Disney sell off some games rights to Sega so there can be a Total War: Star Wars.\n",
      "Model output: [[9.9999464e-01 5.3988447e-06]]\n",
      "Predicted label: Not Sarcastic\n",
      "\n",
      "Text: BM/Wheels/Crates Keys/Crates Add me if you want to speed things up. Feel free to leave an offer but mostly interested in keys and C3s Parallax 12Keys 2C3s 1Key Dom GT 4Keys Purple Sunburst 4Keys Tact Pulsus 3keys White Sunburst 5Keys Pink Invaders 4 Keys Cobalt/Lime/Pink Alchemist 2Keys Each 7 for all 4\n",
      "Model output: [[9.9999726e-01 2.7002316e-06]]\n",
      "Predicted label: Not Sarcastic\n",
      "\n",
      "Text: Duplicates? Can we get rid of them like in BO or do we keep getting the same crap? anybody know?\n",
      "Model output: [[9.9999726e-01 2.7568681e-06]]\n",
      "Predicted label: Not Sarcastic\n",
      "\n",
      "Text: I see that you are right. He is a big old doggo obviously\n",
      "Model output: [[0.998251   0.00174894]]\n",
      "Predicted label: Not Sarcastic\n",
      "\n"
     ]
    },
    {
     "name": "stderr",
     "output_type": "stream",
     "text": [
      " 20%|██        | 101/500 [00:04<00:15, 25.13it/s]"
     ]
    },
    {
     "name": "stdout",
     "output_type": "stream",
     "text": [
      "Text: 1,512,797\n",
      "Model output: [[9.9999464e-01 5.3832205e-06]]\n",
      "Predicted label: Not Sarcastic\n",
      "\n",
      "Text: Not wearing them means you have the brace on for longer.\n",
      "Model output: [[9.9999726e-01 2.7070566e-06]]\n",
      "Predicted label: Not Sarcastic\n",
      "\n",
      "Text: MetaCanada wins. Fuck\n",
      "Model output: [[0.00141771 0.99858224]]\n",
      "Predicted label: Sarcastic\n",
      "\n",
      "Text: I want that boat. I would only play NPR on low to medium volume\n",
      "Model output: [[9.9999738e-01 2.6741184e-06]]\n",
      "Predicted label: Not Sarcastic\n",
      "\n",
      "Text: Nevada is a good sign for the winner, fairly accurate to whoever wins, but not always. Az usually goes red, only being blue once on the past 65 years, even staying red during the '64 landslide.\n",
      "Model output: [[9.9999738e-01 2.5822667e-06]]\n",
      "Predicted label: Not Sarcastic\n",
      "\n",
      "Text: How does Yui learn guitar so fast? She can barely breathe without Ui's help.\n",
      "Model output: [[1.7601976e-04 9.9982399e-01]]\n",
      "Predicted label: Sarcastic\n",
      "\n"
     ]
    },
    {
     "name": "stderr",
     "output_type": "stream",
     "text": [
      " 21%|██▏       | 107/500 [00:04<00:15, 25.10it/s]"
     ]
    },
    {
     "name": "stdout",
     "output_type": "stream",
     "text": [
      "Text: Not only did she look good...she was the FUNNIEST of all the roasters....\n",
      "Model output: [[2.0752195e-06 9.9999797e-01]]\n",
      "Predicted label: Sarcastic\n",
      "\n",
      "Text: The issue of this topic aside, if you are to buy a new PSTV, I suggest doing so soon. They're obviously all discontinued, and the price is steadily going up on the things. As long as it's New In-Box, they're all guaranteed to be under 3.60 since they were discontinued late last year.\n",
      "Model output: [[9.9999666e-01 3.3937404e-06]]\n",
      "Predicted label: Not Sarcastic\n",
      "\n",
      "Text: For shrine, should I spend my shards on Self Care or Decisive Strike? Neither are on my shrine atm, but I'm wondering which would be a better investment. To help me choose, my playstyle is lone-wolf, non-altruistic. Using Prestige 1, Level 24 Nea as main.\n",
      "Model output: [[9.999974e-01 2.566512e-06]]\n",
      "Predicted label: Not Sarcastic\n",
      "\n",
      "Text: Not even double hearts? Weak.\n",
      "Model output: [[9.999522e-01 4.775682e-05]]\n",
      "Predicted label: Not Sarcastic\n",
      "\n",
      "Text: Yes. I mentioned this in a different comment, but yes. That's the whole problem. Lol\n",
      "Model output: [[9.9999738e-01 2.5997067e-06]]\n",
      "Predicted label: Not Sarcastic\n",
      "\n",
      "Text: Checkmate\n",
      "Model output: [[0.9972651  0.00273497]]\n",
      "Predicted label: Not Sarcastic\n",
      "\n"
     ]
    },
    {
     "name": "stderr",
     "output_type": "stream",
     "text": [
      " 23%|██▎       | 113/500 [00:04<00:15, 25.13it/s]"
     ]
    },
    {
     "name": "stdout",
     "output_type": "stream",
     "text": [
      "Text: Really? You haven't noticed that these leftist liberals swallow anything coming from Clinton's mouth? She literally could say anything rediculous and far fetched and they still will believe her. It's like a female Jim Jones running for president.\n",
      "Model output: [[9.9998283e-01 1.7222093e-05]]\n",
      "Predicted label: Not Sarcastic\n",
      "\n",
      "Text: ... you have fans that say that?\n",
      "Model output: [[9.9997544e-01 2.4500869e-05]]\n",
      "Predicted label: Not Sarcastic\n",
      "\n",
      "Text: (M)y 3 incher (be gentle, it's my first time)\n",
      "Model output: [[9.999969e-01 3.148504e-06]]\n",
      "Predicted label: Not Sarcastic\n",
      "\n",
      "Text: Yes, but Hillary won't care as soon as she wins.\n",
      "Model output: [[1.8172002e-05 9.9998188e-01]]\n",
      "Predicted label: Sarcastic\n",
      "\n",
      "Text: Dubai Zipline\n",
      "Model output: [[9.9998415e-01 1.5840737e-05]]\n",
      "Predicted label: Not Sarcastic\n",
      "\n",
      "Text: Yeah, that's probably why he doesn't have a car yet. At this point all he can afford is a chrome bicycle.\n",
      "Model output: [[2.1007688e-06 9.9999785e-01]]\n",
      "Predicted label: Sarcastic\n",
      "\n"
     ]
    },
    {
     "name": "stderr",
     "output_type": "stream",
     "text": [
      " 23%|██▎       | 116/500 [00:04<00:15, 25.19it/s]"
     ]
    },
    {
     "name": "stdout",
     "output_type": "stream",
     "text": [
      "Text: My Jewish GF and her 4 family members just got Red Pilled. 5 more votes!!!!!\n",
      "Model output: [[0.00389145 0.9961086 ]]\n",
      "Predicted label: Sarcastic\n",
      "\n",
      "Text: He tripped getting in and tore both quads\n",
      "Model output: [[9.9994195e-01 5.8000045e-05]]\n",
      "Predicted label: Not Sarcastic\n",
      "\n",
      "Text: r/ph, how do you like your mocha?\n",
      "Model output: [[9.9999654e-01 3.5122580e-06]]\n",
      "Predicted label: Not Sarcastic\n",
      "\n",
      "Text: RAIDERS FANS WISH THEY HAD VON MILLER. SO TRUE &amp;a RELATABLE!!! SO TRUE!!!! @RealSkipBayless: I keep waiting for Khalil Mack to create some havoc, make one play. Waiting ... and waiting ...\n",
      "Model output: [[9.9999666e-01 3.3134556e-06]]\n",
      "Predicted label: Not Sarcastic\n",
      "\n",
      "Text: Making a grown man cry over here!\n",
      "Model output: [[9.999963e-01 3.742806e-06]]\n",
      "Predicted label: Not Sarcastic\n",
      "\n"
     ]
    },
    {
     "name": "stderr",
     "output_type": "stream",
     "text": [
      " 24%|██▍       | 122/500 [00:04<00:15, 24.72it/s]"
     ]
    },
    {
     "name": "stdout",
     "output_type": "stream",
     "text": [
      "Text: I\n",
      "Model output: [[9.9999666e-01 3.3173319e-06]]\n",
      "Predicted label: Not Sarcastic\n",
      "\n",
      "Text: Stop following me shillbot and upvote my post! You fuck.\n",
      "Model output: [[3.0386986e-04 9.9969614e-01]]\n",
      "Predicted label: Sarcastic\n",
      "\n",
      "Text: Big things happening in the Battle for Aleppo, lots of ground changing hands - September 24, 2016\n",
      "Model output: [[9.9970621e-01 2.9380448e-04]]\n",
      "Predicted label: Not Sarcastic\n",
      "\n",
      "Text: The amount of times I have thought that exact sentence is staggering\n",
      "Model output: [[9.9999738e-01 2.6687376e-06]]\n",
      "Predicted label: Not Sarcastic\n",
      "\n",
      "Text: \"It's kind of hard to turn the page when you don't have all of your guns\" What?\n",
      "Model output: [[9.999900e-01 1.004133e-05]]\n",
      "Predicted label: Not Sarcastic\n",
      "\n",
      "Text: LF5M aksis part 1 hard mode post your info\n",
      "Model output: [[9.9999654e-01 3.4492259e-06]]\n",
      "Predicted label: Not Sarcastic\n",
      "\n"
     ]
    },
    {
     "name": "stderr",
     "output_type": "stream",
     "text": [
      " 26%|██▌       | 128/500 [00:05<00:15, 23.35it/s]"
     ]
    },
    {
     "name": "stdout",
     "output_type": "stream",
     "text": [
      "Text: Dude tranquilizers would be a damn game changer. Upvote. Doot\n",
      "Model output: [[8.7263394e-04 9.9912733e-01]]\n",
      "Predicted label: Sarcastic\n",
      "\n",
      "Text: p/c check on 2007-08 bape tiger hoodies? seen alot of them on grailed for like 8.5-9 condition\n",
      "Model output: [[9.9999714e-01 2.8021896e-06]]\n",
      "Predicted label: Not Sarcastic\n",
      "\n",
      "Text: But then you don't go to heaven.\n",
      "Model output: [[0.78010464 0.21989533]]\n",
      "Predicted label: Not Sarcastic\n",
      "\n",
      "Text: All Flying Knee Finishes In UFC &amp; Pride History\n",
      "Model output: [[9.9942446e-01 5.7554845e-04]]\n",
      "Predicted label: Not Sarcastic\n",
      "\n",
      "Text: That woman started talkin about sex out of the blue because she wanted to fuck.\n",
      "Model output: [[9.9999690e-01 3.1076413e-06]]\n",
      "Predicted label: Not Sarcastic\n",
      "\n"
     ]
    },
    {
     "name": "stderr",
     "output_type": "stream",
     "text": [
      " 27%|██▋       | 134/500 [00:05<00:14, 24.50it/s]"
     ]
    },
    {
     "name": "stdout",
     "output_type": "stream",
     "text": [
      "Text: i'm not even modelling, it's growing a body on it's own\n",
      "Model output: [[1.4636464e-05 9.9998534e-01]]\n",
      "Predicted label: Sarcastic\n",
      "\n",
      "Text: I agree that his imprisonment is self imposed on the basis that he doesn't want to be sent back to Sweden. However Sweden has done nothing to say that he wont be extradited to US once in Sweden, and in US he could face death penalty. I am not sure about Swedens extradition treaty with US, but there have been a few cases recently where you can be extradited to US for something that is not a crime in the country of extradition. The accusations against him are not wearing a condom, not sure there are actually any charges against him, death penalty surely a bit harsh for that.\n",
      "Model output: [[9.9999738e-01 2.6545963e-06]]\n",
      "Predicted label: Not Sarcastic\n",
      "\n",
      "Text: Im replying to his post, he actually asked for the time when he will get too \"uncool\" to read him .... Read it :) Dont be that guy :D\n",
      "Model output: [[9.9999726e-01 2.7208700e-06]]\n",
      "Predicted label: Not Sarcastic\n",
      "\n",
      "Text: White Christian Nationalists Rejoice At Trump Victory\n",
      "Model output: [[2.2580966e-06 9.9999774e-01]]\n",
      "Predicted label: Sarcastic\n",
      "\n",
      "Text: Did the same man expect hung over af at this house in the morning no couches so I just sat next to her feet and began massaging for a few seconds before realizing what I was doing and everyone was looking at me like what the actual fuck, pleased to say I don't get many invites to parties at HS anymore. May uni will be a new start please.\n",
      "Model output: [[9.9999750e-01 2.5312736e-06]]\n",
      "Predicted label: Not Sarcastic\n",
      "\n",
      "Text: LOL they are like that old dude that shows up at the party and thinks they are still bang young girls.. Bernie Sanders.\n",
      "Model output: [[9.9999690e-01 3.0646538e-06]]\n",
      "Predicted label: Not Sarcastic\n",
      "\n"
     ]
    },
    {
     "name": "stderr",
     "output_type": "stream",
     "text": [
      " 28%|██▊       | 140/500 [00:05<00:14, 24.68it/s]"
     ]
    },
    {
     "name": "stdout",
     "output_type": "stream",
     "text": [
      "Text: Thank you. Fixed. Travel noted, safe winds.\n",
      "Model output: [[9.9999726e-01 2.7226065e-06]]\n",
      "Predicted label: Not Sarcastic\n",
      "\n",
      "Text: Browns Felt Wentz Couldn't Be Top 20 QB\n",
      "Model output: [[2.4963924e-06 9.9999750e-01]]\n",
      "Predicted label: Sarcastic\n",
      "\n",
      "Text: I don't follow. By your logic, we have already forgotten about the Civil War because no one is alive who actually lived it...\n",
      "Model output: [[9.359162e-06 9.999906e-01]]\n",
      "Predicted label: Sarcastic\n",
      "\n",
      "Text: When you're sitting pantless in your chair watching Scream wun tep hen1 and your parents call you down for dinner.\n",
      "Model output: [[9.9999714e-01 2.8974559e-06]]\n",
      "Predicted label: Not Sarcastic\n",
      "\n",
      "Text: no, you're is a pronoun\n",
      "Model output: [[9.9999654e-01 3.4260086e-06]]\n",
      "Predicted label: Not Sarcastic\n",
      "\n",
      "Text: Badumm-tzz\n",
      "Model output: [[9.9998927e-01 1.0704214e-05]]\n",
      "Predicted label: Not Sarcastic\n",
      "\n"
     ]
    },
    {
     "name": "stderr",
     "output_type": "stream",
     "text": [
      " 29%|██▉       | 146/500 [00:05<00:14, 24.94it/s]"
     ]
    },
    {
     "name": "stdout",
     "output_type": "stream",
     "text": [
      "Text: According to 17 federal intelligence agencies and 2 private security firms Russian hacking groups such as APT28 that have been linked to the Russian government were involved in the hack. I doubt anyone from the Russian government communicated directly with Wikileaks. That would be amateur hour. Even if they did Wikileaks protects its sources and wouldn't give them up anyway.\n",
      "Model output: [[9.9999726e-01 2.7210178e-06]]\n",
      "Predicted label: Not Sarcastic\n",
      "\n",
      "Text: Consider yourself lucky. In a town of 2500, I am the only vegan.\n",
      "Model output: [[9.9999714e-01 2.8421971e-06]]\n",
      "Predicted label: Not Sarcastic\n",
      "\n",
      "Text: When Omnis like your dinner pics not realizing it's vegan\n",
      "Model output: [[0.99840623 0.00159379]]\n",
      "Predicted label: Not Sarcastic\n",
      "\n",
      "Text: That's just time travel though\n",
      "Model output: [[5.9097685e-04 9.9940908e-01]]\n",
      "Predicted label: Sarcastic\n",
      "\n",
      "Text: Why Shooter do not use the silencer ?\n",
      "Model output: [[3.5459066e-06 9.9999642e-01]]\n",
      "Predicted label: Sarcastic\n",
      "\n",
      "Text: You think 2016 can't get any worse and then Wham!\n",
      "Model output: [[3.095572e-04 9.996904e-01]]\n",
      "Predicted label: Sarcastic\n",
      "\n"
     ]
    },
    {
     "name": "stderr",
     "output_type": "stream",
     "text": [
      " 30%|███       | 152/500 [00:06<00:13, 24.91it/s]"
     ]
    },
    {
     "name": "stdout",
     "output_type": "stream",
     "text": [
      "Text: One positive note about this season/Chip Kelly The Niners are the least penalized team in the league by 9 penalties, currently. I remember tons of penalties under Harbaugh. Not that it's some huge deal, but it is something positive this season. Just trying to stay optimistic these days, fam.\n",
      "Model output: [[9.999920e-01 8.045922e-06]]\n",
      "Predicted label: Not Sarcastic\n",
      "\n",
      "Text: what does the one above the circle say?\n",
      "Model output: [[9.9999619e-01 3.8144133e-06]]\n",
      "Predicted label: Not Sarcastic\n",
      "\n",
      "Text: rama ult is global now and has 5 shots\n",
      "Model output: [[2.6765038e-06 9.9999738e-01]]\n",
      "Predicted label: Sarcastic\n",
      "\n",
      "Text: Ik leerde op de kleuterschool al dat wie vraagt wordt overgeslagen....\n",
      "Model output: [[2.5365391e-06 9.9999750e-01]]\n",
      "Predicted label: Sarcastic\n",
      "\n",
      "Text: my interview on rocket launcher\n",
      "Model output: [[9.9999690e-01 3.1460097e-06]]\n",
      "Predicted label: Not Sarcastic\n",
      "\n",
      "Text: Impressive Ultron Cosplay for Avengers: Age of Ultron\n",
      "Model output: [[5.0243383e-05 9.9994981e-01]]\n",
      "Predicted label: Sarcastic\n",
      "\n"
     ]
    },
    {
     "name": "stderr",
     "output_type": "stream",
     "text": [
      " 32%|███▏      | 158/500 [00:06<00:13, 24.80it/s]"
     ]
    },
    {
     "name": "stdout",
     "output_type": "stream",
     "text": [
      "Text: Yeah, I don't think I have ever noticed any chalk marks.\n",
      "Model output: [[2.1385490e-06 9.9999785e-01]]\n",
      "Predicted label: Sarcastic\n",
      "\n",
      "Text: Do you not have humor receptacles? I was clearly poking fun at myself for misreading it. Go find something worthwhile to protest.\n",
      "Model output: [[9.9999690e-01 3.1314562e-06]]\n",
      "Predicted label: Not Sarcastic\n",
      "\n",
      "Text: Funtime Triangle (3D Model)\n",
      "Model output: [[9.9999690e-01 3.1579555e-06]]\n",
      "Predicted label: Not Sarcastic\n",
      "\n",
      "Text: I dunno, doesnt make any sense to me really. If an advertizer wanted to relate/connect motorcycling with the image of \"freedom\" I wouldn't pick a dude standing on the seat of a sportbike... I'd say something more like a quick 7-8 second montage of a man at a cubicle getting yelled at in slow motion by his boss, stacks of papers all around him, cut to slow motion of him at home and his wife in an apron holding a newborn baby shaking her head in disaproval at him (slo-mo again of course) Cut to him standing in a downtown city at dusk in the rain hanging his head looking depressed, and as he looks over at a window, there's a motorcycle in the shop and it's a new bike- he's next to a dealership and the rain stops- last shot is a close up of him riding that new bike and smiling. Freedom. Or something like that.. But I guess thats just a motorcycle ad... Not sure how to attach a phone to it.\n",
      "Model output: [[9.9999726e-01 2.7639257e-06]]\n",
      "Predicted label: Not Sarcastic\n",
      "\n",
      "Text: Sir, we're closed... Tonight, at 10pm, my store closed. I cashed out my last customer. As I handed her the receipt, another guy walks in, past the automatic doors that were put on halfway open to accommodate my last customer. My shift lead is standing by the doors, keys in hand. \"Sir,\" my shift lead calls after him, \"it's 10 o clock, we are closed.\" \"Oh, I know, I'll only be a sec!\" Guy keeps walking back towards the pet stuff. My shift lead lets my last customer out, and stands by the doors, and I can see she's fuming. Here comes Special Guy. \"See! I was only a second! Haha!\" Special Guy literally puffs out his chest with pride. I ring up his 15 big cans of dog food, and bag them in his gross smelling bag. I tell him his total, he pays, and he's watching both of us, and we are less than thrilled with him. \"Geez, ladies, lighten up! I was only a second!\" My shift lead shakes her head. \"Yes, but you're cutting into our closing ops, and yes, 5 minutes DOES make a difference.\" She unlocks the doors to let him out, bidding him adieu. And his parting words to us? \"I was only a second though! Good night!\" Good lord, dude. We are open 14 hours; you had all damn day! Also, before my head gets bitten off, I'm aware some people work doubles or long shifts; I am one of them (my other job). But there is a grocery store open until midnight, and the mini mart open until 11pm that can see you through. Sorry, just...argh!!!!!\n",
      "Model output: [[9.999968e-01 3.200685e-06]]\n",
      "Predicted label: Not Sarcastic\n",
      "\n",
      "Text: I think the tories are going to deliberately push it over.\n",
      "Model output: [[9.9999642e-01 3.5613537e-06]]\n",
      "Predicted label: Not Sarcastic\n",
      "\n"
     ]
    },
    {
     "name": "stderr",
     "output_type": "stream",
     "text": [
      " 33%|███▎      | 164/500 [00:06<00:13, 25.13it/s]"
     ]
    },
    {
     "name": "stdout",
     "output_type": "stream",
     "text": [
      "Text: 'White Lives Matter' Held Its First March In The UK Today.\n",
      "Model output: [[9.999926e-01 7.362053e-06]]\n",
      "Predicted label: Not Sarcastic\n",
      "\n",
      "Text: To make predators think they're poisonous?\n",
      "Model output: [[9.999887e-01 1.131118e-05]]\n",
      "Predicted label: Not Sarcastic\n",
      "\n",
      "Text: This would mean that Zoolander was actually a subversive warning :O\n",
      "Model output: [[3.6020883e-04 9.9963975e-01]]\n",
      "Predicted label: Sarcastic\n",
      "\n",
      "Text: Teddy Ruxpin, the iconic talking teddy bear from the 1980s, is back\n",
      "Model output: [[9.999918e-01 8.214869e-06]]\n",
      "Predicted label: Not Sarcastic\n",
      "\n",
      "Text: 'Remember, remember, the thirteenth of November' -dcpp4\n",
      "Model output: [[9.9999630e-01 3.7143275e-06]]\n",
      "Predicted label: Not Sarcastic\n",
      "\n",
      "Text: You're the only one\n",
      "Model output: [[9.999958e-01 4.147132e-06]]\n",
      "Predicted label: Not Sarcastic\n",
      "\n"
     ]
    },
    {
     "name": "stderr",
     "output_type": "stream",
     "text": [
      " 34%|███▍      | 170/500 [00:06<00:13, 25.06it/s]"
     ]
    },
    {
     "name": "stdout",
     "output_type": "stream",
     "text": [
      "Text: So the truth reported about a certain news network is not relevant?\n",
      "Model output: [[9.9996674e-01 3.3240969e-05]]\n",
      "Predicted label: Not Sarcastic\n",
      "\n",
      "Text: What should you do every day?\n",
      "Model output: [[9.9999690e-01 3.1497502e-06]]\n",
      "Predicted label: Not Sarcastic\n",
      "\n",
      "Text: Hit Anchorage and the population is now around 300k and scattered. They're basically done at that point.\n",
      "Model output: [[9.9999619e-01 3.8574667e-06]]\n",
      "Predicted label: Not Sarcastic\n",
      "\n",
      "Text: No, combat stats are fine. Its non combat stats that aren't affected apparently\n",
      "Model output: [[2.5174473e-05 9.9997485e-01]]\n",
      "Predicted label: Sarcastic\n",
      "\n",
      "Text: Pretty inconvenient if they landed anywhere pre-1980s\n",
      "Model output: [[2.6399387e-06 9.9999738e-01]]\n",
      "Predicted label: Sarcastic\n",
      "\n",
      "Text: How do I set up 2x 3DS's for my kids?\n",
      "Model output: [[0.05544477 0.9445552 ]]\n",
      "Predicted label: Sarcastic\n",
      "\n"
     ]
    },
    {
     "name": "stderr",
     "output_type": "stream",
     "text": [
      " 35%|███▌      | 176/500 [00:07<00:12, 25.32it/s]"
     ]
    },
    {
     "name": "stdout",
     "output_type": "stream",
     "text": [
      "Text: Agreed. Emberesing community\n",
      "Model output: [[6.9464504e-04 9.9930537e-01]]\n",
      "Predicted label: Sarcastic\n",
      "\n",
      "Text: Odd Gaming Announcements\n",
      "Model output: [[3.4945767e-06 9.9999654e-01]]\n",
      "Predicted label: Sarcastic\n",
      "\n",
      "Text: are you using any mods?\n",
      "Model output: [[9.9998128e-01 1.8712695e-05]]\n",
      "Predicted label: Not Sarcastic\n",
      "\n",
      "Text: Who cares, it's basically free considering the price of the Xbox. Not to mention BF1.\n",
      "Model output: [[9.9999630e-01 3.7005912e-06]]\n",
      "Predicted label: Not Sarcastic\n",
      "\n",
      "Text: Looks like we can expect an oldschool FPS, since Chmielarz is known mostly for Bulletstorm and Painkiller.\n",
      "Model output: [[9.9999475e-01 5.2154428e-06]]\n",
      "Predicted label: Not Sarcastic\n",
      "\n",
      "Text: It should be a straight forward swap, only thing you might need to do is install the software with the gpu so then all the drivers are upto date. But other than that replacing a graphics card shouldnt cause any issue, it would tend to be more if you replace the mobo or hdd that you'd encounter issues.\n",
      "Model output: [[9.9999726e-01 2.6893736e-06]]\n",
      "Predicted label: Not Sarcastic\n",
      "\n"
     ]
    },
    {
     "name": "stderr",
     "output_type": "stream",
     "text": [
      " 36%|███▋      | 182/500 [00:07<00:12, 25.41it/s]"
     ]
    },
    {
     "name": "stdout",
     "output_type": "stream",
     "text": [
      "Text: Who knew that a Billionaire doesn't actually give a shit about the middle class\n",
      "Model output: [[2.1362498e-06 9.9999785e-01]]\n",
      "Predicted label: Sarcastic\n",
      "\n",
      "Text: Anokuu descended from the heavens and saved them\n",
      "Model output: [[0.09078274 0.90921724]]\n",
      "Predicted label: Sarcastic\n",
      "\n",
      "Text: After Christmas Blowout Sale - Supreme Work Pants, Alltimers, 10Deep, Others &amp; many more sold below retail!\n",
      "Model output: [[9.9999702e-01 3.0079477e-06]]\n",
      "Predicted label: Not Sarcastic\n",
      "\n",
      "Text: I made a CPU ornament and thought you guys might enjoy it!\n",
      "Model output: [[9.9999702e-01 2.9965036e-06]]\n",
      "Predicted label: Not Sarcastic\n",
      "\n",
      "Text: If you were limited to playing only one class and no other, which would you enjoy the most?\n",
      "Model output: [[9.9999702e-01 2.9350842e-06]]\n",
      "Predicted label: Not Sarcastic\n",
      "\n",
      "Text: The parallels I draw from ISIS and Mormonism from this story are interesting\n",
      "Model output: [[9.9999404e-01 5.9320582e-06]]\n",
      "Predicted label: Not Sarcastic\n",
      "\n"
     ]
    },
    {
     "name": "stderr",
     "output_type": "stream",
     "text": [
      " 38%|███▊      | 188/500 [00:07<00:12, 25.45it/s]"
     ]
    },
    {
     "name": "stdout",
     "output_type": "stream",
     "text": [
      "Text: It would depend on how technical you're being. A lot of so-called teas are not technically teas but because they are brewed the same way (boiling water and steeping) they are given the label. Coffee is not in this category because it is also roasted and ground, plus it's already a distinguished and very specific brew. A more broad term might be \"infused\" but I'm not sure whether there's a better one. Infused or steeped (hot) drinks would probably convey what you want.\n",
      "Model output: [[9.999974e-01 2.659416e-06]]\n",
      "Predicted label: Not Sarcastic\n",
      "\n",
      "Text: So George soros\n",
      "Model output: [[9.999920e-01 7.930192e-06]]\n",
      "Predicted label: Not Sarcastic\n",
      "\n",
      "Text: Because OP really wants their whiny opinion to be taken more seriously and respectably than it actually is.\n",
      "Model output: [[2.2906811e-06 9.9999774e-01]]\n",
      "Predicted label: Sarcastic\n",
      "\n",
      "Text: I dropped her flowers and ran\n",
      "Model output: [[9.9998939e-01 1.0574171e-05]]\n",
      "Predicted label: Not Sarcastic\n",
      "\n",
      "Text: dyslexia is a bicth\n",
      "Model output: [[9.9999571e-01 4.2900288e-06]]\n",
      "Predicted label: Not Sarcastic\n",
      "\n",
      "Text: I honestly really hope that Sweetz is /not/ in fact hinting at Burial's future 'avant-garde` sound\n",
      "Model output: [[9.9999690e-01 3.0419908e-06]]\n",
      "Predicted label: Not Sarcastic\n",
      "\n"
     ]
    },
    {
     "name": "stderr",
     "output_type": "stream",
     "text": [
      " 39%|███▉      | 194/500 [00:07<00:12, 25.40it/s]"
     ]
    },
    {
     "name": "stdout",
     "output_type": "stream",
     "text": [
      "Text: None of this matters if Trump wins Minnesota, Wisconsin and Michigan.\n",
      "Model output: [[0.97090787 0.02909212]]\n",
      "Predicted label: Not Sarcastic\n",
      "\n",
      "Text: \"Agreed. I think what's the issue for me is that there are people out there theory-crafting this whole thing away, as if I don't have better things to do with my time but to make stuff up - and blatantly lie - for the hell of it.\" - Derek Smart, re: 2.6 and Star Marine.\n",
      "Model output: [[9.9999750e-01 2.5462994e-06]]\n",
      "Predicted label: Not Sarcastic\n",
      "\n",
      "Text: skippity bop\n",
      "Model output: [[9.9999297e-01 6.9947064e-06]]\n",
      "Predicted label: Not Sarcastic\n",
      "\n",
      "Text: Still, I say statistics would be more convincing than your anecdote.\n",
      "Model output: [[0.99400675 0.00599326]]\n",
      "Predicted label: Not Sarcastic\n",
      "\n",
      "Text: You as everyone else are MISSING THE ENTIRE POINT. The point is we can make these decisions without the VIOLENCE that government bring to the table. The free market is responsible for **far** more safety equipment than government. Cheers!\n",
      "Model output: [[3.622242e-06 9.999964e-01]]\n",
      "Predicted label: Sarcastic\n",
      "\n",
      "Text: You are on the internet, you can watch everything somewhere.\n",
      "Model output: [[9.9995768e-01 4.2288408e-05]]\n",
      "Predicted label: Not Sarcastic\n",
      "\n"
     ]
    },
    {
     "name": "stderr",
     "output_type": "stream",
     "text": [
      " 40%|████      | 200/500 [00:08<00:11, 25.34it/s]"
     ]
    },
    {
     "name": "stdout",
     "output_type": "stream",
     "text": [
      "Text: PRAISE KEK\n",
      "Model output: [[9.99886990e-01 1.12975096e-04]]\n",
      "Predicted label: Not Sarcastic\n",
      "\n",
      "Text: What's your favourite way to mess with people's heads online?\n",
      "Model output: [[0.73565143 0.26434854]]\n",
      "Predicted label: Not Sarcastic\n",
      "\n",
      "Text: How vaguely can you describe your life?\n",
      "Model output: [[9.9999714e-01 2.8340501e-06]]\n",
      "Predicted label: Not Sarcastic\n",
      "\n",
      "Text: What do you want in a partner?\n",
      "Model output: [[9.999964e-01 3.525463e-06]]\n",
      "Predicted label: Not Sarcastic\n",
      "\n",
      "Text: People who spray shit all over the walls and ceilings in bathroom stalls, what's your secret?\n",
      "Model output: [[4.4933854e-06 9.9999547e-01]]\n",
      "Predicted label: Sarcastic\n",
      "\n",
      "Text: It's amazing how similar the Ravens are to the Steelers even when they have both radically altered their strategies. Although the Ravens have put a little more effort into defense the past few years than Pittsburgh it still comes down to the same problem of over-reliance on the offense.\n",
      "Model output: [[9.9999249e-01 7.5627095e-06]]\n",
      "Predicted label: Not Sarcastic\n",
      "\n"
     ]
    },
    {
     "name": "stderr",
     "output_type": "stream",
     "text": [
      " 41%|████      | 206/500 [00:08<00:12, 23.24it/s]"
     ]
    },
    {
     "name": "stdout",
     "output_type": "stream",
     "text": [
      "Text: Good. It handles all the same commands anyway. Why keep cmd around?\n",
      "Model output: [[1.8248014e-05 9.9998176e-01]]\n",
      "Predicted label: Sarcastic\n",
      "\n",
      "Text: NYC Visit Going to visit the big city soon and what to know what coffee shops I need to visit!\n",
      "Model output: [[1.619518e-05 9.999838e-01]]\n",
      "Predicted label: Sarcastic\n",
      "\n",
      "Text: A quick google search on the \"legal-highs\" thing seems to me that it targets notoriously dangerous fake-drugs that have lead to many deaths - and that they did not criminalize possession of it, only distribution/creation. Seems like the right move to me if that's accurate. I just never agree with punishing the user. Jail and/or fines is not how you help an addict, if anything you just throw their life into an even worse position.\n",
      "Model output: [[9.9999738e-01 2.6284104e-06]]\n",
      "Predicted label: Not Sarcastic\n",
      "\n",
      "Text: As far as I know, someone's reddit history doesn't account for their entire life's interests\n",
      "Model output: [[0.00666567 0.9933343 ]]\n",
      "Predicted label: Sarcastic\n",
      "\n",
      "Text: Please use complete sentences. I don't know what you're trying to say.\n",
      "Model output: [[9.9999464e-01 5.4214179e-06]]\n",
      "Predicted label: Not Sarcastic\n",
      "\n"
     ]
    },
    {
     "name": "stderr",
     "output_type": "stream",
     "text": [
      " 42%|████▏     | 212/500 [00:08<00:11, 24.10it/s]"
     ]
    },
    {
     "name": "stdout",
     "output_type": "stream",
     "text": [
      "Text: I've got some small fresh Manzanita branches. Is there any way I can quickly cure them for aquarium use? My understanding is that you don't want to put green branches into an aquarium. I've got a couple small tanks (5.5g, 2.5g) that I'd like to put these in, but only if I don't have to leave them outside for year(s) first. The branches are small, the biggest one has a maximum diameter of 0.75 inches, but they're mostly closer to 0.25-0.5 inches. The outer black bark is gone, but the inner red bark is still on them. Here's my questions: 1) Is there any way I can quickly dry them out in an oven or something? Would they be safe to boil and use at that point? 2) Usually the things I've read say that the bark needs to be removed or it'll slowly peel off. As long as it were to not peel off in tiny pieces, and as long as it were safe, I wouldn't mind that. I don't have a sandblaster to remove bark with either. Is it out of the question to leave the bark on? (ie is it super obnoxious or toxic?) Thanks guys!\n",
      "Model output: [[9.9999750e-01 2.4958401e-06]]\n",
      "Predicted label: Not Sarcastic\n",
      "\n",
      "Text: Good Guy Cashier\n",
      "Model output: [[4.136988e-06 9.999958e-01]]\n",
      "Predicted label: Sarcastic\n",
      "\n",
      "Text: No I am DEFINITELY getting Trans however my question is why does it NEED to be built first? I was thinking about building it 2-3\n",
      "Model output: [[9.9999726e-01 2.7602143e-06]]\n",
      "Predicted label: Not Sarcastic\n",
      "\n",
      "Text: Smurfity smurf\n",
      "Model output: [[2.1408284e-06 9.9999785e-01]]\n",
      "Predicted label: Sarcastic\n",
      "\n",
      "Text: I've had the same free god rotation for the past 2 weeks\n",
      "Model output: [[9.999951e-01 4.875741e-06]]\n",
      "Predicted label: Not Sarcastic\n",
      "\n",
      "Text: Actually, the Cupertino Chargers has a nice ring!\n",
      "Model output: [[2.1871158e-06 9.9999785e-01]]\n",
      "Predicted label: Sarcastic\n",
      "\n"
     ]
    },
    {
     "name": "stderr",
     "output_type": "stream",
     "text": [
      " 44%|████▎     | 218/500 [00:08<00:11, 24.76it/s]"
     ]
    },
    {
     "name": "stdout",
     "output_type": "stream",
     "text": [
      "Text: Jumping out of a tree onto an old blanket\n",
      "Model output: [[9.999949e-01 5.159615e-06]]\n",
      "Predicted label: Not Sarcastic\n",
      "\n",
      "Text: Reynad Mic Malfunction\n",
      "Model output: [[9.9999535e-01 4.6159694e-06]]\n",
      "Predicted label: Not Sarcastic\n",
      "\n",
      "Text: Show me where I was being homophobic. \"Faggot\" is just a harmless term. You're just being sensitive, am I right?\n",
      "Model output: [[5.2763071e-06 9.9999475e-01]]\n",
      "Predicted label: Sarcastic\n",
      "\n",
      "Text: Nah, he's way too pissed-off and squirrelly for that.\n",
      "Model output: [[1.4873077e-05 9.9998510e-01]]\n",
      "Predicted label: Sarcastic\n",
      "\n",
      "Text: FWD I sent them all away\n",
      "Model output: [[2.2719034e-06 9.9999774e-01]]\n",
      "Predicted label: Sarcastic\n",
      "\n",
      "Text: Modi: From Nov 8 to abolish 500 and 1000 Rupee notes.\n",
      "Model output: [[9.9963951e-01 3.6051925e-04]]\n",
      "Predicted label: Not Sarcastic\n",
      "\n"
     ]
    },
    {
     "name": "stderr",
     "output_type": "stream",
     "text": [
      " 45%|████▍     | 224/500 [00:09<00:10, 25.12it/s]"
     ]
    },
    {
     "name": "stdout",
     "output_type": "stream",
     "text": [
      "Text: I had a gym teacher in HS who have the class do leg lifts during calisthenics and he'd walk up and down the row looking up girls shorts. But if you thought that was pervy... I had a friend who was a girl (but not a girlfriend) who said her gym teacher would make you open your towel up and show her that you showered after class. If she didn't think you showered well enough, she'd take your towel and send you back to the showers with a pat on the butt where she'd watch.\n",
      "Model output: [[9.9999726e-01 2.7152450e-06]]\n",
      "Predicted label: Not Sarcastic\n",
      "\n",
      "Text: Calling a top 5 seed? I asked if we could EXPECT the three teams to be in the top half of the EC. I wanted everyone else's input as to why or why not we would see the teams in the playoffs. Not once did I call a top seed, not once did I predict for it.\n",
      "Model output: [[9.9999702e-01 2.9961463e-06]]\n",
      "Predicted label: Not Sarcastic\n",
      "\n",
      "Text: Not a nerf, but there is the thing about selecting targets. Once the target goes down, it's like they hiccup and then move to the next target. This is especially noticeable in knife because of how many gobs have to be recalculated. THe whole pack stops.\n",
      "Model output: [[9.9999714e-01 2.9188247e-06]]\n",
      "Predicted label: Not Sarcastic\n",
      "\n",
      "Text: Annoying players are hurting themselves\n",
      "Model output: [[9.9995327e-01 4.6756279e-05]]\n",
      "Predicted label: Not Sarcastic\n",
      "\n",
      "Text: That shows your poor knowledge about this scandal.\n",
      "Model output: [[2.3711204e-06 9.9999762e-01]]\n",
      "Predicted label: Sarcastic\n",
      "\n",
      "Text: Christian propaganda\n",
      "Model output: [[8.278335e-06 9.999918e-01]]\n",
      "Predicted label: Sarcastic\n",
      "\n"
     ]
    },
    {
     "name": "stderr",
     "output_type": "stream",
     "text": [
      " 46%|████▌     | 230/500 [00:09<00:10, 25.07it/s]"
     ]
    },
    {
     "name": "stdout",
     "output_type": "stream",
     "text": [
      "Text: this is reality\n",
      "Model output: [[9.9998415e-01 1.5868543e-05]]\n",
      "Predicted label: Not Sarcastic\n",
      "\n",
      "Text: Seriously all youtubers should combine to give nova a taste of there own medicine\n",
      "Model output: [[2.2188137e-06 9.9999774e-01]]\n",
      "Predicted label: Sarcastic\n",
      "\n",
      "Text: TIL Dubai and Abu Dubai are not the same place\n",
      "Model output: [[2.2486581e-06 9.9999774e-01]]\n",
      "Predicted label: Sarcastic\n",
      "\n",
      "Text: Nigeria :)\n",
      "Model output: [[9.999974e-01 2.617519e-06]]\n",
      "Predicted label: Not Sarcastic\n",
      "\n",
      "Text: I have been following the competitive scene for 6years ,here are what I think godsent can do to become a top team again -znajder +Olof Hiring that devilwalk guy as their coach seems like a good idea as well\n",
      "Model output: [[5.043268e-04 9.994956e-01]]\n",
      "Predicted label: Sarcastic\n",
      "\n",
      "Text: PTR bugs and Corpse physics\n",
      "Model output: [[0.8961745  0.10382556]]\n",
      "Predicted label: Not Sarcastic\n",
      "\n"
     ]
    },
    {
     "name": "stderr",
     "output_type": "stream",
     "text": [
      " 47%|████▋     | 236/500 [00:09<00:10, 25.22it/s]"
     ]
    },
    {
     "name": "stdout",
     "output_type": "stream",
     "text": [
      "Text: You'd have to shuffle Hightower out to make that trade work.\n",
      "Model output: [[1.3906814e-04 9.9986088e-01]]\n",
      "Predicted label: Sarcastic\n",
      "\n",
      "Text: I just worry (a little bit) about taking Hanley out of the infield. I was under the impression that his improvement this year was in part due to him coming in from the outfield and feeling \"more like a part of the team.\" Could sending him to DH undo any of that?\n",
      "Model output: [[9.9999678e-01 3.1996321e-06]]\n",
      "Predicted label: Not Sarcastic\n",
      "\n",
      "Text: you have about 4-5% of the population that are nudists in the US already :P. I think with better laws we would be closer to the European percent at 10-20%\n",
      "Model output: [[9.9999678e-01 3.2540197e-06]]\n",
      "Predicted label: Not Sarcastic\n",
      "\n",
      "Text: DJ S3BAMAN - A Tribute to Photographer (Producer Mix)\n",
      "Model output: [[9.9999654e-01 3.4942036e-06]]\n",
      "Predicted label: Not Sarcastic\n",
      "\n",
      "Text: A nice, public reminder that we don't live in a fascist regime.\n",
      "Model output: [[9.9998748e-01 1.2525982e-05]]\n",
      "Predicted label: Not Sarcastic\n",
      "\n",
      "Text: This week at Church: Build a Wall\n",
      "Model output: [[9.9993587e-01 6.4074113e-05]]\n",
      "Predicted label: Not Sarcastic\n",
      "\n"
     ]
    },
    {
     "name": "stderr",
     "output_type": "stream",
     "text": [
      " 48%|████▊     | 242/500 [00:09<00:10, 25.05it/s]"
     ]
    },
    {
     "name": "stdout",
     "output_type": "stream",
     "text": [
      "Text: You have one wish. But it'll only come true if it was never wished by anyone before. What would it be?\n",
      "Model output: [[9.9999738e-01 2.6767948e-06]]\n",
      "Predicted label: Not Sarcastic\n",
      "\n",
      "Text: Exactly 3 years ago, Shroud got an overwatch ban\n",
      "Model output: [[0.00133184 0.9986682 ]]\n",
      "Predicted label: Sarcastic\n",
      "\n",
      "Text: Thank you Putin, for showing the level-headed responsibility and care that should be demonstrated from someone in your position, unlike the disgraceful Obama who attempts to provoke us all into unecessary war. The world thanks you. I'm very proud of Russia, a nation that now stands as the true leader of the free world.\n",
      "Model output: [[2.976748e-06 9.999970e-01]]\n",
      "Predicted label: Sarcastic\n",
      "\n",
      "Text: No, you dumb cunt. If you can see from a few hundred metres down the road that nobody is there, then there is no need to drive slower than 60 fucking kph.\n",
      "Model output: [[4.168019e-04 9.995832e-01]]\n",
      "Predicted label: Sarcastic\n",
      "\n",
      "Text: Sprained wrist from a fall happened almost two weeks ago\n",
      "Model output: [[9.9999714e-01 2.8632462e-06]]\n",
      "Predicted label: Not Sarcastic\n",
      "\n",
      "Text: MOTD Idea: Dogfight Anubis, Erlang Shen, Fenrir, and Kaldr only. Reduced cooldowns or infinite mana or something for the lulz.\n",
      "Model output: [[9.999974e-01 2.634991e-06]]\n",
      "Predicted label: Not Sarcastic\n",
      "\n"
     ]
    },
    {
     "name": "stderr",
     "output_type": "stream",
     "text": [
      " 50%|████▉     | 248/500 [00:09<00:09, 25.28it/s]"
     ]
    },
    {
     "name": "stdout",
     "output_type": "stream",
     "text": [
      "Text: @Senator_Assange: \"it's odd how women \"choose\" to wear a bag over their heads but are \"forced\" to wear make-up by the Patriarchy.\"\n",
      "Model output: [[0.00208306 0.997917  ]]\n",
      "Predicted label: Sarcastic\n",
      "\n",
      "Text: Tennis player says something ambiguous and immediately regrets it\n",
      "Model output: [[9.999924e-01 7.654958e-06]]\n",
      "Predicted label: Not Sarcastic\n",
      "\n",
      "Text: The Liberal Democrats will fight Brexit. Labour is not doing its job | Tim Farron\n",
      "Model output: [[0.9485716  0.05142833]]\n",
      "Predicted label: Not Sarcastic\n",
      "\n",
      "Text: Bowl recommendations I do know about the wiki, but I'm looking for something fairly specific. I want a bowl that holds less than 20 grams with a fairly average pack, and doesn't ghost flavors (which sadly disqualifies basically every stone/clay bowl). I would absolutely love the Onyx bowl but as we all know it's constantly out of stock. Anything else that fits that criteria? Seems like every bowl is 25-30g these days. :(\n",
      "Model output: [[9.9999750e-01 2.5342783e-06]]\n",
      "Predicted label: Not Sarcastic\n",
      "\n",
      "Text: Sleepy Hollow. The first season was so good. The second one just started going downhill and accelerated fast, culminating in one of the stupidest plot decisions I've seen a TV show make in recent memory.\n",
      "Model output: [[9.9999595e-01 3.9937013e-06]]\n",
      "Predicted label: Not Sarcastic\n",
      "\n",
      "Text: All on recorders and kazoos, though\n",
      "Model output: [[9.9999464e-01 5.3104213e-06]]\n",
      "Predicted label: Not Sarcastic\n",
      "\n"
     ]
    },
    {
     "name": "stderr",
     "output_type": "stream",
     "text": [
      " 51%|█████     | 254/500 [00:10<00:09, 25.24it/s]"
     ]
    },
    {
     "name": "stdout",
     "output_type": "stream",
     "text": [
      "Text: Only if made in America. Even the Russian ones have to be.\n",
      "Model output: [[9.999956e-01 4.410735e-06]]\n",
      "Predicted label: Not Sarcastic\n",
      "\n",
      "Text: Is the university going overboard with their political stuff? Even as great as it is that students care about politics, when I read the IDS, see the events the University sponsors around campus, or look at the stuff the CommUnity Education Program puts around dorms, it feels like they're pushing an agenda on us. Some of the stuff, from all three of those, isn't simply progressive, but extreme leftist material. Given that this is a public school, it really doesn't feel right.\n",
      "Model output: [[9.9999738e-01 2.5791605e-06]]\n",
      "Predicted label: Not Sarcastic\n",
      "\n",
      "Text: I think this Star Wars comic belongs here\n",
      "Model output: [[9.9999714e-01 2.9080804e-06]]\n",
      "Predicted label: Not Sarcastic\n",
      "\n",
      "Text: Apple paid the taxes that Ireland required.\n",
      "Model output: [[9.9983740e-01 1.6252906e-04]]\n",
      "Predicted label: Not Sarcastic\n",
      "\n",
      "Text: How far would you drivel to save $500 for a rebuilt car engine?\n",
      "Model output: [[9.9950266e-01 4.9736968e-04]]\n",
      "Predicted label: Not Sarcastic\n",
      "\n",
      "Text: American drivers of Reddit who adamantly drive in the left/passing lane only, why don't you move over into the traveling lane?\n",
      "Model output: [[2.2234888e-06 9.9999774e-01]]\n",
      "Predicted label: Sarcastic\n",
      "\n"
     ]
    },
    {
     "name": "stderr",
     "output_type": "stream",
     "text": [
      " 52%|█████▏    | 260/500 [00:10<00:09, 25.28it/s]"
     ]
    },
    {
     "name": "stdout",
     "output_type": "stream",
     "text": [
      "Text: I don't have an account, I just lurk.\n",
      "Model output: [[9.9999714e-01 2.8903935e-06]]\n",
      "Predicted label: Not Sarcastic\n",
      "\n",
      "Text: Yes how dare we hurt him so badly\n",
      "Model output: [[2.5351171e-06 9.9999750e-01]]\n",
      "Predicted label: Sarcastic\n",
      "\n",
      "Text: What ruins a pizza for you?\n",
      "Model output: [[9.9999666e-01 3.3774418e-06]]\n",
      "Predicted label: Not Sarcastic\n",
      "\n",
      "Text: He'll probably give her a prominent position in his administration :P Jokes aside, if he doesn't go after her, the pitchforks will turn on him instead. At this point I don't think anyone can contain the anger of the people much longer. If he doesn't drain the swamp, we'll have to do it ourselves and throw him out with the rest of the trash.\n",
      "Model output: [[9.9999511e-01 4.8742254e-06]]\n",
      "Predicted label: Not Sarcastic\n",
      "\n",
      "Text: I was hoping this was fake news.\n",
      "Model output: [[2.5741945e-06 9.9999738e-01]]\n",
      "Predicted label: Sarcastic\n",
      "\n",
      "Text: It's almost funny how our 'leaders' want and expect us to be angry at people who expose their dirty dealings to us. It defies all logic.\n",
      "Model output: [[5.7606694e-06 9.9999428e-01]]\n",
      "Predicted label: Sarcastic\n",
      "\n"
     ]
    },
    {
     "name": "stderr",
     "output_type": "stream",
     "text": [
      " 53%|█████▎    | 263/500 [00:10<00:09, 25.29it/s]"
     ]
    },
    {
     "name": "stdout",
     "output_type": "stream",
     "text": [
      "Text: What I find strange about this poll is that Clinton leads with those who have a college degree. But she doesn't poll strong with anyone who makes more thsn $35k. I suspect a large number of the college grads they are polling are recent grads who can't get a job.\n",
      "Model output: [[9.9999344e-01 6.5549862e-06]]\n",
      "Predicted label: Not Sarcastic\n",
      "\n",
      "Text: Live SmackDown Live Discussion Thread - November 15th 2016 Welcome to the live thread! This'll be more fleshed out sometime between 5 and 6pm PST :P\n",
      "Model output: [[9.9999726e-01 2.7581514e-06]]\n",
      "Predicted label: Not Sarcastic\n",
      "\n",
      "Text: Will Australia Post be open tomorrow? Going away for a couple of days tomorrow and I have a package to pick it up but couldnt for the past 3 days.\n",
      "Model output: [[9.999974e-01 2.624443e-06]]\n",
      "Predicted label: Not Sarcastic\n",
      "\n",
      "Text: South Korea opposition introduces bill to impeach scandal-tainted Park\n",
      "Model output: [[1.1444682e-04 9.9988556e-01]]\n",
      "Predicted label: Sarcastic\n",
      "\n",
      "Text: Unspoken rules of the market board? So, i was crafting some barding today, super excited that I got my first crafter to 60, and the parts were super cheap... so I made quite a few to sell. So looking at the mb they were going for about 400k. I put mine up for 300k to make a quick buck and still make a sizable profit, then some guy pms me after about an hour saying that im \"destroying the barding economy!\" So it got me thinking, are there any unspoken rules about the market board i should be aware of? Or was this guy just butt hurt that I undercut him?\n",
      "Model output: [[9.9999738e-01 2.5920447e-06]]\n",
      "Predicted label: Not Sarcastic\n",
      "\n"
     ]
    },
    {
     "name": "stderr",
     "output_type": "stream",
     "text": [
      " 54%|█████▍    | 269/500 [00:10<00:09, 23.56it/s]"
     ]
    },
    {
     "name": "stdout",
     "output_type": "stream",
     "text": [
      "Text: Every scene of gunda\n",
      "Model output: [[9.999949e-01 5.183204e-06]]\n",
      "Predicted label: Not Sarcastic\n",
      "\n",
      "Text: Get better soon DJ Zbad. Sorry you gots to get injured against us :(\n",
      "Model output: [[3.2958655e-05 9.9996710e-01]]\n",
      "Predicted label: Sarcastic\n",
      "\n",
      "Text: I'm getting the feeling these are circus performers.\n",
      "Model output: [[9.9999666e-01 3.3872411e-06]]\n",
      "Predicted label: Not Sarcastic\n",
      "\n",
      "Text: Burning, Poisoned, Starving, Parched, Bleeding, Freezing, Over Heating... ark is stupid. its a 'dont die as fast' simulator, with zero style, no flavor, no abilities, no upgrades worth getting and boring poorly optimized everything.\n",
      "Model output: [[9.9999666e-01 3.3652916e-06]]\n",
      "Predicted label: Not Sarcastic\n",
      "\n",
      "Text: Huma Abedin's sister tells supporters on FB to call the DoJ to audit the vote. Today Clinton team met about this and now Jill Stein is raising money to file for recount in WI,MI and PA. Hillary is behind this 100%! You also saw Hillary staging pictures of her going outside to walk her dog or to the bookstore. Michigan has still not been called. Maybe I am just crazy but it looks like Hillary has not given up yet behind the scenes.\n",
      "Model output: [[9.9999726e-01 2.7237361e-06]]\n",
      "Predicted label: Not Sarcastic\n",
      "\n"
     ]
    },
    {
     "name": "stderr",
     "output_type": "stream",
     "text": [
      " 55%|█████▌    | 275/500 [00:11<00:10, 21.57it/s]"
     ]
    },
    {
     "name": "stdout",
     "output_type": "stream",
     "text": [
      "Text: Nice set man, pretty funny.\n",
      "Model output: [[9.9984646e-01 1.5348423e-04]]\n",
      "Predicted label: Not Sarcastic\n",
      "\n",
      "Text: A lot of the world's problems could be remedied if everyone lived in another country for a year.\n",
      "Model output: [[9.999970e-01 3.014636e-06]]\n",
      "Predicted label: Not Sarcastic\n",
      "\n",
      "Text: Justin Timberlake's 'I'm loving it' will always remind me of McDonald's. I'm not a fan of the song in the first place, but McDonald's pretty much hijacked it and made it their own. I don't even think he sings it anymore and I seem to remember that they stopped playing it on the radio after a very short time of it being released.\n",
      "Model output: [[9.9999738e-01 2.5989134e-06]]\n",
      "Predicted label: Not Sarcastic\n",
      "\n",
      "Text: Arcade Machine Texturing and Modeling Test\n",
      "Model output: [[0.998505   0.00149506]]\n",
      "Predicted label: Not Sarcastic\n",
      "\n",
      "Text: Daniel Passarella on Messi: \"He should not captain Argentina. I admire Messi, but I think his personality and his way of being is withdrawn and timid.They already have a great leader - Ramiro Funes Mori. He should be captain.\"\n",
      "Model output: [[4.1655483e-04 9.9958342e-01]]\n",
      "Predicted label: Sarcastic\n",
      "\n"
     ]
    },
    {
     "name": "stderr",
     "output_type": "stream",
     "text": [
      " 56%|█████▌    | 278/500 [00:11<00:10, 21.60it/s]"
     ]
    },
    {
     "name": "stdout",
     "output_type": "stream",
     "text": [
      "Text: Those are blue pills though\n",
      "Model output: [[9.9993396e-01 6.6096887e-05]]\n",
      "Predicted label: Not Sarcastic\n",
      "\n",
      "Text: What if he had changed his tone?\n",
      "Model output: [[9.9981636e-01 1.8370469e-04]]\n",
      "Predicted label: Not Sarcastic\n",
      "\n",
      "Text: Does anyone know of a repository for historical correspondence? I'm looking for something with a lot of content.\n",
      "Model output: [[9.9999726e-01 2.7209660e-06]]\n",
      "Predicted label: Not Sarcastic\n",
      "\n",
      "Text: Doesn't Galio hard counter Ryze?\n",
      "Model output: [[2.0793518e-06 9.9999797e-01]]\n",
      "Predicted label: Sarcastic\n",
      "\n",
      "Text: I like the one with \"Any way you want it\" because that's a good song and the black girl is fine af.\n",
      "Model output: [[2.0259502e-04 9.9979740e-01]]\n",
      "Predicted label: Sarcastic\n",
      "\n"
     ]
    },
    {
     "name": "stderr",
     "output_type": "stream",
     "text": [
      " 57%|█████▋    | 284/500 [00:11<00:10, 21.57it/s]"
     ]
    },
    {
     "name": "stdout",
     "output_type": "stream",
     "text": [
      "Text: I saw a paper airplane fly across the screen. Not sure if it made it to the field but you know that's where they wanted it to go\n",
      "Model output: [[9.999918e-01 8.225374e-06]]\n",
      "Predicted label: Not Sarcastic\n",
      "\n",
      "Text: You.... you stop that. You stop that right now. Melee build and plasmids is the most fun ever.\n",
      "Model output: [[3.398944e-05 9.999660e-01]]\n",
      "Predicted label: Sarcastic\n",
      "\n",
      "Text: Huh. That's not that much actually. It would suck, but I definitely think I could eat 200 apple seeds in a sitting.\n",
      "Model output: [[9.9999738e-01 2.5950078e-06]]\n",
      "Predicted label: Not Sarcastic\n",
      "\n",
      "Text: \"Hey you wanna get highhh\"\n",
      "Model output: [[9.9926251e-01 7.3746475e-04]]\n",
      "Predicted label: Not Sarcastic\n",
      "\n",
      "Text: This About Sums Up The Long Island Show\n",
      "Model output: [[1.2496177e-05 9.9998748e-01]]\n",
      "Predicted label: Sarcastic\n",
      "\n"
     ]
    },
    {
     "name": "stderr",
     "output_type": "stream",
     "text": [
      " 58%|█████▊    | 290/500 [00:11<00:09, 21.52it/s]"
     ]
    },
    {
     "name": "stdout",
     "output_type": "stream",
     "text": [
      "Text: Beating the Democrats at their own game, love it!\n",
      "Model output: [[9.5812703e-04 9.9904186e-01]]\n",
      "Predicted label: Sarcastic\n",
      "\n",
      "Text: Watermelon Death Star carved by my dad!\n",
      "Model output: [[9.9991012e-01 8.9844965e-05]]\n",
      "Predicted label: Not Sarcastic\n",
      "\n",
      "Text: Wait, but, how does it not show that you accessed the front page of the Reddit? Did you go through a link sent to you for this post?\n",
      "Model output: [[9.9997556e-01 2.4483401e-05]]\n",
      "Predicted label: Not Sarcastic\n",
      "\n",
      "Text: Ele main, never switched Tempest off since I unlocked it.\n",
      "Model output: [[9.9989700e-01 1.0298519e-04]]\n",
      "Predicted label: Not Sarcastic\n",
      "\n",
      "Text: Why does Trump even have a Star? I had no idea.\n",
      "Model output: [[2.1748487e-05 9.9997830e-01]]\n",
      "Predicted label: Sarcastic\n",
      "\n"
     ]
    },
    {
     "name": "stderr",
     "output_type": "stream",
     "text": [
      " 59%|█████▊    | 293/500 [00:11<00:09, 21.60it/s]"
     ]
    },
    {
     "name": "stdout",
     "output_type": "stream",
     "text": [
      "Text: If it's Danney DNA I will eat nothing but chicken tendies until election day\n",
      "Model output: [[5.780436e-05 9.999422e-01]]\n",
      "Predicted label: Sarcastic\n",
      "\n",
      "Text: I remember 2011 all too well. I'm not going to think that again.\n",
      "Model output: [[9.999969e-01 3.102332e-06]]\n",
      "Predicted label: Not Sarcastic\n",
      "\n",
      "Text: \"Gingrich, Giuliani, Priebus Eyed for Top Jobs in Trump White House: Sources\" &lt;---- If you weren't scared already, YOU BETTER VOTE\n",
      "Model output: [[9.9999535e-01 4.5999427e-06]]\n",
      "Predicted label: Not Sarcastic\n",
      "\n",
      "Text: You'll give him \"credit,\" lol... I think the place that it's \"due\" is his bank account... You can accomplish amazing things when you inherit millions of dollars.\n",
      "Model output: [[9.9999654e-01 3.4008224e-06]]\n",
      "Predicted label: Not Sarcastic\n",
      "\n",
      "Text: Has Persona 5 made anyone change their way of thinking? I mean, I know it's a game and all, but Atlus specifically focuses on the making the Persona games leave an impact on the player. I, for one, can say that after a full 120+ hour playthrough of the game, I feel a lot different than when I first loaded up the game. The game really made me realize how much people will want to take advantage of you and use you any chance they get, but that by believing in yourself and in those you trust you can reject what is thought of as \"normal\" or \"right\" and do what you believe in. Even though some may think that what you do is abnormal or unusual, what matters the most is that you have confidence in yourself and in what you are doing. I've really gained a lot of self-confidence after playing this amazing game as well as become more aware of the things I feel are wrong in society around me. I know it's rather unusual, but does anyone else feel a similar way?\n",
      "Model output: [[9.9999726e-01 2.7586354e-06]]\n",
      "Predicted label: Not Sarcastic\n",
      "\n"
     ]
    },
    {
     "name": "stderr",
     "output_type": "stream",
     "text": [
      " 60%|█████▉    | 299/500 [00:12<00:09, 21.50it/s]"
     ]
    },
    {
     "name": "stdout",
     "output_type": "stream",
     "text": [
      "Text: What's AHH?\n",
      "Model output: [[9.9999702e-01 2.9399137e-06]]\n",
      "Predicted label: Not Sarcastic\n",
      "\n",
      "Text: Which college would that be? They teach you soldering in first semester in B Tech.\n",
      "Model output: [[9.9999714e-01 2.8777056e-06]]\n",
      "Predicted label: Not Sarcastic\n",
      "\n",
      "Text: Those \"cuts\" in the video are annoying af!\n",
      "Model output: [[9.9999642e-01 3.5256746e-06]]\n",
      "Predicted label: Not Sarcastic\n",
      "\n",
      "Text: Huh?\n",
      "Model output: [[9.9999535e-01 4.6618279e-06]]\n",
      "Predicted label: Not Sarcastic\n",
      "\n",
      "Text: We've made our way on to r/whiteknighting\n",
      "Model output: [[9.9999702e-01 2.9620282e-06]]\n",
      "Predicted label: Not Sarcastic\n",
      "\n"
     ]
    },
    {
     "name": "stderr",
     "output_type": "stream",
     "text": [
      " 61%|██████    | 305/500 [00:12<00:09, 21.65it/s]"
     ]
    },
    {
     "name": "stdout",
     "output_type": "stream",
     "text": [
      "Text: People standing near a truck leaking gasoline.\n",
      "Model output: [[9.99987364e-01 1.25790475e-05]]\n",
      "Predicted label: Not Sarcastic\n",
      "\n",
      "Text: Electrical Engineering: \"What exactly do you do?\"\n",
      "Model output: [[9.9999726e-01 2.7563817e-06]]\n",
      "Predicted label: Not Sarcastic\n",
      "\n",
      "Text: TIL a drug testing expert was high on cocaine almost every day she went to work, calling into question some 30,000 criminal drug cases she processed over the course of eight years.\n",
      "Model output: [[0.00192813 0.9980718 ]]\n",
      "Predicted label: Sarcastic\n",
      "\n",
      "Text: Don't think the jags understand change when they go 5-11 every year.\n",
      "Model output: [[9.9999726e-01 2.7735557e-06]]\n",
      "Predicted label: Not Sarcastic\n",
      "\n",
      "Text: i used to, for the nicotine. nicotine is awesome. cigarettes are awful. so now i vape. i mix my own 50mg or so unflavored juice and i'm in nicotine heaven.\n",
      "Model output: [[9.9999738e-01 2.6147147e-06]]\n",
      "Predicted label: Not Sarcastic\n",
      "\n"
     ]
    },
    {
     "name": "stderr",
     "output_type": "stream",
     "text": [
      " 62%|██████▏   | 308/500 [00:12<00:08, 21.84it/s]"
     ]
    },
    {
     "name": "stdout",
     "output_type": "stream",
     "text": [
      "Text: \"Jesus Christ! Stop getting Scarlet Witch drunk!!\" Cap yells from across the room. Jesus looks up, \"what are you talking about, man, it's only water.\" \"Only water, my ass!\" Cap retorts, \"and where the fuck did the 10,000 fish in my room come from?! The smell is never gonna come out of my suit!\" \"You're harshing my vibes, man.\" Jesus looked unphased. \"Don't make me call my dad. He said I could be anything I wanted and I wanted to be an Avenger. You can't change that.\" Cap grumbled to himself. \"Fine, Jesus, you lead the Avengers. I quit.\" He dials a quick number on his phone, \"Hey, Bruce? Yeah, it's, uh, Cap. Uh huh. Yeah. Well, I know you have a super team too so I was wondering if maybe . . . What's that? Oh. Well, um, you just let me know.\" \"Everything ok dude?\" Jesus asks. \"Yeah, well, it looks like Tony got to Bruce before I did. Luckily I have an in with the NYPD.\" *two weeks later* Jesus is bringing a perp into the station when he sees a familiar man mopping blood off the floor. \"Cap?\" The man doesn't look up and Jesus goes on his way. \"Bastard walked right where I just mopped, what a piece of shit.\"\n",
      "Model output: [[9.999906e-01 9.476161e-06]]\n",
      "Predicted label: Not Sarcastic\n",
      "\n",
      "Text: *Wanna go out sometime?*\n",
      "Model output: [[9.999944e-01 5.651274e-06]]\n",
      "Predicted label: Not Sarcastic\n",
      "\n",
      "Text: Kung Fu Trucker gets his Revenge on Phone thief\n",
      "Model output: [[9.9933296e-01 6.6697685e-04]]\n",
      "Predicted label: Not Sarcastic\n",
      "\n",
      "Text: But what about 7?! I MUST KNOW!\n",
      "Model output: [[2.1487647e-06 9.9999785e-01]]\n",
      "Predicted label: Sarcastic\n",
      "\n",
      "Text: Every Single Active NBA Player Ranked (November 3, 2016). Will Be Updated Weekly\n",
      "Model output: [[9.9999404e-01 6.0070570e-06]]\n",
      "Predicted label: Not Sarcastic\n",
      "\n"
     ]
    },
    {
     "name": "stderr",
     "output_type": "stream",
     "text": [
      " 63%|██████▎   | 314/500 [00:12<00:08, 21.69it/s]"
     ]
    },
    {
     "name": "stdout",
     "output_type": "stream",
     "text": [
      "Text: I've looked it up, and the correct spelling is 'Pascal Cygan'.\n",
      "Model output: [[9.9999726e-01 2.7281296e-06]]\n",
      "Predicted label: Not Sarcastic\n",
      "\n",
      "Text: So was Hastert. Oh, wait...\n",
      "Model output: [[9.9998081e-01 1.9226434e-05]]\n",
      "Predicted label: Not Sarcastic\n",
      "\n",
      "Text: People regularly ask why it takes so many cops to arrest a person. Thing is, to restrain somebody safely, to minimise the risk of them twisting and breaking something, it takes a few people. It takes numbers to prevent idiots trying to get in on the incident despite having no involvement. Professional agitators, nosy people, \"pranksters\" trying to get involved on film for youtube hits and those that just hate the police, looking to take advantage of a situation whether that be to give a few kicks or put the windows through of the police vehicle. source: cop.\n",
      "Model output: [[9.9999738e-01 2.6042676e-06]]\n",
      "Predicted label: Not Sarcastic\n",
      "\n",
      "Text: North Carolina will give you a smoked pork BBQ sandwich and the keys to a V8.\n",
      "Model output: [[9.999950e-01 4.950784e-06]]\n",
      "Predicted label: Not Sarcastic\n",
      "\n",
      "Text: What happened to the community? :'( Hey everyone! I just decided to start playing this game again after other things (life, other games) took over. I was really excited because I remembered the community around the launch of Early Access to be nice, communicative, and overall helpful. The game felt fun. I used to play a lot of MOBAs, and this was a breath of fresh air. In the four games today (Christmas, of all days) I've had three teammates tell me that I'm \"absolute shit\" and to go \"kill myself\". What happened to this community? It feels like a MOBA community (not quite as bad as LoL, but it's starting to have a familiar feel to me) more than it used to feel just like a bunch of people trying to compete yet still enjoying the competition, even if someone is having a bad game. It makes me hesitant to keep at it, and I was excited about getting back into it. :'(\n",
      "Model output: [[9.9999738e-01 2.5946686e-06]]\n",
      "Predicted label: Not Sarcastic\n",
      "\n"
     ]
    },
    {
     "name": "stderr",
     "output_type": "stream",
     "text": [
      " 64%|██████▍   | 320/500 [00:13<00:08, 22.01it/s]"
     ]
    },
    {
     "name": "stdout",
     "output_type": "stream",
     "text": [
      "Text: Week 7 Positivity Thread Welcome to the weekly Positivity Thread, the thread where the rules are made up and the points don't matter. What's been going well for your team recently? What are you excited or hopeful for in upcoming weeks? This thread is a place for any and all positive thoughts regarding your team or the NFL in general. All good vibes are welcome.\n",
      "Model output: [[9.9999666e-01 3.3621511e-06]]\n",
      "Predicted label: Not Sarcastic\n",
      "\n",
      "Text: What's the plan for the weekend, folks? I'm always interested in what other grownup humans do on their Saturdays and Sundays. Tonight is shabbos dinner with the family (beloved wife is making cold spring rolls, the perfect treat in this maddening heat). Tomorrow is Farmers Market for most of the day and probably old timey music playing with friends at night, Sunday is take the skating girl child to roller derby and all hands on deck clean the hell out of the house in the afternoon. Probably mow the goddamn lawn too. Maybe let my you gest kid try to train me up a little in Fallout4. How do you spend your weekends?\n",
      "Model output: [[9.9999738e-01 2.6447944e-06]]\n",
      "Predicted label: Not Sarcastic\n",
      "\n",
      "Text: Patrick kane review buying a base card kaner, biggest pros and cons for his play style?\n",
      "Model output: [[2.5757545e-05 9.9997425e-01]]\n",
      "Predicted label: Sarcastic\n",
      "\n",
      "Text: We've got very big problems ahead. Russia's new super nuke can wipe us out. Prepare for whats to come.\n",
      "Model output: [[0.24485011 0.75514984]]\n",
      "Predicted label: Sarcastic\n",
      "\n",
      "Text: But that could happen just the same with a standard pot because they are held to the same safety standards...\n",
      "Model output: [[2.0480638e-06 9.9999797e-01]]\n",
      "Predicted label: Sarcastic\n",
      "\n"
     ]
    },
    {
     "name": "stderr",
     "output_type": "stream",
     "text": [
      " 65%|██████▍   | 323/500 [00:13<00:08, 21.89it/s]"
     ]
    },
    {
     "name": "stdout",
     "output_type": "stream",
     "text": [
      "Text: I'm a fan of Achievement Hunters, and they released a fucking 2 hours and 45 minutes video of them playing Uno. And I'm watching it for the second time right now. What is my life. Also, PRT in Morgantown had what is probably it's first accident due to two cars colliding ever. In 40+ years of service.\n",
      "Model output: [[9.9999702e-01 2.9592782e-06]]\n",
      "Predicted label: Not Sarcastic\n",
      "\n",
      "Text: Conservatives hate our freedoms more than the terrorists do. And conservatives are100X more effective at stamping out our freedom and propagating fear than the terrorists could ever dream of.\n",
      "Model output: [[4.0882069e-06 9.9999595e-01]]\n",
      "Predicted label: Sarcastic\n",
      "\n",
      "Text: Let the trade wars begin! American's will love paying more for most retail goods!\n",
      "Model output: [[2.5473826e-06 9.9999750e-01]]\n",
      "Predicted label: Sarcastic\n",
      "\n",
      "Text: Wow man you are so epic and random! I'm 14 and this is funny\n",
      "Model output: [[3.8615044e-06 9.9999619e-01]]\n",
      "Predicted label: Sarcastic\n",
      "\n",
      "Text: You missed the point.\n",
      "Model output: [[3.3466392e-06 9.9999666e-01]]\n",
      "Predicted label: Sarcastic\n",
      "\n"
     ]
    },
    {
     "name": "stderr",
     "output_type": "stream",
     "text": [
      " 66%|██████▌   | 329/500 [00:13<00:07, 22.48it/s]"
     ]
    },
    {
     "name": "stdout",
     "output_type": "stream",
     "text": [
      "Text: She doesnt watch porn\n",
      "Model output: [[9.9999678e-01 3.2691771e-06]]\n",
      "Predicted label: Not Sarcastic\n",
      "\n",
      "Text: I just want you to know... I appreciate you.\n",
      "Model output: [[9.9999547e-01 4.5514757e-06]]\n",
      "Predicted label: Not Sarcastic\n",
      "\n",
      "Text: That's your own hangup. Luckily, Riot caters to anyone with money and the time to play their game.\n",
      "Model output: [[9.9999642e-01 3.5801033e-06]]\n",
      "Predicted label: Not Sarcastic\n",
      "\n",
      "Text: Yeah how terrible to be in a small dark place with an attractive member of the opposite sex. Phew never sign me up for that one\n",
      "Model output: [[2.2214329e-06 9.9999774e-01]]\n",
      "Predicted label: Sarcastic\n",
      "\n",
      "Text: Daughter waking up every hour My daughter wake up every hour after 2:30.. she eats quick then goes back to sleep. How can I fix this and what's causing it?\n",
      "Model output: [[9.9999726e-01 2.7115084e-06]]\n",
      "Predicted label: Not Sarcastic\n",
      "\n"
     ]
    },
    {
     "name": "stderr",
     "output_type": "stream",
     "text": [
      " 66%|██████▋   | 332/500 [00:13<00:08, 20.40it/s]"
     ]
    },
    {
     "name": "stdout",
     "output_type": "stream",
     "text": [
      "Text: omg feminists are the most opressed, pls haaaelp\n",
      "Model output: [[2.3844814e-06 9.9999762e-01]]\n",
      "Predicted label: Sarcastic\n",
      "\n",
      "Text: Have you ever seen Sears catalogs from the 80s? Those fuckers are basically phone book sized\n",
      "Model output: [[9.9999607e-01 3.9486877e-06]]\n",
      "Predicted label: Not Sarcastic\n",
      "\n",
      "Text: Should I see Agent Carter S2? It's probably the only thing in the MCU I haven't seen. I saw the first season and liked it. Should I bother with this one?\n",
      "Model output: [[9.9999619e-01 3.8172775e-06]]\n",
      "Predicted label: Not Sarcastic\n",
      "\n",
      "Text: This incessant comparing of Trump to Hitler is pure liberalism and has got to stop. It's an insult to the millions that suffered and died under actual fascism.\n",
      "Model output: [[3.9520405e-06 9.9999607e-01]]\n",
      "Predicted label: Sarcastic\n",
      "\n"
     ]
    },
    {
     "name": "stderr",
     "output_type": "stream",
     "text": [
      " 68%|██████▊   | 338/500 [00:14<00:07, 20.53it/s]"
     ]
    },
    {
     "name": "stdout",
     "output_type": "stream",
     "text": [
      "Text: The military pay office lost my payroll for 6 months. Thats right, 6 months. No one could find my payroll,so I just wasn't paid. I had to get a part time job as a security guard to live.\n",
      "Model output: [[9.9999619e-01 3.7746402e-06]]\n",
      "Predicted label: Not Sarcastic\n",
      "\n",
      "Text: Tulowitzki vs. Andrew Miller (one of the best at-bats of the 2015 season)\n",
      "Model output: [[9.9999380e-01 6.1436467e-06]]\n",
      "Predicted label: Not Sarcastic\n",
      "\n",
      "Text: Wccftech blows EVGA issues out of proportion - shares video of a VRM exploding when GPU is not connected to the PSU\n",
      "Model output: [[6.9585326e-06 9.9999309e-01]]\n",
      "Predicted label: Sarcastic\n",
      "\n",
      "Text: Irrelevant. You asked \"could\". I used an example to show that anything (within physical possibilities) can be used as a pillow\n",
      "Model output: [[9.9999738e-01 2.5705097e-06]]\n",
      "Predicted label: Not Sarcastic\n",
      "\n",
      "Text: Nov 24th I work 3rd 9pm-7am? I'd assume because of black friday, but will I even be stocking? How does that hour make a difference lol instead of my 10pm-7am I recently had something called Linerusher added to my MC40 too\n",
      "Model output: [[9.9999750e-01 2.5553293e-06]]\n",
      "Predicted label: Not Sarcastic\n",
      "\n"
     ]
    },
    {
     "name": "stderr",
     "output_type": "stream",
     "text": [
      " 69%|██████▉   | 344/500 [00:14<00:07, 20.88it/s]"
     ]
    },
    {
     "name": "stdout",
     "output_type": "stream",
     "text": [
      "Text: Yeah. Especially caused an issue since it's technically a hazmat spill.\n",
      "Model output: [[2.1485925e-04 9.9978513e-01]]\n",
      "Predicted label: Sarcastic\n",
      "\n",
      "Text: I like this line of thinking, but how does he profit?\n",
      "Model output: [[9.9999654e-01 3.4732827e-06]]\n",
      "Predicted label: Not Sarcastic\n",
      "\n",
      "Text: I DONT HAVE TO LET YOU IF I DONT WANT TO\n",
      "Model output: [[9.9999595e-01 4.0651444e-06]]\n",
      "Predicted label: Not Sarcastic\n",
      "\n",
      "Text: What piece of old technology do you wish you had?\n",
      "Model output: [[9.9996829e-01 3.1713815e-05]]\n",
      "Predicted label: Not Sarcastic\n",
      "\n",
      "Text: You don't need to \"chase\" big girls if ya get what I mean\n",
      "Model output: [[9.9999309e-01 6.9360262e-06]]\n",
      "Predicted label: Not Sarcastic\n",
      "\n"
     ]
    },
    {
     "name": "stderr",
     "output_type": "stream",
     "text": [
      " 69%|██████▉   | 347/500 [00:14<00:07, 21.47it/s]"
     ]
    },
    {
     "name": "stdout",
     "output_type": "stream",
     "text": [
      "Text: One of my friends text messages keeps sending double texts as seen in picture. Has this happen to anyone's LG V20? Anyone have any ideas how to fix it let me know. Thanks\n",
      "Model output: [[9.999974e-01 2.632655e-06]]\n",
      "Predicted label: Not Sarcastic\n",
      "\n",
      "Text: N\n",
      "Model output: [[9.9999714e-01 2.9124185e-06]]\n",
      "Predicted label: Not Sarcastic\n",
      "\n",
      "Text: IMO Juno was the best pull here, she's an amazing nat5! Check AD on guardian level\n",
      "Model output: [[9.9998772e-01 1.2300438e-05]]\n",
      "Predicted label: Not Sarcastic\n",
      "\n",
      "Text: The EU should never have existed. I am really glad that it will no longer exist in the next 10 years.\n",
      "Model output: [[2.0955324e-06 9.9999785e-01]]\n",
      "Predicted label: Sarcastic\n",
      "\n",
      "Text: Kyle was grounded that night.\n",
      "Model output: [[9.999931e-01 6.857403e-06]]\n",
      "Predicted label: Not Sarcastic\n",
      "\n"
     ]
    },
    {
     "name": "stderr",
     "output_type": "stream",
     "text": [
      " 71%|███████   | 353/500 [00:14<00:06, 22.44it/s]"
     ]
    },
    {
     "name": "stdout",
     "output_type": "stream",
     "text": [
      "Text: COLDZERA wins best eSports player of the year!\n",
      "Model output: [[1.2801164e-05 9.9998724e-01]]\n",
      "Predicted label: Sarcastic\n",
      "\n",
      "Text: pistol, not grenade. But now I wonder what happens if you do execution with grenade.\n",
      "Model output: [[0.00564862 0.9943514 ]]\n",
      "Predicted label: Sarcastic\n",
      "\n",
      "Text: Dad found kids bong while he was away at college.\n",
      "Model output: [[9.9999595e-01 4.1069634e-06]]\n",
      "Predicted label: Not Sarcastic\n",
      "\n",
      "Text: There is one MOM site that lists a bunch of rules, and if you violate any of those rules they will refuse to do business with you. Some of them include contacting CP, emailing the MOM more than once for info and even a rule where they won't do business with you if your email or user name is cannabis related. Funny thing this MOM has been around for almost ten years and they have never had a problem. More MOM's need to adopt this attitude when dealing with customers, there are too many people who have no clue how to do business in a hush hush way and they are the idiots who are risking this system for those of us who do things quietly and correctly.\n",
      "Model output: [[9.9998629e-01 1.3743629e-05]]\n",
      "Predicted label: Not Sarcastic\n",
      "\n",
      "Text: Lockheed Martin shares drop after Trump says F-35 program too expensive\n",
      "Model output: [[5.1711057e-05 9.9994826e-01]]\n",
      "Predicted label: Sarcastic\n",
      "\n"
     ]
    },
    {
     "name": "stderr",
     "output_type": "stream",
     "text": [
      " 72%|███████▏  | 359/500 [00:15<00:06, 23.42it/s]"
     ]
    },
    {
     "name": "stdout",
     "output_type": "stream",
     "text": [
      "Text: BREAKING: COMEY RECOMMENDS NO ACTION ON THE NEW EMAILS\n",
      "Model output: [[0.00857825 0.99142176]]\n",
      "Predicted label: Sarcastic\n",
      "\n",
      "Text: It's impressive. I don't understand how his aggressive mediocrity has been tolerated for so long. Washington is a good school with a history of quality sports teams. Why should they have to settle for Romar?\n",
      "Model output: [[2.1180715e-06 9.9999785e-01]]\n",
      "Predicted label: Sarcastic\n",
      "\n",
      "Text: Not really. I don't kick people for using DLC unlockers. As long as they're not cheating, what do I care? It's not harming my gameplay for them to use weapons and perks and masks.\n",
      "Model output: [[9.9995589e-01 4.4108692e-05]]\n",
      "Predicted label: Not Sarcastic\n",
      "\n",
      "Text: Next expansion, new legendary \"Yuge\", battlecry: your opponent has 2 less mana next turn, deathrattle: add a random Murloc to your hand (he's not against the Murlocs, he has a good friend who happens to be a Murloc)\n",
      "Model output: [[9.999974e-01 2.680517e-06]]\n",
      "Predicted label: Not Sarcastic\n",
      "\n",
      "Text: Here, kitty kitty\n",
      "Model output: [[9.9999154e-01 8.5010370e-06]]\n",
      "Predicted label: Not Sarcastic\n",
      "\n"
     ]
    },
    {
     "name": "stderr",
     "output_type": "stream",
     "text": [
      " 72%|███████▏  | 362/500 [00:15<00:05, 23.58it/s]"
     ]
    },
    {
     "name": "stdout",
     "output_type": "stream",
     "text": [
      "Text: Ballot measures would legalize pot, end death penalty, create single-payer health care\n",
      "Model output: [[9.9999392e-01 6.0759994e-06]]\n",
      "Predicted label: Not Sarcastic\n",
      "\n",
      "Text: Man, remember when the Civil War was taught as a tragedy of brother vs brother? Pepperidge Farm remembers.\n",
      "Model output: [[9.9998212e-01 1.7848237e-05]]\n",
      "Predicted label: Not Sarcastic\n",
      "\n",
      "Text: If you just heard a gun shot real close to your house in the middle of the afternoon, what would be your first thought?\n",
      "Model output: [[9.9999702e-01 2.9608675e-06]]\n",
      "Predicted label: Not Sarcastic\n",
      "\n",
      "Text: The year is about to end, which manga would you like to get an anime in 2017? **What the title says.** [](#mug5)\n",
      "Model output: [[9.9999738e-01 2.6665243e-06]]\n",
      "Predicted label: Not Sarcastic\n",
      "\n",
      "Text: Reddit, what shall we do with the drunken sailor?\n",
      "Model output: [[7.7852774e-06 9.9999225e-01]]\n",
      "Predicted label: Sarcastic\n",
      "\n"
     ]
    },
    {
     "name": "stderr",
     "output_type": "stream",
     "text": [
      " 74%|███████▎  | 368/500 [00:15<00:05, 22.76it/s]"
     ]
    },
    {
     "name": "stdout",
     "output_type": "stream",
     "text": [
      "Text: Brad Pitt's wife's head.\n",
      "Model output: [[9.9997282e-01 2.7146933e-05]]\n",
      "Predicted label: Not Sarcastic\n",
      "\n",
      "Text: Except for the quit button disappearing when you want to leave the lobby, ironically.\n",
      "Model output: [[9.9999702e-01 3.0178633e-06]]\n",
      "Predicted label: Not Sarcastic\n",
      "\n",
      "Text: Netanyahu doesn't speak for all of Israel, despite his pretenses to. Or even all of the Jews.\n",
      "Model output: [[9.9999619e-01 3.8455696e-06]]\n",
      "Predicted label: Not Sarcastic\n",
      "\n",
      "Text: Why did SA have to kill the Wololo meme\n",
      "Model output: [[9.9996912e-01 3.0846113e-05]]\n",
      "Predicted label: Not Sarcastic\n",
      "\n",
      "Text: I'll give all that stuff back to one of your toons and switch mine get stuff again and rss to your toon\n",
      "Model output: [[9.9999702e-01 2.9300838e-06]]\n",
      "Predicted label: Not Sarcastic\n",
      "\n"
     ]
    },
    {
     "name": "stderr",
     "output_type": "stream",
     "text": [
      " 75%|███████▍  | 374/500 [00:15<00:05, 23.77it/s]"
     ]
    },
    {
     "name": "stdout",
     "output_type": "stream",
     "text": [
      "Text: The build seems right. With those specs you would be looking at maxing out almost all games on 1080p. What country do you live in/\n",
      "Model output: [[9.9999714e-01 2.8410102e-06]]\n",
      "Predicted label: Not Sarcastic\n",
      "\n",
      "Text: And even a prominent democrat defended him.\n",
      "Model output: [[9.9999261e-01 7.3402925e-06]]\n",
      "Predicted label: Not Sarcastic\n",
      "\n",
      "Text: Yet another zombie defense\n",
      "Model output: [[2.1400895e-06 9.9999785e-01]]\n",
      "Predicted label: Sarcastic\n",
      "\n",
      "Text: Why not? I thought the first winner was perfectly legitimate. There is no rule that people have to be in combat if there were no one would complain. I see no problem with it at all, he was smart enough to find a way to be the last person alive, which jagex has stated many times is the objective.\n",
      "Model output: [[9.9999642e-01 3.5520663e-06]]\n",
      "Predicted label: Not Sarcastic\n",
      "\n",
      "Text: Trump up six points in Utah!! THE CUCKS TOLD ME UTAH REPUBLICANS WERE REVOLTING\n",
      "Model output: [[2.3797083e-06 9.9999762e-01]]\n",
      "Predicted label: Sarcastic\n",
      "\n"
     ]
    },
    {
     "name": "stderr",
     "output_type": "stream",
     "text": [
      " 75%|███████▌  | 377/500 [00:15<00:05, 23.71it/s]"
     ]
    },
    {
     "name": "stdout",
     "output_type": "stream",
     "text": [
      "Text: Premium Elite?\n",
      "Model output: [[2.9100197e-06 9.9999714e-01]]\n",
      "Predicted label: Sarcastic\n",
      "\n",
      "Text: Cat.\n",
      "Model output: [[9.999964e-01 3.542817e-06]]\n",
      "Predicted label: Not Sarcastic\n",
      "\n",
      "Text: Its not politically correct to say, and im sure there are groups who will outright deny it and call me racist, but i believe we are looking an humans of 50, 000 years ago. Peoples of these regions just carried on in the same way for thousands of years.\n",
      "Model output: [[9.9999738e-01 2.5722557e-06]]\n",
      "Predicted label: Not Sarcastic\n",
      "\n",
      "Text: they might as well have been released then\n",
      "Model output: [[9.821483e-06 9.999902e-01]]\n",
      "Predicted label: Sarcastic\n",
      "\n",
      "Text: Redditors who have met a previous crush years later, how did it turn out?\n",
      "Model output: [[9.9999666e-01 3.3954691e-06]]\n",
      "Predicted label: Not Sarcastic\n",
      "\n"
     ]
    },
    {
     "name": "stderr",
     "output_type": "stream",
     "text": [
      " 77%|███████▋  | 383/500 [00:16<00:04, 24.07it/s]"
     ]
    },
    {
     "name": "stdout",
     "output_type": "stream",
     "text": [
      "Text: Is it any good? It's been on my wish list for the longest time and haven't made the leap to buy it.\n",
      "Model output: [[9.9999738e-01 2.6482446e-06]]\n",
      "Predicted label: Not Sarcastic\n",
      "\n",
      "Text: That's what you think.\n",
      "Model output: [[9.9999678e-01 3.1838101e-06]]\n",
      "Predicted label: Not Sarcastic\n",
      "\n",
      "Text: I can see you are trying as hard as you can AND it's not meeting my requirements.\n",
      "Model output: [[7.085597e-05 9.999292e-01]]\n",
      "Predicted label: Sarcastic\n",
      "\n",
      "Text: Valve has been shitposting with updates for a while. See: the clusterfuck that is Casual and the update that introduced it.\n",
      "Model output: [[9.9999738e-01 2.6227615e-06]]\n",
      "Predicted label: Not Sarcastic\n",
      "\n",
      "Text: NY Times: \"A jet-lagged Mrs. Clinton once emailed Ms. Abedin at 12:21 a.m. to take her up on an offer to come over to Mrs. Clinton's house for a chat. 'Just knock on the door to the bedroom if it's closed,' she wrote.\"\n",
      "Model output: [[9.9999738e-01 2.6566806e-06]]\n",
      "Predicted label: Not Sarcastic\n",
      "\n"
     ]
    },
    {
     "name": "stderr",
     "output_type": "stream",
     "text": [
      " 78%|███████▊  | 389/500 [00:16<00:04, 23.75it/s]"
     ]
    },
    {
     "name": "stdout",
     "output_type": "stream",
     "text": [
      "Text: I'm with NYJ on this one. Totally owned you. What does it feel like because its never happened to me?\n",
      "Model output: [[9.9999273e-01 7.3053893e-06]]\n",
      "Predicted label: Not Sarcastic\n",
      "\n",
      "Text: I live in the middle of nowhere and I wouldn't have difficulty finding diesel.\n",
      "Model output: [[0.99805826 0.00194174]]\n",
      "Predicted label: Not Sarcastic\n",
      "\n",
      "Text: I refuse to accept the outcome of this WC if a Western Team doesn't win.\n",
      "Model output: [[7.1096671e-04 9.9928904e-01]]\n",
      "Predicted label: Sarcastic\n",
      "\n",
      "Text: F\n",
      "Model output: [[9.9999547e-01 4.5061433e-06]]\n",
      "Predicted label: Not Sarcastic\n",
      "\n",
      "Text: What is something that people complain about that makes you roll your eyes?\n",
      "Model output: [[9.9999702e-01 3.0106885e-06]]\n",
      "Predicted label: Not Sarcastic\n",
      "\n"
     ]
    },
    {
     "name": "stderr",
     "output_type": "stream",
     "text": [
      " 79%|███████▉  | 395/500 [00:16<00:04, 24.12it/s]"
     ]
    },
    {
     "name": "stdout",
     "output_type": "stream",
     "text": [
      "Text: Lebron James becomes the FIRST ever player in NBA history to achieve totals of 27,000 points, 7,000 rebounds and 7,000 assists! #TheUltimateLeBron\n",
      "Model output: [[2.071929e-06 9.999980e-01]]\n",
      "Predicted label: Sarcastic\n",
      "\n",
      "Text: Thanks, can you take a look on desktop pc too?\n",
      "Model output: [[9.999957e-01 4.324542e-06]]\n",
      "Predicted label: Not Sarcastic\n",
      "\n",
      "Text: What is healthy but actually tastes good?\n",
      "Model output: [[9.9999726e-01 2.7240842e-06]]\n",
      "Predicted label: Not Sarcastic\n",
      "\n",
      "Text: My roommate would routinely take out the bateries in the smoke detector because it always went off when we cooked bacon. After the third time I saw him do it, I told him not to do that shit ever again and to just turn the fan on over the stove and shut the kitchen door. He pissed an moaned like crazy. About 2 months later he had a candle burning in his room with the window open. The wind blew a sombrero off the wall and onto the candle. It caught some clothing and part of the bed and the room started to go. It triggered the smoke alarm and I was able to get to it with an extinguisher before the room was fully involved. If that had happened and we didn't have batteries in that smoke alarm, the entire building would have been a loss. The best part? He was pissed at me for getting \"fire extinguisher dust\" all over his room. Ironically, he was kicked out because he caused flood damage a few months later.\n",
      "Model output: [[9.9999738e-01 2.6323487e-06]]\n",
      "Predicted label: Not Sarcastic\n",
      "\n",
      "Text: omw\n",
      "Model output: [[0.17143631 0.82856363]]\n",
      "Predicted label: Sarcastic\n",
      "\n",
      "Text: Does Trump Tower have a helipad? He could just fly off and not mess up traffic for everyone.\n",
      "Model output: [[0.9896264  0.01037353]]\n",
      "Predicted label: Not Sarcastic\n",
      "\n"
     ]
    },
    {
     "name": "stderr",
     "output_type": "stream",
     "text": [
      " 80%|████████  | 401/500 [00:16<00:04, 24.69it/s]"
     ]
    },
    {
     "name": "stdout",
     "output_type": "stream",
     "text": [
      "Text: I love that ult so much. You've convinced me to go back and try him out more!\n",
      "Model output: [[2.9218631e-06 9.9999702e-01]]\n",
      "Predicted label: Sarcastic\n",
      "\n",
      "Text: What you'll need is an electric vehicle and a rocket to get it there. I suggest you talk to Elon Musk.\n",
      "Model output: [[0.00684868 0.9931513 ]]\n",
      "Predicted label: Sarcastic\n",
      "\n",
      "Text: Very thoughtful post. Thank you Queef Pudding.\n",
      "Model output: [[9.9999702e-01 3.0355575e-06]]\n",
      "Predicted label: Not Sarcastic\n",
      "\n",
      "Text: A Moment in Crime just reached 100%\n",
      "Model output: [[1.5828582e-04 9.9984169e-01]]\n",
      "Predicted label: Sarcastic\n",
      "\n",
      "Text: Get free tours?\n",
      "Model output: [[9.999927e-01 7.251380e-06]]\n",
      "Predicted label: Not Sarcastic\n",
      "\n",
      "Text: PEAKE\n",
      "Model output: [[9.9999511e-01 4.8377424e-06]]\n",
      "Predicted label: Not Sarcastic\n",
      "\n"
     ]
    },
    {
     "name": "stderr",
     "output_type": "stream",
     "text": [
      " 81%|████████▏ | 407/500 [00:17<00:03, 24.86it/s]"
     ]
    },
    {
     "name": "stdout",
     "output_type": "stream",
     "text": [
      "Text: I remember doing this with fruit rollups' and warheads just sucking on the rollup until I got that sour juice.\n",
      "Model output: [[9.9999702e-01 3.0116591e-06]]\n",
      "Predicted label: Not Sarcastic\n",
      "\n",
      "Text: Most of the problems that happen between two people is because one of them is a fucking idiot.\n",
      "Model output: [[9.999970e-01 2.993122e-06]]\n",
      "Predicted label: Not Sarcastic\n",
      "\n",
      "Text: Time will tell. Kind of presumptuous with all the fear mongering going on about it now. We were told the same thing with Bush. The UK will implode after Brexit. Etc, etc. Let's see what happens. Guarantee it's not going to be drastically different than it already is, I'll be able to say 'told you so', and you'll continue with the rhetoric. Has Canada changed from Harper to Trudeau? Nope. Did the US change from Bush to Obama? (shit, it was even the guys slogan) Nopeee. All different names for the same thing man. Take a chill pill and watch what happens. More of the same.\n",
      "Model output: [[9.9999714e-01 2.8588940e-06]]\n",
      "Predicted label: Not Sarcastic\n",
      "\n",
      "Text: **For those who got cut off, if you have verizon you might be able to watch on nfl mobile**\n",
      "Model output: [[9.9999738e-01 2.6411801e-06]]\n",
      "Predicted label: Not Sarcastic\n",
      "\n",
      "Text: ... mikrotik ? Maybe arista, I'm not familiar with their productline. Yeah there is nothing except fiber stuff that Juniper would gain from it, I guess VCS is pretty nice but that's about it\n",
      "Model output: [[9.9999583e-01 4.1305307e-06]]\n",
      "Predicted label: Not Sarcastic\n",
      "\n",
      "Text: Mc Cree or Genji golden weapon ? What's YOUR personal preference and which of the two do you think is the hardest to play at a high level?\n",
      "Model output: [[9.9999511e-01 4.9162504e-06]]\n",
      "Predicted label: Not Sarcastic\n",
      "\n"
     ]
    },
    {
     "name": "stderr",
     "output_type": "stream",
     "text": [
      " 83%|████████▎ | 413/500 [00:17<00:03, 24.39it/s]"
     ]
    },
    {
     "name": "stdout",
     "output_type": "stream",
     "text": [
      "Text: Get up on the wrong side of bed this morning? I disagree with quota hiring because every hire should be made on the basis of merit at the time of appointment. So yes, it may be that quotas do lead to some women being hired to positions for which they are not the best-qualified candidate. But even that is just supposition. And it doesn't mean there are no talented women (really?); just that by-and-large women and men tend to have slightly different talents and inclinations. What we need is equality of opportunity, and a willingness not to stereotype on the basis of aggregate behaviours, rather than equality of outcome. By far my best ever boss was a woman: calm, collected, fair, highly-competent, and treated everyone with respect. There are lots of good, intelligent women out there doing good work. And women are not the enemy. We'll just end up as warped and bitter as feminists if we go down that path.\n",
      "Model output: [[9.9999702e-01 2.9385403e-06]]\n",
      "Predicted label: Not Sarcastic\n",
      "\n",
      "Text: Report: Trump pressed Argentina's president about stalled building project on phone call\n",
      "Model output: [[9.9999630e-01 3.6698746e-06]]\n",
      "Predicted label: Not Sarcastic\n",
      "\n",
      "Text: People that makes these are a bit retarded. The standard of living in America is one of the highest. Even our poor live better lives than most of the third world rich. No one is going to riot or stage huge protests as long as they have food and can take care of their family. It's not hard to protest when your already unemployment and you have nothing else to loose.\n",
      "Model output: [[9.9999571e-01 4.2823112e-06]]\n",
      "Predicted label: Not Sarcastic\n",
      "\n",
      "Text: BREAKING: Trump outfoxes CNN and gets veterans free airtime. CNN rages and claims they \"got played.\" BTFO LMFAO\n",
      "Model output: [[9.9999726e-01 2.7245831e-06]]\n",
      "Predicted label: Not Sarcastic\n",
      "\n",
      "Text: See Glenn Beck's show. Basically pivoted towards a \"Trumps going to ruin the world, buy gold.\"\n",
      "Model output: [[9.9999726e-01 2.7072347e-06]]\n",
      "Predicted label: Not Sarcastic\n",
      "\n",
      "Text: get supreme ones pleb\n",
      "Model output: [[2.2691147e-06 9.9999774e-01]]\n",
      "Predicted label: Sarcastic\n",
      "\n"
     ]
    },
    {
     "name": "stderr",
     "output_type": "stream",
     "text": [
      " 84%|████████▍ | 419/500 [00:17<00:03, 24.57it/s]"
     ]
    },
    {
     "name": "stdout",
     "output_type": "stream",
     "text": [
      "Text: In that PvP covenant, you rank up by getting points. A win in the arena gains you one point, while a loss makes you lose a point. When you rank up in the covenant, you gain that aura; the aura grows as you climb ranks. For reference, rank one requires 50 points, two requires 150 points, while three requires 500 points.\n",
      "Model output: [[9.9999726e-01 2.7389065e-06]]\n",
      "Predicted label: Not Sarcastic\n",
      "\n",
      "Text: Do you Agree that this version is The BEST Version of x6 MR.O Phil Heath ?\n",
      "Model output: [[9.9983203e-01 1.6798575e-04]]\n",
      "Predicted label: Not Sarcastic\n",
      "\n",
      "Text: Odyssey Collection Bonuses are Exclusive. Only the Anubis T5 reward is limited.\n",
      "Model output: [[9.99997e-01 2.95604e-06]]\n",
      "Predicted label: Not Sarcastic\n",
      "\n",
      "Text: Eugenics seems to have some support on Reddit, but anywhere else... I don't particularly see anyone outside of Reddit supporting it.\n",
      "Model output: [[9.9999642e-01 3.6138438e-06]]\n",
      "Predicted label: Not Sarcastic\n",
      "\n",
      "Text: by the way do you know in how many hours the announcement is supposed to be held? ( easier than converting the time ). also, sorry for double posting.\n",
      "Model output: [[9.9999690e-01 3.0919232e-06]]\n",
      "Predicted label: Not Sarcastic\n",
      "\n",
      "Text: Literally unplayable\n",
      "Model output: [[1.0871948e-04 9.9989128e-01]]\n",
      "Predicted label: Sarcastic\n",
      "\n"
     ]
    },
    {
     "name": "stderr",
     "output_type": "stream",
     "text": [
      " 85%|████████▌ | 425/500 [00:17<00:03, 24.70it/s]"
     ]
    },
    {
     "name": "stdout",
     "output_type": "stream",
     "text": [
      "Text: Favorite Host?\n",
      "Model output: [[9.999918e-01 8.175120e-06]]\n",
      "Predicted label: Not Sarcastic\n",
      "\n",
      "Text: Dog smoked a blunt dipped in codeine, the cat mainlined Fentanyl straight into his nut sack.\n",
      "Model output: [[9.9999607e-01 3.9585775e-06]]\n",
      "Predicted label: Not Sarcastic\n",
      "\n",
      "Text: I think the way the hips are shaped it makes it easier to slide yourself legs first but not slide back out the same way.\n",
      "Model output: [[9.9999654e-01 3.4022107e-06]]\n",
      "Predicted label: Not Sarcastic\n",
      "\n",
      "Text: Daniel Bryan calls out Mick Foley's hypocrisy, mentions TNA\n",
      "Model output: [[9.999318e-01 6.812799e-05]]\n",
      "Predicted label: Not Sarcastic\n",
      "\n",
      "Text: If you could vote for one redditor to represent Reddit, who would you vote for and why?\n",
      "Model output: [[9.999969e-01 3.101057e-06]]\n",
      "Predicted label: Not Sarcastic\n",
      "\n",
      "Text: I think he looks depressed.\n",
      "Model output: [[9.9999356e-01 6.4657806e-06]]\n",
      "Predicted label: Not Sarcastic\n",
      "\n"
     ]
    },
    {
     "name": "stderr",
     "output_type": "stream",
     "text": [
      " 86%|████████▌ | 431/500 [00:17<00:02, 25.00it/s]"
     ]
    },
    {
     "name": "stdout",
     "output_type": "stream",
     "text": [
      "Text: America rewards white people for the most basic things\n",
      "Model output: [[9.9967563e-01 3.2438358e-04]]\n",
      "Predicted label: Not Sarcastic\n",
      "\n",
      "Text: It's true. We call this place [redacted] now, because we were accused of brigading. It was the only option to avoid being silenced.\n",
      "Model output: [[9.9999738e-01 2.5807992e-06]]\n",
      "Predicted label: Not Sarcastic\n",
      "\n",
      "Text: ESPN Standard Eifert vs NYG or Pitta vs CLE\n",
      "Model output: [[9.999969e-01 3.065943e-06]]\n",
      "Predicted label: Not Sarcastic\n",
      "\n",
      "Text: Trump campaign manager: 'Are you calling him a liar?'\n",
      "Model output: [[9.9963593e-01 3.6405414e-04]]\n",
      "Predicted label: Not Sarcastic\n",
      "\n",
      "Text: Courage the Cowardly Dog was disturbing at times\n",
      "Model output: [[9.9999559e-01 4.4145395e-06]]\n",
      "Predicted label: Not Sarcastic\n",
      "\n",
      "Text: He's fried from all the drugs he's done\n",
      "Model output: [[3.7201145e-05 9.9996281e-01]]\n",
      "Predicted label: Sarcastic\n",
      "\n"
     ]
    },
    {
     "name": "stderr",
     "output_type": "stream",
     "text": [
      " 87%|████████▋ | 434/500 [00:18<00:02, 24.80it/s]"
     ]
    },
    {
     "name": "stdout",
     "output_type": "stream",
     "text": [
      "Text: Front page post with 2000 comments and is 10 hours old. Redditors IRL.\n",
      "Model output: [[9.9991882e-01 8.1152386e-05]]\n",
      "Predicted label: Not Sarcastic\n",
      "\n",
      "Text: Which anime character as grown as a person in a way that YOU need to grow as well?\n",
      "Model output: [[9.999970e-01 2.945768e-06]]\n",
      "Predicted label: Not Sarcastic\n",
      "\n",
      "Text: Smile for me once more, Will you? Go on and live, dance, rejoice, for whether you knew me or not, it is impolite to reject such an offer, especially from a man who can no longer do so.\n",
      "Model output: [[9.9999666e-01 3.3482354e-06]]\n",
      "Predicted label: Not Sarcastic\n",
      "\n",
      "Text: My red hat finally came. Do I dare wear it outside in California???\n",
      "Model output: [[9.9997103e-01 2.9005942e-05]]\n",
      "Predicted label: Not Sarcastic\n",
      "\n",
      "Text: **A DOVAHKIN'S FANTASY**\n",
      "Model output: [[9.999950e-01 5.024678e-06]]\n",
      "Predicted label: Not Sarcastic\n",
      "\n"
     ]
    },
    {
     "name": "stderr",
     "output_type": "stream",
     "text": [
      " 88%|████████▊ | 440/500 [00:18<00:02, 22.40it/s]"
     ]
    },
    {
     "name": "stdout",
     "output_type": "stream",
     "text": [
      "Text: What the fuck happened to material design?\n",
      "Model output: [[0.00111267 0.99888736]]\n",
      "Predicted label: Sarcastic\n",
      "\n",
      "Text: In honor of AI's induction, here is him and Korver doing work against the Spurs. Check out 2:50 for a nifty circus shot from Korver and 5:58 for a post-up!\n",
      "Model output: [[9.9999714e-01 2.8585234e-06]]\n",
      "Predicted label: Not Sarcastic\n",
      "\n",
      "Text: What if you could pick a deck for the innkeeper? I've often created fun and interesting decks for non-competitive play. I like to try strange decks just to see if I can get them to work. I think it's fun and it's one of the ways I have found to alleviate frustration when grinding ladder. A problem, though, is that I'll make a funky pirate shaman deck or a rogue deck with only two minions, etc. and want to just dick around and have fun with it. I'll go into casual and lose to aggro shaman or control Mage enough times that I feel like I should be playing a ranked deck to have a little more fun, and I'm back to grinding ladder. This brings me to my point. You can choose the class you play against in practice mode, letting you see how your deck fares in certain match ups. I think it would be fun and innovating to be able to choose a deck for the innkeeper to play against you. This could have practical benefits (like a mirror match to test out changes in a ranked deck) or it could be really fun (giving the innkeeper a golden Milhouse Manastorm). It could even be used to mess with deck interplay (thief rogue against a stacked deck). What do you guys think?\n",
      "Model output: [[9.9999714e-01 2.8277084e-06]]\n",
      "Predicted label: Not Sarcastic\n",
      "\n",
      "Text: No, that is completely wrong: the American people have a right to know if their president has conflicts, has paid taxes, has given to charity. We have an absolute right to know, and to not demand it is to leave yourself open for corruption: why do you think it became tradition to release your tax returns in the first place?\n",
      "Model output: [[9.9984145e-01 1.5851132e-04]]\n",
      "Predicted label: Not Sarcastic\n",
      "\n",
      "Text: Yes it's my responsibility to vote. But it's not my responsibility to reward a candidate who feels they're entitled to my vote.\n",
      "Model output: [[3.5283950e-04 9.9964714e-01]]\n",
      "Predicted label: Sarcastic\n",
      "\n"
     ]
    },
    {
     "name": "stderr",
     "output_type": "stream",
     "text": [
      " 89%|████████▉ | 446/500 [00:18<00:02, 22.05it/s]"
     ]
    },
    {
     "name": "stdout",
     "output_type": "stream",
     "text": [
      "Text: I listened to him for the first time today because of all this. Can't say it's my thing, but I found his stuff interesting (especially that 'Wolves' song or whatever it was. It sounded pretty personal, considering the little I knew of him before).\n",
      "Model output: [[9.999969e-01 3.155815e-06]]\n",
      "Predicted label: Not Sarcastic\n",
      "\n",
      "Text: So only liberals traffic kids huh? LOL!\n",
      "Model output: [[4.2774377e-06 9.9999571e-01]]\n",
      "Predicted label: Sarcastic\n",
      "\n",
      "Text: Huma feigns ignorance, deflects blame to her Weiner\n",
      "Model output: [[0.99378294 0.00621708]]\n",
      "Predicted label: Not Sarcastic\n",
      "\n",
      "Text: I'm hoping they play him kind of like Nuge in his rookie year. Sheltered minutes and extra powerplay time to get his confidence up. Of course nuge produced very well on the powerplay which earned him the right to stay there.\n",
      "Model output: [[9.9960321e-01 3.9686434e-04]]\n",
      "Predicted label: Not Sarcastic\n",
      "\n",
      "Text: There's a very cute girl who gets the same bus as me that I want to talk to, but as I'm short and overweight, she'd probably just call me a creep if I said anything to her. But apart from that I am in the process of losing weight (60 pounds lost being the goal), 20 pounds lost so far. I do it primarily through calorie counting. It can be a bit tough but so far so good.\n",
      "Model output: [[9.9999738e-01 2.6669109e-06]]\n",
      "Predicted label: Not Sarcastic\n",
      "\n"
     ]
    },
    {
     "name": "stderr",
     "output_type": "stream",
     "text": [
      " 90%|████████▉ | 449/500 [00:18<00:02, 21.91it/s]"
     ]
    },
    {
     "name": "stdout",
     "output_type": "stream",
     "text": [
      "Text: He's talking about Silicon Valley.\n",
      "Model output: [[0.88665944 0.11334054]]\n",
      "Predicted label: Not Sarcastic\n",
      "\n",
      "Text: 'Serial,' 'Lore,' 'Still Processing,' and More: The Atlantic's 50 Best Podcasts of 2016\n",
      "Model output: [[9.9998856e-01 1.1388810e-05]]\n",
      "Predicted label: Not Sarcastic\n",
      "\n",
      "Text: That person has told me before that they are Australian and not a white supremacist. Who knows if that's true.\n",
      "Model output: [[9.9995518e-01 4.4820838e-05]]\n",
      "Predicted label: Not Sarcastic\n",
      "\n",
      "Text: Nothing is better.\n",
      "Model output: [[0.93639547 0.06360458]]\n",
      "Predicted label: Not Sarcastic\n",
      "\n",
      "Text: Every time I've seen a random price like that it's been a fake ad. Ought that they added the bit about the ladder rack and work bins, though. That doesn't fit the typical fake ad formula.\n",
      "Model output: [[9.9961072e-01 3.8930407e-04]]\n",
      "Predicted label: Not Sarcastic\n",
      "\n"
     ]
    },
    {
     "name": "stderr",
     "output_type": "stream",
     "text": [
      " 91%|█████████ | 455/500 [00:19<00:02, 21.78it/s]"
     ]
    },
    {
     "name": "stdout",
     "output_type": "stream",
     "text": [
      "Text: Most likely it was put there, to stir up hatred, and increase the catoliana nationalist theme. As they are seeking independence. While using the reason \"to start a conversion\" wich really is just bullshit.\n",
      "Model output: [[9.9999726e-01 2.7384285e-06]]\n",
      "Predicted label: Not Sarcastic\n",
      "\n",
      "Text: Running out of TP.\n",
      "Model output: [[9.9989033e-01 1.0967171e-04]]\n",
      "Predicted label: Not Sarcastic\n",
      "\n",
      "Text: Yahoo is one of those pathetic tech companies that haven't been affecting my life in any way for at least 10 years\n",
      "Model output: [[9.996903e-01 3.097367e-04]]\n",
      "Predicted label: Not Sarcastic\n",
      "\n",
      "Text: Do you think IB/AP classes are truly worth it? Why or why not?\n",
      "Model output: [[3.5624127e-04 9.9964380e-01]]\n",
      "Predicted label: Sarcastic\n",
      "\n",
      "Text: Psycho cat lady assaults boyfriend for not paying attention to her\n",
      "Model output: [[9.9962485e-01 3.7513772e-04]]\n",
      "Predicted label: Not Sarcastic\n",
      "\n"
     ]
    },
    {
     "name": "stderr",
     "output_type": "stream",
     "text": [
      " 92%|█████████▏| 461/500 [00:19<00:01, 21.70it/s]"
     ]
    },
    {
     "name": "stdout",
     "output_type": "stream",
     "text": [
      "Text: Is that a hat in TF2?\n",
      "Model output: [[0.00724541 0.99275464]]\n",
      "Predicted label: Sarcastic\n",
      "\n",
      "Text: Council got good news on the budget today (goes over Seattle economy)\n",
      "Model output: [[9.9999690e-01 3.0852782e-06]]\n",
      "Predicted label: Not Sarcastic\n",
      "\n",
      "Text: Nanoboosted, fully charged Zarya is insane. (My first Sextuple kill!)\n",
      "Model output: [[0.9989685  0.00103156]]\n",
      "Predicted label: Not Sarcastic\n",
      "\n",
      "Text: what YOU think and what's real are 2 entirely different things.\n",
      "Model output: [[9.9998200e-01 1.7964321e-05]]\n",
      "Predicted label: Not Sarcastic\n",
      "\n",
      "Text: \"Did Hillary Clinton break the law?\" Chaffetz asked. \"In connection with her use of the email server? My judgment is that she did not,\" Comey said.\n",
      "Model output: [[9.9999666e-01 3.3079743e-06]]\n",
      "Predicted label: Not Sarcastic\n",
      "\n"
     ]
    },
    {
     "name": "stderr",
     "output_type": "stream",
     "text": [
      " 93%|█████████▎| 464/500 [00:19<00:01, 21.75it/s]"
     ]
    },
    {
     "name": "stdout",
     "output_type": "stream",
     "text": [
      "Text: yea tarik asked his chat yesterday if he could sue pewdiepie because he didnt have permission to put his face on the video but idk if he his joking or not lol\n",
      "Model output: [[9.9999702e-01 2.9319006e-06]]\n",
      "Predicted label: Not Sarcastic\n",
      "\n",
      "Text: Florida man walks out of his house with a semi-automatic rifle and a four-pack of beer and begins shooting at passing cars\n",
      "Model output: [[9.999907e-01 9.326196e-06]]\n",
      "Predicted label: Not Sarcastic\n",
      "\n",
      "Text: The overlooked bonus of the Special Olympics in Rio.\n",
      "Model output: [[4.6997357e-06 9.9999535e-01]]\n",
      "Predicted label: Sarcastic\n",
      "\n",
      "Text: I'm hosting a victory party on Tuesday night. Looking for good ideas of themed foods to serve. So far we've got: * Rock candy (broken glass ceiling) * Spinach and art-of-the-choke dip * basket of dip-lorables (chips) * America (the beer formerly known as Budweiser) * Good beer (because Budweiser sucks) Other ideas? Swing state foods? Brownies for Colorado? Soft pretzels for PA?\n",
      "Model output: [[9.9999738e-01 2.6351418e-06]]\n",
      "Predicted label: Not Sarcastic\n",
      "\n",
      "Text: I was worried about my usage of heart emojis too, but I scrolled down and these comments are comforting me.\n",
      "Model output: [[9.9999714e-01 2.8125990e-06]]\n",
      "Predicted label: Not Sarcastic\n",
      "\n"
     ]
    },
    {
     "name": "stderr",
     "output_type": "stream",
     "text": [
      " 94%|█████████▍| 470/500 [00:19<00:01, 21.52it/s]"
     ]
    },
    {
     "name": "stdout",
     "output_type": "stream",
     "text": [
      "Text: What would it take to get Onward to look like this??!\n",
      "Model output: [[5.6320144e-04 9.9943680e-01]]\n",
      "Predicted label: Sarcastic\n",
      "\n",
      "Text: I forgot how fantastic this video is.\n",
      "Model output: [[3.6472131e-06 9.9999630e-01]]\n",
      "Predicted label: Sarcastic\n",
      "\n",
      "Text: That's actually kind of neat. Must be annoying to maintain though.\n",
      "Model output: [[9.9999702e-01 2.9450014e-06]]\n",
      "Predicted label: Not Sarcastic\n",
      "\n",
      "Text: Which character had the worst hairstyle?\n",
      "Model output: [[0.99653566 0.00346435]]\n",
      "Predicted label: Not Sarcastic\n",
      "\n",
      "Text: you should be aware of the heavy factionalism in the left. There are lot of different schools of thought, some of them really don't like each other.\n",
      "Model output: [[4.933990e-04 9.995066e-01]]\n",
      "Predicted label: Sarcastic\n",
      "\n"
     ]
    },
    {
     "name": "stderr",
     "output_type": "stream",
     "text": [
      " 95%|█████████▌| 476/500 [00:20<00:01, 22.00it/s]"
     ]
    },
    {
     "name": "stdout",
     "output_type": "stream",
     "text": [
      "Text: Jesus Christ what's it going to take until we put a stop to it\n",
      "Model output: [[2.6004704e-05 9.9997401e-01]]\n",
      "Predicted label: Sarcastic\n",
      "\n",
      "Text: That will never be determined because the inquiry is not going to look at reserves.\n",
      "Model output: [[9.9999356e-01 6.4637402e-06]]\n",
      "Predicted label: Not Sarcastic\n",
      "\n",
      "Text: LIVE: 2nd Presidential Debate from Washington University in St. Louis\n",
      "Model output: [[9.9999690e-01 3.1025568e-06]]\n",
      "Predicted label: Not Sarcastic\n",
      "\n",
      "Text: That requires holding players accountable. Gus Bradley doesn't do that. He started Chris Clemons last year for all 16 games, despite the fact that he: - Missed OTAs and showed up late to training camp - Practiced once a week - Was garbage on the field - Called our beat reporter a racist Other players are going to start coming out. This is only the beginning of a dumpster fire unfolding right before our very eyes.\n",
      "Model output: [[9.999914e-01 8.538973e-06]]\n",
      "Predicted label: Not Sarcastic\n",
      "\n",
      "Text: Seems something happened to Clevinger, he was scheduled to speak at 5\n",
      "Model output: [[9.999366e-01 6.337401e-05]]\n",
      "Predicted label: Not Sarcastic\n",
      "\n"
     ]
    },
    {
     "name": "stderr",
     "output_type": "stream",
     "text": [
      " 96%|█████████▌| 479/500 [00:20<00:00, 22.70it/s]"
     ]
    },
    {
     "name": "stdout",
     "output_type": "stream",
     "text": [
      "Text: there were cucks against bush in 2000 and 2004 (i don't like bush, btw). they threw eggs at bush's limo in 2004 i think. relax all of you people and just trust the USSS and these bikers to keep the peace there\n",
      "Model output: [[0.98037475 0.01962519]]\n",
      "Predicted label: Not Sarcastic\n",
      "\n",
      "Text: Burried in a grave filled with chinese money and hunnies, next to Dade.\n",
      "Model output: [[9.9999630e-01 3.6724161e-06]]\n",
      "Predicted label: Not Sarcastic\n",
      "\n",
      "Text: When No Game No Life S2 comes out\n",
      "Model output: [[9.9999583e-01 4.1997964e-06]]\n",
      "Predicted label: Not Sarcastic\n",
      "\n",
      "Text: To be fair, anyone you have to nag for a rent payment should find somewhere else to live.\n",
      "Model output: [[0.9833708  0.01662926]]\n",
      "Predicted label: Not Sarcastic\n",
      "\n",
      "Text: I have tested bringing this third spell into the mix, however I would personally not recommend it. There is specific timing required for the spin flax spell, and adding another strange timing factor into it does increase xp/hr, but only by about ~6% and decreases the already lowish profit you make from spin flax + tan leather method.\n",
      "Model output: [[9.9999738e-01 2.6724942e-06]]\n",
      "Predicted label: Not Sarcastic\n",
      "\n"
     ]
    },
    {
     "name": "stderr",
     "output_type": "stream",
     "text": [
      " 97%|█████████▋| 485/500 [00:20<00:00, 23.24it/s]"
     ]
    },
    {
     "name": "stdout",
     "output_type": "stream",
     "text": [
      "Text: glad i left that shit hole\n",
      "Model output: [[5.5958903e-06 9.9999440e-01]]\n",
      "Predicted label: Sarcastic\n",
      "\n",
      "Text: Did i say only?\n",
      "Model output: [[9.999968e-01 3.218484e-06]]\n",
      "Predicted label: Not Sarcastic\n",
      "\n",
      "Text: What was the other one?\n",
      "Model output: [[9.9999642e-01 3.6203357e-06]]\n",
      "Predicted label: Not Sarcastic\n",
      "\n",
      "Text: I hope they scrap Murphy after this season though. He serves no real purpose after Escobar. Would have been better if Carillo was around as one of the main protagonists to take on the Cali Cartel.\n",
      "Model output: [[0.01148952 0.9885105 ]]\n",
      "Predicted label: Sarcastic\n",
      "\n",
      "Text: I just wish they added it as a part of FNM rather than a separate day. I have enough trouble getting out for one night of magic a week. Also, what times do your guys' stores do the event? Because my store thought it was a decent idea at 2pm...\n",
      "Model output: [[9.9999654e-01 3.4906532e-06]]\n",
      "Predicted label: Not Sarcastic\n",
      "\n"
     ]
    },
    {
     "name": "stderr",
     "output_type": "stream",
     "text": [
      " 98%|█████████▊| 491/500 [00:20<00:00, 24.14it/s]"
     ]
    },
    {
     "name": "stdout",
     "output_type": "stream",
     "text": [
      "Text: yeah that guy won't recover for a while...\n",
      "Model output: [[9.9998653e-01 1.3431715e-05]]\n",
      "Predicted label: Not Sarcastic\n",
      "\n",
      "Text: I saw it described once that \"boys are for fun, women are for babies.\" You can also s/boys/goats/ and it's probably still true.\n",
      "Model output: [[9.999974e-01 2.662065e-06]]\n",
      "Predicted label: Not Sarcastic\n",
      "\n",
      "Text: What are you guys talking a boat?\n",
      "Model output: [[9.9993026e-01 6.9702000e-05]]\n",
      "Predicted label: Not Sarcastic\n",
      "\n",
      "Text: being forced to watch a hitlery speech is cruel and unusual punishment. time to lawyer up.\n",
      "Model output: [[0.75133824 0.24866179]]\n",
      "Predicted label: Not Sarcastic\n",
      "\n",
      "Text: He doesn't think you can roast him.\n",
      "Model output: [[9.9996579e-01 3.4188906e-05]]\n",
      "Predicted label: Not Sarcastic\n",
      "\n"
     ]
    },
    {
     "name": "stderr",
     "output_type": "stream",
     "text": [
      " 99%|█████████▉| 497/500 [00:20<00:00, 24.79it/s]"
     ]
    },
    {
     "name": "stdout",
     "output_type": "stream",
     "text": [
      "Text: It's also a neighborhood in San Diego, and a beach in San Francisco.\n",
      "Model output: [[9.9999607e-01 3.9154520e-06]]\n",
      "Predicted label: Not Sarcastic\n",
      "\n",
      "Text: yep, yak9ut also has 3 loadouts for guns. 2x20 and 23, 2x20 and 37, 2x20 and 45. or was it the yak9p?\n",
      "Model output: [[4.7277408e-05 9.9995267e-01]]\n",
      "Predicted label: Sarcastic\n",
      "\n",
      "Text: To be honest, I don't know. But I do know the Director of the FBI should know how.\n",
      "Model output: [[5.4177764e-04 9.9945825e-01]]\n",
      "Predicted label: Sarcastic\n",
      "\n",
      "Text: For 3 Years I've Been Playing On A Laptop - What Have I Missed Today was a good day. I've been playing solely PC for 3 years, running integrated graphics and an I3. It overheats, runs CS at less than 60 frames. Let's just say, I've missed a lot when it comes to gaming. Now I've Ascended - a beautiful machine with an I7 and 1080 - what have I missed? What games have beautiful graphics? What story have I not played because my computer couldn't handle it? **Psst - I'm asking for you to recommend games!**\n",
      "Model output: [[9.9999726e-01 2.6938169e-06]]\n",
      "Predicted label: Not Sarcastic\n",
      "\n",
      "Text: Who got what from the steam sale? I'll start: * Doom * Witcher 3 * Xcom 2 * Shadow of Mordor * Mortal Kombat x * Portal 2 * Divinity Org Sin * Shadowrun Returns * FTL I recon I'm set for a while. Trouble is I've started with FTL and I'm hooked!\n",
      "Model output: [[9.9999750e-01 2.5236784e-06]]\n",
      "Predicted label: Not Sarcastic\n",
      "\n",
      "Text: Can we have a \"Sorry\" in the context menu or a hotkey? I often do mistakes and I want to apologise to my team for when I do something dumb. Please Blizzard, this is my one request!\n",
      "Model output: [[9.999970e-01 3.027295e-06]]\n",
      "Predicted label: Not Sarcastic\n",
      "\n"
     ]
    },
    {
     "name": "stderr",
     "output_type": "stream",
     "text": [
      "100%|██████████| 500/500 [00:21<00:00, 23.73it/s]"
     ]
    },
    {
     "name": "stdout",
     "output_type": "stream",
     "text": [
      "Text: It doesn't bother me actually. Its a non-issue for consumers, but still weird that they chose to market it. Wonder why.\n",
      "Model output: [[9.9999726e-01 2.7868655e-06]]\n",
      "Predicted label: Not Sarcastic\n",
      "\n",
      "Text: The shuttle orbiter is 37 meters long, so the spaceX Mars vehicle is about three times as long and many more times as massive\n",
      "Model output: [[9.9998832e-01 1.1708279e-05]]\n",
      "Predicted label: Not Sarcastic\n",
      "\n",
      "Text: System requirements always tend to be estimates.\n",
      "Model output: [[9.9999726e-01 2.7946103e-06]]\n",
      "Predicted label: Not Sarcastic\n",
      "\n",
      "\n",
      "Final Classification Report:\n",
      "               precision    recall  f1-score   support\n",
      "\n",
      "Not Sarcastic       0.96      0.73      0.83       474\n",
      "    Sarcastic       0.09      0.46      0.14        26\n",
      "\n",
      "     accuracy                           0.71       500\n",
      "    macro avg       0.52      0.59      0.49       500\n",
      " weighted avg       0.92      0.71      0.79       500\n",
      "\n"
     ]
    },
    {
     "name": "stderr",
     "output_type": "stream",
     "text": [
      "\n"
     ]
    }
   ],
   "source": [
    "import pandas as pd\n",
    "from transformers import AutoTokenizer, AutoModelForSequenceClassification\n",
    "from sklearn.metrics import classification_report\n",
    "from scipy.special import softmax\n",
    "import torch\n",
    "from tqdm import tqdm\n",
    "\n",
    "# ✅ Step 1: Load the sarcasm dataset\n",
    "df = pd.read_csv(\"train-balanced-sarc.csv\", sep=\"\\t\", header=None, on_bad_lines=\"skip\")\n",
    "df.columns = [\"label\", \"author\", \"subreddit\", \"score\", \"parent\", \"comment_id\", \"id\", \"created_utc\", \"context\", \"text\"]\n",
    "df = df.dropna()\n",
    "df = df[:500]  # Use a sample for quick evaluation\n",
    "\n",
    "df[\"label\"] = df[\"label\"].astype(int)\n",
    "df[\"text\"] = df[\"text\"].astype(str)\n",
    "\n",
    "# ✅ Step 2: Load model and tokenizer\n",
    "model_name = \"jkhan447/sarcasm-detection-Bert-base-uncased\"\n",
    "tokenizer = AutoTokenizer.from_pretrained(model_name)\n",
    "model = AutoModelForSequenceClassification.from_pretrained(model_name)\n",
    "\n",
    "device = torch.device(\"cuda\" if torch.cuda.is_available() else \"cpu\")\n",
    "model.to(device)\n",
    "model.eval()\n",
    "\n",
    "# ✅ Step 3: Inference loop\n",
    "all_preds, all_labels = [], []\n",
    "\n",
    "for _, row in tqdm(df.iterrows(), total=len(df)):\n",
    "    text = row[\"text\"]\n",
    "    label = row[\"label\"]\n",
    "\n",
    "    inputs = tokenizer(text, return_tensors=\"pt\", truncation=True, padding=\"max_length\", max_length=128).to(device)\n",
    "\n",
    "    with torch.no_grad():\n",
    "        logits = model(**inputs).logits\n",
    "        probs = softmax(logits.cpu().numpy(), axis=1)\n",
    "        pred = probs.argmax(axis=1).item()\n",
    "\n",
    "    # Debug print\n",
    "    print(f\"Text: {text}\")\n",
    "    print(f\"Model output: {probs}\")\n",
    "    print(f\"Predicted label: {'Sarcastic' if pred == 1 else 'Not Sarcastic'}\\n\")\n",
    "\n",
    "    all_preds.append(pred)\n",
    "    all_labels.append(label)\n",
    "\n",
    "# ✅ Step 4: Evaluation\n",
    "print(\"\\nFinal Classification Report:\")\n",
    "print(classification_report(all_labels, all_preds, target_names=[\"Not Sarcastic\", \"Sarcastic\"]))\n"
   ]
  },
  {
   "cell_type": "code",
   "execution_count": 4,
   "metadata": {},
   "outputs": [
    {
     "ename": "ModuleNotFoundError",
     "evalue": "No module named 'pandas'",
     "output_type": "error",
     "traceback": [
      "\u001b[0;31m---------------------------------------------------------------------------\u001b[0m",
      "\u001b[0;31mModuleNotFoundError\u001b[0m                       Traceback (most recent call last)",
      "Cell \u001b[0;32mIn[4], line 3\u001b[0m\n\u001b[1;32m      1\u001b[0m \u001b[38;5;66;03m# !pip install sklearn\u001b[39;00m\n\u001b[0;32m----> 3\u001b[0m \u001b[38;5;28;01mimport\u001b[39;00m\u001b[38;5;250m \u001b[39m\u001b[38;5;21;01mpandas\u001b[39;00m\u001b[38;5;250m \u001b[39m\u001b[38;5;28;01mas\u001b[39;00m\u001b[38;5;250m \u001b[39m\u001b[38;5;21;01mpd\u001b[39;00m\n\u001b[1;32m      4\u001b[0m \u001b[38;5;28;01mfrom\u001b[39;00m\u001b[38;5;250m \u001b[39m\u001b[38;5;21;01mdatasets\u001b[39;00m\u001b[38;5;250m \u001b[39m\u001b[38;5;28;01mimport\u001b[39;00m Dataset\n\u001b[1;32m      5\u001b[0m \u001b[38;5;28;01mfrom\u001b[39;00m\u001b[38;5;250m \u001b[39m\u001b[38;5;21;01mtransformers\u001b[39;00m\u001b[38;5;250m \u001b[39m\u001b[38;5;28;01mimport\u001b[39;00m AutoTokenizer, AutoModelForSequenceClassification, TrainingArguments, Trainer, EarlyStoppingCallback\n",
      "\u001b[0;31mModuleNotFoundError\u001b[0m: No module named 'pandas'"
     ]
    }
   ],
   "source": [
    "# !pip install sklearn\n",
    "\n",
    "import pandas as pd\n",
    "from datasets import Dataset\n",
    "from transformers import AutoTokenizer, AutoModelForSequenceClassification, TrainingArguments, Trainer, EarlyStoppingCallback\n",
    "from sklearn.metrics import accuracy_score, precision_recall_fscore_support\n",
    "\n",
    "# ✅ Load raw dataset\n",
    "df = pd.read_csv(\"train-balanced-sarc.csv\", sep=\"\\t\", header=None, on_bad_lines=\"skip\")\n",
    "df.columns = [\"label\", \"author\", \"subreddit\", \"score\", \"parent\", \"comment_id\", \"id\", \"created_utc\", \"context\", \"text\"]\n",
    "df = df[[\"text\", \"label\"]].dropna()\n",
    "df[\"label\"] = df[\"label\"].astype(int)\n",
    "df[\"text\"] = df[\"text\"].astype(str)\n",
    "\n",
    "# ✅ Balance the dataset\n",
    "min_count = min(df[\"label\"].value_counts()[0], df[\"label\"].value_counts()[1], 50000)  # cap at 20k each\n",
    "\n",
    "df_sarcastic = df[df[\"label\"] == 1].sample(n=min_count, random_state=42)\n",
    "df_nonsarcastic = df[df[\"label\"] == 0].sample(n=min_count, random_state=42)\n",
    "print(len(df_sarcastic), len(df_nonsarcastic))\n",
    "\n",
    "df_balanced = pd.concat([df_sarcastic, df_nonsarcastic]).sample(frac=1.0, random_state=42).reset_index(drop=True)\n",
    "\n",
    "# ✅ Convert to Hugging Face dataset\n",
    "dataset = Dataset.from_pandas(df_balanced)\n",
    "dataset = dataset.train_test_split(test_size=0.1)\n",
    "\n",
    "# ✅ Load model and tokenizer\n",
    "model_name = \"helinivan/english-sarcasm-detector\"\n",
    "tokenizer = AutoTokenizer.from_pretrained(model_name)\n",
    "model = AutoModelForSequenceClassification.from_pretrained(model_name)\n",
    "\n",
    "# ✅ Tokenization\n",
    "def tokenize(batch):\n",
    "    return tokenizer(batch[\"text\"], padding=\"max_length\", truncation=True, max_length=64)\n",
    "\n",
    "tokenized_ds = dataset.map(tokenize, batched=True)\n",
    "tokenized_ds = tokenized_ds.remove_columns([\"text\"])\n",
    "tokenized_ds.set_format(\"torch\")\n",
    "\n",
    "# ✅ Metrics\n",
    "def compute_metrics(pred):\n",
    "    labels = pred.label_ids\n",
    "    preds = pred.predictions.argmax(-1)\n",
    "    precision, recall, f1, _ = precision_recall_fscore_support(labels, preds, average=\"binary\")\n",
    "    acc = accuracy_score(labels, preds)\n",
    "    return {\"accuracy\": acc, \"precision\": precision, \"recall\": recall, \"f1\": f1}\n",
    "\n",
    "# ✅ Training setup\n",
    "training_args = TrainingArguments(\n",
    "    output_dir=\"./balanced-sarcasm-checkpoints\",\n",
    "    evaluation_strategy=\"epoch\",\n",
    "    save_strategy=\"epoch\",\n",
    "    logging_dir=\"./logs\",\n",
    "    per_device_train_batch_size=8,\n",
    "    per_device_eval_batch_size=8,\n",
    "    num_train_epochs=3,\n",
    "    learning_rate=3e-5,\n",
    "    weight_decay=0.01,\n",
    "    save_total_limit=1,\n",
    "    load_best_model_at_end=True,\n",
    "    metric_for_best_model=\"eval_loss\",\n",
    ")\n",
    "\n",
    "trainer = Trainer(\n",
    "    model=model,\n",
    "    args=training_args,\n",
    "    train_dataset=tokenized_ds[\"train\"],\n",
    "    eval_dataset=tokenized_ds[\"test\"],\n",
    "    tokenizer=tokenizer,\n",
    "    compute_metrics=compute_metrics,\n",
    "    callbacks=[EarlyStoppingCallback(early_stopping_patience=1)]\n",
    ")\n",
    "\n",
    "trainer.train()\n",
    "\n",
    "# ✅ Save the model\n",
    "model.save_pretrained(\"helinivan-finetuned-balanced\")\n",
    "tokenizer.save_pretrained(\"helinivan-finetuned-balanced\")\n",
    "\n"
   ]
  },
  {
   "cell_type": "code",
   "execution_count": 31,
   "metadata": {},
   "outputs": [
    {
     "name": "stderr",
     "output_type": "stream",
     "text": [
      "Map: 100%|██████████| 90000/90000 [00:03<00:00, 25130.01 examples/s]\n",
      "Map: 100%|██████████| 10000/10000 [00:00<00:00, 19368.09 examples/s]\n",
      "/Users/stygianphantom/Library/Python/3.9/lib/python/site-packages/transformers/training_args.py:1611: FutureWarning: `evaluation_strategy` is deprecated and will be removed in version 4.46 of 🤗 Transformers. Use `eval_strategy` instead\n",
      "  warnings.warn(\n",
      "/var/folders/sy/j85r4wzj1b76bxxb72ht66cr0000gn/T/ipykernel_5477/3437571465.py:70: FutureWarning: `tokenizer` is deprecated and will be removed in version 5.0.0 for `Trainer.__init__`. Use `processing_class` instead.\n",
      "  trainer = Trainer(\n",
      "Warning: The following arguments do not match the ones in the `trainer_state.json` within the checkpoint directory: \n",
      "\tsave_steps: 2000 (from args) != 500 (from trainer_state.json)\n"
     ]
    },
    {
     "data": {
      "text/html": [
       "\n",
       "    <div>\n",
       "      \n",
       "      <progress value='33750' max='45000' style='width:300px; height:20px; vertical-align: middle;'></progress>\n",
       "      [33750/45000 2:01:46 < 1:00:53, 3.08 it/s, Epoch 3/4]\n",
       "    </div>\n",
       "    <table border=\"1\" class=\"dataframe\">\n",
       "  <thead>\n",
       " <tr style=\"text-align: left;\">\n",
       "      <th>Epoch</th>\n",
       "      <th>Training Loss</th>\n",
       "      <th>Validation Loss</th>\n",
       "      <th>Accuracy</th>\n",
       "      <th>Precision</th>\n",
       "      <th>Recall</th>\n",
       "      <th>F1</th>\n",
       "    </tr>\n",
       "  </thead>\n",
       "  <tbody>\n",
       "    <tr>\n",
       "      <td>2</td>\n",
       "      <td>0.652000</td>\n",
       "      <td>0.648304</td>\n",
       "      <td>0.626000</td>\n",
       "      <td>0.613461</td>\n",
       "      <td>0.707206</td>\n",
       "      <td>0.657007</td>\n",
       "    </tr>\n",
       "    <tr>\n",
       "      <td>3</td>\n",
       "      <td>0.573700</td>\n",
       "      <td>0.681581</td>\n",
       "      <td>0.632200</td>\n",
       "      <td>0.628402</td>\n",
       "      <td>0.670089</td>\n",
       "      <td>0.648576</td>\n",
       "    </tr>\n",
       "  </tbody>\n",
       "</table><p>"
      ],
      "text/plain": [
       "<IPython.core.display.HTML object>"
      ]
     },
     "metadata": {},
     "output_type": "display_data"
    },
    {
     "data": {
      "text/plain": [
       "('cardiff-twitter-roberta-finetuned-sarcasm/tokenizer_config.json',\n",
       " 'cardiff-twitter-roberta-finetuned-sarcasm/special_tokens_map.json',\n",
       " 'cardiff-twitter-roberta-finetuned-sarcasm/vocab.json',\n",
       " 'cardiff-twitter-roberta-finetuned-sarcasm/merges.txt',\n",
       " 'cardiff-twitter-roberta-finetuned-sarcasm/added_tokens.json',\n",
       " 'cardiff-twitter-roberta-finetuned-sarcasm/tokenizer.json')"
      ]
     },
     "execution_count": 31,
     "metadata": {},
     "output_type": "execute_result"
    }
   ],
   "source": [
    "# ✅ Imports\n",
    "import pandas as pd\n",
    "import torch\n",
    "from datasets import Dataset\n",
    "from transformers import (\n",
    "    AutoTokenizer, AutoModelForSequenceClassification,\n",
    "    TrainingArguments, Trainer, EarlyStoppingCallback\n",
    ")\n",
    "from sklearn.metrics import accuracy_score, precision_recall_fscore_support\n",
    "\n",
    "# ✅ Load and prepare dataset\n",
    "df = pd.read_csv(\"train-balanced-sarc.csv\", sep=\"\\t\", header=None, on_bad_lines=\"skip\")\n",
    "df.columns = [\"label\", \"author\", \"subreddit\", \"score\", \"parent\", \"comment_id\", \"id\", \"created_utc\", \"context\", \"text\"]\n",
    "df = df[[\"text\", \"label\"]].dropna()\n",
    "df[\"label\"] = df[\"label\"].astype(int)\n",
    "df[\"text\"] = df[\"text\"].astype(str)\n",
    "\n",
    "# ✅ Balance the dataset (up to 50k per class)\n",
    "min_count = min(df[\"label\"].value_counts()[0], df[\"label\"].value_counts()[1], 50000)\n",
    "df_sarcastic = df[df[\"label\"] == 1].sample(n=min_count, random_state=42)\n",
    "df_nonsarcastic = df[df[\"label\"] == 0].sample(n=min_count, random_state=42)\n",
    "df_balanced = pd.concat([df_sarcastic, df_nonsarcastic]).sample(frac=1.0, random_state=42).reset_index(drop=True)\n",
    "\n",
    "# ✅ Convert to Hugging Face Dataset\n",
    "dataset = Dataset.from_pandas(df_balanced)\n",
    "dataset = dataset.train_test_split(test_size=0.1)\n",
    "\n",
    "# ✅ Load tokenizer\n",
    "model_name = \"cardiffnlp/twitter-roberta-base-sentiment\"\n",
    "tokenizer = AutoTokenizer.from_pretrained(model_name)\n",
    "\n",
    "# ✅ Load model from last checkpoint (not from HF Hub)\n",
    "checkpoint_path = \"./cardiff-sarcasm-checkpoints/checkpoint-11250\"\n",
    "model = AutoModelForSequenceClassification.from_pretrained(checkpoint_path)\n",
    "\n",
    "# ✅ Tokenize the dataset\n",
    "def tokenize(batch):\n",
    "    return tokenizer(batch[\"text\"], padding=\"max_length\", truncation=True, max_length=128)\n",
    "\n",
    "tokenized_ds = dataset.map(tokenize, batched=True)\n",
    "tokenized_ds = tokenized_ds.remove_columns([\"text\"])\n",
    "tokenized_ds.set_format(\"torch\")\n",
    "\n",
    "# ✅ Define metrics\n",
    "def compute_metrics(pred):\n",
    "    labels = pred.label_ids\n",
    "    preds = pred.predictions.argmax(-1)\n",
    "    precision, recall, f1, _ = precision_recall_fscore_support(labels, preds, average=\"binary\")\n",
    "    acc = accuracy_score(labels, preds)\n",
    "    return {\"accuracy\": acc, \"precision\": precision, \"recall\": recall, \"f1\": f1}\n",
    "\n",
    "# ✅ Training arguments\n",
    "training_args = TrainingArguments(\n",
    "    output_dir=\"./cardiff-sarcasm-checkpoints\",\n",
    "    evaluation_strategy=\"epoch\",\n",
    "    save_strategy=\"epoch\",         # More frequent saving\n",
    "    save_steps=2000,               # Save every 2000 steps\n",
    "    logging_dir=\"./logs\",\n",
    "    per_device_train_batch_size=8,\n",
    "    per_device_eval_batch_size=8,\n",
    "    num_train_epochs=4,\n",
    "    learning_rate=2e-5,\n",
    "    weight_decay=0.01,\n",
    "    save_total_limit=2,\n",
    "    load_best_model_at_end=True,\n",
    "    metric_for_best_model=\"eval_loss\",\n",
    ")\n",
    "\n",
    "# ✅ Trainer setup\n",
    "trainer = Trainer(\n",
    "    model=model,\n",
    "    args=training_args,\n",
    "    train_dataset=tokenized_ds[\"train\"],\n",
    "    eval_dataset=tokenized_ds[\"test\"],\n",
    "    tokenizer=tokenizer,\n",
    "    compute_metrics=compute_metrics,\n",
    "    callbacks=[EarlyStoppingCallback(early_stopping_patience=1)]\n",
    ")\n",
    "\n",
    "# ✅ Resume training from checkpoint\n",
    "trainer.train(resume_from_checkpoint=checkpoint_path)\n",
    "\n",
    "# ✅ Save the final model\n",
    "model.save_pretrained(\"cardiff-twitter-roberta-finetuned-sarcasm\")\n",
    "tokenizer.save_pretrained(\"cardiff-twitter-roberta-finetuned-sarcasm\")\n"
   ]
  },
  {
   "cell_type": "code",
   "execution_count": null,
   "metadata": {},
   "outputs": [
    {
     "name": "stdout",
     "output_type": "stream",
     "text": [
      "[GENUINE] (0.45): Oh great, another Monday. Just what I needed.\n",
      "[GENUINE] (0.42): Wow, I totally love waiting in line for three hours!\n",
      "[GENUINE] (0.40): I absolutely adore it when my code breaks right before the deadline.\n",
      "[SARCASM] (0.53): Sure, because sleeping 2 hours a night is super healthy.\n",
      "[SARCASM] (0.56): Thanks, I love getting ignored in group projects.\n",
      "[SARCASM] (0.54): I just got promoted! Hard work really pays off.\n",
      "[GENUINE] (0.36): The sunset was so beautiful last night.\n",
      "[SARCASM] (0.64): I'm thrilled to pay taxes, best part of the year.\n"
     ]
    }
   ],
   "source": [
    "import torch\n",
    "from transformers import AutoTokenizer, AutoModelForSequenceClassification\n",
    "from torch.nn.functional import softmax\n",
    "\n",
    "# ✅ Load tokenizer and model\n",
    "model_path = \"helinivan-finetuned-balanced\"  # or \"helinivan/english-sarcasm-detector\" if not fine-tuned\n",
    "tokenizer = AutoTokenizer.from_pretrained(model_path)\n",
    "model = AutoModelForSequenceClassification.from_pretrained(model_path)\n",
    "model.eval()\n",
    "\n",
    "device = torch.device(\"cuda\" if torch.cuda.is_available() else \"cpu\")\n",
    "model.to(device)\n",
    "\n",
    "# ✅ Prediction function\n",
    "def predict_sarcasm(texts):\n",
    "    inputs = tokenizer(texts, padding=True, truncation=True, return_tensors=\"pt\", max_length=64).to(device)\n",
    "    with torch.no_grad():\n",
    "        outputs = model(**inputs)\n",
    "        probs = softmax(outputs.logits, dim=1)\n",
    "        preds = torch.argmax(probs, dim=1).cpu().tolist()\n",
    "        confidences = probs[:, 1].cpu().tolist()  # Confidence for \"sarcastic\" class\n",
    "    return [{\"text\": t, \"is_sarcastic\": bool(p), \"confidence\": round(c, 3)} for t, p, c in zip(texts, preds, confidences)]\n",
    "\n",
    "# ✅ Sample sarcastic and non-sarcastic sentences\n",
    "# test_sentences = [\n",
    "#     \"Oh great, another Monday. Just what I needed.\",\n",
    "#     \"Wow, I totally love waiting in line for three hours!\",\n",
    "#     \"I absolutely adore it when my code breaks right before the deadline.\",\n",
    "#     \"Sure, because sleeping 2 hours a night is super healthy.\",\n",
    "#     \"Thanks, I love getting ignored in group projects.\",\n",
    "#     \"I just got promoted! Hard work really pays off.\",  # Non-sarcastic\n",
    "#     \"The sunset was so beautiful last night.\",          # Non-sarcastic\n",
    "#     \"I'm thrilled to pay taxes, best part of the year.\", # Sarcastic\n",
    "# ]\n",
    "\n",
    "# ✅ Run predictions\n",
    "results = predict_sarcasm([test_sentence])\n",
    "\n",
    "# ✅ Print results\n",
    "for r in results:\n",
    "    print(f\"{'[SARCASM]' if r['is_sarcastic'] else '[GENUINE]'} ({r['confidence']:.2f}): {r['text']}\")\n"
   ]
  },
  {
   "cell_type": "code",
   "execution_count": 35,
   "metadata": {},
   "outputs": [
    {
     "name": "stdout",
     "output_type": "stream",
     "text": [
      "[<PAD> NORMAL</S>]: I just love it when my laptop decides to update right before an important meeting. Honestly, I can’t think of a better time.\n",
      "[<PAD> DERISON]: Of course the printer jammed again. I mean, who doesn’t enjoy fixing tech problems while running late?\n",
      "[<PAD> DERISON]: Oh sure, because sleeping three hours a night and living off coffee is exactly what they meant by work-life balance.\n",
      "[<PAD> NORMAL</S>]: Nothing beats stepping in a puddle with socks on. Really brightens the whole day.\n",
      "[<PAD> NORMAL</S>]: Wow, the internet is down again during a Zoom presentation. Love how technology always has my back.\n"
     ]
    }
   ],
   "source": [
    "from transformers import AutoTokenizer, AutoModelWithLMHead\n",
    "\n",
    "# Load the tokenizer and model\n",
    "tokenizer = AutoTokenizer.from_pretrained(\"mrm8488/t5-base-finetuned-sarcasm-twitter\")\n",
    "model = AutoModelWithLMHead.from_pretrained(\"mrm8488/t5-base-finetuned-sarcasm-twitter\")\n",
    "\n",
    "def detect_sarcasm(text):\n",
    "    # Encode the input text\n",
    "    input_ids = tokenizer.encode(text + '</s>', return_tensors='pt')\n",
    "    # Generate the output\n",
    "    output = model.generate(input_ids=input_ids, max_length=3)\n",
    "    # Decode the output\n",
    "    label = tokenizer.decode(output[0])\n",
    "    return label.strip()\n",
    "\n",
    "# List of sentences to test\n",
    "sentences = [\n",
    "    \"I just love it when my laptop decides to update right before an important meeting. Honestly, I can’t think of a better time.\",\n",
    "    \"Of course the printer jammed again. I mean, who doesn’t enjoy fixing tech problems while running late?\",\n",
    "    \"Oh sure, because sleeping three hours a night and living off coffee is exactly what they meant by work-life balance.\",\n",
    "    \"Nothing beats stepping in a puddle with socks on. Really brightens the whole day.\",\n",
    "    \"Wow, the internet is down again during a Zoom presentation. Love how technology always has my back.\",\n",
    "]\n",
    "\n",
    "# Test each sentence\n",
    "for sentence in sentences:\n",
    "    result = detect_sarcasm(sentence)\n",
    "    print(f\"[{result.upper()}]: {sentence}\")\n"
   ]
  },
  {
   "cell_type": "code",
   "execution_count": null,
   "metadata": {},
   "outputs": [],
   "source": [
    "# ✅ Install dependencies\n",
    "# !pip install transformers datasets scikit-learn --quiet\n",
    "\n",
    "✅ Imports\n",
    "import pandas as pd\n",
    "import torch\n",
    "from datasets import Dataset\n",
    "from transformers import (\n",
    "    AutoTokenizer, AutoModelForSequenceClassification,\n",
    "    TrainingArguments, Trainer, EarlyStoppingCallback\n",
    ")\n",
    "from sklearn.metrics import accuracy_score, precision_recall_fscore_support\n",
    "\n",
    "# ✅ Load and balance the dataset (limit to 50k per class)\n",
    "df = pd.read_csv(\"train-balanced-sarc.csv\", sep=\"\\t\", header=None, on_bad_lines=\"skip\")\n",
    "df.columns = [\"label\", \"author\", \"subreddit\", \"score\", \"parent\", \"comment_id\", \"id\", \"created_utc\", \"context\", \"text\"]\n",
    "df = df[[\"text\", \"label\"]].dropna()\n",
    "df[\"label\"] = df[\"label\"].astype(int)\n",
    "df[\"text\"] = df[\"text\"].astype(str)\n",
    "\n",
    "min_count = min(df[\"label\"].value_counts()[0], df[\"label\"].value_counts()[1], 50000)\n",
    "df_sarcastic = df[df[\"label\"] == 1].sample(n=min_count, random_state=42)\n",
    "df_nonsarcastic = df[df[\"label\"] == 0].sample(n=min_count, random_state=42)\n",
    "df_balanced = pd.concat([df_sarcastic, df_nonsarcastic]).sample(frac=1.0, random_state=42).reset_index(drop=True)\n",
    "\n",
    "# ✅ Convert to Hugging Face Dataset\n",
    "dataset = Dataset.from_pandas(df_balanced)\n",
    "dataset = dataset.train_test_split(test_size=0.1)\n",
    "\n",
    "# ✅ Tokenizer and Model (roberta-base, 2-class head)\n",
    "model_name = \"roberta-base\"\n",
    "tokenizer = AutoTokenizer.from_pretrained(model_name)\n",
    "model = AutoModelForSequenceClassification.from_pretrained(model_name, num_labels=2)\n",
    "\n",
    "# ✅ Tokenization function\n",
    "def tokenize(batch):\n",
    "    return tokenizer(batch[\"text\"], padding=\"max_length\", truncation=True, max_length=256)\n",
    "\n",
    "tokenized_ds = dataset.map(tokenize, batched=True)\n",
    "tokenized_ds = tokenized_ds.remove_columns([\"text\"])\n",
    "tokenized_ds.set_format(\"torch\")\n",
    "\n",
    "# ✅ Metrics\n",
    "def compute_metrics(pred):\n",
    "    labels = pred.label_ids\n",
    "    preds = pred.predictions.argmax(-1)\n",
    "    precision, recall, f1, _ = precision_recall_fscore_support(labels, preds, average=\"binary\")\n",
    "    acc = accuracy_score(labels, preds)\n",
    "    return {\"accuracy\": acc, \"precision\": precision, \"recall\": recall, \"f1\": f1}\n",
    "\n",
    "# ✅ Training arguments\n",
    "training_args = TrainingArguments(\n",
    "    output_dir=\"./roberta-sarcasm-checkpoints\",\n",
    "    evaluation_strategy=\"epoch\",\n",
    "    save_strategy=\"epoch\",\n",
    "    logging_dir=\"./logs\",\n",
    "    per_device_train_batch_size=8,\n",
    "    per_device_eval_batch_size=8,\n",
    "    num_train_epochs=4,\n",
    "    learning_rate=2e-5,\n",
    "    weight_decay=0.01,\n",
    "    save_total_limit=1,\n",
    "    load_best_model_at_end=True,\n",
    "    metric_for_best_model=\"eval_loss\"\n",
    ")\n",
    "\n",
    "# ✅ Trainer setup\n",
    "trainer = Trainer(\n",
    "    model=model,\n",
    "    args=training_args,\n",
    "    train_dataset=tokenized_ds[\"train\"],\n",
    "    eval_dataset=tokenized_ds[\"test\"],\n",
    "    tokenizer=tokenizer,\n",
    "    compute_metrics=compute_metrics,\n",
    "    callbacks=[EarlyStoppingCallback(early_stopping_patience=1)]\n",
    ")\n",
    "\n",
    "# ✅ Train!\n",
    "trainer.train()\n",
    "\n",
    "# ✅ Save the fine-tuned model\n",
    "model.save_pretrained(\"roberta-base-finetuned-sarcasm\")\n",
    "tokenizer.save_pretrained(\"roberta-base-finetuned-sarcasm\")\n"
   ]
  }
 ],
 "metadata": {
  "colab": {
   "provenance": []
  },
  "kernelspec": {
   "display_name": "Python 3",
   "language": "python",
   "name": "python3"
  },
  "language_info": {
   "codemirror_mode": {
    "name": "ipython",
    "version": 3
   },
   "file_extension": ".py",
   "mimetype": "text/x-python",
   "name": "python",
   "nbconvert_exporter": "python",
   "pygments_lexer": "ipython3",
   "version": "3.10.0"
  }
 },
 "nbformat": 4,
 "nbformat_minor": 4
}
